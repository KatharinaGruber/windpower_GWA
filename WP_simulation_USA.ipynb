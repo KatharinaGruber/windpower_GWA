{
 "cells": [
  {
   "cell_type": "code",
   "execution_count": 1,
   "metadata": {},
   "outputs": [],
   "source": [
    "import datetime\n",
    "import math\n",
    "import numpy as np\n",
    "import os\n",
    "import pandas as pd\n",
    "import rasterio\n",
    "import seaborn as sns\n",
    "import statsmodels.api as sm\n",
    "import xarray as xr\n",
    "\n",
    "from functools import reduce\n",
    "from matplotlib import pyplot as plt\n",
    "from scipy.interpolate import interp1d\n",
    "\n",
    "from utils import power_curve\n",
    "from utils import windpower_simulation_era5\n",
    "from utils import windpower_simulation_merra2"
   ]
  },
  {
   "cell_type": "code",
   "execution_count": 2,
   "metadata": {},
   "outputs": [],
   "source": [
    "from dask.diagnostics import ProgressBar\n",
    "ProgressBar().register()"
   ]
  },
  {
   "cell_type": "code",
   "execution_count": 3,
   "metadata": {},
   "outputs": [],
   "source": [
    "usa_path = \"/data/users/kgruber/other-data/USA\"\n",
    "results_path = \"/data/users/kgruber/results/USA\"\n",
    "mer_path = \"/data/users/kgruber/Data/MERRA/USA\"\n",
    "era_path = \"/data/users/kgruber/Data/era5/USA\""
   ]
  },
  {
   "cell_type": "markdown",
   "metadata": {},
   "source": [
    "load locations of wind power plants and complete data"
   ]
  },
  {
   "cell_type": "code",
   "execution_count": 4,
   "metadata": {},
   "outputs": [],
   "source": [
    "windturbines = pd.read_csv(usa_path+\"/windturbines_usa.csv\",delimiter=';')\n",
    "# fill in missing data\n",
    "# commissioning dates\n",
    "y = windturbines.p_year.fillna(windturbines.p_year.mean().round(0))\n",
    "# capacities - fill with yearly mean\n",
    "wt = windturbines.dropna(subset=['t_cap'])\n",
    "y_cap = wt.t_cap.groupby(wt.p_year).mean().reindex(range(1982,2020)).ffill()\n",
    "cap = windturbines.set_index(y.values).t_cap.fillna(y_cap).values\n",
    "cap[np.isnan(cap)] = y_cap[1982] # fill missing values of 1981 with value of 1982, because none for 1981\n",
    "# hub heights - fill with yearly mean\n",
    "wt = windturbines.dropna(subset=['t_hh'])\n",
    "y_hh = wt.t_hh.groupby(wt.p_year).mean().reindex(range(1981,2020)).ffill().bfill()\n",
    "hh = windturbines.set_index(y.values).t_hh.fillna(y_hh).values\n",
    "\n",
    "# make commissioning dates - year is given -> use middle of year\n",
    "t = [np.datetime64(str(int(year))+\"-06-01T00:00:00\") for year in y]\n",
    "\n",
    "# calculate specific power - regress rotor diameter from height where both are given\n",
    "hh_rd = windturbines[['t_hh','t_rd']].dropna()\n",
    "model = sm.OLS(hh_rd.t_rd, hh_rd.t_hh).fit()\n",
    "mis_rd = model.predict(hh[np.isnan(windturbines.t_rd)])\n",
    "rd = windturbines.t_rd.copy(deep=True)\n",
    "rd[np.isnan(windturbines.t_rd)] = mis_rd\n",
    "sp = cap/(rd**2*math.pi/4)\n",
    "\n",
    "# join data making a multiindex with time and state\n",
    "time_state = tuples = tuple(zip(list(windturbines.t_state),t))\n",
    "mi = pd.MultiIndex.from_tuples(time_state, names=['state', 'time'])\n",
    "turbine_data = pd.DataFrame({'capacity':cap,\n",
    "                             'height':hh,\n",
    "                             'lon':windturbines.xlong.values,\n",
    "                             'lat':windturbines.ylat.values,\n",
    "                             'sp':sp.values},index = mi)\n",
    "\n",
    "# remove Guam because it's outside\n",
    "turbine_data = turbine_data.drop('GU',axis=0,level=0)\n",
    "\n",
    "# add index\n",
    "turbine_data['ind'] = range(turbine_data.shape[0])"
   ]
  },
  {
   "cell_type": "markdown",
   "metadata": {},
   "source": [
    "# Simulate wind power with MERRA-2"
   ]
  },
  {
   "cell_type": "markdown",
   "metadata": {},
   "source": [
    "load rea data"
   ]
  },
  {
   "cell_type": "code",
   "execution_count": 5,
   "metadata": {},
   "outputs": [],
   "source": [
    "rea_path = mer_path\n",
    "\n",
    "chk = {\n",
    "    \"time\" : 38\n",
    "}\n",
    "data = xr.open_mfdataset(rea_path+\"/*.nc\",chunks=chk)"
   ]
  },
  {
   "cell_type": "markdown",
   "metadata": {},
   "source": [
    "Create dataframe with sequence the size of MERRA-2 grid to find out which turbines interpolate to the same point"
   ]
  },
  {
   "cell_type": "code",
   "execution_count": 6,
   "metadata": {},
   "outputs": [
    {
     "name": "stdout",
     "output_type": "stream",
     "text": [
      "[########################################] | 100% Completed |  0.4s\n",
      "[########################################] | 100% Completed |  0.1s\n"
     ]
    }
   ],
   "source": [
    "in_seq = xr.Dataset({'x':(['lat','lon'],\n",
    "                          np.array(range(data.DISPH.isel(time=0).values.size)).reshape(data.DISPH.isel(time=0).values.shape))},\n",
    "                     coords = {'lat':data.lat.values,\n",
    "                               'lon':data.lon.values})\n",
    "# interpolate to indices\n",
    "ip = in_seq.interp(coords={\"lon\":xr.DataArray(turbine_data.lon,dims='location'),\n",
    "                           \"lat\":xr.DataArray(turbine_data.lat,dims='location')},method=\"nearest\").to_dataframe()"
   ]
  },
  {
   "cell_type": "markdown",
   "metadata": {},
   "source": [
    "Load GWA data and extract values at locations to find unique locations"
   ]
  },
  {
   "cell_type": "code",
   "execution_count": 7,
   "metadata": {},
   "outputs": [],
   "source": [
    "GWA_USA = xr.open_rasterio(usa_path+'/GWA/GWA_USA50m.tif')\n",
    "# three regions are not included in the continental USA region: Alaska, Haitii and Puerto Rico\n",
    "GWA_AK = xr.open_rasterio(usa_path+'/GWA/GWA_AK50m.tif')\n",
    "GWA_HI = xr.open_rasterio(usa_path+'/GWA/GWA_HI50m.tif')\n",
    "GWA_PR = xr.open_rasterio(usa_path+'/GWA/GWA_PR50m.tif')"
   ]
  },
  {
   "cell_type": "code",
   "execution_count": 8,
   "metadata": {},
   "outputs": [
    {
     "name": "stderr",
     "output_type": "stream",
     "text": [
      "/home/kgruber/.conda/envs/py37/lib/python3.7/site-packages/IPython/core/interactiveshell.py:2854: PerformanceWarning: indexing past lexsort depth may impact performance.\n",
      "  raw_cell, store_history, silent, shell_futures)\n",
      "/home/kgruber/.conda/envs/py37/lib/python3.7/site-packages/IPython/core/interactiveshell.py:2854: PerformanceWarning: indexing past lexsort depth may impact performance.\n",
      "  raw_cell, store_history, silent, shell_futures)\n",
      "/home/kgruber/.conda/envs/py37/lib/python3.7/site-packages/IPython/core/interactiveshell.py:2854: PerformanceWarning: indexing past lexsort depth may impact performance.\n",
      "  raw_cell, store_history, silent, shell_futures)\n"
     ]
    }
   ],
   "source": [
    "# interpolate GWA to all locations and compare if same locations from rea dataset match same locations from GWA\n",
    "GWA_ip = GWA_USA.sel(band=1).interp(coords={\"x\":xr.DataArray(turbine_data.lon,dims='location'),\n",
    "                                            \"y\":xr.DataArray(turbine_data.lat,dims='location')},\n",
    "                                    method=\"nearest\").to_dataframe(name='GWA')\n",
    "GWA_ak = GWA_AK.sel(band=1).interp(coords={\"x\":xr.DataArray(turbine_data.xs('AK').lon,dims='location'),\n",
    "                                           \"y\":xr.DataArray(turbine_data.xs('AK').lat,dims='location')},\n",
    "                                   method=\"nearest\").to_dataframe(name='GWA')\n",
    "GWA_ip.loc[GWA_ip.index.get_level_values(0).values=='AK','GWA'] = GWA_ak.GWA.values\n",
    "GWA_hi = GWA_HI.sel(band=1).interp(coords={\"x\":xr.DataArray(turbine_data.xs('HI').lon,dims='location'),\n",
    "                                           \"y\":xr.DataArray(turbine_data.xs('HI').lat,dims='location')},\n",
    "                                   method=\"nearest\").to_dataframe(name='GWA')\n",
    "GWA_ip.loc[GWA_ip.index.get_level_values(0).values=='HI','GWA'] = GWA_hi.GWA.values\n",
    "GWA_pr = GWA_PR.sel(band=1).interp(coords={\"x\":xr.DataArray(turbine_data.xs('PR').lon,dims='location'),\n",
    "                                           \"y\":xr.DataArray(turbine_data.xs('PR').lat,dims='location')},\n",
    "                                   method=\"nearest\").to_dataframe(name='GWA')\n",
    "GWA_ip.loc[GWA_ip.index.get_level_values(0).values=='PR','GWA'] = GWA_pr.GWA.values"
   ]
  },
  {
   "cell_type": "markdown",
   "metadata": {},
   "source": [
    "create labels for accumulating data to determine which configuartions are unique\n",
    "lavel consists of:\n",
    "- state (because some windturbines interpolate to same point in grid but are in different states)\n",
    "- interpolation point\n",
    "- commissioning date\n",
    "- specific power\n",
    "- hub height"
   ]
  },
  {
   "cell_type": "code",
   "execution_count": 9,
   "metadata": {},
   "outputs": [
    {
     "name": "stdout",
     "output_type": "stream",
     "text": [
      "96.8% of locations can be reused\n",
      "Only 1906 of 59337 turbines need to be interpolated\n"
     ]
    }
   ],
   "source": [
    "lbl_mer = reduce(np.core.defchararray.add,[np.array(ip.index.get_level_values(0)).astype('U'), \"_\",\n",
    "                                           np.array(ip.x).astype('U'),'_',\n",
    "                                           ip.index.get_level_values(1).astype('U'),\"_sp\",\n",
    "                                           turbine_data.sp.astype('U'),\"_hh\",\n",
    "                                           turbine_data.height.astype('U')])\n",
    "print(str(round(1-len(np.unique(lbl_mer))/len(lbl_mer),3)*100)+ \"% of locations can be reused\\n\"+\n",
    "      \"Only \"+str(len(np.unique(lbl_mer)))+\" of \"+str(len(lbl_mer))+\" turbines need to be interpolated\")"
   ]
  },
  {
   "cell_type": "code",
   "execution_count": 10,
   "metadata": {},
   "outputs": [
    {
     "name": "stdout",
     "output_type": "stream",
     "text": [
      "13.5% of locations can be reused\n",
      "Only 51327 of 59337 turbines need to be interpolated\n"
     ]
    }
   ],
   "source": [
    "lbl_mer_gwa = reduce(np.core.defchararray.add,[np.array(ip.index.get_level_values(0)).astype('U'), \"_\",\n",
    "                                               np.array(ip.x).astype('U'),'_',\n",
    "                                               ip.index.get_level_values(1).astype('U'),\"_sp\",\n",
    "                                               turbine_data.sp.astype('U'),\"_hh\",\n",
    "                                               turbine_data.height.astype('U'), \"_gwa\",\n",
    "                                               GWA_ip.GWA.astype('U')])\n",
    "print(str(round(1-len(np.unique(lbl_mer_gwa))/len(lbl_mer_gwa),3)*100)+ \"% of locations can be reused\\n\"+\n",
    "      \"Only \"+str(len(np.unique(lbl_mer_gwa)))+\" of \"+str(len(lbl_mer_gwa))+\" turbines need to be interpolated\")"
   ]
  },
  {
   "cell_type": "markdown",
   "metadata": {},
   "source": [
    "Aggregate turbine data - sum up capacities for same locations and same specifications (hubheight, specific power)"
   ]
  },
  {
   "cell_type": "code",
   "execution_count": 11,
   "metadata": {},
   "outputs": [],
   "source": [
    "# without GWA\n",
    "cap_ag = turbine_data.capacity.groupby(lbl_mer).sum().values\n",
    "ind_ag = turbine_data.ind.groupby(lbl_mer).min().values\n",
    "state_ag = turbine_data.index.get_level_values(0).values[ind_ag]\n",
    "comm_ag = turbine_data.index.get_level_values(1).values[ind_ag]\n",
    "lon_ag = turbine_data.lon.values[ind_ag]\n",
    "lat_ag = turbine_data.lat.values[ind_ag]\n",
    "sp_ag = turbine_data.sp.values[ind_ag]\n",
    "hh_ag = turbine_data.height.values[ind_ag]\n",
    "turbine_data_mer = pd.DataFrame({'state':state_ag,\n",
    "                                 'commissioning':comm_ag,\n",
    "                                 'capacity':cap_ag,\n",
    "                                 'lon':lon_ag,\n",
    "                                 'lat':lat_ag,\n",
    "                                 'sp':sp_ag,\n",
    "                                 'height':hh_ag})\n",
    "\n",
    "# with GWA\n",
    "cap_ag = turbine_data.capacity.groupby(lbl_mer_gwa).sum().values\n",
    "ind_ag = turbine_data.ind.groupby(lbl_mer_gwa).min().values\n",
    "state_ag = turbine_data.index.get_level_values(0).values[ind_ag]\n",
    "comm_ag = turbine_data.index.get_level_values(1).values[ind_ag]\n",
    "lon_ag = turbine_data.lon.values[ind_ag]\n",
    "lat_ag = turbine_data.lat.values[ind_ag]\n",
    "sp_ag = turbine_data.sp.values[ind_ag]\n",
    "hh_ag = turbine_data.height.values[ind_ag]\n",
    "turbine_data_mer_gwa = pd.DataFrame({'state':state_ag,\n",
    "                                     'commissioning':comm_ag,\n",
    "                                     'capacity':cap_ag,\n",
    "                                     'lon':lon_ag,\n",
    "                                     'lat':lat_ag,\n",
    "                                     'sp':sp_ag,\n",
    "                                     'height':hh_ag})"
   ]
  },
  {
   "cell_type": "markdown",
   "metadata": {},
   "source": [
    "### Simulate without GWA"
   ]
  },
  {
   "cell_type": "code",
   "execution_count": 118,
   "metadata": {},
   "outputs": [
    {
     "name": "stderr",
     "output_type": "stream",
     "text": [
      "/home/kgruber/.conda/envs/py37/lib/python3.7/site-packages/dask/array/blockwise.py:241: UserWarning: The da.atop function has moved to da.blockwise\n",
      "  warnings.warn(\"The da.atop function has moved to da.blockwise\")\n"
     ]
    },
    {
     "name": "stdout",
     "output_type": "stream",
     "text": [
      "[########################################] | 100% Completed | 15hr 57min 27.8s\n"
     ]
    }
   ],
   "source": [
    "wps = windpower_simulation_merra2(data,\n",
    "                                  turbine_data_mer.height.values,\n",
    "                                  turbine_data_mer.capacity.values,\n",
    "                                  turbine_data_mer.sp.values,\n",
    "                                  turbine_data_mer.lon.values,\n",
    "                                  turbine_data_mer.lat.values,\n",
    "                                  turbine_data_mer.commissioning.values)\n",
    "# save as netcdf\n",
    "wps.to_dataset(name='wp').to_netcdf(results_path+\"/windpower_stat_MERRA2.nc\") # takes 16h"
   ]
  },
  {
   "cell_type": "markdown",
   "metadata": {},
   "source": [
    "### Simulate with GWA"
   ]
  },
  {
   "cell_type": "code",
   "execution_count": null,
   "metadata": {},
   "outputs": [
    {
     "name": "stdout",
     "output_type": "stream",
     "text": [
      "AK\n"
     ]
    },
    {
     "name": "stderr",
     "output_type": "stream",
     "text": [
      "/home/kgruber/.conda/envs/py37/lib/python3.7/site-packages/dask/array/blockwise.py:241: UserWarning: The da.atop function has moved to da.blockwise\n",
      "  warnings.warn(\"The da.atop function has moved to da.blockwise\")\n"
     ]
    },
    {
     "name": "stdout",
     "output_type": "stream",
     "text": [
      "[########################################] | 100% Completed |  1hr 10min  5.4s\n",
      "AR\n"
     ]
    },
    {
     "name": "stderr",
     "output_type": "stream",
     "text": [
      "/home/kgruber/.conda/envs/py37/lib/python3.7/site-packages/dask/array/blockwise.py:241: UserWarning: The da.atop function has moved to da.blockwise\n",
      "  warnings.warn(\"The da.atop function has moved to da.blockwise\")\n"
     ]
    },
    {
     "name": "stdout",
     "output_type": "stream",
     "text": [
      "[########################################] | 100% Completed | 28min  7.0s\n",
      "AZ\n"
     ]
    },
    {
     "name": "stderr",
     "output_type": "stream",
     "text": [
      "/home/kgruber/.conda/envs/py37/lib/python3.7/site-packages/dask/array/blockwise.py:241: UserWarning: The da.atop function has moved to da.blockwise\n",
      "  warnings.warn(\"The da.atop function has moved to da.blockwise\")\n"
     ]
    },
    {
     "name": "stdout",
     "output_type": "stream",
     "text": [
      "[########################################] | 100% Completed |  1hr 25min 15.7s\n",
      "CA\n"
     ]
    },
    {
     "name": "stderr",
     "output_type": "stream",
     "text": [
      "/home/kgruber/.conda/envs/py37/lib/python3.7/site-packages/dask/array/blockwise.py:241: UserWarning: The da.atop function has moved to da.blockwise\n",
      "  warnings.warn(\"The da.atop function has moved to da.blockwise\")\n"
     ]
    },
    {
     "name": "stdout",
     "output_type": "stream",
     "text": [
      "[###################################     ] | 89% Completed | 21hr 29min  8.9s"
     ]
    }
   ],
   "source": [
    "for state in np.unique(turbine_data_mer_gwa.state.values):\n",
    "    print(state)\n",
    "    if state == 'AK':\n",
    "        GWA = GWA_AK\n",
    "    elif state == 'HI':\n",
    "            GWA = GWA_HI\n",
    "    elif state == 'PR':\n",
    "            GWA = GWA_PR\n",
    "    else:\n",
    "        GWA = GWA_USA\n",
    "    ind = turbine_data_mer_gwa.state == state\n",
    "    wps = windpower_simulation_merra2(data,\n",
    "                                      turbine_data_mer_gwa.height[ind].values,\n",
    "                                      turbine_data_mer_gwa.capacity[ind].values,\n",
    "                                      turbine_data_mer_gwa.sp[ind].values,\n",
    "                                      turbine_data_mer_gwa.lon[ind].values,\n",
    "                                      turbine_data_mer_gwa.lat[ind].values,\n",
    "                                      turbine_data_mer_gwa.commissioning[ind].values,\n",
    "                                      GWA)\n",
    "    # save as netcdf\n",
    "    wps.to_dataset(name='wp').to_netcdf(results_path+\"/windpower_\"+state+\"_MERRA2_GWA.nc\")"
   ]
  },
  {
   "cell_type": "markdown",
   "metadata": {},
   "source": [
    "# Simulate wind power with ERA5"
   ]
  },
  {
   "cell_type": "markdown",
   "metadata": {},
   "source": [
    "load rea data"
   ]
  },
  {
   "cell_type": "code",
   "execution_count": 138,
   "metadata": {},
   "outputs": [],
   "source": [
    "rea_path = era_path\n",
    "\n",
    "chk = {\n",
    "    \"time\" : 38\n",
    "}\n",
    "data = xr.open_mfdataset(rea_path+\"/*.nc\",chunks=chk)"
   ]
  },
  {
   "cell_type": "markdown",
   "metadata": {},
   "source": [
    "Create dataframe with sequence the size of MERRA-2 grid to find out which turbines interpolate to the same point"
   ]
  },
  {
   "cell_type": "code",
   "execution_count": 139,
   "metadata": {},
   "outputs": [
    {
     "name": "stdout",
     "output_type": "stream",
     "text": [
      "[########################################] | 100% Completed |  0.1s\n",
      "[########################################] | 100% Completed |  0.1s\n"
     ]
    }
   ],
   "source": [
    "in_seq = xr.Dataset({'x':(['lat','lon'],\n",
    "                          np.array(range(data.v10.isel(time=0).values.size)).reshape(data.v10.isel(time=0).values.shape))},\n",
    "                     coords = {'lat':data.latitude.values,\n",
    "                               'lon':data.longitude.values})\n",
    "# interpolate to indices\n",
    "ip = in_seq.interp(coords={\"lon\":xr.DataArray(turbine_data.lon,dims='location'),\n",
    "                           \"lat\":xr.DataArray(turbine_data.lat,dims='location')},method=\"nearest\").to_dataframe()"
   ]
  },
  {
   "cell_type": "markdown",
   "metadata": {},
   "source": [
    "Load GWA data and extract values at locations to find unique locations"
   ]
  },
  {
   "cell_type": "code",
   "execution_count": null,
   "metadata": {},
   "outputs": [],
   "source": [
    "GWA_USA = xr.open_rasterio(usa_path+'/GWA/GWA_USA100m.tif')\n",
    "# three regions are not included in the continental USA region: Alaska, Haitii and Puerto Rico\n",
    "GWA_AK = xr.open_rasterio(usa_path+'/GWA/GWA_AK100m.tif')\n",
    "GWA_HI = xr.open_rasterio(usa_path+'/GWA/GWA_HI100m.tif')\n",
    "GWA_PR = xr.open_rasterio(usa_path+'/GWA/GWA_PR100m.tif')"
   ]
  },
  {
   "cell_type": "code",
   "execution_count": null,
   "metadata": {},
   "outputs": [],
   "source": [
    "# interpolate GWA to all locations and compare if same locations from rea dataset match same locations from GWA\n",
    "GWA_ip = GWA_USA.sel(band=1).interp(coords={\"x\":xr.DataArray(turbine_data.lon,dims='location'),\n",
    "                                            \"y\":xr.DataArray(turbine_data.lat,dims='location')},\n",
    "                                    method=\"nearest\").to_dataframe(name='GWA')\n",
    "GWA_ak = GWA_AK.sel(band=1).interp(coords={\"x\":xr.DataArray(turbine_data.xs('AK').lon,dims='location'),\n",
    "                                           \"y\":xr.DataArray(turbine_data.xs('AK').lat,dims='location')},\n",
    "                                   method=\"nearest\").to_dataframe(name='GWA')\n",
    "GWA_ip.loc[GWA_ip.index.get_level_values(0).values=='AK','GWA'] = GWA_ak.GWA.values\n",
    "GWA_hi = GWA_HI.sel(band=1).interp(coords={\"x\":xr.DataArray(turbine_data.xs('HI').lon,dims='location'),\n",
    "                                           \"y\":xr.DataArray(turbine_data.xs('HI').lat,dims='location')},\n",
    "                                   method=\"nearest\").to_dataframe(name='GWA')\n",
    "GWA_ip.loc[GWA_ip.index.get_level_values(0).values=='HI','GWA'] = GWA_hi.GWA.values\n",
    "GWA_pr = GWA_PR.sel(band=1).interp(coords={\"x\":xr.DataArray(turbine_data.xs('PR').lon,dims='location'),\n",
    "                                           \"y\":xr.DataArray(turbine_data.xs('PR').lat,dims='location')},\n",
    "                                   method=\"nearest\").to_dataframe(name='GWA')\n",
    "GWA_ip.loc[GWA_ip.index.get_level_values(0).values=='PR','GWA'] = GWA_pr.GWA.values"
   ]
  },
  {
   "cell_type": "markdown",
   "metadata": {},
   "source": [
    "create labels for accumulating data to determine which configuartions are unique\n",
    "lavel consists of:\n",
    "- state (because some windturbines interpolate to same point in grid but are in different states)\n",
    "- interpolation point\n",
    "- commissioning date\n",
    "- specific power\n",
    "- hub height"
   ]
  },
  {
   "cell_type": "markdown",
   "metadata": {},
   "source": [
    "#### labels without GWA"
   ]
  },
  {
   "cell_type": "code",
   "execution_count": 140,
   "metadata": {},
   "outputs": [
    {
     "name": "stdout",
     "output_type": "stream",
     "text": [
      "96.0% of locations can be reused\n",
      "Only 2373 of 59337 turbines need to be interpolated\n"
     ]
    }
   ],
   "source": [
    "lbl_era = reduce(np.core.defchararray.add,[np.array(ip.index.get_level_values(0)).astype('U'), \"_\",\n",
    "                                           np.array(ip.x).astype('U'),'_',\n",
    "                                           ip.index.get_level_values(1).astype('U'),\"_sp\",\n",
    "                                           turbine_data.sp.astype('U'),\"_hh\",\n",
    "                                           turbine_data.height.astype('U')])\n",
    "print(str(round(1-len(np.unique(lbl_era))/len(lbl_era),3)*100)+ \"% of locations can be reused\\n\"+\n",
    "      \"Only \"+str(len(np.unique(lbl_era)))+\" of \"+str(len(lbl_era))+\" turbines need to be interpolated\")"
   ]
  },
  {
   "cell_type": "markdown",
   "metadata": {},
   "source": [
    "#### labels with GWA"
   ]
  },
  {
   "cell_type": "code",
   "execution_count": null,
   "metadata": {},
   "outputs": [],
   "source": [
    "lbl_era_gwa = reduce(np.core.defchararray.add,[np.array(ip.index.get_level_values(0)).astype('U'), \"_\",\n",
    "                                               np.array(ip.x).astype('U'),'_',\n",
    "                                               ip.index.get_level_values(1).astype('U'),\"_sp\",\n",
    "                                               turbine_data.sp.astype('U'),\"_hh\",\n",
    "                                               turbine_data.height.astype('U'), \"_gwa\",\n",
    "                                               GWA_ip.GWA.astype('U')])\n",
    "print(str(round(1-len(np.unique(lbl_era_gwa))/len(lbl_era_gwa),3)*100)+ \"% of locations can be reused\\n\"+\n",
    "      \"Only \"+str(len(np.unique(lbl_era_gwa)))+\" of \"+str(len(lbl_era_gwa))+\" turbines need to be interpolated\")"
   ]
  },
  {
   "cell_type": "markdown",
   "metadata": {},
   "source": [
    "Aggregate turbine data - sum up capacities for same locations and same specifications (hubheight, specific power)"
   ]
  },
  {
   "cell_type": "code",
   "execution_count": 141,
   "metadata": {},
   "outputs": [],
   "source": [
    "# without GWA\n",
    "cap_ag = turbine_data.capacity.groupby(lbl_era).sum().values\n",
    "ind_ag = turbine_data.ind.groupby(lbl_era).min().values\n",
    "state_ag = turbine_data.index.get_level_values(0).values[ind_ag]\n",
    "comm_ag = turbine_data.index.get_level_values(1).values[ind_ag]\n",
    "lon_ag = turbine_data.lon.values[ind_ag]\n",
    "lat_ag = turbine_data.lat.values[ind_ag]\n",
    "sp_ag = turbine_data.sp.values[ind_ag]\n",
    "hh_ag = turbine_data.height.values[ind_ag]\n",
    "turbine_data_era = pd.DataFrame({'state':state_ag,\n",
    "                                 'commissioning':comm_ag,\n",
    "                                 'capacity':cap_ag,\n",
    "                                 'lon':lon_ag,\n",
    "                                 'lat':lat_ag,\n",
    "                                 'sp':sp_ag,\n",
    "                                 'height':hh_ag})\n",
    "\n",
    "# with GWA\n",
    "cap_ag = turbine_data.capacity.groupby(lbl_era_gwa).sum().values\n",
    "ind_ag = turbine_data.ind.groupby(lbl_era_gwa).min().values\n",
    "state_ag = turbine_data.index.get_level_values(0).values[ind_ag]\n",
    "comm_ag = turbine_data.index.get_level_values(1).values[ind_ag]\n",
    "lon_ag = turbine_data.lon.values[ind_ag]\n",
    "lat_ag = turbine_data.lat.values[ind_ag]\n",
    "sp_ag = turbine_data.sp.values[ind_ag]\n",
    "hh_ag = turbine_data.height.values[ind_ag]\n",
    "turbine_data_era_gwa = pd.DataFrame({'state':state_ag,\n",
    "                                     'commissioning':comm_ag,\n",
    "                                     'capacity':cap_ag,\n",
    "                                     'lon':lon_ag,\n",
    "                                     'lat':lat_ag,\n",
    "                                     'sp':sp_ag,\n",
    "                                     'height':hh_ag})"
   ]
  },
  {
   "cell_type": "markdown",
   "metadata": {},
   "source": [
    "### Simulate without GWA"
   ]
  },
  {
   "cell_type": "code",
   "execution_count": 131,
   "metadata": {},
   "outputs": [
    {
     "name": "stderr",
     "output_type": "stream",
     "text": [
      "/home/kgruber/.conda/envs/py37/lib/python3.7/site-packages/dask/array/blockwise.py:241: UserWarning: The da.atop function has moved to da.blockwise\n",
      "  warnings.warn(\"The da.atop function has moved to da.blockwise\")\n"
     ]
    },
    {
     "name": "stdout",
     "output_type": "stream",
     "text": [
      "[########################################] | 100% Completed | 15hr 24min 10.5s\n"
     ]
    }
   ],
   "source": [
    "wps = windpower_simulation_era5(data,\n",
    "                                turbine_data_era.height.values,\n",
    "                                turbine_data_era.capacity.values,\n",
    "                                turbine_data_era.sp.values,\n",
    "                                turbine_data_era.lon.values,\n",
    "                                turbine_data_era.lat.values,\n",
    "                                turbine_data_era.commissioning.values)\n",
    "# save as netcdf\n",
    "wps.to_dataset(name='wp').to_netcdf(results_path+\"/windpower_stat_ERA5.nc\") # takes 16h5min"
   ]
  },
  {
   "cell_type": "markdown",
   "metadata": {},
   "source": [
    "### Simulate with GWA"
   ]
  },
  {
   "cell_type": "code",
   "execution_count": 133,
   "metadata": {},
   "outputs": [
    {
     "name": "stdout",
     "output_type": "stream",
     "text": [
      "AK\n"
     ]
    },
    {
     "name": "stderr",
     "output_type": "stream",
     "text": [
      "/home/kgruber/.conda/envs/py37/lib/python3.7/site-packages/dask/array/blockwise.py:241: UserWarning: The da.atop function has moved to da.blockwise\n",
      "  warnings.warn(\"The da.atop function has moved to da.blockwise\")\n"
     ]
    },
    {
     "name": "stdout",
     "output_type": "stream",
     "text": [
      "[########################################] | 100% Completed | 27min 46.7s\n",
      "AR\n"
     ]
    },
    {
     "name": "stderr",
     "output_type": "stream",
     "text": [
      "/home/kgruber/.conda/envs/py37/lib/python3.7/site-packages/dask/array/blockwise.py:241: UserWarning: The da.atop function has moved to da.blockwise\n",
      "  warnings.warn(\"The da.atop function has moved to da.blockwise\")\n"
     ]
    },
    {
     "name": "stdout",
     "output_type": "stream",
     "text": [
      "[########################################] | 100% Completed |  8min  4.3s\n",
      "AZ\n"
     ]
    },
    {
     "name": "stderr",
     "output_type": "stream",
     "text": [
      "/home/kgruber/.conda/envs/py37/lib/python3.7/site-packages/dask/array/blockwise.py:241: UserWarning: The da.atop function has moved to da.blockwise\n",
      "  warnings.warn(\"The da.atop function has moved to da.blockwise\")\n"
     ]
    },
    {
     "name": "stdout",
     "output_type": "stream",
     "text": [
      "[########################################] | 100% Completed | 10min 13.1s\n",
      "CA\n"
     ]
    },
    {
     "name": "stderr",
     "output_type": "stream",
     "text": [
      "/home/kgruber/.conda/envs/py37/lib/python3.7/site-packages/dask/array/blockwise.py:241: UserWarning: The da.atop function has moved to da.blockwise\n",
      "  warnings.warn(\"The da.atop function has moved to da.blockwise\")\n"
     ]
    },
    {
     "name": "stdout",
     "output_type": "stream",
     "text": [
      "[########################################] | 100% Completed |  1hr 28min  3.3s\n",
      "CO\n"
     ]
    },
    {
     "name": "stderr",
     "output_type": "stream",
     "text": [
      "/home/kgruber/.conda/envs/py37/lib/python3.7/site-packages/dask/array/blockwise.py:241: UserWarning: The da.atop function has moved to da.blockwise\n",
      "  warnings.warn(\"The da.atop function has moved to da.blockwise\")\n"
     ]
    },
    {
     "name": "stdout",
     "output_type": "stream",
     "text": [
      "[########################################] | 100% Completed | 28min 29.4s\n",
      "CT\n"
     ]
    },
    {
     "name": "stderr",
     "output_type": "stream",
     "text": [
      "/home/kgruber/.conda/envs/py37/lib/python3.7/site-packages/dask/array/blockwise.py:241: UserWarning: The da.atop function has moved to da.blockwise\n",
      "  warnings.warn(\"The da.atop function has moved to da.blockwise\")\n"
     ]
    },
    {
     "name": "stdout",
     "output_type": "stream",
     "text": [
      "[########################################] | 100% Completed |  8min 15.8s\n",
      "DE\n"
     ]
    },
    {
     "name": "stderr",
     "output_type": "stream",
     "text": [
      "/home/kgruber/.conda/envs/py37/lib/python3.7/site-packages/dask/array/blockwise.py:241: UserWarning: The da.atop function has moved to da.blockwise\n",
      "  warnings.warn(\"The da.atop function has moved to da.blockwise\")\n"
     ]
    },
    {
     "name": "stdout",
     "output_type": "stream",
     "text": [
      "[########################################] | 100% Completed |  7min 58.0s\n",
      "FL\n"
     ]
    },
    {
     "name": "stderr",
     "output_type": "stream",
     "text": [
      "/home/kgruber/.conda/envs/py37/lib/python3.7/site-packages/dask/array/blockwise.py:241: UserWarning: The da.atop function has moved to da.blockwise\n",
      "  warnings.warn(\"The da.atop function has moved to da.blockwise\")\n"
     ]
    },
    {
     "name": "stdout",
     "output_type": "stream",
     "text": [
      "[########################################] | 100% Completed |  8min  2.3s\n",
      "HI\n"
     ]
    },
    {
     "name": "stderr",
     "output_type": "stream",
     "text": [
      "/home/kgruber/.conda/envs/py37/lib/python3.7/site-packages/dask/array/blockwise.py:241: UserWarning: The da.atop function has moved to da.blockwise\n",
      "  warnings.warn(\"The da.atop function has moved to da.blockwise\")\n"
     ]
    },
    {
     "name": "stdout",
     "output_type": "stream",
     "text": [
      "[########################################] | 100% Completed | 11min 58.7s\n",
      "IA\n"
     ]
    },
    {
     "name": "stderr",
     "output_type": "stream",
     "text": [
      "/home/kgruber/.conda/envs/py37/lib/python3.7/site-packages/dask/array/blockwise.py:241: UserWarning: The da.atop function has moved to da.blockwise\n",
      "  warnings.warn(\"The da.atop function has moved to da.blockwise\")\n"
     ]
    },
    {
     "name": "stdout",
     "output_type": "stream",
     "text": [
      "[########################################] | 100% Completed |  1hr 22min 53.3s\n",
      "ID\n"
     ]
    },
    {
     "name": "stderr",
     "output_type": "stream",
     "text": [
      "/home/kgruber/.conda/envs/py37/lib/python3.7/site-packages/dask/array/blockwise.py:241: UserWarning: The da.atop function has moved to da.blockwise\n",
      "  warnings.warn(\"The da.atop function has moved to da.blockwise\")\n"
     ]
    },
    {
     "name": "stdout",
     "output_type": "stream",
     "text": [
      "[########################################] | 100% Completed | 14min 31.6s\n",
      "IL\n"
     ]
    },
    {
     "name": "stderr",
     "output_type": "stream",
     "text": [
      "/home/kgruber/.conda/envs/py37/lib/python3.7/site-packages/dask/array/blockwise.py:241: UserWarning: The da.atop function has moved to da.blockwise\n",
      "  warnings.warn(\"The da.atop function has moved to da.blockwise\")\n"
     ]
    },
    {
     "name": "stdout",
     "output_type": "stream",
     "text": [
      "[########################################] | 100% Completed | 40min 31.6s\n",
      "IN\n"
     ]
    },
    {
     "name": "stderr",
     "output_type": "stream",
     "text": [
      "/home/kgruber/.conda/envs/py37/lib/python3.7/site-packages/dask/array/blockwise.py:241: UserWarning: The da.atop function has moved to da.blockwise\n",
      "  warnings.warn(\"The da.atop function has moved to da.blockwise\")\n"
     ]
    },
    {
     "name": "stdout",
     "output_type": "stream",
     "text": [
      "[########################################] | 100% Completed | 18min 50.7s\n",
      "KS\n"
     ]
    },
    {
     "name": "stderr",
     "output_type": "stream",
     "text": [
      "/home/kgruber/.conda/envs/py37/lib/python3.7/site-packages/dask/array/blockwise.py:241: UserWarning: The da.atop function has moved to da.blockwise\n",
      "  warnings.warn(\"The da.atop function has moved to da.blockwise\")\n"
     ]
    },
    {
     "name": "stdout",
     "output_type": "stream",
     "text": [
      "[########################################] | 100% Completed | 36min 38.7s\n",
      "MA\n"
     ]
    },
    {
     "name": "stderr",
     "output_type": "stream",
     "text": [
      "/home/kgruber/.conda/envs/py37/lib/python3.7/site-packages/dask/array/blockwise.py:241: UserWarning: The da.atop function has moved to da.blockwise\n",
      "  warnings.warn(\"The da.atop function has moved to da.blockwise\")\n"
     ]
    },
    {
     "name": "stdout",
     "output_type": "stream",
     "text": [
      "[########################################] | 100% Completed | 25min 58.3s\n",
      "MD\n"
     ]
    },
    {
     "name": "stderr",
     "output_type": "stream",
     "text": [
      "/home/kgruber/.conda/envs/py37/lib/python3.7/site-packages/dask/array/blockwise.py:241: UserWarning: The da.atop function has moved to da.blockwise\n",
      "  warnings.warn(\"The da.atop function has moved to da.blockwise\")\n"
     ]
    },
    {
     "name": "stdout",
     "output_type": "stream",
     "text": [
      "[########################################] | 100% Completed |  9min 42.4s\n",
      "ME\n"
     ]
    },
    {
     "name": "stderr",
     "output_type": "stream",
     "text": [
      "/home/kgruber/.conda/envs/py37/lib/python3.7/site-packages/dask/array/blockwise.py:241: UserWarning: The da.atop function has moved to da.blockwise\n",
      "  warnings.warn(\"The da.atop function has moved to da.blockwise\")\n"
     ]
    },
    {
     "name": "stdout",
     "output_type": "stream",
     "text": [
      "[########################################] | 100% Completed | 18min  8.8s\n",
      "MI\n"
     ]
    },
    {
     "name": "stderr",
     "output_type": "stream",
     "text": [
      "/home/kgruber/.conda/envs/py37/lib/python3.7/site-packages/dask/array/blockwise.py:241: UserWarning: The da.atop function has moved to da.blockwise\n",
      "  warnings.warn(\"The da.atop function has moved to da.blockwise\")\n"
     ]
    },
    {
     "name": "stdout",
     "output_type": "stream",
     "text": [
      "[########################################] | 100% Completed | 28min  3.0s\n",
      "MN\n"
     ]
    },
    {
     "name": "stderr",
     "output_type": "stream",
     "text": [
      "/home/kgruber/.conda/envs/py37/lib/python3.7/site-packages/dask/array/blockwise.py:241: UserWarning: The da.atop function has moved to da.blockwise\n",
      "  warnings.warn(\"The da.atop function has moved to da.blockwise\")\n"
     ]
    },
    {
     "name": "stdout",
     "output_type": "stream",
     "text": [
      "[########################################] | 100% Completed |  1hr  5min  5.2s\n",
      "MO\n"
     ]
    },
    {
     "name": "stderr",
     "output_type": "stream",
     "text": [
      "/home/kgruber/.conda/envs/py37/lib/python3.7/site-packages/dask/array/blockwise.py:241: UserWarning: The da.atop function has moved to da.blockwise\n",
      "  warnings.warn(\"The da.atop function has moved to da.blockwise\")\n"
     ]
    },
    {
     "name": "stdout",
     "output_type": "stream",
     "text": [
      "[########################################] | 100% Completed | 15min  0.3s\n",
      "MT\n"
     ]
    },
    {
     "name": "stderr",
     "output_type": "stream",
     "text": [
      "/home/kgruber/.conda/envs/py37/lib/python3.7/site-packages/dask/array/blockwise.py:241: UserWarning: The da.atop function has moved to da.blockwise\n",
      "  warnings.warn(\"The da.atop function has moved to da.blockwise\")\n"
     ]
    },
    {
     "name": "stdout",
     "output_type": "stream",
     "text": [
      "[########################################] | 100% Completed | 17min  7.3s\n",
      "NC\n"
     ]
    },
    {
     "name": "stderr",
     "output_type": "stream",
     "text": [
      "/home/kgruber/.conda/envs/py37/lib/python3.7/site-packages/dask/array/blockwise.py:241: UserWarning: The da.atop function has moved to da.blockwise\n",
      "  warnings.warn(\"The da.atop function has moved to da.blockwise\")\n"
     ]
    },
    {
     "name": "stdout",
     "output_type": "stream",
     "text": [
      "[########################################] | 100% Completed |  8min 17.5s\n",
      "ND\n"
     ]
    },
    {
     "name": "stderr",
     "output_type": "stream",
     "text": [
      "/home/kgruber/.conda/envs/py37/lib/python3.7/site-packages/dask/array/blockwise.py:241: UserWarning: The da.atop function has moved to da.blockwise\n",
      "  warnings.warn(\"The da.atop function has moved to da.blockwise\")\n"
     ]
    },
    {
     "name": "stdout",
     "output_type": "stream",
     "text": [
      "[########################################] | 100% Completed | 32min 34.7s\n",
      "NE\n"
     ]
    },
    {
     "name": "stderr",
     "output_type": "stream",
     "text": [
      "/home/kgruber/.conda/envs/py37/lib/python3.7/site-packages/dask/array/blockwise.py:241: UserWarning: The da.atop function has moved to da.blockwise\n",
      "  warnings.warn(\"The da.atop function has moved to da.blockwise\")\n"
     ]
    },
    {
     "name": "stdout",
     "output_type": "stream",
     "text": [
      "[########################################] | 100% Completed | 26min 24.6s\n",
      "NH\n"
     ]
    },
    {
     "name": "stderr",
     "output_type": "stream",
     "text": [
      "/home/kgruber/.conda/envs/py37/lib/python3.7/site-packages/dask/array/blockwise.py:241: UserWarning: The da.atop function has moved to da.blockwise\n",
      "  warnings.warn(\"The da.atop function has moved to da.blockwise\")\n"
     ]
    },
    {
     "name": "stdout",
     "output_type": "stream",
     "text": [
      "[########################################] | 100% Completed | 10min 31.5s\n",
      "NJ\n"
     ]
    },
    {
     "name": "stderr",
     "output_type": "stream",
     "text": [
      "/home/kgruber/.conda/envs/py37/lib/python3.7/site-packages/dask/array/blockwise.py:241: UserWarning: The da.atop function has moved to da.blockwise\n",
      "  warnings.warn(\"The da.atop function has moved to da.blockwise\")\n"
     ]
    },
    {
     "name": "stdout",
     "output_type": "stream",
     "text": [
      "[########################################] | 100% Completed |  8min 23.3s\n",
      "NM\n"
     ]
    },
    {
     "name": "stderr",
     "output_type": "stream",
     "text": [
      "/home/kgruber/.conda/envs/py37/lib/python3.7/site-packages/dask/array/blockwise.py:241: UserWarning: The da.atop function has moved to da.blockwise\n",
      "  warnings.warn(\"The da.atop function has moved to da.blockwise\")\n"
     ]
    },
    {
     "name": "stdout",
     "output_type": "stream",
     "text": [
      "[########################################] | 100% Completed | 25min  7.1s\n",
      "NV\n"
     ]
    },
    {
     "name": "stderr",
     "output_type": "stream",
     "text": [
      "/home/kgruber/.conda/envs/py37/lib/python3.7/site-packages/dask/array/blockwise.py:241: UserWarning: The da.atop function has moved to da.blockwise\n",
      "  warnings.warn(\"The da.atop function has moved to da.blockwise\")\n"
     ]
    },
    {
     "name": "stdout",
     "output_type": "stream",
     "text": [
      "[########################################] | 100% Completed |  9min  4.0s\n",
      "NY\n"
     ]
    },
    {
     "name": "stderr",
     "output_type": "stream",
     "text": [
      "/home/kgruber/.conda/envs/py37/lib/python3.7/site-packages/dask/array/blockwise.py:241: UserWarning: The da.atop function has moved to da.blockwise\n",
      "  warnings.warn(\"The da.atop function has moved to da.blockwise\")\n"
     ]
    },
    {
     "name": "stdout",
     "output_type": "stream",
     "text": [
      "[########################################] | 100% Completed | 28min 51.8s\n",
      "OH\n"
     ]
    },
    {
     "name": "stderr",
     "output_type": "stream",
     "text": [
      "/home/kgruber/.conda/envs/py37/lib/python3.7/site-packages/dask/array/blockwise.py:241: UserWarning: The da.atop function has moved to da.blockwise\n",
      "  warnings.warn(\"The da.atop function has moved to da.blockwise\")\n"
     ]
    },
    {
     "name": "stdout",
     "output_type": "stream",
     "text": [
      "[########################################] | 100% Completed | 25min 50.6s\n",
      "OK\n"
     ]
    },
    {
     "name": "stderr",
     "output_type": "stream",
     "text": [
      "/home/kgruber/.conda/envs/py37/lib/python3.7/site-packages/dask/array/blockwise.py:241: UserWarning: The da.atop function has moved to da.blockwise\n",
      "  warnings.warn(\"The da.atop function has moved to da.blockwise\")\n"
     ]
    },
    {
     "name": "stdout",
     "output_type": "stream",
     "text": [
      "[########################################] | 100% Completed | 50min 54.5s\n",
      "OR\n"
     ]
    },
    {
     "name": "stderr",
     "output_type": "stream",
     "text": [
      "/home/kgruber/.conda/envs/py37/lib/python3.7/site-packages/dask/array/blockwise.py:241: UserWarning: The da.atop function has moved to da.blockwise\n",
      "  warnings.warn(\"The da.atop function has moved to da.blockwise\")\n"
     ]
    },
    {
     "name": "stdout",
     "output_type": "stream",
     "text": [
      "[########################################] | 100% Completed | 24min 10.7s\n",
      "PA\n"
     ]
    },
    {
     "name": "stderr",
     "output_type": "stream",
     "text": [
      "/home/kgruber/.conda/envs/py37/lib/python3.7/site-packages/dask/array/blockwise.py:241: UserWarning: The da.atop function has moved to da.blockwise\n",
      "  warnings.warn(\"The da.atop function has moved to da.blockwise\")\n"
     ]
    },
    {
     "name": "stdout",
     "output_type": "stream",
     "text": [
      "[########################################] | 100% Completed | 23min 21.5s\n",
      "PR\n"
     ]
    },
    {
     "name": "stderr",
     "output_type": "stream",
     "text": [
      "/home/kgruber/.conda/envs/py37/lib/python3.7/site-packages/dask/array/blockwise.py:241: UserWarning: The da.atop function has moved to da.blockwise\n",
      "  warnings.warn(\"The da.atop function has moved to da.blockwise\")\n"
     ]
    },
    {
     "name": "stdout",
     "output_type": "stream",
     "text": [
      "[#################                       ] | 44% Completed |  4min  1.4s"
     ]
    },
    {
     "name": "stderr",
     "output_type": "stream",
     "text": [
      "/home/kgruber/.conda/envs/py37/lib/python3.7/site-packages/dask/core.py:119: RuntimeWarning: invalid value encountered in less_equal\n",
      "  return func(*args2)\n"
     ]
    },
    {
     "name": "stdout",
     "output_type": "stream",
     "text": [
      "[########################################] | 100% Completed | 10min  0.8s\n",
      "RI\n"
     ]
    },
    {
     "name": "stderr",
     "output_type": "stream",
     "text": [
      "/home/kgruber/.conda/envs/py37/lib/python3.7/site-packages/dask/array/blockwise.py:241: UserWarning: The da.atop function has moved to da.blockwise\n",
      "  warnings.warn(\"The da.atop function has moved to da.blockwise\")\n"
     ]
    },
    {
     "name": "stdout",
     "output_type": "stream",
     "text": [
      "[########################################] | 100% Completed | 11min 38.1s\n",
      "SD\n"
     ]
    },
    {
     "name": "stderr",
     "output_type": "stream",
     "text": [
      "/home/kgruber/.conda/envs/py37/lib/python3.7/site-packages/dask/array/blockwise.py:241: UserWarning: The da.atop function has moved to da.blockwise\n",
      "  warnings.warn(\"The da.atop function has moved to da.blockwise\")\n"
     ]
    },
    {
     "name": "stdout",
     "output_type": "stream",
     "text": [
      "[########################################] | 100% Completed | 17min 36.6s\n",
      "TN\n"
     ]
    },
    {
     "name": "stderr",
     "output_type": "stream",
     "text": [
      "/home/kgruber/.conda/envs/py37/lib/python3.7/site-packages/dask/array/blockwise.py:241: UserWarning: The da.atop function has moved to da.blockwise\n",
      "  warnings.warn(\"The da.atop function has moved to da.blockwise\")\n"
     ]
    },
    {
     "name": "stdout",
     "output_type": "stream",
     "text": [
      "[########################################] | 100% Completed |  8min 13.2s\n",
      "TX\n"
     ]
    },
    {
     "name": "stderr",
     "output_type": "stream",
     "text": [
      "/home/kgruber/.conda/envs/py37/lib/python3.7/site-packages/dask/array/blockwise.py:241: UserWarning: The da.atop function has moved to da.blockwise\n",
      "  warnings.warn(\"The da.atop function has moved to da.blockwise\")\n"
     ]
    },
    {
     "name": "stdout",
     "output_type": "stream",
     "text": [
      "[########################################] | 100% Completed |  2hr 17min 33.1s\n",
      "UT\n"
     ]
    },
    {
     "name": "stderr",
     "output_type": "stream",
     "text": [
      "/home/kgruber/.conda/envs/py37/lib/python3.7/site-packages/dask/array/blockwise.py:241: UserWarning: The da.atop function has moved to da.blockwise\n",
      "  warnings.warn(\"The da.atop function has moved to da.blockwise\")\n"
     ]
    },
    {
     "name": "stdout",
     "output_type": "stream",
     "text": [
      "[########################################] | 100% Completed | 11min 41.7s\n",
      "VT\n"
     ]
    },
    {
     "name": "stderr",
     "output_type": "stream",
     "text": [
      "/home/kgruber/.conda/envs/py37/lib/python3.7/site-packages/dask/array/blockwise.py:241: UserWarning: The da.atop function has moved to da.blockwise\n",
      "  warnings.warn(\"The da.atop function has moved to da.blockwise\")\n"
     ]
    },
    {
     "name": "stdout",
     "output_type": "stream",
     "text": [
      "[########################################] | 100% Completed | 12min 59.6s\n",
      "WA\n"
     ]
    },
    {
     "name": "stderr",
     "output_type": "stream",
     "text": [
      "/home/kgruber/.conda/envs/py37/lib/python3.7/site-packages/dask/array/blockwise.py:241: UserWarning: The da.atop function has moved to da.blockwise\n",
      "  warnings.warn(\"The da.atop function has moved to da.blockwise\")\n"
     ]
    },
    {
     "name": "stdout",
     "output_type": "stream",
     "text": [
      "[########################################] | 100% Completed | 25min 59.0s\n",
      "WI\n"
     ]
    },
    {
     "name": "stderr",
     "output_type": "stream",
     "text": [
      "/home/kgruber/.conda/envs/py37/lib/python3.7/site-packages/dask/array/blockwise.py:241: UserWarning: The da.atop function has moved to da.blockwise\n",
      "  warnings.warn(\"The da.atop function has moved to da.blockwise\")\n"
     ]
    },
    {
     "name": "stdout",
     "output_type": "stream",
     "text": [
      "[########################################] | 100% Completed | 16min 25.5s\n",
      "WV\n"
     ]
    },
    {
     "name": "stderr",
     "output_type": "stream",
     "text": [
      "/home/kgruber/.conda/envs/py37/lib/python3.7/site-packages/dask/array/blockwise.py:241: UserWarning: The da.atop function has moved to da.blockwise\n",
      "  warnings.warn(\"The da.atop function has moved to da.blockwise\")\n"
     ]
    },
    {
     "name": "stdout",
     "output_type": "stream",
     "text": [
      "[########################################] | 100% Completed | 13min 19.5s\n",
      "WY\n"
     ]
    },
    {
     "name": "stderr",
     "output_type": "stream",
     "text": [
      "/home/kgruber/.conda/envs/py37/lib/python3.7/site-packages/dask/array/blockwise.py:241: UserWarning: The da.atop function has moved to da.blockwise\n",
      "  warnings.warn(\"The da.atop function has moved to da.blockwise\")\n"
     ]
    },
    {
     "name": "stdout",
     "output_type": "stream",
     "text": [
      "[########################################] | 100% Completed | 17min 55.5s\n"
     ]
    }
   ],
   "source": [
    "for state in np.unique(turbine_data_era_gwa.state.values):\n",
    "    print(state)\n",
    "    if state == 'AK':\n",
    "        GWA = GWA_AK\n",
    "    elif state == 'HI':\n",
    "            GWA = GWA_HI\n",
    "    elif state == 'PR':\n",
    "            GWA = GWA_PR\n",
    "    else:\n",
    "        GWA = GWA_USA\n",
    "    ind = turbine_data_era_gwa.state == state\n",
    "    wps = windpower_simulation_era5(data,\n",
    "                                    turbine_data_era_gwa.height[ind].values,\n",
    "                                    turbine_data_era_gwa.capacity[ind].values,\n",
    "                                    turbine_data_era_gwa.sp[ind].values,\n",
    "                                    turbine_data_era_gwa.lon[ind].values,\n",
    "                                    turbine_data_era_gwa.lat[ind].values,\n",
    "                                    turbine_data_era_gwa.commissioning[ind].values,\n",
    "                                    GWA)\n",
    "    # save as netcdf\n",
    "    wps.to_dataset(name='wp').to_netcdf(results_path+\"/windpower_\"+state+\"_ERA5_GWA.nc\")"
   ]
  },
  {
   "cell_type": "markdown",
   "metadata": {},
   "source": [
    "# Sum up regions"
   ]
  },
  {
   "cell_type": "markdown",
   "metadata": {},
   "source": [
    "## States"
   ]
  },
  {
   "cell_type": "code",
   "execution_count": null,
   "metadata": {},
   "outputs": [],
   "source": [
    "wp_loc = xr.open_dataset(usa_results+\"/windpower_stat_MERRA2.nc\")\n",
    "wp = wp_loc.groupby(xr.DataArray(turbine_data_mer.state,dims='location')).sum('location')\n",
    "# save as netcdf\n",
    "wp.to_netcdf(results_path+\"/windpower_states_MERRA2.nc\")\n",
    "del(wp)"
   ]
  },
  {
   "cell_type": "code",
   "execution_count": null,
   "metadata": {},
   "outputs": [],
   "source": [
    "wp_loc = xr.open_mfdataset(usa_results+\"/windpower_??_MERRA2_GWA.nc\")\n",
    "wp = wp_loc.groupby(xr.DataArray(turbine_data_mer_gwa.state,dims='location')).sum('location')\n",
    "# save as netcdf\n",
    "wp.to_netcdf(results_path+\"/windpower_states_MERRA2_GWA.nc\")\n",
    "del(wp)"
   ]
  },
  {
   "cell_type": "markdown",
   "metadata": {},
   "source": [
    "# REMOVE BELOW IF ABOVE WORKS"
   ]
  },
  {
   "cell_type": "raw",
   "metadata": {},
   "source": [
    "for STATE in turbine_data_mer_gwa.index.levels[0].values:\n",
    "    wp_loc = xr.open_dataset(usa_path+\"/results/windpower_\"+STATE+\"_MERRA2_GWA.nc\")\n",
    "    wp_state = wp_loc.sum('location')\n",
    "    if 'wp' in locals():\n",
    "        wp = xr.concat([wp,wp_state.expand_dims(state=[STATE])],dim='state')\n",
    "    else:\n",
    "        wp = wp_state.expand_dims(state=[STATE])\n",
    "    \n",
    "# save as netcdf\n",
    "wp.to_netcdf(results_path+\"/windpower_states_MERRA2_GWA.nc\")\n",
    "del(wp)"
   ]
  },
  {
   "cell_type": "code",
   "execution_count": null,
   "metadata": {},
   "outputs": [],
   "source": [
    "wp_loc = xr.open_dataset(usa_results+\"/windpower_stat_ERA5.nc\")\n",
    "wp = wp_loc.groupby(xr.DataArray(turbine_data_era.state,dims='location')).sum('location')\n",
    "# save as netcdf\n",
    "wp.to_netcdf(results_path+\"/windpower_states_ERA5.nc\")\n",
    "del(wp)"
   ]
  },
  {
   "cell_type": "code",
   "execution_count": null,
   "metadata": {},
   "outputs": [],
   "source": [
    "wp_loc = xr.open_mfdataset(usa_results+\"/windpower_??_ERA5_GWA.nc\")\n",
    "wp = wp_loc.groupby(xr.DataArray(turbine_data_era_gwa.state,dims='location')).sum('location')\n",
    "# save as netcdf\n",
    "wp.to_netcdf(results_path+\"/windpower_states_ERA5_GWA.nc\")\n",
    "del(wp)"
   ]
  },
  {
   "cell_type": "markdown",
   "metadata": {},
   "source": [
    "# REMOVE BELOW IF ABOVE WORKS"
   ]
  },
  {
   "cell_type": "raw",
   "metadata": {},
   "source": [
    "for STATE in turbine_data_era_gwa.index.levels[0].values:\n",
    "    wp_loc = xr.open_dataset(usa_path+\"/results/windpower_\"+STATE+\"_ERA5_GWA.nc\")\n",
    "    wp_state = wp_loc.sum('location')\n",
    "    if 'wp' in locals():\n",
    "        wp = xr.concat([wp,wp_state.expand_dims(state=[STATE])],dim='state')\n",
    "    else:\n",
    "        wp = wp_state.expand_dims(state=[STATE])\n",
    "    \n",
    "# save as netcdf\n",
    "wp.to_netcdf(results_path+\"/windpower_states_ERA5_GWA.nc\")\n",
    "del(wp)"
   ]
  },
  {
   "cell_type": "markdown",
   "metadata": {},
   "source": [
    "## BPA"
   ]
  },
  {
   "cell_type": "code",
   "execution_count": null,
   "metadata": {},
   "outputs": [],
   "source": [
    "# load BPA wind parks\n",
    "BPA_parks = pd.read_csv(usa_path+\"/BPA_windparks.csv\")\n",
    "# get indices of BPA wind parks from wind turbine dataset\n",
    "pBPA = pd.DataFrame({'p': [park in BPA_parks.name.values for park in windturbines[windturbines.t_state!='GU'].p_name.values]})"
   ]
  },
  {
   "cell_type": "markdown",
   "metadata": {},
   "source": [
    "MERRA2"
   ]
  },
  {
   "cell_type": "code",
   "execution_count": null,
   "metadata": {},
   "outputs": [],
   "source": [
    "# load simulated wind power\n",
    "wp_loc = xr.open_dataset(results_path+\"/windpower_stat_MERRA2.nc\")\n",
    "# calculate which share at locations is from BPA wind farms (sometimes not all turbines at a location belong to same wind park)\n",
    "shs = xr.Dataset({'share':(['location'],\n",
    "                           pBPA.groupby(lbl_mer).mean()[pBPA.groupby(lbl_mer).mean().p>0].values.flatten())},\n",
    "                 coords = {'location':range(len(pBPA.groupby(lbl_mer).mean()[pBPA.groupby(lbl_mer).sum().p>0].values))})\n",
    "# select simulated wind power for BPA wind parks\n",
    "BPA_wp_loc = wp_loc.sel(location=np.where(pBPA.groupby(lbl_mer).mean().p>0)[0])\n",
    "# sum over BPA wind parks\n",
    "BPA_wp = (BPA_wp_loc.wp*shs.share).to_dataset(name='wp').sum('location')\n",
    "# save as netcdf\n",
    "BPA_wp.to_netcdf(results_path+\"/windpower_BPA_MERRA2.nc\")\n",
    "del(wp_loc,BPA_wp_loc,BPA_wp)"
   ]
  },
  {
   "cell_type": "markdown",
   "metadata": {},
   "source": [
    "MERRA2 + GWA"
   ]
  },
  {
   "cell_type": "code",
   "execution_count": null,
   "metadata": {},
   "outputs": [],
   "source": [
    "# load simulated wind power\n",
    "wp_loc = xr.open_mfdataset(results_path+\"/windpower_??_MERRA2_GWA.nc\")\n",
    "# calculate which share at locations is from BPA wind farms (sometimes not all turbines at a location belong to same wind park)\n",
    "shs = xr.Dataset({'share':(['location'],\n",
    "                           pBPA.groupby(lbl_mer_gwa).mean()[pBPA.groupby(lbl_mer_gwa).mean().p>0].values.flatten())},\n",
    "                 coords = {'location':range(len(pBPA.groupby(lbl_mer_gwa).mean()[pBPA.groupby(lbl_mer_gwa).sum().p>0].values))})\n",
    "# select simulated wind power for BPA wind parks\n",
    "BPA_wp_loc = wp_loc.sel(location=np.where(pBPA.groupby(lbl_mer_gwa).mean().p>0)[0])\n",
    "# sum over BPA wind parks\n",
    "BPA_wp = (BPA_wp_loc.wp*shs.share).to_dataset(name='wp').sum('location')\n",
    "# save as netcdf\n",
    "BPA_wp.to_netcdf(results_path+\"/windpower_BPA_MERRA2_GWA.nc\")\n",
    "del(wp_loc,BPA_wp_loc,BPA_wp)"
   ]
  },
  {
   "cell_type": "markdown",
   "metadata": {},
   "source": [
    "ERA5"
   ]
  },
  {
   "cell_type": "code",
   "execution_count": null,
   "metadata": {},
   "outputs": [],
   "source": [
    "# load simulated wind power\n",
    "wp_loc = xr.open_dataset(results_path+\"/windpower_stat_ERA5.nc\")\n",
    "# calculate which share at locations is from BPA wind farms (sometimes not all turbines at a location belong to same wind park)\n",
    "shs = xr.Dataset({'share':(['location'],\n",
    "                           pBPA.groupby(lbl_era).mean()[pBPA.groupby(lbl_era).mean().p>0].values.flatten())},\n",
    "                 coords = {'location':range(len(pBPA.groupby(lbl_era).mean()[pBPA.groupby(lbl_era).sum().p>0].values))})\n",
    "# select simulated wind power for BPA wind parks\n",
    "BPA_wp_loc = wp_loc.sel(location=np.where(pBPA.groupby(lbl_era).mean().p>0)[0])\n",
    "# sum over BPA wind parks\n",
    "BPA_wp = (BPA_wp_loc.wp*shs.share).to_dataset(name='wp').sum('location')\n",
    "# save as netcdf\n",
    "BPA_wp.to_netcdf(results_path+\"/windpower_BPA_ERA5.nc\")\n",
    "del(wp_loc,BPA_wp_loc,BPA_wp)"
   ]
  },
  {
   "cell_type": "markdown",
   "metadata": {},
   "source": [
    "ERA5 + GWA"
   ]
  },
  {
   "cell_type": "code",
   "execution_count": null,
   "metadata": {},
   "outputs": [],
   "source": [
    "# load simulated wind power\n",
    "wp_loc = xr.open_mfdataset(results_path+\"/windpower_??_ERA5_GWA.nc\")\n",
    "# calculate which share at locations is from BPA wind farms (sometimes not all turbines at a location belong to same wind park)\n",
    "shs = xr.Dataset({'share':(['location'],\n",
    "                           pBPA.groupby(lbl_era_gwa).mean()[pBPA.groupby(lbl_era_gwa).mean().p>0].values.flatten())},\n",
    "                 coords = {'location':range(len(pBPA.groupby(lbl_era_gwa).mean()[pBPA.groupby(lbl_era_gwa).sum().p>0].values))})\n",
    "# select simulated wind power for BPA wind parks\n",
    "BPA_wp_loc = wp_loc.sel(location=np.where(pBPA.groupby(lbl_era_gwa).mean().p>0)[0])\n",
    "# sum over BPA wind parks\n",
    "BPA_wp = (BPA_wp_loc.wp*shs.share).to_dataset(name='wp').sum('location')\n",
    "# save as netcdf\n",
    "BPA_wp.to_netcdf(results_path+\"/windpower_BPA_ERA5_GWA.nc\")\n",
    "del(wp_loc,BPA_wp_loc,BPA_wp)"
   ]
  },
  {
   "cell_type": "markdown",
   "metadata": {},
   "source": [
    "## New England\n",
    "New England is a part of the USA consisting of the states Connecticut, New Hampshire, Maine, Massachusetts, Rhode Island and Vermont (CT, NH, ME, MA, RI, VT)"
   ]
  },
  {
   "cell_type": "code",
   "execution_count": 32,
   "metadata": {},
   "outputs": [],
   "source": [
    "NE_states = ['CT','NH','ME','MA','RI','VT']\n",
    "# MERRA2\n",
    "wp_state = xr.open_dataset(results_path+\"/windpower_states_MERRA2.nc\")\n",
    "wpNE = wp_state.sel(state=NE_states).sum('state')\n",
    "wpNE.to_netcdf(results_path+\"/windpower_NewEngland_MERRA2.nc\")\n",
    "# MERRA2 + GWA\n",
    "wp_state = xr.open_dataset(results_path+\"/windpower_states_MERRA2_GWA.nc\")\n",
    "wpNE = wp_state.sel(state=NE_states).sum('state')\n",
    "wpNE.to_netcdf(results_path+\"/windpower_NewEngland_MERRA2_GWA.nc\")\n",
    "# ERA5\n",
    "wp_state = xr.open_dataset(results_path+\"/windpower_states_ERA5.nc\")\n",
    "wpNE = wp_state.sel(state=NE_states).sum('state')\n",
    "wpNE.to_netcdf(results_path+\"/windpower_NewEngland_ERA5.nc\")\n",
    "# ERA5 + GWA\n",
    "wp_state = xr.open_dataset(results_path+\"/windpower_states_ERA5_GWA.nc\")\n",
    "wpNE = wp_state.sel(state=NE_states).sum('state')\n",
    "wpNE.to_netcdf(results_path+\"/windpower_NewEngland_ERA5_GWA.nc\")\n",
    "del(wp_state,wpNE)"
   ]
  },
  {
   "cell_type": "markdown",
   "metadata": {},
   "source": [
    "## USA"
   ]
  },
  {
   "cell_type": "code",
   "execution_count": 4,
   "metadata": {},
   "outputs": [],
   "source": [
    "# MERRA2\n",
    "wp_state = xr.open_dataset(results_path+\"/windpower_states_MERRA2.nc\")\n",
    "wpUSA = wp_state.sum('state')\n",
    "wpUSA.to_netcdf(results_path+\"/windpower_USA_MERRA2.nc\")\n",
    "# MERRA2 + GWA\n",
    "wp_state = xr.open_dataset(results_path+\"/windpower_states_MERRA2_GWA.nc\")\n",
    "wpUSA = wp_state.sum('state')\n",
    "wpUSA.to_netcdf(results_path+\"/windpower_USA_MERRA2_GWA.nc\")\n",
    "# ERA5\n",
    "wp_state = xr.open_dataset(results_path+\"/windpower_states_ERA5.nc\")\n",
    "wpUSA = wp_state.sum('state')\n",
    "wpUSA.to_netcdf(results_path+\"/windpower_USA_ERA5.nc\")\n",
    "# ERA5 + GWA\n",
    "wp_state = xr.open_dataset(results_path+\"/windpower_states_ERA5_GWA.nc\")\n",
    "wpUSA = wp_state.sum('state')\n",
    "wpUSA.to_netcdf(results_path+\"/windpower_USA_ERA5_GWA.nc\")"
   ]
  },
  {
   "cell_type": "code",
   "execution_count": null,
   "metadata": {},
   "outputs": [],
   "source": []
  },
  {
   "cell_type": "markdown",
   "metadata": {},
   "source": [
    "# Analysis"
   ]
  },
  {
   "cell_type": "markdown",
   "metadata": {},
   "source": [
    "## USA"
   ]
  },
  {
   "cell_type": "markdown",
   "metadata": {},
   "source": [
    "### Load production data\n",
    "Source: https://www.eia.gov/electricity/data/browser/#/topic/0?agg=1,0,2&fuel=008&geo=vvvvvvvvvvvvo&sec=o3g&linechart=ELEC.GEN.WND-US-99.M~ELEC.GEN.WND-IA-99.M~ELEC.GEN.WND-TX-99.M&columnchart=ELEC.GEN.WND-US-99.M~ELEC.GEN.WND-IA-99.M~ELEC.GEN.WND-TX-99.M&map=ELEC.GEN.WND-US-99.M&freq=M&start=200101&end=201809&ctype=linechart&ltype=pin&rtype=s&maptype=0&rse=0&pin="
   ]
  },
  {
   "cell_type": "code",
   "execution_count": 31,
   "metadata": {},
   "outputs": [],
   "source": [
    "prod_USAm = pd.read_csv(usa_path+\"/generation_data/USA_monthly/Net_generation_wind_all_sectors_monthly.csv\",header=4)"
   ]
  },
  {
   "cell_type": "markdown",
   "metadata": {},
   "source": [
    "rename columns"
   ]
  },
  {
   "cell_type": "code",
   "execution_count": 39,
   "metadata": {},
   "outputs": [],
   "source": [
    "prod_USAm.columns = ['time','wp_obs']"
   ]
  },
  {
   "cell_type": "markdown",
   "metadata": {},
   "source": [
    "sort indices"
   ]
  },
  {
   "cell_type": "code",
   "execution_count": 47,
   "metadata": {},
   "outputs": [],
   "source": [
    "prod_USAm = prod_USAm[~np.isnan(prod_USAm.wp_obs)].sort_index(axis=0 ,ascending=False)"
   ]
  },
  {
   "cell_type": "markdown",
   "metadata": {},
   "source": [
    "create datetime index"
   ]
  },
  {
   "cell_type": "code",
   "execution_count": 60,
   "metadata": {},
   "outputs": [],
   "source": [
    "months = pd.DataFrame({'month':range(1,13)},\n",
    "                       index = ['Jan','Feb','Mar','Apr','May','Jun','Jul','Aug','Sep','Oct','Nov','Dec'])\n",
    "\n",
    "prod_USAm['month'] = pd.Series([t[:3] for t in prod_USAm.time]).map(months.month).values\n",
    "prod_USAm['year'] = [t[-4:] for t in prod_USAm.time]\n",
    "\n",
    "prod_USAm = prod_USAm.set_index(pd.Index([np.datetime64(str(int(prod_USAm.year.values[i]))+\"-\"+f\"{prod_USAm.month.values[i]:02d}\"+\"-01T00:00:00\") for i in range(len(prod_USAm))])).drop(['time','month','year'],axis=1)"
   ]
  },
  {
   "cell_type": "code",
   "execution_count": 117,
   "metadata": {},
   "outputs": [],
   "source": [
    "wp_USA = xr.open_dataset(usa_path+\"/results/windpower_USA_ERA5.nc\")"
   ]
  },
  {
   "cell_type": "code",
   "execution_count": 121,
   "metadata": {},
   "outputs": [
    {
     "data": {
      "text/plain": [
       "array([], dtype=float64)"
      ]
     },
     "execution_count": 121,
     "metadata": {},
     "output_type": "execute_result"
    }
   ],
   "source": [
    "wp_USA.wp.groupby(wp_USA.time)"
   ]
  },
  {
   "cell_type": "code",
   "execution_count": 127,
   "metadata": {},
   "outputs": [
    {
     "data": {
      "text/plain": [
       "array(['2000-12-01T00:00:00.000000000', '2000-12-01T01:00:00.000000000',\n",
       "       '2000-12-01T02:00:00.000000000', '2000-12-01T03:00:00.000000000',\n",
       "       '2000-12-01T04:00:00.000000000', '2000-12-01T05:00:00.000000000',\n",
       "       '2000-12-01T06:00:00.000000000', '2000-12-01T07:00:00.000000000',\n",
       "       '2000-12-01T08:00:00.000000000', '2000-12-01T09:00:00.000000000'],\n",
       "      dtype='datetime64[ns]')"
      ]
     },
     "execution_count": 127,
     "metadata": {},
     "output_type": "execute_result"
    }
   ],
   "source": [
    "wp_USA.time[:10].values"
   ]
  },
  {
   "cell_type": "code",
   "execution_count": null,
   "metadata": {},
   "outputs": [],
   "source": []
  },
  {
   "cell_type": "code",
   "execution_count": null,
   "metadata": {},
   "outputs": [],
   "source": []
  },
  {
   "cell_type": "code",
   "execution_count": null,
   "metadata": {},
   "outputs": [],
   "source": []
  },
  {
   "cell_type": "markdown",
   "metadata": {},
   "source": [
    "# Load production data"
   ]
  },
  {
   "cell_type": "code",
   "execution_count": null,
   "metadata": {},
   "outputs": [],
   "source": [
    "# Load data Eastern Cape\n",
    "data_ec = []\n",
    "for year in range(2014,2019):\n",
    "    datay = pd.read_csv(south_africa_path+\"/production/EasternCape/Hourly_Electricity_production_[Load_Factor_[[%]]_data\"+str(year)+\".csv\",delimiter=';') \n",
    "    if(len(data_ec)):\n",
    "        data_ec = pd.concat([data_ec,datay])\n",
    "    else:\n",
    "        data_ec = datay\n",
    "\n",
    "# Load data Western Cape\n",
    "data_wc = []\n",
    "for year in range(2015,2019):\n",
    "    datay = pd.read_csv(south_africa_path+\"/production/WesternCape/Hourly_Electricity_production_[Load_Factor_[[%]]_data\"+str(year)+\".csv\",delimiter=';') \n",
    "    if(len(data_wc)):\n",
    "        data_wc = pd.concat([data_wc,datay])\n",
    "    else:\n",
    "        data_wc = datay\n",
    "        \n",
    "# Load data Northern Cape\n",
    "data_nc = []\n",
    "for year in range(2017,2019):\n",
    "    datay = pd.read_csv(south_africa_path+\"/production/NorthernCape/Hourly_Electricity_production_[Load_Factor_[[%]]_data\"+str(year)+\".csv\",delimiter=';') \n",
    "    if(len(data_nc)):\n",
    "        data_nc = pd.concat([data_nc,datay])\n",
    "    else:\n",
    "        data_nc = datay"
   ]
  },
  {
   "cell_type": "code",
   "execution_count": null,
   "metadata": {},
   "outputs": [],
   "source": []
  },
  {
   "cell_type": "markdown",
   "metadata": {},
   "source": [
    "create pandas dataframes for each of the locations"
   ]
  },
  {
   "cell_type": "code",
   "execution_count": null,
   "metadata": {},
   "outputs": [],
   "source": [
    "# Eastern Cape\n",
    "y = np.array([data_ec['Settlement DateTime'].iloc[x][6:10] for x in range(data_ec.shape[0])])\n",
    "m = np.array([data_ec['Settlement DateTime'].iloc[x][3:5] for x in range(data_ec.shape[0])])\n",
    "d = np.array([data_ec['Settlement DateTime'].iloc[x][:2] for x in range(data_ec.shape[0])])\n",
    "h = np.array([data_ec['Settlement DateTime'].iloc[x][11:13] for x in range(data_ec.shape[0])])\n",
    "t1 = [np.datetime64(y[i]+'-'+m[i]+'-'+d[i]+\"T\"+h[i]+\":00:00\") for i in np.arange(len(y))]\n",
    "# create dataframe with datetime index and simulated data and create column to fill in historical data\n",
    "production_MW_ec = pd.DataFrame({'wp_MWh':data_ec['Production MWh'].tolist(),\n",
    "                                 'sim_wp_MWh':np.nan,\n",
    "                                 'sim_wp_MWh_GWA':np.nan},index=t1)\n",
    "\n",
    "# Western Cape\n",
    "y = np.array([data_wc['Settlement DateTime'].iloc[x][6:10] for x in range(data_wc.shape[0])])\n",
    "m = np.array([data_wc['Settlement DateTime'].iloc[x][3:5] for x in range(data_wc.shape[0])])\n",
    "d = np.array([data_wc['Settlement DateTime'].iloc[x][:2] for x in range(data_wc.shape[0])])\n",
    "h = np.array([data_wc['Settlement DateTime'].iloc[x][11:13] for x in range(data_wc.shape[0])])\n",
    "t1 = [np.datetime64(y[i]+'-'+m[i]+'-'+d[i]+\"T\"+h[i]+\":00:00\") for i in np.arange(len(y))]\n",
    "# create dataframe with datetime index and simulated data and create column to fill in historical data\n",
    "production_MW_wc = pd.DataFrame({'wp_MWh':data_wc['Production MWh'].tolist(),\n",
    "                                 'sim_wp_MWh':np.nan,\n",
    "                                 'sim_wp_MWh_GWA':np.nan},index=t1)\n",
    "\n",
    "# Northern Cape\n",
    "y = np.array([data_nc['Settlement DateTime'].iloc[x][6:10] for x in range(data_nc.shape[0])])\n",
    "m = np.array([data_nc['Settlement DateTime'].iloc[x][3:5] for x in range(data_nc.shape[0])])\n",
    "d = np.array([data_nc['Settlement DateTime'].iloc[x][:2] for x in range(data_nc.shape[0])])\n",
    "h = np.array([data_nc['Settlement DateTime'].iloc[x][11:13] for x in range(data_nc.shape[0])])\n",
    "t1 = [np.datetime64(y[i]+'-'+m[i]+'-'+d[i]+\"T\"+h[i]+\":00:00\") for i in np.arange(len(y))]\n",
    "# create dataframe with datetime index and simulated data and create column to fill in historical data\n",
    "production_MW_nc = pd.DataFrame({'wp_MWh':data_nc['Production MWh'].tolist(),\n",
    "                                 'sim_wp_MWh':np.nan,\n",
    "                                 'sim_wp_MWh_GWA':np.nan},index=t1)"
   ]
  },
  {
   "cell_type": "markdown",
   "metadata": {},
   "source": [
    "# Fill in simulated data and sort"
   ]
  },
  {
   "cell_type": "code",
   "execution_count": null,
   "metadata": {},
   "outputs": [],
   "source": [
    "# fill in simulated data - cannot be added simply as other column, as in historical data some time steps are missing\n",
    "# therefore match simulated data to time steps\n",
    "production_MW_ec.sim_wp_MWh = production_MW_ec.index.map(windpower_kW_area.Eastern_Cape)\n",
    "production_MW_wc.sim_wp_MWh = production_MW_wc.index.map(windpower_kW_area.Western_Cape)\n",
    "production_MW_nc.sim_wp_MWh = production_MW_nc.index.map(windpower_kW_area.Northern_Cape)"
   ]
  },
  {
   "cell_type": "code",
   "execution_count": null,
   "metadata": {},
   "outputs": [],
   "source": [
    "# fill in GWA simulation\n",
    "production_MW_ec.sim_wp_MWh_GWA = production_MW_ec.index.map(windpower_kW_area_GWA.Eastern_Cape)\n",
    "production_MW_wc.sim_wp_MWh_GWA = production_MW_wc.index.map(windpower_kW_area_GWA.Western_Cape)\n",
    "production_MW_nc.sim_wp_MWh_GWA = production_MW_nc.index.map(windpower_kW_area_GWA.Northern_Cape)\n"
   ]
  },
  {
   "cell_type": "code",
   "execution_count": null,
   "metadata": {},
   "outputs": [],
   "source": [
    "# sort by datetime index\n",
    "production_MW_ec = production_MW_ec.sort_index()\n",
    "production_MW_wc = production_MW_wc.sort_index()\n",
    "production_MW_nc = production_MW_nc.sort_index()"
   ]
  },
  {
   "cell_type": "markdown",
   "metadata": {},
   "source": [
    "### Available data - incomplete historical generation"
   ]
  },
  {
   "cell_type": "code",
   "execution_count": null,
   "metadata": {},
   "outputs": [],
   "source": [
    "available_data = pd.DataFrame({'EC':0,'NC':0,'WC':0,'ZAF':0},index=windpower_windparks.time.values)"
   ]
  },
  {
   "cell_type": "code",
   "execution_count": null,
   "metadata": {},
   "outputs": [],
   "source": [
    "# fill in generation data\n",
    "available_data.EC = np.invert([np.isnan(i) for i in available_data.index.map(production_MW_ec.sim_wp_MWh)]).astype(int)\n",
    "available_data.NC = np.invert([np.isnan(i) for i in available_data.index.map(production_MW_nc.sim_wp_MWh)]).astype(int)\n",
    "available_data.WC = np.invert([np.isnan(i) for i in available_data.index.map(production_MW_wc.sim_wp_MWh)]).astype(int)"
   ]
  },
  {
   "cell_type": "code",
   "execution_count": null,
   "metadata": {},
   "outputs": [],
   "source": [
    "# for data availability in ZAF, we need to know in how many regions there was production at each time\n",
    "producing_regions = pd.DataFrame({'EC':1,'NC':1,'WC':1,'ZAF':0},index=windpower_windparks.time.values)"
   ]
  },
  {
   "cell_type": "code",
   "execution_count": null,
   "metadata": {},
   "outputs": [],
   "source": [
    "# set production 0 before recorded production\n",
    "producing_regions.EC[producing_regions.index<production_MW_ec.index.min()] = 0\n",
    "producing_regions.NC[producing_regions.index<production_MW_nc.index.min()] = 0\n",
    "producing_regions.WC[producing_regions.index<production_MW_wc.index.min()] = 0\n",
    "\n",
    "# producing regions in ZAF are sum of production in three regions\n",
    "producing_regions.ZAF = producing_regions.EC + producing_regions.NC + producing_regions.WC\n",
    "# set where no producing regions to -1\n",
    "producing_regions.ZAF[producing_regions.ZAF==0] = -1"
   ]
  },
  {
   "cell_type": "code",
   "execution_count": null,
   "metadata": {},
   "outputs": [],
   "source": [
    "available_data.ZAF = np.array([int(i==0) for i in (available_data.EC + available_data.NC + available_data.WC - producing_regions.ZAF)])"
   ]
  },
  {
   "cell_type": "code",
   "execution_count": null,
   "metadata": {},
   "outputs": [],
   "source": []
  },
  {
   "cell_type": "markdown",
   "metadata": {},
   "source": [
    "# Data selection - only use timespans where all data are available"
   ]
  },
  {
   "cell_type": "code",
   "execution_count": null,
   "metadata": {},
   "outputs": [],
   "source": [
    "# only do for timespans where data are available for ALL regions (ZAF data available = 1)\n",
    "production_MW_ec_ts = production_MW_ec[production_MW_ec.index.map(available_data.ZAF)==1]\n",
    "production_MW_nc_ts = production_MW_nc[production_MW_nc.index.map(available_data.ZAF)==1]\n",
    "production_MW_wc_ts = production_MW_wc[production_MW_wc.index.map(available_data.ZAF)==1]"
   ]
  },
  {
   "cell_type": "code",
   "execution_count": null,
   "metadata": {},
   "outputs": [],
   "source": [
    "# prepare dataframe for summing up\n",
    "production_MW_all = pd.DataFrame({'wp_MWh_EC':0, 'sim_wp_MWh_EC':0, 'sim_wp_MWh_EC_GWA':0,\n",
    "                                  'wp_MWh_NC':0, 'sim_wp_MWh_NC':0, 'sim_wp_MWh_NC_GWA':0,\n",
    "                                  'wp_MWh_WC':0, 'sim_wp_MWh_WC':0, 'sim_wp_MWh_WC_GWA':0},\n",
    "                                  index = windpower_windparks.time.values[available_data.ZAF==1])\n",
    "production_MW_all.wp_MWh_EC = production_MW_all.index.map(production_MW_ec_ts.wp_MWh)\n",
    "production_MW_all.sim_wp_MWh_EC = production_MW_all.index.map(production_MW_ec_ts.sim_wp_MWh)\n",
    "production_MW_all.sim_wp_MWh_EC_GWA = production_MW_all.index.map(production_MW_ec_ts.sim_wp_MWh_GWA)\n",
    "\n",
    "production_MW_all.wp_MWh_NC = production_MW_all.index.map(production_MW_nc_ts.wp_MWh)\n",
    "production_MW_all.sim_wp_MWh_NC = production_MW_all.index.map(production_MW_nc_ts.sim_wp_MWh)\n",
    "production_MW_all.sim_wp_MWh_NC_GWA = production_MW_all.index.map(production_MW_nc_ts.sim_wp_MWh_GWA)\n",
    "\n",
    "production_MW_all.wp_MWh_WC = production_MW_all.index.map(production_MW_wc_ts.wp_MWh)\n",
    "production_MW_all.sim_wp_MWh_WC = production_MW_all.index.map(production_MW_wc_ts.sim_wp_MWh)\n",
    "production_MW_all.sim_wp_MWh_WC_GWA = production_MW_all.index.map(production_MW_wc_ts.sim_wp_MWh_GWA)"
   ]
  },
  {
   "cell_type": "code",
   "execution_count": null,
   "metadata": {},
   "outputs": [],
   "source": [
    "# fill nans with 0\n",
    "production_MW_all = production_MW_all.fillna(0)"
   ]
  },
  {
   "cell_type": "code",
   "execution_count": null,
   "metadata": {},
   "outputs": [],
   "source": []
  },
  {
   "cell_type": "code",
   "execution_count": null,
   "metadata": {},
   "outputs": [],
   "source": [
    "# sum up for ZAF\n",
    "production_MW_zaf_ts = pd.DataFrame({'wp_MWh':production_MW_all.wp_MWh_EC + production_MW_all.wp_MWh_NC + production_MW_all.wp_MWh_WC,\n",
    "                                     'sim_wp_MWh':production_MW_all.sim_wp_MWh_EC + production_MW_all.sim_wp_MWh_NC + production_MW_all.sim_wp_MWh_WC,\n",
    "                                     'sim_wp_MWh_GWA':production_MW_all.sim_wp_MWh_EC_GWA + production_MW_all.sim_wp_MWh_NC_GWA + production_MW_all.sim_wp_MWh_WC_GWA},\n",
    "                                     index=production_MW_all.index)"
   ]
  },
  {
   "cell_type": "markdown",
   "metadata": {},
   "source": [
    "# statistical analysis hourly"
   ]
  },
  {
   "cell_type": "code",
   "execution_count": null,
   "metadata": {},
   "outputs": [],
   "source": [
    "# prepare dataframe for hourly statistical analysis\n",
    "stats_h = pd.DataFrame({'cor':np.nan,\n",
    "                        'rmse':np.nan,\n",
    "                        'mbe':np.nan,\n",
    "                        'avg':np.nan},\n",
    "                        index = ['EC','EC_GWA','EC_obs',\n",
    "                                 'NC','NC_GWA','NC_obs',\n",
    "                                 'WC','WC_GWA','WC_obs',\n",
    "                                 'ZAF','ZAF_GWA','ZAF_obs'])"
   ]
  },
  {
   "cell_type": "markdown",
   "metadata": {},
   "source": [
    "Calculate correlations"
   ]
  },
  {
   "cell_type": "code",
   "execution_count": null,
   "metadata": {},
   "outputs": [],
   "source": [
    "stats_h.cor = [np.corrcoef(production_MW_ec_ts.wp_MWh,production_MW_ec_ts.sim_wp_MWh)[0,1],\n",
    "               np.corrcoef(production_MW_ec_ts.wp_MWh,production_MW_ec_ts.sim_wp_MWh_GWA)[0,1],\n",
    "               np.nan,\n",
    "               np.corrcoef(production_MW_wc_ts.wp_MWh,production_MW_wc_ts.sim_wp_MWh)[0,1],\n",
    "               np.corrcoef(production_MW_wc_ts.wp_MWh,production_MW_wc_ts.sim_wp_MWh_GWA)[0,1],\n",
    "               np.nan,\n",
    "               np.corrcoef(production_MW_nc_ts.wp_MWh,production_MW_nc_ts.sim_wp_MWh)[0,1],\n",
    "               np.corrcoef(production_MW_nc_ts.wp_MWh,production_MW_nc_ts.sim_wp_MWh_GWA)[0,1],\n",
    "               np.nan,\n",
    "               np.corrcoef(production_MW_zaf_ts.wp_MWh,production_MW_zaf_ts.sim_wp_MWh)[0,1],\n",
    "               np.corrcoef(production_MW_zaf_ts.wp_MWh,production_MW_zaf_ts.sim_wp_MWh_GWA)[0,1],\n",
    "               np.nan]\n"
   ]
  },
  {
   "cell_type": "markdown",
   "metadata": {},
   "source": [
    "Calculate RMSEs"
   ]
  },
  {
   "cell_type": "code",
   "execution_count": null,
   "metadata": {},
   "outputs": [],
   "source": [
    "stats_h.rmse = [np.sqrt(np.mean((np.array(production_MW_ec_ts.wp_MWh)-np.array(production_MW_ec_ts.sim_wp_MWh))**2)),\n",
    "                 np.sqrt(np.mean((np.array(production_MW_ec_ts.wp_MWh)-np.array(production_MW_ec_ts.sim_wp_MWh_GWA))**2)),\n",
    "                 np.nan,\n",
    "                 np.sqrt(np.mean((np.array(production_MW_nc_ts.wp_MWh)-np.array(production_MW_nc_ts.sim_wp_MWh))**2)),\n",
    "                 np.sqrt(np.mean((np.array(production_MW_nc_ts.wp_MWh)-np.array(production_MW_nc_ts.sim_wp_MWh_GWA))**2)),\n",
    "                 np.nan,\n",
    "                 np.sqrt(np.mean((np.array(production_MW_wc_ts.wp_MWh)-np.array(production_MW_wc_ts.sim_wp_MWh))**2)),\n",
    "                 np.sqrt(np.mean((np.array(production_MW_wc_ts.wp_MWh)-np.array(production_MW_wc_ts.sim_wp_MWh_GWA))**2)),\n",
    "                 np.nan,\n",
    "                 np.sqrt(np.mean((np.array(production_MW_zaf_ts.wp_MWh)-np.array(production_MW_zaf_ts.sim_wp_MWh))**2)),\n",
    "                 np.sqrt(np.mean((np.array(production_MW_zaf_ts.wp_MWh)-np.array(production_MW_zaf_ts.sim_wp_MWh_GWA))**2)),\n",
    "                 np.nan]\n"
   ]
  },
  {
   "cell_type": "markdown",
   "metadata": {},
   "source": [
    "Calculate MBEs"
   ]
  },
  {
   "cell_type": "code",
   "execution_count": null,
   "metadata": {},
   "outputs": [],
   "source": [
    "stats_h.mbe = [(np.array(production_MW_ec_ts.sim_wp_MWh)-np.array(production_MW_ec_ts.wp_MWh)).mean(),\n",
    "               (np.array(production_MW_ec_ts.sim_wp_MWh_GWA)-np.array(production_MW_ec_ts.wp_MWh)).mean(),\n",
    "               np.nan,\n",
    "               (np.array(production_MW_nc_ts.sim_wp_MWh)-np.array(production_MW_nc_ts.wp_MWh)).mean(),\n",
    "               (np.array(production_MW_nc_ts.sim_wp_MWh_GWA)-np.array(production_MW_nc_ts.wp_MWh)).mean(),\n",
    "               np.nan,\n",
    "               (np.array(production_MW_wc_ts.sim_wp_MWh)-np.array(production_MW_wc_ts.wp_MWh)).mean(),\n",
    "               (np.array(production_MW_wc_ts.sim_wp_MWh_GWA)-np.array(production_MW_wc_ts.wp_MWh)).mean(),\n",
    "               np.nan,\n",
    "               (np.array(production_MW_zaf_ts.sim_wp_MWh)-np.array(production_MW_zaf_ts.wp_MWh)).mean(),\n",
    "               (np.array(production_MW_zaf_ts.sim_wp_MWh_GWA)-np.array(production_MW_zaf_ts.wp_MWh)).mean(),\n",
    "               np.nan]\n"
   ]
  },
  {
   "cell_type": "markdown",
   "metadata": {},
   "source": [
    "Calculate means"
   ]
  },
  {
   "cell_type": "code",
   "execution_count": null,
   "metadata": {},
   "outputs": [],
   "source": [
    "stats_h.avg = [production_MW_ec_ts.sim_wp_MWh.mean(),production_MW_ec_ts.sim_wp_MWh_GWA.mean(),production_MW_ec_ts.wp_MWh.mean(),\n",
    "               production_MW_nc_ts.sim_wp_MWh.mean(),production_MW_nc_ts.sim_wp_MWh_GWA.mean(),production_MW_nc_ts.wp_MWh.mean(),\n",
    "               production_MW_wc_ts.sim_wp_MWh.mean(),production_MW_wc_ts.sim_wp_MWh_GWA.mean(),production_MW_wc_ts.wp_MWh.mean(),\n",
    "               production_MW_zaf_ts.sim_wp_MWh.mean(),production_MW_zaf_ts.sim_wp_MWh_GWA.mean(),production_MW_zaf_ts.wp_MWh.mean()]\n"
   ]
  },
  {
   "cell_type": "markdown",
   "metadata": {},
   "source": [
    "save dataframe with hourly results"
   ]
  },
  {
   "cell_type": "code",
   "execution_count": null,
   "metadata": {},
   "outputs": [],
   "source": [
    "# hourly and absolute statistics\n",
    "stats_ha = stats_h.transpose().set_index(pd.Index(['Correlation','RMSE_MWh','MBE_MWh','Mean_MWh']),'parameter')"
   ]
  },
  {
   "cell_type": "code",
   "execution_count": null,
   "metadata": {},
   "outputs": [],
   "source": [
    "stats_ha.round(2)"
   ]
  },
  {
   "cell_type": "code",
   "execution_count": null,
   "metadata": {},
   "outputs": [],
   "source": [
    "stats_ha.round(2).to_csv(south_africa_path+'/results/stats_h_abs_ERA5.csv',sep=';')"
   ]
  },
  {
   "cell_type": "code",
   "execution_count": null,
   "metadata": {},
   "outputs": [],
   "source": []
  },
  {
   "cell_type": "code",
   "execution_count": null,
   "metadata": {},
   "outputs": [],
   "source": [
    "# plot ZAF\n",
    "prod_ZAFh = production_MW_zaf_ts.melt(var_name='type',value_name='hourly_MWh')\n",
    "sns.set(style='darkgrid',context='talk')\n",
    "plt.figure(figsize=(12,8))\n",
    "ax = sns.boxplot(x='type',y='hourly_MWh',data=prod_ZAFh,palette=col_refuel3,linewidth=3)\n",
    "#plt.ylim(0,1)\n",
    "fig = ax.get_figure()\n",
    "fig.savefig(south_africa_path+'/results/plots/absolute/ZAF_ERA5_hourly.png')"
   ]
  },
  {
   "cell_type": "code",
   "execution_count": null,
   "metadata": {},
   "outputs": [],
   "source": [
    "# boxplots with seaborn for capes\n",
    "\n",
    "# melt data for each region and add a region column\n",
    "prod_ECh = production_MW_ec_ts.melt(var_name='type',value_name='hourly_MWh')\n",
    "prod_ECh['region'] = 'EC'\n",
    "prod_NCh = production_MW_nc_ts.melt(var_name='type',value_name='hourly_MWh')\n",
    "prod_NCh['region'] = 'NC'\n",
    "prod_WCh = production_MW_wc_ts.melt(var_name='type',value_name='hourly_MWh')\n",
    "prod_WCh['region'] = 'WC'\n",
    "\n",
    "# merge regions to one data frame\n",
    "prod_Ch = pd.concat([prod_ECh,prod_NCh,prod_WCh])"
   ]
  },
  {
   "cell_type": "code",
   "execution_count": null,
   "metadata": {},
   "outputs": [],
   "source": [
    "prod_Ch_tidy = prod_Ch.melt(id_vars=['region','type'],value_name='hourly_MWh').drop(columns={'variable'})"
   ]
  },
  {
   "cell_type": "code",
   "execution_count": null,
   "metadata": {},
   "outputs": [],
   "source": [
    "CF_ZAFh = CF_ZAF_h.melt(var_name='type',value_name='hourly_CF')\n",
    "sns.set(style='darkgrid',context='talk')\n",
    "plt.figure(figsize=(12,8))\n",
    "ax = sns.boxplot(x='region',y='hourly_MWh',hue='type',data=prod_Ch_tidy,palette=col_refuel3,linewidth=3)\n",
    "#plt.ylim(0,1)\n",
    "fig = ax.get_figure()\n",
    "fig.savefig(south_africa_path+'/results/plots/absolute/regions_ERA5_hourly.png')"
   ]
  },
  {
   "cell_type": "code",
   "execution_count": null,
   "metadata": {},
   "outputs": [],
   "source": []
  },
  {
   "cell_type": "markdown",
   "metadata": {},
   "source": [
    "# statistical analysis daily"
   ]
  },
  {
   "cell_type": "markdown",
   "metadata": {},
   "source": [
    "Whole country: need to remove days which are not complete, then aggregate daily"
   ]
  },
  {
   "cell_type": "code",
   "execution_count": null,
   "metadata": {},
   "outputs": [],
   "source": [
    "# function which creates series of 0 and 1 when hours shall be kept (1, complete days with 24 hours)\n",
    "# or hours shall be dropped (0, days where less than 24 hours are available)\n",
    "def drop_less_one_day(datetimeindex):\n",
    "    dt = np.array(datetimeindex.year*10000+datetimeindex.month*100+datetimeindex.day)\n",
    "    length = np.unique(dt,return_counts=True)[1]\n",
    "    \n",
    "    filt = np.array([0]*len(length))\n",
    "    filt[np.equal(length,24)] = 1\n",
    "    code = np.repeat(filt,length)\n",
    "    \n",
    "    return code"
   ]
  },
  {
   "cell_type": "code",
   "execution_count": null,
   "metadata": {},
   "outputs": [],
   "source": [
    "print('Shares of data kept')\n",
    "d = drop_less_one_day(production_MW_ec_ts.index)\n",
    "print(\"EC keep %: \", round(sum(np.equal(d,1))/len(production_MW_ec_ts.index)*100,1))\n",
    "\n",
    "d = drop_less_one_day(production_MW_wc_ts.index)\n",
    "print(\"WC keep %: \", round(sum(np.equal(d,1))/len(production_MW_wc_ts.index)*100,1))\n",
    "\n",
    "d = drop_less_one_day(production_MW_nc_ts.index)\n",
    "print(\"NC keep %: \", round(sum(np.equal(d,1))/len(production_MW_nc_ts.index)*100,1))\n",
    "\n",
    "d = drop_less_one_day(production_MW_zaf_ts.index)\n",
    "print(\"ZAF keep %: \", round(sum(np.equal(d,1))/len(production_MW_zaf_ts.index)*100,1))\n"
   ]
  },
  {
   "cell_type": "code",
   "execution_count": null,
   "metadata": {},
   "outputs": [],
   "source": [
    "# first copy all the data, in order to avoid warning message\n",
    "production_MW_ec_ts = production_MW_ec_ts.copy()\n",
    "production_MW_nc_ts = production_MW_nc_ts.copy()\n",
    "production_MW_wc_ts = production_MW_wc_ts.copy()\n",
    "production_MW_zaf_ts = production_MW_zaf_ts.copy()"
   ]
  },
  {
   "cell_type": "code",
   "execution_count": null,
   "metadata": {},
   "outputs": [],
   "source": [
    "# mark the data to keep\n",
    "production_MW_ec_ts['keep'] = drop_less_one_day(production_MW_ec_ts.index)\n",
    "production_MW_wc_ts['keep'] = drop_less_one_day(production_MW_wc_ts.index)\n",
    "production_MW_nc_ts['keep'] = drop_less_one_day(production_MW_nc_ts.index)\n",
    "production_MW_zaf_ts['keep'] = drop_less_one_day(production_MW_zaf_ts.index)"
   ]
  },
  {
   "cell_type": "code",
   "execution_count": null,
   "metadata": {},
   "outputs": [],
   "source": [
    "# filter out only whole days\n",
    "production_ec_filtered = production_MW_ec_ts[production_MW_ec_ts.keep==1]\n",
    "production_wc_filtered = production_MW_wc_ts[production_MW_wc_ts.keep==1]\n",
    "production_nc_filtered = production_MW_nc_ts[production_MW_nc_ts.keep==1]\n",
    "production_zaf_filtered = production_MW_zaf_ts[production_MW_zaf_ts.keep==1]"
   ]
  },
  {
   "cell_type": "markdown",
   "metadata": {},
   "source": [
    "### aggregate daily"
   ]
  },
  {
   "cell_type": "code",
   "execution_count": null,
   "metadata": {},
   "outputs": [],
   "source": [
    "date_ec = production_ec_filtered.index.year*10000+production_ec_filtered.index.month*100 + production_ec_filtered.index.day\n",
    "production_GW_EC_daily = production_ec_filtered.groupby(date_ec).sum()/1000\n",
    "date_nc = production_nc_filtered.index.year*10000+production_nc_filtered.index.month*100 + production_nc_filtered.index.day\n",
    "production_GW_NC_daily = production_nc_filtered.groupby(date_nc).sum()/1000\n",
    "date_wc = production_wc_filtered.index.year*10000+production_wc_filtered.index.month*100 + production_wc_filtered.index.day\n",
    "production_GW_WC_daily = production_wc_filtered.groupby(date_wc).sum()/1000\n",
    "date_zaf = production_zaf_filtered.index.year*10000+production_zaf_filtered.index.month*100 + production_zaf_filtered.index.day\n",
    "production_GW_ZAF_daily = production_zaf_filtered.groupby(date_zaf).sum()/1000"
   ]
  },
  {
   "cell_type": "code",
   "execution_count": null,
   "metadata": {},
   "outputs": [],
   "source": [
    "production_GW_EC_daily = production_GW_EC_daily.drop('keep',axis=1).rename(columns={'wp_MWh':'obs','sim_wp_MWh':'sim','sim_wp_MWh_GWA':'sim_GWA'})\n",
    "production_GW_NC_daily = production_GW_NC_daily.drop('keep',axis=1).rename(columns={'wp_MWh':'obs','sim_wp_MWh':'sim','sim_wp_MWh_GWA':'sim_GWA'})\n",
    "production_GW_WC_daily = production_GW_WC_daily.drop('keep',axis=1).rename(columns={'wp_MWh':'obs','sim_wp_MWh':'sim','sim_wp_MWh_GWA':'sim_GWA'})\n",
    "production_GW_ZAF_daily = production_GW_ZAF_daily.drop('keep',axis=1).rename(columns={'wp_MWh':'obs','sim_wp_MWh':'sim','sim_wp_MWh_GWA':'sim_GWA'})"
   ]
  },
  {
   "cell_type": "markdown",
   "metadata": {},
   "source": [
    "### calculate statistical parameters\n",
    "prepare dataframe for statistical parameters"
   ]
  },
  {
   "cell_type": "code",
   "execution_count": null,
   "metadata": {},
   "outputs": [],
   "source": [
    "stats_d = pd.DataFrame({'cor':np.nan,\n",
    "                        'rmse':np.nan,\n",
    "                        'mbe':np.nan,\n",
    "                        'avg':np.nan},\n",
    "                        index = ['EC','EC_GWA','EC_obs',\n",
    "                                 'NC','NC_GWA','NC_obs',\n",
    "                                 'WC','WC_GWA','WC_obs',\n",
    "                                 'ZAF','ZAF_GWA','ZAF_obs'])"
   ]
  },
  {
   "cell_type": "markdown",
   "metadata": {},
   "source": [
    "Calculate correlations"
   ]
  },
  {
   "cell_type": "code",
   "execution_count": null,
   "metadata": {},
   "outputs": [],
   "source": [
    "stats_d.cor = [np.corrcoef(production_GW_EC_daily.obs,production_GW_EC_daily.sim)[0,1],\n",
    "               np.corrcoef(production_GW_EC_daily.obs,production_GW_EC_daily.sim_GWA)[0,1],\n",
    "               np.nan,\n",
    "               np.corrcoef(production_GW_WC_daily.obs,production_GW_WC_daily.sim)[0,1],\n",
    "               np.corrcoef(production_GW_WC_daily.obs,production_GW_WC_daily.sim_GWA)[0,1],\n",
    "               np.nan,\n",
    "               np.corrcoef(production_GW_NC_daily.obs,production_GW_NC_daily.sim)[0,1],\n",
    "               np.corrcoef(production_GW_NC_daily.obs,production_GW_NC_daily.sim_GWA)[0,1],\n",
    "               np.nan,\n",
    "               np.corrcoef(production_GW_ZAF_daily.obs,production_GW_ZAF_daily.sim)[0,1],\n",
    "               np.corrcoef(production_GW_ZAF_daily.obs,production_GW_ZAF_daily.sim_GWA)[0,1],\n",
    "               np.nan]\n"
   ]
  },
  {
   "cell_type": "markdown",
   "metadata": {},
   "source": [
    "Calculate RMSEs"
   ]
  },
  {
   "cell_type": "code",
   "execution_count": null,
   "metadata": {},
   "outputs": [],
   "source": [
    "stats_d.rmse = [np.sqrt(np.mean((np.array(production_GW_EC_daily.obs)-np.array(production_GW_EC_daily.sim))**2)),\n",
    "                 np.sqrt(np.mean((np.array(production_GW_EC_daily.obs)-np.array(production_GW_EC_daily.sim_GWA))**2)),\n",
    "                 np.nan,\n",
    "                 np.sqrt(np.mean((np.array(production_GW_NC_daily.obs)-np.array(production_GW_NC_daily.sim))**2)),\n",
    "                 np.sqrt(np.mean((np.array(production_GW_NC_daily.obs)-np.array(production_GW_NC_daily.sim_GWA))**2)),\n",
    "                 np.nan,\n",
    "                 np.sqrt(np.mean((np.array(production_GW_WC_daily.obs)-np.array(production_GW_WC_daily.sim))**2)),\n",
    "                 np.sqrt(np.mean((np.array(production_GW_WC_daily.obs)-np.array(production_GW_WC_daily.sim_GWA))**2)),\n",
    "                 np.nan,\n",
    "                 np.sqrt(np.mean((np.array(production_GW_ZAF_daily.obs)-np.array(production_GW_ZAF_daily.sim))**2)),\n",
    "                 np.sqrt(np.mean((np.array(production_GW_ZAF_daily.obs)-np.array(production_GW_ZAF_daily.sim_GWA))**2)),\n",
    "                 np.nan]\n"
   ]
  },
  {
   "cell_type": "markdown",
   "metadata": {},
   "source": [
    "Calculate MBEs"
   ]
  },
  {
   "cell_type": "code",
   "execution_count": null,
   "metadata": {},
   "outputs": [],
   "source": [
    "stats_d.mbe = [(np.array(production_GW_EC_daily.sim)-np.array(production_GW_EC_daily.obs)).mean(),\n",
    "               (np.array(production_GW_EC_daily.sim_GWA)-np.array(production_GW_EC_daily.obs)).mean(),\n",
    "               np.nan,\n",
    "               (np.array(production_GW_NC_daily.sim)-np.array(production_GW_NC_daily.obs)).mean(),\n",
    "               (np.array(production_GW_NC_daily.sim_GWA)-np.array(production_GW_NC_daily.obs)).mean(),\n",
    "               np.nan,\n",
    "               (np.array(production_GW_WC_daily.sim)-np.array(production_GW_WC_daily.obs)).mean(),\n",
    "               (np.array(production_GW_WC_daily.sim_GWA)-np.array(production_GW_WC_daily.obs)).mean(),\n",
    "               np.nan,\n",
    "               (np.array(production_GW_ZAF_daily.sim)-np.array(production_GW_ZAF_daily.obs)).mean(),\n",
    "               (np.array(production_GW_ZAF_daily.sim_GWA)-np.array(production_GW_ZAF_daily.obs)).mean(),\n",
    "               np.nan]\n"
   ]
  },
  {
   "cell_type": "markdown",
   "metadata": {},
   "source": [
    "Calculate means"
   ]
  },
  {
   "cell_type": "code",
   "execution_count": null,
   "metadata": {},
   "outputs": [],
   "source": [
    "stats_d.avg = [production_GW_EC_daily.sim.mean(),production_GW_EC_daily.sim_GWA.mean(),production_GW_EC_daily.obs.mean(),\n",
    "               production_GW_NC_daily.sim.mean(),production_GW_NC_daily.sim_GWA.mean(),production_GW_NC_daily.obs.mean(),\n",
    "               production_GW_WC_daily.sim.mean(),production_GW_WC_daily.sim_GWA.mean(),production_GW_WC_daily.obs.mean(),\n",
    "               production_GW_ZAF_daily.sim.mean(),production_GW_ZAF_daily.sim_GWA.mean(),production_GW_ZAF_daily.obs.mean()]\n"
   ]
  },
  {
   "cell_type": "code",
   "execution_count": null,
   "metadata": {},
   "outputs": [],
   "source": []
  },
  {
   "cell_type": "markdown",
   "metadata": {},
   "source": [
    "save dataframe with daily results"
   ]
  },
  {
   "cell_type": "code",
   "execution_count": null,
   "metadata": {},
   "outputs": [],
   "source": [
    "# hourly and absolute statistics\n",
    "stats_da = stats_d.transpose().set_index(pd.Index(['Correlation','RMSE_MWh','MBE_MWh','Mean_MWh']),'parameter')"
   ]
  },
  {
   "cell_type": "code",
   "execution_count": null,
   "metadata": {},
   "outputs": [],
   "source": [
    "stats_da.round(2).to_csv(south_africa_path+'/results/stats_d_abs_ERA5.csv',sep=';')"
   ]
  },
  {
   "cell_type": "code",
   "execution_count": null,
   "metadata": {},
   "outputs": [],
   "source": [
    "stats_da.round(2)"
   ]
  },
  {
   "cell_type": "markdown",
   "metadata": {},
   "source": [
    "boxplot for South Africa"
   ]
  },
  {
   "cell_type": "code",
   "execution_count": null,
   "metadata": {},
   "outputs": [],
   "source": [
    "# plot South Africa\n",
    "prod_ZAFd = production_GW_ZAF_daily.melt(var_name='type',value_name='daily_GWh')\n",
    "sns.set(style='darkgrid',context='talk')\n",
    "plt.figure(figsize=(12,8))\n",
    "ax = sns.boxplot(x='type',y='daily_GWh',data=prod_ZAFd,palette=col_refuel3,linewidth=3)\n",
    "fig = ax.get_figure()\n",
    "fig.savefig(south_africa_path+'/results/plots/absolute/ZAF_ERA5_daily.png')"
   ]
  },
  {
   "cell_type": "code",
   "execution_count": null,
   "metadata": {},
   "outputs": [],
   "source": [
    "# boxplots for capes\n",
    "\n",
    "# melt data for each region and add a region column\n",
    "prod_ECd = production_GW_EC_daily.melt(var_name='type',value_name='daily_GWh')\n",
    "prod_ECd['region'] = 'EC'\n",
    "prod_NCd = production_GW_NC_daily.melt(var_name='type',value_name='daily_GWh')\n",
    "prod_NCd['region'] = 'NC'\n",
    "prod_WCd = production_GW_WC_daily.melt(var_name='type',value_name='daily_GWh')\n",
    "prod_WCd['region'] = 'WC'\n",
    "\n",
    "# merge regions to one data frame\n",
    "prod_Cd = pd.concat([prod_ECd,prod_NCd,prod_WCd])"
   ]
  },
  {
   "cell_type": "code",
   "execution_count": null,
   "metadata": {},
   "outputs": [],
   "source": [
    "# lengths of time series\n",
    "print('EC: '+str(prod_ECd.shape[0]))\n",
    "print('NC: '+str(prod_NCd.shape[0]))\n",
    "print('WC: '+str(prod_WCd.shape[0]))\n",
    "print('ZAF: '+str(prod_ZAFd.shape[0]))"
   ]
  },
  {
   "cell_type": "code",
   "execution_count": null,
   "metadata": {},
   "outputs": [],
   "source": [
    "prod_Cd_tidy = prod_Cd.melt(id_vars=['region','type'],value_name='daily_GWh').drop(columns={'variable'})"
   ]
  },
  {
   "cell_type": "code",
   "execution_count": null,
   "metadata": {},
   "outputs": [],
   "source": [
    "# plot Capes\n",
    "sns.set(style='darkgrid',context='talk')\n",
    "plt.figure(figsize=(12,8))\n",
    "ax = sns.boxplot(x='region',y='daily_GWh',hue='type',data=prod_Cd_tidy,palette=col_refuel3,linewidth=3)\n",
    "fig = ax.get_figure()\n",
    "fig.savefig(south_africa_path+'/results/plots/absolute/regions_ERA5_daily.png')"
   ]
  },
  {
   "cell_type": "markdown",
   "metadata": {},
   "source": [
    "# Conclusion absolute analysis"
   ]
  },
  {
   "cell_type": "markdown",
   "metadata": {},
   "source": [
    "always better with GWA, with GWA only slightly underestimated, without GWA more underestimation"
   ]
  },
  {
   "cell_type": "code",
   "execution_count": null,
   "metadata": {},
   "outputs": [],
   "source": [
    "plt.plot(production_GW_ZAF_daily.iloc[:,:3].values)"
   ]
  },
  {
   "cell_type": "markdown",
   "metadata": {},
   "source": [
    "  \n",
    "  \n",
    "  \n",
    "  \n",
    "  \n",
    "  \n",
    "  \n",
    "  "
   ]
  },
  {
   "cell_type": "markdown",
   "metadata": {},
   "source": [
    "# Installed Capacities"
   ]
  },
  {
   "cell_type": "markdown",
   "metadata": {},
   "source": [
    "### make time series and get mean capacities"
   ]
  },
  {
   "cell_type": "markdown",
   "metadata": {},
   "source": [
    "create time series of installed capacities"
   ]
  },
  {
   "cell_type": "code",
   "execution_count": null,
   "metadata": {},
   "outputs": [],
   "source": [
    "# sort installed capacities by commissioning date\n",
    "cap = pd.DataFrame({'capacity': list(windparks.Capacity),'region':list(windparks.Area)},index=t)\n",
    "cap = cap.sort_index()"
   ]
  },
  {
   "cell_type": "code",
   "execution_count": null,
   "metadata": {},
   "outputs": [],
   "source": [
    "# cumulative capacity EC\n",
    "cap_ec = cap[cap.region=='Eastern Cape']\n",
    "cap_ec = cap_ec.drop(columns={'region'}).groupby(cap_ec.index).sum()\n",
    "cap_ec['capsum'] = cap_ec.capacity.cumsum()"
   ]
  },
  {
   "cell_type": "code",
   "execution_count": null,
   "metadata": {},
   "outputs": [],
   "source": [
    "# cumulative capacity NC\n",
    "cap_nc = cap[cap.region=='Northern Cape']\n",
    "cap_nc = cap_nc.drop(columns={'region'}).groupby(cap_nc.index).sum()\n",
    "cap_nc['capsum'] = cap_nc.capacity.cumsum()"
   ]
  },
  {
   "cell_type": "code",
   "execution_count": null,
   "metadata": {},
   "outputs": [],
   "source": [
    "# cumulative capacity WC\n",
    "cap_wc = cap[cap.region=='Western Cape']\n",
    "cap_wc = cap_wc.drop(columns={'region'}).groupby(cap_wc.index).sum()\n",
    "cap_wc['capsum'] = cap_wc.capacity.cumsum()"
   ]
  },
  {
   "cell_type": "code",
   "execution_count": null,
   "metadata": {},
   "outputs": [],
   "source": [
    "plt.plot(cap_ec.capsum)\n",
    "plt.plot(cap_nc.capsum)\n",
    "plt.plot(cap_wc.capsum)\n",
    "plt.legend(['EC','NC','WC'])"
   ]
  },
  {
   "cell_type": "markdown",
   "metadata": {},
   "source": [
    "get first capacity in period of interest"
   ]
  },
  {
   "cell_type": "code",
   "execution_count": null,
   "metadata": {},
   "outputs": [],
   "source": [
    "firstcap_ec = cap_ec[cap_ec.index<production_ec_filtered.index[0]].capsum[-1]\n",
    "firstcap_nc = cap_nc[cap_nc.index<production_nc_filtered.index[0]].capsum[-1]\n",
    "firstcap_wc = cap_wc[cap_wc.index<production_wc_filtered.index[0]].capsum[-1]"
   ]
  },
  {
   "cell_type": "markdown",
   "metadata": {},
   "source": [
    "cut capacities after starting date of production"
   ]
  },
  {
   "cell_type": "code",
   "execution_count": null,
   "metadata": {},
   "outputs": [],
   "source": [
    "capc_ec = cap_ec[(cap_ec.index>=production_ec_filtered.index[0])&(cap_ec.index<=production_ec_filtered.index[-1])]\n",
    "capc_nc = cap_nc[(cap_nc.index>=production_nc_filtered.index[0])&(cap_nc.index<=production_nc_filtered.index[-1])]\n",
    "capc_wc = cap_wc[(cap_wc.index>=production_wc_filtered.index[0])&(cap_wc.index<=production_wc_filtered.index[-1])]\n"
   ]
  },
  {
   "cell_type": "markdown",
   "metadata": {},
   "source": [
    "Make dataframe with dates where all data are available as index to fill in capacities and then sum for ZAF"
   ]
  },
  {
   "cell_type": "code",
   "execution_count": null,
   "metadata": {},
   "outputs": [],
   "source": [
    "cap_all_h = pd.DataFrame({'EC':0,'NC':0,'WC':0,'ZAF':0},index=available_data.index)"
   ]
  },
  {
   "cell_type": "code",
   "execution_count": null,
   "metadata": {},
   "outputs": [],
   "source": [
    "# fill in cumulative capacities\n",
    "cap_all_h.EC = cap_all_h.index.map(capc_ec.capsum)\n",
    "cap_all_h.NC = cap_all_h.index.map(capc_nc.capsum)\n",
    "cap_all_h.WC = cap_all_h.index.map(capc_wc.capsum)"
   ]
  },
  {
   "cell_type": "code",
   "execution_count": null,
   "metadata": {},
   "outputs": [],
   "source": [
    "# fill in starting capacities at date of first observed generation\n",
    "cap_all_h.at[production_MW_ec_ts.index[0],'EC'] = firstcap_ec\n",
    "cap_all_h.at[production_MW_nc_ts.index[0],'NC'] = firstcap_nc\n",
    "cap_all_h.at[production_MW_wc_ts.index[0],'WC'] = firstcap_wc"
   ]
  },
  {
   "cell_type": "code",
   "execution_count": null,
   "metadata": {},
   "outputs": [],
   "source": [
    "# fill Nas with last capacity\n",
    "cap_all_h = cap_all_h.fillna(method = 'ffill')"
   ]
  },
  {
   "cell_type": "code",
   "execution_count": null,
   "metadata": {},
   "outputs": [],
   "source": [
    "# fill remaining Nas as beginning with 0\n",
    "cap_all_h = cap_all_h.fillna(0)"
   ]
  },
  {
   "cell_type": "code",
   "execution_count": null,
   "metadata": {},
   "outputs": [],
   "source": [
    "# sum up capacities for ZAF\n",
    "cap_all_h.ZAF = cap_all_h[['EC','NC','WC']].sum(axis=1)"
   ]
  },
  {
   "cell_type": "code",
   "execution_count": null,
   "metadata": {},
   "outputs": [],
   "source": [
    "plt.plot(cap_all_h)\n",
    "plt.legend(cap_all_h.columns)"
   ]
  },
  {
   "cell_type": "code",
   "execution_count": null,
   "metadata": {},
   "outputs": [],
   "source": [
    "# remove hours where not all data are available\n",
    "cap_all_h = cap_all_h[available_data.ZAF==1]"
   ]
  },
  {
   "cell_type": "code",
   "execution_count": null,
   "metadata": {},
   "outputs": [],
   "source": [
    "# mean capacities\n",
    "mcap_zaf = cap_all_h.ZAF.mean()\n",
    "mcap_ec = cap_all_h.EC[cap_all_h.EC>0].mean()\n",
    "mcap_nc = cap_all_h.NC[cap_all_h.NC>0].mean()\n",
    "mcap_wc = cap_all_h.WC[cap_all_h.WC>0].mean()"
   ]
  },
  {
   "cell_type": "markdown",
   "metadata": {},
   "source": [
    "### Daily capacities"
   ]
  },
  {
   "cell_type": "code",
   "execution_count": null,
   "metadata": {},
   "outputs": [],
   "source": [
    "# mark the data to keep\n",
    "cap_all_h['keep'] = drop_less_one_day(cap_all_h.index)"
   ]
  },
  {
   "cell_type": "code",
   "execution_count": null,
   "metadata": {},
   "outputs": [],
   "source": [
    "# filter out only whole days\n",
    "cap_all_h_filtered = cap_all_h[cap_all_h.keep==1]"
   ]
  },
  {
   "cell_type": "markdown",
   "metadata": {},
   "source": [
    "get daily time series"
   ]
  },
  {
   "cell_type": "code",
   "execution_count": null,
   "metadata": {},
   "outputs": [],
   "source": [
    "date = cap_all_h_filtered.index.year*10000+cap_all_h_filtered.index.month*100 + cap_all_h_filtered.index.day\n",
    "cap_all_d = cap_all_h_filtered.groupby(date).mean()"
   ]
  },
  {
   "cell_type": "code",
   "execution_count": null,
   "metadata": {},
   "outputs": [],
   "source": [
    "cap_all_d = cap_all_d.drop('keep',axis=1)"
   ]
  },
  {
   "cell_type": "code",
   "execution_count": null,
   "metadata": {},
   "outputs": [],
   "source": [
    "# mean capacities\n",
    "mcap_zaf_d = cap_all_d.ZAF.mean()\n",
    "mcap_ec_d = cap_all_d.EC[cap_all_d.EC>0].mean()\n",
    "mcap_nc_d = cap_all_d.NC[cap_all_d.NC>0].mean()\n",
    "mcap_wc_d = cap_all_d.WC[cap_all_d.WC>0].mean()"
   ]
  },
  {
   "cell_type": "code",
   "execution_count": null,
   "metadata": {},
   "outputs": [],
   "source": [
    "plt.plot(production_MW_wc[production_MW_wc.index<=max(cap_all_h.index)])\n",
    "plt.plot(cap_all_h.WC[cap_all_h.WC>0])\n",
    "plt.legend(['obs','sim','sim_GWA','cap'])"
   ]
  },
  {
   "cell_type": "code",
   "execution_count": null,
   "metadata": {},
   "outputs": [],
   "source": [
    "plt.plot(production_MW_nc[production_MW_nc.index<=max(cap_all_h.index)])\n",
    "plt.plot(cap_all_h.NC[cap_all_h.NC>0])\n",
    "plt.legend(['obs','sim','sim_GWA','cap'])"
   ]
  },
  {
   "cell_type": "code",
   "execution_count": null,
   "metadata": {},
   "outputs": [],
   "source": [
    "plt.plot(production_MW_ec[production_MW_ec.index<=max(cap_all_h.index)])\n",
    "plt.plot(cap_all_h.EC[cap_all_h.EC>0])\n",
    "plt.legend(['obs','sim','sim_GWA','cap'])"
   ]
  },
  {
   "cell_type": "markdown",
   "metadata": {},
   "source": [
    "# Relative results"
   ]
  },
  {
   "cell_type": "markdown",
   "metadata": {},
   "source": [
    "### hourly"
   ]
  },
  {
   "cell_type": "code",
   "execution_count": null,
   "metadata": {},
   "outputs": [],
   "source": [
    "stats_hr = stats_ha[['EC','EC_GWA','NC','NC_GWA','WC','WC_GWA','ZAF','ZAF_GWA']][:3].copy()"
   ]
  },
  {
   "cell_type": "code",
   "execution_count": null,
   "metadata": {},
   "outputs": [],
   "source": [
    "stats_hr.iloc[1:,:2] = stats_ha.iloc[1:3,:2]/(mcap_ec)\n",
    "\n",
    "stats_hr.iloc[1:,2:4] = stats_ha.iloc[1:3,3:5]/(mcap_nc)\n",
    "\n",
    "stats_hr.iloc[1:,4:6] = stats_ha.iloc[1:3,6:8]/(mcap_wc)\n",
    "\n",
    "stats_hr.iloc[1:,6:8] = stats_ha.iloc[1:3,9:11]/(mcap_zaf)"
   ]
  },
  {
   "cell_type": "code",
   "execution_count": null,
   "metadata": {},
   "outputs": [],
   "source": [
    "stats_hr.round(2)"
   ]
  },
  {
   "cell_type": "code",
   "execution_count": null,
   "metadata": {},
   "outputs": [],
   "source": [
    "# save relative results\n",
    "stats_hr.round(2).to_csv(south_africa_path+\"/results/stats_h_rel_ERA5.csv\")"
   ]
  },
  {
   "cell_type": "markdown",
   "metadata": {},
   "source": [
    "### daily"
   ]
  },
  {
   "cell_type": "code",
   "execution_count": null,
   "metadata": {},
   "outputs": [],
   "source": [
    "stats_dr = stats_da[['EC','EC_GWA','NC','NC_GWA','WC','WC_GWA','ZAF','ZAF_GWA']][:3].copy()"
   ]
  },
  {
   "cell_type": "code",
   "execution_count": null,
   "metadata": {},
   "outputs": [],
   "source": [
    "stats_dr.iloc[1:,:2] = stats_da.iloc[1:3,:2]/(mcap_ec_d*24/1000)\n",
    "\n",
    "stats_dr.iloc[1:,2:4] = stats_da.iloc[1:3,3:5]/(mcap_nc_d*24/1000)\n",
    "\n",
    "stats_dr.iloc[1:,4:6] = stats_da.iloc[1:3,6:8]/(mcap_wc_d*24/1000)\n",
    "\n",
    "stats_dr.iloc[1:,6:8] = stats_da.iloc[1:3,9:11]/(mcap_zaf_d*24/1000)"
   ]
  },
  {
   "cell_type": "code",
   "execution_count": null,
   "metadata": {},
   "outputs": [],
   "source": [
    "stats_dr.round(2)"
   ]
  },
  {
   "cell_type": "code",
   "execution_count": null,
   "metadata": {},
   "outputs": [],
   "source": [
    "# save relative results\n",
    "stats_dr.round(2).to_csv(south_africa_path+\"/results/stats_d_rel_ERA5.csv\")"
   ]
  },
  {
   "cell_type": "code",
   "execution_count": null,
   "metadata": {},
   "outputs": [],
   "source": []
  },
  {
   "cell_type": "markdown",
   "metadata": {},
   "source": [
    "# Capacity factors"
   ]
  },
  {
   "cell_type": "markdown",
   "metadata": {},
   "source": [
    "let's also calculate daily and hourly capacity factors"
   ]
  },
  {
   "cell_type": "markdown",
   "metadata": {},
   "source": [
    "### hourly"
   ]
  },
  {
   "cell_type": "code",
   "execution_count": null,
   "metadata": {},
   "outputs": [],
   "source": [
    "CF_EC_h = production_MW_ec_ts.drop('keep',axis=1).div(cap_all_h.EC[cap_all_h.EC>0].values,axis=0)\n",
    "CF_NC_h = production_MW_nc_ts.drop('keep',axis=1).div(cap_all_h.NC[cap_all_h.NC>0].values,axis=0)\n",
    "CF_WC_h = production_MW_wc_ts.drop('keep',axis=1).div(cap_all_h.WC[cap_all_h.WC>0].values,axis=0)\n",
    "CF_ZAF_h = production_MW_zaf_ts.drop('keep',axis=1).div(cap_all_h.ZAF[cap_all_h.ZAF>0].values,axis=0)"
   ]
  },
  {
   "cell_type": "code",
   "execution_count": null,
   "metadata": {},
   "outputs": [],
   "source": [
    "plt.plot(CF_EC_h)"
   ]
  },
  {
   "cell_type": "code",
   "execution_count": null,
   "metadata": {},
   "outputs": [],
   "source": [
    "plt.plot(CF_NC_h)"
   ]
  },
  {
   "cell_type": "code",
   "execution_count": null,
   "metadata": {},
   "outputs": [],
   "source": [
    "plt.plot(CF_WC_h)"
   ]
  },
  {
   "cell_type": "code",
   "execution_count": null,
   "metadata": {},
   "outputs": [],
   "source": [
    "plt.plot(CF_ZAF_h)"
   ]
  },
  {
   "cell_type": "markdown",
   "metadata": {},
   "source": [
    "### daily"
   ]
  },
  {
   "cell_type": "code",
   "execution_count": null,
   "metadata": {},
   "outputs": [],
   "source": [
    "CF_EC_d = production_GW_EC_daily.div(cap_all_d.EC[cap_all_d.EC>0].values*24/1000,axis=0)\n",
    "CF_NC_d = production_GW_NC_daily.div(cap_all_d.NC[cap_all_d.NC>0].values*24/1000,axis=0)\n",
    "CF_WC_d = production_GW_WC_daily.div(cap_all_d.WC[cap_all_d.WC>0].values*24/1000,axis=0)\n",
    "CF_ZAF_d = production_GW_ZAF_daily.div(cap_all_d.ZAF[cap_all_d.ZAF>0].values*24/1000,axis=0)"
   ]
  },
  {
   "cell_type": "code",
   "execution_count": null,
   "metadata": {},
   "outputs": [],
   "source": [
    "CF_EC_d.index = [np.datetime64(str(d)[:4]+'-'+str(d)[4:6]+'-'+str(d)[6:]) for d in CF_EC_d.index]\n",
    "CF_NC_d.index = [np.datetime64(str(d)[:4]+'-'+str(d)[4:6]+'-'+str(d)[6:]) for d in CF_NC_d.index]\n",
    "CF_WC_d.index = [np.datetime64(str(d)[:4]+'-'+str(d)[4:6]+'-'+str(d)[6:]) for d in CF_WC_d.index]\n",
    "CF_ZAF_d.index = [np.datetime64(str(d)[:4]+'-'+str(d)[4:6]+'-'+str(d)[6:]) for d in CF_ZAF_d.index]"
   ]
  },
  {
   "cell_type": "code",
   "execution_count": null,
   "metadata": {},
   "outputs": [],
   "source": [
    "plt.plot(CF_EC_d)"
   ]
  },
  {
   "cell_type": "code",
   "execution_count": null,
   "metadata": {},
   "outputs": [],
   "source": [
    "plt.plot(CF_NC_d)"
   ]
  },
  {
   "cell_type": "code",
   "execution_count": null,
   "metadata": {},
   "outputs": [],
   "source": [
    "plt.plot(CF_WC_d)"
   ]
  },
  {
   "cell_type": "code",
   "execution_count": null,
   "metadata": {},
   "outputs": [],
   "source": [
    "plt.plot(CF_ZAF_d)"
   ]
  },
  {
   "cell_type": "markdown",
   "metadata": {},
   "source": [
    "# Analysis Capacity Factors"
   ]
  },
  {
   "cell_type": "markdown",
   "metadata": {},
   "source": [
    "### hourly"
   ]
  },
  {
   "cell_type": "code",
   "execution_count": null,
   "metadata": {},
   "outputs": [],
   "source": [
    "statsCF_h = pd.DataFrame({'cor':np.nan,\n",
    "                          'rmse':np.nan,\n",
    "                          'mbe':np.nan,\n",
    "                          'avg':np.nan},\n",
    "                          index = ['EC','EC_GWA','EC_obs',\n",
    "                                   'NC','NC_GWA','NC_obs',\n",
    "                                   'WC','WC_GWA','WC_obs',\n",
    "                                   'ZAF','ZAF_GWA','ZAF_obs'])"
   ]
  },
  {
   "cell_type": "code",
   "execution_count": null,
   "metadata": {},
   "outputs": [],
   "source": [
    "CF_EC_h.columns =['obs','sim','sim_GWA']\n",
    "CF_NC_h.columns =['obs','sim','sim_GWA']\n",
    "CF_WC_h.columns =['obs','sim','sim_GWA']\n",
    "CF_ZAF_h.columns =['obs','sim','sim_GWA']"
   ]
  },
  {
   "cell_type": "code",
   "execution_count": null,
   "metadata": {},
   "outputs": [],
   "source": [
    "statsCF_h.cor = [np.corrcoef(CF_EC_h.obs,CF_EC_h.sim)[0,1],\n",
    "                 np.corrcoef(CF_EC_h.obs,CF_EC_h.sim_GWA)[0,1],\n",
    "                 np.nan,\n",
    "                 np.corrcoef(CF_NC_h.obs,CF_NC_h.sim)[0,1],\n",
    "                 np.corrcoef(CF_NC_h.obs,CF_NC_h.sim_GWA)[0,1],\n",
    "                 np.nan,\n",
    "                 np.corrcoef(CF_WC_h.obs,CF_WC_h.sim)[0,1],\n",
    "                 np.corrcoef(CF_WC_h.obs,CF_WC_h.sim_GWA)[0,1],\n",
    "                 np.nan,\n",
    "                 np.corrcoef(CF_ZAF_h.obs,CF_ZAF_h.sim)[0,1],\n",
    "                 np.corrcoef(CF_ZAF_h.obs,CF_ZAF_h.sim_GWA)[0,1],\n",
    "                 np.nan]\n"
   ]
  },
  {
   "cell_type": "code",
   "execution_count": null,
   "metadata": {},
   "outputs": [],
   "source": [
    "statsCF_h.rmse = [np.sqrt(np.mean((np.array(CF_EC_h.obs)-np.array(CF_EC_h.sim))**2)),\n",
    "                  np.sqrt(np.mean((np.array(CF_EC_h.obs)-np.array(CF_EC_h.sim_GWA))**2)),\n",
    "                  np.nan,\n",
    "                  np.sqrt(np.mean((np.array(CF_NC_h.obs)-np.array(CF_NC_h.sim))**2)),\n",
    "                  np.sqrt(np.mean((np.array(CF_NC_h.obs)-np.array(CF_NC_h.sim_GWA))**2)),\n",
    "                  np.nan,\n",
    "                  np.sqrt(np.mean((np.array(CF_WC_h.obs)-np.array(CF_WC_h.sim))**2)),\n",
    "                  np.sqrt(np.mean((np.array(CF_WC_h.obs)-np.array(CF_WC_h.sim_GWA))**2)),\n",
    "                  np.nan,\n",
    "                  np.sqrt(np.mean((np.array(CF_ZAF_h.obs)-np.array(CF_ZAF_h.sim))**2)),\n",
    "                  np.sqrt(np.mean((np.array(CF_ZAF_h.obs)-np.array(CF_ZAF_h.sim_GWA))**2)),\n",
    "                  np.nan]"
   ]
  },
  {
   "cell_type": "code",
   "execution_count": null,
   "metadata": {},
   "outputs": [],
   "source": [
    "statsCF_h.mbe = [(np.array(CF_EC_h.obs)-np.array(CF_EC_h.sim)).mean(),\n",
    "                 (np.array(CF_EC_h.obs)-np.array(CF_EC_h.sim_GWA)).mean(),\n",
    "                 np.nan,\n",
    "                 (np.array(CF_NC_h.obs)-np.array(CF_NC_h.sim)).mean(),\n",
    "                 (np.array(CF_NC_h.obs)-np.array(CF_NC_h.sim_GWA)).mean(),\n",
    "                 np.nan,\n",
    "                 (np.array(CF_WC_h.obs)-np.array(CF_WC_h.sim)).mean(),\n",
    "                 (np.array(CF_WC_h.obs)-np.array(CF_WC_h.sim_GWA)).mean(),\n",
    "                 np.nan,\n",
    "                 (np.array(CF_ZAF_h.obs)-np.array(CF_ZAF_h.sim)).mean(),\n",
    "                 (np.array(CF_ZAF_h.obs)-np.array(CF_ZAF_h.sim_GWA)).mean(),\n",
    "                 np.nan]\n"
   ]
  },
  {
   "cell_type": "code",
   "execution_count": null,
   "metadata": {},
   "outputs": [],
   "source": [
    "statsCF_h.avg = [CF_EC_h.sim.mean(),CF_EC_h.sim_GWA.mean(),CF_EC_h.obs.mean(),\n",
    "                 CF_NC_h.sim.mean(),CF_NC_h.sim_GWA.mean(),CF_NC_h.obs.mean(),\n",
    "                 CF_WC_h.sim.mean(),CF_WC_h.sim_GWA.mean(),CF_WC_h.obs.mean(),\n",
    "                 CF_ZAF_h.sim.mean(),CF_ZAF_h.sim_GWA.mean(),CF_ZAF_h.obs.mean()]\n"
   ]
  },
  {
   "cell_type": "markdown",
   "metadata": {},
   "source": [
    "save dataframe with hourly results"
   ]
  },
  {
   "cell_type": "code",
   "execution_count": null,
   "metadata": {},
   "outputs": [],
   "source": [
    "# hourly and absolute statistics\n",
    "statsCF_h = statsCF_h.transpose().set_index(pd.Index(['Correlation','RMSE_MWh','MBE_MWh','Mean_MWh']),'parameter')"
   ]
  },
  {
   "cell_type": "code",
   "execution_count": null,
   "metadata": {},
   "outputs": [],
   "source": [
    "statsCF_h.round(2).to_csv(south_africa_path+'/results/statsCF_h_ERA5.csv',sep=';')"
   ]
  },
  {
   "cell_type": "code",
   "execution_count": null,
   "metadata": {},
   "outputs": [],
   "source": [
    "statsCF_h.round(2)"
   ]
  },
  {
   "cell_type": "markdown",
   "metadata": {},
   "source": [
    "boxplot for South Africa"
   ]
  },
  {
   "cell_type": "code",
   "execution_count": null,
   "metadata": {},
   "outputs": [],
   "source": [
    "# plot South Africa\n",
    "CF_ZAFh = CF_ZAF_h.melt(var_name='type',value_name='hourly_CF')\n",
    "sns.set(style='darkgrid',context='talk')\n",
    "plt.figure(figsize=(12,8))\n",
    "ax = sns.boxplot(x='type',y='hourly_CF',data=CF_ZAFh,palette=col_refuel3,linewidth=3)\n",
    "plt.ylim(0,1)\n",
    "fig = ax.get_figure()\n",
    "fig.savefig(south_africa_path+'/results/plots/CFs/ZAF_ERA5_hourly.png')"
   ]
  },
  {
   "cell_type": "code",
   "execution_count": null,
   "metadata": {},
   "outputs": [],
   "source": [
    "# boxplots for capes\n",
    "\n",
    "# melt data for each region and add a region column\n",
    "CF_ECh = CF_EC_h.melt(var_name='type',value_name='hourly_CF')\n",
    "CF_ECh['region'] = 'EC'\n",
    "CF_NCh = CF_NC_h.melt(var_name='type',value_name='hourly_CF')\n",
    "CF_NCh['region'] = 'NC'\n",
    "CF_WCh = CF_WC_h.melt(var_name='type',value_name='hourly_CF')\n",
    "CF_WCh['region'] = 'WC'\n",
    "\n",
    "# merge regions to one data frame\n",
    "CF_Ch = pd.concat([CF_ECh,CF_NCh,CF_WCh])"
   ]
  },
  {
   "cell_type": "code",
   "execution_count": null,
   "metadata": {},
   "outputs": [],
   "source": [
    "# lengths of time series\n",
    "print('EC: '+str(CF_ECh.shape[0]))\n",
    "print('NC: '+str(CF_NCh.shape[0]))\n",
    "print('WC: '+str(CF_WCh.shape[0]))\n",
    "print('ZAF: '+str(CF_ZAFh.shape[0]))"
   ]
  },
  {
   "cell_type": "code",
   "execution_count": null,
   "metadata": {},
   "outputs": [],
   "source": [
    "CF_Ch_tidy = CF_Ch.melt(id_vars=['region','type'],value_name='hourly_CF').drop(columns={'variable'})"
   ]
  },
  {
   "cell_type": "code",
   "execution_count": null,
   "metadata": {},
   "outputs": [],
   "source": [
    "sns.set(style='darkgrid',context='talk')\n",
    "plt.figure(figsize=(12,8))\n",
    "ax = sns.boxplot(x='region',y='hourly_CF',hue='type',data=CF_Ch_tidy,palette=col_refuel3,linewidth=3)\n",
    "ax.legend(loc='center right', bbox_to_anchor=(1.25, 0.5))\n",
    "plt.ylim(0,1)\n",
    "fig = ax.get_figure()\n",
    "fig.savefig(south_africa_path+'/results/plots/CFs/regions_ERA5_hourly.png')"
   ]
  },
  {
   "cell_type": "markdown",
   "metadata": {},
   "source": [
    "### daily"
   ]
  },
  {
   "cell_type": "code",
   "execution_count": null,
   "metadata": {},
   "outputs": [],
   "source": [
    "statsCF_d = pd.DataFrame({'cor':np.nan,\n",
    "                          'rmse':np.nan,\n",
    "                          'mbe':np.nan,\n",
    "                          'avg':np.nan},\n",
    "                          index = ['EC','EC_GWA','EC_obs',\n",
    "                                   'NC','NC_GWA','NC_obs',\n",
    "                                   'WC','WC_GWA','WC_obs',\n",
    "                                   'ZAF','ZAF_GWA','ZAF_obs'])"
   ]
  },
  {
   "cell_type": "code",
   "execution_count": null,
   "metadata": {},
   "outputs": [],
   "source": [
    "statsCF_d.cor = [np.corrcoef(CF_EC_d.obs,CF_EC_d.sim)[0,1],\n",
    "                 np.corrcoef(CF_EC_d.obs,CF_EC_d.sim_GWA)[0,1],\n",
    "                 np.nan,\n",
    "                 np.corrcoef(CF_NC_d.obs,CF_NC_d.sim)[0,1],\n",
    "                 np.corrcoef(CF_NC_d.obs,CF_NC_d.sim_GWA)[0,1],\n",
    "                 np.nan,\n",
    "                 np.corrcoef(CF_WC_d.obs,CF_WC_d.sim)[0,1],\n",
    "                 np.corrcoef(CF_WC_d.obs,CF_WC_d.sim_GWA)[0,1],\n",
    "                 np.nan,\n",
    "                 np.corrcoef(CF_ZAF_d.obs,CF_ZAF_d.sim)[0,1],\n",
    "                 np.corrcoef(CF_ZAF_d.obs,CF_ZAF_d.sim_GWA)[0,1],\n",
    "                 np.nan]\n"
   ]
  },
  {
   "cell_type": "code",
   "execution_count": null,
   "metadata": {},
   "outputs": [],
   "source": [
    "statsCF_d.rmse = [np.sqrt(np.mean((np.array(CF_EC_d.obs)-np.array(CF_EC_d.sim))**2)),\n",
    "                  np.sqrt(np.mean((np.array(CF_EC_d.obs)-np.array(CF_EC_d.sim_GWA))**2)),\n",
    "                  np.nan,\n",
    "                  np.sqrt(np.mean((np.array(CF_NC_d.obs)-np.array(CF_NC_d.sim))**2)),\n",
    "                  np.sqrt(np.mean((np.array(CF_NC_d.obs)-np.array(CF_NC_d.sim_GWA))**2)),\n",
    "                  np.nan,\n",
    "                  np.sqrt(np.mean((np.array(CF_WC_d.obs)-np.array(CF_WC_d.sim))**2)),\n",
    "                  np.sqrt(np.mean((np.array(CF_WC_d.obs)-np.array(CF_WC_d.sim_GWA))**2)),\n",
    "                  np.nan,\n",
    "                  np.sqrt(np.mean((np.array(CF_ZAF_d.obs)-np.array(CF_ZAF_d.sim))**2)),\n",
    "                  np.sqrt(np.mean((np.array(CF_ZAF_d.obs)-np.array(CF_ZAF_d.sim_GWA))**2)),\n",
    "                  np.nan]"
   ]
  },
  {
   "cell_type": "code",
   "execution_count": null,
   "metadata": {},
   "outputs": [],
   "source": [
    "statsCF_d.mbe = [(np.array(CF_EC_d.obs)-np.array(CF_EC_d.sim)).mean(),\n",
    "                 (np.array(CF_EC_d.obs)-np.array(CF_EC_d.sim_GWA)).mean(),\n",
    "                 np.nan,\n",
    "                 (np.array(CF_NC_d.obs)-np.array(CF_NC_d.sim)).mean(),\n",
    "                 (np.array(CF_NC_d.obs)-np.array(CF_NC_d.sim_GWA)).mean(),\n",
    "                 np.nan,\n",
    "                 (np.array(CF_WC_d.obs)-np.array(CF_WC_d.sim)).mean(),\n",
    "                 (np.array(CF_WC_d.obs)-np.array(CF_WC_d.sim_GWA)).mean(),\n",
    "                 np.nan,\n",
    "                 (np.array(CF_ZAF_d.obs)-np.array(CF_ZAF_d.sim)).mean(),\n",
    "                 (np.array(CF_ZAF_d.obs)-np.array(CF_ZAF_d.sim_GWA)).mean(),\n",
    "                 np.nan]\n"
   ]
  },
  {
   "cell_type": "code",
   "execution_count": null,
   "metadata": {},
   "outputs": [],
   "source": [
    "statsCF_d.avg = [CF_EC_d.sim.mean(),CF_EC_d.sim_GWA.mean(),CF_EC_d.obs.mean(),\n",
    "                 CF_NC_d.sim.mean(),CF_NC_d.sim_GWA.mean(),CF_NC_d.obs.mean(),\n",
    "                 CF_WC_d.sim.mean(),CF_WC_d.sim_GWA.mean(),CF_WC_d.obs.mean(),\n",
    "                 CF_ZAF_d.sim.mean(),CF_ZAF_d.sim_GWA.mean(),CF_ZAF_d.obs.mean()]\n"
   ]
  },
  {
   "cell_type": "markdown",
   "metadata": {},
   "source": [
    "save dataframe with daily results"
   ]
  },
  {
   "cell_type": "code",
   "execution_count": null,
   "metadata": {},
   "outputs": [],
   "source": [
    "# hourly and absolute statistics\n",
    "statsCF_d = statsCF_d.transpose().set_index(pd.Index(['Correlation','RMSE_MWh','MBE_MWh','Mean_MWh']),'parameter')"
   ]
  },
  {
   "cell_type": "code",
   "execution_count": null,
   "metadata": {},
   "outputs": [],
   "source": [
    "statsCF_d.round(2).to_csv(south_africa_path+'/results/statsCF_d_ERA5.csv',sep=';')"
   ]
  },
  {
   "cell_type": "code",
   "execution_count": null,
   "metadata": {},
   "outputs": [],
   "source": [
    "statsCF_d.round(2)"
   ]
  },
  {
   "cell_type": "markdown",
   "metadata": {},
   "source": [
    "boxplot for South Africa"
   ]
  },
  {
   "cell_type": "code",
   "execution_count": null,
   "metadata": {},
   "outputs": [],
   "source": [
    "# plot South Africa\n",
    "CF_ZAFd = CF_ZAF_d.melt(var_name='type',value_name='daily_CF')\n",
    "sns.set(style='darkgrid',context='talk')\n",
    "plt.figure(figsize=(12,8))\n",
    "ax = sns.boxplot(x='type',y='daily_CF',data=CF_ZAFd,palette=col_refuel3,linewidth=3)\n",
    "plt.ylim(0,1)\n",
    "fig = ax.get_figure()\n",
    "fig.savefig(south_africa_path+'/results/plots/CFs/ZAF_ERA5_daily.png')"
   ]
  },
  {
   "cell_type": "code",
   "execution_count": null,
   "metadata": {},
   "outputs": [],
   "source": [
    "# boxplots for capes\n",
    "\n",
    "# melt data for each region and add a region column\n",
    "CF_ECd = CF_EC_d.melt(var_name='type',value_name='daily_CF')\n",
    "CF_ECd['region'] = 'EC'\n",
    "CF_NCd = CF_NC_d.melt(var_name='type',value_name='daily_CF')\n",
    "CF_NCd['region'] = 'NC'\n",
    "CF_WCd = CF_WC_d.melt(var_name='type',value_name='daily_CF')\n",
    "CF_WCd['region'] = 'WC'\n",
    "\n",
    "# merge regions to one data frame\n",
    "CF_Cd = pd.concat([CF_ECd,CF_NCd,CF_WCd])"
   ]
  },
  {
   "cell_type": "code",
   "execution_count": null,
   "metadata": {},
   "outputs": [],
   "source": [
    "# lengths of time series\n",
    "print('EC: '+str(CF_ECd.shape[0]))\n",
    "print('NC: '+str(CF_NCd.shape[0]))\n",
    "print('WC: '+str(CF_WCd.shape[0]))\n",
    "print('ZAF: '+str(CF_ZAFd.shape[0]))"
   ]
  },
  {
   "cell_type": "code",
   "execution_count": null,
   "metadata": {},
   "outputs": [],
   "source": [
    "CF_Cd_tidy = CF_Cd.melt(id_vars=['region','type'],value_name='daily_CF').drop(columns={'variable'})"
   ]
  },
  {
   "cell_type": "code",
   "execution_count": null,
   "metadata": {},
   "outputs": [],
   "source": [
    "plt.figure(figsize=(12,8))\n",
    "ax = sns.boxplot(x='region',y='daily_CF',hue='type',data=CF_Cd_tidy,palette=col_refuel3,linewidth=3)\n",
    "ax.legend(loc='center right', bbox_to_anchor=(1.25, 0.5))\n",
    "plt.ylim(0,1)\n",
    "fig = ax.get_figure()\n",
    "fig.savefig(south_africa_path+'/results/plots/CFs/regions_ERA5_daily.png')"
   ]
  },
  {
   "cell_type": "code",
   "execution_count": null,
   "metadata": {},
   "outputs": [],
   "source": []
  },
  {
   "cell_type": "code",
   "execution_count": null,
   "metadata": {},
   "outputs": [],
   "source": []
  },
  {
   "cell_type": "code",
   "execution_count": null,
   "metadata": {},
   "outputs": [],
   "source": []
  },
  {
   "cell_type": "code",
   "execution_count": null,
   "metadata": {},
   "outputs": [],
   "source": []
  },
  {
   "cell_type": "code",
   "execution_count": null,
   "metadata": {},
   "outputs": [],
   "source": []
  },
  {
   "cell_type": "code",
   "execution_count": null,
   "metadata": {},
   "outputs": [],
   "source": []
  }
 ],
 "metadata": {
  "kernelspec": {
   "display_name": "Python [conda env:.conda-py37]",
   "language": "python",
   "name": "conda-env-.conda-py37-py"
  },
  "language_info": {
   "codemirror_mode": {
    "name": "ipython",
    "version": 3
   },
   "file_extension": ".py",
   "mimetype": "text/x-python",
   "name": "python",
   "nbconvert_exporter": "python",
   "pygments_lexer": "ipython3",
   "version": "3.7.3"
  }
 },
 "nbformat": 4,
 "nbformat_minor": 2
}
