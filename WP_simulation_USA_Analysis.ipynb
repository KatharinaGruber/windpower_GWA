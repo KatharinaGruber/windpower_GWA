{
 "cells": [
  {
   "cell_type": "code",
   "execution_count": 1,
   "metadata": {},
   "outputs": [],
   "source": [
    "import os\n",
    "import pandas as pd\n",
    "import xarray as xr\n",
    "import numpy as np\n",
    "from matplotlib import pyplot as plt\n",
    "import datetime\n",
    "import pytz\n",
    "import seaborn as sns\n",
    "\n",
    "from utils import stats"
   ]
  },
  {
   "cell_type": "code",
   "execution_count": 2,
   "metadata": {},
   "outputs": [],
   "source": [
    "from dask.diagnostics import ProgressBar\n",
    "ProgressBar().register()"
   ]
  },
  {
   "cell_type": "code",
   "execution_count": 3,
   "metadata": {},
   "outputs": [],
   "source": [
    "usa_path = \"C:/Users/KatharinaG/Documents/USA\""
   ]
  },
  {
   "cell_type": "code",
   "execution_count": 4,
   "metadata": {},
   "outputs": [],
   "source": [
    "col_refuel7 = sns.color_palette([\"#c72321\",\"#861719\",\"#f0c320\",\"#af8f19\",\"#6e9b9e\",\"#0d8085\",\"#19484c\"])\n",
    "col_refuel3 = sns.color_palette([\"#c72321\", \"#0d8085\", \"#efc220\"])\n",
    "col_refuel5 = sns.color_palette([\"#c62220\", \"#fbd7a8\", \"#7a6952\", \"#0d8085\", \"#f0c220\"])\n",
    "col_refuel10 = sns.color_palette([\"#c72321\",\"#861719\",\"#fbd7a9\",\"#ba9f7c\",\"#7a6952\",\"#6e9b9e\",\"#0d8085\",\"#19484c\",\"#f0c320\",\"#af8f19\"])\n",
    "# select 5 colours for plotting of which 2 twice match\n",
    "col_rf = [col_refuel7[i] for i in [0,1,2,3,5]]"
   ]
  },
  {
   "cell_type": "code",
   "execution_count": 5,
   "metadata": {},
   "outputs": [
    {
     "data": {
      "image/png": "[encoded data removed]",
      "text/plain": [
       "<Figure size 216x72 with 1 Axes>"
      ]
     },
     "metadata": {
      "needs_background": "light"
     },
     "output_type": "display_data"
    }
   ],
   "source": [
    "sns.palplot(col_refuel3)"
   ]
  },
  {
   "cell_type": "code",
   "execution_count": 759,
   "metadata": {},
   "outputs": [
    {
     "data": {
      "image/png": "[encoded data removed]",
      "text/plain": [
       "<Figure size 720x72 with 1 Axes>"
      ]
     },
     "metadata": {},
     "output_type": "display_data"
    }
   ],
   "source": [
    "sns.palplot(col_refuel10)"
   ]
  },
  {
   "cell_type": "markdown",
   "metadata": {},
   "source": [
    "# USA monthly"
   ]
  },
  {
   "cell_type": "markdown",
   "metadata": {},
   "source": [
    "### Load production data\n",
    "Source: https://www.eia.gov/electricity/data/browser/#/topic/0?agg=1,0,2&fuel=008&geo=vvvvvvvvvvvvo&sec=o3g&linechart=ELEC.GEN.WND-US-99.M~ELEC.GEN.WND-IA-99.M~ELEC.GEN.WND-TX-99.M&columnchart=ELEC.GEN.WND-US-99.M~ELEC.GEN.WND-IA-99.M~ELEC.GEN.WND-TX-99.M&map=ELEC.GEN.WND-US-99.M&freq=M&start=200101&end=201903&chartindexed=0&ctype=linechart&ltype=pin&rtype=s&pin=&rse=0&maptype=0"
   ]
  },
  {
   "cell_type": "code",
   "execution_count": 760,
   "metadata": {},
   "outputs": [],
   "source": [
    "prod_USAm = pd.read_csv(usa_path+\"/generation_data/USA_monthly/Net_generation_wind_all_sectors_monthly.csv\",header=4)"
   ]
  },
  {
   "cell_type": "markdown",
   "metadata": {},
   "source": [
    "arrange data"
   ]
  },
  {
   "cell_type": "code",
   "execution_count": 761,
   "metadata": {},
   "outputs": [],
   "source": [
    "# rename columns\n",
    "prod_USAm.columns = ['time','wp_obs','Iowa','Texas']\n",
    "\n",
    "# sort indices\n",
    "prod_USAm = prod_USAm[~np.isnan(prod_USAm.wp_obs)].sort_index(axis=0 ,ascending=False)\n",
    "\n",
    "# create datetime index\n",
    "months = pd.DataFrame({'month':range(1,13)},\n",
    "                       index = ['Jan','Feb','Mar','Apr','May','Jun','Jul','Aug','Sep','Oct','Nov','Dec'])\n",
    "prod_USAm['month'] = pd.Series([t[:3] for t in prod_USAm.time]).map(months.month).values\n",
    "prod_USAm['year'] = [t[-4:] for t in prod_USAm.time]\n",
    "prod_USAm = prod_USAm.set_index(pd.Index([np.datetime64(str(int(prod_USAm.year.values[i]))+\"-\"+f\"{prod_USAm.month.values[i]:02d}\"+\"-01T00:00:00\") for i in range(len(prod_USAm))])).drop(['time','month','year'],axis=1)\n",
    "\n",
    "# cut after 2018\n",
    "prod_USAm = prod_USAm[prod_USAm.index < np.datetime64(\"2019-01-01\")]"
   ]
  },
  {
   "cell_type": "markdown",
   "metadata": {},
   "source": [
    "### Prepare simulated data"
   ]
  },
  {
   "cell_type": "code",
   "execution_count": 780,
   "metadata": {},
   "outputs": [],
   "source": [
    "# load data\n",
    "wpE = xr.open_dataset(usa_path+\"/results/windpower_USA_ERA5.nc\").to_dataframe()\n",
    "wpE_GWA = xr.open_dataset(usa_path+\"/results/windpower_USA_ERA5_GWA.nc\").to_dataframe()\n",
    "wpM = xr.open_dataset(usa_path+\"/results/windpower_USA_MERRA2.nc\").to_dataframe()\n",
    "wpM_GWA = xr.open_dataset(usa_path+\"/results/windpower_USA_MERRA2_GWA.nc\").to_dataframe()\n",
    "\n",
    "# merge data\n",
    "wp_USA = pd.concat([wpE,wpE_GWA,wpM,wpM_GWA],axis=1)\n",
    "wp_USA.columns = ['ERA5','ERA5_GWA','MERRA2','MERRA2_GWA']\n",
    "\n",
    "# sum up monthly\n",
    "wp_USA['yearmonth'] = wp_USA.index.values.astype('datetime64[M]')\n",
    "wp_USAm = wp_USA.groupby('yearmonth').sum()\n",
    "# kW -> GW\n",
    "wp_USAm = wp_USAm/10**6"
   ]
  },
  {
   "cell_type": "markdown",
   "metadata": {},
   "source": [
    "### Combine data and analyse"
   ]
  },
  {
   "cell_type": "code",
   "execution_count": 781,
   "metadata": {},
   "outputs": [],
   "source": [
    "comp_USAm = pd.concat([wp_USAm,prod_USAm.wp_obs],axis=1)"
   ]
  },
  {
   "cell_type": "code",
   "execution_count": 782,
   "metadata": {},
   "outputs": [],
   "source": [
    "stats_USAm = pd.DataFrame({'ERA5':stats(comp_USAm.ERA5,comp_USAm.wp_obs),\n",
    "                           'ERA5_GWA':stats(comp_USAm.ERA5_GWA,comp_USAm.wp_obs),\n",
    "                           'MERRA2':stats(comp_USAm.MERRA2,comp_USAm.wp_obs),\n",
    "                           'MERRA2_GWA':stats(comp_USAm.MERRA2_GWA,comp_USAm.wp_obs),\n",
    "                           'obs':[np.nan,np.nan,np.nan,round(comp_USAm.wp_obs.mean(),2)]},\n",
    "                          index = ['cor','rmse','mbe','avg'])"
   ]
  },
  {
   "cell_type": "code",
   "execution_count": 783,
   "metadata": {},
   "outputs": [
    {
     "data": {
      "text/html": [
       "<div>\n",
       "<style scoped>\n",
       "    .dataframe tbody tr th:only-of-type {\n",
       "        vertical-align: middle;\n",
       "    }\n",
       "\n",
       "    .dataframe tbody tr th {\n",
       "        vertical-align: top;\n",
       "    }\n",
       "\n",
       "    .dataframe thead th {\n",
       "        text-align: right;\n",
       "    }\n",
       "</style>\n",
       "<table border=\"1\" class=\"dataframe\">\n",
       "  <thead>\n",
       "    <tr style=\"text-align: right;\">\n",
       "      <th></th>\n",
       "      <th>ERA5</th>\n",
       "      <th>ERA5_GWA</th>\n",
       "      <th>MERRA2</th>\n",
       "      <th>MERRA2_GWA</th>\n",
       "      <th>obs</th>\n",
       "    </tr>\n",
       "  </thead>\n",
       "  <tbody>\n",
       "    <tr>\n",
       "      <th>cor</th>\n",
       "      <td>0.96</td>\n",
       "      <td>0.96</td>\n",
       "      <td>0.97</td>\n",
       "      <td>0.97</td>\n",
       "      <td>NaN</td>\n",
       "    </tr>\n",
       "    <tr>\n",
       "      <th>rmse</th>\n",
       "      <td>2441.11</td>\n",
       "      <td>2858.67</td>\n",
       "      <td>3713.55</td>\n",
       "      <td>2079.92</td>\n",
       "      <td>NaN</td>\n",
       "    </tr>\n",
       "    <tr>\n",
       "      <th>mbe</th>\n",
       "      <td>-1098.77</td>\n",
       "      <td>1701.76</td>\n",
       "      <td>2633.37</td>\n",
       "      <td>683.89</td>\n",
       "      <td>NaN</td>\n",
       "    </tr>\n",
       "    <tr>\n",
       "      <th>avg</th>\n",
       "      <td>7785.08</td>\n",
       "      <td>10585.62</td>\n",
       "      <td>11517.23</td>\n",
       "      <td>9567.74</td>\n",
       "      <td>8883.86</td>\n",
       "    </tr>\n",
       "  </tbody>\n",
       "</table>\n",
       "</div>"
      ],
      "text/plain": [
       "         ERA5  ERA5_GWA    MERRA2  MERRA2_GWA      obs\n",
       "cor      0.96      0.96      0.97        0.97      NaN\n",
       "rmse  2441.11   2858.67   3713.55     2079.92      NaN\n",
       "mbe  -1098.77   1701.76   2633.37      683.89      NaN\n",
       "avg   7785.08  10585.62  11517.23     9567.74  8883.86"
      ]
     },
     "execution_count": 783,
     "metadata": {},
     "output_type": "execute_result"
    }
   ],
   "source": [
    "stats_USAm"
   ]
  },
  {
   "cell_type": "code",
   "execution_count": 785,
   "metadata": {},
   "outputs": [],
   "source": [
    "# save statistical results\n",
    "stats_USAm.to_csv(usa_path+'/results_stat/stats_USAm_abs.csv',sep=';')"
   ]
  },
  {
   "cell_type": "code",
   "execution_count": 786,
   "metadata": {},
   "outputs": [
    {
     "data": {
      "image/png": "[encoded data removed]",
      "text/plain": [
       "<Figure size 864x576 with 1 Axes>"
      ]
     },
     "metadata": {},
     "output_type": "display_data"
    }
   ],
   "source": [
    "# plot data\n",
    "plot_USAm = comp_USAm.melt(var_name='type',value_name='monthly_GWh')\n",
    "sns.set(style='darkgrid',context='talk')\n",
    "plt.figure(figsize=(12,8))\n",
    "ax = sns.boxplot(x='type',y='monthly_GWh',data=plot_USAm,palette=col_rf,linewidth=3)\n",
    "fig = ax.get_figure()\n",
    "fig.savefig(usa_path+'/results_stat/plots/absolute/USAm_abs.png')"
   ]
  },
  {
   "cell_type": "markdown",
   "metadata": {},
   "source": [
    " "
   ]
  },
  {
   "cell_type": "markdown",
   "metadata": {},
   "source": [
    "\n",
    "\n",
    "\n",
    "\n",
    " \n",
    "# Iowa monthly\n",
    "Source: same as USA"
   ]
  },
  {
   "cell_type": "code",
   "execution_count": 480,
   "metadata": {},
   "outputs": [],
   "source": [
    "# extract production of Iowa\n",
    "prod_IAm = pd.DataFrame({'wp_obs':prod_USAm.Iowa},\n",
    "                        index = prod_USAm.index)"
   ]
  },
  {
   "cell_type": "markdown",
   "metadata": {},
   "source": [
    "### Prepare simulated data"
   ]
  },
  {
   "cell_type": "code",
   "execution_count": 481,
   "metadata": {},
   "outputs": [],
   "source": [
    "# load data\n",
    "wp_IAE = xr.open_dataset(usa_path+\"/results/windpower_states_ERA5.nc\").sel({'state':\"IA\"}).to_dataframe().drop('state',axis=1)\n",
    "wp_IAE_GWA = xr.open_dataset(usa_path+\"/results/windpower_states_ERA5_GWA.nc\").sel({'state':\"IA\"}).to_dataframe().drop('state',axis=1)\n",
    "wp_IAM = xr.open_dataset(usa_path+\"/results/windpower_states_MERRA2.nc\").sel({'state':\"IA\"}).to_dataframe().drop('state',axis=1)\n",
    "wp_IAM_GWA = xr.open_dataset(usa_path+\"/results/windpower_states_MERRA2_GWA.nc\").sel({'state':\"IA\"}).to_dataframe().drop('state',axis=1)\n",
    "\n",
    "# merge data\n",
    "wp_IAh = pd.concat([wp_IAE,wp_IAE_GWA,wp_IAM,wp_IAM_GWA],axis=1)\n",
    "wp_IAh.columns = ['ERA5','ERA5_GWA','MERRA2','MERRA2_GWA']\n",
    "\n",
    "# kW -> GW\n",
    "wp_IAh = wp_IAh/10**6\n",
    "\n",
    "# extract months\n",
    "wp_IAh['yearmonth'] = wp_IAh.index.values.astype('datetime64[M]')\n",
    "# aggregate per month\n",
    "comp_IAm = wp_IAh.groupby('yearmonth').sum()\n",
    "# remove yearmonth column\n",
    "wp_IAh.drop('yearmonth',axis=1,inplace=True)\n",
    "\n",
    "# add production data\n",
    "comp_IAm = pd.concat([comp_IAm,prod_IAm.wp_obs],axis=1)"
   ]
  },
  {
   "cell_type": "markdown",
   "metadata": {},
   "source": [
    "### Analyse"
   ]
  },
  {
   "cell_type": "code",
   "execution_count": 595,
   "metadata": {},
   "outputs": [],
   "source": [
    "stats_IAm = pd.DataFrame({'ERA5':stats(comp_IAm.ERA5,comp_IAm.wp_obs),\n",
    "                          'ERA5_GWA':stats(comp_IAm.ERA5_GWA,comp_IAm.wp_obs),\n",
    "                          'MERRA2':stats(comp_IAm.MERRA2,comp_IAm.wp_obs),\n",
    "                          'MERRA2_GWA':stats(comp_IAm.MERRA2_GWA,comp_IAm.wp_obs),\n",
    "                          'obs':[np.nan,np.nan,np.nan,round(comp_IAm.wp_obs.mean(),2)]},\n",
    "                         index = ['cor','rmse','mbe','avg'])"
   ]
  },
  {
   "cell_type": "code",
   "execution_count": 471,
   "metadata": {},
   "outputs": [
    {
     "data": {
      "text/html": [
       "<div>\n",
       "<style scoped>\n",
       "    .dataframe tbody tr th:only-of-type {\n",
       "        vertical-align: middle;\n",
       "    }\n",
       "\n",
       "    .dataframe tbody tr th {\n",
       "        vertical-align: top;\n",
       "    }\n",
       "\n",
       "    .dataframe thead th {\n",
       "        text-align: right;\n",
       "    }\n",
       "</style>\n",
       "<table border=\"1\" class=\"dataframe\">\n",
       "  <thead>\n",
       "    <tr style=\"text-align: right;\">\n",
       "      <th></th>\n",
       "      <th>ERA5</th>\n",
       "      <th>ERA5_GWA</th>\n",
       "      <th>MERRA2</th>\n",
       "      <th>MERRA2_GWA</th>\n",
       "      <th>obs</th>\n",
       "    </tr>\n",
       "  </thead>\n",
       "  <tbody>\n",
       "    <tr>\n",
       "      <th>cor</th>\n",
       "      <td>0.92</td>\n",
       "      <td>0.93</td>\n",
       "      <td>0.94</td>\n",
       "      <td>0.93</td>\n",
       "      <td>NaN</td>\n",
       "    </tr>\n",
       "    <tr>\n",
       "      <th>rmse</th>\n",
       "      <td>267.62</td>\n",
       "      <td>298.41</td>\n",
       "      <td>470.99</td>\n",
       "      <td>266.37</td>\n",
       "      <td>NaN</td>\n",
       "    </tr>\n",
       "    <tr>\n",
       "      <th>mbe</th>\n",
       "      <td>-4.53</td>\n",
       "      <td>107.84</td>\n",
       "      <td>322.31</td>\n",
       "      <td>-49.86</td>\n",
       "      <td>NaN</td>\n",
       "    </tr>\n",
       "    <tr>\n",
       "      <th>avg</th>\n",
       "      <td>782.41</td>\n",
       "      <td>894.79</td>\n",
       "      <td>1109.25</td>\n",
       "      <td>737.08</td>\n",
       "      <td>786.94</td>\n",
       "    </tr>\n",
       "  </tbody>\n",
       "</table>\n",
       "</div>"
      ],
      "text/plain": [
       "        ERA5  ERA5_GWA   MERRA2  MERRA2_GWA     obs\n",
       "cor     0.92      0.93     0.94        0.93     NaN\n",
       "rmse  267.62    298.41   470.99      266.37     NaN\n",
       "mbe    -4.53    107.84   322.31      -49.86     NaN\n",
       "avg   782.41    894.79  1109.25      737.08  786.94"
      ]
     },
     "execution_count": 471,
     "metadata": {},
     "output_type": "execute_result"
    }
   ],
   "source": [
    "stats_IAm"
   ]
  },
  {
   "cell_type": "code",
   "execution_count": 444,
   "metadata": {},
   "outputs": [],
   "source": [
    "# save statistical results\n",
    "stats_IAm.to_csv(usa_path+'/results_stat/stats_IAm_abs.csv',sep=';')"
   ]
  },
  {
   "cell_type": "code",
   "execution_count": 445,
   "metadata": {},
   "outputs": [
    {
     "data": {
      "image/png": "[encoded data removed]",
      "text/plain": [
       "<Figure size 864x576 with 1 Axes>"
      ]
     },
     "metadata": {},
     "output_type": "display_data"
    }
   ],
   "source": [
    "# plot data\n",
    "plot_IAm = comp_IAm.melt(var_name='type',value_name='monthly_GWh')\n",
    "sns.set(style='darkgrid',context='talk')\n",
    "plt.figure(figsize=(12,8))\n",
    "ax = sns.boxplot(x='type',y='monthly_GWh',data=plot_IAm,palette=col_rf,linewidth=3)\n",
    "fig = ax.get_figure()\n",
    "fig.savefig(usa_path+'/results_stat/plots/absolute/IAm_abs.png')"
   ]
  },
  {
   "cell_type": "markdown",
   "metadata": {},
   "source": [
    "\n",
    "\n",
    "\n",
    "\n",
    " \n",
    "# Texas monthly\n",
    "Source: same as USA"
   ]
  },
  {
   "cell_type": "code",
   "execution_count": 482,
   "metadata": {},
   "outputs": [],
   "source": [
    "# extract production of Texas\n",
    "prod_TXm = pd.DataFrame({'wp_obs':prod_USAm.Texas},\n",
    "                        index = prod_USAm.index)"
   ]
  },
  {
   "cell_type": "markdown",
   "metadata": {},
   "source": [
    "### Prepare simulated data"
   ]
  },
  {
   "cell_type": "code",
   "execution_count": 483,
   "metadata": {},
   "outputs": [],
   "source": [
    "# load data\n",
    "wp_TXE = xr.open_dataset(usa_path+\"/results/windpower_states_ERA5.nc\").sel({'state':\"TX\"}).to_dataframe().drop('state',axis=1)\n",
    "wp_TXE_GWA = xr.open_dataset(usa_path+\"/results/windpower_states_ERA5_GWA.nc\").sel({'state':\"TX\"}).to_dataframe().drop('state',axis=1)\n",
    "wp_TXM = xr.open_dataset(usa_path+\"/results/windpower_states_MERRA2.nc\").sel({'state':\"TX\"}).to_dataframe().drop('state',axis=1)\n",
    "wp_TXM_GWA = xr.open_dataset(usa_path+\"/results/windpower_states_MERRA2_GWA.nc\").sel({'state':\"TX\"}).to_dataframe().drop('state',axis=1)\n",
    "\n",
    "# merge data\n",
    "wp_TXh = pd.concat([wp_TXE,wp_TXE_GWA,wp_TXM,wp_TXM_GWA],axis=1)\n",
    "wp_TXh.columns = ['ERA5','ERA5_GWA','MERRA2','MERRA2_GWA']\n",
    "\n",
    "# kW -> GW\n",
    "wp_TXh = wp_TXh/10**6\n",
    "\n",
    "# extract months\n",
    "wp_TXh['yearmonth'] = wp_TXh.index.values.astype('datetime64[M]')\n",
    "# aggregate per month\n",
    "comp_TXm = wp_TXh.groupby('yearmonth').sum()\n",
    "# remove yearmonth column\n",
    "wp_TXh.drop('yearmonth',axis=1,inplace=True)\n",
    "\n",
    "# add production data\n",
    "comp_TXm = pd.concat([comp_TXm,prod_TXm.wp_obs],axis=1)"
   ]
  },
  {
   "cell_type": "markdown",
   "metadata": {},
   "source": [
    "### Analyse"
   ]
  },
  {
   "cell_type": "code",
   "execution_count": 596,
   "metadata": {},
   "outputs": [],
   "source": [
    "stats_TXm = pd.DataFrame({'ERA5':stats(comp_TXm.ERA5,comp_TXm.wp_obs),\n",
    "                          'ERA5_GWA':stats(comp_TXm.ERA5_GWA,comp_TXm.wp_obs),\n",
    "                          'MERRA2':stats(comp_TXm.MERRA2,comp_TXm.wp_obs),\n",
    "                          'MERRA2_GWA':stats(comp_TXm.MERRA2_GWA,comp_TXm.wp_obs),\n",
    "                          'obs':[np.nan,np.nan,np.nan,round(comp_TXm.wp_obs.mean(),2)]},\n",
    "                         index = ['cor','rmse','mbe','avg'])"
   ]
  },
  {
   "cell_type": "code",
   "execution_count": 468,
   "metadata": {},
   "outputs": [],
   "source": [
    "# save statistical results\n",
    "stats_TXm.to_csv(usa_path+'/results_stat/stats_TXm_abs.csv',sep=';')"
   ]
  },
  {
   "cell_type": "code",
   "execution_count": 469,
   "metadata": {},
   "outputs": [
    {
     "data": {
      "image/png": "[encoded data removed]",
      "text/plain": [
       "<Figure size 864x576 with 1 Axes>"
      ]
     },
     "metadata": {},
     "output_type": "display_data"
    }
   ],
   "source": [
    "# plot data\n",
    "plot_TXm = comp_TXm.melt(var_name='type',value_name='monthly_GWh')\n",
    "sns.set(style='darkgrid',context='talk')\n",
    "plt.figure(figsize=(12,8))\n",
    "ax = sns.boxplot(x='type',y='monthly_GWh',data=plot_TXm,palette=col_rf,linewidth=3)\n",
    "fig = ax.get_figure()\n",
    "fig.savefig(usa_path+'/results_stat/plots/absolute/TXm_abs.png')"
   ]
  },
  {
   "cell_type": "markdown",
   "metadata": {},
   "source": [
    "# Texas hourly + daily"
   ]
  },
  {
   "cell_type": "markdown",
   "metadata": {},
   "source": [
    "## Hourly"
   ]
  },
  {
   "cell_type": "markdown",
   "metadata": {},
   "source": [
    "### Load production data\n",
    "Source: http://mis.ercot.com/misapp/GetReports.do?reportTypeId=13424&reportTitle=Hourly%20Aggregated%20Wind%20Output&showHTMLView=&mimicKey"
   ]
  },
  {
   "cell_type": "code",
   "execution_count": 485,
   "metadata": {},
   "outputs": [],
   "source": [
    "files =  os.listdir(usa_path+\"/generation_data/TX_hourly\")\n",
    "for file in files:\n",
    "    if 'prod_TXh_xl' in globals():\n",
    "        prod_TXh_xl = pd.concat([prod_TXh_xl,pd.read_excel(usa_path+\"/generation_data/TX_hourly/\"+file,sheet_name=\"numbers\")],axis=0)\n",
    "    else:\n",
    "        prod_TXh_xl = pd.read_excel(usa_path+\"/generation_data/TX_hourly/\"+file,sheet_name=\"numbers\")"
   ]
  },
  {
   "cell_type": "markdown",
   "metadata": {},
   "source": [
    "arrange data - get production data\n",
    "and consider daylight saving time and convert timezone to UTC"
   ]
  },
  {
   "cell_type": "code",
   "execution_count": 486,
   "metadata": {},
   "outputs": [],
   "source": [
    "# convert to datetime format\n",
    "time = [np.datetime64(t) for t in prod_TXh_xl.Date]\n",
    "# create new dataframe with windpower and time and localize it to Texas and convert to UTC\n",
    "# timezone Texas: MDT and CDT (https://www.timeanddate.de/stadt/zeitzone/usa/texas)\n",
    "# same as in North Dakota (https://www.timeanddate.de/stadt/zeitzone/usa/north-dakota)\n",
    "prod_TXh = pd.DataFrame({'wp_obs':prod_TXh_xl['Total Wind Output, MW'].values},\n",
    "                         index = time).tz_localize('America/North_Dakota/Center',ambiguous='infer').tz_convert('UTC')\n",
    "# make the time a column\n",
    "prod_TXh['time'] = prod_TXh.index.values\n",
    "# remove duplicates\n",
    "prod_TXh = prod_TXh.drop_duplicates(subset=\"time\")\n",
    "# remove the time column (not needed anymore)\n",
    "prod_TXh = prod_TXh.drop('time',axis=1)\n",
    "# MW -> GW\n",
    "prod_TXh = prod_TXh/10**3"
   ]
  },
  {
   "cell_type": "markdown",
   "metadata": {},
   "source": [
    "### Prepare simulated data"
   ]
  },
  {
   "cell_type": "code",
   "execution_count": 487,
   "metadata": {},
   "outputs": [],
   "source": [
    "# load data\n",
    "wp_TXE = xr.open_dataset(usa_path+\"/results/windpower_states_ERA5.nc\").sel({'state':\"TX\"}).to_dataframe().drop('state',axis=1)\n",
    "wp_TXE_GWA = xr.open_dataset(usa_path+\"/results/windpower_states_ERA5_GWA.nc\").sel({'state':\"TX\"}).to_dataframe().drop('state',axis=1)\n",
    "wp_TXM = xr.open_dataset(usa_path+\"/results/windpower_states_MERRA2.nc\").sel({'state':\"TX\"}).to_dataframe().drop('state',axis=1)\n",
    "wp_TXM_GWA = xr.open_dataset(usa_path+\"/results/windpower_states_MERRA2_GWA.nc\").sel({'state':\"TX\"}).to_dataframe().drop('state',axis=1)\n",
    "\n",
    "# merge data\n",
    "comp_TXh = pd.concat([wp_TXE,wp_TXE_GWA,wp_TXM,wp_TXM_GWA],axis=1)\n",
    "comp_TXh.columns = ['ERA5','ERA5_GWA','MERRA2','MERRA2_GWA']\n",
    "\n",
    "# set timezone\n",
    "comp_TXh = comp_TXh.tz_localize('UTC')\n",
    "\n",
    "# kW -> GW\n",
    "comp_TXh = comp_TXh/10**6\n",
    "\n",
    "# add production data\n",
    "comp_TXh['wp_obs'] = comp_TXh.index.map(prod_TXh.wp_obs)\n",
    "\n",
    "# remove lines with missing data(before recorded generation)\n",
    "comp_TXh = comp_TXh.dropna()"
   ]
  },
  {
   "cell_type": "markdown",
   "metadata": {},
   "source": [
    "### Analyse"
   ]
  },
  {
   "cell_type": "code",
   "execution_count": 597,
   "metadata": {},
   "outputs": [],
   "source": [
    "stats_TXh = pd.DataFrame({'ERA5':stats(comp_TXh.ERA5,comp_TXh.wp_obs),\n",
    "                          'ERA5_GWA':stats(comp_TXh.ERA5_GWA,comp_TXh.wp_obs),\n",
    "                          'MERRA2':stats(comp_TXh.MERRA2,comp_TXh.wp_obs),\n",
    "                          'MERRA2_GWA':stats(comp_TXh.MERRA2_GWA,comp_TXh.wp_obs),\n",
    "                          'obs':[np.nan,np.nan,np.nan,round(comp_TXh.wp_obs.mean(),2)]},\n",
    "                         index = ['cor','rmse','mbe','avg'])"
   ]
  },
  {
   "cell_type": "code",
   "execution_count": 473,
   "metadata": {},
   "outputs": [
    {
     "data": {
      "text/html": [
       "<div>\n",
       "<style scoped>\n",
       "    .dataframe tbody tr th:only-of-type {\n",
       "        vertical-align: middle;\n",
       "    }\n",
       "\n",
       "    .dataframe tbody tr th {\n",
       "        vertical-align: top;\n",
       "    }\n",
       "\n",
       "    .dataframe thead th {\n",
       "        text-align: right;\n",
       "    }\n",
       "</style>\n",
       "<table border=\"1\" class=\"dataframe\">\n",
       "  <thead>\n",
       "    <tr style=\"text-align: right;\">\n",
       "      <th></th>\n",
       "      <th>ERA5</th>\n",
       "      <th>ERA5_GWA</th>\n",
       "      <th>MERRA2</th>\n",
       "      <th>MERRA2_GWA</th>\n",
       "      <th>obs</th>\n",
       "    </tr>\n",
       "  </thead>\n",
       "  <tbody>\n",
       "    <tr>\n",
       "      <th>cor</th>\n",
       "      <td>0.95</td>\n",
       "      <td>0.95</td>\n",
       "      <td>0.91</td>\n",
       "      <td>0.88</td>\n",
       "      <td>NaN</td>\n",
       "    </tr>\n",
       "    <tr>\n",
       "      <th>rmse</th>\n",
       "      <td>1.97</td>\n",
       "      <td>2.00</td>\n",
       "      <td>3.82</td>\n",
       "      <td>2.19</td>\n",
       "      <td>NaN</td>\n",
       "    </tr>\n",
       "    <tr>\n",
       "      <th>mbe</th>\n",
       "      <td>0.60</td>\n",
       "      <td>0.68</td>\n",
       "      <td>2.72</td>\n",
       "      <td>-0.72</td>\n",
       "      <td>NaN</td>\n",
       "    </tr>\n",
       "    <tr>\n",
       "      <th>avg</th>\n",
       "      <td>7.64</td>\n",
       "      <td>7.72</td>\n",
       "      <td>9.76</td>\n",
       "      <td>6.32</td>\n",
       "      <td>7.04</td>\n",
       "    </tr>\n",
       "  </tbody>\n",
       "</table>\n",
       "</div>"
      ],
      "text/plain": [
       "      ERA5  ERA5_GWA  MERRA2  MERRA2_GWA   obs\n",
       "cor   0.95      0.95    0.91        0.88   NaN\n",
       "rmse  1.97      2.00    3.82        2.19   NaN\n",
       "mbe   0.60      0.68    2.72       -0.72   NaN\n",
       "avg   7.64      7.72    9.76        6.32  7.04"
      ]
     },
     "execution_count": 473,
     "metadata": {},
     "output_type": "execute_result"
    }
   ],
   "source": [
    "stats_TXh"
   ]
  },
  {
   "cell_type": "code",
   "execution_count": 385,
   "metadata": {},
   "outputs": [],
   "source": [
    "# save statistical results\n",
    "stats_TXh.to_csv(usa_path+'/results_stat/stats_TXh_abs.csv',sep=';')"
   ]
  },
  {
   "cell_type": "code",
   "execution_count": 387,
   "metadata": {},
   "outputs": [
    {
     "data": {
      "image/png": "[encoded data removed]",
      "text/plain": [
       "<Figure size 864x576 with 1 Axes>"
      ]
     },
     "metadata": {},
     "output_type": "display_data"
    }
   ],
   "source": [
    "# plot data\n",
    "plot_TXh = comp_TXh.melt(var_name='type',value_name='hourly_MWh')\n",
    "sns.set(style='darkgrid',context='talk')\n",
    "plt.figure(figsize=(12,8))\n",
    "ax = sns.boxplot(x='type',y='hourly_MWh',data=plot_TXh,palette=col_rf,linewidth=3)\n",
    "fig = ax.get_figure()\n",
    "fig.savefig(usa_path+'/results_stat/plots/absolute/TXh_abs.png')"
   ]
  },
  {
   "cell_type": "markdown",
   "metadata": {},
   "source": [
    "## Daily"
   ]
  },
  {
   "cell_type": "markdown",
   "metadata": {},
   "source": [
    "### Prepare data"
   ]
  },
  {
   "cell_type": "code",
   "execution_count": 488,
   "metadata": {},
   "outputs": [],
   "source": [
    "# extract days\n",
    "comp_TXh['yearmonthday'] = comp_TXh.index.values.astype('datetime64[D]')\n",
    "# aggregate per day\n",
    "comp_TXd = comp_TXh.groupby('yearmonthday').sum()\n",
    "# remove first day because it has less hours\n",
    "comp_TXd = comp_TXd[1:]\n",
    "# remove yearmonthday column\n",
    "comp_TXh.drop('yearmonthday',axis=1,inplace=True)"
   ]
  },
  {
   "cell_type": "markdown",
   "metadata": {},
   "source": [
    "### Analyse"
   ]
  },
  {
   "cell_type": "code",
   "execution_count": 598,
   "metadata": {},
   "outputs": [],
   "source": [
    "stats_TXd = pd.DataFrame({'ERA5':stats(comp_TXd.ERA5,comp_TXd.wp_obs),\n",
    "                          'ERA5_GWA':stats(comp_TXd.ERA5_GWA,comp_TXd.wp_obs),\n",
    "                          'MERRA2':stats(comp_TXd.MERRA2,comp_TXd.wp_obs),\n",
    "                          'MERRA2_GWA':stats(comp_TXd.MERRA2_GWA,comp_TXd.wp_obs),\n",
    "                          'obs':[np.nan,np.nan,np.nan,round(comp_TXd.wp_obs.mean(),2)]},\n",
    "                         index = ['cor','rmse','mbe','avg'])"
   ]
  },
  {
   "cell_type": "code",
   "execution_count": 474,
   "metadata": {},
   "outputs": [
    {
     "data": {
      "text/html": [
       "<div>\n",
       "<style scoped>\n",
       "    .dataframe tbody tr th:only-of-type {\n",
       "        vertical-align: middle;\n",
       "    }\n",
       "\n",
       "    .dataframe tbody tr th {\n",
       "        vertical-align: top;\n",
       "    }\n",
       "\n",
       "    .dataframe thead th {\n",
       "        text-align: right;\n",
       "    }\n",
       "</style>\n",
       "<table border=\"1\" class=\"dataframe\">\n",
       "  <thead>\n",
       "    <tr style=\"text-align: right;\">\n",
       "      <th></th>\n",
       "      <th>ERA5</th>\n",
       "      <th>ERA5_GWA</th>\n",
       "      <th>MERRA2</th>\n",
       "      <th>MERRA2_GWA</th>\n",
       "      <th>obs</th>\n",
       "    </tr>\n",
       "  </thead>\n",
       "  <tbody>\n",
       "    <tr>\n",
       "      <th>cor</th>\n",
       "      <td>0.97</td>\n",
       "      <td>0.97</td>\n",
       "      <td>0.96</td>\n",
       "      <td>0.93</td>\n",
       "      <td>NaN</td>\n",
       "    </tr>\n",
       "    <tr>\n",
       "      <th>rmse</th>\n",
       "      <td>36.36</td>\n",
       "      <td>37.39</td>\n",
       "      <td>74.88</td>\n",
       "      <td>35.42</td>\n",
       "      <td>NaN</td>\n",
       "    </tr>\n",
       "    <tr>\n",
       "      <th>mbe</th>\n",
       "      <td>14.35</td>\n",
       "      <td>16.29</td>\n",
       "      <td>65.40</td>\n",
       "      <td>-17.30</td>\n",
       "      <td>NaN</td>\n",
       "    </tr>\n",
       "    <tr>\n",
       "      <th>avg</th>\n",
       "      <td>183.34</td>\n",
       "      <td>185.28</td>\n",
       "      <td>234.39</td>\n",
       "      <td>151.69</td>\n",
       "      <td>168.99</td>\n",
       "    </tr>\n",
       "  </tbody>\n",
       "</table>\n",
       "</div>"
      ],
      "text/plain": [
       "        ERA5  ERA5_GWA  MERRA2  MERRA2_GWA     obs\n",
       "cor     0.97      0.97    0.96        0.93     NaN\n",
       "rmse   36.36     37.39   74.88       35.42     NaN\n",
       "mbe    14.35     16.29   65.40      -17.30     NaN\n",
       "avg   183.34    185.28  234.39      151.69  168.99"
      ]
     },
     "execution_count": 474,
     "metadata": {},
     "output_type": "execute_result"
    }
   ],
   "source": [
    "stats_TXd"
   ]
  },
  {
   "cell_type": "code",
   "execution_count": 408,
   "metadata": {},
   "outputs": [],
   "source": [
    "# save statistical results\n",
    "stats_TXd.to_csv(usa_path+'/results_stat/stats_TXd_abs.csv',sep=';')"
   ]
  },
  {
   "cell_type": "code",
   "execution_count": 409,
   "metadata": {},
   "outputs": [
    {
     "data": {
      "image/png": "[encoded data removed]",
      "text/plain": [
       "<Figure size 864x576 with 1 Axes>"
      ]
     },
     "metadata": {},
     "output_type": "display_data"
    }
   ],
   "source": [
    "# plot data\n",
    "plot_TXd = comp_TXd.melt(var_name='type',value_name='daily_MWh')\n",
    "sns.set(style='darkgrid',context='talk')\n",
    "plt.figure(figsize=(12,8))\n",
    "ax = sns.boxplot(x='type',y='daily_MWh',data=plot_TXd,palette=col_rf,linewidth=3)\n",
    "fig = ax.get_figure()\n",
    "fig.savefig(usa_path+'/results_stat/plots/absolute/TXd_abs.png')"
   ]
  },
  {
   "cell_type": "markdown",
   "metadata": {},
   "source": [
    " "
   ]
  },
  {
   "cell_type": "markdown",
   "metadata": {},
   "source": [
    "# BPA hourly + daily + monthly"
   ]
  },
  {
   "cell_type": "markdown",
   "metadata": {},
   "source": [
    "### Load production data\n",
    "Source: https://transmission.bpa.gov/Business/Operations/Wind/  \n",
    "arrange data - get production data\n",
    "and consider daylight saving time and convert timezone to UTC"
   ]
  },
  {
   "cell_type": "code",
   "execution_count": 162,
   "metadata": {},
   "outputs": [],
   "source": [
    "# for years 2007 to 2010 files are not formatted equally, so define columns to select\n",
    "col = pd.DataFrame({'dat1':[2,2,3,3],\n",
    "                    'dat2':[10,11,12,12],\n",
    "                    'time1':[1,1,1,1],\n",
    "                    'time2':[9,10,10,10],\n",
    "                    'lines':[14,16,16,16]},\n",
    "                   index = ['07','08','09','10'])\n",
    "# for years 2011 to 2019 only lines are different\n",
    "lines = pd.DataFrame({'x': [18,18,18,18,18,18,21,19,19]},\n",
    "                     index = [11,12,13,14,15,16,17,18,19])\n",
    "\n",
    "for year in ['07','08','09']:\n",
    "    BPAxl = pd.read_excel(usa_path+\"/generation_data/BPA_5min/TotalWindLoad_5Min_\"+year+\".xls\",\n",
    "                          skiprows=col.lines[year])\n",
    "    # for first half of year less rows - drop them\n",
    "    BPAxl_drop = BPAxl.dropna(subset=[BPAxl.columns[1]],axis=0)\n",
    "    # merge data for first and second half of year in datetime indexed data frame\n",
    "    BPAxl_dat = pd.DataFrame({'wp_obs':pd.concat([BPAxl_drop.iloc[:,col.dat1[year]],\n",
    "                                                  BPAxl.iloc[:,col.dat2[year]]]).values},\n",
    "                             index = pd.concat([pd.to_datetime(BPAxl_drop.iloc[:,col.time1[year]]),\n",
    "                                                pd.to_datetime(BPAxl.iloc[:,col.time2[year]])]).values)\n",
    "    # there seems to be some numeric error, therefore round index to minutes\n",
    "    BPAxl_dat.index = BPAxl_dat.index.round(\"Min\")\n",
    "    \n",
    "    # add the timezone and interpolate missing data (a few minutes are missing)\n",
    "    #   create a dataframe with 5 minute timesteps to match values\n",
    "    #   this is necessary, as there is lines for hours omitted due to daylight saving\n",
    "    #   but no additional hours due to duplication of an hour in daylight saving in the second half of the year\n",
    "    #   therefore the ambiguous argument 'infer' does not work\n",
    "    #   by mapping the values of this hour are duplicated and then infer works\n",
    "    ind = pd.date_range(start='1/1/20'+year+' 00:00:00',\n",
    "                        end='31/12/20'+year+' 23:59:00', freq='5min',tz=\"US/Pacific\")\n",
    "    ind2 = [i.replace(tzinfo=None) for i in ind]\n",
    "    BPAdat = pd.DataFrame({'wp_obs':np.nan},\n",
    "                          index = ind2)\n",
    "    BPAdat.wp_obs = BPAdat.index.map(BPAxl_dat.wp_obs)\n",
    "    BPAtz = BPAdat.tz_localize('US/Pacific',ambiguous='infer').interpolate()\n",
    "    # concatenate years\n",
    "    if 'prod_BPA5min' in globals():\n",
    "        prod_BPA5min = pd.concat([prod_BPA5min,BPAtz],axis=0)\n",
    "    else:\n",
    "        prod_BPA5min = BPAtz\n",
    "\n",
    "# year 2010 is the only of the first set of years that actually has data for the duplicate hour\n",
    "# therefore needs to be handled differently\n",
    "year = '10'\n",
    "BPAxl = pd.read_excel(usa_path+\"/generation_data/BPA_5min/TotalWindLoad_5Min_\"+year+\".xls\",\n",
    "                      skiprows=col.lines[year])\n",
    "BPAxl_drop = BPAxl.dropna(subset=[BPAxl.columns[1]],axis=0)\n",
    "BPAxl_dat = pd.DataFrame({'wp_obs':pd.concat([BPAxl_drop.iloc[:,col.dat1[year]],\n",
    "                                              BPAxl.iloc[:,col.dat2[year]]]).values},\n",
    "                         index = pd.concat([pd.to_datetime(BPAxl_drop.iloc[:,col.time1[year]]),\n",
    "                                            pd.to_datetime(BPAxl.iloc[:,col.time2[year]])]).values)\n",
    "BPAtz = BPAxl_dat.tz_localize('US/Pacific',ambiguous='infer').interpolate()\n",
    "prod_BPA5min = pd.concat([prod_BPA5min,BPAtz],axis=0)\n",
    "\n",
    "for year in range(11,19):\n",
    "    # read data from two sheets separately\n",
    "    BPAxl1 = pd.read_excel(usa_path+\"/generation_data/BPA_5min/WindGenTotalLoadYTD_20\"+str(year)+\".xls\",\n",
    "                           sheet_name=\"January-June\",\n",
    "                           skiprows=lines.x[year])\n",
    "    BPAxl2 = pd.read_excel(usa_path+\"/generation_data/BPA_5min/WindGenTotalLoadYTD_20\"+str(year)+\".xls\",\n",
    "                           sheet_name=\"July-December\",\n",
    "                           skiprows=lines.x[year])\n",
    "    # merge data for first and second half of year in datetime indexed data frame\n",
    "    # and add a timezone and interpolate missing values\n",
    "    BPAdat = pd.DataFrame({'wp_obs':pd.concat([BPAxl1.iloc[:,2],BPAxl2.iloc[:,2]]).values},\n",
    "                          index = pd.concat([pd.to_datetime(BPAxl1.iloc[:,0]),\n",
    "                                             pd.to_datetime(BPAxl2.iloc[:,0])]).values\n",
    "                         ).tz_localize('US/Pacific',ambiguous='infer').interpolate()\n",
    "    # concatenate years\n",
    "    prod_BPA5min = pd.concat([prod_BPA5min,BPAdat],axis=0)"
   ]
  },
  {
   "cell_type": "code",
   "execution_count": 163,
   "metadata": {},
   "outputs": [],
   "source": [
    "# select only data of interest and convert to UTC\n",
    "prod_BPA5min = prod_BPA5min[prod_BPA5min.index<pd.to_datetime(\"2019-01-01\",utc=True)].tz_convert('UTC')"
   ]
  },
  {
   "cell_type": "code",
   "execution_count": 164,
   "metadata": {},
   "outputs": [
    {
     "data": {
      "text/plain": [
       "[<matplotlib.lines.Line2D at 0x205fdfbbac8>]"
      ]
     },
     "execution_count": 164,
     "metadata": {},
     "output_type": "execute_result"
    },
    {
     "data": {
      "image/png": "[encoded data removed]",
      "text/plain": [
       "<Figure size 432x288 with 1 Axes>"
      ]
     },
     "metadata": {
      "needs_background": "light"
     },
     "output_type": "display_data"
    }
   ],
   "source": [
    "plt.plot(prod_BPA5min)"
   ]
  },
  {
   "cell_type": "markdown",
   "metadata": {},
   "source": [
    "aggregate hourly  \n",
    "divide by 12 to account for 5 minutes being 12th of hour"
   ]
  },
  {
   "cell_type": "code",
   "execution_count": 247,
   "metadata": {},
   "outputs": [],
   "source": [
    "hours = prod_BPA5min.index.values.astype('datetime64[h]')\n",
    "prod_BPAh = prod_BPA5min.groupby(hours).sum().tz_localize(\"UTC\")/12"
   ]
  },
  {
   "cell_type": "markdown",
   "metadata": {},
   "source": [
    "### Prepare simulated data"
   ]
  },
  {
   "cell_type": "code",
   "execution_count": 720,
   "metadata": {},
   "outputs": [],
   "source": [
    "# load data\n",
    "wp_BPAE = xr.open_dataset(usa_path+\"/results/windpower_BPA_ERA5.nc\").to_dataframe()\n",
    "wp_BPAE_GWA = xr.open_dataset(usa_path+\"/results/windpower_BPA_ERA5_GWA.nc\").to_dataframe()\n",
    "wp_BPAM = xr.open_dataset(usa_path+\"/results/windpower_BPA_MERRA2.nc\").to_dataframe()\n",
    "wp_BPAM_GWA = xr.open_dataset(usa_path+\"/results/windpower_BPA_MERRA2_GWA.nc\").to_dataframe()\n",
    "\n",
    "# merge data\n",
    "comp_BPAh = pd.concat([wp_BPAE,wp_BPAE_GWA,wp_BPAM,wp_BPAM_GWA],axis=1)\n",
    "comp_BPAh.columns = ['ERA5','ERA5_GWA','MERRA2','MERRA2_GWA']\n",
    "\n",
    "# set timezone\n",
    "comp_BPAh = comp_BPAh.tz_localize('UTC')\n",
    "\n",
    "# cut at 2007 (where production starts)\n",
    "comp_BPAh = comp_BPAh[comp_BPAh.index.values>=np.datetime64(\"2007-01-01 00:00:00\")]\n",
    "\n",
    "# kW -> MW\n",
    "comp_BPAh = comp_BPAh/10**3\n",
    "\n",
    "# add production data\n",
    "comp_BPAh['wp_obs'] = comp_BPAh.index.map(prod_BPAh.wp_obs)\n",
    "\n",
    "# fill lines with missing data(before recorded generation) with 0, because 0 generation in first hours\n",
    "# won't make a difference if add a few more 0s\n",
    "comp_BPAh = comp_BPAh.fillna(0)\n",
    "\n",
    "# MW -> GW\n",
    "comp_BPAh = comp_BPAh/10**3"
   ]
  },
  {
   "cell_type": "markdown",
   "metadata": {},
   "source": [
    "## Hourly"
   ]
  },
  {
   "cell_type": "markdown",
   "metadata": {},
   "source": [
    "### Analyse"
   ]
  },
  {
   "cell_type": "code",
   "execution_count": 721,
   "metadata": {},
   "outputs": [],
   "source": [
    "stats_BPAh = pd.DataFrame({'ERA5':stats(comp_BPAh.ERA5,comp_BPAh.wp_obs),\n",
    "                           'ERA5_GWA':stats(comp_BPAh.ERA5_GWA,comp_BPAh.wp_obs),\n",
    "                           'MERRA2':stats(comp_BPAh.MERRA2,comp_BPAh.wp_obs),\n",
    "                           'MERRA2_GWA':stats(comp_BPAh.MERRA2_GWA,comp_BPAh.wp_obs),\n",
    "                           'obs':[np.nan,np.nan,np.nan,round(comp_BPAh.wp_obs.mean(),2)]},\n",
    "                          index = ['cor','rmse','mbe','avg'])"
   ]
  },
  {
   "cell_type": "code",
   "execution_count": 722,
   "metadata": {},
   "outputs": [
    {
     "data": {
      "text/html": [
       "<div>\n",
       "<style scoped>\n",
       "    .dataframe tbody tr th:only-of-type {\n",
       "        vertical-align: middle;\n",
       "    }\n",
       "\n",
       "    .dataframe tbody tr th {\n",
       "        vertical-align: top;\n",
       "    }\n",
       "\n",
       "    .dataframe thead th {\n",
       "        text-align: right;\n",
       "    }\n",
       "</style>\n",
       "<table border=\"1\" class=\"dataframe\">\n",
       "  <thead>\n",
       "    <tr style=\"text-align: right;\">\n",
       "      <th></th>\n",
       "      <th>ERA5</th>\n",
       "      <th>ERA5_GWA</th>\n",
       "      <th>MERRA2</th>\n",
       "      <th>MERRA2_GWA</th>\n",
       "      <th>obs</th>\n",
       "    </tr>\n",
       "  </thead>\n",
       "  <tbody>\n",
       "    <tr>\n",
       "      <th>cor</th>\n",
       "      <td>0.87</td>\n",
       "      <td>0.92</td>\n",
       "      <td>0.72</td>\n",
       "      <td>0.70</td>\n",
       "      <td>NaN</td>\n",
       "    </tr>\n",
       "    <tr>\n",
       "      <th>rmse</th>\n",
       "      <td>0.64</td>\n",
       "      <td>0.46</td>\n",
       "      <td>0.88</td>\n",
       "      <td>0.82</td>\n",
       "      <td>NaN</td>\n",
       "    </tr>\n",
       "    <tr>\n",
       "      <th>mbe</th>\n",
       "      <td>-0.35</td>\n",
       "      <td>0.03</td>\n",
       "      <td>0.21</td>\n",
       "      <td>-0.03</td>\n",
       "      <td>NaN</td>\n",
       "    </tr>\n",
       "    <tr>\n",
       "      <th>avg</th>\n",
       "      <td>0.60</td>\n",
       "      <td>0.99</td>\n",
       "      <td>1.16</td>\n",
       "      <td>0.92</td>\n",
       "      <td>0.95</td>\n",
       "    </tr>\n",
       "  </tbody>\n",
       "</table>\n",
       "</div>"
      ],
      "text/plain": [
       "      ERA5  ERA5_GWA  MERRA2  MERRA2_GWA   obs\n",
       "cor   0.87      0.92    0.72        0.70   NaN\n",
       "rmse  0.64      0.46    0.88        0.82   NaN\n",
       "mbe  -0.35      0.03    0.21       -0.03   NaN\n",
       "avg   0.60      0.99    1.16        0.92  0.95"
      ]
     },
     "execution_count": 722,
     "metadata": {},
     "output_type": "execute_result"
    }
   ],
   "source": [
    "stats_BPAh"
   ]
  },
  {
   "cell_type": "code",
   "execution_count": 723,
   "metadata": {},
   "outputs": [],
   "source": [
    "# save statistical results\n",
    "stats_BPAh.to_csv(usa_path+'/results_stat/stats_BPAh_abs.csv',sep=';')"
   ]
  },
  {
   "cell_type": "code",
   "execution_count": 724,
   "metadata": {},
   "outputs": [
    {
     "data": {
      "image/png": "[encoded data removed]",
      "text/plain": [
       "<Figure size 864x576 with 1 Axes>"
      ]
     },
     "metadata": {},
     "output_type": "display_data"
    }
   ],
   "source": [
    "# plot data\n",
    "plot_BPAh = comp_BPAh.melt(var_name='type',value_name='hourly_GWh')\n",
    "sns.set(style='darkgrid',context='talk')\n",
    "plt.figure(figsize=(12,8))\n",
    "ax = sns.boxplot(x='type',y='hourly_GWh',data=plot_BPAh,palette=col_rf,linewidth=3)\n",
    "fig = ax.get_figure()\n",
    "fig.savefig(usa_path+'/results_stat/plots/absolute/BPAh_abs.png')"
   ]
  },
  {
   "cell_type": "markdown",
   "metadata": {},
   "source": [
    "## Daily"
   ]
  },
  {
   "cell_type": "markdown",
   "metadata": {},
   "source": [
    "aggregate daily"
   ]
  },
  {
   "cell_type": "code",
   "execution_count": 725,
   "metadata": {},
   "outputs": [],
   "source": [
    "days = comp_BPAh.index.values.astype('datetime64[D]')\n",
    "comp_BPAd = comp_BPAh.groupby(days).sum()"
   ]
  },
  {
   "cell_type": "markdown",
   "metadata": {},
   "source": [
    "### Analyse"
   ]
  },
  {
   "cell_type": "code",
   "execution_count": 726,
   "metadata": {},
   "outputs": [],
   "source": [
    "stats_BPAd = pd.DataFrame({'ERA5':stats(comp_BPAd.ERA5,comp_BPAd.wp_obs),\n",
    "                           'ERA5_GWA':stats(comp_BPAd.ERA5_GWA,comp_BPAd.wp_obs),\n",
    "                           'MERRA2':stats(comp_BPAd.MERRA2,comp_BPAd.wp_obs),\n",
    "                           'MERRA2_GWA':stats(comp_BPAd.MERRA2_GWA,comp_BPAd.wp_obs),\n",
    "                           'obs':[np.nan,np.nan,np.nan,round(comp_BPAd.wp_obs.mean(),2)]},\n",
    "                          index = ['cor','rmse','mbe','avg'])"
   ]
  },
  {
   "cell_type": "code",
   "execution_count": 727,
   "metadata": {},
   "outputs": [
    {
     "data": {
      "text/html": [
       "<div>\n",
       "<style scoped>\n",
       "    .dataframe tbody tr th:only-of-type {\n",
       "        vertical-align: middle;\n",
       "    }\n",
       "\n",
       "    .dataframe tbody tr th {\n",
       "        vertical-align: top;\n",
       "    }\n",
       "\n",
       "    .dataframe thead th {\n",
       "        text-align: right;\n",
       "    }\n",
       "</style>\n",
       "<table border=\"1\" class=\"dataframe\">\n",
       "  <thead>\n",
       "    <tr style=\"text-align: right;\">\n",
       "      <th></th>\n",
       "      <th>ERA5</th>\n",
       "      <th>ERA5_GWA</th>\n",
       "      <th>MERRA2</th>\n",
       "      <th>MERRA2_GWA</th>\n",
       "      <th>obs</th>\n",
       "    </tr>\n",
       "  </thead>\n",
       "  <tbody>\n",
       "    <tr>\n",
       "      <th>cor</th>\n",
       "      <td>0.90</td>\n",
       "      <td>0.94</td>\n",
       "      <td>0.75</td>\n",
       "      <td>0.72</td>\n",
       "      <td>NaN</td>\n",
       "    </tr>\n",
       "    <tr>\n",
       "      <th>rmse</th>\n",
       "      <td>13.04</td>\n",
       "      <td>8.06</td>\n",
       "      <td>17.07</td>\n",
       "      <td>15.86</td>\n",
       "      <td>NaN</td>\n",
       "    </tr>\n",
       "    <tr>\n",
       "      <th>mbe</th>\n",
       "      <td>-8.40</td>\n",
       "      <td>0.79</td>\n",
       "      <td>4.92</td>\n",
       "      <td>-0.74</td>\n",
       "      <td>NaN</td>\n",
       "    </tr>\n",
       "    <tr>\n",
       "      <th>avg</th>\n",
       "      <td>14.52</td>\n",
       "      <td>23.70</td>\n",
       "      <td>27.83</td>\n",
       "      <td>22.17</td>\n",
       "      <td>22.91</td>\n",
       "    </tr>\n",
       "  </tbody>\n",
       "</table>\n",
       "</div>"
      ],
      "text/plain": [
       "       ERA5  ERA5_GWA  MERRA2  MERRA2_GWA    obs\n",
       "cor    0.90      0.94    0.75        0.72    NaN\n",
       "rmse  13.04      8.06   17.07       15.86    NaN\n",
       "mbe   -8.40      0.79    4.92       -0.74    NaN\n",
       "avg   14.52     23.70   27.83       22.17  22.91"
      ]
     },
     "execution_count": 727,
     "metadata": {},
     "output_type": "execute_result"
    }
   ],
   "source": [
    "stats_BPAd"
   ]
  },
  {
   "cell_type": "code",
   "execution_count": 728,
   "metadata": {},
   "outputs": [],
   "source": [
    "# save statistical results\n",
    "stats_BPAd.to_csv(usa_path+'/results_stat/stats_BPAd_abs.csv',sep=';')"
   ]
  },
  {
   "cell_type": "code",
   "execution_count": 729,
   "metadata": {},
   "outputs": [
    {
     "data": {
      "image/png": "[encoded data removed]",
      "text/plain": [
       "<Figure size 864x576 with 1 Axes>"
      ]
     },
     "metadata": {},
     "output_type": "display_data"
    }
   ],
   "source": [
    "# plot data\n",
    "plot_BPAd = comp_BPAd.melt(var_name='type',value_name='daily_GWh')\n",
    "sns.set(style='darkgrid',context='talk')\n",
    "plt.figure(figsize=(12,8))\n",
    "ax = sns.boxplot(x='type',y='daily_GWh',data=plot_BPAd,palette=col_rf,linewidth=3)\n",
    "fig = ax.get_figure()\n",
    "fig.savefig(usa_path+'/results_stat/plots/absolute/BPAd_abs.png')"
   ]
  },
  {
   "cell_type": "markdown",
   "metadata": {},
   "source": [
    "## Monthly"
   ]
  },
  {
   "cell_type": "markdown",
   "metadata": {},
   "source": [
    "aggregate monthly"
   ]
  },
  {
   "cell_type": "code",
   "execution_count": 730,
   "metadata": {},
   "outputs": [],
   "source": [
    "months = comp_BPAh.index.values.astype('datetime64[M]')\n",
    "comp_BPAm = comp_BPAh.groupby(months).sum()"
   ]
  },
  {
   "cell_type": "markdown",
   "metadata": {},
   "source": [
    "### Analyse"
   ]
  },
  {
   "cell_type": "code",
   "execution_count": 731,
   "metadata": {},
   "outputs": [],
   "source": [
    "stats_BPAm = pd.DataFrame({'ERA5':stats(comp_BPAm.ERA5,comp_BPAm.wp_obs),\n",
    "                           'ERA5_GWA':stats(comp_BPAm.ERA5_GWA,comp_BPAm.wp_obs),\n",
    "                           'MERRA2':stats(comp_BPAm.MERRA2,comp_BPAm.wp_obs),\n",
    "                           'MERRA2_GWA':stats(comp_BPAm.MERRA2_GWA,comp_BPAm.wp_obs),\n",
    "                           'obs':[np.nan,np.nan,np.nan,round(comp_BPAm.wp_obs.mean(),2)]},\n",
    "                          index = ['cor','rmse','mbe','avg'])"
   ]
  },
  {
   "cell_type": "code",
   "execution_count": 732,
   "metadata": {},
   "outputs": [
    {
     "data": {
      "text/html": [
       "<div>\n",
       "<style scoped>\n",
       "    .dataframe tbody tr th:only-of-type {\n",
       "        vertical-align: middle;\n",
       "    }\n",
       "\n",
       "    .dataframe tbody tr th {\n",
       "        vertical-align: top;\n",
       "    }\n",
       "\n",
       "    .dataframe thead th {\n",
       "        text-align: right;\n",
       "    }\n",
       "</style>\n",
       "<table border=\"1\" class=\"dataframe\">\n",
       "  <thead>\n",
       "    <tr style=\"text-align: right;\">\n",
       "      <th></th>\n",
       "      <th>ERA5</th>\n",
       "      <th>ERA5_GWA</th>\n",
       "      <th>MERRA2</th>\n",
       "      <th>MERRA2_GWA</th>\n",
       "      <th>obs</th>\n",
       "    </tr>\n",
       "  </thead>\n",
       "  <tbody>\n",
       "    <tr>\n",
       "      <th>cor</th>\n",
       "      <td>0.88</td>\n",
       "      <td>0.93</td>\n",
       "      <td>0.62</td>\n",
       "      <td>0.58</td>\n",
       "      <td>NaN</td>\n",
       "    </tr>\n",
       "    <tr>\n",
       "      <th>rmse</th>\n",
       "      <td>309.89</td>\n",
       "      <td>121.85</td>\n",
       "      <td>345.84</td>\n",
       "      <td>289.86</td>\n",
       "      <td>NaN</td>\n",
       "    </tr>\n",
       "    <tr>\n",
       "      <th>mbe</th>\n",
       "      <td>-255.53</td>\n",
       "      <td>24.03</td>\n",
       "      <td>149.82</td>\n",
       "      <td>-22.62</td>\n",
       "      <td>NaN</td>\n",
       "    </tr>\n",
       "    <tr>\n",
       "      <th>avg</th>\n",
       "      <td>441.83</td>\n",
       "      <td>721.38</td>\n",
       "      <td>847.18</td>\n",
       "      <td>674.73</td>\n",
       "      <td>697.36</td>\n",
       "    </tr>\n",
       "  </tbody>\n",
       "</table>\n",
       "</div>"
      ],
      "text/plain": [
       "        ERA5  ERA5_GWA  MERRA2  MERRA2_GWA     obs\n",
       "cor     0.88      0.93    0.62        0.58     NaN\n",
       "rmse  309.89    121.85  345.84      289.86     NaN\n",
       "mbe  -255.53     24.03  149.82      -22.62     NaN\n",
       "avg   441.83    721.38  847.18      674.73  697.36"
      ]
     },
     "execution_count": 732,
     "metadata": {},
     "output_type": "execute_result"
    }
   ],
   "source": [
    "stats_BPAm"
   ]
  },
  {
   "cell_type": "code",
   "execution_count": 733,
   "metadata": {},
   "outputs": [],
   "source": [
    "# save statistical results\n",
    "stats_BPAm.to_csv(usa_path+'/results_stat/stats_BPAm_abs.csv',sep=';')"
   ]
  },
  {
   "cell_type": "code",
   "execution_count": 734,
   "metadata": {},
   "outputs": [
    {
     "data": {
      "image/png": "[encoded data removed]",
      "text/plain": [
       "<Figure size 864x576 with 1 Axes>"
      ]
     },
     "metadata": {},
     "output_type": "display_data"
    }
   ],
   "source": [
    "# plot data\n",
    "plot_BPAm = comp_BPAm.melt(var_name='type',value_name='monthly_GWh')\n",
    "sns.set(style='darkgrid',context='talk')\n",
    "plt.figure(figsize=(12,8))\n",
    "ax = sns.boxplot(x='type',y='monthly_GWh',data=plot_BPAm,palette=col_rf,linewidth=3)\n",
    "fig = ax.get_figure()\n",
    "fig.savefig(usa_path+'/results_stat/plots/absolute/BPAm_abs.png')"
   ]
  },
  {
   "cell_type": "code",
   "execution_count": null,
   "metadata": {},
   "outputs": [],
   "source": []
  },
  {
   "cell_type": "markdown",
   "metadata": {},
   "source": [
    "# New England monthly"
   ]
  },
  {
   "cell_type": "markdown",
   "metadata": {},
   "source": [
    "### Load production data\n",
    "Source: https://www.iso-ne.com/isoexpress/web/reports/load-and-demand/-/tree/sys-load-eei-fmt"
   ]
  },
  {
   "cell_type": "code",
   "execution_count": 459,
   "metadata": {},
   "outputs": [],
   "source": [
    "del(windally)"
   ]
  },
  {
   "cell_type": "code",
   "execution_count": 460,
   "metadata": {},
   "outputs": [],
   "source": [
    "# years 2000 - 2015 in one file\n",
    "for year in range(2000,2016):\n",
    "    NExl = pd.read_excel(usa_path+\"/generation_data/NewEngland_monthly/2000-2015_energy_peak_source.xls\",\n",
    "                         sheet_name = str(year))\n",
    "    windy = NExl.iloc[np.where(NExl.iloc[:,0]=='Wind')[0][0]][2:14].values\n",
    "    if 'windally' in globals():\n",
    "        windally = windally + list(windy)\n",
    "    else:\n",
    "        windally = list(windy)\n",
    "\n",
    "for year in range(2016,2019):\n",
    "    NExl = pd.read_excel(usa_path+\"/generation_data/NewEngland_monthly/\"+str(year)+\"_energy_peak_by_source.xlsx\",\n",
    "                         sheet_name = str(year))\n",
    "    windy = NExl.iloc[np.where(NExl.iloc[:,0]=='WIND')[0][0]][1:13].values\n",
    "    windally = windally + list(windy)\n",
    "    \n",
    "prod_NE = pd.DataFrame({'wp_obs':windally},\n",
    "                       index = pd.date_range(start='01-01-2000',\n",
    "                                             end='01-01-2019',\n",
    "                                             freq='m').values.astype('datetime64[M]').astype('datetime64[s]'))# type of index is changed to get beginning of month\n"
   ]
  },
  {
   "cell_type": "markdown",
   "metadata": {},
   "source": [
    "### Prepare simulated data"
   ]
  },
  {
   "cell_type": "code",
   "execution_count": 471,
   "metadata": {},
   "outputs": [],
   "source": [
    "# load data\n",
    "wp_NEE = xr.open_dataset(usa_path+\"/results/windpower_NewEngland_ERA5.nc\").to_dataframe()\n",
    "wp_NEE_GWA = xr.open_dataset(usa_path+\"/results/windpower_NewEngland_ERA5_GWA.nc\").to_dataframe()\n",
    "wp_NEM = xr.open_dataset(usa_path+\"/results/windpower_NewEngland_MERRA2.nc\").to_dataframe()\n",
    "wp_NEM_GWA = xr.open_dataset(usa_path+\"/results/windpower_NewEngland_MERRA2_GWA.nc\").to_dataframe()\n",
    "\n",
    "# merge data\n",
    "comp_NEh = pd.concat([wp_NEE,wp_NEE_GWA,wp_NEM,wp_NEM_GWA],axis=1)\n",
    "comp_NEh.columns = ['ERA5','ERA5_GWA','MERRA2','MERRA2_GWA']\n",
    "\n",
    "# cut at 2006 (where production starts)\n",
    "comp_NEh = comp_NEh[comp_NEh.index.values>=np.datetime64(\"2006-01-01 00:00:00\")]\n",
    "\n",
    "# aggregate monthly\n",
    "comp_NEm = comp_NEh.groupby(comp_NEh.index.values.astype('datetime64[M]')).sum()\n",
    "\n",
    "# kW -> GW\n",
    "comp_NEm = comp_NEm/10**6\n",
    "\n",
    "# add production data\n",
    "comp_NEm['wp_obs'] = comp_NEm.index.map(prod_NE.wp_obs)"
   ]
  },
  {
   "cell_type": "markdown",
   "metadata": {},
   "source": [
    "### Analyse"
   ]
  },
  {
   "cell_type": "code",
   "execution_count": 475,
   "metadata": {},
   "outputs": [],
   "source": [
    "stats_NEm = pd.DataFrame({'ERA5':stats(comp_NEm.ERA5,comp_NEm.wp_obs),\n",
    "                          'ERA5_GWA':stats(comp_NEm.ERA5_GWA,comp_NEm.wp_obs),\n",
    "                          'MERRA2':stats(comp_NEm.MERRA2,comp_NEm.wp_obs),\n",
    "                          'MERRA2_GWA':stats(comp_NEm.MERRA2_GWA,comp_NEm.wp_obs),\n",
    "                          'obs':[np.nan,np.nan,np.nan,round(comp_NEm.wp_obs.mean(),2)]},\n",
    "                          index = ['cor','rmse','mbe','avg'])"
   ]
  },
  {
   "cell_type": "code",
   "execution_count": 476,
   "metadata": {},
   "outputs": [
    {
     "data": {
      "text/html": [
       "<div>\n",
       "<style scoped>\n",
       "    .dataframe tbody tr th:only-of-type {\n",
       "        vertical-align: middle;\n",
       "    }\n",
       "\n",
       "    .dataframe tbody tr th {\n",
       "        vertical-align: top;\n",
       "    }\n",
       "\n",
       "    .dataframe thead th {\n",
       "        text-align: right;\n",
       "    }\n",
       "</style>\n",
       "<table border=\"1\" class=\"dataframe\">\n",
       "  <thead>\n",
       "    <tr style=\"text-align: right;\">\n",
       "      <th></th>\n",
       "      <th>ERA5</th>\n",
       "      <th>ERA5_GWA</th>\n",
       "      <th>MERRA2</th>\n",
       "      <th>MERRA2_GWA</th>\n",
       "      <th>obs</th>\n",
       "    </tr>\n",
       "  </thead>\n",
       "  <tbody>\n",
       "    <tr>\n",
       "      <th>cor</th>\n",
       "      <td>0.98</td>\n",
       "      <td>0.99</td>\n",
       "      <td>0.97</td>\n",
       "      <td>0.98</td>\n",
       "      <td>NaN</td>\n",
       "    </tr>\n",
       "    <tr>\n",
       "      <th>rmse</th>\n",
       "      <td>37.98</td>\n",
       "      <td>81.88</td>\n",
       "      <td>30.29</td>\n",
       "      <td>109.00</td>\n",
       "      <td>NaN</td>\n",
       "    </tr>\n",
       "    <tr>\n",
       "      <th>mbe</th>\n",
       "      <td>-23.62</td>\n",
       "      <td>65.14</td>\n",
       "      <td>-14.88</td>\n",
       "      <td>87.00</td>\n",
       "      <td>NaN</td>\n",
       "    </tr>\n",
       "    <tr>\n",
       "      <th>avg</th>\n",
       "      <td>90.16</td>\n",
       "      <td>178.92</td>\n",
       "      <td>98.90</td>\n",
       "      <td>200.78</td>\n",
       "      <td>113.78</td>\n",
       "    </tr>\n",
       "  </tbody>\n",
       "</table>\n",
       "</div>"
      ],
      "text/plain": [
       "       ERA5  ERA5_GWA  MERRA2  MERRA2_GWA     obs\n",
       "cor    0.98      0.99    0.97        0.98     NaN\n",
       "rmse  37.98     81.88   30.29      109.00     NaN\n",
       "mbe  -23.62     65.14  -14.88       87.00     NaN\n",
       "avg   90.16    178.92   98.90      200.78  113.78"
      ]
     },
     "execution_count": 476,
     "metadata": {},
     "output_type": "execute_result"
    }
   ],
   "source": [
    "stats_NEm"
   ]
  },
  {
   "cell_type": "code",
   "execution_count": 364,
   "metadata": {},
   "outputs": [],
   "source": [
    "# save statistical results\n",
    "stats_NEm.to_csv(usa_path+'/results_stat/stats_NEm_abs.csv',sep=';')"
   ]
  },
  {
   "cell_type": "code",
   "execution_count": 477,
   "metadata": {},
   "outputs": [
    {
     "data": {
      "image/png": "[encoded data removed]",
      "text/plain": [
       "<Figure size 864x576 with 1 Axes>"
      ]
     },
     "metadata": {},
     "output_type": "display_data"
    }
   ],
   "source": [
    "# plot data\n",
    "plot_NEm = comp_NEm.melt(var_name='type',value_name='monthly_GWh')\n",
    "sns.set(style='darkgrid',context='talk')\n",
    "plt.figure(figsize=(12,8))\n",
    "ax = sns.boxplot(x='type',y='monthly_GWh',data=plot_NEm,palette=col_rf,linewidth=3)\n",
    "fig = ax.get_figure()\n",
    "fig.savefig(usa_path+'/results_stat/plots/absolute/NEm_abs.png')"
   ]
  },
  {
   "cell_type": "markdown",
   "metadata": {},
   "source": []
  },
  {
   "cell_type": "markdown",
   "metadata": {},
   "source": [
    "# Installed Capacities"
   ]
  },
  {
   "cell_type": "markdown",
   "metadata": {},
   "source": [
    " \n",
    " "
   ]
  },
  {
   "cell_type": "markdown",
   "metadata": {},
   "source": [
    "### Prepare wind park data"
   ]
  },
  {
   "cell_type": "code",
   "execution_count": 276,
   "metadata": {},
   "outputs": [],
   "source": [
    "windturbines = pd.read_csv(usa_path+\"/windturbines_usa.csv\",delimiter=';') "
   ]
  },
  {
   "cell_type": "code",
   "execution_count": 277,
   "metadata": {},
   "outputs": [],
   "source": [
    "# 0.1% of years are missing, so set them mean of commissioning years\n",
    "y = windturbines.p_year.fillna(windturbines.p_year.mean())"
   ]
  },
  {
   "cell_type": "code",
   "execution_count": 278,
   "metadata": {},
   "outputs": [],
   "source": [
    "# capacities\n",
    "cap = windturbines.t_cap.fillna(1700)"
   ]
  },
  {
   "cell_type": "code",
   "execution_count": 279,
   "metadata": {},
   "outputs": [],
   "source": [
    "# hub heights\n",
    "hh = windturbines.t_hh.fillna(80)"
   ]
  },
  {
   "cell_type": "markdown",
   "metadata": {},
   "source": [
    "make commissioning dates - only years given so use middle of year"
   ]
  },
  {
   "cell_type": "code",
   "execution_count": 280,
   "metadata": {},
   "outputs": [],
   "source": [
    "t = [np.datetime64(str(int(year))+\"-06-01T00:00:00\") for year in y]"
   ]
  },
  {
   "cell_type": "markdown",
   "metadata": {},
   "source": [
    "### make time series and get mean capacities"
   ]
  },
  {
   "cell_type": "markdown",
   "metadata": {},
   "source": [
    "create time series of installed capacities"
   ]
  },
  {
   "cell_type": "code",
   "execution_count": 284,
   "metadata": {},
   "outputs": [],
   "source": [
    "# sort installed capacities by commissioning date\n",
    "com = pd.DataFrame({'capacity': cap.values,'region': windturbines.t_state.values},index=t)\n",
    "com = com.sort_index()"
   ]
  },
  {
   "cell_type": "code",
   "execution_count": 286,
   "metadata": {},
   "outputs": [],
   "source": [
    "# cumulative capacity USA\n",
    "cap_usa = com\n",
    "cap_usa = cap_usa.drop(columns={'region'}).groupby(cap_usa.index).sum()\n",
    "cap_usa['capsum'] = cap_usa.capacity.cumsum()"
   ]
  },
  {
   "cell_type": "code",
   "execution_count": 290,
   "metadata": {},
   "outputs": [],
   "source": [
    "# cumulative capacity Iowa\n",
    "cap_IA = com[com.region=='IA']\n",
    "cap_IA = cap_IA.drop(columns={'region'}).groupby(cap_IA.index).sum()\n",
    "cap_IA['capsum'] = cap_IA.capacity.cumsum()"
   ]
  },
  {
   "cell_type": "code",
   "execution_count": 292,
   "metadata": {},
   "outputs": [],
   "source": [
    "# cumulative capacity Texas\n",
    "cap_TX = com[com.region=='TX']\n",
    "cap_TX = cap_TX.drop(columns={'region'}).groupby(cap_TX.index).sum()\n",
    "cap_TX['capsum'] = cap_TX.capacity.cumsum()"
   ]
  },
  {
   "cell_type": "code",
   "execution_count": 327,
   "metadata": {},
   "outputs": [],
   "source": [
    "# cumulative capacity BPA\n",
    "# new commissioning with park names\n",
    "com2 = pd.DataFrame({'capacity': cap.values,\n",
    "                     'region': windturbines.t_state.values,\n",
    "                     'name': windturbines.p_name.values},index=t)\n",
    "com2 = com2.sort_index()\n",
    "# load wind parks of BPA\n",
    "BPA_parks = pd.read_csv(usa_path+\"/BPA_windparks.csv\")\n",
    "# find those parks in wind turbine data\n",
    "ind = [park in BPA_parks.name.values for park in com2.name.values]\n",
    "\n",
    "cap_BPA = pd.DataFrame(com2.iloc[ind,0])\n",
    "cap_BPA = cap_BPA.groupby(cap_BPA.index).sum()\n",
    "cap_BPA['capsum'] = cap_BPA.capacity.cumsum()"
   ]
  },
  {
   "cell_type": "code",
   "execution_count": 302,
   "metadata": {},
   "outputs": [],
   "source": [
    "# cumulative capacity New England\n",
    "NE_states = ['CT','NH','ME','MA','RI','VT']\n",
    "cap_NE = com[com.region.isin(NE_states)]\n",
    "cap_NE = cap_NE.drop(columns={'region'}).groupby(cap_NE.index).sum()\n",
    "cap_NE['capsum'] = cap_NE.capacity.cumsum()"
   ]
  },
  {
   "cell_type": "code",
   "execution_count": 331,
   "metadata": {},
   "outputs": [
    {
     "data": {
      "text/plain": [
       "<matplotlib.legend.Legend at 0x20580f7aeb8>"
      ]
     },
     "execution_count": 331,
     "metadata": {},
     "output_type": "execute_result"
    },
    {
     "data": {
      "image/png": "[encoded data removed]",
      "text/plain": [
       "<Figure size 432x288 with 1 Axes>"
      ]
     },
     "metadata": {},
     "output_type": "display_data"
    }
   ],
   "source": [
    "plt.plot(cap_usa.capsum)\n",
    "plt.plot(cap_IA.capsum)\n",
    "plt.plot(cap_TX.capsum)\n",
    "plt.plot(cap_BPA.capsum)\n",
    "plt.plot(cap_NE.capsum)\n",
    "plt.legend(['USA','IA','TX','BPA','NE'])"
   ]
  },
  {
   "cell_type": "markdown",
   "metadata": {},
   "source": [
    "get first capacity in period of interest"
   ]
  },
  {
   "cell_type": "code",
   "execution_count": 499,
   "metadata": {},
   "outputs": [],
   "source": [
    "firstcap_usa = cap_usa[cap_usa.index<comp_USAm.index[0]].capsum[-1]\n",
    "firstcap_IA = cap_IA[cap_IA.index<comp_IAm.index[0]].capsum[-1]\n",
    "firstcap_TXm = cap_TX[cap_TX.index<comp_TXm.index[0]].capsum[-1]\n",
    "firstcap_TXhd = cap_TX[cap_TX.index<comp_TXh.index[0].replace(tzinfo=None)].capsum[-1]\n",
    "firstcap_BPA = cap_BPA[cap_BPA.index<comp_BPAh.index[0].replace(tzinfo=None)].capsum[-1]\n",
    "firstcap_NE = cap_NE[cap_NE.index<comp_NEm.index[0]].capsum[-1]"
   ]
  },
  {
   "cell_type": "markdown",
   "metadata": {},
   "source": [
    "cut capacities after starting date of production"
   ]
  },
  {
   "cell_type": "code",
   "execution_count": 511,
   "metadata": {},
   "outputs": [],
   "source": [
    "capc_usa = cap_usa[(cap_usa.index>=comp_USAm.index[0])&(cap_usa.index<=comp_USAm.index[-1])]\n",
    "capc_IA = cap_IA[(cap_IA.index>=comp_IAm.index[0])&(cap_IA.index<=comp_IAm.index[-1])]\n",
    "capc_TXm = cap_TX[(cap_TX.index>=comp_TXm.index[0])&(cap_TX.index<=comp_TXm.index[-1])]\n",
    "capc_TXhd = cap_TX[(cap_TX.index>=comp_TXh.index[0].replace(tzinfo=None))&(cap_TX.index<=comp_TXh.index[-1].replace(tzinfo=None))]\n",
    "capc_BPA = cap_BPA[(cap_BPA.index>=comp_BPAh.index[0].replace(tzinfo=None))&(cap_BPA.index<=comp_BPAh.index[-1].replace(tzinfo=None))]\n",
    "capc_NE = cap_NE[(cap_NE.index>=comp_NEm.index[0])&(cap_NE.index<=comp_NEm.index[-1])]"
   ]
  },
  {
   "cell_type": "markdown",
   "metadata": {},
   "source": [
    "Make dataframe with dates where all data are available as index to fill in capacities and then fill in data"
   ]
  },
  {
   "cell_type": "code",
   "execution_count": 579,
   "metadata": {},
   "outputs": [],
   "source": [
    "# prepare dataframes\n",
    "cap_usam = pd.DataFrame({'cap':0}, index = comp_USAm.index)\n",
    "cap_IAm = pd.DataFrame({'cap':0}, index = comp_IAm.index)\n",
    "cap_TXm = pd.DataFrame({'cap':0}, index = comp_TXm.index)\n",
    "cap_TXd = pd.DataFrame({'cap':0}, index = comp_TXd.index)\n",
    "cap_TXh = pd.DataFrame({'cap':0}, index = comp_TXh.index).tz_localize(None)\n",
    "cap_BPAm = pd.DataFrame({'cap':0}, index = comp_BPAm.index)\n",
    "cap_BPAd = pd.DataFrame({'cap':0}, index = comp_BPAd.index)\n",
    "cap_BPAh = pd.DataFrame({'cap':0}, index = comp_BPAh.index).tz_localize(None)\n",
    "cap_NEm = pd.DataFrame({'cap':0}, index = comp_NEm.index)"
   ]
  },
  {
   "cell_type": "code",
   "execution_count": 580,
   "metadata": {},
   "outputs": [],
   "source": [
    "# fill in cumulative capacities\n",
    "cap_usam.cap = cap_usam.index.map(capc_usa.capsum)\n",
    "cap_IAm.cap = cap_IAm.index.map(capc_IA.capsum)\n",
    "cap_TXm.cap = cap_TXm.index.map(capc_TXm.capsum)\n",
    "cap_TXd.cap = cap_TXd.index.map(capc_TXhd.capsum)\n",
    "cap_TXh.cap = cap_TXh.index.map(capc_TXhd.capsum)\n",
    "cap_BPAm.cap = cap_BPAm.index.map(capc_BPA.capsum)\n",
    "cap_BPAd.cap = cap_BPAd.index.map(capc_BPA.capsum)\n",
    "cap_BPAh.cap = cap_BPAh.index.map(capc_BPA.capsum)\n",
    "cap_NEm.cap = cap_NEm.index.map(capc_NE.capsum)"
   ]
  },
  {
   "cell_type": "code",
   "execution_count": 581,
   "metadata": {},
   "outputs": [],
   "source": [
    "# fill in starting capacities at date of first observed generation\n",
    "cap_usam.cap[0] = firstcap_usa\n",
    "cap_IAm.cap[0] = firstcap_IA\n",
    "cap_TXm.cap[0] = firstcap_TXm\n",
    "cap_TXd.cap[0] = firstcap_TXhd\n",
    "cap_TXh.cap[0] = firstcap_TXhd\n",
    "cap_BPAm.cap[0] = firstcap_BPA\n",
    "cap_BPAd.cap[0] = firstcap_BPA\n",
    "cap_BPAh.cap[0] = firstcap_BPA\n",
    "cap_NEm.cap[0] = firstcap_NE"
   ]
  },
  {
   "cell_type": "code",
   "execution_count": 582,
   "metadata": {},
   "outputs": [],
   "source": [
    "# fill Nas with last capacity\n",
    "cap_usam.cap = cap_usam.fillna(method='ffill')\n",
    "cap_IAm.cap = cap_IAm.fillna(method='ffill')\n",
    "cap_TXm.cap = cap_TXm.fillna(method='ffill')\n",
    "cap_TXd.cap = cap_TXd.fillna(method='ffill')\n",
    "cap_TXh.cap = cap_TXh.fillna(method='ffill')\n",
    "cap_BPAm.cap = cap_BPAm.fillna(method='ffill')\n",
    "cap_BPAd.cap = cap_BPAd.fillna(method='ffill')\n",
    "cap_BPAh.cap = cap_BPAh.fillna(method='ffill')\n",
    "cap_NEm.cap = cap_NEm.fillna(method='ffill')"
   ]
  },
  {
   "cell_type": "markdown",
   "metadata": {},
   "source": [
    "#### Plot of monthly capacities"
   ]
  },
  {
   "cell_type": "code",
   "execution_count": 583,
   "metadata": {},
   "outputs": [
    {
     "data": {
      "text/plain": [
       "<matplotlib.legend.Legend at 0x205facd4128>"
      ]
     },
     "execution_count": 583,
     "metadata": {},
     "output_type": "execute_result"
    },
    {
     "data": {
      "image/png": "[encoded data removed]",
      "text/plain": [
       "<Figure size 432x288 with 1 Axes>"
      ]
     },
     "metadata": {},
     "output_type": "display_data"
    }
   ],
   "source": [
    "plt.plot(cap_usam)\n",
    "plt.plot(cap_IAm)\n",
    "plt.plot(cap_TXm)\n",
    "plt.plot(cap_BPAm)\n",
    "plt.plot(cap_NEm)\n",
    "plt.legend(['USA','IA','TX','BPA','NE'])"
   ]
  },
  {
   "cell_type": "code",
   "execution_count": 584,
   "metadata": {},
   "outputs": [
    {
     "data": {
      "text/plain": [
       "<matplotlib.legend.Legend at 0x205c30cff28>"
      ]
     },
     "execution_count": 584,
     "metadata": {},
     "output_type": "execute_result"
    },
    {
     "data": {
      "image/png": "[encoded data removed]",
      "text/plain": [
       "<Figure size 432x288 with 1 Axes>"
      ]
     },
     "metadata": {},
     "output_type": "display_data"
    }
   ],
   "source": [
    "plt.plot(cap_TXd)\n",
    "plt.plot(cap_BPAd)\n",
    "plt.legend(['TX','BPA'])"
   ]
  },
  {
   "cell_type": "code",
   "execution_count": 585,
   "metadata": {},
   "outputs": [
    {
     "data": {
      "text/plain": [
       "<matplotlib.legend.Legend at 0x205bd409be0>"
      ]
     },
     "execution_count": 585,
     "metadata": {},
     "output_type": "execute_result"
    },
    {
     "data": {
      "image/png": "[encoded data removed]",
      "text/plain": [
       "<Figure size 432x288 with 1 Axes>"
      ]
     },
     "metadata": {},
     "output_type": "display_data"
    }
   ],
   "source": [
    "plt.plot(cap_TXh)\n",
    "plt.plot(cap_BPAh)\n",
    "plt.legend(['TX','BPA'])"
   ]
  },
  {
   "cell_type": "code",
   "execution_count": 591,
   "metadata": {},
   "outputs": [],
   "source": [
    "# mean capacities\n",
    "mcap_usam = cap_usam.cap.mean()/10**6\n",
    "mcap_IAm = cap_IAm.cap.mean()/10**6\n",
    "mcap_TXm = cap_TXm.cap.mean()/10**6\n",
    "mcap_TXd = cap_TXd.cap.mean()/10**6\n",
    "mcap_TXh = cap_TXh.cap.mean()/10**6\n",
    "mcap_BPAm = cap_BPAm.cap.mean()/10**6\n",
    "mcap_BPAd = cap_BPAd.cap.mean()/10**6\n",
    "mcap_BPAh = cap_BPAh.cap.mean()/10**6\n",
    "mcap_NEm = cap_NEm.cap.mean()/10**6"
   ]
  },
  {
   "cell_type": "markdown",
   "metadata": {},
   "source": [
    "# Relative results"
   ]
  },
  {
   "cell_type": "markdown",
   "metadata": {},
   "source": [
    "### USA"
   ]
  },
  {
   "cell_type": "code",
   "execution_count": 787,
   "metadata": {},
   "outputs": [
    {
     "data": {
      "text/html": [
       "<div>\n",
       "<style scoped>\n",
       "    .dataframe tbody tr th:only-of-type {\n",
       "        vertical-align: middle;\n",
       "    }\n",
       "\n",
       "    .dataframe tbody tr th {\n",
       "        vertical-align: top;\n",
       "    }\n",
       "\n",
       "    .dataframe thead th {\n",
       "        text-align: right;\n",
       "    }\n",
       "</style>\n",
       "<table border=\"1\" class=\"dataframe\">\n",
       "  <thead>\n",
       "    <tr style=\"text-align: right;\">\n",
       "      <th></th>\n",
       "      <th>ERA5</th>\n",
       "      <th>ERA5_GWA</th>\n",
       "      <th>MERRA2</th>\n",
       "      <th>MERRA2_GWA</th>\n",
       "    </tr>\n",
       "  </thead>\n",
       "  <tbody>\n",
       "    <tr>\n",
       "      <th>rmse</th>\n",
       "      <td>0.08</td>\n",
       "      <td>0.10</td>\n",
       "      <td>0.13</td>\n",
       "      <td>0.07</td>\n",
       "    </tr>\n",
       "    <tr>\n",
       "      <th>mbe</th>\n",
       "      <td>-0.04</td>\n",
       "      <td>0.06</td>\n",
       "      <td>0.09</td>\n",
       "      <td>0.02</td>\n",
       "    </tr>\n",
       "  </tbody>\n",
       "</table>\n",
       "</div>"
      ],
      "text/plain": [
       "      ERA5  ERA5_GWA  MERRA2  MERRA2_GWA\n",
       "rmse  0.08      0.10    0.13        0.07\n",
       "mbe  -0.04      0.06    0.09        0.02"
      ]
     },
     "execution_count": 787,
     "metadata": {},
     "output_type": "execute_result"
    }
   ],
   "source": [
    "stats_USAmr = (stats_USAm.iloc[1:3,:4]/(mcap_usam*24*30)).round(2)\n",
    "stats_USAmr"
   ]
  },
  {
   "cell_type": "code",
   "execution_count": 788,
   "metadata": {},
   "outputs": [],
   "source": [
    "# save statistical results\n",
    "stats_USAmr.to_csv(usa_path+'/results_stat/stats_USAm_rel.csv',sep=';')"
   ]
  },
  {
   "cell_type": "markdown",
   "metadata": {},
   "source": [
    "### Iowa"
   ]
  },
  {
   "cell_type": "code",
   "execution_count": 619,
   "metadata": {},
   "outputs": [
    {
     "data": {
      "text/html": [
       "<div>\n",
       "<style scoped>\n",
       "    .dataframe tbody tr th:only-of-type {\n",
       "        vertical-align: middle;\n",
       "    }\n",
       "\n",
       "    .dataframe tbody tr th {\n",
       "        vertical-align: top;\n",
       "    }\n",
       "\n",
       "    .dataframe thead th {\n",
       "        text-align: right;\n",
       "    }\n",
       "</style>\n",
       "<table border=\"1\" class=\"dataframe\">\n",
       "  <thead>\n",
       "    <tr style=\"text-align: right;\">\n",
       "      <th></th>\n",
       "      <th>ERA5</th>\n",
       "      <th>ERA5_GWA</th>\n",
       "      <th>MERRA2</th>\n",
       "      <th>MERRA2_GWA</th>\n",
       "    </tr>\n",
       "  </thead>\n",
       "  <tbody>\n",
       "    <tr>\n",
       "      <th>rmse</th>\n",
       "      <td>0.11</td>\n",
       "      <td>0.12</td>\n",
       "      <td>0.19</td>\n",
       "      <td>0.11</td>\n",
       "    </tr>\n",
       "    <tr>\n",
       "      <th>mbe</th>\n",
       "      <td>-0.00</td>\n",
       "      <td>0.04</td>\n",
       "      <td>0.13</td>\n",
       "      <td>-0.02</td>\n",
       "    </tr>\n",
       "  </tbody>\n",
       "</table>\n",
       "</div>"
      ],
      "text/plain": [
       "      ERA5  ERA5_GWA  MERRA2  MERRA2_GWA\n",
       "rmse  0.11      0.12    0.19        0.11\n",
       "mbe  -0.00      0.04    0.13       -0.02"
      ]
     },
     "execution_count": 619,
     "metadata": {},
     "output_type": "execute_result"
    }
   ],
   "source": [
    "stats_IAmr = (stats_IAm.iloc[1:3,:4]/(mcap_IAm*24*30)).round(2)\n",
    "stats_IAmr"
   ]
  },
  {
   "cell_type": "code",
   "execution_count": 620,
   "metadata": {},
   "outputs": [],
   "source": [
    "# save statistical results\n",
    "stats_IAmr.to_csv(usa_path+'/results_stat/stats_IAm_rel.csv',sep=';')"
   ]
  },
  {
   "cell_type": "markdown",
   "metadata": {},
   "source": [
    "### Texas"
   ]
  },
  {
   "cell_type": "markdown",
   "metadata": {},
   "source": [
    "#### monthly"
   ]
  },
  {
   "cell_type": "code",
   "execution_count": 621,
   "metadata": {},
   "outputs": [
    {
     "data": {
      "text/html": [
       "<div>\n",
       "<style scoped>\n",
       "    .dataframe tbody tr th:only-of-type {\n",
       "        vertical-align: middle;\n",
       "    }\n",
       "\n",
       "    .dataframe tbody tr th {\n",
       "        vertical-align: top;\n",
       "    }\n",
       "\n",
       "    .dataframe thead th {\n",
       "        text-align: right;\n",
       "    }\n",
       "</style>\n",
       "<table border=\"1\" class=\"dataframe\">\n",
       "  <thead>\n",
       "    <tr style=\"text-align: right;\">\n",
       "      <th></th>\n",
       "      <th>ERA5</th>\n",
       "      <th>ERA5_GWA</th>\n",
       "      <th>MERRA2</th>\n",
       "      <th>MERRA2_GWA</th>\n",
       "    </tr>\n",
       "  </thead>\n",
       "  <tbody>\n",
       "    <tr>\n",
       "      <th>rmse</th>\n",
       "      <td>0.11</td>\n",
       "      <td>0.11</td>\n",
       "      <td>0.17</td>\n",
       "      <td>0.11</td>\n",
       "    </tr>\n",
       "    <tr>\n",
       "      <th>mbe</th>\n",
       "      <td>0.01</td>\n",
       "      <td>0.02</td>\n",
       "      <td>0.11</td>\n",
       "      <td>-0.04</td>\n",
       "    </tr>\n",
       "  </tbody>\n",
       "</table>\n",
       "</div>"
      ],
      "text/plain": [
       "      ERA5  ERA5_GWA  MERRA2  MERRA2_GWA\n",
       "rmse  0.11      0.11    0.17        0.11\n",
       "mbe   0.01      0.02    0.11       -0.04"
      ]
     },
     "execution_count": 621,
     "metadata": {},
     "output_type": "execute_result"
    }
   ],
   "source": [
    "stats_TXmr = (stats_TXm.iloc[1:3,:4]/(mcap_TXm*24*30)).round(2)\n",
    "stats_TXmr"
   ]
  },
  {
   "cell_type": "code",
   "execution_count": 622,
   "metadata": {},
   "outputs": [],
   "source": [
    "# save statistical results\n",
    "stats_TXmr.to_csv(usa_path+'/results_stat/stats_TXm_rel.csv',sep=';')"
   ]
  },
  {
   "cell_type": "markdown",
   "metadata": {},
   "source": [
    "#### daily"
   ]
  },
  {
   "cell_type": "code",
   "execution_count": 628,
   "metadata": {},
   "outputs": [
    {
     "data": {
      "text/html": [
       "<div>\n",
       "<style scoped>\n",
       "    .dataframe tbody tr th:only-of-type {\n",
       "        vertical-align: middle;\n",
       "    }\n",
       "\n",
       "    .dataframe tbody tr th {\n",
       "        vertical-align: top;\n",
       "    }\n",
       "\n",
       "    .dataframe thead th {\n",
       "        text-align: right;\n",
       "    }\n",
       "</style>\n",
       "<table border=\"1\" class=\"dataframe\">\n",
       "  <thead>\n",
       "    <tr style=\"text-align: right;\">\n",
       "      <th></th>\n",
       "      <th>ERA5</th>\n",
       "      <th>ERA5_GWA</th>\n",
       "      <th>MERRA2</th>\n",
       "      <th>MERRA2_GWA</th>\n",
       "    </tr>\n",
       "  </thead>\n",
       "  <tbody>\n",
       "    <tr>\n",
       "      <th>rmse</th>\n",
       "      <td>0.07</td>\n",
       "      <td>0.07</td>\n",
       "      <td>0.14</td>\n",
       "      <td>0.07</td>\n",
       "    </tr>\n",
       "    <tr>\n",
       "      <th>mbe</th>\n",
       "      <td>0.03</td>\n",
       "      <td>0.03</td>\n",
       "      <td>0.12</td>\n",
       "      <td>-0.03</td>\n",
       "    </tr>\n",
       "  </tbody>\n",
       "</table>\n",
       "</div>"
      ],
      "text/plain": [
       "      ERA5  ERA5_GWA  MERRA2  MERRA2_GWA\n",
       "rmse  0.07      0.07    0.14        0.07\n",
       "mbe   0.03      0.03    0.12       -0.03"
      ]
     },
     "execution_count": 628,
     "metadata": {},
     "output_type": "execute_result"
    }
   ],
   "source": [
    "stats_TXdr = (stats_TXd.iloc[1:3,:4]/(mcap_TXd*24)).round(2)\n",
    "stats_TXdr"
   ]
  },
  {
   "cell_type": "code",
   "execution_count": 629,
   "metadata": {},
   "outputs": [],
   "source": [
    "# save statistical results\n",
    "stats_TXdr.to_csv(usa_path+'/results_stat/stats_TXd_rel.csv',sep=';')"
   ]
  },
  {
   "cell_type": "markdown",
   "metadata": {},
   "source": [
    "#### hourly"
   ]
  },
  {
   "cell_type": "code",
   "execution_count": 630,
   "metadata": {},
   "outputs": [
    {
     "data": {
      "text/html": [
       "<div>\n",
       "<style scoped>\n",
       "    .dataframe tbody tr th:only-of-type {\n",
       "        vertical-align: middle;\n",
       "    }\n",
       "\n",
       "    .dataframe tbody tr th {\n",
       "        vertical-align: top;\n",
       "    }\n",
       "\n",
       "    .dataframe thead th {\n",
       "        text-align: right;\n",
       "    }\n",
       "</style>\n",
       "<table border=\"1\" class=\"dataframe\">\n",
       "  <thead>\n",
       "    <tr style=\"text-align: right;\">\n",
       "      <th></th>\n",
       "      <th>ERA5</th>\n",
       "      <th>ERA5_GWA</th>\n",
       "      <th>MERRA2</th>\n",
       "      <th>MERRA2_GWA</th>\n",
       "    </tr>\n",
       "  </thead>\n",
       "  <tbody>\n",
       "    <tr>\n",
       "      <th>rmse</th>\n",
       "      <td>0.09</td>\n",
       "      <td>0.09</td>\n",
       "      <td>0.18</td>\n",
       "      <td>0.10</td>\n",
       "    </tr>\n",
       "    <tr>\n",
       "      <th>mbe</th>\n",
       "      <td>0.03</td>\n",
       "      <td>0.03</td>\n",
       "      <td>0.12</td>\n",
       "      <td>-0.03</td>\n",
       "    </tr>\n",
       "  </tbody>\n",
       "</table>\n",
       "</div>"
      ],
      "text/plain": [
       "      ERA5  ERA5_GWA  MERRA2  MERRA2_GWA\n",
       "rmse  0.09      0.09    0.18        0.10\n",
       "mbe   0.03      0.03    0.12       -0.03"
      ]
     },
     "execution_count": 630,
     "metadata": {},
     "output_type": "execute_result"
    }
   ],
   "source": [
    "stats_TXhr = (stats_TXh.iloc[1:3,:4]/mcap_TXh).round(2)\n",
    "stats_TXhr"
   ]
  },
  {
   "cell_type": "code",
   "execution_count": 631,
   "metadata": {},
   "outputs": [],
   "source": [
    "# save statistical results\n",
    "stats_TXhr.to_csv(usa_path+'/results_stat/stats_TXh_rel.csv',sep=';')"
   ]
  },
  {
   "cell_type": "markdown",
   "metadata": {},
   "source": [
    "### BPA"
   ]
  },
  {
   "cell_type": "markdown",
   "metadata": {},
   "source": [
    "#### monthly"
   ]
  },
  {
   "cell_type": "code",
   "execution_count": 735,
   "metadata": {},
   "outputs": [
    {
     "data": {
      "text/html": [
       "<div>\n",
       "<style scoped>\n",
       "    .dataframe tbody tr th:only-of-type {\n",
       "        vertical-align: middle;\n",
       "    }\n",
       "\n",
       "    .dataframe tbody tr th {\n",
       "        vertical-align: top;\n",
       "    }\n",
       "\n",
       "    .dataframe thead th {\n",
       "        text-align: right;\n",
       "    }\n",
       "</style>\n",
       "<table border=\"1\" class=\"dataframe\">\n",
       "  <thead>\n",
       "    <tr style=\"text-align: right;\">\n",
       "      <th></th>\n",
       "      <th>ERA5</th>\n",
       "      <th>ERA5_GWA</th>\n",
       "      <th>MERRA2</th>\n",
       "      <th>MERRA2_GWA</th>\n",
       "    </tr>\n",
       "  </thead>\n",
       "  <tbody>\n",
       "    <tr>\n",
       "      <th>rmse</th>\n",
       "      <td>0.11</td>\n",
       "      <td>0.04</td>\n",
       "      <td>0.12</td>\n",
       "      <td>0.10</td>\n",
       "    </tr>\n",
       "    <tr>\n",
       "      <th>mbe</th>\n",
       "      <td>-0.09</td>\n",
       "      <td>0.01</td>\n",
       "      <td>0.05</td>\n",
       "      <td>-0.01</td>\n",
       "    </tr>\n",
       "  </tbody>\n",
       "</table>\n",
       "</div>"
      ],
      "text/plain": [
       "      ERA5  ERA5_GWA  MERRA2  MERRA2_GWA\n",
       "rmse  0.11      0.04    0.12        0.10\n",
       "mbe  -0.09      0.01    0.05       -0.01"
      ]
     },
     "execution_count": 735,
     "metadata": {},
     "output_type": "execute_result"
    }
   ],
   "source": [
    "stats_BPAmr = (stats_BPAm.iloc[1:3,:4]/(mcap_BPAm*24*30)).round(2)\n",
    "stats_BPAmr"
   ]
  },
  {
   "cell_type": "code",
   "execution_count": 736,
   "metadata": {},
   "outputs": [],
   "source": [
    "# save statistical results\n",
    "stats_BPAmr.to_csv(usa_path+'/results_stat/stats_BPAm_rel.csv',sep=';')"
   ]
  },
  {
   "cell_type": "markdown",
   "metadata": {},
   "source": [
    "#### daily"
   ]
  },
  {
   "cell_type": "code",
   "execution_count": 737,
   "metadata": {},
   "outputs": [
    {
     "data": {
      "text/html": [
       "<div>\n",
       "<style scoped>\n",
       "    .dataframe tbody tr th:only-of-type {\n",
       "        vertical-align: middle;\n",
       "    }\n",
       "\n",
       "    .dataframe tbody tr th {\n",
       "        vertical-align: top;\n",
       "    }\n",
       "\n",
       "    .dataframe thead th {\n",
       "        text-align: right;\n",
       "    }\n",
       "</style>\n",
       "<table border=\"1\" class=\"dataframe\">\n",
       "  <thead>\n",
       "    <tr style=\"text-align: right;\">\n",
       "      <th></th>\n",
       "      <th>ERA5</th>\n",
       "      <th>ERA5_GWA</th>\n",
       "      <th>MERRA2</th>\n",
       "      <th>MERRA2_GWA</th>\n",
       "    </tr>\n",
       "  </thead>\n",
       "  <tbody>\n",
       "    <tr>\n",
       "      <th>rmse</th>\n",
       "      <td>0.14</td>\n",
       "      <td>0.08</td>\n",
       "      <td>0.18</td>\n",
       "      <td>0.17</td>\n",
       "    </tr>\n",
       "    <tr>\n",
       "      <th>mbe</th>\n",
       "      <td>-0.09</td>\n",
       "      <td>0.01</td>\n",
       "      <td>0.05</td>\n",
       "      <td>-0.01</td>\n",
       "    </tr>\n",
       "  </tbody>\n",
       "</table>\n",
       "</div>"
      ],
      "text/plain": [
       "      ERA5  ERA5_GWA  MERRA2  MERRA2_GWA\n",
       "rmse  0.14      0.08    0.18        0.17\n",
       "mbe  -0.09      0.01    0.05       -0.01"
      ]
     },
     "execution_count": 737,
     "metadata": {},
     "output_type": "execute_result"
    }
   ],
   "source": [
    "stats_BPAdr = (stats_BPAd.iloc[1:3,:4]/(mcap_BPAd*24)).round(2)\n",
    "stats_BPAdr"
   ]
  },
  {
   "cell_type": "code",
   "execution_count": 738,
   "metadata": {},
   "outputs": [],
   "source": [
    "# save statistical results\n",
    "stats_BPAdr.to_csv(usa_path+'/results_stat/stats_BPAd_rel.csv',sep=';')"
   ]
  },
  {
   "cell_type": "markdown",
   "metadata": {},
   "source": [
    "#### hourly"
   ]
  },
  {
   "cell_type": "code",
   "execution_count": 739,
   "metadata": {},
   "outputs": [
    {
     "data": {
      "text/html": [
       "<div>\n",
       "<style scoped>\n",
       "    .dataframe tbody tr th:only-of-type {\n",
       "        vertical-align: middle;\n",
       "    }\n",
       "\n",
       "    .dataframe tbody tr th {\n",
       "        vertical-align: top;\n",
       "    }\n",
       "\n",
       "    .dataframe thead th {\n",
       "        text-align: right;\n",
       "    }\n",
       "</style>\n",
       "<table border=\"1\" class=\"dataframe\">\n",
       "  <thead>\n",
       "    <tr style=\"text-align: right;\">\n",
       "      <th></th>\n",
       "      <th>ERA5</th>\n",
       "      <th>ERA5_GWA</th>\n",
       "      <th>MERRA2</th>\n",
       "      <th>MERRA2_GWA</th>\n",
       "    </tr>\n",
       "  </thead>\n",
       "  <tbody>\n",
       "    <tr>\n",
       "      <th>rmse</th>\n",
       "      <td>0.16</td>\n",
       "      <td>0.12</td>\n",
       "      <td>0.22</td>\n",
       "      <td>0.21</td>\n",
       "    </tr>\n",
       "    <tr>\n",
       "      <th>mbe</th>\n",
       "      <td>-0.09</td>\n",
       "      <td>0.01</td>\n",
       "      <td>0.05</td>\n",
       "      <td>-0.01</td>\n",
       "    </tr>\n",
       "  </tbody>\n",
       "</table>\n",
       "</div>"
      ],
      "text/plain": [
       "      ERA5  ERA5_GWA  MERRA2  MERRA2_GWA\n",
       "rmse  0.16      0.12    0.22        0.21\n",
       "mbe  -0.09      0.01    0.05       -0.01"
      ]
     },
     "execution_count": 739,
     "metadata": {},
     "output_type": "execute_result"
    }
   ],
   "source": [
    "stats_BPAhr = (stats_BPAh.iloc[1:3,:4]/mcap_BPAh).round(2)\n",
    "stats_BPAhr"
   ]
  },
  {
   "cell_type": "code",
   "execution_count": 740,
   "metadata": {},
   "outputs": [],
   "source": [
    "# save statistical results\n",
    "stats_BPAhr.to_csv(usa_path+'/results_stat/stats_BPAh_rel.csv',sep=';')"
   ]
  },
  {
   "cell_type": "markdown",
   "metadata": {},
   "source": [
    "### New England"
   ]
  },
  {
   "cell_type": "code",
   "execution_count": 625,
   "metadata": {},
   "outputs": [
    {
     "data": {
      "text/html": [
       "<div>\n",
       "<style scoped>\n",
       "    .dataframe tbody tr th:only-of-type {\n",
       "        vertical-align: middle;\n",
       "    }\n",
       "\n",
       "    .dataframe tbody tr th {\n",
       "        vertical-align: top;\n",
       "    }\n",
       "\n",
       "    .dataframe thead th {\n",
       "        text-align: right;\n",
       "    }\n",
       "</style>\n",
       "<table border=\"1\" class=\"dataframe\">\n",
       "  <thead>\n",
       "    <tr style=\"text-align: right;\">\n",
       "      <th></th>\n",
       "      <th>ERA5</th>\n",
       "      <th>ERA5_GWA</th>\n",
       "      <th>MERRA2</th>\n",
       "      <th>MERRA2_GWA</th>\n",
       "    </tr>\n",
       "  </thead>\n",
       "  <tbody>\n",
       "    <tr>\n",
       "      <th>rmse</th>\n",
       "      <td>0.08</td>\n",
       "      <td>0.18</td>\n",
       "      <td>0.06</td>\n",
       "      <td>0.23</td>\n",
       "    </tr>\n",
       "    <tr>\n",
       "      <th>mbe</th>\n",
       "      <td>-0.05</td>\n",
       "      <td>0.14</td>\n",
       "      <td>-0.03</td>\n",
       "      <td>0.19</td>\n",
       "    </tr>\n",
       "  </tbody>\n",
       "</table>\n",
       "</div>"
      ],
      "text/plain": [
       "      ERA5  ERA5_GWA  MERRA2  MERRA2_GWA\n",
       "rmse  0.08      0.18    0.06        0.23\n",
       "mbe  -0.05      0.14   -0.03        0.19"
      ]
     },
     "execution_count": 625,
     "metadata": {},
     "output_type": "execute_result"
    }
   ],
   "source": [
    "stats_NEmr = (stats_NEm.iloc[1:3,:4]/(mcap_NEm*24*30)).round(2)\n",
    "stats_NEmr"
   ]
  },
  {
   "cell_type": "code",
   "execution_count": 626,
   "metadata": {},
   "outputs": [],
   "source": [
    "# save statistical results\n",
    "stats_NEmr.to_csv(usa_path+'/results_stat/stats_NEm_rel.csv',sep=';')"
   ]
  },
  {
   "cell_type": "code",
   "execution_count": null,
   "metadata": {},
   "outputs": [],
   "source": []
  },
  {
   "cell_type": "markdown",
   "metadata": {},
   "source": [
    "# Capacity factors"
   ]
  },
  {
   "cell_type": "markdown",
   "metadata": {},
   "source": [
    "let's also calculate capacity factors"
   ]
  },
  {
   "cell_type": "markdown",
   "metadata": {},
   "source": [
    "### USA"
   ]
  },
  {
   "cell_type": "code",
   "execution_count": 789,
   "metadata": {},
   "outputs": [
    {
     "data": {
      "text/html": [
       "<div>\n",
       "<style scoped>\n",
       "    .dataframe tbody tr th:only-of-type {\n",
       "        vertical-align: middle;\n",
       "    }\n",
       "\n",
       "    .dataframe tbody tr th {\n",
       "        vertical-align: top;\n",
       "    }\n",
       "\n",
       "    .dataframe thead th {\n",
       "        text-align: right;\n",
       "    }\n",
       "</style>\n",
       "<table border=\"1\" class=\"dataframe\">\n",
       "  <thead>\n",
       "    <tr style=\"text-align: right;\">\n",
       "      <th></th>\n",
       "      <th>ERA5</th>\n",
       "      <th>ERA5_GWA</th>\n",
       "      <th>MERRA2</th>\n",
       "      <th>MERRA2_GWA</th>\n",
       "      <th>obs</th>\n",
       "    </tr>\n",
       "  </thead>\n",
       "  <tbody>\n",
       "    <tr>\n",
       "      <th>cor</th>\n",
       "      <td>0.78</td>\n",
       "      <td>0.48</td>\n",
       "      <td>0.78</td>\n",
       "      <td>0.24</td>\n",
       "      <td>NaN</td>\n",
       "    </tr>\n",
       "    <tr>\n",
       "      <th>rmse</th>\n",
       "      <td>0.07</td>\n",
       "      <td>0.12</td>\n",
       "      <td>0.11</td>\n",
       "      <td>0.12</td>\n",
       "      <td>NaN</td>\n",
       "    </tr>\n",
       "    <tr>\n",
       "      <th>mbe</th>\n",
       "      <td>-0.04</td>\n",
       "      <td>0.09</td>\n",
       "      <td>0.10</td>\n",
       "      <td>0.07</td>\n",
       "      <td>NaN</td>\n",
       "    </tr>\n",
       "    <tr>\n",
       "      <th>avg</th>\n",
       "      <td>0.23</td>\n",
       "      <td>0.35</td>\n",
       "      <td>0.36</td>\n",
       "      <td>0.34</td>\n",
       "      <td>0.26</td>\n",
       "    </tr>\n",
       "  </tbody>\n",
       "</table>\n",
       "</div>"
      ],
      "text/plain": [
       "      ERA5  ERA5_GWA  MERRA2  MERRA2_GWA   obs\n",
       "cor   0.78      0.48    0.78        0.24   NaN\n",
       "rmse  0.07      0.12    0.11        0.12   NaN\n",
       "mbe  -0.04      0.09    0.10        0.07   NaN\n",
       "avg   0.23      0.35    0.36        0.34  0.26"
      ]
     },
     "execution_count": 789,
     "metadata": {},
     "output_type": "execute_result"
    }
   ],
   "source": [
    "CF_USAm = comp_USAm.div(cap_usam.cap.values*24*30/10**6,axis=0)\n",
    "stats_USAm_cf = pd.DataFrame({'ERA5':stats(CF_USAm.ERA5,CF_USAm.wp_obs),\n",
    "                              'ERA5_GWA':stats(CF_USAm.ERA5_GWA,CF_USAm.wp_obs),\n",
    "                              'MERRA2':stats(CF_USAm.MERRA2,CF_USAm.wp_obs),\n",
    "                              'MERRA2_GWA':stats(CF_USAm.MERRA2_GWA,CF_USAm.wp_obs),\n",
    "                              'obs':[np.nan,np.nan,np.nan,round(CF_USAm.wp_obs.mean(),2)]},\n",
    "                             index = ['cor','rmse','mbe','avg'])\n",
    "stats_USAm_cf"
   ]
  },
  {
   "cell_type": "code",
   "execution_count": 790,
   "metadata": {},
   "outputs": [],
   "source": [
    "# save statistical results\n",
    "stats_USAm_cf.to_csv(usa_path+'/results_stat/stats_USAm_cf.csv',sep=';')"
   ]
  },
  {
   "cell_type": "code",
   "execution_count": 791,
   "metadata": {},
   "outputs": [
    {
     "data": {
      "image/png": "[encoded data removed]",
      "text/plain": [
       "<Figure size 864x576 with 1 Axes>"
      ]
     },
     "metadata": {},
     "output_type": "display_data"
    }
   ],
   "source": [
    "# plot data\n",
    "plot_USAm_cf = CF_USAm.melt(var_name='type',value_name='monthly_CF')\n",
    "sns.set(style='darkgrid',context='talk')\n",
    "plt.figure(figsize=(12,8))\n",
    "ax = sns.boxplot(x='type',y='monthly_CF',data=plot_USAm_cf,palette=col_rf,linewidth=3)\n",
    "fig = ax.get_figure()\n",
    "fig.savefig(usa_path+'/results_stat/plots/CF/USAm_cf.png')"
   ]
  },
  {
   "cell_type": "markdown",
   "metadata": {},
   "source": [
    "### Iowa"
   ]
  },
  {
   "cell_type": "code",
   "execution_count": 669,
   "metadata": {},
   "outputs": [
    {
     "data": {
      "text/html": [
       "<div>\n",
       "<style scoped>\n",
       "    .dataframe tbody tr th:only-of-type {\n",
       "        vertical-align: middle;\n",
       "    }\n",
       "\n",
       "    .dataframe tbody tr th {\n",
       "        vertical-align: top;\n",
       "    }\n",
       "\n",
       "    .dataframe thead th {\n",
       "        text-align: right;\n",
       "    }\n",
       "</style>\n",
       "<table border=\"1\" class=\"dataframe\">\n",
       "  <thead>\n",
       "    <tr style=\"text-align: right;\">\n",
       "      <th></th>\n",
       "      <th>ERA5</th>\n",
       "      <th>ERA5_GWA</th>\n",
       "      <th>MERRA2</th>\n",
       "      <th>MERRA2_GWA</th>\n",
       "      <th>obs</th>\n",
       "    </tr>\n",
       "  </thead>\n",
       "  <tbody>\n",
       "    <tr>\n",
       "      <th>cor</th>\n",
       "      <td>0.49</td>\n",
       "      <td>0.48</td>\n",
       "      <td>0.54</td>\n",
       "      <td>0.52</td>\n",
       "      <td>NaN</td>\n",
       "    </tr>\n",
       "    <tr>\n",
       "      <th>rmse</th>\n",
       "      <td>0.11</td>\n",
       "      <td>0.12</td>\n",
       "      <td>0.18</td>\n",
       "      <td>0.09</td>\n",
       "      <td>NaN</td>\n",
       "    </tr>\n",
       "    <tr>\n",
       "      <th>mbe</th>\n",
       "      <td>-0.00</td>\n",
       "      <td>0.04</td>\n",
       "      <td>0.15</td>\n",
       "      <td>0.00</td>\n",
       "      <td>NaN</td>\n",
       "    </tr>\n",
       "    <tr>\n",
       "      <th>avg</th>\n",
       "      <td>0.30</td>\n",
       "      <td>0.35</td>\n",
       "      <td>0.45</td>\n",
       "      <td>0.30</td>\n",
       "      <td>0.3</td>\n",
       "    </tr>\n",
       "  </tbody>\n",
       "</table>\n",
       "</div>"
      ],
      "text/plain": [
       "      ERA5  ERA5_GWA  MERRA2  MERRA2_GWA  obs\n",
       "cor   0.49      0.48    0.54        0.52  NaN\n",
       "rmse  0.11      0.12    0.18        0.09  NaN\n",
       "mbe  -0.00      0.04    0.15        0.00  NaN\n",
       "avg   0.30      0.35    0.45        0.30  0.3"
      ]
     },
     "execution_count": 669,
     "metadata": {},
     "output_type": "execute_result"
    }
   ],
   "source": [
    "CF_IAm = comp_IAm.div(cap_IAm.cap.values*24*30/10**6,axis=0)\n",
    "stats_IAm_cf = pd.DataFrame({'ERA5':stats(CF_IAm.ERA5,CF_IAm.wp_obs),\n",
    "                             'ERA5_GWA':stats(CF_IAm.ERA5_GWA,CF_IAm.wp_obs),\n",
    "                             'MERRA2':stats(CF_IAm.MERRA2,CF_IAm.wp_obs),\n",
    "                             'MERRA2_GWA':stats(CF_IAm.MERRA2_GWA,CF_IAm.wp_obs),\n",
    "                             'obs':[np.nan,np.nan,np.nan,round(CF_IAm.wp_obs.mean(),2)]},\n",
    "                            index = ['cor','rmse','mbe','avg'])\n",
    "stats_IAm_cf"
   ]
  },
  {
   "cell_type": "code",
   "execution_count": 671,
   "metadata": {},
   "outputs": [],
   "source": [
    "# save statistical results\n",
    "stats_IAm_cf.to_csv(usa_path+'/results_stat/stats_IAm_cf.csv',sep=';')"
   ]
  },
  {
   "cell_type": "code",
   "execution_count": 672,
   "metadata": {},
   "outputs": [
    {
     "data": {
      "image/png": "[encoded data removed]",
      "text/plain": [
       "<Figure size 864x576 with 1 Axes>"
      ]
     },
     "metadata": {},
     "output_type": "display_data"
    }
   ],
   "source": [
    "# plot data\n",
    "plot_IAm_cf = CF_IAm.melt(var_name='type',value_name='monthly_CF')\n",
    "sns.set(style='darkgrid',context='talk')\n",
    "plt.figure(figsize=(12,8))\n",
    "ax = sns.boxplot(x='type',y='monthly_CF',data=plot_IAm_cf,palette=col_rf,linewidth=3)\n",
    "fig = ax.get_figure()\n",
    "fig.savefig(usa_path+'/results_stat/plots/CF/IAm_cf.png')"
   ]
  },
  {
   "cell_type": "markdown",
   "metadata": {},
   "source": [
    "### Texas"
   ]
  },
  {
   "cell_type": "markdown",
   "metadata": {},
   "source": [
    "#### monthly"
   ]
  },
  {
   "cell_type": "code",
   "execution_count": 673,
   "metadata": {},
   "outputs": [
    {
     "data": {
      "text/html": [
       "<div>\n",
       "<style scoped>\n",
       "    .dataframe tbody tr th:only-of-type {\n",
       "        vertical-align: middle;\n",
       "    }\n",
       "\n",
       "    .dataframe tbody tr th {\n",
       "        vertical-align: top;\n",
       "    }\n",
       "\n",
       "    .dataframe thead th {\n",
       "        text-align: right;\n",
       "    }\n",
       "</style>\n",
       "<table border=\"1\" class=\"dataframe\">\n",
       "  <thead>\n",
       "    <tr style=\"text-align: right;\">\n",
       "      <th></th>\n",
       "      <th>ERA5</th>\n",
       "      <th>ERA5_GWA</th>\n",
       "      <th>MERRA2</th>\n",
       "      <th>MERRA2_GWA</th>\n",
       "      <th>obs</th>\n",
       "    </tr>\n",
       "  </thead>\n",
       "  <tbody>\n",
       "    <tr>\n",
       "      <th>cor</th>\n",
       "      <td>0.19</td>\n",
       "      <td>0.17</td>\n",
       "      <td>0.16</td>\n",
       "      <td>0.16</td>\n",
       "      <td>NaN</td>\n",
       "    </tr>\n",
       "    <tr>\n",
       "      <th>rmse</th>\n",
       "      <td>0.21</td>\n",
       "      <td>0.21</td>\n",
       "      <td>0.21</td>\n",
       "      <td>0.20</td>\n",
       "      <td>NaN</td>\n",
       "    </tr>\n",
       "    <tr>\n",
       "      <th>mbe</th>\n",
       "      <td>-0.04</td>\n",
       "      <td>-0.03</td>\n",
       "      <td>0.08</td>\n",
       "      <td>-0.06</td>\n",
       "      <td>NaN</td>\n",
       "    </tr>\n",
       "    <tr>\n",
       "      <th>avg</th>\n",
       "      <td>0.31</td>\n",
       "      <td>0.33</td>\n",
       "      <td>0.44</td>\n",
       "      <td>0.30</td>\n",
       "      <td>0.36</td>\n",
       "    </tr>\n",
       "  </tbody>\n",
       "</table>\n",
       "</div>"
      ],
      "text/plain": [
       "      ERA5  ERA5_GWA  MERRA2  MERRA2_GWA   obs\n",
       "cor   0.19      0.17    0.16        0.16   NaN\n",
       "rmse  0.21      0.21    0.21        0.20   NaN\n",
       "mbe  -0.04     -0.03    0.08       -0.06   NaN\n",
       "avg   0.31      0.33    0.44        0.30  0.36"
      ]
     },
     "execution_count": 673,
     "metadata": {},
     "output_type": "execute_result"
    }
   ],
   "source": [
    "CF_TXm = comp_TXm.div(cap_TXm.cap.values*24*30/10**6,axis=0)\n",
    "stats_TXm_cf = pd.DataFrame({'ERA5':stats(CF_TXm.ERA5,CF_TXm.wp_obs),\n",
    "                             'ERA5_GWA':stats(CF_TXm.ERA5_GWA,CF_TXm.wp_obs),\n",
    "                             'MERRA2':stats(CF_TXm.MERRA2,CF_TXm.wp_obs),\n",
    "                             'MERRA2_GWA':stats(CF_TXm.MERRA2_GWA,CF_TXm.wp_obs),\n",
    "                             'obs':[np.nan,np.nan,np.nan,round(CF_TXm.wp_obs.mean(),2)]},\n",
    "                            index = ['cor','rmse','mbe','avg'])\n",
    "stats_TXm_cf"
   ]
  },
  {
   "cell_type": "code",
   "execution_count": 674,
   "metadata": {},
   "outputs": [],
   "source": [
    "# save statistical results\n",
    "stats_TXm_cf.to_csv(usa_path+'/results_stat/stats_TXm_cf.csv',sep=';')"
   ]
  },
  {
   "cell_type": "code",
   "execution_count": 678,
   "metadata": {},
   "outputs": [
    {
     "data": {
      "image/png": "[encoded data removed]",
      "text/plain": [
       "<Figure size 864x576 with 1 Axes>"
      ]
     },
     "metadata": {},
     "output_type": "display_data"
    }
   ],
   "source": [
    "# plot data\n",
    "plot_TXm_cf = CF_TXm.melt(var_name='type',value_name='monthly_CF')\n",
    "sns.set(style='darkgrid',context='talk')\n",
    "plt.figure(figsize=(12,8))\n",
    "ax = sns.boxplot(x='type',y='monthly_CF',data=plot_TXm_cf,palette=col_rf,linewidth=3)\n",
    "\n",
    "plt.ylim(0,0.8)\n",
    "\n",
    "fig = ax.get_figure()\n",
    "fig.savefig(usa_path+'/results_stat/plots/CF/TXm_cf.png')"
   ]
  },
  {
   "cell_type": "markdown",
   "metadata": {},
   "source": [
    "#### daily"
   ]
  },
  {
   "cell_type": "code",
   "execution_count": 679,
   "metadata": {},
   "outputs": [
    {
     "data": {
      "text/html": [
       "<div>\n",
       "<style scoped>\n",
       "    .dataframe tbody tr th:only-of-type {\n",
       "        vertical-align: middle;\n",
       "    }\n",
       "\n",
       "    .dataframe tbody tr th {\n",
       "        vertical-align: top;\n",
       "    }\n",
       "\n",
       "    .dataframe thead th {\n",
       "        text-align: right;\n",
       "    }\n",
       "</style>\n",
       "<table border=\"1\" class=\"dataframe\">\n",
       "  <thead>\n",
       "    <tr style=\"text-align: right;\">\n",
       "      <th></th>\n",
       "      <th>ERA5</th>\n",
       "      <th>ERA5_GWA</th>\n",
       "      <th>MERRA2</th>\n",
       "      <th>MERRA2_GWA</th>\n",
       "      <th>obs</th>\n",
       "    </tr>\n",
       "  </thead>\n",
       "  <tbody>\n",
       "    <tr>\n",
       "      <th>cor</th>\n",
       "      <td>0.97</td>\n",
       "      <td>0.97</td>\n",
       "      <td>0.96</td>\n",
       "      <td>0.93</td>\n",
       "      <td>NaN</td>\n",
       "    </tr>\n",
       "    <tr>\n",
       "      <th>rmse</th>\n",
       "      <td>0.07</td>\n",
       "      <td>0.07</td>\n",
       "      <td>0.14</td>\n",
       "      <td>0.07</td>\n",
       "      <td>NaN</td>\n",
       "    </tr>\n",
       "    <tr>\n",
       "      <th>mbe</th>\n",
       "      <td>0.03</td>\n",
       "      <td>0.03</td>\n",
       "      <td>0.13</td>\n",
       "      <td>-0.03</td>\n",
       "      <td>NaN</td>\n",
       "    </tr>\n",
       "    <tr>\n",
       "      <th>avg</th>\n",
       "      <td>0.35</td>\n",
       "      <td>0.36</td>\n",
       "      <td>0.45</td>\n",
       "      <td>0.29</td>\n",
       "      <td>0.33</td>\n",
       "    </tr>\n",
       "  </tbody>\n",
       "</table>\n",
       "</div>"
      ],
      "text/plain": [
       "      ERA5  ERA5_GWA  MERRA2  MERRA2_GWA   obs\n",
       "cor   0.97      0.97    0.96        0.93   NaN\n",
       "rmse  0.07      0.07    0.14        0.07   NaN\n",
       "mbe   0.03      0.03    0.13       -0.03   NaN\n",
       "avg   0.35      0.36    0.45        0.29  0.33"
      ]
     },
     "execution_count": 679,
     "metadata": {},
     "output_type": "execute_result"
    }
   ],
   "source": [
    "CF_TXd = comp_TXd.div(cap_TXd.cap.values*24/10**6,axis=0)\n",
    "stats_TXd_cf = pd.DataFrame({'ERA5':stats(CF_TXd.ERA5,CF_TXd.wp_obs),\n",
    "                             'ERA5_GWA':stats(CF_TXd.ERA5_GWA,CF_TXd.wp_obs),\n",
    "                             'MERRA2':stats(CF_TXd.MERRA2,CF_TXd.wp_obs),\n",
    "                             'MERRA2_GWA':stats(CF_TXd.MERRA2_GWA,CF_TXd.wp_obs),\n",
    "                             'obs':[np.nan,np.nan,np.nan,round(CF_TXd.wp_obs.mean(),2)]},\n",
    "                            index = ['cor','rmse','mbe','avg'])\n",
    "stats_TXd_cf"
   ]
  },
  {
   "cell_type": "code",
   "execution_count": 680,
   "metadata": {},
   "outputs": [],
   "source": [
    "# save statistical results\n",
    "stats_TXd_cf.to_csv(usa_path+'/results_stat/stats_TXd_cf.csv',sep=';')"
   ]
  },
  {
   "cell_type": "code",
   "execution_count": 681,
   "metadata": {},
   "outputs": [
    {
     "data": {
      "image/png": "[encoded data removed]",
      "text/plain": [
       "<Figure size 864x576 with 1 Axes>"
      ]
     },
     "metadata": {},
     "output_type": "display_data"
    }
   ],
   "source": [
    "# plot data\n",
    "plot_TXd_cf = CF_TXd.melt(var_name='type',value_name='daily_CF')\n",
    "sns.set(style='darkgrid',context='talk')\n",
    "plt.figure(figsize=(12,8))\n",
    "ax = sns.boxplot(x='type',y='daily_CF',data=plot_TXd_cf,palette=col_rf,linewidth=3)\n",
    "fig = ax.get_figure()\n",
    "fig.savefig(usa_path+'/results_stat/plots/CF/TXd_cf.png')"
   ]
  },
  {
   "cell_type": "markdown",
   "metadata": {},
   "source": [
    "#### hourly"
   ]
  },
  {
   "cell_type": "code",
   "execution_count": 682,
   "metadata": {},
   "outputs": [
    {
     "data": {
      "text/html": [
       "<div>\n",
       "<style scoped>\n",
       "    .dataframe tbody tr th:only-of-type {\n",
       "        vertical-align: middle;\n",
       "    }\n",
       "\n",
       "    .dataframe tbody tr th {\n",
       "        vertical-align: top;\n",
       "    }\n",
       "\n",
       "    .dataframe thead th {\n",
       "        text-align: right;\n",
       "    }\n",
       "</style>\n",
       "<table border=\"1\" class=\"dataframe\">\n",
       "  <thead>\n",
       "    <tr style=\"text-align: right;\">\n",
       "      <th></th>\n",
       "      <th>ERA5</th>\n",
       "      <th>ERA5_GWA</th>\n",
       "      <th>MERRA2</th>\n",
       "      <th>MERRA2_GWA</th>\n",
       "      <th>obs</th>\n",
       "    </tr>\n",
       "  </thead>\n",
       "  <tbody>\n",
       "    <tr>\n",
       "      <th>cor</th>\n",
       "      <td>0.95</td>\n",
       "      <td>0.95</td>\n",
       "      <td>0.91</td>\n",
       "      <td>0.89</td>\n",
       "      <td>NaN</td>\n",
       "    </tr>\n",
       "    <tr>\n",
       "      <th>rmse</th>\n",
       "      <td>0.09</td>\n",
       "      <td>0.09</td>\n",
       "      <td>0.18</td>\n",
       "      <td>0.10</td>\n",
       "      <td>NaN</td>\n",
       "    </tr>\n",
       "    <tr>\n",
       "      <th>mbe</th>\n",
       "      <td>0.03</td>\n",
       "      <td>0.03</td>\n",
       "      <td>0.13</td>\n",
       "      <td>-0.03</td>\n",
       "      <td>NaN</td>\n",
       "    </tr>\n",
       "    <tr>\n",
       "      <th>avg</th>\n",
       "      <td>0.35</td>\n",
       "      <td>0.36</td>\n",
       "      <td>0.45</td>\n",
       "      <td>0.29</td>\n",
       "      <td>0.32</td>\n",
       "    </tr>\n",
       "  </tbody>\n",
       "</table>\n",
       "</div>"
      ],
      "text/plain": [
       "      ERA5  ERA5_GWA  MERRA2  MERRA2_GWA   obs\n",
       "cor   0.95      0.95    0.91        0.89   NaN\n",
       "rmse  0.09      0.09    0.18        0.10   NaN\n",
       "mbe   0.03      0.03    0.13       -0.03   NaN\n",
       "avg   0.35      0.36    0.45        0.29  0.32"
      ]
     },
     "execution_count": 682,
     "metadata": {},
     "output_type": "execute_result"
    }
   ],
   "source": [
    "CF_TXh = comp_TXh.div(cap_TXh.cap.values/10**6,axis=0)\n",
    "stats_TXh_cf = pd.DataFrame({'ERA5':stats(CF_TXh.ERA5,CF_TXh.wp_obs),\n",
    "                             'ERA5_GWA':stats(CF_TXh.ERA5_GWA,CF_TXh.wp_obs),\n",
    "                             'MERRA2':stats(CF_TXh.MERRA2,CF_TXh.wp_obs),\n",
    "                             'MERRA2_GWA':stats(CF_TXh.MERRA2_GWA,CF_TXh.wp_obs),\n",
    "                             'obs':[np.nan,np.nan,np.nan,round(CF_TXh.wp_obs.mean(),2)]},\n",
    "                            index = ['cor','rmse','mbe','avg'])\n",
    "stats_TXh_cf"
   ]
  },
  {
   "cell_type": "code",
   "execution_count": 683,
   "metadata": {},
   "outputs": [],
   "source": [
    "# save statistical results\n",
    "stats_TXh_cf.to_csv(usa_path+'/results_stat/stats_TXh_cf.csv',sep=';')"
   ]
  },
  {
   "cell_type": "code",
   "execution_count": 684,
   "metadata": {},
   "outputs": [
    {
     "data": {
      "image/png": "[encoded data removed]",
      "text/plain": [
       "<Figure size 864x576 with 1 Axes>"
      ]
     },
     "metadata": {},
     "output_type": "display_data"
    }
   ],
   "source": [
    "# plot data\n",
    "plot_TXh_cf = CF_TXh.melt(var_name='type',value_name='hourly_CF')\n",
    "sns.set(style='darkgrid',context='talk')\n",
    "plt.figure(figsize=(12,8))\n",
    "ax = sns.boxplot(x='type',y='hourly_CF',data=plot_TXh_cf,palette=col_rf,linewidth=3)\n",
    "fig = ax.get_figure()\n",
    "fig.savefig(usa_path+'/results_stat/plots/CF/TXh_cf.png')"
   ]
  },
  {
   "cell_type": "markdown",
   "metadata": {},
   "source": [
    "### BPA"
   ]
  },
  {
   "cell_type": "markdown",
   "metadata": {},
   "source": [
    "#### monthly"
   ]
  },
  {
   "cell_type": "code",
   "execution_count": 741,
   "metadata": {},
   "outputs": [
    {
     "data": {
      "text/html": [
       "<div>\n",
       "<style scoped>\n",
       "    .dataframe tbody tr th:only-of-type {\n",
       "        vertical-align: middle;\n",
       "    }\n",
       "\n",
       "    .dataframe tbody tr th {\n",
       "        vertical-align: top;\n",
       "    }\n",
       "\n",
       "    .dataframe thead th {\n",
       "        text-align: right;\n",
       "    }\n",
       "</style>\n",
       "<table border=\"1\" class=\"dataframe\">\n",
       "  <thead>\n",
       "    <tr style=\"text-align: right;\">\n",
       "      <th></th>\n",
       "      <th>ERA5</th>\n",
       "      <th>ERA5_GWA</th>\n",
       "      <th>MERRA2</th>\n",
       "      <th>MERRA2_GWA</th>\n",
       "      <th>obs</th>\n",
       "    </tr>\n",
       "  </thead>\n",
       "  <tbody>\n",
       "    <tr>\n",
       "      <th>cor</th>\n",
       "      <td>0.76</td>\n",
       "      <td>0.85</td>\n",
       "      <td>0.18</td>\n",
       "      <td>0.17</td>\n",
       "      <td>NaN</td>\n",
       "    </tr>\n",
       "    <tr>\n",
       "      <th>rmse</th>\n",
       "      <td>0.10</td>\n",
       "      <td>0.04</td>\n",
       "      <td>0.11</td>\n",
       "      <td>0.09</td>\n",
       "      <td>NaN</td>\n",
       "    </tr>\n",
       "    <tr>\n",
       "      <th>mbe</th>\n",
       "      <td>-0.09</td>\n",
       "      <td>0.01</td>\n",
       "      <td>0.05</td>\n",
       "      <td>-0.01</td>\n",
       "      <td>NaN</td>\n",
       "    </tr>\n",
       "    <tr>\n",
       "      <th>avg</th>\n",
       "      <td>0.16</td>\n",
       "      <td>0.26</td>\n",
       "      <td>0.29</td>\n",
       "      <td>0.24</td>\n",
       "      <td>0.25</td>\n",
       "    </tr>\n",
       "  </tbody>\n",
       "</table>\n",
       "</div>"
      ],
      "text/plain": [
       "      ERA5  ERA5_GWA  MERRA2  MERRA2_GWA   obs\n",
       "cor   0.76      0.85    0.18        0.17   NaN\n",
       "rmse  0.10      0.04    0.11        0.09   NaN\n",
       "mbe  -0.09      0.01    0.05       -0.01   NaN\n",
       "avg   0.16      0.26    0.29        0.24  0.25"
      ]
     },
     "execution_count": 741,
     "metadata": {},
     "output_type": "execute_result"
    }
   ],
   "source": [
    "CF_BPAm = comp_BPAm.div(cap_BPAm.cap.values*24*30/10**6,axis=0)\n",
    "stats_BPAm_cf = pd.DataFrame({'ERA5':stats(CF_BPAm.ERA5,CF_BPAm.wp_obs),\n",
    "                              'ERA5_GWA':stats(CF_BPAm.ERA5_GWA,CF_BPAm.wp_obs),\n",
    "                              'MERRA2':stats(CF_BPAm.MERRA2,CF_BPAm.wp_obs),\n",
    "                              'MERRA2_GWA':stats(CF_BPAm.MERRA2_GWA,CF_BPAm.wp_obs),\n",
    "                              'obs':[np.nan,np.nan,np.nan,round(CF_BPAm.wp_obs.mean(),2)]},\n",
    "                             index = ['cor','rmse','mbe','avg'])\n",
    "stats_BPAm_cf"
   ]
  },
  {
   "cell_type": "code",
   "execution_count": 742,
   "metadata": {},
   "outputs": [],
   "source": [
    "# save statistical results\n",
    "stats_BPAm_cf.to_csv(usa_path+'/results_stat/stats_BPAm_cf.csv',sep=';')"
   ]
  },
  {
   "cell_type": "code",
   "execution_count": 743,
   "metadata": {},
   "outputs": [
    {
     "data": {
      "image/png": "[encoded data removed]",
      "text/plain": [
       "<Figure size 864x576 with 1 Axes>"
      ]
     },
     "metadata": {},
     "output_type": "display_data"
    }
   ],
   "source": [
    "# plot data\n",
    "plot_BPAm_cf = CF_BPAm.melt(var_name='type',value_name='monthly_CF')\n",
    "sns.set(style='darkgrid',context='talk')\n",
    "plt.figure(figsize=(12,8))\n",
    "ax = sns.boxplot(x='type',y='monthly_CF',data=plot_BPAm_cf,palette=col_rf,linewidth=3)\n",
    "fig = ax.get_figure()\n",
    "fig.savefig(usa_path+'/results_stat/plots/CF/BPAm_cf.png')"
   ]
  },
  {
   "cell_type": "markdown",
   "metadata": {},
   "source": [
    "#### daily"
   ]
  },
  {
   "cell_type": "code",
   "execution_count": 744,
   "metadata": {},
   "outputs": [
    {
     "data": {
      "text/html": [
       "<div>\n",
       "<style scoped>\n",
       "    .dataframe tbody tr th:only-of-type {\n",
       "        vertical-align: middle;\n",
       "    }\n",
       "\n",
       "    .dataframe tbody tr th {\n",
       "        vertical-align: top;\n",
       "    }\n",
       "\n",
       "    .dataframe thead th {\n",
       "        text-align: right;\n",
       "    }\n",
       "</style>\n",
       "<table border=\"1\" class=\"dataframe\">\n",
       "  <thead>\n",
       "    <tr style=\"text-align: right;\">\n",
       "      <th></th>\n",
       "      <th>ERA5</th>\n",
       "      <th>ERA5_GWA</th>\n",
       "      <th>MERRA2</th>\n",
       "      <th>MERRA2_GWA</th>\n",
       "      <th>obs</th>\n",
       "    </tr>\n",
       "  </thead>\n",
       "  <tbody>\n",
       "    <tr>\n",
       "      <th>cor</th>\n",
       "      <td>0.89</td>\n",
       "      <td>0.93</td>\n",
       "      <td>0.72</td>\n",
       "      <td>0.70</td>\n",
       "      <td>NaN</td>\n",
       "    </tr>\n",
       "    <tr>\n",
       "      <th>rmse</th>\n",
       "      <td>0.13</td>\n",
       "      <td>0.09</td>\n",
       "      <td>0.16</td>\n",
       "      <td>0.15</td>\n",
       "      <td>NaN</td>\n",
       "    </tr>\n",
       "    <tr>\n",
       "      <th>mbe</th>\n",
       "      <td>-0.09</td>\n",
       "      <td>0.01</td>\n",
       "      <td>0.05</td>\n",
       "      <td>-0.01</td>\n",
       "      <td>NaN</td>\n",
       "    </tr>\n",
       "    <tr>\n",
       "      <th>avg</th>\n",
       "      <td>0.15</td>\n",
       "      <td>0.25</td>\n",
       "      <td>0.29</td>\n",
       "      <td>0.23</td>\n",
       "      <td>0.24</td>\n",
       "    </tr>\n",
       "  </tbody>\n",
       "</table>\n",
       "</div>"
      ],
      "text/plain": [
       "      ERA5  ERA5_GWA  MERRA2  MERRA2_GWA   obs\n",
       "cor   0.89      0.93    0.72        0.70   NaN\n",
       "rmse  0.13      0.09    0.16        0.15   NaN\n",
       "mbe  -0.09      0.01    0.05       -0.01   NaN\n",
       "avg   0.15      0.25    0.29        0.23  0.24"
      ]
     },
     "execution_count": 744,
     "metadata": {},
     "output_type": "execute_result"
    }
   ],
   "source": [
    "CF_BPAd = comp_BPAd.div(cap_BPAd.cap.values*24/10**6,axis=0)\n",
    "stats_BPAd_cf = pd.DataFrame({'ERA5':stats(CF_BPAd.ERA5,CF_BPAd.wp_obs),\n",
    "                             'ERA5_GWA':stats(CF_BPAd.ERA5_GWA,CF_BPAd.wp_obs),\n",
    "                             'MERRA2':stats(CF_BPAd.MERRA2,CF_BPAd.wp_obs),\n",
    "                             'MERRA2_GWA':stats(CF_BPAd.MERRA2_GWA,CF_BPAd.wp_obs),\n",
    "                             'obs':[np.nan,np.nan,np.nan,round(CF_BPAd.wp_obs.mean(),2)]},\n",
    "                            index = ['cor','rmse','mbe','avg'])\n",
    "stats_BPAd_cf"
   ]
  },
  {
   "cell_type": "code",
   "execution_count": 745,
   "metadata": {},
   "outputs": [],
   "source": [
    "# save statistical results\n",
    "stats_BPAd_cf.to_csv(usa_path+'/results_stat/stats_BPAd_cf.csv',sep=';')"
   ]
  },
  {
   "cell_type": "code",
   "execution_count": 746,
   "metadata": {},
   "outputs": [
    {
     "data": {
      "image/png": "[encoded data removed]",
      "text/plain": [
       "<Figure size 864x576 with 1 Axes>"
      ]
     },
     "metadata": {},
     "output_type": "display_data"
    }
   ],
   "source": [
    "# plot data\n",
    "plot_BPAd_cf = CF_BPAd.melt(var_name='type',value_name='daily_CF')\n",
    "sns.set(style='darkgrid',context='talk')\n",
    "plt.figure(figsize=(12,8))\n",
    "ax = sns.boxplot(x='type',y='daily_CF',data=plot_BPAd_cf,palette=col_rf,linewidth=3)\n",
    "fig = ax.get_figure()\n",
    "fig.savefig(usa_path+'/results_stat/plots/CF/BPAd_cf.png')"
   ]
  },
  {
   "cell_type": "markdown",
   "metadata": {},
   "source": [
    "#### hourly"
   ]
  },
  {
   "cell_type": "code",
   "execution_count": 751,
   "metadata": {},
   "outputs": [
    {
     "data": {
      "text/html": [
       "<div>\n",
       "<style scoped>\n",
       "    .dataframe tbody tr th:only-of-type {\n",
       "        vertical-align: middle;\n",
       "    }\n",
       "\n",
       "    .dataframe tbody tr th {\n",
       "        vertical-align: top;\n",
       "    }\n",
       "\n",
       "    .dataframe thead th {\n",
       "        text-align: right;\n",
       "    }\n",
       "</style>\n",
       "<table border=\"1\" class=\"dataframe\">\n",
       "  <thead>\n",
       "    <tr style=\"text-align: right;\">\n",
       "      <th></th>\n",
       "      <th>ERA5</th>\n",
       "      <th>ERA5_GWA</th>\n",
       "      <th>MERRA2</th>\n",
       "      <th>MERRA2_GWA</th>\n",
       "      <th>obs</th>\n",
       "    </tr>\n",
       "  </thead>\n",
       "  <tbody>\n",
       "    <tr>\n",
       "      <th>cor</th>\n",
       "      <td>0.85</td>\n",
       "      <td>0.91</td>\n",
       "      <td>0.70</td>\n",
       "      <td>0.68</td>\n",
       "      <td>NaN</td>\n",
       "    </tr>\n",
       "    <tr>\n",
       "      <th>rmse</th>\n",
       "      <td>0.16</td>\n",
       "      <td>0.12</td>\n",
       "      <td>0.21</td>\n",
       "      <td>0.19</td>\n",
       "      <td>NaN</td>\n",
       "    </tr>\n",
       "    <tr>\n",
       "      <th>mbe</th>\n",
       "      <td>-0.09</td>\n",
       "      <td>0.01</td>\n",
       "      <td>0.05</td>\n",
       "      <td>-0.01</td>\n",
       "      <td>NaN</td>\n",
       "    </tr>\n",
       "    <tr>\n",
       "      <th>avg</th>\n",
       "      <td>0.15</td>\n",
       "      <td>0.25</td>\n",
       "      <td>0.29</td>\n",
       "      <td>0.23</td>\n",
       "      <td>0.24</td>\n",
       "    </tr>\n",
       "  </tbody>\n",
       "</table>\n",
       "</div>"
      ],
      "text/plain": [
       "      ERA5  ERA5_GWA  MERRA2  MERRA2_GWA   obs\n",
       "cor   0.85      0.91    0.70        0.68   NaN\n",
       "rmse  0.16      0.12    0.21        0.19   NaN\n",
       "mbe  -0.09      0.01    0.05       -0.01   NaN\n",
       "avg   0.15      0.25    0.29        0.23  0.24"
      ]
     },
     "execution_count": 751,
     "metadata": {},
     "output_type": "execute_result"
    }
   ],
   "source": [
    "CF_BPAh = comp_BPAh.div(cap_BPAh.cap.values/10**6,axis=0)\n",
    "stats_BPAh_cf = pd.DataFrame({'ERA5':stats(CF_BPAh.ERA5,CF_BPAh.wp_obs),\n",
    "                             'ERA5_GWA':stats(CF_BPAh.ERA5_GWA,CF_BPAh.wp_obs),\n",
    "                             'MERRA2':stats(CF_BPAh.MERRA2,CF_BPAh.wp_obs),\n",
    "                             'MERRA2_GWA':stats(CF_BPAh.MERRA2_GWA,CF_BPAh.wp_obs),\n",
    "                             'obs':[np.nan,np.nan,np.nan,round(CF_BPAh.wp_obs.mean(),2)]},\n",
    "                            index = ['cor','rmse','mbe','avg'])\n",
    "stats_BPAh_cf"
   ]
  },
  {
   "cell_type": "code",
   "execution_count": 752,
   "metadata": {},
   "outputs": [],
   "source": [
    "# save statistical results\n",
    "stats_BPAh_cf.to_csv(usa_path+'/results_stat/stats_BPAh_cf.csv',sep=';')"
   ]
  },
  {
   "cell_type": "code",
   "execution_count": 753,
   "metadata": {},
   "outputs": [
    {
     "data": {
      "image/png": "[encoded data removed]",
      "text/plain": [
       "<Figure size 864x576 with 1 Axes>"
      ]
     },
     "metadata": {},
     "output_type": "display_data"
    }
   ],
   "source": [
    "# plot data\n",
    "plot_BPAh_cf = CF_BPAh.melt(var_name='type',value_name='hourly_CF')\n",
    "sns.set(style='darkgrid',context='talk')\n",
    "plt.figure(figsize=(12,8))\n",
    "ax = sns.boxplot(x='type',y='hourly_CF',data=plot_BPAh_cf,palette=col_rf,linewidth=3)\n",
    "fig = ax.get_figure()\n",
    "fig.savefig(usa_path+'/results_stat/plots/CF/BPAh_cf.png')"
   ]
  },
  {
   "cell_type": "markdown",
   "metadata": {},
   "source": [
    "### New England"
   ]
  },
  {
   "cell_type": "code",
   "execution_count": 694,
   "metadata": {},
   "outputs": [
    {
     "data": {
      "text/html": [
       "<div>\n",
       "<style scoped>\n",
       "    .dataframe tbody tr th:only-of-type {\n",
       "        vertical-align: middle;\n",
       "    }\n",
       "\n",
       "    .dataframe tbody tr th {\n",
       "        vertical-align: top;\n",
       "    }\n",
       "\n",
       "    .dataframe thead th {\n",
       "        text-align: right;\n",
       "    }\n",
       "</style>\n",
       "<table border=\"1\" class=\"dataframe\">\n",
       "  <thead>\n",
       "    <tr style=\"text-align: right;\">\n",
       "      <th></th>\n",
       "      <th>ERA5</th>\n",
       "      <th>ERA5_GWA</th>\n",
       "      <th>MERRA2</th>\n",
       "      <th>MERRA2_GWA</th>\n",
       "      <th>obs</th>\n",
       "    </tr>\n",
       "  </thead>\n",
       "  <tbody>\n",
       "    <tr>\n",
       "      <th>cor</th>\n",
       "      <td>0.52</td>\n",
       "      <td>0.62</td>\n",
       "      <td>0.53</td>\n",
       "      <td>0.72</td>\n",
       "      <td>NaN</td>\n",
       "    </tr>\n",
       "    <tr>\n",
       "      <th>rmse</th>\n",
       "      <td>0.10</td>\n",
       "      <td>0.21</td>\n",
       "      <td>0.10</td>\n",
       "      <td>0.24</td>\n",
       "      <td>NaN</td>\n",
       "    </tr>\n",
       "    <tr>\n",
       "      <th>mbe</th>\n",
       "      <td>-0.00</td>\n",
       "      <td>0.18</td>\n",
       "      <td>0.02</td>\n",
       "      <td>0.22</td>\n",
       "      <td>NaN</td>\n",
       "    </tr>\n",
       "    <tr>\n",
       "      <th>avg</th>\n",
       "      <td>0.19</td>\n",
       "      <td>0.38</td>\n",
       "      <td>0.21</td>\n",
       "      <td>0.41</td>\n",
       "      <td>0.19</td>\n",
       "    </tr>\n",
       "  </tbody>\n",
       "</table>\n",
       "</div>"
      ],
      "text/plain": [
       "      ERA5  ERA5_GWA  MERRA2  MERRA2_GWA   obs\n",
       "cor   0.52      0.62    0.53        0.72   NaN\n",
       "rmse  0.10      0.21    0.10        0.24   NaN\n",
       "mbe  -0.00      0.18    0.02        0.22   NaN\n",
       "avg   0.19      0.38    0.21        0.41  0.19"
      ]
     },
     "execution_count": 694,
     "metadata": {},
     "output_type": "execute_result"
    }
   ],
   "source": [
    "CF_NEm = comp_NEm.div(cap_NEm.cap.values*24*30/10**6,axis=0)\n",
    "stats_NEm_cf = pd.DataFrame({'ERA5':stats(CF_NEm.ERA5,CF_NEm.wp_obs),\n",
    "                              'ERA5_GWA':stats(CF_NEm.ERA5_GWA,CF_NEm.wp_obs),\n",
    "                              'MERRA2':stats(CF_NEm.MERRA2,CF_NEm.wp_obs),\n",
    "                              'MERRA2_GWA':stats(CF_NEm.MERRA2_GWA,CF_NEm.wp_obs),\n",
    "                              'obs':[np.nan,np.nan,np.nan,round(CF_NEm.wp_obs.mean(),2)]},\n",
    "                             index = ['cor','rmse','mbe','avg'])\n",
    "stats_NEm_cf"
   ]
  },
  {
   "cell_type": "code",
   "execution_count": 695,
   "metadata": {},
   "outputs": [],
   "source": [
    "# save statistical results\n",
    "stats_NEm_cf.to_csv(usa_path+'/results_stat/stats_NEm_cf.csv',sep=';')"
   ]
  },
  {
   "cell_type": "code",
   "execution_count": 696,
   "metadata": {},
   "outputs": [
    {
     "data": {
      "image/png": "[encoded data removed]",
      "text/plain": [
       "<Figure size 864x576 with 1 Axes>"
      ]
     },
     "metadata": {},
     "output_type": "display_data"
    }
   ],
   "source": [
    "# plot data\n",
    "plot_NEm_cf = CF_NEm.melt(var_name='type',value_name='monthly_CF')\n",
    "sns.set(style='darkgrid',context='talk')\n",
    "plt.figure(figsize=(12,8))\n",
    "ax = sns.boxplot(x='type',y='monthly_CF',data=plot_NEm_cf,palette=col_rf,linewidth=3)\n",
    "fig = ax.get_figure()\n",
    "fig.savefig(usa_path+'/results_stat/plots/CF/NEm_cf.png')"
   ]
  },
  {
   "cell_type": "code",
   "execution_count": null,
   "metadata": {},
   "outputs": [],
   "source": []
  },
  {
   "cell_type": "code",
   "execution_count": null,
   "metadata": {},
   "outputs": [],
   "source": []
  },
  {
   "cell_type": "code",
   "execution_count": null,
   "metadata": {},
   "outputs": [],
   "source": []
  },
  {
   "cell_type": "code",
   "execution_count": null,
   "metadata": {},
   "outputs": [],
   "source": []
  },
  {
   "cell_type": "code",
   "execution_count": null,
   "metadata": {},
   "outputs": [],
   "source": []
  },
  {
   "cell_type": "code",
   "execution_count": null,
   "metadata": {},
   "outputs": [],
   "source": []
  },
  {
   "cell_type": "code",
   "execution_count": null,
   "metadata": {},
   "outputs": [],
   "source": []
  },
  {
   "cell_type": "code",
   "execution_count": null,
   "metadata": {},
   "outputs": [],
   "source": []
  },
  {
   "cell_type": "code",
   "execution_count": null,
   "metadata": {},
   "outputs": [],
   "source": []
  },
  {
   "cell_type": "code",
   "execution_count": null,
   "metadata": {},
   "outputs": [],
   "source": []
  },
  {
   "cell_type": "code",
   "execution_count": null,
   "metadata": {},
   "outputs": [],
   "source": []
  },
  {
   "cell_type": "code",
   "execution_count": null,
   "metadata": {},
   "outputs": [],
   "source": []
  }
 ],
 "metadata": {
  "kernelspec": {
   "display_name": "Python 3",
   "language": "python",
   "name": "python3"
  },
  "language_info": {
   "codemirror_mode": {
    "name": "ipython",
    "version": 3
   },
   "file_extension": ".py",
   "mimetype": "text/x-python",
   "name": "python",
   "nbconvert_exporter": "python",
   "pygments_lexer": "ipython3",
   "version": "3.7.0"
  }
 },
 "nbformat": 4,
 "nbformat_minor": 2
}
