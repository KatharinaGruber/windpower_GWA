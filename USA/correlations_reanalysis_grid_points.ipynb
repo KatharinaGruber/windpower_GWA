{
 "cells": [
  {
   "cell_type": "code",
   "execution_count": 1,
   "metadata": {},
   "outputs": [],
   "source": [
    "import os\n",
    "\n",
    "import numpy as np\n",
    "import pandas as pd\n",
    "import xarray as xr\n",
    "import datetime\n",
    "from scipy.stats import pearsonr\n",
    "import matplotlib.pyplot as plt\n",
    "%matplotlib inline\n",
    "\n",
    "from dask.diagnostics import ProgressBar\n",
    "ProgressBar().register()"
   ]
  },
  {
   "cell_type": "markdown",
   "metadata": {},
   "source": [
    "MERRA-2 and ERA5 only unique interpolated locations"
   ]
  },
  {
   "cell_type": "code",
   "execution_count": 2,
   "metadata": {},
   "outputs": [],
   "source": [
    "# open turbine files\n",
    "wt_mer_gwa = pd.read_csv('/data/users/kgruber/other-data/USA/turbine_data_mer_gwa.csv', index_col=0)\n",
    "wt_mer = pd.read_csv('/data/users/kgruber/other-data/USA/turbine_data_mer.csv', index_col=0)\n",
    "wt_era_gwa = pd.read_csv('/data/users/kgruber/other-data/USA/turbine_data_era_gwa.csv', index_col=0)\n",
    "wt_era = pd.read_csv('/data/users/kgruber/other-data/USA/turbine_data_era.csv', index_col=0)"
   ]
  },
  {
   "cell_type": "code",
   "execution_count": 3,
   "metadata": {},
   "outputs": [],
   "source": [
    "# open wind files\n",
    "wind_mer = xr.open_mfdataset(\"/data/users/kgruber/Data/MERRA/USA/eff_ws/merra2_wind_USA_*.nc\", chunks = {'time': 38})\n",
    "alpha_mer = xr.open_mfdataset(\"/data/users/kgruber/Data/MERRA/USA/eff_ws/merra2_alpha_USA_*.nc\", chunks = {'time': 38})\n",
    "wind_era = xr.open_mfdataset(\"/data/users/kgruber/Data/era5/USA/eff_ws/era5_wind_USA_*.nc\", chunks = {'time': 38})\n",
    "alpha_era = xr.open_mfdataset(\"/data/users/kgruber/Data/era5/USA/eff_ws/era5_alpha_USA_*.nc\", chunks = {'time': 38})"
   ]
  },
  {
   "cell_type": "code",
   "execution_count": 4,
   "metadata": {},
   "outputs": [
    {
     "name": "stdout",
     "output_type": "stream",
     "text": [
      "[########################################] | 100% Completed |  0.1s\n",
      "[########################################] | 100% Completed |  0.1s\n",
      "[########################################] | 100% Completed |  0.1s\n",
      "[########################################] | 100% Completed |  0.1s\n"
     ]
    }
   ],
   "source": [
    "# Create dataframe with sequence the size of MERRA-2 grid to find out which turbines interpolate to the same point\n",
    "in_seq_mer = xr.Dataset({'x':(['lat','lon'],\n",
    "                              np.array(range(wind_mer.wh50.isel(time=0).values.size)).reshape(wind_mer.wh50.isel(time=0).values.shape))},\n",
    "                         coords = {'lat':wind_mer.lat.values,\n",
    "                                   'lon':wind_mer.lon.values})\n",
    "in_seq_era = xr.Dataset({'x':(['lat','lon'],\n",
    "                              np.array(range(wind_era.wh100.isel(time=0).values.size)).reshape(wind_era.wh100.isel(time=0).values.shape))},\n",
    "                         coords = {'lat':wind_era.latitude.values,\n",
    "                                   'lon':wind_era.longitude.values})"
   ]
  },
  {
   "cell_type": "code",
   "execution_count": 5,
   "metadata": {},
   "outputs": [],
   "source": [
    "# interpolate to reanalysis grid points\n",
    "ip_mer_gwa = in_seq_mer.interp(coords={\"lon\":xr.DataArray(wt_mer_gwa.lon,dims='location'),\n",
    "                                       \"lat\":xr.DataArray(wt_mer_gwa.lat,dims='location')},method=\"nearest\").to_dataframe()\n",
    "ip_mer = in_seq_mer.interp(coords={\"lon\":xr.DataArray(wt_mer.lon,dims='location'),\n",
    "                                   \"lat\":xr.DataArray(wt_mer.lat,dims='location')},method=\"nearest\").to_dataframe()\n",
    "ip_era_gwa = in_seq_era.interp(coords={\"lon\":xr.DataArray(wt_era_gwa.lon,dims='location'),\n",
    "                                       \"lat\":xr.DataArray(wt_era_gwa.lat,dims='location')},method=\"nearest\").to_dataframe()\n",
    "ip_era = in_seq_era.interp(coords={\"lon\":xr.DataArray(wt_era.lon,dims='location'),\n",
    "                                   \"lat\":xr.DataArray(wt_era.lat,dims='location')},method=\"nearest\").to_dataframe()"
   ]
  },
  {
   "cell_type": "code",
   "execution_count": 6,
   "metadata": {},
   "outputs": [],
   "source": [
    "# find unique locations\n",
    "uniques_mer = ip_mer.groupby(ip_mer.x).min()\n",
    "uniques_era = ip_era.groupby(ip_era.x).min()"
   ]
  },
  {
   "cell_type": "code",
   "execution_count": 7,
   "metadata": {},
   "outputs": [],
   "source": [
    "# add ids to unique correlation locations\n",
    "uniques_era['cor_id'] = range(len(uniques_era.index))\n",
    "uniques_mer['cor_id'] = range(len(uniques_mer.index))"
   ]
  },
  {
   "cell_type": "code",
   "execution_count": 8,
   "metadata": {},
   "outputs": [],
   "source": [
    "# add correlation ids to wind turbine data\n",
    "wt_mer['cor_id'] = ip_mer.x.map(uniques_mer.cor_id)\n",
    "wt_mer_gwa['cor_id'] = ip_mer_gwa.x.map(uniques_mer.cor_id)\n",
    "wt_era['cor_id'] = ip_era.x.map(uniques_era.cor_id)\n",
    "wt_era_gwa['cor_id'] = ip_era_gwa.x.map(uniques_era.cor_id)"
   ]
  },
  {
   "cell_type": "code",
   "execution_count": 138,
   "metadata": {},
   "outputs": [],
   "source": [
    "# interpolate wind to unique locations and extrapolate to 80 m hubheight, which is mean hubheight in US\n",
    "windi_mer = wind_mer.interp(coords={\"lon\":xr.DataArray(uniques_mer.lon,dims='location'),\n",
    "                                    \"lat\":xr.DataArray(uniques_mer.lat,dims='location')},method=\"nearest\")\n",
    "windi_era = wind_era.interp(coords={\"longitude\":xr.DataArray(uniques_era.lon,dims='location'),\n",
    "                                    \"latitude\":xr.DataArray(uniques_era.lat,dims='location')},method=\"nearest\")"
   ]
  },
  {
   "cell_type": "code",
   "execution_count": 139,
   "metadata": {},
   "outputs": [],
   "source": [
    "alphai_mer = alpha_mer.interp(coords={\"lon\":xr.DataArray(uniques_mer.lon,dims='location'),\n",
    "                                      \"lat\":xr.DataArray(uniques_mer.lat,dims='location')},method=\"nearest\")\n",
    "alphai_era = alpha_era.interp(coords={\"longitude\":xr.DataArray(uniques_era.lon,dims='location'),\n",
    "                                      \"latitude\":xr.DataArray(uniques_era.lat,dims='location')},method=\"nearest\")"
   ]
  },
  {
   "cell_type": "code",
   "execution_count": 140,
   "metadata": {},
   "outputs": [],
   "source": [
    "windhh_mer = (windi_mer.wh50 * (80/50)**alphai_mer.alpha)\n",
    "windhh_era = (windi_era.wh100 * (80/100)**alphai_era.alpha)"
   ]
  },
  {
   "cell_type": "code",
   "execution_count": null,
   "metadata": {},
   "outputs": [],
   "source": [
    "c_mer = np.corrcoef(windhh_mer,rowvar=False)"
   ]
  },
  {
   "cell_type": "code",
   "execution_count": 24,
   "metadata": {},
   "outputs": [],
   "source": [
    "xr.DataArray(c_mer,\n",
    "             dims = ['id1','id2'],\n",
    "             coords = {'id1':range(c_mer.shape[0]),\n",
    "                       'id2':range(c_mer.shape[0])}).to_netcdf('/data/users/kgruber/results/USA/results_GWA2/corr_mer.nc')"
   ]
  },
  {
   "cell_type": "code",
   "execution_count": 25,
   "metadata": {},
   "outputs": [
    {
     "name": "stdout",
     "output_type": "stream",
     "text": [
      "[########################################] | 100% Completed |  6min 25.7s\n"
     ]
    }
   ],
   "source": [
    "c_era = np.corrcoef(windhh_era,rowvar=False)"
   ]
  },
  {
   "cell_type": "code",
   "execution_count": 26,
   "metadata": {},
   "outputs": [],
   "source": [
    "xr.DataArray(c_era,\n",
    "             dims = ['id1','id2'],\n",
    "             coords = {'id1':range(c_era.shape[0]),\n",
    "                       'id2':range(c_era.shape[0])}).to_netcdf('/data/users/kgruber/results/USA/results_GWA2/corr_era.nc')"
   ]
  },
  {
   "cell_type": "code",
   "execution_count": null,
   "metadata": {},
   "outputs": [],
   "source": []
  },
  {
   "cell_type": "markdown",
   "metadata": {},
   "source": [
    "# Load data"
   ]
  },
  {
   "cell_type": "code",
   "execution_count": 9,
   "metadata": {},
   "outputs": [],
   "source": [
    "c_mer = xr.open_dataarray('/data/users/kgruber/results/USA/results_GWA2/corr_mer.nc').values\n",
    "c_era = xr.open_dataarray('/data/users/kgruber/results/USA/results_GWA2/corr_era.nc').values"
   ]
  },
  {
   "cell_type": "markdown",
   "metadata": {
    "heading_collapsed": true
   },
   "source": [
    "### Do for a region - start with TX"
   ]
  },
  {
   "cell_type": "code",
   "execution_count": 10,
   "metadata": {
    "hidden": true
   },
   "outputs": [],
   "source": [
    "wt_mer_TX = wt_mer[wt_mer.state=='TX']\n",
    "wt_mer_gwa_TX = wt_mer_gwa[wt_mer_gwa.state=='TX']\n",
    "wt_era_TX = wt_era[wt_era.state=='TX']\n",
    "wt_era_gwa_TX = wt_era_gwa[wt_era_gwa.state=='TX']"
   ]
  },
  {
   "cell_type": "code",
   "execution_count": 23,
   "metadata": {
    "hidden": true
   },
   "outputs": [
    {
     "name": "stdout",
     "output_type": "stream",
     "text": [
      "[########################################] | 100% Completed |  2min 55.5s\n",
      "[########################################] | 100% Completed | 32.5s\n"
     ]
    },
    {
     "data": {
      "text/plain": [
       "<matplotlib.collections.QuadMesh at 0x7f6efc54fb70>"
      ]
     },
     "execution_count": 23,
     "metadata": {},
     "output_type": "execute_result"
    },
    {
     "data": {
      "image/png": "[encoded data removed]",
      "text/plain": [
       "<Figure size 432x288 with 2 Axes>"
      ]
     },
     "metadata": {
      "needs_background": "light"
     },
     "output_type": "display_data"
    }
   ],
   "source": [
    "windhh_mer.isel(location=wt_mer_TX.cor_id.unique()[:10]).plot()"
   ]
  },
  {
   "cell_type": "code",
   "execution_count": 96,
   "metadata": {
    "hidden": true
   },
   "outputs": [
    {
     "name": "stdout",
     "output_type": "stream",
     "text": [
      "[########################################] | 100% Completed | 57.8s\n"
     ]
    },
    {
     "data": {
      "text/plain": [
       "array([8.224147 , 8.7272215, 8.1095295, 7.6235514, 8.176281 , 7.855643 ,\n",
       "       8.124128 , 8.19459  , 7.758245 , 7.8873525], dtype=float32)"
      ]
     },
     "execution_count": 96,
     "metadata": {},
     "output_type": "execute_result"
    }
   ],
   "source": [
    "windhh_mer.isel(location=wt_mer_TX.cor_id.unique()[:10]).var('time').values"
   ]
  },
  {
   "cell_type": "code",
   "execution_count": null,
   "metadata": {
    "hidden": true
   },
   "outputs": [],
   "source": []
  },
  {
   "cell_type": "code",
   "execution_count": 11,
   "metadata": {
    "hidden": true
   },
   "outputs": [],
   "source": [
    "# non unique values\n",
    "c_TX_merNU = np.array([list(c_mer[wt_mer_TX.cor_id.values[i],\n",
    "                                  np.delete(wt_mer_TX.cor_id.values,i,0)]) for i in range(len(wt_mer_TX.cor_id))])\n",
    "c_TX_mer_gwaNU = np.array([list(c_mer[wt_mer_gwa_TX.cor_id.values[i],\n",
    "                                      np.delete(wt_mer_gwa_TX.cor_id.values,i,0)]) for i in range(len(wt_mer_gwa_TX.cor_id))])\n",
    "c_TX_eraNU = np.array([list(c_era[wt_era_TX.cor_id.values[i],\n",
    "                                  np.delete(wt_era_TX.cor_id.values,i,0)]) for i in range(len(wt_era_TX.cor_id))])\n",
    "c_TX_era_gwaNU = np.array([list(c_era[wt_era_gwa_TX.cor_id.values[i],\n",
    "                                      np.delete(wt_era_gwa_TX.cor_id.values,i,0)]) for i in range(len(wt_era_gwa_TX.cor_id))])"
   ]
  },
  {
   "cell_type": "code",
   "execution_count": 12,
   "metadata": {
    "hidden": true
   },
   "outputs": [],
   "source": [
    "# unique values\n",
    "c_TX_mer = np.array([list(c_mer[wt_mer_TX.cor_id.unique()[i],\n",
    "                                np.delete(wt_mer_TX.cor_id.unique(),i,0)]) for i in range(len(wt_mer_TX.cor_id.unique()))])\n",
    "c_TX_mer_gwa = np.array([list(c_mer[wt_mer_gwa_TX.cor_id.unique()[i],\n",
    "                                    np.delete(wt_mer_gwa_TX.cor_id.unique(),i,0)]) for i in range(len(wt_mer_gwa_TX.cor_id.unique()))])\n",
    "c_TX_era = np.array([list(c_era[wt_era_TX.cor_id.unique()[i],\n",
    "                                np.delete(wt_era_TX.cor_id.unique(),i,0)]) for i in range(len(wt_era_TX.cor_id.unique()))])\n",
    "c_TX_era_gwa = np.array([list(c_era[wt_era_gwa_TX.cor_id.unique()[i],\n",
    "                                    np.delete(wt_era_gwa_TX.cor_id.unique(),i,0)]) for i in range(len(wt_era_gwa_TX.cor_id.unique()))])"
   ]
  },
  {
   "cell_type": "code",
   "execution_count": 228,
   "metadata": {
    "hidden": true
   },
   "outputs": [
    {
     "data": {
      "text/plain": [
       "<matplotlib.colorbar.Colorbar at 0x7f6e844c92e8>"
      ]
     },
     "execution_count": 228,
     "metadata": {},
     "output_type": "execute_result"
    },
    {
     "data": {
      "image/png": "[encoded data removed]",
      "text/plain": [
       "<Figure size 432x288 with 2 Axes>"
      ]
     },
     "metadata": {
      "needs_background": "light"
     },
     "output_type": "display_data"
    }
   ],
   "source": [
    "plt.imshow(c_TX_mer)\n",
    "plt.colorbar()"
   ]
  },
  {
   "cell_type": "code",
   "execution_count": 231,
   "metadata": {
    "hidden": true
   },
   "outputs": [
    {
     "data": {
      "text/plain": [
       "0.5748996562644375"
      ]
     },
     "execution_count": 231,
     "metadata": {},
     "output_type": "execute_result"
    }
   ],
   "source": [
    "c_TX_merNU.mean()"
   ]
  },
  {
   "cell_type": "code",
   "execution_count": 229,
   "metadata": {
    "hidden": true
   },
   "outputs": [
    {
     "data": {
      "text/plain": [
       "0.5371951943853581"
      ]
     },
     "execution_count": 229,
     "metadata": {},
     "output_type": "execute_result"
    }
   ],
   "source": [
    "c_TX_mer.mean()"
   ]
  },
  {
   "cell_type": "code",
   "execution_count": 233,
   "metadata": {
    "hidden": true
   },
   "outputs": [
    {
     "data": {
      "text/plain": [
       "<matplotlib.collections.PathCollection at 0x7f6e847a86d8>"
      ]
     },
     "execution_count": 233,
     "metadata": {},
     "output_type": "execute_result"
    },
    {
     "data": {
      "image/png": "[encoded data removed]",
      "text/plain": [
       "<Figure size 432x288 with 1 Axes>"
      ]
     },
     "metadata": {
      "needs_background": "light"
     },
     "output_type": "display_data"
    }
   ],
   "source": [
    "plt.scatter(c_TX_merNU.mean(axis=1),wt_mer_TX.capacity.values)"
   ]
  },
  {
   "cell_type": "code",
   "execution_count": 236,
   "metadata": {
    "hidden": true
   },
   "outputs": [
    {
     "data": {
      "text/plain": [
       "<matplotlib.collections.PathCollection at 0x7f6d7334c278>"
      ]
     },
     "execution_count": 236,
     "metadata": {},
     "output_type": "execute_result"
    },
    {
     "data": {
      "image/png": "[encoded data removed]",
      "text/plain": [
       "<Figure size 432x288 with 1 Axes>"
      ]
     },
     "metadata": {
      "needs_background": "light"
     },
     "output_type": "display_data"
    }
   ],
   "source": [
    "plt.scatter(c_TX_mer.mean(axis=1),wt_mer_TX.capacity.groupby(wt_mer_TX.cor_id).sum().values)"
   ]
  },
  {
   "cell_type": "code",
   "execution_count": 53,
   "metadata": {
    "hidden": true
   },
   "outputs": [],
   "source": [
    "# weighted by capacity\n",
    "c_TX_wc = np.array([list(c_mer[wt_mer_TX.cor_id.values[i],np.delete(wt_mer_TX.cor_id.values,i,0)]*wt_mer_TX.capacity.values[i]) for i in range(len(wt_mer_TX.cor_id))])"
   ]
  },
  {
   "cell_type": "code",
   "execution_count": 92,
   "metadata": {
    "hidden": true
   },
   "outputs": [
    {
     "data": {
      "text/plain": [
       "<matplotlib.colorbar.Colorbar at 0x7f6e90fe49b0>"
      ]
     },
     "execution_count": 92,
     "metadata": {},
     "output_type": "execute_result"
    },
    {
     "data": {
      "image/png": "[encoded data removed]",
      "text/plain": [
       "<Figure size 432x288 with 2 Axes>"
      ]
     },
     "metadata": {
      "needs_background": "light"
     },
     "output_type": "display_data"
    }
   ],
   "source": [
    "plt.imshow(c_TX_wc/wt_mer_TX.capacity.values.mean())\n",
    "plt.colorbar()"
   ]
  },
  {
   "cell_type": "code",
   "execution_count": 86,
   "metadata": {
    "hidden": true
   },
   "outputs": [
    {
     "data": {
      "text/plain": [
       "0.5688939771450681"
      ]
     },
     "execution_count": 86,
     "metadata": {},
     "output_type": "execute_result"
    }
   ],
   "source": [
    "(c_TX_wc/wt_mer_TX.capacity.values.mean()).mean()"
   ]
  },
  {
   "cell_type": "code",
   "execution_count": 87,
   "metadata": {
    "hidden": true
   },
   "outputs": [
    {
     "data": {
      "text/plain": [
       "<matplotlib.collections.PathCollection at 0x7f6e936a1940>"
      ]
     },
     "execution_count": 87,
     "metadata": {},
     "output_type": "execute_result"
    },
    {
     "data": {
      "image/png": "[encoded data removed]",
      "text/plain": [
       "<Figure size 432x288 with 1 Axes>"
      ]
     },
     "metadata": {
      "needs_background": "light"
     },
     "output_type": "display_data"
    }
   ],
   "source": [
    "plt.scatter((c_TX_wc/wt_mer_TX.capacity.values.mean()).mean(axis=1),wt_mer_TX.capacity.values)"
   ]
  },
  {
   "cell_type": "code",
   "execution_count": 64,
   "metadata": {
    "hidden": true
   },
   "outputs": [
    {
     "data": {
      "text/plain": [
       "0.5688939771450681"
      ]
     },
     "execution_count": 64,
     "metadata": {},
     "output_type": "execute_result"
    }
   ],
   "source": [
    "(c_TX_wc/wt_mer_TX.capacity.values.mean()).mean()"
   ]
  },
  {
   "cell_type": "code",
   "execution_count": 144,
   "metadata": {
    "hidden": true
   },
   "outputs": [],
   "source": [
    "# wighted and normalised by capacity\n",
    "c_TX_norm = (wt_mer_TX.capacity.values*(c_TX.transpose()+1))/(wt_mer_TX.capacity.values.mean())-1"
   ]
  },
  {
   "cell_type": "code",
   "execution_count": 147,
   "metadata": {
    "hidden": true
   },
   "outputs": [
    {
     "data": {
      "text/plain": [
       "0.568893977145068"
      ]
     },
     "execution_count": 147,
     "metadata": {},
     "output_type": "execute_result"
    }
   ],
   "source": [
    "c_TX_norm.mean()"
   ]
  },
  {
   "cell_type": "code",
   "execution_count": 148,
   "metadata": {
    "hidden": true
   },
   "outputs": [
    {
     "data": {
      "text/plain": [
       "<matplotlib.colorbar.Colorbar at 0x7f6e850c56a0>"
      ]
     },
     "execution_count": 148,
     "metadata": {},
     "output_type": "execute_result"
    },
    {
     "data": {
      "image/png": "[encoded data removed]",
      "text/plain": [
       "<Figure size 432x288 with 2 Axes>"
      ]
     },
     "metadata": {
      "needs_background": "light"
     },
     "output_type": "display_data"
    }
   ],
   "source": [
    "plt.imshow(c_TX_norm)\n",
    "plt.colorbar()"
   ]
  },
  {
   "cell_type": "code",
   "execution_count": 150,
   "metadata": {
    "hidden": true
   },
   "outputs": [
    {
     "data": {
      "text/plain": [
       "<matplotlib.collections.PathCollection at 0x7f6e7ed730f0>"
      ]
     },
     "execution_count": 150,
     "metadata": {},
     "output_type": "execute_result"
    },
    {
     "data": {
      "image/png": "[encoded data removed]",
      "text/plain": [
       "<Figure size 432x288 with 1 Axes>"
      ]
     },
     "metadata": {
      "needs_background": "light"
     },
     "output_type": "display_data"
    }
   ],
   "source": [
    "plt.scatter(c_TX_norm.mean(axis=0),wt_mer_TX.capacity.values)"
   ]
  },
  {
   "cell_type": "code",
   "execution_count": 151,
   "metadata": {
    "hidden": true
   },
   "outputs": [
    {
     "data": {
      "text/plain": [
       "(array([128.,  36.,  31.,  35.,  25.,  18.,  11.,   5.,   1.,   2.]),\n",
       " array([-0.99829283, -0.28690611,  0.42448061,  1.13586732,  1.84725404,\n",
       "         2.55864076,  3.27002748,  3.98141419,  4.69280091,  5.40418763,\n",
       "         6.11557434]),\n",
       " <a list of 10 Patch objects>)"
      ]
     },
     "execution_count": 151,
     "metadata": {},
     "output_type": "execute_result"
    },
    {
     "data": {
      "image/png": "[encoded data removed]",
      "text/plain": [
       "<Figure size 432x288 with 1 Axes>"
      ]
     },
     "metadata": {
      "needs_background": "light"
     },
     "output_type": "display_data"
    }
   ],
   "source": [
    "plt.hist(c_TX_norm.mean(axis=0))"
   ]
  },
  {
   "cell_type": "code",
   "execution_count": 13,
   "metadata": {
    "hidden": true
   },
   "outputs": [],
   "source": [
    "# unique values\n",
    "mc_TX_mer = np.array([list(c_mer[wt_mer_TX.cor_id.unique()[i],\n",
    "                                np.delete(wt_mer_TX.cor_id.unique(),i,0)]) for i in range(len(wt_mer_TX.cor_id.unique()))]).mean()\n",
    "mc_TX_mer_gwa = np.array([list(c_mer[wt_mer_gwa_TX.cor_id.unique()[i],\n",
    "                                    np.delete(wt_mer_gwa_TX.cor_id.unique(),i,0)]) for i in range(len(wt_mer_gwa_TX.cor_id.unique()))]).mean()\n",
    "mc_TX_era = np.array([list(c_era[wt_era_TX.cor_id.unique()[i],\n",
    "                                np.delete(wt_era_TX.cor_id.unique(),i,0)]) for i in range(len(wt_era_TX.cor_id.unique()))]).mean()\n",
    "mc_TX_era_gwa = np.array([list(c_era[wt_era_gwa_TX.cor_id.unique()[i],\n",
    "                                    np.delete(wt_era_gwa_TX.cor_id.unique(),i,0)]) for i in range(len(wt_era_gwa_TX.cor_id.unique()))]).mean()"
   ]
  },
  {
   "cell_type": "code",
   "execution_count": null,
   "metadata": {
    "hidden": true
   },
   "outputs": [],
   "source": []
  },
  {
   "cell_type": "markdown",
   "metadata": {
    "heading_collapsed": true
   },
   "source": [
    "### BPA"
   ]
  },
  {
   "cell_type": "code",
   "execution_count": 14,
   "metadata": {
    "hidden": true
   },
   "outputs": [],
   "source": [
    "# get BPA windparks\n",
    "BPA_parks = pd.read_csv(\"/data/users/kgruber/other-data/USA/BPA_windparks.csv\")\n",
    "# get windturbine locations/names\n",
    "windturbines = pd.read_csv(\"/data/users/kgruber/other-data/USA/windturbines_usa.csv\",delimiter=';')\n",
    "# get labels\n",
    "labels = pd.read_csv('/data/users/kgruber/other-data/USA/labels_turbine_data.csv')\n",
    "# get indices of BPA wind parks from wind turbine dataset\n",
    "pBPA = pd.DataFrame({'p': [park in BPA_parks.name.values for park in windturbines[windturbines.t_state!='GU'].p_name.values]})"
   ]
  },
  {
   "cell_type": "code",
   "execution_count": 15,
   "metadata": {
    "hidden": true
   },
   "outputs": [],
   "source": [
    "# remove turbines that are in other states - error in data?\n",
    "pBPA[windturbines[windturbines.t_state!='GU'].xlong.values<-125] = False\n",
    "pBPA[windturbines[windturbines.t_state!='GU'].xlong.values>-115] = False"
   ]
  },
  {
   "cell_type": "code",
   "execution_count": 16,
   "metadata": {
    "hidden": true
   },
   "outputs": [],
   "source": [
    "BPA_mer = pBPA.groupby(labels.lbl_mer).mean() # get shares of where BPA wind parks are installed\n",
    "BPA_mer_gwa = pBPA.groupby(labels.lbl_mer_gwa).mean()\n",
    "BPA_era = pBPA.groupby(labels.lbl_era).mean()\n",
    "BPA_era_gwa = pBPA.groupby(labels.lbl_era_gwa).mean()"
   ]
  },
  {
   "cell_type": "code",
   "execution_count": 17,
   "metadata": {
    "hidden": true
   },
   "outputs": [],
   "source": [
    "BPA_mer['cor_id'] = wt_mer.cor_id.values\n",
    "BPA_mer_gwa['cor_id'] = wt_mer_gwa.cor_id.values\n",
    "BPA_era['cor_id'] = wt_era.cor_id.values\n",
    "BPA_era_gwa['cor_id'] = wt_era_gwa.cor_id.values"
   ]
  },
  {
   "cell_type": "code",
   "execution_count": 18,
   "metadata": {
    "hidden": true
   },
   "outputs": [],
   "source": [
    "BPA_mer = BPA_mer[BPA_mer.p>0]\n",
    "BPA_mer_gwa = BPA_mer_gwa[BPA_mer_gwa.p>0]\n",
    "BPA_era = BPA_era[BPA_era.p>0]\n",
    "BPA_era_gwa = BPA_era_gwa[BPA_era_gwa.p>0]"
   ]
  },
  {
   "cell_type": "code",
   "execution_count": 19,
   "metadata": {
    "hidden": true
   },
   "outputs": [],
   "source": [
    "mc_BPA_mer = np.array([list(c_mer[BPA_mer.cor_id.unique()[i],\n",
    "                                 np.delete(BPA_mer.cor_id.unique(),i,0)]) for i in range(len(BPA_mer.cor_id.unique()))]).mean()\n",
    "mc_BPA_mer_gwa = np.array([list(c_mer[BPA_mer_gwa.cor_id.unique()[i],\n",
    "                                     np.delete(BPA_mer_gwa.cor_id.unique(),i,0)]) for i in range(len(BPA_mer_gwa.cor_id.unique()))]).mean()\n",
    "mc_BPA_era = np.array([list(c_era[BPA_era.cor_id.unique()[i],\n",
    "                                 np.delete(BPA_era.cor_id.unique(),i,0)]) for i in range(len(BPA_era.cor_id.unique()))]).mean()\n",
    "mc_BPA_era_gwa = np.array([list(c_era[BPA_era_gwa.cor_id.unique()[i],\n",
    "                                         np.delete(BPA_era_gwa.cor_id.unique(),i,0)]) for i in range(len(BPA_era_gwa.cor_id.unique()))]).mean()"
   ]
  },
  {
   "cell_type": "code",
   "execution_count": 41,
   "metadata": {
    "hidden": true
   },
   "outputs": [
    {
     "data": {
      "text/plain": [
       "0.6331066095613402"
      ]
     },
     "execution_count": 41,
     "metadata": {},
     "output_type": "execute_result"
    }
   ],
   "source": [
    "mc_BPA_mer"
   ]
  },
  {
   "cell_type": "code",
   "execution_count": 237,
   "metadata": {
    "hidden": true
   },
   "outputs": [
    {
     "data": {
      "text/plain": [
       "0.36666428233167647"
      ]
     },
     "execution_count": 237,
     "metadata": {},
     "output_type": "execute_result"
    }
   ],
   "source": [
    "mc_BPA_mer # old version with wring wind parks"
   ]
  },
  {
   "cell_type": "code",
   "execution_count": 242,
   "metadata": {
    "hidden": true
   },
   "outputs": [
    {
     "data": {
      "text/plain": [
       "<matplotlib.colorbar.Colorbar at 0x7feeaabd84a8>"
      ]
     },
     "execution_count": 242,
     "metadata": {},
     "output_type": "execute_result"
    },
    {
     "data": {
      "image/png": "[encoded data removed]",
      "text/plain": [
       "<Figure size 432x288 with 2 Axes>"
      ]
     },
     "metadata": {
      "needs_background": "light"
     },
     "output_type": "display_data"
    }
   ],
   "source": [
    "plt.imshow(np.array([list(c_mer[BPA_mer.cor_id.unique()[i],\n",
    "                                 np.delete(BPA_mer.cor_id.unique(),i,0)]) for i in range(len(BPA_mer.cor_id.unique()))]))\n",
    "plt.colorbar() # old version with wring wind parks"
   ]
  },
  {
   "cell_type": "code",
   "execution_count": 42,
   "metadata": {
    "hidden": true
   },
   "outputs": [
    {
     "data": {
      "text/plain": [
       "<matplotlib.colorbar.Colorbar at 0x7fe9e431f9b0>"
      ]
     },
     "execution_count": 42,
     "metadata": {},
     "output_type": "execute_result"
    },
    {
     "data": {
      "image/png": "[encoded data removed]",
      "text/plain": [
       "<Figure size 432x288 with 2 Axes>"
      ]
     },
     "metadata": {
      "needs_background": "light"
     },
     "output_type": "display_data"
    }
   ],
   "source": [
    "plt.imshow(np.array([list(c_mer[BPA_mer.cor_id.unique()[i],\n",
    "                                 np.delete(BPA_mer.cor_id.unique(),i,0)]) for i in range(len(BPA_mer.cor_id.unique()))]))\n",
    "plt.colorbar()"
   ]
  },
  {
   "cell_type": "code",
   "execution_count": 238,
   "metadata": {
    "hidden": true
   },
   "outputs": [
    {
     "data": {
      "text/plain": [
       "0.6513433018371698"
      ]
     },
     "execution_count": 238,
     "metadata": {},
     "output_type": "execute_result"
    }
   ],
   "source": [
    "mc_BPA_mer_2017"
   ]
  },
  {
   "cell_type": "code",
   "execution_count": 241,
   "metadata": {
    "hidden": true
   },
   "outputs": [
    {
     "name": "stdout",
     "output_type": "stream",
     "text": [
      "[########################################] | 100% Completed |  0.1s\n"
     ]
    },
    {
     "data": {
      "text/plain": [
       "<matplotlib.colorbar.Colorbar at 0x7feeaab880b8>"
      ]
     },
     "execution_count": 241,
     "metadata": {},
     "output_type": "execute_result"
    },
    {
     "data": {
      "image/png": "[encoded data removed]",
      "text/plain": [
       "<Figure size 432x288 with 2 Axes>"
      ]
     },
     "metadata": {
      "needs_background": "light"
     },
     "output_type": "display_data"
    }
   ],
   "source": [
    "plt.imshow(c_mer_2017_BPA)\n",
    "plt.colorbar()"
   ]
  },
  {
   "cell_type": "markdown",
   "metadata": {
    "heading_collapsed": true
   },
   "source": [
    "### IA"
   ]
  },
  {
   "cell_type": "code",
   "execution_count": 20,
   "metadata": {
    "hidden": true
   },
   "outputs": [],
   "source": [
    "wt_mer_IA = wt_mer[wt_mer.state=='IA']\n",
    "wt_mer_gwa_IA = wt_mer_gwa[wt_mer_gwa.state=='IA']\n",
    "wt_era_IA = wt_era[wt_era.state=='IA']\n",
    "wt_era_gwa_IA = wt_era_gwa[wt_era_gwa.state=='IA']"
   ]
  },
  {
   "cell_type": "code",
   "execution_count": 21,
   "metadata": {
    "hidden": true
   },
   "outputs": [],
   "source": [
    "mc_IA_mer = np.array([list(c_mer[wt_mer_IA.cor_id.unique()[i],\n",
    "                                np.delete(wt_mer_IA.cor_id.unique(),i,0)]) for i in range(len(wt_mer_IA.cor_id.unique()))]).mean()\n",
    "mc_IA_mer_gwa = np.array([list(c_mer[wt_mer_gwa_IA.cor_id.unique()[i],\n",
    "                                    np.delete(wt_mer_gwa_IA.cor_id.unique(),i,0)]) for i in range(len(wt_mer_gwa_IA.cor_id.unique()))]).mean()\n",
    "mc_IA_era = np.array([list(c_era[wt_era_IA.cor_id.unique()[i],\n",
    "                                np.delete(wt_era_IA.cor_id.unique(),i,0)]) for i in range(len(wt_era_IA.cor_id.unique()))]).mean()\n",
    "mc_IA_era_gwa = np.array([list(c_era[wt_era_gwa_IA.cor_id.unique()[i],\n",
    "                                    np.delete(wt_era_gwa_IA.cor_id.unique(),i,0)]) for i in range(len(wt_era_gwa_IA.cor_id.unique()))]).mean()"
   ]
  },
  {
   "cell_type": "code",
   "execution_count": null,
   "metadata": {
    "hidden": true
   },
   "outputs": [],
   "source": []
  },
  {
   "cell_type": "markdown",
   "metadata": {
    "heading_collapsed": true
   },
   "source": [
    "### New England"
   ]
  },
  {
   "cell_type": "code",
   "execution_count": 22,
   "metadata": {
    "hidden": true
   },
   "outputs": [],
   "source": [
    "NE_states = ['CT','NH','ME','MA','RI','VT']"
   ]
  },
  {
   "cell_type": "code",
   "execution_count": 23,
   "metadata": {
    "hidden": true
   },
   "outputs": [],
   "source": [
    "wt_mer_NE = wt_mer[[state in NE_states for state in wt_mer.state]]\n",
    "wt_mer_gwa_NE = wt_mer_gwa[[state in NE_states for state in wt_mer_gwa.state]]\n",
    "wt_era_NE = wt_era[[state in NE_states for state in wt_era.state]]\n",
    "wt_era_gwa_NE = wt_era_gwa[[state in NE_states for state in wt_era_gwa.state]]"
   ]
  },
  {
   "cell_type": "code",
   "execution_count": 24,
   "metadata": {
    "hidden": true
   },
   "outputs": [],
   "source": [
    "mc_NE_mer = np.array([list(c_mer[wt_mer_NE.cor_id.unique()[i],\n",
    "                                np.delete(wt_mer_NE.cor_id.unique(),i,0)]) for i in range(len(wt_mer_NE.cor_id.unique()))]).mean()\n",
    "mc_NE_mer_gwa = np.array([list(c_mer[wt_mer_gwa_NE.cor_id.unique()[i],\n",
    "                                    np.delete(wt_mer_gwa_NE.cor_id.unique(),i,0)]) for i in range(len(wt_mer_gwa_NE.cor_id.unique()))]).mean()\n",
    "mc_NE_era = np.array([list(c_era[wt_era_NE.cor_id.unique()[i],\n",
    "                                np.delete(wt_era_NE.cor_id.unique(),i,0)]) for i in range(len(wt_era_NE.cor_id.unique()))]).mean()\n",
    "mc_NE_era_gwa = np.array([list(c_era[wt_era_gwa_NE.cor_id.unique()[i],\n",
    "                                    np.delete(wt_era_gwa_NE.cor_id.unique(),i,0)]) for i in range(len(wt_era_gwa_NE.cor_id.unique()))]).mean()"
   ]
  },
  {
   "cell_type": "code",
   "execution_count": null,
   "metadata": {
    "hidden": true
   },
   "outputs": [],
   "source": []
  },
  {
   "cell_type": "markdown",
   "metadata": {},
   "source": [
    "### USA"
   ]
  },
  {
   "cell_type": "code",
   "execution_count": 25,
   "metadata": {},
   "outputs": [],
   "source": [
    "mc_USA_mer = np.array([list(c_mer[wt_mer.cor_id.unique()[i],\n",
    "                                np.delete(wt_mer.cor_id.unique(),i,0)]) for i in range(len(wt_mer.cor_id.unique()))]).mean()\n",
    "mc_USA_mer_gwa = np.array([list(c_mer[wt_mer_gwa.cor_id.unique()[i],\n",
    "                                    np.delete(wt_mer_gwa.cor_id.unique(),i,0)]) for i in range(len(wt_mer_gwa.cor_id.unique()))]).mean()\n",
    "mc_USA_era = np.array([list(c_era[wt_era.cor_id.unique()[i],\n",
    "                                np.delete(wt_era.cor_id.unique(),i,0)]) for i in range(len(wt_era.cor_id.unique()))]).mean()\n",
    "mc_USA_era_gwa = np.array([list(c_era[wt_era_gwa.cor_id.unique()[i],\n",
    "                                    np.delete(wt_era_gwa.cor_id.unique(),i,0)]) for i in range(len(wt_era_gwa.cor_id.unique()))]).mean()"
   ]
  },
  {
   "cell_type": "code",
   "execution_count": null,
   "metadata": {},
   "outputs": [],
   "source": []
  },
  {
   "cell_type": "markdown",
   "metadata": {
    "heading_collapsed": true
   },
   "source": [
    "#### plot mean correlations agains physical size (km^2)"
   ]
  },
  {
   "cell_type": "code",
   "execution_count": 269,
   "metadata": {
    "hidden": true
   },
   "outputs": [],
   "source": [
    "sizes_cors = pd.DataFrame({'cor_mer':[c_IA_mer.mean(),c_NE_mer.mean(),c_TX_mer.mean(),c_USA_mer.mean()],\n",
    "                           'cor_era':[c_IA_era.mean(),c_NE_era.mean(),c_TX_era.mean(),c_USA_era.mean()],\n",
    "                           'size_km2':[145743,186458,695662,9834000]},index=['IA','NE','TX','USA'])"
   ]
  },
  {
   "cell_type": "code",
   "execution_count": 279,
   "metadata": {
    "hidden": true
   },
   "outputs": [
    {
     "data": {
      "text/plain": [
       "Text(0, 0.5, 'mean(cor)')"
      ]
     },
     "execution_count": 279,
     "metadata": {},
     "output_type": "execute_result"
    },
    {
     "data": {
      "image/png": "[encoded data removed]",
      "text/plain": [
       "<Figure size 432x288 with 1 Axes>"
      ]
     },
     "metadata": {
      "needs_background": "light"
     },
     "output_type": "display_data"
    }
   ],
   "source": [
    "plt.plot(sizes_cors.size_km2.values,sizes_cors.cor_mer.values,label='merra')\n",
    "plt.plot(sizes_cors.size_km2.values,sizes_cors.cor_era.values,label='era')\n",
    "plt.scatter([sizes_cors.size_km2.values[0],sizes_cors.size_km2.values[0]],\n",
    "            [sizes_cors.cor_mer.values[0],sizes_cors.cor_era.values[0]],color='red',label=sizes_cors.index.values[0])\n",
    "plt.scatter([sizes_cors.size_km2.values[1],sizes_cors.size_km2.values[1]],\n",
    "            [sizes_cors.cor_mer.values[1],sizes_cors.cor_era.values[1]],color='blue',label=sizes_cors.index.values[1])\n",
    "plt.scatter([sizes_cors.size_km2.values[2],sizes_cors.size_km2.values[2]],\n",
    "            [sizes_cors.cor_mer.values[2],sizes_cors.cor_era.values[2]],color='green',label=sizes_cors.index.values[2])\n",
    "plt.scatter([sizes_cors.size_km2.values[3],sizes_cors.size_km2.values[3]],\n",
    "            [sizes_cors.cor_mer.values[3],sizes_cors.cor_era.values[3]],color='yellow',label=sizes_cors.index.values[3])\n",
    "\n",
    "plt.legend()\n",
    "plt.xlabel('size km²')\n",
    "plt.ylabel('mean(cor)')"
   ]
  },
  {
   "cell_type": "code",
   "execution_count": 287,
   "metadata": {
    "hidden": true
   },
   "outputs": [],
   "source": [
    "mean_cors_18y_wind = pd.DataFrame({'cor_mer':[c_BPA_mer.mean(),c_IA_mer.mean(),c_NE_mer.mean(),c_TX_mer.mean(),c_USA_mer.mean()],\n",
    "                                   'cor_era':[c_BPA_mer.mean(),c_IA_era.mean(),c_NE_era.mean(),c_TX_era.mean(),c_USA_era.mean()]},\n",
    "                                  index = ['BPA','IA','NE','TX','USA'])"
   ]
  },
  {
   "cell_type": "code",
   "execution_count": 288,
   "metadata": {
    "hidden": true
   },
   "outputs": [],
   "source": [
    "mean_cors_18y_wind.to_csv('/data/users/kgruber/results/USA/correlations_wind_18y.csv')"
   ]
  },
  {
   "cell_type": "code",
   "execution_count": null,
   "metadata": {
    "hidden": true
   },
   "outputs": [],
   "source": []
  },
  {
   "cell_type": "code",
   "execution_count": null,
   "metadata": {
    "hidden": true
   },
   "outputs": [],
   "source": []
  },
  {
   "cell_type": "code",
   "execution_count": null,
   "metadata": {
    "hidden": true
   },
   "outputs": [],
   "source": []
  },
  {
   "cell_type": "markdown",
   "metadata": {},
   "source": [
    "## Compare to windpower correlations"
   ]
  },
  {
   "cell_type": "markdown",
   "metadata": {
    "heading_collapsed": true
   },
   "source": [
    "### USA"
   ]
  },
  {
   "cell_type": "markdown",
   "metadata": {
    "hidden": true
   },
   "source": [
    "2018"
   ]
  },
  {
   "cell_type": "code",
   "execution_count": 26,
   "metadata": {
    "hidden": true
   },
   "outputs": [],
   "source": [
    "c_mer_2018 = xr.open_dataset('/data/users/kgruber/results/USA/results_GWA2/cor_mer_2018.nc',chunks = {'dim_0':1000})\n",
    "c_mer_gwa_2018 = xr.open_dataset('/data/users/kgruber/results/USA/results_GWA2/cor_mer_gwa_2018.nc',chunks = {'dim_0':1000})\n",
    "c_era_2018 = xr.open_dataset('/data/users/kgruber/results/USA/results_GWA2/cor_era_2018.nc',chunks = {'dim_0':1000})\n",
    "c_era_gwa_2018 = xr.open_dataset('/data/users/kgruber/results/USA/results_GWA2/cor_era_gwa_2018.nc',chunks = {'dim_0':1000})"
   ]
  },
  {
   "cell_type": "code",
   "execution_count": 27,
   "metadata": {
    "hidden": true
   },
   "outputs": [
    {
     "name": "stdout",
     "output_type": "stream",
     "text": [
      "[########################################] | 100% Completed |  0.2s\n",
      "[########################################] | 100% Completed | 52.0s\n",
      "[########################################] | 100% Completed |  0.2s\n",
      "[########################################] | 100% Completed | 57.0s\n"
     ]
    }
   ],
   "source": [
    "mc_USA_mer_2018 = float((c_mer_2018.c.sum()-c_mer_2018.c.shape[0])/(c_mer_2018.c.size-c_mer_2018.c.shape[0]))\n",
    "mc_USA_mer_gwa_2018 = float((c_mer_gwa_2018.c.sum()-c_mer_gwa_2018.c.shape[0])/(c_mer_gwa_2018.c.size-c_mer_gwa_2018.c.shape[0]))\n",
    "mc_USA_era_2018 = float((c_era_2018.c.sum()-c_era_2018.c.shape[0])/(c_era_2018.c.size-c_era_2018.c.shape[0]))\n",
    "mc_USA_era_gwa_2018 = float((c_era_gwa_2018.c.sum()-c_era_gwa_2018.c.shape[0])/(c_era_gwa_2018.c.size-c_era_gwa_2018.c.shape[0]))"
   ]
  },
  {
   "cell_type": "markdown",
   "metadata": {
    "hidden": true
   },
   "source": [
    "2017"
   ]
  },
  {
   "cell_type": "code",
   "execution_count": 28,
   "metadata": {
    "hidden": true
   },
   "outputs": [],
   "source": [
    "c_mer_2017 = xr.open_dataset('/data/users/kgruber/results/USA/results_GWA2/cor_mer_2017.nc',chunks = {'dim_0':1000})\n",
    "c_mer_gwa_2017 = xr.open_dataset('/data/users/kgruber/results/USA/results_GWA2/cor_mer_gwa_2017.nc',chunks = {'dim_0':1000})\n",
    "c_era_2017 = xr.open_dataset('/data/users/kgruber/results/USA/results_GWA2/cor_era_2017.nc',chunks = {'dim_0':1000})\n",
    "c_era_gwa_2017 = xr.open_dataset('/data/users/kgruber/results/USA/results_GWA2/cor_era_gwa_2017.nc',chunks = {'dim_0':1000})"
   ]
  },
  {
   "cell_type": "code",
   "execution_count": 29,
   "metadata": {
    "hidden": true
   },
   "outputs": [
    {
     "name": "stdout",
     "output_type": "stream",
     "text": [
      "[########################################] | 100% Completed |  0.2s\n",
      "[########################################] | 100% Completed |  1min  9.7s\n",
      "[########################################] | 100% Completed |  0.3s\n",
      "[########################################] | 100% Completed |  1min  2.3s\n"
     ]
    }
   ],
   "source": [
    "mc_USA_mer_2017 = float((c_mer_2017.c.sum()-c_mer_2017.c.shape[0])/(c_mer_2017.c.size-c_mer_2017.c.shape[0]))\n",
    "mc_USA_mer_gwa_2017 = float((c_mer_gwa_2017.c.sum()-c_mer_gwa_2017.c.shape[0])/(c_mer_gwa_2017.c.size-c_mer_gwa_2017.c.shape[0]))\n",
    "mc_USA_era_2017 = float((c_era_2017.c.sum()-c_era_2017.c.shape[0])/(c_era_2017.c.size-c_era_2017.c.shape[0]))\n",
    "mc_USA_era_gwa_2017 = float((c_era_gwa_2017.c.sum()-c_era_gwa_2017.c.shape[0])/(c_era_gwa_2017.c.size-c_era_gwa_2017.c.shape[0]))"
   ]
  },
  {
   "cell_type": "markdown",
   "metadata": {
    "hidden": true
   },
   "source": [
    "2017 + 2018"
   ]
  },
  {
   "cell_type": "code",
   "execution_count": 30,
   "metadata": {
    "hidden": true
   },
   "outputs": [],
   "source": [
    "c_mer_201718 = xr.open_dataset('/data/users/kgruber/results/USA/results_GWA2/cor_mer_2017-2018.nc',chunks = {'dim_0':1000})\n",
    "c_era_201718 = xr.open_dataset('/data/users/kgruber/results/USA/results_GWA2/cor_era_2017-2018.nc',chunks = {'dim_0':1000})"
   ]
  },
  {
   "cell_type": "code",
   "execution_count": 31,
   "metadata": {
    "hidden": true
   },
   "outputs": [
    {
     "name": "stdout",
     "output_type": "stream",
     "text": [
      "[########################################] | 100% Completed |  0.2s\n",
      "[########################################] | 100% Completed |  0.3s\n"
     ]
    }
   ],
   "source": [
    "mc_USA_mer_201718 = float((c_mer_201718.c.sum()-c_mer_201718.c.shape[0])/(c_mer_201718.c.size-c_mer_201718.c.shape[0]))\n",
    "mc_USA_era_201718 = float((c_era_201718.c.sum()-c_era_201718.c.shape[0])/(c_era_201718.c.size-c_era_201718.c.shape[0]))"
   ]
  },
  {
   "cell_type": "code",
   "execution_count": null,
   "metadata": {
    "hidden": true
   },
   "outputs": [],
   "source": []
  },
  {
   "cell_type": "markdown",
   "metadata": {
    "heading_collapsed": true
   },
   "source": [
    "### TX"
   ]
  },
  {
   "cell_type": "code",
   "execution_count": 32,
   "metadata": {
    "hidden": true
   },
   "outputs": [],
   "source": [
    "ind_TX_mer = np.where(wt_mer.state=='TX')[0]\n",
    "ind_TX_mer_gwa = np.where(wt_mer_gwa.state=='TX')[0]\n",
    "ind_TX_era = np.where(wt_era.state=='TX')[0]\n",
    "ind_TX_era_gwa = np.where(wt_era_gwa.state=='TX')[0]"
   ]
  },
  {
   "cell_type": "markdown",
   "metadata": {
    "hidden": true
   },
   "source": [
    "2017"
   ]
  },
  {
   "cell_type": "code",
   "execution_count": 33,
   "metadata": {
    "hidden": true
   },
   "outputs": [
    {
     "name": "stdout",
     "output_type": "stream",
     "text": [
      "[########################################] | 100% Completed |  0.1s\n",
      "[########################################] | 100% Completed |  2.4s\n",
      "[########################################] | 100% Completed |  0.1s\n",
      "[########################################] | 100% Completed |  2.5s\n"
     ]
    }
   ],
   "source": [
    "mc_TX_mer_2017 = float((c_mer_2017.c[ind_TX_mer,ind_TX_mer].sum()-len(ind_TX_mer))/(len(ind_TX_mer)**2-len(ind_TX_mer)))\n",
    "mc_TX_mer_gwa_2017 = float((c_mer_gwa_2017.c[ind_TX_mer_gwa,ind_TX_mer_gwa].sum()-len(ind_TX_mer_gwa))/(len(ind_TX_mer_gwa)**2-len(ind_TX_mer_gwa)))\n",
    "mc_TX_era_2017 = float((c_era_2017.c[ind_TX_era,ind_TX_era].sum()-len(ind_TX_era))/(len(ind_TX_era)**2-len(ind_TX_era)))\n",
    "mc_TX_era_gwa_2017 = float((c_era_gwa_2017.c[ind_TX_era_gwa,ind_TX_era_gwa].sum()-len(ind_TX_era_gwa))/(len(ind_TX_era_gwa)**2-len(ind_TX_era_gwa)))"
   ]
  },
  {
   "cell_type": "markdown",
   "metadata": {
    "hidden": true
   },
   "source": [
    "2018"
   ]
  },
  {
   "cell_type": "code",
   "execution_count": 42,
   "metadata": {
    "hidden": true
   },
   "outputs": [
    {
     "name": "stdout",
     "output_type": "stream",
     "text": [
      "[########################################] | 100% Completed |  0.1s\n",
      "[########################################] | 100% Completed |  2.3s\n",
      "[########################################] | 100% Completed |  0.1s\n",
      "[########################################] | 100% Completed | 17.8s\n"
     ]
    }
   ],
   "source": [
    "mc_TX_mer_2018 = float((c_mer_2018.c[ind_TX_mer,ind_TX_mer].sum()-len(ind_TX_mer))/(len(ind_TX_mer)**2-len(ind_TX_mer)))\n",
    "mc_TX_mer_gwa_2018 = float((c_mer_gwa_2018.c[ind_TX_mer_gwa,ind_TX_mer_gwa].sum()-len(ind_TX_mer_gwa))/(len(ind_TX_mer_gwa)**2-len(ind_TX_mer_gwa)))\n",
    "mc_TX_era_2018 = float((c_era_2018.c[ind_TX_era,ind_TX_era].sum()-len(ind_TX_era))/(len(ind_TX_era)**2-len(ind_TX_era)))\n",
    "mc_TX_era_gwa_2018 = float((c_era_gwa_2018.c[ind_TX_era_gwa,ind_TX_era_gwa].sum()-len(ind_TX_era_gwa))/(len(ind_TX_era_gwa)**2-len(ind_TX_era_gwa)))"
   ]
  },
  {
   "cell_type": "markdown",
   "metadata": {
    "hidden": true
   },
   "source": [
    "2017-2018"
   ]
  },
  {
   "cell_type": "code",
   "execution_count": 43,
   "metadata": {
    "hidden": true
   },
   "outputs": [
    {
     "name": "stdout",
     "output_type": "stream",
     "text": [
      "[########################################] | 100% Completed |  0.1s\n",
      "[########################################] | 100% Completed |  0.1s\n"
     ]
    }
   ],
   "source": [
    "mc_TX_mer_201718 = float((c_mer_201718.c[ind_TX_mer,ind_TX_mer].sum()-len(ind_TX_mer))/(len(ind_TX_mer)**2-len(ind_TX_mer)))\n",
    "mc_TX_era_201718 = float((c_era_201718.c[ind_TX_era,ind_TX_era].sum()-len(ind_TX_era))/(len(ind_TX_era)**2-len(ind_TX_era)))"
   ]
  },
  {
   "cell_type": "code",
   "execution_count": null,
   "metadata": {
    "hidden": true
   },
   "outputs": [],
   "source": []
  },
  {
   "cell_type": "markdown",
   "metadata": {
    "heading_collapsed": true
   },
   "source": [
    "### IA"
   ]
  },
  {
   "cell_type": "code",
   "execution_count": 44,
   "metadata": {
    "hidden": true
   },
   "outputs": [],
   "source": [
    "ind_IA_mer = np.where(wt_mer.state=='IA')[0]\n",
    "ind_IA_mer_gwa = np.where(wt_mer_gwa.state=='IA')[0]\n",
    "ind_IA_era = np.where(wt_era.state=='IA')[0]\n",
    "ind_IA_era_gwa = np.where(wt_era_gwa.state=='IA')[0]"
   ]
  },
  {
   "cell_type": "markdown",
   "metadata": {
    "hidden": true
   },
   "source": [
    "2017"
   ]
  },
  {
   "cell_type": "code",
   "execution_count": 45,
   "metadata": {
    "hidden": true,
    "slideshow": {
     "slide_type": "slide"
    }
   },
   "outputs": [
    {
     "name": "stdout",
     "output_type": "stream",
     "text": [
      "[########################################] | 100% Completed |  0.1s\n",
      "[########################################] | 100% Completed |  6.1s\n",
      "[########################################] | 100% Completed |  0.2s\n",
      "[########################################] | 100% Completed |  6.1s\n"
     ]
    }
   ],
   "source": [
    "mc_IA_mer_2017 = float((c_mer_2017.c[ind_IA_mer,ind_IA_mer].sum()-len(ind_IA_mer))/(len(ind_IA_mer)**2-len(ind_IA_mer)))\n",
    "mc_IA_mer_gwa_2017 = float((c_mer_gwa_2017.c[ind_IA_mer_gwa,ind_IA_mer_gwa].sum()-len(ind_IA_mer_gwa))/(len(ind_IA_mer_gwa)**2-len(ind_IA_mer_gwa)))\n",
    "mc_IA_era_2017 = float((c_era_2017.c[ind_IA_era,ind_IA_era].sum()-len(ind_IA_era))/(len(ind_IA_era)**2-len(ind_IA_era)))\n",
    "mc_IA_era_gwa_2017 = float((c_era_gwa_2017.c[ind_IA_era_gwa,ind_IA_era_gwa].sum()-len(ind_IA_era_gwa))/(len(ind_IA_era_gwa)**2-len(ind_IA_era_gwa)))"
   ]
  },
  {
   "cell_type": "markdown",
   "metadata": {
    "hidden": true
   },
   "source": [
    "2018"
   ]
  },
  {
   "cell_type": "code",
   "execution_count": 46,
   "metadata": {
    "hidden": true
   },
   "outputs": [
    {
     "name": "stdout",
     "output_type": "stream",
     "text": [
      "[########################################] | 100% Completed |  0.2s\n",
      "[########################################] | 100% Completed |  7.6s\n",
      "[########################################] | 100% Completed |  0.2s\n",
      "[########################################] | 100% Completed |  6.0s\n"
     ]
    }
   ],
   "source": [
    "mc_IA_mer_2018 = float((c_mer_2018.c[ind_IA_mer,ind_IA_mer].sum()-len(ind_IA_mer))/(len(ind_IA_mer)**2-len(ind_IA_mer)))\n",
    "mc_IA_mer_gwa_2018 = float((c_mer_gwa_2018.c[ind_IA_mer_gwa,ind_IA_mer_gwa].sum()-len(ind_IA_mer_gwa))/(len(ind_IA_mer_gwa)**2-len(ind_IA_mer_gwa)))\n",
    "mc_IA_era_2018 = float((c_era_2018.c[ind_IA_era,ind_IA_era].sum()-len(ind_IA_era))/(len(ind_IA_era)**2-len(ind_IA_era)))\n",
    "mc_IA_era_gwa_2018 = float((c_era_gwa_2018.c[ind_IA_era_gwa,ind_IA_era_gwa].sum()-len(ind_IA_era_gwa))/(len(ind_IA_era_gwa)**2-len(ind_IA_era_gwa)))"
   ]
  },
  {
   "cell_type": "markdown",
   "metadata": {
    "hidden": true
   },
   "source": [
    "2017-2018"
   ]
  },
  {
   "cell_type": "code",
   "execution_count": 47,
   "metadata": {
    "hidden": true
   },
   "outputs": [
    {
     "name": "stdout",
     "output_type": "stream",
     "text": [
      "[########################################] | 100% Completed |  0.2s\n",
      "[########################################] | 100% Completed |  0.1s\n"
     ]
    }
   ],
   "source": [
    "mc_IA_mer_201718 = float((c_mer_201718.c[ind_IA_mer,ind_IA_mer].sum()-len(ind_IA_mer))/(len(ind_IA_mer)**2-len(ind_IA_mer)))\n",
    "mc_IA_era_201718 = float((c_era_201718.c[ind_IA_era,ind_IA_era].sum()-len(ind_IA_era))/(len(ind_IA_era)**2-len(ind_IA_era)))"
   ]
  },
  {
   "cell_type": "code",
   "execution_count": null,
   "metadata": {
    "hidden": true
   },
   "outputs": [],
   "source": []
  },
  {
   "cell_type": "markdown",
   "metadata": {
    "heading_collapsed": true
   },
   "source": [
    "### New England"
   ]
  },
  {
   "cell_type": "code",
   "execution_count": 48,
   "metadata": {
    "hidden": true
   },
   "outputs": [],
   "source": [
    "NE_states = ['CT','NH','ME','MA','RI','VT']"
   ]
  },
  {
   "cell_type": "code",
   "execution_count": 49,
   "metadata": {
    "hidden": true
   },
   "outputs": [],
   "source": [
    "ind_NE_mer = [state in NE_states for state in wt_mer.state]\n",
    "ind_NE_mer_gwa = [state in NE_states for state in wt_mer_gwa.state]\n",
    "ind_NE_era = [state in NE_states for state in wt_era.state]\n",
    "ind_NE_era_gwa = [state in NE_states for state in wt_era_gwa.state]"
   ]
  },
  {
   "cell_type": "markdown",
   "metadata": {
    "hidden": true
   },
   "source": [
    "2017"
   ]
  },
  {
   "cell_type": "code",
   "execution_count": 50,
   "metadata": {
    "hidden": true
   },
   "outputs": [
    {
     "name": "stdout",
     "output_type": "stream",
     "text": [
      "[########################################] | 100% Completed |  0.1s\n",
      "[########################################] | 100% Completed |  4.1s\n",
      "[########################################] | 100% Completed |  0.1s\n",
      "[########################################] | 100% Completed |  4.4s\n"
     ]
    }
   ],
   "source": [
    "mc_NE_mer_2017 = float((c_mer_2017.c[ind_NE_mer,ind_NE_mer].sum()-sum(ind_NE_mer))/(sum(ind_NE_mer)**2-sum(ind_NE_mer)))\n",
    "mc_NE_mer_gwa_2017 = float((c_mer_gwa_2017.c[ind_NE_mer_gwa,ind_NE_mer_gwa].sum()-sum(ind_NE_mer_gwa))/(sum(ind_NE_mer_gwa)**2-sum(ind_NE_mer_gwa)))\n",
    "mc_NE_era_2017 = float((c_era_2017.c[ind_NE_era,ind_NE_era].sum()-sum(ind_NE_era))/(sum(ind_NE_era)**2-sum(ind_NE_era)))\n",
    "mc_NE_era_gwa_2017 = float((c_era_gwa_2017.c[ind_NE_era_gwa,ind_NE_era_gwa].sum()-sum(ind_NE_era_gwa))/(sum(ind_NE_era_gwa)**2-sum(ind_NE_era_gwa)))"
   ]
  },
  {
   "cell_type": "markdown",
   "metadata": {
    "hidden": true
   },
   "source": [
    "2018"
   ]
  },
  {
   "cell_type": "code",
   "execution_count": 51,
   "metadata": {
    "hidden": true
   },
   "outputs": [
    {
     "name": "stdout",
     "output_type": "stream",
     "text": [
      "[########################################] | 100% Completed |  0.1s\n",
      "[########################################] | 100% Completed |  4.2s\n",
      "[########################################] | 100% Completed |  0.1s\n",
      "[########################################] | 100% Completed |  4.6s\n"
     ]
    }
   ],
   "source": [
    "mc_NE_mer_2018 = float((c_mer_2018.c[ind_NE_mer,ind_NE_mer].sum()-sum(ind_NE_mer))/(sum(ind_NE_mer)**2-sum(ind_NE_mer)))\n",
    "mc_NE_mer_gwa_2018 = float((c_mer_gwa_2018.c[ind_NE_mer_gwa,ind_NE_mer_gwa].sum()-sum(ind_NE_mer_gwa))/(sum(ind_NE_mer_gwa)**2-sum(ind_NE_mer_gwa)))\n",
    "mc_NE_era_2018 = float((c_era_2018.c[ind_NE_era,ind_NE_era].sum()-sum(ind_NE_era))/(sum(ind_NE_era)**2-sum(ind_NE_era)))\n",
    "mc_NE_era_gwa_2018 = float((c_era_gwa_2018.c[ind_NE_era_gwa,ind_NE_era_gwa].sum()-sum(ind_NE_era_gwa))/(sum(ind_NE_era_gwa)**2-sum(ind_NE_era_gwa)))"
   ]
  },
  {
   "cell_type": "markdown",
   "metadata": {
    "hidden": true
   },
   "source": [
    "2017-2018"
   ]
  },
  {
   "cell_type": "code",
   "execution_count": 52,
   "metadata": {
    "hidden": true
   },
   "outputs": [
    {
     "name": "stdout",
     "output_type": "stream",
     "text": [
      "[########################################] | 100% Completed |  0.1s\n",
      "[########################################] | 100% Completed |  0.1s\n"
     ]
    }
   ],
   "source": [
    "mc_NE_mer_201718 = float((c_mer_201718.c[ind_NE_mer,ind_NE_mer].sum()-sum(ind_NE_mer))/(sum(ind_NE_mer)**2-sum(ind_NE_mer)))\n",
    "mc_NE_era_201718 = float((c_era_201718.c[ind_NE_era,ind_NE_era].sum()-sum(ind_NE_era))/(sum(ind_NE_era)**2-sum(ind_NE_era)))"
   ]
  },
  {
   "cell_type": "code",
   "execution_count": 54,
   "metadata": {
    "hidden": true
   },
   "outputs": [
    {
     "data": {
      "text/plain": [
       "0.6036743778385457"
      ]
     },
     "execution_count": 54,
     "metadata": {},
     "output_type": "execute_result"
    }
   ],
   "source": [
    "mc_NE_mer_201718"
   ]
  },
  {
   "cell_type": "code",
   "execution_count": null,
   "metadata": {
    "hidden": true
   },
   "outputs": [],
   "source": []
  },
  {
   "cell_type": "markdown",
   "metadata": {
    "heading_collapsed": true
   },
   "source": [
    "### BPA"
   ]
  },
  {
   "cell_type": "code",
   "execution_count": 55,
   "metadata": {
    "hidden": true
   },
   "outputs": [],
   "source": [
    "# get BPA windparks\n",
    "BPA_parks = pd.read_csv(\"/data/users/kgruber/other-data/USA/BPA_windparks.csv\")\n",
    "# get windturbine locations/names\n",
    "windturbines = pd.read_csv(\"/data/users/kgruber/other-data/USA/windturbines_usa.csv\",delimiter=';')\n",
    "# get labels\n",
    "labels = pd.read_csv('/data/users/kgruber/other-data/USA/labels_turbine_data.csv')\n",
    "# get indices of BPA wind parks from wind turbine dataset\n",
    "pBPA = pd.DataFrame({'p': [park in BPA_parks.name.values for park in windturbines[windturbines.t_state!='GU'].p_name.values]})\n",
    "# remove turbines that are in other states - error in data?\n",
    "pBPA[windturbines[windturbines.t_state!='GU'].xlong.values<-125] = False\n",
    "pBPA[windturbines[windturbines.t_state!='GU'].xlong.values>-115] = False\n",
    "# find shares of BPA windparks\n",
    "BPA_mer = pBPA.groupby(labels.lbl_mer).mean()\n",
    "BPA_mer_gwa = pBPA.groupby(labels.lbl_mer_gwa).mean()\n",
    "BPA_era = pBPA.groupby(labels.lbl_era).mean()\n",
    "BPA_era_gwa = pBPA.groupby(labels.lbl_era_gwa).mean()"
   ]
  },
  {
   "cell_type": "markdown",
   "metadata": {
    "hidden": true
   },
   "source": [
    "2017"
   ]
  },
  {
   "cell_type": "code",
   "execution_count": 56,
   "metadata": {
    "hidden": true
   },
   "outputs": [],
   "source": [
    "c_mer_2017_BPA = c_mer_2017.c[np.where(BPA_mer.p>0)[0],np.where(BPA_mer.p>0)[0]] * BPA_mer.p[BPA_mer.p>0].values\n",
    "c_mer_gwa_2017_BPA = c_mer_gwa_2017.c[np.where(BPA_mer_gwa.p>0)[0],np.where(BPA_mer_gwa.p>0)[0]] * BPA_mer_gwa.p[BPA_mer_gwa.p>0].values\n",
    "c_era_2017_BPA = c_era_2017.c[np.where(BPA_era.p>0)[0],np.where(BPA_era.p>0)[0]] * BPA_era.p[BPA_era.p>0].values\n",
    "c_era_gwa_2017_BPA = c_era_gwa_2017.c[np.where(BPA_era_gwa.p>0)[0],np.where(BPA_era_gwa.p>0)[0]] * BPA_era_gwa.p[BPA_era_gwa.p>0].values"
   ]
  },
  {
   "cell_type": "code",
   "execution_count": 58,
   "metadata": {
    "hidden": true
   },
   "outputs": [
    {
     "name": "stdout",
     "output_type": "stream",
     "text": [
      "[########################################] | 100% Completed |  0.1s\n",
      "[########################################] | 100% Completed |  0.6s\n",
      "[########################################] | 100% Completed |  0.1s\n",
      "[########################################] | 100% Completed |  0.6s\n"
     ]
    }
   ],
   "source": [
    "mc_BPA_mer_2017 = float((c_mer_2017_BPA.sum()-c_mer_2017_BPA.shape[0])/(c_mer_2017_BPA.size-c_mer_2017_BPA.shape[0]))\n",
    "mc_BPA_mer_gwa_2017 = float((c_mer_gwa_2017_BPA.sum()-c_mer_gwa_2017_BPA.shape[0])/(c_mer_gwa_2017_BPA.size-c_mer_gwa_2017_BPA.shape[0]))\n",
    "mc_BPA_era_2017 = float((c_era_2017_BPA.sum()-c_era_2017_BPA.shape[0])/(c_era_2017_BPA.size-c_era_2017_BPA.shape[0]))\n",
    "mc_BPA_era_gwa_2017 = float((c_era_gwa_2017_BPA.sum()-c_era_gwa_2017_BPA.shape[0])/(c_era_gwa_2017_BPA.size-c_era_gwa_2017_BPA.shape[0]))"
   ]
  },
  {
   "cell_type": "markdown",
   "metadata": {
    "hidden": true
   },
   "source": [
    "2018"
   ]
  },
  {
   "cell_type": "code",
   "execution_count": 59,
   "metadata": {
    "hidden": true
   },
   "outputs": [],
   "source": [
    "c_mer_2018_BPA = c_mer_2018.c[np.where(BPA_mer.p>0)[0],np.where(BPA_mer.p>0)[0]] * BPA_mer.p[BPA_mer.p>0].values\n",
    "c_mer_gwa_2018_BPA = c_mer_gwa_2018.c[np.where(BPA_mer_gwa.p>0)[0],np.where(BPA_mer_gwa.p>0)[0]] * BPA_mer_gwa.p[BPA_mer_gwa.p>0].values\n",
    "c_era_2018_BPA = c_era_2018.c[np.where(BPA_era.p>0)[0],np.where(BPA_era.p>0)[0]] * BPA_era.p[BPA_era.p>0].values\n",
    "c_era_gwa_2018_BPA = c_era_gwa_2018.c[np.where(BPA_era_gwa.p>0)[0],np.where(BPA_era_gwa.p>0)[0]] * BPA_era_gwa.p[BPA_era_gwa.p>0].values"
   ]
  },
  {
   "cell_type": "code",
   "execution_count": 60,
   "metadata": {
    "hidden": true
   },
   "outputs": [
    {
     "name": "stdout",
     "output_type": "stream",
     "text": [
      "[########################################] | 100% Completed |  0.1s\n",
      "[########################################] | 100% Completed |  0.6s\n",
      "[########################################] | 100% Completed |  0.1s\n",
      "[########################################] | 100% Completed |  0.6s\n"
     ]
    }
   ],
   "source": [
    "mc_BPA_mer_2018 = float((c_mer_2018_BPA.sum()-c_mer_2018_BPA.shape[0])/(c_mer_2018_BPA.size-c_mer_2018_BPA.shape[0]))\n",
    "mc_BPA_mer_gwa_2018 = float((c_mer_gwa_2018_BPA.sum()-c_mer_gwa_2018_BPA.shape[0])/(c_mer_gwa_2018_BPA.size-c_mer_gwa_2018_BPA.shape[0]))\n",
    "mc_BPA_era_2018 = float((c_era_2018_BPA.sum()-c_era_2018_BPA.shape[0])/(c_era_2018_BPA.size-c_era_2018_BPA.shape[0]))\n",
    "mc_BPA_era_gwa_2018 = float((c_era_gwa_2018_BPA.sum()-c_era_gwa_2018_BPA.shape[0])/(c_era_gwa_2018_BPA.size-c_era_gwa_2018_BPA.shape[0]))"
   ]
  },
  {
   "cell_type": "markdown",
   "metadata": {
    "hidden": true
   },
   "source": [
    "2017-2018"
   ]
  },
  {
   "cell_type": "code",
   "execution_count": 61,
   "metadata": {
    "hidden": true
   },
   "outputs": [],
   "source": [
    "c_mer_201718_BPA = c_mer_201718.c[np.where(BPA_mer.p>0)[0],np.where(BPA_mer.p>0)[0]] * BPA_mer.p[BPA_mer.p>0].values\n",
    "c_era_201718_BPA = c_era_201718.c[np.where(BPA_era.p>0)[0],np.where(BPA_era.p>0)[0]] * BPA_era.p[BPA_era.p>0].values"
   ]
  },
  {
   "cell_type": "code",
   "execution_count": 62,
   "metadata": {
    "hidden": true
   },
   "outputs": [
    {
     "name": "stdout",
     "output_type": "stream",
     "text": [
      "[########################################] | 100% Completed |  0.1s\n",
      "[########################################] | 100% Completed |  0.1s\n"
     ]
    }
   ],
   "source": [
    "mc_BPA_mer_201718 = float((c_mer_201718_BPA.sum()-c_mer_201718_BPA.shape[0])/(c_mer_201718_BPA.size-c_mer_201718_BPA.shape[0]))\n",
    "mc_BPA_era_201718 = float((c_era_201718_BPA.sum()-c_era_201718_BPA.shape[0])/(c_era_201718_BPA.size-c_era_201718_BPA.shape[0]))"
   ]
  },
  {
   "cell_type": "code",
   "execution_count": null,
   "metadata": {
    "hidden": true
   },
   "outputs": [],
   "source": []
  },
  {
   "cell_type": "code",
   "execution_count": null,
   "metadata": {
    "hidden": true
   },
   "outputs": [],
   "source": []
  },
  {
   "cell_type": "code",
   "execution_count": null,
   "metadata": {
    "hidden": true
   },
   "outputs": [],
   "source": []
  },
  {
   "cell_type": "markdown",
   "metadata": {},
   "source": [
    "# put results together"
   ]
  },
  {
   "cell_type": "code",
   "execution_count": 64,
   "metadata": {},
   "outputs": [],
   "source": [
    "results = pd.DataFrame({'year':['2001-2018']*20 + ['2017-2018']*10 + ['2017']*20 + ['2018']*20,\n",
    "                        'dataset':['mer','mer_gwa','era','era_gwa']*5 + ['mer','era']*5 + ['mer','mer_gwa','era','era_gwa']*10,\n",
    "                        'type':['wind']*20 + ['wp']*50,\n",
    "                        'region':sum([[x] * 4 for x in ['USA','BPA','NE','TX','IA']],[]) + \n",
    "                                 sum([[x] * 2 for x in ['USA','BPA','NE','TX','IA']],[]) +\n",
    "                                 sum([[x] * 4 for x in ['USA','BPA','NE','TX','IA']],[])*2,\n",
    "                        'mean_cor':[mc_USA_mer,mc_USA_mer_gwa,mc_USA_era,mc_USA_era_gwa,\n",
    "                                    mc_BPA_mer,mc_BPA_mer_gwa,mc_BPA_era,mc_BPA_era_gwa,\n",
    "                                    mc_NE_mer,mc_NE_mer_gwa,mc_NE_era,mc_NE_era_gwa,\n",
    "                                    mc_TX_mer,mc_TX_mer_gwa,mc_TX_era,mc_TX_era_gwa,\n",
    "                                    mc_IA_mer,mc_IA_mer_gwa,mc_IA_era,mc_IA_era_gwa,\n",
    "                                    mc_USA_mer_201718,mc_USA_era_201718,\n",
    "                                    mc_BPA_mer_201718,mc_BPA_era_201718,\n",
    "                                    mc_NE_mer_201718,mc_NE_era_201718,\n",
    "                                    mc_TX_mer_201718,mc_TX_era_201718,\n",
    "                                    mc_IA_mer_201718,mc_IA_era_201718,\n",
    "                                    mc_USA_mer_2017,mc_USA_mer_gwa_2017,mc_USA_era_2017,mc_USA_era_gwa_2017,\n",
    "                                    mc_BPA_mer_2017,mc_BPA_mer_gwa_2017,mc_BPA_era_2017,mc_BPA_era_gwa_2017,\n",
    "                                    mc_NE_mer_2017,mc_NE_mer_gwa_2017,mc_NE_era_2017,mc_NE_era_gwa_2017,\n",
    "                                    mc_TX_mer_2017,mc_TX_mer_gwa_2017,mc_TX_era_2017,mc_TX_era_gwa_2017,\n",
    "                                    mc_IA_mer_2017,mc_IA_mer_gwa_2017,mc_IA_era_2017,mc_IA_era_gwa_2017,\n",
    "                                    mc_USA_mer_2018,mc_USA_mer_gwa_2018,mc_USA_era_2018,mc_USA_era_gwa_2018,\n",
    "                                    mc_BPA_mer_2018,mc_BPA_mer_gwa_2018,mc_BPA_era_2018,mc_BPA_era_gwa_2018,\n",
    "                                    mc_NE_mer_2018,mc_NE_mer_gwa_2018,mc_NE_era_2018,mc_NE_era_gwa_2018,\n",
    "                                    mc_TX_mer_2018,mc_TX_mer_gwa_2018,mc_TX_era_2018,mc_TX_era_gwa_2018,\n",
    "                                    mc_IA_mer_2018,mc_IA_mer_gwa_2018,mc_IA_era_2018,mc_IA_era_gwa_2018]})"
   ]
  },
  {
   "cell_type": "code",
   "execution_count": 259,
   "metadata": {},
   "outputs": [
    {
     "data": {
      "text/plain": [
       "<matplotlib.axes._subplots.AxesSubplot at 0x7feeaa1415c0>"
      ]
     },
     "execution_count": 259,
     "metadata": {},
     "output_type": "execute_result"
    },
    {
     "data": {
      "image/png": "[encoded data removed]",
      "text/plain": [
       "<Figure size 432x288 with 1 Axes>"
      ]
     },
     "metadata": {
      "needs_background": "light"
     },
     "output_type": "display_data"
    }
   ],
   "source": [
    "results.boxplot('mean_cor',by='region') # old with wrong BPA wind parks"
   ]
  },
  {
   "cell_type": "code",
   "execution_count": 65,
   "metadata": {},
   "outputs": [
    {
     "data": {
      "text/plain": [
       "<matplotlib.axes._subplots.AxesSubplot at 0x7fe368104208>"
      ]
     },
     "execution_count": 65,
     "metadata": {},
     "output_type": "execute_result"
    },
    {
     "data": {
      "image/png": "[encoded data removed]",
      "text/plain": [
       "<Figure size 432x288 with 1 Axes>"
      ]
     },
     "metadata": {
      "needs_background": "light"
     },
     "output_type": "display_data"
    }
   ],
   "source": [
    "results.boxplot('mean_cor',by='region')"
   ]
  },
  {
   "cell_type": "code",
   "execution_count": null,
   "metadata": {},
   "outputs": [],
   "source": []
  },
  {
   "cell_type": "code",
   "execution_count": 66,
   "metadata": {},
   "outputs": [],
   "source": [
    "results.to_csv('/data/users/kgruber/results/USA/results_GWA2/correlations_wind_regions.csv')"
   ]
  }
 ],
 "metadata": {
  "kernelspec": {
   "display_name": "Python 3",
   "language": "python",
   "name": "python3"
  },
  "language_info": {
   "codemirror_mode": {
    "name": "ipython",
    "version": 3
   },
   "file_extension": ".py",
   "mimetype": "text/x-python",
   "name": "python",
   "nbconvert_exporter": "python",
   "pygments_lexer": "ipython3",
   "version": "3.7.3"
  }
 },
 "nbformat": 4,
 "nbformat_minor": 2
}
