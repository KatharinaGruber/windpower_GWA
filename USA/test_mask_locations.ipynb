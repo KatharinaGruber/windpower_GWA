{
 "cells": [
  {
   "cell_type": "code",
   "execution_count": 1,
   "metadata": {},
   "outputs": [],
   "source": [
    "import argparse\n",
    "import datetime\n",
    "import glob\n",
    "import math\n",
    "import numpy as np\n",
    "import os\n",
    "import pandas as pd\n",
    "import rasterio\n",
    "import seaborn as sns\n",
    "import statsmodels.api as sm\n",
    "import time\n",
    "import xarray as xr\n",
    "\n",
    "import sys\n",
    "sys.path.append('../')\n",
    "\n",
    "from functools import reduce\n",
    "from matplotlib import pyplot as plt\n",
    "from scipy.interpolate import interp1d\n",
    "\n",
    "from utils import power_curve\n",
    "from utils import windpower_simulation_era5\n",
    "from utils import windpower_simulation_merra2\n",
    "\n",
    "\n",
    "from dask.diagnostics import ProgressBar\n",
    "ProgressBar().register()\n",
    "\n",
    "from paths_usa import *\n",
    "ryberg_path = \"/data/users/kgruber/other-data\""
   ]
  },
  {
   "cell_type": "code",
   "execution_count": 2,
   "metadata": {},
   "outputs": [],
   "source": [
    "wind = xr.open_mfdataset(mer_path + \"/eff_ws/merra2_wind_USA_*.nc\", chunks = {'time': 38})\n",
    "alpha = xr.open_mfdataset(mer_path + \"/eff_ws/merra2_alpha_USA_*.nc\")\n",
    "\n",
    "# without GWA\n",
    "outfile = results_path + '/windpower_stat_MERRA2.nc'\n",
    "turbine_data_mer = pd.read_csv(usa_path + '/turbine_data_mer.csv', parse_dates=['commissioning'])"
   ]
  },
  {
   "cell_type": "markdown",
   "metadata": {},
   "source": [
    "here only commissioning changed - years instead of dates"
   ]
  },
  {
   "cell_type": "code",
   "execution_count": 3,
   "metadata": {},
   "outputs": [],
   "source": [
    "t1 = datetime.datetime.now()"
   ]
  },
  {
   "cell_type": "code",
   "execution_count": 4,
   "metadata": {},
   "outputs": [],
   "source": [
    "num_loc = 1906\n",
    "hubheight = turbine_data_mer.height.values[:num_loc]\n",
    "capacity = turbine_data_mer.capacity.values[:num_loc]\n",
    "specific_pow = turbine_data_mer.sp.values[:num_loc]\n",
    "lons = turbine_data_mer.lon.values[:num_loc]\n",
    "lats = turbine_data_mer.lat.values[:num_loc]\n",
    "commissioning = pd.to_datetime(turbine_data_mer.commissioning.values).year.values[:num_loc]"
   ]
  },
  {
   "cell_type": "code",
   "execution_count": 5,
   "metadata": {},
   "outputs": [
    {
     "data": {
      "text/plain": [
       "True"
      ]
     },
     "execution_count": 5,
     "metadata": {},
     "output_type": "execute_result"
    }
   ],
   "source": [
    "type(turbine_data_mer.commissioning.values[0])==np.datetime64"
   ]
  },
  {
   "cell_type": "code",
   "execution_count": 6,
   "metadata": {},
   "outputs": [
    {
     "data": {
      "text/plain": [
       "False"
      ]
     },
     "execution_count": 6,
     "metadata": {},
     "output_type": "execute_result"
    }
   ],
   "source": [
    "type(commissioning[0])==np.int64"
   ]
  },
  {
   "cell_type": "code",
   "execution_count": 7,
   "metadata": {},
   "outputs": [
    {
     "name": "stdout",
     "output_type": "stream",
     "text": [
      "[########################################] | 100% Completed | 42.1s\n",
      "[########################################] | 100% Completed | 43.7s\n"
     ]
    }
   ],
   "source": [
    "# interpolate wind to locations of turbines\n",
    "wind50i = wind.wh50.interp(coords={\"lon\":xr.DataArray(lons,dims='location'),\n",
    "                                   \"lat\":xr.DataArray(lats,dims='location')},method=\"nearest\").compute()\n",
    "\n",
    "alphai = alpha.alpha.interp(coords={\"lon\":xr.DataArray(lons,dims='location'),\n",
    "                                    \"lat\":xr.DataArray(lats,dims='location')},method=\"nearest\").compute()\n",
    "# calculate wind at hubheight using alpha\n",
    "windhh = (wind50i * (hubheight/50)**alphai).compute()"
   ]
  },
  {
   "cell_type": "code",
   "execution_count": 8,
   "metadata": {},
   "outputs": [],
   "source": [
    "windhhg = windhh.where(windhh<=25,0)\n",
    "\n",
    "# Ryberg power curve model\n",
    "RybCoeff = pd.read_csv(ryberg_path+\"/ryberg_coeff.csv\")\n",
    "A = xr.DataArray(RybCoeff.A, dims = 'CF')\n",
    "B = xr.DataArray(RybCoeff.B, dims = 'CF')\n",
    "wp1 = power_curve(windhhg,A,B,specific_pow,len(windhhg.location))\n",
    "\n",
    "# multiply with installed capacity\n",
    "wp2 = capacity*wp1/100"
   ]
  },
  {
   "cell_type": "raw",
   "metadata": {},
   "source": [
    "%timeit timespans = [list(np.arange(np.datetime64(str(y)+'-01-01 00:00:00'),np.datetime64(str(y)+'-12-31 23:00:00'))) for y in commissioning]\n",
    "# about 13 s"
   ]
  },
  {
   "cell_type": "raw",
   "metadata": {},
   "source": [
    "%timeit timespans = [np.array(pd.date_range(pd.to_datetime(str(y)+'-01-01 00:00:00'),pd.to_datetime(str(y)+'-12-31 23:00:00'),freq='H')) for y in commissioning]\n",
    "# about 3 ms"
   ]
  },
  {
   "cell_type": "markdown",
   "metadata": {},
   "source": [
    "-> use pandas date range"
   ]
  },
  {
   "cell_type": "markdown",
   "metadata": {},
   "source": [
    "### this part is new"
   ]
  },
  {
   "cell_type": "code",
   "execution_count": 9,
   "metadata": {},
   "outputs": [],
   "source": [
    "timespans = [np.array(pd.date_range(pd.to_datetime(str(y)+'-01-01 00:00:00'),pd.to_datetime(str(y)+'-12-31 23:00:00'),freq='H')) for y in commissioning]\n",
    "locs = np.concatenate([np.array([wp2.location.values[i]]*len(timespans[i])) for i in range(len(timespans))])\n",
    "timespans = np.concatenate(timespans)"
   ]
  },
  {
   "cell_type": "code",
   "execution_count": 10,
   "metadata": {},
   "outputs": [],
   "source": [
    "# make sure there are no indices before or after wind time series\n",
    "locs_s = np.array(locs)[(timespans>=wp2.time[0].values)&(timespans<=wp2.time[-1].values)]\n",
    "timespans_s = np.array(timespans)[(timespans>=wp2.time[0].values)&(timespans<=wp2.time[-1].values)]"
   ]
  },
  {
   "cell_type": "code",
   "execution_count": 11,
   "metadata": {},
   "outputs": [
    {
     "data": {
      "text/plain": [
       "numpy.datetime64('2000-12-01T00:00:00.000000000')"
      ]
     },
     "execution_count": 11,
     "metadata": {},
     "output_type": "execute_result"
    }
   ],
   "source": [
    "timespans_s.min()"
   ]
  },
  {
   "cell_type": "code",
   "execution_count": 12,
   "metadata": {},
   "outputs": [
    {
     "data": {
      "text/plain": [
       "numpy.datetime64('2018-12-31T23:00:00.000000000')"
      ]
     },
     "execution_count": 12,
     "metadata": {},
     "output_type": "execute_result"
    }
   ],
   "source": [
    "timespans_s.max()"
   ]
  },
  {
   "cell_type": "code",
   "execution_count": 13,
   "metadata": {},
   "outputs": [],
   "source": [
    "wind_com_years = wp2.loc[{'location':xr.DataArray(locs_s,dims='cy'),\n",
    "                          'time':xr.DataArray(timespans_s,dims='cy')}]"
   ]
  },
  {
   "cell_type": "code",
   "execution_count": 14,
   "metadata": {},
   "outputs": [],
   "source": [
    "fact = np.concatenate([np.arange(1,x+1)/x for x in np.unique(locs_s, return_counts=True)[1]])"
   ]
  },
  {
   "cell_type": "code",
   "execution_count": 15,
   "metadata": {},
   "outputs": [],
   "source": [
    "# insert the gradually increasing capacities\n",
    "wp2.loc[{'location':xr.DataArray(locs_s,dims='cy'),\n",
    "         'time':xr.DataArray(timespans_s,dims='cy')}] = wind_com_years * fact"
   ]
  },
  {
   "cell_type": "code",
   "execution_count": 16,
   "metadata": {},
   "outputs": [],
   "source": [
    "# create commissioning dates and set those before beginning of time series to beginning of time series\n",
    "comdate = np.array([np.datetime64(str(y)+'-01-01 00:00:00') for y in commissioning])\n",
    "comdate[comdate<wp2.time.values[0]] = wp2.time.values[0]"
   ]
  },
  {
   "cell_type": "markdown",
   "metadata": {},
   "source": [
    "this is the end of the new part - only the commissioning changed to comdate in the next line"
   ]
  },
  {
   "cell_type": "code",
   "execution_count": 17,
   "metadata": {},
   "outputs": [],
   "source": [
    "# make wind power generation increase to full capacity in commissioning year\n",
    "wp3 =  wp2.where(wp2.time >= xr.DataArray(comdate,coords={'location':range(len(commissioning))},dims='location'), 0).compute()"
   ]
  },
  {
   "cell_type": "code",
   "execution_count": 18,
   "metadata": {},
   "outputs": [],
   "source": [
    "t2 = datetime.datetime.now()"
   ]
  },
  {
   "cell_type": "code",
   "execution_count": 19,
   "metadata": {},
   "outputs": [
    {
     "data": {
      "text/plain": [
       "datetime.timedelta(seconds=154, microseconds=225251)"
      ]
     },
     "execution_count": 19,
     "metadata": {},
     "output_type": "execute_result"
    }
   ],
   "source": [
    "t2 -t1"
   ]
  },
  {
   "cell_type": "code",
   "execution_count": 20,
   "metadata": {},
   "outputs": [
    {
     "data": {
      "text/plain": [
       "2.566666666666667"
      ]
     },
     "execution_count": 20,
     "metadata": {},
     "output_type": "execute_result"
    }
   ],
   "source": [
    "154/60"
   ]
  },
  {
   "cell_type": "code",
   "execution_count": 18,
   "metadata": {},
   "outputs": [
    {
     "name": "stderr",
     "output_type": "stream",
     "text": [
      "/home/kgruber/.conda/envs/py37/lib/python3.7/site-packages/xarray/core/groupby.py:639: FutureWarning: Default reduction dimension will be changed to the grouped dimension in a future version of xarray. To silence this warning, pass dim=xarray.ALL_DIMS explicitly.\n",
      "  skipna=skipna, allow_lazy=True, **kwargs)\n"
     ]
    },
    {
     "data": {
      "text/plain": [
       "[<matplotlib.lines.Line2D at 0x7f6812596fd0>]"
      ]
     },
     "execution_count": 18,
     "metadata": {},
     "output_type": "execute_result"
    },
    {
     "data": {
      "image/png": "[encoded data removed]",
      "text/plain": [
       "<Figure size 432x288 with 1 Axes>"
      ]
     },
     "metadata": {
      "needs_background": "light"
     },
     "output_type": "display_data"
    }
   ],
   "source": [
    "wp3.resample(time='M').sum().plot(hue='location')"
   ]
  }
 ],
 "metadata": {
  "kernelspec": {
   "display_name": "Python [conda env:.conda-py37]",
   "language": "python",
   "name": "conda-env-.conda-py37-py"
  },
  "language_info": {
   "codemirror_mode": {
    "name": "ipython",
    "version": 3
   },
   "file_extension": ".py",
   "mimetype": "text/x-python",
   "name": "python",
   "nbconvert_exporter": "python",
   "pygments_lexer": "ipython3",
   "version": "3.7.3"
  }
 },
 "nbformat": 4,
 "nbformat_minor": 2
}
