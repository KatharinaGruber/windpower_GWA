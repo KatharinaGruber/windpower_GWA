{
 "cells": [
  {
   "cell_type": "code",
   "execution_count": 2,
   "metadata": {},
   "outputs": [],
   "source": [
    "import pandas as pd\n",
    "import sys\n",
    "from paths_usa import *\n",
    "import seaborn as sns\n",
    "sys.path.append('./..')\n",
    "from refuelplot import *\n",
    "setup()"
   ]
  },
  {
   "cell_type": "code",
   "execution_count": 44,
   "metadata": {},
   "outputs": [],
   "source": [
    "res_BPAh = pd.read_csv(results_path + '/stats_BPAh.csv',index_col=0)\n",
    "res_BPAd = pd.read_csv(results_path + '/stats_BPAd.csv',index_col=0)\n",
    "res_BPAm = pd.read_csv(results_path + '/stats_BPAm.csv',index_col=0)\n",
    "res_NEm = pd.read_csv(results_path + '/stats_NEm.csv',index_col=0)\n",
    "res_regionsm = pd.read_csv(results_path + '/stats_regionsm.csv',index_col=[0,1])\n",
    "res_statesm = pd.read_csv(results_path + '/stats_statesm.csv',index_col=[0,1])\n",
    "res_TXh = pd.read_csv(results_path + '/stats_TXh.csv',index_col=0)\n",
    "res_TXd = pd.read_csv(results_path + '/stats_TXd.csv',index_col=0)\n",
    "res_USAm = pd.read_csv(results_path + '/stats_USAm.csv',index_col=0)\n",
    "\n",
    "res_BPAh.index = pd.MultiIndex.from_product([['BPA'],['h'],res_BPAh.index.values], names=['region','time','param'])\n",
    "res_BPAd.index = pd.MultiIndex.from_product([['BPA'],['d'],res_BPAd.index.values], names=['region','time','param'])\n",
    "res_BPAm.index = pd.MultiIndex.from_product([['BPA'],['m'],res_BPAm.index.values], names=['region','time','param'])\n",
    "res_NEm.index = pd.MultiIndex.from_product([['NE'],['m'],res_NEm.index.values], names=['region','time','param'])\n",
    "res_regionsm.index = pd.MultiIndex.from_arrays([res_regionsm.index.get_level_values(0).values,['m']*len(res_regionsm),\n",
    "                                                res_regionsm.index.get_level_values(1).values], names=['region','time','param'])\n",
    "res_statesm.index = pd.MultiIndex.from_arrays([res_statesm.index.get_level_values(0).values,['m']*len(res_statesm),\n",
    "                                               res_statesm.index.get_level_values(1).values], names=['region','time','param'])\n",
    "res_TXh.index = pd.MultiIndex.from_product([['TX'],['h'],res_TXh.index.values], names=['region','time','param'])\n",
    "res_TXd.index = pd.MultiIndex.from_product([['TX'],['d'],res_TXd.index.values], names=['region','time','param'])\n",
    "res_USAm.index = pd.MultiIndex.from_product([['USA'],['m'],res_USAm.index.values], names=['region','time','param'])\n",
    "\n",
    "res_2000 = pd.concat([res_BPAh,res_BPAd,res_BPAm,\n",
    "                      res_NEm,res_regionsm,res_statesm,\n",
    "                      res_TXh,res_TXd,res_USAm],axis=0)"
   ]
  },
  {
   "cell_type": "code",
   "execution_count": 46,
   "metadata": {},
   "outputs": [],
   "source": [
    "res_BPAh = pd.read_csv(results_path + '/stats_BPAh2010.csv',index_col=0)\n",
    "res_BPAd = pd.read_csv(results_path + '/stats_BPAd2010.csv',index_col=0)\n",
    "res_BPAm = pd.read_csv(results_path + '/stats_BPAm2010.csv',index_col=0)\n",
    "res_NEm = pd.read_csv(results_path + '/stats_NEm2010.csv',index_col=0)\n",
    "res_regionsm = pd.read_csv(results_path + '/stats_regionsm2010.csv',index_col=[0,1])\n",
    "res_statesm = pd.read_csv(results_path + '/stats_statesm2010.csv',index_col=[0,1])\n",
    "res_TXh = pd.read_csv(results_path + '/stats_TXh2010.csv',index_col=0)\n",
    "res_TXd = pd.read_csv(results_path + '/stats_TXd2010.csv',index_col=0)\n",
    "res_USAm = pd.read_csv(results_path + '/stats_USAm2010.csv',index_col=0)\n",
    "\n",
    "res_BPAh.index = pd.MultiIndex.from_product([['BPA'],['h'],res_BPAh.index.values], names=['region','time','param'])\n",
    "res_BPAd.index = pd.MultiIndex.from_product([['BPA'],['d'],res_BPAd.index.values], names=['region','time','param'])\n",
    "res_BPAm.index = pd.MultiIndex.from_product([['BPA'],['m'],res_BPAm.index.values], names=['region','time','param'])\n",
    "res_NEm.index = pd.MultiIndex.from_product([['NE'],['m'],res_NEm.index.values], names=['region','time','param'])\n",
    "res_regionsm.index = pd.MultiIndex.from_arrays([res_regionsm.index.get_level_values(0).values,['m']*len(res_regionsm),\n",
    "                                                res_regionsm.index.get_level_values(1).values], names=['region','time','param'])\n",
    "res_statesm.index = pd.MultiIndex.from_arrays([res_statesm.index.get_level_values(0).values,['m']*len(res_statesm),\n",
    "                                               res_statesm.index.get_level_values(1).values], names=['region','time','param'])\n",
    "res_TXh.index = pd.MultiIndex.from_product([['TX'],['h'],res_TXh.index.values], names=['region','time','param'])\n",
    "res_TXd.index = pd.MultiIndex.from_product([['TX'],['d'],res_TXd.index.values], names=['region','time','param'])\n",
    "res_USAm.index = pd.MultiIndex.from_product([['USA'],['m'],res_USAm.index.values], names=['region','time','param'])\n",
    "\n",
    "res_2010 = pd.concat([res_BPAh,res_BPAd,res_BPAm,\n",
    "                      res_NEm,res_regionsm,res_statesm,\n",
    "                      res_TXh,res_TXd,res_USAm],axis=0)"
   ]
  },
  {
   "cell_type": "code",
   "execution_count": 63,
   "metadata": {},
   "outputs": [
    {
     "data": {
      "text/plain": [
       "<matplotlib.axes._subplots.AxesSubplot at 0x7f9cb59b2080>"
      ]
     },
     "execution_count": 63,
     "metadata": {},
     "output_type": "execute_result"
    },
    {
     "data": {
      "image/png": "[encoded data removed]",
      "text/plain": [
       "<Figure size 432x288 with 1 Axes>"
      ]
     },
     "metadata": {
      "needs_background": "light"
     },
     "output_type": "display_data"
    }
   ],
   "source": [
    "res_2000[res_2000.index.get_level_values(2)=='cor'].drop('obs',axis=1).boxplot()"
   ]
  },
  {
   "cell_type": "code",
   "execution_count": 67,
   "metadata": {},
   "outputs": [
    {
     "data": {
      "text/plain": [
       "<matplotlib.axes._subplots.AxesSubplot at 0x7f9cb58a60f0>"
      ]
     },
     "execution_count": 67,
     "metadata": {},
     "output_type": "execute_result"
    },
    {
     "data": {
      "image/png": "[encoded data removed]",
      "text/plain": [
       "<Figure size 432x288 with 1 Axes>"
      ]
     },
     "metadata": {
      "needs_background": "light"
     },
     "output_type": "display_data"
    }
   ],
   "source": [
    "res_2010[res_2010.index.get_level_values(2)=='cor'].drop('obs',axis=1).boxplot()"
   ]
  },
  {
   "cell_type": "code",
   "execution_count": 69,
   "metadata": {},
   "outputs": [
    {
     "data": {
      "text/html": [
       "<div>\n",
       "<style scoped>\n",
       "    .dataframe tbody tr th:only-of-type {\n",
       "        vertical-align: middle;\n",
       "    }\n",
       "\n",
       "    .dataframe tbody tr th {\n",
       "        vertical-align: top;\n",
       "    }\n",
       "\n",
       "    .dataframe thead th {\n",
       "        text-align: right;\n",
       "    }\n",
       "</style>\n",
       "<table border=\"1\" class=\"dataframe\">\n",
       "  <thead>\n",
       "    <tr style=\"text-align: right;\">\n",
       "      <th></th>\n",
       "      <th></th>\n",
       "      <th></th>\n",
       "      <th>ERA5</th>\n",
       "      <th>ERA5_GWA</th>\n",
       "      <th>MERRA2</th>\n",
       "      <th>MERRA2_GWA</th>\n",
       "      <th>obs</th>\n",
       "    </tr>\n",
       "    <tr>\n",
       "      <th>region</th>\n",
       "      <th>time</th>\n",
       "      <th>param</th>\n",
       "      <th></th>\n",
       "      <th></th>\n",
       "      <th></th>\n",
       "      <th></th>\n",
       "      <th></th>\n",
       "    </tr>\n",
       "  </thead>\n",
       "  <tbody>\n",
       "    <tr>\n",
       "      <th rowspan=\"5\" valign=\"top\">BPA</th>\n",
       "      <th rowspan=\"4\" valign=\"top\">h</th>\n",
       "      <th>cor</th>\n",
       "      <td>0.864390</td>\n",
       "      <td>0.918197</td>\n",
       "      <td>0.701297</td>\n",
       "      <td>0.729970</td>\n",
       "      <td>NaN</td>\n",
       "    </tr>\n",
       "    <tr>\n",
       "      <th>rmse</th>\n",
       "      <td>0.145591</td>\n",
       "      <td>0.224495</td>\n",
       "      <td>0.205521</td>\n",
       "      <td>0.280289</td>\n",
       "      <td>NaN</td>\n",
       "    </tr>\n",
       "    <tr>\n",
       "      <th>mbe</th>\n",
       "      <td>-0.081020</td>\n",
       "      <td>0.159752</td>\n",
       "      <td>0.058118</td>\n",
       "      <td>0.182544</td>\n",
       "      <td>NaN</td>\n",
       "    </tr>\n",
       "    <tr>\n",
       "      <th>avg</th>\n",
       "      <td>0.151407</td>\n",
       "      <td>0.392179</td>\n",
       "      <td>0.290544</td>\n",
       "      <td>0.414970</td>\n",
       "      <td>0.232427</td>\n",
       "    </tr>\n",
       "    <tr>\n",
       "      <th>d</th>\n",
       "      <th>cor</th>\n",
       "      <td>0.891759</td>\n",
       "      <td>0.944796</td>\n",
       "      <td>0.722379</td>\n",
       "      <td>0.770650</td>\n",
       "      <td>NaN</td>\n",
       "    </tr>\n",
       "  </tbody>\n",
       "</table>\n",
       "</div>"
      ],
      "text/plain": [
       "                       ERA5  ERA5_GWA    MERRA2  MERRA2_GWA       obs\n",
       "region time param                                                    \n",
       "BPA    h    cor    0.864390  0.918197  0.701297    0.729970       NaN\n",
       "            rmse   0.145591  0.224495  0.205521    0.280289       NaN\n",
       "            mbe   -0.081020  0.159752  0.058118    0.182544       NaN\n",
       "            avg    0.151407  0.392179  0.290544    0.414970  0.232427\n",
       "       d    cor    0.891759  0.944796  0.722379    0.770650       NaN"
      ]
     },
     "execution_count": 69,
     "metadata": {},
     "output_type": "execute_result"
    }
   ],
   "source": [
    "res_2000.head()"
   ]
  },
  {
   "cell_type": "code",
   "execution_count": 70,
   "metadata": {},
   "outputs": [
    {
     "data": {
      "image/png": "[encoded data removed]",
      "text/plain": [
       "<Figure size 576x432 with 1 Axes>"
      ]
     },
     "metadata": {
      "needs_background": "light"
     },
     "output_type": "display_data"
    }
   ],
   "source": [
    "bp1 = res_2000.loc[(slice(None),slice(None),'cor'),:].reset_index().melt(id_vars = 'region',\n",
    "                                                            value_vars = ['ERA5','ERA5_GWA','MERRA2','MERRA2_GWA'],\n",
    "                                                            var_name='type',value_name='cor_CF')\n",
    "bp1['timespan'] = '2000-2019'\n",
    "bp2 = res_2010.loc[(slice(None),slice(None),'cor'),:].reset_index().melt(id_vars = 'region',\n",
    "                                                             value_vars = ['ERA5','ERA5_GWA','MERRA2','MERRA2_GWA'],\n",
    "                                                             var_name='type',value_name='cor_CF')\n",
    "bp2['timespan'] = '2010-2019'\n",
    "bp = pd.concat([bp1,bp2])\n",
    "#plt.figure(figsize=(12,8))\n",
    "plt.figure(figsize=(8,6))\n",
    "ax = sns.boxplot(x='type',y='cor_CF',hue='timespan',data=bp,linewidth=3)\n",
    "plt.ylim(0,1)\n",
    "fig = ax.get_figure()\n",
    "#fig.savefig(results_path+'/plots/BRA_states_m.png')"
   ]
  },
  {
   "cell_type": "code",
   "execution_count": 71,
   "metadata": {},
   "outputs": [
    {
     "data": {
      "image/png": "[encoded data removed]",
      "text/plain": [
       "<Figure size 576x432 with 1 Axes>"
      ]
     },
     "metadata": {
      "needs_background": "light"
     },
     "output_type": "display_data"
    }
   ],
   "source": [
    "bp1 = res_2000.loc[(slice(None),slice(None),'rmse'),:].reset_index().melt(id_vars = 'region',\n",
    "                                                            value_vars = ['ERA5','ERA5_GWA','MERRA2','MERRA2_GWA'],\n",
    "                                                            var_name='type',value_name='rmse_CF')\n",
    "bp1['timespan'] = '2000-2019'\n",
    "bp2 = res_2010.loc[(slice(None),slice(None),'rmse'),:].reset_index().melt(id_vars = 'region',\n",
    "                                                             value_vars = ['ERA5','ERA5_GWA','MERRA2','MERRA2_GWA'],\n",
    "                                                             var_name='type',value_name='rmse_CF')\n",
    "bp2['timespan'] = '2010-2019'\n",
    "bp = pd.concat([bp1,bp2])\n",
    "#plt.figure(figsize=(12,8))\n",
    "plt.figure(figsize=(8,6))\n",
    "ax = sns.boxplot(x='type',y='rmse_CF',hue='timespan',data=bp,linewidth=3)\n",
    "plt.ylim(0,1)\n",
    "fig = ax.get_figure()\n",
    "#fig.savefig(results_path+'/plots/BRA_states_m.png')"
   ]
  },
  {
   "cell_type": "code",
   "execution_count": 73,
   "metadata": {},
   "outputs": [
    {
     "data": {
      "image/png": "[encoded data removed]",
      "text/plain": [
       "<Figure size 576x432 with 1 Axes>"
      ]
     },
     "metadata": {
      "needs_background": "light"
     },
     "output_type": "display_data"
    }
   ],
   "source": [
    "bp1 = res_2000.loc[(slice(None),slice(None),'mbe'),:].reset_index().melt(id_vars = 'region',\n",
    "                                                            value_vars = ['ERA5','ERA5_GWA','MERRA2','MERRA2_GWA'],\n",
    "                                                            var_name='type',value_name='mbe_CF')\n",
    "bp1['timespan'] = '2000-2019'\n",
    "bp2 = res_2010.loc[(slice(None),slice(None),'mbe'),:].reset_index().melt(id_vars = 'region',\n",
    "                                                             value_vars = ['ERA5','ERA5_GWA','MERRA2','MERRA2_GWA'],\n",
    "                                                             var_name='type',value_name='mbe_CF')\n",
    "bp2['timespan'] = '2010-2019'\n",
    "bp = pd.concat([bp1,bp2])\n",
    "#plt.figure(figsize=(12,8))\n",
    "plt.figure(figsize=(8,6))\n",
    "ax = sns.boxplot(x='type',y='mbe_CF',hue='timespan',data=bp,linewidth=3)\n",
    "plt.ylim(0,1)\n",
    "fig = ax.get_figure()\n",
    "#fig.savefig(results_path+'/plots/BRA_states_m.png')"
   ]
  }
 ],
 "metadata": {
  "kernelspec": {
   "display_name": "Python [conda env:.conda-py37]",
   "language": "python",
   "name": "conda-env-.conda-py37-py"
  },
  "language_info": {
   "codemirror_mode": {
    "name": "ipython",
    "version": 3
   },
   "file_extension": ".py",
   "mimetype": "text/x-python",
   "name": "python",
   "nbconvert_exporter": "python",
   "pygments_lexer": "ipython3",
   "version": "3.7.3"
  }
 },
 "nbformat": 4,
 "nbformat_minor": 2
}
