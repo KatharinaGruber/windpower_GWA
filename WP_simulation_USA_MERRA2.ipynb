{
 "cells": [
  {
   "cell_type": "code",
   "execution_count": 1,
   "metadata": {},
   "outputs": [],
   "source": [
    "import os\n",
    "import pandas as pd\n",
    "import xarray as xr\n",
    "import numpy as np\n",
    "from matplotlib import pyplot as plt\n",
    "import datetime\n",
    "from scipy.interpolate import interp1d\n",
    "import seaborn as sns\n",
    "\n",
    "from utils import windpower_simulation_merra2"
   ]
  },
  {
   "cell_type": "code",
   "execution_count": 2,
   "metadata": {},
   "outputs": [],
   "source": [
    "from dask.diagnostics import ProgressBar\n",
    "ProgressBar().register()"
   ]
  },
  {
   "cell_type": "code",
   "execution_count": 3,
   "metadata": {},
   "outputs": [],
   "source": [
    "usa_path = \"C:/Users/KatharinaG/Documents/USA\""
   ]
  },
  {
   "cell_type": "code",
   "execution_count": 4,
   "metadata": {},
   "outputs": [],
   "source": [
    "col_refuel7 = sns.color_palette([\"#c72321\",\"#861719\",\"#f0c320\",\"#af8f19\",\"#6e9b9e\",\"#0d8085\",\"#19484c\"])\n",
    "col_refuel3 = sns.color_palette([\"#c72321\", \"#0d8085\", \"#efc220\"])\n",
    "col_refuel5 = sns.color_palette([\"#c62220\", \"#fbd7a8\", \"#7a6952\", \"#0d8085\", \"#f0c220\"])\n",
    "col_refuel10 = sns.color_palette([\"#c72321\",\"#861719\",\"#fbd7a9\",\"#ba9f7c\",\"#7a6952\",\"#6e9b9e\",\"#0d8085\",\"#19484c\",\"#f0c320\",\"#af8f19\"])\n"
   ]
  },
  {
   "cell_type": "code",
   "execution_count": 5,
   "metadata": {},
   "outputs": [],
   "source": [
    "rea_path = \"C:/Users/KatharinaG/Data/merra/USA\"\n",
    "\n",
    "chk = {\n",
    "    \"time\" : 38\n",
    "}\n",
    "data = xr.open_mfdataset(rea_path+\"/*.nc\",chunks=chk)"
   ]
  },
  {
   "cell_type": "markdown",
   "metadata": {},
   "source": [
    "load locations of wind power plants"
   ]
  },
  {
   "cell_type": "code",
   "execution_count": 6,
   "metadata": {},
   "outputs": [],
   "source": [
    "windturbines = pd.read_csv(usa_path+\"/windturbines_usa.csv\",delimiter=';') "
   ]
  },
  {
   "cell_type": "markdown",
   "metadata": {},
   "source": [
    "### Fill in missing wind park data"
   ]
  },
  {
   "cell_type": "code",
   "execution_count": 7,
   "metadata": {},
   "outputs": [],
   "source": [
    "# 0.1% of years are missing, so set them mean of commissioning years\n",
    "y = windturbines.p_year.fillna(windturbines.p_year.mean())"
   ]
  },
  {
   "cell_type": "code",
   "execution_count": 8,
   "metadata": {},
   "outputs": [],
   "source": [
    "# capacities\n",
    "cap = windturbines.t_cap.fillna(1700)"
   ]
  },
  {
   "cell_type": "code",
   "execution_count": 9,
   "metadata": {},
   "outputs": [],
   "source": [
    "# hub heights\n",
    "hh = windturbines.t_hh.fillna(80)"
   ]
  },
  {
   "cell_type": "markdown",
   "metadata": {},
   "source": [
    "make commissioning dates - only years given so use middle of year"
   ]
  },
  {
   "cell_type": "code",
   "execution_count": 10,
   "metadata": {},
   "outputs": [],
   "source": [
    "t = [np.datetime64(str(int(year))+\"-06-01T00:00:00\") for year in y]"
   ]
  },
  {
   "cell_type": "code",
   "execution_count": 11,
   "metadata": {},
   "outputs": [],
   "source": [
    "# join data making a multiindex with time and state\n",
    "time_state = tuples = tuple(zip(list(windturbines.t_state),t))\n",
    "mi = pd.MultiIndex.from_tuples(time_state, names=['state', 'time'])\n",
    "turbine_data = pd.DataFrame({'capacity':cap.values,\n",
    "                             'height':hh.values,\n",
    "                             'lon':windturbines.xlong.values,\n",
    "                             'lat':windturbines.ylat.values,\n",
    "                             'ind':range(len(cap))},index = mi)"
   ]
  },
  {
   "cell_type": "code",
   "execution_count": 12,
   "metadata": {},
   "outputs": [
    {
     "data": {
      "text/html": [
       "<div>\n",
       "<style scoped>\n",
       "    .dataframe tbody tr th:only-of-type {\n",
       "        vertical-align: middle;\n",
       "    }\n",
       "\n",
       "    .dataframe tbody tr th {\n",
       "        vertical-align: top;\n",
       "    }\n",
       "\n",
       "    .dataframe thead th {\n",
       "        text-align: right;\n",
       "    }\n",
       "</style>\n",
       "<table border=\"1\" class=\"dataframe\">\n",
       "  <thead>\n",
       "    <tr style=\"text-align: right;\">\n",
       "      <th></th>\n",
       "      <th></th>\n",
       "      <th>capacity</th>\n",
       "      <th>height</th>\n",
       "      <th>lon</th>\n",
       "      <th>lat</th>\n",
       "      <th>ind</th>\n",
       "    </tr>\n",
       "    <tr>\n",
       "      <th>state</th>\n",
       "      <th>time</th>\n",
       "      <th></th>\n",
       "      <th></th>\n",
       "      <th></th>\n",
       "      <th></th>\n",
       "      <th></th>\n",
       "    </tr>\n",
       "  </thead>\n",
       "  <tbody>\n",
       "    <tr>\n",
       "      <th rowspan=\"5\" valign=\"top\">CA</th>\n",
       "      <th>1987-06-01</th>\n",
       "      <td>95.0</td>\n",
       "      <td>80.0</td>\n",
       "      <td>-118.358871</td>\n",
       "      <td>35.084488</td>\n",
       "      <td>0</td>\n",
       "    </tr>\n",
       "    <tr>\n",
       "      <th>1987-06-01</th>\n",
       "      <td>95.0</td>\n",
       "      <td>80.0</td>\n",
       "      <td>-118.365677</td>\n",
       "      <td>35.078026</td>\n",
       "      <td>1</td>\n",
       "    </tr>\n",
       "    <tr>\n",
       "      <th>1987-06-01</th>\n",
       "      <td>95.0</td>\n",
       "      <td>80.0</td>\n",
       "      <td>-118.352242</td>\n",
       "      <td>35.088539</td>\n",
       "      <td>2</td>\n",
       "    </tr>\n",
       "    <tr>\n",
       "      <th>1987-06-01</th>\n",
       "      <td>95.0</td>\n",
       "      <td>80.0</td>\n",
       "      <td>-118.365860</td>\n",
       "      <td>35.077789</td>\n",
       "      <td>3</td>\n",
       "    </tr>\n",
       "    <tr>\n",
       "      <th>1987-06-01</th>\n",
       "      <td>95.0</td>\n",
       "      <td>80.0</td>\n",
       "      <td>-118.352470</td>\n",
       "      <td>35.088196</td>\n",
       "      <td>4</td>\n",
       "    </tr>\n",
       "  </tbody>\n",
       "</table>\n",
       "</div>"
      ],
      "text/plain": [
       "                  capacity  height         lon        lat  ind\n",
       "state time                                                    \n",
       "CA    1987-06-01      95.0    80.0 -118.358871  35.084488    0\n",
       "      1987-06-01      95.0    80.0 -118.365677  35.078026    1\n",
       "      1987-06-01      95.0    80.0 -118.352242  35.088539    2\n",
       "      1987-06-01      95.0    80.0 -118.365860  35.077789    3\n",
       "      1987-06-01      95.0    80.0 -118.352470  35.088196    4"
      ]
     },
     "execution_count": 12,
     "metadata": {},
     "output_type": "execute_result"
    }
   ],
   "source": [
    "turbine_data.head()"
   ]
  },
  {
   "cell_type": "code",
   "execution_count": 13,
   "metadata": {},
   "outputs": [
    {
     "data": {
      "text/plain": [
       "[<matplotlib.lines.Line2D at 0x1a9a5468978>]"
      ]
     },
     "execution_count": 13,
     "metadata": {},
     "output_type": "execute_result"
    },
    {
     "data": {
      "image/png": "[encoded data removed]",
      "text/plain": [
       "<Figure size 432x288 with 1 Axes>"
      ]
     },
     "metadata": {
      "needs_background": "light"
     },
     "output_type": "display_data"
    }
   ],
   "source": [
    "plt.plot(windturbines.groupby(windturbines.p_year).sum().p_cap.cumsum())"
   ]
  },
  {
   "cell_type": "markdown",
   "metadata": {},
   "source": [
    "# Simulate wind power per state"
   ]
  },
  {
   "cell_type": "code",
   "execution_count": 22,
   "metadata": {},
   "outputs": [
    {
     "name": "stdout",
     "output_type": "stream",
     "text": [
      "WV\n"
     ]
    },
    {
     "name": "stderr",
     "output_type": "stream",
     "text": [
      "C:\\Users\\KatharinaG\\AppData\\Local\\Continuum\\anaconda3\\envs\\py37\\lib\\site-packages\\dask\\array\\blockwise.py:210: UserWarning: The da.atop function has moved to da.blockwise\n",
      "  warnings.warn(\"The da.atop function has moved to da.blockwise\")\n"
     ]
    },
    {
     "name": "stdout",
     "output_type": "stream",
     "text": [
      "[                                        ] | 0% Completed |  3.8s"
     ]
    },
    {
     "name": "stderr",
     "output_type": "stream",
     "text": [
      "C:\\Users\\KatharinaG\\AppData\\Local\\Continuum\\anaconda3\\envs\\py37\\lib\\site-packages\\scipy\\interpolate\\interpolate.py:2514: FutureWarning: Using a non-tuple sequence for multidimensional indexing is deprecated; use `arr[tuple(seq)]` instead of `arr[seq]`. In the future this will be interpreted as an array index, `arr[np.array(seq)]`, which will result either in an error or a different result.\n",
      "  return self.values[idx_res]\n"
     ]
    },
    {
     "name": "stdout",
     "output_type": "stream",
     "text": [
      "[########################################] | 100% Completed | 37min 31.8s\n",
      "WY\n"
     ]
    },
    {
     "name": "stderr",
     "output_type": "stream",
     "text": [
      "C:\\Users\\KatharinaG\\AppData\\Local\\Continuum\\anaconda3\\envs\\py37\\lib\\site-packages\\dask\\array\\blockwise.py:210: UserWarning: The da.atop function has moved to da.blockwise\n",
      "  warnings.warn(\"The da.atop function has moved to da.blockwise\")\n"
     ]
    },
    {
     "name": "stdout",
     "output_type": "stream",
     "text": [
      "[                                        ] | 0% Completed |  3.6s"
     ]
    },
    {
     "name": "stderr",
     "output_type": "stream",
     "text": [
      "C:\\Users\\KatharinaG\\AppData\\Local\\Continuum\\anaconda3\\envs\\py37\\lib\\site-packages\\scipy\\interpolate\\interpolate.py:2514: FutureWarning: Using a non-tuple sequence for multidimensional indexing is deprecated; use `arr[tuple(seq)]` instead of `arr[seq]`. In the future this will be interpreted as an array index, `arr[np.array(seq)]`, which will result either in an error or a different result.\n",
      "  return self.values[idx_res]\n"
     ]
    },
    {
     "name": "stdout",
     "output_type": "stream",
     "text": [
      "[########################################] | 100% Completed | 37min 45.8s\n"
     ]
    }
   ],
   "source": [
    "for state in turbine_data.index.levels[0].values[-2:]:\n",
    "    print(state)\n",
    "    ind = turbine_data.xs(state).ind.values\n",
    "    wps = windpower_simulation_merra2(data,\n",
    "                                    turbine_data.height[ind].values,\n",
    "                                    turbine_data.capacity[ind].values,\n",
    "                                    turbine_data.lon[ind].values,\n",
    "                                    turbine_data.lat[ind].values,\n",
    "                                    turbine_data.iloc[ind].index.get_level_values(level=1).values)\n",
    "    # save as netcdf\n",
    "    wps.to_dataset(name='wp').to_netcdf(usa_path+\"/results/windpower_\"+state+\"_MERRA2.nc\")"
   ]
  },
  {
   "cell_type": "markdown",
   "metadata": {},
   "source": [
    "# Simulate wind power per state with GWA"
   ]
  },
  {
   "cell_type": "code",
   "execution_count": 14,
   "metadata": {},
   "outputs": [],
   "source": [
    "GWA_USA = xr.open_rasterio(usa_path+'/GWA/GWA_USA50m.tif')"
   ]
  },
  {
   "cell_type": "code",
   "execution_count": 15,
   "metadata": {},
   "outputs": [],
   "source": [
    "# three regions are not included in the continental USA region: Alaska, Haitii and Puerto Rico\n",
    "GWA_AK = xr.open_rasterio(usa_path+'/GWA/GWA_AK50m.tif')\n",
    "GWA_HI = xr.open_rasterio(usa_path+'/GWA/GWA_HI50m.tif')\n",
    "GWA_PR = xr.open_rasterio(usa_path+'/GWA/GWA_PR50m.tif')"
   ]
  },
  {
   "cell_type": "code",
   "execution_count": 17,
   "metadata": {},
   "outputs": [
    {
     "name": "stdout",
     "output_type": "stream",
     "text": [
      "AK\n"
     ]
    },
    {
     "name": "stderr",
     "output_type": "stream",
     "text": [
      "C:\\Users\\KatharinaG\\AppData\\Local\\Continuum\\anaconda3\\envs\\py37\\lib\\site-packages\\xarray\\backends\\rasterio_.py:122: RuntimeWarning: invalid value encountered in greater\n",
      "  out = riods.read(band_key, window=window)\n",
      "C:\\Users\\KatharinaG\\AppData\\Local\\Continuum\\anaconda3\\envs\\py37\\lib\\site-packages\\xarray\\backends\\rasterio_.py:122: RuntimeWarning: invalid value encountered in less\n",
      "  out = riods.read(band_key, window=window)\n",
      "C:\\Users\\KatharinaG\\AppData\\Local\\Continuum\\anaconda3\\envs\\py37\\lib\\site-packages\\scipy\\interpolate\\interpolate.py:2514: FutureWarning: Using a non-tuple sequence for multidimensional indexing is deprecated; use `arr[tuple(seq)]` instead of `arr[seq]`. In the future this will be interpreted as an array index, `arr[np.array(seq)]`, which will result either in an error or a different result.\n",
      "  return self.values[idx_res]\n",
      "C:\\Users\\KatharinaG\\AppData\\Local\\Continuum\\anaconda3\\envs\\py37\\lib\\site-packages\\dask\\array\\blockwise.py:210: UserWarning: The da.atop function has moved to da.blockwise\n",
      "  warnings.warn(\"The da.atop function has moved to da.blockwise\")\n"
     ]
    },
    {
     "name": "stdout",
     "output_type": "stream",
     "text": [
      "[                                        ] | 0% Completed |  4.2s"
     ]
    },
    {
     "name": "stderr",
     "output_type": "stream",
     "text": [
      "C:\\Users\\KatharinaG\\AppData\\Local\\Continuum\\anaconda3\\envs\\py37\\lib\\site-packages\\scipy\\interpolate\\interpolate.py:2514: FutureWarning: Using a non-tuple sequence for multidimensional indexing is deprecated; use `arr[tuple(seq)]` instead of `arr[seq]`. In the future this will be interpreted as an array index, `arr[np.array(seq)]`, which will result either in an error or a different result.\n",
      "  return self.values[idx_res]\n"
     ]
    },
    {
     "name": "stdout",
     "output_type": "stream",
     "text": [
      "[########################################] | 100% Completed | 37min 47.2s\n",
      "AR\n"
     ]
    },
    {
     "name": "stderr",
     "output_type": "stream",
     "text": [
      "C:\\Users\\KatharinaG\\AppData\\Local\\Continuum\\anaconda3\\envs\\py37\\lib\\site-packages\\scipy\\interpolate\\interpolate.py:2514: FutureWarning: Using a non-tuple sequence for multidimensional indexing is deprecated; use `arr[tuple(seq)]` instead of `arr[seq]`. In the future this will be interpreted as an array index, `arr[np.array(seq)]`, which will result either in an error or a different result.\n",
      "  return self.values[idx_res]\n",
      "C:\\Users\\KatharinaG\\AppData\\Local\\Continuum\\anaconda3\\envs\\py37\\lib\\site-packages\\dask\\array\\blockwise.py:210: UserWarning: The da.atop function has moved to da.blockwise\n",
      "  warnings.warn(\"The da.atop function has moved to da.blockwise\")\n"
     ]
    },
    {
     "name": "stdout",
     "output_type": "stream",
     "text": [
      "[                                        ] | 0% Completed |  3.8s"
     ]
    },
    {
     "name": "stderr",
     "output_type": "stream",
     "text": [
      "C:\\Users\\KatharinaG\\AppData\\Local\\Continuum\\anaconda3\\envs\\py37\\lib\\site-packages\\scipy\\interpolate\\interpolate.py:2514: FutureWarning: Using a non-tuple sequence for multidimensional indexing is deprecated; use `arr[tuple(seq)]` instead of `arr[seq]`. In the future this will be interpreted as an array index, `arr[np.array(seq)]`, which will result either in an error or a different result.\n",
      "  return self.values[idx_res]\n"
     ]
    },
    {
     "name": "stdout",
     "output_type": "stream",
     "text": [
      "[########################################] | 100% Completed | 37min  7.8s\n",
      "AZ\n"
     ]
    },
    {
     "name": "stderr",
     "output_type": "stream",
     "text": [
      "C:\\Users\\KatharinaG\\AppData\\Local\\Continuum\\anaconda3\\envs\\py37\\lib\\site-packages\\scipy\\interpolate\\interpolate.py:2514: FutureWarning: Using a non-tuple sequence for multidimensional indexing is deprecated; use `arr[tuple(seq)]` instead of `arr[seq]`. In the future this will be interpreted as an array index, `arr[np.array(seq)]`, which will result either in an error or a different result.\n",
      "  return self.values[idx_res]\n",
      "C:\\Users\\KatharinaG\\AppData\\Local\\Continuum\\anaconda3\\envs\\py37\\lib\\site-packages\\dask\\array\\blockwise.py:210: UserWarning: The da.atop function has moved to da.blockwise\n",
      "  warnings.warn(\"The da.atop function has moved to da.blockwise\")\n"
     ]
    },
    {
     "name": "stdout",
     "output_type": "stream",
     "text": [
      "[                                        ] | 0% Completed |  4.1s"
     ]
    },
    {
     "name": "stderr",
     "output_type": "stream",
     "text": [
      "C:\\Users\\KatharinaG\\AppData\\Local\\Continuum\\anaconda3\\envs\\py37\\lib\\site-packages\\scipy\\interpolate\\interpolate.py:2514: FutureWarning: Using a non-tuple sequence for multidimensional indexing is deprecated; use `arr[tuple(seq)]` instead of `arr[seq]`. In the future this will be interpreted as an array index, `arr[np.array(seq)]`, which will result either in an error or a different result.\n",
      "  return self.values[idx_res]\n"
     ]
    },
    {
     "name": "stdout",
     "output_type": "stream",
     "text": [
      "[########################################] | 100% Completed | 37min 14.7s\n",
      "CA\n"
     ]
    },
    {
     "name": "stderr",
     "output_type": "stream",
     "text": [
      "C:\\Users\\KatharinaG\\AppData\\Local\\Continuum\\anaconda3\\envs\\py37\\lib\\site-packages\\scipy\\interpolate\\interpolate.py:2514: FutureWarning: Using a non-tuple sequence for multidimensional indexing is deprecated; use `arr[tuple(seq)]` instead of `arr[seq]`. In the future this will be interpreted as an array index, `arr[np.array(seq)]`, which will result either in an error or a different result.\n",
      "  return self.values[idx_res]\n",
      "C:\\Users\\KatharinaG\\AppData\\Local\\Continuum\\anaconda3\\envs\\py37\\lib\\site-packages\\dask\\array\\blockwise.py:210: UserWarning: The da.atop function has moved to da.blockwise\n",
      "  warnings.warn(\"The da.atop function has moved to da.blockwise\")\n"
     ]
    },
    {
     "name": "stdout",
     "output_type": "stream",
     "text": [
      "[                                        ] | 0% Completed |  3.8s"
     ]
    },
    {
     "name": "stderr",
     "output_type": "stream",
     "text": [
      "C:\\Users\\KatharinaG\\AppData\\Local\\Continuum\\anaconda3\\envs\\py37\\lib\\site-packages\\scipy\\interpolate\\interpolate.py:2514: FutureWarning: Using a non-tuple sequence for multidimensional indexing is deprecated; use `arr[tuple(seq)]` instead of `arr[seq]`. In the future this will be interpreted as an array index, `arr[np.array(seq)]`, which will result either in an error or a different result.\n",
      "  return self.values[idx_res]\n"
     ]
    },
    {
     "name": "stdout",
     "output_type": "stream",
     "text": [
      "[########################################] | 100% Completed | 40min 59.6s\n",
      "CO\n"
     ]
    },
    {
     "name": "stderr",
     "output_type": "stream",
     "text": [
      "C:\\Users\\KatharinaG\\AppData\\Local\\Continuum\\anaconda3\\envs\\py37\\lib\\site-packages\\scipy\\interpolate\\interpolate.py:2514: FutureWarning: Using a non-tuple sequence for multidimensional indexing is deprecated; use `arr[tuple(seq)]` instead of `arr[seq]`. In the future this will be interpreted as an array index, `arr[np.array(seq)]`, which will result either in an error or a different result.\n",
      "  return self.values[idx_res]\n",
      "C:\\Users\\KatharinaG\\AppData\\Local\\Continuum\\anaconda3\\envs\\py37\\lib\\site-packages\\dask\\array\\blockwise.py:210: UserWarning: The da.atop function has moved to da.blockwise\n",
      "  warnings.warn(\"The da.atop function has moved to da.blockwise\")\n"
     ]
    },
    {
     "name": "stdout",
     "output_type": "stream",
     "text": [
      "[                                        ] | 0% Completed |  4.7s"
     ]
    },
    {
     "name": "stderr",
     "output_type": "stream",
     "text": [
      "C:\\Users\\KatharinaG\\AppData\\Local\\Continuum\\anaconda3\\envs\\py37\\lib\\site-packages\\scipy\\interpolate\\interpolate.py:2514: FutureWarning: Using a non-tuple sequence for multidimensional indexing is deprecated; use `arr[tuple(seq)]` instead of `arr[seq]`. In the future this will be interpreted as an array index, `arr[np.array(seq)]`, which will result either in an error or a different result.\n",
      "  return self.values[idx_res]\n"
     ]
    },
    {
     "name": "stdout",
     "output_type": "stream",
     "text": [
      "[########################################] | 100% Completed | 37min 52.4s\n",
      "CT\n"
     ]
    },
    {
     "name": "stderr",
     "output_type": "stream",
     "text": [
      "C:\\Users\\KatharinaG\\AppData\\Local\\Continuum\\anaconda3\\envs\\py37\\lib\\site-packages\\scipy\\interpolate\\interpolate.py:2514: FutureWarning: Using a non-tuple sequence for multidimensional indexing is deprecated; use `arr[tuple(seq)]` instead of `arr[seq]`. In the future this will be interpreted as an array index, `arr[np.array(seq)]`, which will result either in an error or a different result.\n",
      "  return self.values[idx_res]\n",
      "C:\\Users\\KatharinaG\\AppData\\Local\\Continuum\\anaconda3\\envs\\py37\\lib\\site-packages\\dask\\array\\blockwise.py:210: UserWarning: The da.atop function has moved to da.blockwise\n",
      "  warnings.warn(\"The da.atop function has moved to da.blockwise\")\n"
     ]
    },
    {
     "name": "stdout",
     "output_type": "stream",
     "text": [
      "[                                        ] | 0% Completed |  3.8s"
     ]
    },
    {
     "name": "stderr",
     "output_type": "stream",
     "text": [
      "C:\\Users\\KatharinaG\\AppData\\Local\\Continuum\\anaconda3\\envs\\py37\\lib\\site-packages\\scipy\\interpolate\\interpolate.py:2514: FutureWarning: Using a non-tuple sequence for multidimensional indexing is deprecated; use `arr[tuple(seq)]` instead of `arr[seq]`. In the future this will be interpreted as an array index, `arr[np.array(seq)]`, which will result either in an error or a different result.\n",
      "  return self.values[idx_res]\n"
     ]
    },
    {
     "name": "stdout",
     "output_type": "stream",
     "text": [
      "[########################################] | 100% Completed | 37min 29.5s\n",
      "DE\n"
     ]
    },
    {
     "name": "stderr",
     "output_type": "stream",
     "text": [
      "C:\\Users\\KatharinaG\\AppData\\Local\\Continuum\\anaconda3\\envs\\py37\\lib\\site-packages\\scipy\\interpolate\\interpolate.py:2514: FutureWarning: Using a non-tuple sequence for multidimensional indexing is deprecated; use `arr[tuple(seq)]` instead of `arr[seq]`. In the future this will be interpreted as an array index, `arr[np.array(seq)]`, which will result either in an error or a different result.\n",
      "  return self.values[idx_res]\n",
      "C:\\Users\\KatharinaG\\AppData\\Local\\Continuum\\anaconda3\\envs\\py37\\lib\\site-packages\\dask\\array\\blockwise.py:210: UserWarning: The da.atop function has moved to da.blockwise\n",
      "  warnings.warn(\"The da.atop function has moved to da.blockwise\")\n"
     ]
    },
    {
     "name": "stdout",
     "output_type": "stream",
     "text": [
      "[                                        ] | 0% Completed |  4.1s"
     ]
    },
    {
     "name": "stderr",
     "output_type": "stream",
     "text": [
      "C:\\Users\\KatharinaG\\AppData\\Local\\Continuum\\anaconda3\\envs\\py37\\lib\\site-packages\\scipy\\interpolate\\interpolate.py:2514: FutureWarning: Using a non-tuple sequence for multidimensional indexing is deprecated; use `arr[tuple(seq)]` instead of `arr[seq]`. In the future this will be interpreted as an array index, `arr[np.array(seq)]`, which will result either in an error or a different result.\n",
      "  return self.values[idx_res]\n"
     ]
    },
    {
     "name": "stdout",
     "output_type": "stream",
     "text": [
      "[########################################] | 100% Completed | 37min 15.6s\n",
      "FL\n"
     ]
    },
    {
     "name": "stderr",
     "output_type": "stream",
     "text": [
      "C:\\Users\\KatharinaG\\AppData\\Local\\Continuum\\anaconda3\\envs\\py37\\lib\\site-packages\\scipy\\interpolate\\interpolate.py:2514: FutureWarning: Using a non-tuple sequence for multidimensional indexing is deprecated; use `arr[tuple(seq)]` instead of `arr[seq]`. In the future this will be interpreted as an array index, `arr[np.array(seq)]`, which will result either in an error or a different result.\n",
      "  return self.values[idx_res]\n",
      "C:\\Users\\KatharinaG\\AppData\\Local\\Continuum\\anaconda3\\envs\\py37\\lib\\site-packages\\dask\\array\\blockwise.py:210: UserWarning: The da.atop function has moved to da.blockwise\n",
      "  warnings.warn(\"The da.atop function has moved to da.blockwise\")\n"
     ]
    },
    {
     "name": "stdout",
     "output_type": "stream",
     "text": [
      "[                                        ] | 0% Completed |  3.9s"
     ]
    },
    {
     "name": "stderr",
     "output_type": "stream",
     "text": [
      "C:\\Users\\KatharinaG\\AppData\\Local\\Continuum\\anaconda3\\envs\\py37\\lib\\site-packages\\scipy\\interpolate\\interpolate.py:2514: FutureWarning: Using a non-tuple sequence for multidimensional indexing is deprecated; use `arr[tuple(seq)]` instead of `arr[seq]`. In the future this will be interpreted as an array index, `arr[np.array(seq)]`, which will result either in an error or a different result.\n",
      "  return self.values[idx_res]\n"
     ]
    },
    {
     "name": "stdout",
     "output_type": "stream",
     "text": [
      "[########################################] | 100% Completed | 37min 12.2s\n",
      "GU\n"
     ]
    },
    {
     "name": "stderr",
     "output_type": "stream",
     "text": [
      "C:\\Users\\KatharinaG\\AppData\\Local\\Continuum\\anaconda3\\envs\\py37\\lib\\site-packages\\scipy\\interpolate\\interpolate.py:2514: FutureWarning: Using a non-tuple sequence for multidimensional indexing is deprecated; use `arr[tuple(seq)]` instead of `arr[seq]`. In the future this will be interpreted as an array index, `arr[np.array(seq)]`, which will result either in an error or a different result.\n",
      "  return self.values[idx_res]\n",
      "C:\\Users\\KatharinaG\\AppData\\Local\\Continuum\\anaconda3\\envs\\py37\\lib\\site-packages\\dask\\array\\blockwise.py:210: UserWarning: The da.atop function has moved to da.blockwise\n",
      "  warnings.warn(\"The da.atop function has moved to da.blockwise\")\n"
     ]
    },
    {
     "name": "stdout",
     "output_type": "stream",
     "text": [
      "[                                        ] | 0% Completed |  3.9s"
     ]
    },
    {
     "name": "stderr",
     "output_type": "stream",
     "text": [
      "C:\\Users\\KatharinaG\\AppData\\Local\\Continuum\\anaconda3\\envs\\py37\\lib\\site-packages\\scipy\\interpolate\\interpolate.py:2514: FutureWarning: Using a non-tuple sequence for multidimensional indexing is deprecated; use `arr[tuple(seq)]` instead of `arr[seq]`. In the future this will be interpreted as an array index, `arr[np.array(seq)]`, which will result either in an error or a different result.\n",
      "  return self.values[idx_res]\n"
     ]
    },
    {
     "name": "stdout",
     "output_type": "stream",
     "text": [
      "[###############                         ] | 37% Completed | 16min 23.2s"
     ]
    },
    {
     "name": "stderr",
     "output_type": "stream",
     "text": [
      "C:\\Users\\KatharinaG\\AppData\\Local\\Continuum\\anaconda3\\envs\\py37\\lib\\site-packages\\dask\\array\\numpy_compat.py:28: RuntimeWarning: invalid value encountered in true_divide\n",
      "  x = np.divide(x1, x2, out)\n"
     ]
    },
    {
     "name": "stdout",
     "output_type": "stream",
     "text": [
      "[###############                         ] | 37% Completed | 16min 24.7s"
     ]
    },
    {
     "name": "stderr",
     "output_type": "stream",
     "text": [
      "C:\\Users\\KatharinaG\\AppData\\Local\\Continuum\\anaconda3\\envs\\py37\\lib\\site-packages\\dask\\core.py:119: RuntimeWarning: invalid value encountered in less_equal\n",
      "  return func(*args2)\n"
     ]
    },
    {
     "name": "stdout",
     "output_type": "stream",
     "text": [
      "[########################################] | 100% Completed | 37min 17.9s\n",
      "HI\n"
     ]
    },
    {
     "name": "stderr",
     "output_type": "stream",
     "text": [
      "C:\\Users\\KatharinaG\\AppData\\Local\\Continuum\\anaconda3\\envs\\py37\\lib\\site-packages\\scipy\\interpolate\\interpolate.py:2514: FutureWarning: Using a non-tuple sequence for multidimensional indexing is deprecated; use `arr[tuple(seq)]` instead of `arr[seq]`. In the future this will be interpreted as an array index, `arr[np.array(seq)]`, which will result either in an error or a different result.\n",
      "  return self.values[idx_res]\n",
      "C:\\Users\\KatharinaG\\AppData\\Local\\Continuum\\anaconda3\\envs\\py37\\lib\\site-packages\\dask\\array\\blockwise.py:210: UserWarning: The da.atop function has moved to da.blockwise\n",
      "  warnings.warn(\"The da.atop function has moved to da.blockwise\")\n"
     ]
    },
    {
     "name": "stdout",
     "output_type": "stream",
     "text": [
      "[                                        ] | 0% Completed |  3.9s"
     ]
    },
    {
     "name": "stderr",
     "output_type": "stream",
     "text": [
      "C:\\Users\\KatharinaG\\AppData\\Local\\Continuum\\anaconda3\\envs\\py37\\lib\\site-packages\\scipy\\interpolate\\interpolate.py:2514: FutureWarning: Using a non-tuple sequence for multidimensional indexing is deprecated; use `arr[tuple(seq)]` instead of `arr[seq]`. In the future this will be interpreted as an array index, `arr[np.array(seq)]`, which will result either in an error or a different result.\n",
      "  return self.values[idx_res]\n"
     ]
    },
    {
     "name": "stdout",
     "output_type": "stream",
     "text": [
      "[########################################] | 100% Completed | 37min  6.3s\n",
      "IA\n"
     ]
    },
    {
     "name": "stderr",
     "output_type": "stream",
     "text": [
      "C:\\Users\\KatharinaG\\AppData\\Local\\Continuum\\anaconda3\\envs\\py37\\lib\\site-packages\\scipy\\interpolate\\interpolate.py:2514: FutureWarning: Using a non-tuple sequence for multidimensional indexing is deprecated; use `arr[tuple(seq)]` instead of `arr[seq]`. In the future this will be interpreted as an array index, `arr[np.array(seq)]`, which will result either in an error or a different result.\n",
      "  return self.values[idx_res]\n",
      "C:\\Users\\KatharinaG\\AppData\\Local\\Continuum\\anaconda3\\envs\\py37\\lib\\site-packages\\dask\\array\\blockwise.py:210: UserWarning: The da.atop function has moved to da.blockwise\n",
      "  warnings.warn(\"The da.atop function has moved to da.blockwise\")\n"
     ]
    },
    {
     "name": "stdout",
     "output_type": "stream",
     "text": [
      "[                                        ] | 0% Completed |  3.8s"
     ]
    },
    {
     "name": "stderr",
     "output_type": "stream",
     "text": [
      "C:\\Users\\KatharinaG\\AppData\\Local\\Continuum\\anaconda3\\envs\\py37\\lib\\site-packages\\scipy\\interpolate\\interpolate.py:2514: FutureWarning: Using a non-tuple sequence for multidimensional indexing is deprecated; use `arr[tuple(seq)]` instead of `arr[seq]`. In the future this will be interpreted as an array index, `arr[np.array(seq)]`, which will result either in an error or a different result.\n",
      "  return self.values[idx_res]\n"
     ]
    },
    {
     "name": "stdout",
     "output_type": "stream",
     "text": [
      "[########################################] | 100% Completed | 40min  7.1s\n",
      "ID\n"
     ]
    },
    {
     "name": "stderr",
     "output_type": "stream",
     "text": [
      "C:\\Users\\KatharinaG\\AppData\\Local\\Continuum\\anaconda3\\envs\\py37\\lib\\site-packages\\scipy\\interpolate\\interpolate.py:2514: FutureWarning: Using a non-tuple sequence for multidimensional indexing is deprecated; use `arr[tuple(seq)]` instead of `arr[seq]`. In the future this will be interpreted as an array index, `arr[np.array(seq)]`, which will result either in an error or a different result.\n",
      "  return self.values[idx_res]\n",
      "C:\\Users\\KatharinaG\\AppData\\Local\\Continuum\\anaconda3\\envs\\py37\\lib\\site-packages\\dask\\array\\blockwise.py:210: UserWarning: The da.atop function has moved to da.blockwise\n",
      "  warnings.warn(\"The da.atop function has moved to da.blockwise\")\n"
     ]
    },
    {
     "name": "stdout",
     "output_type": "stream",
     "text": [
      "[                                        ] | 0% Completed |  4.5s"
     ]
    },
    {
     "name": "stderr",
     "output_type": "stream",
     "text": [
      "C:\\Users\\KatharinaG\\AppData\\Local\\Continuum\\anaconda3\\envs\\py37\\lib\\site-packages\\scipy\\interpolate\\interpolate.py:2514: FutureWarning: Using a non-tuple sequence for multidimensional indexing is deprecated; use `arr[tuple(seq)]` instead of `arr[seq]`. In the future this will be interpreted as an array index, `arr[np.array(seq)]`, which will result either in an error or a different result.\n",
      "  return self.values[idx_res]\n"
     ]
    },
    {
     "name": "stdout",
     "output_type": "stream",
     "text": [
      "[########################################] | 100% Completed | 37min 19.2s\n",
      "IL\n"
     ]
    },
    {
     "name": "stderr",
     "output_type": "stream",
     "text": [
      "C:\\Users\\KatharinaG\\AppData\\Local\\Continuum\\anaconda3\\envs\\py37\\lib\\site-packages\\scipy\\interpolate\\interpolate.py:2514: FutureWarning: Using a non-tuple sequence for multidimensional indexing is deprecated; use `arr[tuple(seq)]` instead of `arr[seq]`. In the future this will be interpreted as an array index, `arr[np.array(seq)]`, which will result either in an error or a different result.\n",
      "  return self.values[idx_res]\n",
      "C:\\Users\\KatharinaG\\AppData\\Local\\Continuum\\anaconda3\\envs\\py37\\lib\\site-packages\\dask\\array\\blockwise.py:210: UserWarning: The da.atop function has moved to da.blockwise\n",
      "  warnings.warn(\"The da.atop function has moved to da.blockwise\")\n"
     ]
    },
    {
     "name": "stdout",
     "output_type": "stream",
     "text": [
      "[                                        ] | 0% Completed |  3.8s"
     ]
    },
    {
     "name": "stderr",
     "output_type": "stream",
     "text": [
      "C:\\Users\\KatharinaG\\AppData\\Local\\Continuum\\anaconda3\\envs\\py37\\lib\\site-packages\\scipy\\interpolate\\interpolate.py:2514: FutureWarning: Using a non-tuple sequence for multidimensional indexing is deprecated; use `arr[tuple(seq)]` instead of `arr[seq]`. In the future this will be interpreted as an array index, `arr[np.array(seq)]`, which will result either in an error or a different result.\n",
      "  return self.values[idx_res]\n"
     ]
    },
    {
     "name": "stdout",
     "output_type": "stream",
     "text": [
      "[########################################] | 100% Completed | 37min 35.6s\n",
      "IN\n"
     ]
    },
    {
     "name": "stderr",
     "output_type": "stream",
     "text": [
      "C:\\Users\\KatharinaG\\AppData\\Local\\Continuum\\anaconda3\\envs\\py37\\lib\\site-packages\\scipy\\interpolate\\interpolate.py:2514: FutureWarning: Using a non-tuple sequence for multidimensional indexing is deprecated; use `arr[tuple(seq)]` instead of `arr[seq]`. In the future this will be interpreted as an array index, `arr[np.array(seq)]`, which will result either in an error or a different result.\n",
      "  return self.values[idx_res]\n",
      "C:\\Users\\KatharinaG\\AppData\\Local\\Continuum\\anaconda3\\envs\\py37\\lib\\site-packages\\dask\\array\\blockwise.py:210: UserWarning: The da.atop function has moved to da.blockwise\n",
      "  warnings.warn(\"The da.atop function has moved to da.blockwise\")\n"
     ]
    },
    {
     "name": "stdout",
     "output_type": "stream",
     "text": [
      "[                                        ] | 0% Completed |  3.8s"
     ]
    },
    {
     "name": "stderr",
     "output_type": "stream",
     "text": [
      "C:\\Users\\KatharinaG\\AppData\\Local\\Continuum\\anaconda3\\envs\\py37\\lib\\site-packages\\scipy\\interpolate\\interpolate.py:2514: FutureWarning: Using a non-tuple sequence for multidimensional indexing is deprecated; use `arr[tuple(seq)]` instead of `arr[seq]`. In the future this will be interpreted as an array index, `arr[np.array(seq)]`, which will result either in an error or a different result.\n",
      "  return self.values[idx_res]\n"
     ]
    },
    {
     "name": "stdout",
     "output_type": "stream",
     "text": [
      "[########################################] | 100% Completed | 37min  9.0s\n",
      "KS\n"
     ]
    },
    {
     "name": "stderr",
     "output_type": "stream",
     "text": [
      "C:\\Users\\KatharinaG\\AppData\\Local\\Continuum\\anaconda3\\envs\\py37\\lib\\site-packages\\scipy\\interpolate\\interpolate.py:2514: FutureWarning: Using a non-tuple sequence for multidimensional indexing is deprecated; use `arr[tuple(seq)]` instead of `arr[seq]`. In the future this will be interpreted as an array index, `arr[np.array(seq)]`, which will result either in an error or a different result.\n",
      "  return self.values[idx_res]\n",
      "C:\\Users\\KatharinaG\\AppData\\Local\\Continuum\\anaconda3\\envs\\py37\\lib\\site-packages\\dask\\array\\blockwise.py:210: UserWarning: The da.atop function has moved to da.blockwise\n",
      "  warnings.warn(\"The da.atop function has moved to da.blockwise\")\n"
     ]
    },
    {
     "name": "stdout",
     "output_type": "stream",
     "text": [
      "[                                        ] | 0% Completed |  4.1s"
     ]
    },
    {
     "name": "stderr",
     "output_type": "stream",
     "text": [
      "C:\\Users\\KatharinaG\\AppData\\Local\\Continuum\\anaconda3\\envs\\py37\\lib\\site-packages\\scipy\\interpolate\\interpolate.py:2514: FutureWarning: Using a non-tuple sequence for multidimensional indexing is deprecated; use `arr[tuple(seq)]` instead of `arr[seq]`. In the future this will be interpreted as an array index, `arr[np.array(seq)]`, which will result either in an error or a different result.\n",
      "  return self.values[idx_res]\n"
     ]
    },
    {
     "name": "stdout",
     "output_type": "stream",
     "text": [
      "[########################################] | 100% Completed | 38min 16.5s\n",
      "MA\n"
     ]
    },
    {
     "name": "stderr",
     "output_type": "stream",
     "text": [
      "C:\\Users\\KatharinaG\\AppData\\Local\\Continuum\\anaconda3\\envs\\py37\\lib\\site-packages\\scipy\\interpolate\\interpolate.py:2514: FutureWarning: Using a non-tuple sequence for multidimensional indexing is deprecated; use `arr[tuple(seq)]` instead of `arr[seq]`. In the future this will be interpreted as an array index, `arr[np.array(seq)]`, which will result either in an error or a different result.\n",
      "  return self.values[idx_res]\n",
      "C:\\Users\\KatharinaG\\AppData\\Local\\Continuum\\anaconda3\\envs\\py37\\lib\\site-packages\\dask\\array\\blockwise.py:210: UserWarning: The da.atop function has moved to da.blockwise\n",
      "  warnings.warn(\"The da.atop function has moved to da.blockwise\")\n"
     ]
    },
    {
     "name": "stdout",
     "output_type": "stream",
     "text": [
      "[                                        ] | 0% Completed |  4.3s"
     ]
    },
    {
     "name": "stderr",
     "output_type": "stream",
     "text": [
      "C:\\Users\\KatharinaG\\AppData\\Local\\Continuum\\anaconda3\\envs\\py37\\lib\\site-packages\\scipy\\interpolate\\interpolate.py:2514: FutureWarning: Using a non-tuple sequence for multidimensional indexing is deprecated; use `arr[tuple(seq)]` instead of `arr[seq]`. In the future this will be interpreted as an array index, `arr[np.array(seq)]`, which will result either in an error or a different result.\n",
      "  return self.values[idx_res]\n"
     ]
    },
    {
     "name": "stdout",
     "output_type": "stream",
     "text": [
      "[########################################] | 100% Completed | 37min  9.1s\n",
      "MD\n"
     ]
    },
    {
     "name": "stderr",
     "output_type": "stream",
     "text": [
      "C:\\Users\\KatharinaG\\AppData\\Local\\Continuum\\anaconda3\\envs\\py37\\lib\\site-packages\\scipy\\interpolate\\interpolate.py:2514: FutureWarning: Using a non-tuple sequence for multidimensional indexing is deprecated; use `arr[tuple(seq)]` instead of `arr[seq]`. In the future this will be interpreted as an array index, `arr[np.array(seq)]`, which will result either in an error or a different result.\n",
      "  return self.values[idx_res]\n",
      "C:\\Users\\KatharinaG\\AppData\\Local\\Continuum\\anaconda3\\envs\\py37\\lib\\site-packages\\dask\\array\\blockwise.py:210: UserWarning: The da.atop function has moved to da.blockwise\n",
      "  warnings.warn(\"The da.atop function has moved to da.blockwise\")\n"
     ]
    },
    {
     "name": "stdout",
     "output_type": "stream",
     "text": [
      "[                                        ] | 0% Completed |  4.0s"
     ]
    },
    {
     "name": "stderr",
     "output_type": "stream",
     "text": [
      "C:\\Users\\KatharinaG\\AppData\\Local\\Continuum\\anaconda3\\envs\\py37\\lib\\site-packages\\scipy\\interpolate\\interpolate.py:2514: FutureWarning: Using a non-tuple sequence for multidimensional indexing is deprecated; use `arr[tuple(seq)]` instead of `arr[seq]`. In the future this will be interpreted as an array index, `arr[np.array(seq)]`, which will result either in an error or a different result.\n",
      "  return self.values[idx_res]\n"
     ]
    },
    {
     "name": "stdout",
     "output_type": "stream",
     "text": [
      "[########################################] | 100% Completed | 37min  0.2s\n",
      "ME\n"
     ]
    },
    {
     "name": "stderr",
     "output_type": "stream",
     "text": [
      "C:\\Users\\KatharinaG\\AppData\\Local\\Continuum\\anaconda3\\envs\\py37\\lib\\site-packages\\scipy\\interpolate\\interpolate.py:2514: FutureWarning: Using a non-tuple sequence for multidimensional indexing is deprecated; use `arr[tuple(seq)]` instead of `arr[seq]`. In the future this will be interpreted as an array index, `arr[np.array(seq)]`, which will result either in an error or a different result.\n",
      "  return self.values[idx_res]\n",
      "C:\\Users\\KatharinaG\\AppData\\Local\\Continuum\\anaconda3\\envs\\py37\\lib\\site-packages\\dask\\array\\blockwise.py:210: UserWarning: The da.atop function has moved to da.blockwise\n",
      "  warnings.warn(\"The da.atop function has moved to da.blockwise\")\n"
     ]
    },
    {
     "name": "stdout",
     "output_type": "stream",
     "text": [
      "[                                        ] | 0% Completed |  4.0s"
     ]
    },
    {
     "name": "stderr",
     "output_type": "stream",
     "text": [
      "C:\\Users\\KatharinaG\\AppData\\Local\\Continuum\\anaconda3\\envs\\py37\\lib\\site-packages\\scipy\\interpolate\\interpolate.py:2514: FutureWarning: Using a non-tuple sequence for multidimensional indexing is deprecated; use `arr[tuple(seq)]` instead of `arr[seq]`. In the future this will be interpreted as an array index, `arr[np.array(seq)]`, which will result either in an error or a different result.\n",
      "  return self.values[idx_res]\n"
     ]
    },
    {
     "name": "stdout",
     "output_type": "stream",
     "text": [
      "[########################################] | 100% Completed | 37min 13.5s\n",
      "MI\n"
     ]
    },
    {
     "name": "stderr",
     "output_type": "stream",
     "text": [
      "C:\\Users\\KatharinaG\\AppData\\Local\\Continuum\\anaconda3\\envs\\py37\\lib\\site-packages\\scipy\\interpolate\\interpolate.py:2514: FutureWarning: Using a non-tuple sequence for multidimensional indexing is deprecated; use `arr[tuple(seq)]` instead of `arr[seq]`. In the future this will be interpreted as an array index, `arr[np.array(seq)]`, which will result either in an error or a different result.\n",
      "  return self.values[idx_res]\n",
      "C:\\Users\\KatharinaG\\AppData\\Local\\Continuum\\anaconda3\\envs\\py37\\lib\\site-packages\\dask\\array\\blockwise.py:210: UserWarning: The da.atop function has moved to da.blockwise\n",
      "  warnings.warn(\"The da.atop function has moved to da.blockwise\")\n"
     ]
    },
    {
     "name": "stdout",
     "output_type": "stream",
     "text": [
      "[                                        ] | 0% Completed |  4.0s"
     ]
    },
    {
     "name": "stderr",
     "output_type": "stream",
     "text": [
      "C:\\Users\\KatharinaG\\AppData\\Local\\Continuum\\anaconda3\\envs\\py37\\lib\\site-packages\\scipy\\interpolate\\interpolate.py:2514: FutureWarning: Using a non-tuple sequence for multidimensional indexing is deprecated; use `arr[tuple(seq)]` instead of `arr[seq]`. In the future this will be interpreted as an array index, `arr[np.array(seq)]`, which will result either in an error or a different result.\n",
      "  return self.values[idx_res]\n"
     ]
    },
    {
     "name": "stdout",
     "output_type": "stream",
     "text": [
      "[########################################] | 100% Completed | 37min 23.7s\n",
      "MN\n"
     ]
    },
    {
     "name": "stderr",
     "output_type": "stream",
     "text": [
      "C:\\Users\\KatharinaG\\AppData\\Local\\Continuum\\anaconda3\\envs\\py37\\lib\\site-packages\\scipy\\interpolate\\interpolate.py:2514: FutureWarning: Using a non-tuple sequence for multidimensional indexing is deprecated; use `arr[tuple(seq)]` instead of `arr[seq]`. In the future this will be interpreted as an array index, `arr[np.array(seq)]`, which will result either in an error or a different result.\n",
      "  return self.values[idx_res]\n",
      "C:\\Users\\KatharinaG\\AppData\\Local\\Continuum\\anaconda3\\envs\\py37\\lib\\site-packages\\dask\\array\\blockwise.py:210: UserWarning: The da.atop function has moved to da.blockwise\n",
      "  warnings.warn(\"The da.atop function has moved to da.blockwise\")\n"
     ]
    },
    {
     "name": "stdout",
     "output_type": "stream",
     "text": [
      "[                                        ] | 0% Completed |  3.9s"
     ]
    },
    {
     "name": "stderr",
     "output_type": "stream",
     "text": [
      "C:\\Users\\KatharinaG\\AppData\\Local\\Continuum\\anaconda3\\envs\\py37\\lib\\site-packages\\scipy\\interpolate\\interpolate.py:2514: FutureWarning: Using a non-tuple sequence for multidimensional indexing is deprecated; use `arr[tuple(seq)]` instead of `arr[seq]`. In the future this will be interpreted as an array index, `arr[np.array(seq)]`, which will result either in an error or a different result.\n",
      "  return self.values[idx_res]\n"
     ]
    },
    {
     "name": "stdout",
     "output_type": "stream",
     "text": [
      "[########################################] | 100% Completed | 38min  8.6s\n",
      "MO\n"
     ]
    },
    {
     "name": "stderr",
     "output_type": "stream",
     "text": [
      "C:\\Users\\KatharinaG\\AppData\\Local\\Continuum\\anaconda3\\envs\\py37\\lib\\site-packages\\scipy\\interpolate\\interpolate.py:2514: FutureWarning: Using a non-tuple sequence for multidimensional indexing is deprecated; use `arr[tuple(seq)]` instead of `arr[seq]`. In the future this will be interpreted as an array index, `arr[np.array(seq)]`, which will result either in an error or a different result.\n",
      "  return self.values[idx_res]\n",
      "C:\\Users\\KatharinaG\\AppData\\Local\\Continuum\\anaconda3\\envs\\py37\\lib\\site-packages\\dask\\array\\blockwise.py:210: UserWarning: The da.atop function has moved to da.blockwise\n",
      "  warnings.warn(\"The da.atop function has moved to da.blockwise\")\n"
     ]
    },
    {
     "name": "stdout",
     "output_type": "stream",
     "text": [
      "[                                        ] | 0% Completed |  3.8s"
     ]
    },
    {
     "name": "stderr",
     "output_type": "stream",
     "text": [
      "C:\\Users\\KatharinaG\\AppData\\Local\\Continuum\\anaconda3\\envs\\py37\\lib\\site-packages\\scipy\\interpolate\\interpolate.py:2514: FutureWarning: Using a non-tuple sequence for multidimensional indexing is deprecated; use `arr[tuple(seq)]` instead of `arr[seq]`. In the future this will be interpreted as an array index, `arr[np.array(seq)]`, which will result either in an error or a different result.\n",
      "  return self.values[idx_res]\n"
     ]
    },
    {
     "name": "stdout",
     "output_type": "stream",
     "text": [
      "[########################################] | 100% Completed | 37min 13.7s\n",
      "MT\n"
     ]
    },
    {
     "name": "stderr",
     "output_type": "stream",
     "text": [
      "C:\\Users\\KatharinaG\\AppData\\Local\\Continuum\\anaconda3\\envs\\py37\\lib\\site-packages\\scipy\\interpolate\\interpolate.py:2514: FutureWarning: Using a non-tuple sequence for multidimensional indexing is deprecated; use `arr[tuple(seq)]` instead of `arr[seq]`. In the future this will be interpreted as an array index, `arr[np.array(seq)]`, which will result either in an error or a different result.\n",
      "  return self.values[idx_res]\n",
      "C:\\Users\\KatharinaG\\AppData\\Local\\Continuum\\anaconda3\\envs\\py37\\lib\\site-packages\\dask\\array\\blockwise.py:210: UserWarning: The da.atop function has moved to da.blockwise\n",
      "  warnings.warn(\"The da.atop function has moved to da.blockwise\")\n"
     ]
    },
    {
     "name": "stdout",
     "output_type": "stream",
     "text": [
      "[                                        ] | 0% Completed |  4.0s"
     ]
    },
    {
     "name": "stderr",
     "output_type": "stream",
     "text": [
      "C:\\Users\\KatharinaG\\AppData\\Local\\Continuum\\anaconda3\\envs\\py37\\lib\\site-packages\\scipy\\interpolate\\interpolate.py:2514: FutureWarning: Using a non-tuple sequence for multidimensional indexing is deprecated; use `arr[tuple(seq)]` instead of `arr[seq]`. In the future this will be interpreted as an array index, `arr[np.array(seq)]`, which will result either in an error or a different result.\n",
      "  return self.values[idx_res]\n"
     ]
    },
    {
     "name": "stdout",
     "output_type": "stream",
     "text": [
      "[########################################] | 100% Completed | 37min 22.3s\n",
      "NC\n"
     ]
    },
    {
     "name": "stderr",
     "output_type": "stream",
     "text": [
      "C:\\Users\\KatharinaG\\AppData\\Local\\Continuum\\anaconda3\\envs\\py37\\lib\\site-packages\\scipy\\interpolate\\interpolate.py:2514: FutureWarning: Using a non-tuple sequence for multidimensional indexing is deprecated; use `arr[tuple(seq)]` instead of `arr[seq]`. In the future this will be interpreted as an array index, `arr[np.array(seq)]`, which will result either in an error or a different result.\n",
      "  return self.values[idx_res]\n",
      "C:\\Users\\KatharinaG\\AppData\\Local\\Continuum\\anaconda3\\envs\\py37\\lib\\site-packages\\dask\\array\\blockwise.py:210: UserWarning: The da.atop function has moved to da.blockwise\n",
      "  warnings.warn(\"The da.atop function has moved to da.blockwise\")\n"
     ]
    },
    {
     "name": "stdout",
     "output_type": "stream",
     "text": [
      "[                                        ] | 0% Completed |  3.9s"
     ]
    },
    {
     "name": "stderr",
     "output_type": "stream",
     "text": [
      "C:\\Users\\KatharinaG\\AppData\\Local\\Continuum\\anaconda3\\envs\\py37\\lib\\site-packages\\scipy\\interpolate\\interpolate.py:2514: FutureWarning: Using a non-tuple sequence for multidimensional indexing is deprecated; use `arr[tuple(seq)]` instead of `arr[seq]`. In the future this will be interpreted as an array index, `arr[np.array(seq)]`, which will result either in an error or a different result.\n",
      "  return self.values[idx_res]\n"
     ]
    },
    {
     "name": "stdout",
     "output_type": "stream",
     "text": [
      "[########################################] | 100% Completed | 37min 29.7s\n",
      "ND\n"
     ]
    },
    {
     "name": "stderr",
     "output_type": "stream",
     "text": [
      "C:\\Users\\KatharinaG\\AppData\\Local\\Continuum\\anaconda3\\envs\\py37\\lib\\site-packages\\scipy\\interpolate\\interpolate.py:2514: FutureWarning: Using a non-tuple sequence for multidimensional indexing is deprecated; use `arr[tuple(seq)]` instead of `arr[seq]`. In the future this will be interpreted as an array index, `arr[np.array(seq)]`, which will result either in an error or a different result.\n",
      "  return self.values[idx_res]\n",
      "C:\\Users\\KatharinaG\\AppData\\Local\\Continuum\\anaconda3\\envs\\py37\\lib\\site-packages\\dask\\array\\blockwise.py:210: UserWarning: The da.atop function has moved to da.blockwise\n",
      "  warnings.warn(\"The da.atop function has moved to da.blockwise\")\n"
     ]
    },
    {
     "name": "stdout",
     "output_type": "stream",
     "text": [
      "[                                        ] | 0% Completed |  3.7s"
     ]
    },
    {
     "name": "stderr",
     "output_type": "stream",
     "text": [
      "C:\\Users\\KatharinaG\\AppData\\Local\\Continuum\\anaconda3\\envs\\py37\\lib\\site-packages\\scipy\\interpolate\\interpolate.py:2514: FutureWarning: Using a non-tuple sequence for multidimensional indexing is deprecated; use `arr[tuple(seq)]` instead of `arr[seq]`. In the future this will be interpreted as an array index, `arr[np.array(seq)]`, which will result either in an error or a different result.\n",
      "  return self.values[idx_res]\n"
     ]
    },
    {
     "name": "stdout",
     "output_type": "stream",
     "text": [
      "[########################################] | 100% Completed | 37min 45.7s\n",
      "NE\n"
     ]
    },
    {
     "name": "stderr",
     "output_type": "stream",
     "text": [
      "C:\\Users\\KatharinaG\\AppData\\Local\\Continuum\\anaconda3\\envs\\py37\\lib\\site-packages\\scipy\\interpolate\\interpolate.py:2514: FutureWarning: Using a non-tuple sequence for multidimensional indexing is deprecated; use `arr[tuple(seq)]` instead of `arr[seq]`. In the future this will be interpreted as an array index, `arr[np.array(seq)]`, which will result either in an error or a different result.\n",
      "  return self.values[idx_res]\n",
      "C:\\Users\\KatharinaG\\AppData\\Local\\Continuum\\anaconda3\\envs\\py37\\lib\\site-packages\\dask\\array\\blockwise.py:210: UserWarning: The da.atop function has moved to da.blockwise\n",
      "  warnings.warn(\"The da.atop function has moved to da.blockwise\")\n"
     ]
    },
    {
     "name": "stdout",
     "output_type": "stream",
     "text": [
      "[                                        ] | 0% Completed |  3.7s"
     ]
    },
    {
     "name": "stderr",
     "output_type": "stream",
     "text": [
      "C:\\Users\\KatharinaG\\AppData\\Local\\Continuum\\anaconda3\\envs\\py37\\lib\\site-packages\\scipy\\interpolate\\interpolate.py:2514: FutureWarning: Using a non-tuple sequence for multidimensional indexing is deprecated; use `arr[tuple(seq)]` instead of `arr[seq]`. In the future this will be interpreted as an array index, `arr[np.array(seq)]`, which will result either in an error or a different result.\n",
      "  return self.values[idx_res]\n"
     ]
    },
    {
     "name": "stdout",
     "output_type": "stream",
     "text": [
      "[########################################] | 100% Completed | 37min 37.5s\n",
      "NH\n"
     ]
    },
    {
     "name": "stderr",
     "output_type": "stream",
     "text": [
      "C:\\Users\\KatharinaG\\AppData\\Local\\Continuum\\anaconda3\\envs\\py37\\lib\\site-packages\\scipy\\interpolate\\interpolate.py:2514: FutureWarning: Using a non-tuple sequence for multidimensional indexing is deprecated; use `arr[tuple(seq)]` instead of `arr[seq]`. In the future this will be interpreted as an array index, `arr[np.array(seq)]`, which will result either in an error or a different result.\n",
      "  return self.values[idx_res]\n",
      "C:\\Users\\KatharinaG\\AppData\\Local\\Continuum\\anaconda3\\envs\\py37\\lib\\site-packages\\dask\\array\\blockwise.py:210: UserWarning: The da.atop function has moved to da.blockwise\n",
      "  warnings.warn(\"The da.atop function has moved to da.blockwise\")\n"
     ]
    },
    {
     "name": "stdout",
     "output_type": "stream",
     "text": [
      "[                                        ] | 0% Completed |  4.0s"
     ]
    },
    {
     "name": "stderr",
     "output_type": "stream",
     "text": [
      "C:\\Users\\KatharinaG\\AppData\\Local\\Continuum\\anaconda3\\envs\\py37\\lib\\site-packages\\scipy\\interpolate\\interpolate.py:2514: FutureWarning: Using a non-tuple sequence for multidimensional indexing is deprecated; use `arr[tuple(seq)]` instead of `arr[seq]`. In the future this will be interpreted as an array index, `arr[np.array(seq)]`, which will result either in an error or a different result.\n",
      "  return self.values[idx_res]\n"
     ]
    },
    {
     "name": "stdout",
     "output_type": "stream",
     "text": [
      "[########################################] | 100% Completed | 37min 19.1s\n",
      "NJ\n"
     ]
    },
    {
     "name": "stderr",
     "output_type": "stream",
     "text": [
      "C:\\Users\\KatharinaG\\AppData\\Local\\Continuum\\anaconda3\\envs\\py37\\lib\\site-packages\\scipy\\interpolate\\interpolate.py:2514: FutureWarning: Using a non-tuple sequence for multidimensional indexing is deprecated; use `arr[tuple(seq)]` instead of `arr[seq]`. In the future this will be interpreted as an array index, `arr[np.array(seq)]`, which will result either in an error or a different result.\n",
      "  return self.values[idx_res]\n",
      "C:\\Users\\KatharinaG\\AppData\\Local\\Continuum\\anaconda3\\envs\\py37\\lib\\site-packages\\dask\\array\\blockwise.py:210: UserWarning: The da.atop function has moved to da.blockwise\n",
      "  warnings.warn(\"The da.atop function has moved to da.blockwise\")\n"
     ]
    },
    {
     "name": "stdout",
     "output_type": "stream",
     "text": [
      "[                                        ] | 0% Completed |  4.0s"
     ]
    },
    {
     "name": "stderr",
     "output_type": "stream",
     "text": [
      "C:\\Users\\KatharinaG\\AppData\\Local\\Continuum\\anaconda3\\envs\\py37\\lib\\site-packages\\scipy\\interpolate\\interpolate.py:2514: FutureWarning: Using a non-tuple sequence for multidimensional indexing is deprecated; use `arr[tuple(seq)]` instead of `arr[seq]`. In the future this will be interpreted as an array index, `arr[np.array(seq)]`, which will result either in an error or a different result.\n",
      "  return self.values[idx_res]\n"
     ]
    },
    {
     "name": "stdout",
     "output_type": "stream",
     "text": [
      "[########################################] | 100% Completed | 37min 21.6s\n",
      "NM\n"
     ]
    },
    {
     "name": "stderr",
     "output_type": "stream",
     "text": [
      "C:\\Users\\KatharinaG\\AppData\\Local\\Continuum\\anaconda3\\envs\\py37\\lib\\site-packages\\scipy\\interpolate\\interpolate.py:2514: FutureWarning: Using a non-tuple sequence for multidimensional indexing is deprecated; use `arr[tuple(seq)]` instead of `arr[seq]`. In the future this will be interpreted as an array index, `arr[np.array(seq)]`, which will result either in an error or a different result.\n",
      "  return self.values[idx_res]\n",
      "C:\\Users\\KatharinaG\\AppData\\Local\\Continuum\\anaconda3\\envs\\py37\\lib\\site-packages\\dask\\array\\blockwise.py:210: UserWarning: The da.atop function has moved to da.blockwise\n",
      "  warnings.warn(\"The da.atop function has moved to da.blockwise\")\n"
     ]
    },
    {
     "name": "stdout",
     "output_type": "stream",
     "text": [
      "[                                        ] | 0% Completed |  3.9s"
     ]
    },
    {
     "name": "stderr",
     "output_type": "stream",
     "text": [
      "C:\\Users\\KatharinaG\\AppData\\Local\\Continuum\\anaconda3\\envs\\py37\\lib\\site-packages\\scipy\\interpolate\\interpolate.py:2514: FutureWarning: Using a non-tuple sequence for multidimensional indexing is deprecated; use `arr[tuple(seq)]` instead of `arr[seq]`. In the future this will be interpreted as an array index, `arr[np.array(seq)]`, which will result either in an error or a different result.\n",
      "  return self.values[idx_res]\n"
     ]
    },
    {
     "name": "stdout",
     "output_type": "stream",
     "text": [
      "[########################################] | 100% Completed | 37min 32.8s\n",
      "NV\n"
     ]
    },
    {
     "name": "stderr",
     "output_type": "stream",
     "text": [
      "C:\\Users\\KatharinaG\\AppData\\Local\\Continuum\\anaconda3\\envs\\py37\\lib\\site-packages\\scipy\\interpolate\\interpolate.py:2514: FutureWarning: Using a non-tuple sequence for multidimensional indexing is deprecated; use `arr[tuple(seq)]` instead of `arr[seq]`. In the future this will be interpreted as an array index, `arr[np.array(seq)]`, which will result either in an error or a different result.\n",
      "  return self.values[idx_res]\n",
      "C:\\Users\\KatharinaG\\AppData\\Local\\Continuum\\anaconda3\\envs\\py37\\lib\\site-packages\\dask\\array\\blockwise.py:210: UserWarning: The da.atop function has moved to da.blockwise\n",
      "  warnings.warn(\"The da.atop function has moved to da.blockwise\")\n"
     ]
    },
    {
     "name": "stdout",
     "output_type": "stream",
     "text": [
      "[                                        ] | 0% Completed |  3.8s"
     ]
    },
    {
     "name": "stderr",
     "output_type": "stream",
     "text": [
      "C:\\Users\\KatharinaG\\AppData\\Local\\Continuum\\anaconda3\\envs\\py37\\lib\\site-packages\\scipy\\interpolate\\interpolate.py:2514: FutureWarning: Using a non-tuple sequence for multidimensional indexing is deprecated; use `arr[tuple(seq)]` instead of `arr[seq]`. In the future this will be interpreted as an array index, `arr[np.array(seq)]`, which will result either in an error or a different result.\n",
      "  return self.values[idx_res]\n"
     ]
    },
    {
     "name": "stdout",
     "output_type": "stream",
     "text": [
      "[########################################] | 100% Completed | 37min 13.2s\n",
      "NY\n"
     ]
    },
    {
     "name": "stderr",
     "output_type": "stream",
     "text": [
      "C:\\Users\\KatharinaG\\AppData\\Local\\Continuum\\anaconda3\\envs\\py37\\lib\\site-packages\\scipy\\interpolate\\interpolate.py:2514: FutureWarning: Using a non-tuple sequence for multidimensional indexing is deprecated; use `arr[tuple(seq)]` instead of `arr[seq]`. In the future this will be interpreted as an array index, `arr[np.array(seq)]`, which will result either in an error or a different result.\n",
      "  return self.values[idx_res]\n",
      "C:\\Users\\KatharinaG\\AppData\\Local\\Continuum\\anaconda3\\envs\\py37\\lib\\site-packages\\dask\\array\\blockwise.py:210: UserWarning: The da.atop function has moved to da.blockwise\n",
      "  warnings.warn(\"The da.atop function has moved to da.blockwise\")\n"
     ]
    },
    {
     "name": "stdout",
     "output_type": "stream",
     "text": [
      "[                                        ] | 0% Completed |  4.1s"
     ]
    },
    {
     "name": "stderr",
     "output_type": "stream",
     "text": [
      "C:\\Users\\KatharinaG\\AppData\\Local\\Continuum\\anaconda3\\envs\\py37\\lib\\site-packages\\scipy\\interpolate\\interpolate.py:2514: FutureWarning: Using a non-tuple sequence for multidimensional indexing is deprecated; use `arr[tuple(seq)]` instead of `arr[seq]`. In the future this will be interpreted as an array index, `arr[np.array(seq)]`, which will result either in an error or a different result.\n",
      "  return self.values[idx_res]\n"
     ]
    },
    {
     "name": "stdout",
     "output_type": "stream",
     "text": [
      "[########################################] | 100% Completed | 37min 35.3s\n",
      "OH\n"
     ]
    },
    {
     "name": "stderr",
     "output_type": "stream",
     "text": [
      "C:\\Users\\KatharinaG\\AppData\\Local\\Continuum\\anaconda3\\envs\\py37\\lib\\site-packages\\scipy\\interpolate\\interpolate.py:2514: FutureWarning: Using a non-tuple sequence for multidimensional indexing is deprecated; use `arr[tuple(seq)]` instead of `arr[seq]`. In the future this will be interpreted as an array index, `arr[np.array(seq)]`, which will result either in an error or a different result.\n",
      "  return self.values[idx_res]\n",
      "C:\\Users\\KatharinaG\\AppData\\Local\\Continuum\\anaconda3\\envs\\py37\\lib\\site-packages\\dask\\array\\blockwise.py:210: UserWarning: The da.atop function has moved to da.blockwise\n",
      "  warnings.warn(\"The da.atop function has moved to da.blockwise\")\n"
     ]
    },
    {
     "name": "stdout",
     "output_type": "stream",
     "text": [
      "[                                        ] | 0% Completed |  4.0s"
     ]
    },
    {
     "name": "stderr",
     "output_type": "stream",
     "text": [
      "C:\\Users\\KatharinaG\\AppData\\Local\\Continuum\\anaconda3\\envs\\py37\\lib\\site-packages\\scipy\\interpolate\\interpolate.py:2514: FutureWarning: Using a non-tuple sequence for multidimensional indexing is deprecated; use `arr[tuple(seq)]` instead of `arr[seq]`. In the future this will be interpreted as an array index, `arr[np.array(seq)]`, which will result either in an error or a different result.\n",
      "  return self.values[idx_res]\n"
     ]
    },
    {
     "name": "stdout",
     "output_type": "stream",
     "text": [
      "[########################################] | 100% Completed | 37min 33.6s\n",
      "OK\n"
     ]
    },
    {
     "name": "stderr",
     "output_type": "stream",
     "text": [
      "C:\\Users\\KatharinaG\\AppData\\Local\\Continuum\\anaconda3\\envs\\py37\\lib\\site-packages\\scipy\\interpolate\\interpolate.py:2514: FutureWarning: Using a non-tuple sequence for multidimensional indexing is deprecated; use `arr[tuple(seq)]` instead of `arr[seq]`. In the future this will be interpreted as an array index, `arr[np.array(seq)]`, which will result either in an error or a different result.\n",
      "  return self.values[idx_res]\n",
      "C:\\Users\\KatharinaG\\AppData\\Local\\Continuum\\anaconda3\\envs\\py37\\lib\\site-packages\\dask\\array\\blockwise.py:210: UserWarning: The da.atop function has moved to da.blockwise\n",
      "  warnings.warn(\"The da.atop function has moved to da.blockwise\")\n"
     ]
    },
    {
     "name": "stdout",
     "output_type": "stream",
     "text": [
      "[                                        ] | 0% Completed |  3.8s"
     ]
    },
    {
     "name": "stderr",
     "output_type": "stream",
     "text": [
      "C:\\Users\\KatharinaG\\AppData\\Local\\Continuum\\anaconda3\\envs\\py37\\lib\\site-packages\\scipy\\interpolate\\interpolate.py:2514: FutureWarning: Using a non-tuple sequence for multidimensional indexing is deprecated; use `arr[tuple(seq)]` instead of `arr[seq]`. In the future this will be interpreted as an array index, `arr[np.array(seq)]`, which will result either in an error or a different result.\n",
      "  return self.values[idx_res]\n"
     ]
    },
    {
     "name": "stdout",
     "output_type": "stream",
     "text": [
      "[########################################] | 100% Completed | 39min  0.6s\n",
      "OR\n"
     ]
    },
    {
     "name": "stderr",
     "output_type": "stream",
     "text": [
      "C:\\Users\\KatharinaG\\AppData\\Local\\Continuum\\anaconda3\\envs\\py37\\lib\\site-packages\\scipy\\interpolate\\interpolate.py:2514: FutureWarning: Using a non-tuple sequence for multidimensional indexing is deprecated; use `arr[tuple(seq)]` instead of `arr[seq]`. In the future this will be interpreted as an array index, `arr[np.array(seq)]`, which will result either in an error or a different result.\n",
      "  return self.values[idx_res]\n",
      "C:\\Users\\KatharinaG\\AppData\\Local\\Continuum\\anaconda3\\envs\\py37\\lib\\site-packages\\dask\\array\\blockwise.py:210: UserWarning: The da.atop function has moved to da.blockwise\n",
      "  warnings.warn(\"The da.atop function has moved to da.blockwise\")\n"
     ]
    },
    {
     "name": "stdout",
     "output_type": "stream",
     "text": [
      "[                                        ] | 0% Completed |  4.3s"
     ]
    },
    {
     "name": "stderr",
     "output_type": "stream",
     "text": [
      "C:\\Users\\KatharinaG\\AppData\\Local\\Continuum\\anaconda3\\envs\\py37\\lib\\site-packages\\scipy\\interpolate\\interpolate.py:2514: FutureWarning: Using a non-tuple sequence for multidimensional indexing is deprecated; use `arr[tuple(seq)]` instead of `arr[seq]`. In the future this will be interpreted as an array index, `arr[np.array(seq)]`, which will result either in an error or a different result.\n",
      "  return self.values[idx_res]\n"
     ]
    },
    {
     "name": "stdout",
     "output_type": "stream",
     "text": [
      "[########################################] | 100% Completed | 37min 48.0s\n",
      "PA\n"
     ]
    },
    {
     "name": "stderr",
     "output_type": "stream",
     "text": [
      "C:\\Users\\KatharinaG\\AppData\\Local\\Continuum\\anaconda3\\envs\\py37\\lib\\site-packages\\scipy\\interpolate\\interpolate.py:2514: FutureWarning: Using a non-tuple sequence for multidimensional indexing is deprecated; use `arr[tuple(seq)]` instead of `arr[seq]`. In the future this will be interpreted as an array index, `arr[np.array(seq)]`, which will result either in an error or a different result.\n",
      "  return self.values[idx_res]\n",
      "C:\\Users\\KatharinaG\\AppData\\Local\\Continuum\\anaconda3\\envs\\py37\\lib\\site-packages\\dask\\array\\blockwise.py:210: UserWarning: The da.atop function has moved to da.blockwise\n",
      "  warnings.warn(\"The da.atop function has moved to da.blockwise\")\n"
     ]
    },
    {
     "name": "stdout",
     "output_type": "stream",
     "text": [
      "[                                        ] | 0% Completed |  3.8s"
     ]
    },
    {
     "name": "stderr",
     "output_type": "stream",
     "text": [
      "C:\\Users\\KatharinaG\\AppData\\Local\\Continuum\\anaconda3\\envs\\py37\\lib\\site-packages\\scipy\\interpolate\\interpolate.py:2514: FutureWarning: Using a non-tuple sequence for multidimensional indexing is deprecated; use `arr[tuple(seq)]` instead of `arr[seq]`. In the future this will be interpreted as an array index, `arr[np.array(seq)]`, which will result either in an error or a different result.\n",
      "  return self.values[idx_res]\n"
     ]
    },
    {
     "name": "stdout",
     "output_type": "stream",
     "text": [
      "[########################################] | 100% Completed | 37min 32.9s\n",
      "PR\n"
     ]
    },
    {
     "name": "stderr",
     "output_type": "stream",
     "text": [
      "C:\\Users\\KatharinaG\\AppData\\Local\\Continuum\\anaconda3\\envs\\py37\\lib\\site-packages\\scipy\\interpolate\\interpolate.py:2514: FutureWarning: Using a non-tuple sequence for multidimensional indexing is deprecated; use `arr[tuple(seq)]` instead of `arr[seq]`. In the future this will be interpreted as an array index, `arr[np.array(seq)]`, which will result either in an error or a different result.\n",
      "  return self.values[idx_res]\n",
      "C:\\Users\\KatharinaG\\AppData\\Local\\Continuum\\anaconda3\\envs\\py37\\lib\\site-packages\\dask\\array\\blockwise.py:210: UserWarning: The da.atop function has moved to da.blockwise\n",
      "  warnings.warn(\"The da.atop function has moved to da.blockwise\")\n"
     ]
    },
    {
     "name": "stdout",
     "output_type": "stream",
     "text": [
      "[                                        ] | 0% Completed |  4.1s"
     ]
    },
    {
     "name": "stderr",
     "output_type": "stream",
     "text": [
      "C:\\Users\\KatharinaG\\AppData\\Local\\Continuum\\anaconda3\\envs\\py37\\lib\\site-packages\\scipy\\interpolate\\interpolate.py:2514: FutureWarning: Using a non-tuple sequence for multidimensional indexing is deprecated; use `arr[tuple(seq)]` instead of `arr[seq]`. In the future this will be interpreted as an array index, `arr[np.array(seq)]`, which will result either in an error or a different result.\n",
      "  return self.values[idx_res]\n"
     ]
    },
    {
     "name": "stdout",
     "output_type": "stream",
     "text": [
      "[########################################] | 100% Completed | 37min 26.0s\n",
      "RI\n"
     ]
    },
    {
     "name": "stderr",
     "output_type": "stream",
     "text": [
      "C:\\Users\\KatharinaG\\AppData\\Local\\Continuum\\anaconda3\\envs\\py37\\lib\\site-packages\\scipy\\interpolate\\interpolate.py:2514: FutureWarning: Using a non-tuple sequence for multidimensional indexing is deprecated; use `arr[tuple(seq)]` instead of `arr[seq]`. In the future this will be interpreted as an array index, `arr[np.array(seq)]`, which will result either in an error or a different result.\n",
      "  return self.values[idx_res]\n",
      "C:\\Users\\KatharinaG\\AppData\\Local\\Continuum\\anaconda3\\envs\\py37\\lib\\site-packages\\dask\\array\\blockwise.py:210: UserWarning: The da.atop function has moved to da.blockwise\n",
      "  warnings.warn(\"The da.atop function has moved to da.blockwise\")\n"
     ]
    },
    {
     "name": "stdout",
     "output_type": "stream",
     "text": [
      "[                                        ] | 0% Completed |  4.2s"
     ]
    },
    {
     "name": "stderr",
     "output_type": "stream",
     "text": [
      "C:\\Users\\KatharinaG\\AppData\\Local\\Continuum\\anaconda3\\envs\\py37\\lib\\site-packages\\scipy\\interpolate\\interpolate.py:2514: FutureWarning: Using a non-tuple sequence for multidimensional indexing is deprecated; use `arr[tuple(seq)]` instead of `arr[seq]`. In the future this will be interpreted as an array index, `arr[np.array(seq)]`, which will result either in an error or a different result.\n",
      "  return self.values[idx_res]\n"
     ]
    },
    {
     "name": "stdout",
     "output_type": "stream",
     "text": [
      "[########################################] | 100% Completed | 37min 31.7s\n",
      "SD\n"
     ]
    },
    {
     "name": "stderr",
     "output_type": "stream",
     "text": [
      "C:\\Users\\KatharinaG\\AppData\\Local\\Continuum\\anaconda3\\envs\\py37\\lib\\site-packages\\scipy\\interpolate\\interpolate.py:2514: FutureWarning: Using a non-tuple sequence for multidimensional indexing is deprecated; use `arr[tuple(seq)]` instead of `arr[seq]`. In the future this will be interpreted as an array index, `arr[np.array(seq)]`, which will result either in an error or a different result.\n",
      "  return self.values[idx_res]\n",
      "C:\\Users\\KatharinaG\\AppData\\Local\\Continuum\\anaconda3\\envs\\py37\\lib\\site-packages\\dask\\array\\blockwise.py:210: UserWarning: The da.atop function has moved to da.blockwise\n",
      "  warnings.warn(\"The da.atop function has moved to da.blockwise\")\n"
     ]
    },
    {
     "name": "stdout",
     "output_type": "stream",
     "text": [
      "[                                        ] | 0% Completed |  4.0s"
     ]
    },
    {
     "name": "stderr",
     "output_type": "stream",
     "text": [
      "C:\\Users\\KatharinaG\\AppData\\Local\\Continuum\\anaconda3\\envs\\py37\\lib\\site-packages\\scipy\\interpolate\\interpolate.py:2514: FutureWarning: Using a non-tuple sequence for multidimensional indexing is deprecated; use `arr[tuple(seq)]` instead of `arr[seq]`. In the future this will be interpreted as an array index, `arr[np.array(seq)]`, which will result either in an error or a different result.\n",
      "  return self.values[idx_res]\n"
     ]
    },
    {
     "name": "stdout",
     "output_type": "stream",
     "text": [
      "[########################################] | 100% Completed | 37min 29.5s\n",
      "TN\n"
     ]
    },
    {
     "name": "stderr",
     "output_type": "stream",
     "text": [
      "C:\\Users\\KatharinaG\\AppData\\Local\\Continuum\\anaconda3\\envs\\py37\\lib\\site-packages\\scipy\\interpolate\\interpolate.py:2514: FutureWarning: Using a non-tuple sequence for multidimensional indexing is deprecated; use `arr[tuple(seq)]` instead of `arr[seq]`. In the future this will be interpreted as an array index, `arr[np.array(seq)]`, which will result either in an error or a different result.\n",
      "  return self.values[idx_res]\n",
      "C:\\Users\\KatharinaG\\AppData\\Local\\Continuum\\anaconda3\\envs\\py37\\lib\\site-packages\\dask\\array\\blockwise.py:210: UserWarning: The da.atop function has moved to da.blockwise\n",
      "  warnings.warn(\"The da.atop function has moved to da.blockwise\")\n"
     ]
    },
    {
     "name": "stdout",
     "output_type": "stream",
     "text": [
      "[                                        ] | 0% Completed |  4.0s"
     ]
    },
    {
     "name": "stderr",
     "output_type": "stream",
     "text": [
      "C:\\Users\\KatharinaG\\AppData\\Local\\Continuum\\anaconda3\\envs\\py37\\lib\\site-packages\\scipy\\interpolate\\interpolate.py:2514: FutureWarning: Using a non-tuple sequence for multidimensional indexing is deprecated; use `arr[tuple(seq)]` instead of `arr[seq]`. In the future this will be interpreted as an array index, `arr[np.array(seq)]`, which will result either in an error or a different result.\n",
      "  return self.values[idx_res]\n"
     ]
    },
    {
     "name": "stdout",
     "output_type": "stream",
     "text": [
      "[########################################] | 100% Completed | 37min 19.7s\n",
      "TX\n"
     ]
    },
    {
     "name": "stderr",
     "output_type": "stream",
     "text": [
      "C:\\Users\\KatharinaG\\AppData\\Local\\Continuum\\anaconda3\\envs\\py37\\lib\\site-packages\\scipy\\interpolate\\interpolate.py:2514: FutureWarning: Using a non-tuple sequence for multidimensional indexing is deprecated; use `arr[tuple(seq)]` instead of `arr[seq]`. In the future this will be interpreted as an array index, `arr[np.array(seq)]`, which will result either in an error or a different result.\n",
      "  return self.values[idx_res]\n",
      "C:\\Users\\KatharinaG\\AppData\\Local\\Continuum\\anaconda3\\envs\\py37\\lib\\site-packages\\dask\\array\\blockwise.py:210: UserWarning: The da.atop function has moved to da.blockwise\n",
      "  warnings.warn(\"The da.atop function has moved to da.blockwise\")\n"
     ]
    },
    {
     "name": "stdout",
     "output_type": "stream",
     "text": [
      "[                                        ] | 0% Completed |  3.9s"
     ]
    },
    {
     "name": "stderr",
     "output_type": "stream",
     "text": [
      "C:\\Users\\KatharinaG\\AppData\\Local\\Continuum\\anaconda3\\envs\\py37\\lib\\site-packages\\scipy\\interpolate\\interpolate.py:2514: FutureWarning: Using a non-tuple sequence for multidimensional indexing is deprecated; use `arr[tuple(seq)]` instead of `arr[seq]`. In the future this will be interpreted as an array index, `arr[np.array(seq)]`, which will result either in an error or a different result.\n",
      "  return self.values[idx_res]\n"
     ]
    },
    {
     "name": "stdout",
     "output_type": "stream",
     "text": [
      "[########################################] | 100% Completed | 42min 10.4s\n",
      "UT\n"
     ]
    },
    {
     "name": "stderr",
     "output_type": "stream",
     "text": [
      "C:\\Users\\KatharinaG\\AppData\\Local\\Continuum\\anaconda3\\envs\\py37\\lib\\site-packages\\scipy\\interpolate\\interpolate.py:2514: FutureWarning: Using a non-tuple sequence for multidimensional indexing is deprecated; use `arr[tuple(seq)]` instead of `arr[seq]`. In the future this will be interpreted as an array index, `arr[np.array(seq)]`, which will result either in an error or a different result.\n",
      "  return self.values[idx_res]\n",
      "C:\\Users\\KatharinaG\\AppData\\Local\\Continuum\\anaconda3\\envs\\py37\\lib\\site-packages\\dask\\array\\blockwise.py:210: UserWarning: The da.atop function has moved to da.blockwise\n",
      "  warnings.warn(\"The da.atop function has moved to da.blockwise\")\n"
     ]
    },
    {
     "name": "stdout",
     "output_type": "stream",
     "text": [
      "[                                        ] | 0% Completed |  4.5s"
     ]
    },
    {
     "name": "stderr",
     "output_type": "stream",
     "text": [
      "C:\\Users\\KatharinaG\\AppData\\Local\\Continuum\\anaconda3\\envs\\py37\\lib\\site-packages\\scipy\\interpolate\\interpolate.py:2514: FutureWarning: Using a non-tuple sequence for multidimensional indexing is deprecated; use `arr[tuple(seq)]` instead of `arr[seq]`. In the future this will be interpreted as an array index, `arr[np.array(seq)]`, which will result either in an error or a different result.\n",
      "  return self.values[idx_res]\n"
     ]
    },
    {
     "name": "stdout",
     "output_type": "stream",
     "text": [
      "[########################################] | 100% Completed | 37min 52.7s\n",
      "VT\n"
     ]
    },
    {
     "name": "stderr",
     "output_type": "stream",
     "text": [
      "C:\\Users\\KatharinaG\\AppData\\Local\\Continuum\\anaconda3\\envs\\py37\\lib\\site-packages\\scipy\\interpolate\\interpolate.py:2514: FutureWarning: Using a non-tuple sequence for multidimensional indexing is deprecated; use `arr[tuple(seq)]` instead of `arr[seq]`. In the future this will be interpreted as an array index, `arr[np.array(seq)]`, which will result either in an error or a different result.\n",
      "  return self.values[idx_res]\n",
      "C:\\Users\\KatharinaG\\AppData\\Local\\Continuum\\anaconda3\\envs\\py37\\lib\\site-packages\\dask\\array\\blockwise.py:210: UserWarning: The da.atop function has moved to da.blockwise\n",
      "  warnings.warn(\"The da.atop function has moved to da.blockwise\")\n"
     ]
    },
    {
     "name": "stdout",
     "output_type": "stream",
     "text": [
      "[                                        ] | 0% Completed |  3.8s"
     ]
    },
    {
     "name": "stderr",
     "output_type": "stream",
     "text": [
      "C:\\Users\\KatharinaG\\AppData\\Local\\Continuum\\anaconda3\\envs\\py37\\lib\\site-packages\\scipy\\interpolate\\interpolate.py:2514: FutureWarning: Using a non-tuple sequence for multidimensional indexing is deprecated; use `arr[tuple(seq)]` instead of `arr[seq]`. In the future this will be interpreted as an array index, `arr[np.array(seq)]`, which will result either in an error or a different result.\n",
      "  return self.values[idx_res]\n"
     ]
    },
    {
     "name": "stdout",
     "output_type": "stream",
     "text": [
      "[########################################] | 100% Completed | 37min 11.8s\n",
      "WA\n"
     ]
    },
    {
     "name": "stderr",
     "output_type": "stream",
     "text": [
      "C:\\Users\\KatharinaG\\AppData\\Local\\Continuum\\anaconda3\\envs\\py37\\lib\\site-packages\\scipy\\interpolate\\interpolate.py:2514: FutureWarning: Using a non-tuple sequence for multidimensional indexing is deprecated; use `arr[tuple(seq)]` instead of `arr[seq]`. In the future this will be interpreted as an array index, `arr[np.array(seq)]`, which will result either in an error or a different result.\n",
      "  return self.values[idx_res]\n",
      "C:\\Users\\KatharinaG\\AppData\\Local\\Continuum\\anaconda3\\envs\\py37\\lib\\site-packages\\dask\\array\\blockwise.py:210: UserWarning: The da.atop function has moved to da.blockwise\n",
      "  warnings.warn(\"The da.atop function has moved to da.blockwise\")\n"
     ]
    },
    {
     "name": "stdout",
     "output_type": "stream",
     "text": [
      "[                                        ] | 0% Completed |  3.8s"
     ]
    },
    {
     "name": "stderr",
     "output_type": "stream",
     "text": [
      "C:\\Users\\KatharinaG\\AppData\\Local\\Continuum\\anaconda3\\envs\\py37\\lib\\site-packages\\scipy\\interpolate\\interpolate.py:2514: FutureWarning: Using a non-tuple sequence for multidimensional indexing is deprecated; use `arr[tuple(seq)]` instead of `arr[seq]`. In the future this will be interpreted as an array index, `arr[np.array(seq)]`, which will result either in an error or a different result.\n",
      "  return self.values[idx_res]\n"
     ]
    },
    {
     "name": "stdout",
     "output_type": "stream",
     "text": [
      "[########################################] | 100% Completed | 37min 55.4s\n",
      "WI\n"
     ]
    },
    {
     "name": "stderr",
     "output_type": "stream",
     "text": [
      "C:\\Users\\KatharinaG\\AppData\\Local\\Continuum\\anaconda3\\envs\\py37\\lib\\site-packages\\scipy\\interpolate\\interpolate.py:2514: FutureWarning: Using a non-tuple sequence for multidimensional indexing is deprecated; use `arr[tuple(seq)]` instead of `arr[seq]`. In the future this will be interpreted as an array index, `arr[np.array(seq)]`, which will result either in an error or a different result.\n",
      "  return self.values[idx_res]\n",
      "C:\\Users\\KatharinaG\\AppData\\Local\\Continuum\\anaconda3\\envs\\py37\\lib\\site-packages\\dask\\array\\blockwise.py:210: UserWarning: The da.atop function has moved to da.blockwise\n",
      "  warnings.warn(\"The da.atop function has moved to da.blockwise\")\n"
     ]
    },
    {
     "name": "stdout",
     "output_type": "stream",
     "text": [
      "[                                        ] | 0% Completed |  3.9s"
     ]
    },
    {
     "name": "stderr",
     "output_type": "stream",
     "text": [
      "C:\\Users\\KatharinaG\\AppData\\Local\\Continuum\\anaconda3\\envs\\py37\\lib\\site-packages\\scipy\\interpolate\\interpolate.py:2514: FutureWarning: Using a non-tuple sequence for multidimensional indexing is deprecated; use `arr[tuple(seq)]` instead of `arr[seq]`. In the future this will be interpreted as an array index, `arr[np.array(seq)]`, which will result either in an error or a different result.\n",
      "  return self.values[idx_res]\n"
     ]
    },
    {
     "name": "stdout",
     "output_type": "stream",
     "text": [
      "[########################################] | 100% Completed | 37min 47.5s\n",
      "WV\n"
     ]
    },
    {
     "name": "stderr",
     "output_type": "stream",
     "text": [
      "C:\\Users\\KatharinaG\\AppData\\Local\\Continuum\\anaconda3\\envs\\py37\\lib\\site-packages\\scipy\\interpolate\\interpolate.py:2514: FutureWarning: Using a non-tuple sequence for multidimensional indexing is deprecated; use `arr[tuple(seq)]` instead of `arr[seq]`. In the future this will be interpreted as an array index, `arr[np.array(seq)]`, which will result either in an error or a different result.\n",
      "  return self.values[idx_res]\n",
      "C:\\Users\\KatharinaG\\AppData\\Local\\Continuum\\anaconda3\\envs\\py37\\lib\\site-packages\\dask\\array\\blockwise.py:210: UserWarning: The da.atop function has moved to da.blockwise\n",
      "  warnings.warn(\"The da.atop function has moved to da.blockwise\")\n"
     ]
    },
    {
     "name": "stdout",
     "output_type": "stream",
     "text": [
      "[                                        ] | 0% Completed |  3.8s"
     ]
    },
    {
     "name": "stderr",
     "output_type": "stream",
     "text": [
      "C:\\Users\\KatharinaG\\AppData\\Local\\Continuum\\anaconda3\\envs\\py37\\lib\\site-packages\\scipy\\interpolate\\interpolate.py:2514: FutureWarning: Using a non-tuple sequence for multidimensional indexing is deprecated; use `arr[tuple(seq)]` instead of `arr[seq]`. In the future this will be interpreted as an array index, `arr[np.array(seq)]`, which will result either in an error or a different result.\n",
      "  return self.values[idx_res]\n"
     ]
    },
    {
     "name": "stdout",
     "output_type": "stream",
     "text": [
      "[########################################] | 100% Completed | 37min 43.5s\n",
      "WY\n"
     ]
    },
    {
     "name": "stderr",
     "output_type": "stream",
     "text": [
      "C:\\Users\\KatharinaG\\AppData\\Local\\Continuum\\anaconda3\\envs\\py37\\lib\\site-packages\\scipy\\interpolate\\interpolate.py:2514: FutureWarning: Using a non-tuple sequence for multidimensional indexing is deprecated; use `arr[tuple(seq)]` instead of `arr[seq]`. In the future this will be interpreted as an array index, `arr[np.array(seq)]`, which will result either in an error or a different result.\n",
      "  return self.values[idx_res]\n",
      "C:\\Users\\KatharinaG\\AppData\\Local\\Continuum\\anaconda3\\envs\\py37\\lib\\site-packages\\dask\\array\\blockwise.py:210: UserWarning: The da.atop function has moved to da.blockwise\n",
      "  warnings.warn(\"The da.atop function has moved to da.blockwise\")\n"
     ]
    },
    {
     "name": "stdout",
     "output_type": "stream",
     "text": [
      "[                                        ] | 0% Completed |  3.9s"
     ]
    },
    {
     "name": "stderr",
     "output_type": "stream",
     "text": [
      "C:\\Users\\KatharinaG\\AppData\\Local\\Continuum\\anaconda3\\envs\\py37\\lib\\site-packages\\scipy\\interpolate\\interpolate.py:2514: FutureWarning: Using a non-tuple sequence for multidimensional indexing is deprecated; use `arr[tuple(seq)]` instead of `arr[seq]`. In the future this will be interpreted as an array index, `arr[np.array(seq)]`, which will result either in an error or a different result.\n",
      "  return self.values[idx_res]\n"
     ]
    },
    {
     "name": "stdout",
     "output_type": "stream",
     "text": [
      "[########################################] | 100% Completed | 37min 35.9s\n"
     ]
    }
   ],
   "source": [
    "for state in turbine_data.index.levels[0].values:\n",
    "    print(state)\n",
    "    ind = turbine_data.xs(state).ind.values\n",
    "    # select the correct wind atlas\n",
    "    if state=='AK':\n",
    "        GWA = GWA_AK\n",
    "    elif state=='HI':\n",
    "        GWA = GWA_HI\n",
    "    elif state=='PR':\n",
    "        GWA = GWA_PR\n",
    "    else:\n",
    "        GWA = GWA_USA\n",
    "    wps = windpower_simulation_merra2(data,\n",
    "                                    turbine_data.height[ind].values,\n",
    "                                    turbine_data.capacity[ind].values,\n",
    "                                    turbine_data.lon[ind].values,\n",
    "                                    turbine_data.lat[ind].values,\n",
    "                                    turbine_data.iloc[ind].index.get_level_values(level=1).values,\n",
    "                                    GWA)\n",
    "    # save as netcdf\n",
    "    wps.to_dataset(name='wp').to_netcdf(usa_path+\"/results/windpower_\"+state+\"_MERRA2_GWA.nc\")"
   ]
  },
  {
   "cell_type": "markdown",
   "metadata": {},
   "source": [
    "# Sum up regions"
   ]
  },
  {
   "cell_type": "markdown",
   "metadata": {},
   "source": [
    "## States"
   ]
  },
  {
   "cell_type": "code",
   "execution_count": 23,
   "metadata": {},
   "outputs": [
    {
     "name": "stdout",
     "output_type": "stream",
     "text": [
      "AK\n",
      "AR\n",
      "AZ\n",
      "CA\n",
      "CO\n",
      "CT\n",
      "DE\n",
      "FL\n",
      "GU\n",
      "HI\n",
      "IA\n",
      "ID\n",
      "IL\n",
      "IN\n",
      "KS\n",
      "MA\n",
      "MD\n",
      "ME\n",
      "MI\n",
      "MN\n",
      "MO\n",
      "MT\n",
      "NC\n",
      "ND\n",
      "NE\n",
      "NH\n",
      "NJ\n",
      "NM\n",
      "NV\n",
      "NY\n",
      "OH\n",
      "OK\n",
      "OR\n",
      "PA\n",
      "PR\n",
      "RI\n",
      "SD\n",
      "TN\n",
      "TX\n",
      "UT\n",
      "VT\n",
      "WA\n",
      "WI\n",
      "WV\n",
      "WY\n"
     ]
    }
   ],
   "source": [
    "for STATE in turbine_data.index.levels[0].values:\n",
    "    print(STATE)\n",
    "    wp_loc = xr.open_dataset(usa_path+\"/results/windpower_\"+STATE+\"_MERRA2.nc\")\n",
    "    wp_state = wp_loc.sum('location')\n",
    "    if 'wp' in locals():\n",
    "        wp = xr.concat([wp,wp_state.expand_dims(state=[STATE])],dim='state')\n",
    "    else:\n",
    "        wp = wp_state.expand_dims(state=[STATE])\n",
    "    \n",
    "# save as netcdf\n",
    "wp.to_netcdf(usa_path+\"/results/windpower_states_MERRA2.nc\")\n",
    "del(wp)"
   ]
  },
  {
   "cell_type": "code",
   "execution_count": 18,
   "metadata": {},
   "outputs": [],
   "source": [
    "for STATE in turbine_data.index.levels[0].values:\n",
    "    wp_loc = xr.open_dataset(usa_path+\"/results/windpower_\"+STATE+\"_MERRA2_GWA.nc\")\n",
    "    wp_state = wp_loc.sum('location')\n",
    "    if 'wp' in locals():\n",
    "        wp = xr.concat([wp,wp_state.expand_dims(state=[STATE])],dim='state')\n",
    "    else:\n",
    "        wp = wp_state.expand_dims(state=[STATE])\n",
    "    \n",
    "# save as netcdf\n",
    "wp.to_netcdf(usa_path+\"/results/windpower_states_MERRA2_GWA.nc\")\n",
    "del(wp)"
   ]
  },
  {
   "cell_type": "markdown",
   "metadata": {},
   "source": [
    "## BPA"
   ]
  },
  {
   "cell_type": "code",
   "execution_count": 19,
   "metadata": {},
   "outputs": [],
   "source": [
    "# load BPA wind parks\n",
    "BPA_parks = pd.read_csv(usa_path+\"/BPA_windparks.csv\")\n",
    "# add wind park names to turbine data\n",
    "turbine_data['name'] = windturbines.p_name.values\n",
    "for state in BPA_parks.state.unique():\n",
    "    # load data of BPA states\n",
    "    wp_loc = xr.open_dataset(usa_path+\"/results/windpower_\"+state+\"_MERRA2.nc\")\n",
    "    # get indices of BPA parks\n",
    "    ind = [park in BPA_parks.name[BPA_parks.state==state].values for park in turbine_data.xs(state).name.values]\n",
    "    # select BPA parks and sum up\n",
    "    wp_state = wp_loc.isel(location=ind).sum('location')\n",
    "    if 'wp' in locals():\n",
    "        wp = xr.concat([wp,wp_state.expand_dims(state=[state])],dim='state')\n",
    "    else:\n",
    "        wp = wp_state.expand_dims(state=[state])\n",
    "# sum over states\n",
    "wpBPA = wp.sum('state')\n",
    "# save as netcdf\n",
    "wpBPA.to_netcdf(usa_path+\"/results/windpower_BPA_MERRA2.nc\")\n",
    "del(wp)"
   ]
  },
  {
   "cell_type": "code",
   "execution_count": 20,
   "metadata": {},
   "outputs": [],
   "source": [
    "# load BPA wind parks\n",
    "BPA_parks = pd.read_csv(usa_path+\"/BPA_windparks.csv\")\n",
    "# add wind park names to turbine data\n",
    "turbine_data['name'] = windturbines.p_name.values\n",
    "for state in BPA_parks.state.unique():\n",
    "    # load data of BPA states\n",
    "    wp_loc = xr.open_dataset(usa_path+\"/results/windpower_\"+state+\"_MERRA2_GWA.nc\")\n",
    "    # get indices of BPA parks\n",
    "    ind = [park in BPA_parks.name[BPA_parks.state==state].values for park in turbine_data.xs(state).name.values]\n",
    "    # select BPA parks and sum up\n",
    "    wp_state = wp_loc.isel(location=ind).sum('location')\n",
    "    if 'wp' in locals():\n",
    "        wp = xr.concat([wp,wp_state.expand_dims(state=[state])],dim='state')\n",
    "    else:\n",
    "        wp = wp_state.expand_dims(state=[state])\n",
    "# sum over states\n",
    "wpBPA = wp.sum('state')\n",
    "# save as netcdf\n",
    "wpBPA.to_netcdf(usa_path+\"/results/windpower_BPA_MERRA2_GWA.nc\")"
   ]
  },
  {
   "cell_type": "markdown",
   "metadata": {},
   "source": [
    "## New England\n",
    "New England is a part of the USA consisting of the states Connecticut, New Hampshire, Maine, Massachusetts, Rhode Island and Vermont (CT, NH, ME, MA, RI, VT)"
   ]
  },
  {
   "cell_type": "code",
   "execution_count": 25,
   "metadata": {},
   "outputs": [
    {
     "ename": "InvalidIndexError",
     "evalue": "Reindexing only valid with uniquely valued Index objects",
     "output_type": "error",
     "traceback": [
      "\u001b[1;31m---------------------------------------------------------------------------\u001b[0m",
      "\u001b[1;31mInvalidIndexError\u001b[0m                         Traceback (most recent call last)",
      "\u001b[1;32m<ipython-input-25-c41a0fe7099f>\u001b[0m in \u001b[0;36m<module>\u001b[1;34m()\u001b[0m\n\u001b[0;32m      2\u001b[0m \u001b[1;31m# without GWA\u001b[0m\u001b[1;33m\u001b[0m\u001b[1;33m\u001b[0m\u001b[0m\n\u001b[0;32m      3\u001b[0m \u001b[0mwp_state\u001b[0m \u001b[1;33m=\u001b[0m \u001b[0mxr\u001b[0m\u001b[1;33m.\u001b[0m\u001b[0mopen_dataset\u001b[0m\u001b[1;33m(\u001b[0m\u001b[0musa_path\u001b[0m\u001b[1;33m+\u001b[0m\u001b[1;34m\"/results/windpower_states_MERRA2.nc\"\u001b[0m\u001b[1;33m)\u001b[0m\u001b[1;33m\u001b[0m\u001b[0m\n\u001b[1;32m----> 4\u001b[1;33m \u001b[0mwpNE\u001b[0m \u001b[1;33m=\u001b[0m \u001b[0mwp_state\u001b[0m\u001b[1;33m.\u001b[0m\u001b[0msel\u001b[0m\u001b[1;33m(\u001b[0m\u001b[0mstate\u001b[0m\u001b[1;33m=\u001b[0m\u001b[0mNE_states\u001b[0m\u001b[1;33m)\u001b[0m\u001b[1;33m.\u001b[0m\u001b[0msum\u001b[0m\u001b[1;33m(\u001b[0m\u001b[1;34m'state'\u001b[0m\u001b[1;33m)\u001b[0m\u001b[1;33m\u001b[0m\u001b[0m\n\u001b[0m\u001b[0;32m      5\u001b[0m \u001b[0mwpNE\u001b[0m\u001b[1;33m.\u001b[0m\u001b[0mto_netcdf\u001b[0m\u001b[1;33m(\u001b[0m\u001b[0musa_path\u001b[0m\u001b[1;33m+\u001b[0m\u001b[1;34m\"/results/windpower_NewEngland_MERRA2.nc\"\u001b[0m\u001b[1;33m)\u001b[0m\u001b[1;33m\u001b[0m\u001b[0m\n\u001b[0;32m      6\u001b[0m \u001b[1;31m# with GWA\u001b[0m\u001b[1;33m\u001b[0m\u001b[1;33m\u001b[0m\u001b[0m\n",
      "\u001b[1;32m~\\AppData\\Local\\Continuum\\anaconda3\\envs\\py37\\lib\\site-packages\\xarray\\core\\dataset.py\u001b[0m in \u001b[0;36msel\u001b[1;34m(self, indexers, method, tolerance, drop, **indexers_kwargs)\u001b[0m\n\u001b[0;32m   1729\u001b[0m         \u001b[0mindexers\u001b[0m \u001b[1;33m=\u001b[0m \u001b[0meither_dict_or_kwargs\u001b[0m\u001b[1;33m(\u001b[0m\u001b[0mindexers\u001b[0m\u001b[1;33m,\u001b[0m \u001b[0mindexers_kwargs\u001b[0m\u001b[1;33m,\u001b[0m \u001b[1;34m'sel'\u001b[0m\u001b[1;33m)\u001b[0m\u001b[1;33m\u001b[0m\u001b[0m\n\u001b[0;32m   1730\u001b[0m         pos_indexers, new_indexes = remap_label_indexers(\n\u001b[1;32m-> 1731\u001b[1;33m             self, indexers=indexers, method=method, tolerance=tolerance)\n\u001b[0m\u001b[0;32m   1732\u001b[0m         \u001b[0mresult\u001b[0m \u001b[1;33m=\u001b[0m \u001b[0mself\u001b[0m\u001b[1;33m.\u001b[0m\u001b[0misel\u001b[0m\u001b[1;33m(\u001b[0m\u001b[0mindexers\u001b[0m\u001b[1;33m=\u001b[0m\u001b[0mpos_indexers\u001b[0m\u001b[1;33m,\u001b[0m \u001b[0mdrop\u001b[0m\u001b[1;33m=\u001b[0m\u001b[0mdrop\u001b[0m\u001b[1;33m)\u001b[0m\u001b[1;33m\u001b[0m\u001b[0m\n\u001b[0;32m   1733\u001b[0m         \u001b[1;32mreturn\u001b[0m \u001b[0mresult\u001b[0m\u001b[1;33m.\u001b[0m\u001b[0m_overwrite_indexes\u001b[0m\u001b[1;33m(\u001b[0m\u001b[0mnew_indexes\u001b[0m\u001b[1;33m)\u001b[0m\u001b[1;33m\u001b[0m\u001b[0m\n",
      "\u001b[1;32m~\\AppData\\Local\\Continuum\\anaconda3\\envs\\py37\\lib\\site-packages\\xarray\\core\\coordinates.py\u001b[0m in \u001b[0;36mremap_label_indexers\u001b[1;34m(obj, indexers, method, tolerance, **indexers_kwargs)\u001b[0m\n\u001b[0;32m    315\u001b[0m \u001b[1;33m\u001b[0m\u001b[0m\n\u001b[0;32m    316\u001b[0m     pos_indexers, new_indexes = indexing.remap_label_indexers(\n\u001b[1;32m--> 317\u001b[1;33m         \u001b[0mobj\u001b[0m\u001b[1;33m,\u001b[0m \u001b[0mv_indexers\u001b[0m\u001b[1;33m,\u001b[0m \u001b[0mmethod\u001b[0m\u001b[1;33m=\u001b[0m\u001b[0mmethod\u001b[0m\u001b[1;33m,\u001b[0m \u001b[0mtolerance\u001b[0m\u001b[1;33m=\u001b[0m\u001b[0mtolerance\u001b[0m\u001b[1;33m\u001b[0m\u001b[0m\n\u001b[0m\u001b[0;32m    318\u001b[0m     )\n\u001b[0;32m    319\u001b[0m     \u001b[1;31m# attach indexer's coordinate to pos_indexers\u001b[0m\u001b[1;33m\u001b[0m\u001b[1;33m\u001b[0m\u001b[0m\n",
      "\u001b[1;32m~\\AppData\\Local\\Continuum\\anaconda3\\envs\\py37\\lib\\site-packages\\xarray\\core\\indexing.py\u001b[0m in \u001b[0;36mremap_label_indexers\u001b[1;34m(data_obj, indexers, method, tolerance)\u001b[0m\n\u001b[0;32m    250\u001b[0m         \u001b[1;32melse\u001b[0m\u001b[1;33m:\u001b[0m\u001b[1;33m\u001b[0m\u001b[0m\n\u001b[0;32m    251\u001b[0m             idxr, new_idx = convert_label_indexer(index, label,\n\u001b[1;32m--> 252\u001b[1;33m                                                   dim, method, tolerance)\n\u001b[0m\u001b[0;32m    253\u001b[0m             \u001b[0mpos_indexers\u001b[0m\u001b[1;33m[\u001b[0m\u001b[0mdim\u001b[0m\u001b[1;33m]\u001b[0m \u001b[1;33m=\u001b[0m \u001b[0midxr\u001b[0m\u001b[1;33m\u001b[0m\u001b[0m\n\u001b[0;32m    254\u001b[0m             \u001b[1;32mif\u001b[0m \u001b[0mnew_idx\u001b[0m \u001b[1;32mis\u001b[0m \u001b[1;32mnot\u001b[0m \u001b[1;32mNone\u001b[0m\u001b[1;33m:\u001b[0m\u001b[1;33m\u001b[0m\u001b[0m\n",
      "\u001b[1;32m~\\AppData\\Local\\Continuum\\anaconda3\\envs\\py37\\lib\\site-packages\\xarray\\core\\indexing.py\u001b[0m in \u001b[0;36mconvert_label_indexer\u001b[1;34m(index, label, index_name, method, tolerance)\u001b[0m\n\u001b[0;32m    186\u001b[0m                 raise ValueError('Vectorized selection is not available along '\n\u001b[0;32m    187\u001b[0m                                  'MultiIndex variable: ' + index_name)\n\u001b[1;32m--> 188\u001b[1;33m             \u001b[0mindexer\u001b[0m \u001b[1;33m=\u001b[0m \u001b[0mget_indexer_nd\u001b[0m\u001b[1;33m(\u001b[0m\u001b[0mindex\u001b[0m\u001b[1;33m,\u001b[0m \u001b[0mlabel\u001b[0m\u001b[1;33m,\u001b[0m \u001b[0mmethod\u001b[0m\u001b[1;33m,\u001b[0m \u001b[0mtolerance\u001b[0m\u001b[1;33m)\u001b[0m\u001b[1;33m\u001b[0m\u001b[0m\n\u001b[0m\u001b[0;32m    189\u001b[0m             \u001b[1;32mif\u001b[0m \u001b[0mnp\u001b[0m\u001b[1;33m.\u001b[0m\u001b[0many\u001b[0m\u001b[1;33m(\u001b[0m\u001b[0mindexer\u001b[0m \u001b[1;33m<\u001b[0m \u001b[1;36m0\u001b[0m\u001b[1;33m)\u001b[0m\u001b[1;33m:\u001b[0m\u001b[1;33m\u001b[0m\u001b[0m\n\u001b[0;32m    190\u001b[0m                 raise KeyError('not all values found in index %r'\n",
      "\u001b[1;32m~\\AppData\\Local\\Continuum\\anaconda3\\envs\\py37\\lib\\site-packages\\xarray\\core\\indexing.py\u001b[0m in \u001b[0;36mget_indexer_nd\u001b[1;34m(index, labels, method, tolerance)\u001b[0m\n\u001b[0;32m    114\u001b[0m \u001b[1;33m\u001b[0m\u001b[0m\n\u001b[0;32m    115\u001b[0m     \u001b[0mflat_labels\u001b[0m \u001b[1;33m=\u001b[0m \u001b[0mnp\u001b[0m\u001b[1;33m.\u001b[0m\u001b[0mravel\u001b[0m\u001b[1;33m(\u001b[0m\u001b[0mlabels\u001b[0m\u001b[1;33m)\u001b[0m\u001b[1;33m\u001b[0m\u001b[0m\n\u001b[1;32m--> 116\u001b[1;33m     \u001b[0mflat_indexer\u001b[0m \u001b[1;33m=\u001b[0m \u001b[0mindex\u001b[0m\u001b[1;33m.\u001b[0m\u001b[0mget_indexer\u001b[0m\u001b[1;33m(\u001b[0m\u001b[0mflat_labels\u001b[0m\u001b[1;33m,\u001b[0m \u001b[1;33m**\u001b[0m\u001b[0mkwargs\u001b[0m\u001b[1;33m)\u001b[0m\u001b[1;33m\u001b[0m\u001b[0m\n\u001b[0m\u001b[0;32m    117\u001b[0m     \u001b[0mindexer\u001b[0m \u001b[1;33m=\u001b[0m \u001b[0mflat_indexer\u001b[0m\u001b[1;33m.\u001b[0m\u001b[0mreshape\u001b[0m\u001b[1;33m(\u001b[0m\u001b[0mlabels\u001b[0m\u001b[1;33m.\u001b[0m\u001b[0mshape\u001b[0m\u001b[1;33m)\u001b[0m\u001b[1;33m\u001b[0m\u001b[0m\n\u001b[0;32m    118\u001b[0m     \u001b[1;32mreturn\u001b[0m \u001b[0mindexer\u001b[0m\u001b[1;33m\u001b[0m\u001b[0m\n",
      "\u001b[1;32m~\\AppData\\Local\\Continuum\\anaconda3\\envs\\py37\\lib\\site-packages\\pandas\\core\\indexes\\base.py\u001b[0m in \u001b[0;36mget_indexer\u001b[1;34m(self, target, method, limit, tolerance)\u001b[0m\n\u001b[0;32m   2738\u001b[0m \u001b[1;33m\u001b[0m\u001b[0m\n\u001b[0;32m   2739\u001b[0m         \u001b[1;32mif\u001b[0m \u001b[1;32mnot\u001b[0m \u001b[0mself\u001b[0m\u001b[1;33m.\u001b[0m\u001b[0mis_unique\u001b[0m\u001b[1;33m:\u001b[0m\u001b[1;33m\u001b[0m\u001b[0m\n\u001b[1;32m-> 2740\u001b[1;33m             raise InvalidIndexError('Reindexing only valid with uniquely'\n\u001b[0m\u001b[0;32m   2741\u001b[0m                                     ' valued Index objects')\n\u001b[0;32m   2742\u001b[0m \u001b[1;33m\u001b[0m\u001b[0m\n",
      "\u001b[1;31mInvalidIndexError\u001b[0m: Reindexing only valid with uniquely valued Index objects"
     ]
    }
   ],
   "source": [
    "NE_states = ['CT','NH','ME','MA','RI','VT']\n",
    "# without GWA\n",
    "wp_state = xr.open_dataset(usa_path+\"/results/windpower_states_MERRA2.nc\")\n",
    "wpNE = wp_state.sel(state=NE_states).sum('state')\n",
    "wpNE.to_netcdf(usa_path+\"/results/windpower_NewEngland_MERRA2.nc\")\n",
    "# with GWA\n",
    "wp_state = xr.open_dataset(usa_path+\"/results/windpower_states_MERRA2_GWA.nc\")\n",
    "wpNE = wp_state.sel(state=NE_states).sum('state')\n",
    "wpNE.to_netcdf(usa_path+\"/results/windpower_NewEngland_MERRA2_GWA.nc\")"
   ]
  },
  {
   "cell_type": "markdown",
   "metadata": {},
   "source": [
    "## USA"
   ]
  },
  {
   "cell_type": "code",
   "execution_count": 26,
   "metadata": {},
   "outputs": [],
   "source": [
    "# without GWA\n",
    "wp_state = xr.open_dataset(usa_path+\"/results/windpower_states_MERRA2.nc\")\n",
    "wpUSA = wp_state.sum('state')\n",
    "wpUSA.to_netcdf(usa_path+\"/results/windpower_USA_MERRA2.nc\")\n",
    "# with GWA\n",
    "wp_state = xr.open_dataset(usa_path+\"/results/windpower_states_MERRA2_GWA.nc\")\n",
    "wpUSA = wp_state.sum('state')\n",
    "wpUSA.to_netcdf(usa_path+\"/results/windpower_USA_MERRA2_GWA.nc\")"
   ]
  },
  {
   "cell_type": "code",
   "execution_count": null,
   "metadata": {},
   "outputs": [],
   "source": []
  }
 ],
 "metadata": {
  "kernelspec": {
   "display_name": "Python 3",
   "language": "python",
   "name": "python3"
  },
  "language_info": {
   "codemirror_mode": {
    "name": "ipython",
    "version": 3
   },
   "file_extension": ".py",
   "mimetype": "text/x-python",
   "name": "python",
   "nbconvert_exporter": "python",
   "pygments_lexer": "ipython3",
   "version": "3.7.0"
  }
 },
 "nbformat": 4,
 "nbformat_minor": 2
}
