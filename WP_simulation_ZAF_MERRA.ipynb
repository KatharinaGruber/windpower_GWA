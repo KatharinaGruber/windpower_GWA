{
 "cells": [
  {
   "cell_type": "code",
   "execution_count": 1,
   "metadata": {},
   "outputs": [],
   "source": [
    "import os\n",
    "import pandas as pd\n",
    "import xarray as xr\n",
    "import numpy as np\n",
    "from matplotlib import pyplot as plt\n",
    "import datetime\n",
    "from scipy.interpolate import interp1d\n",
    "import seaborn as sns"
   ]
  },
  {
   "cell_type": "code",
   "execution_count": 2,
   "metadata": {},
   "outputs": [],
   "source": [
    "south_africa_path = \"C:/Users/KatharinaG/Documents/South_Africa\""
   ]
  },
  {
   "cell_type": "code",
   "execution_count": 3,
   "metadata": {},
   "outputs": [],
   "source": [
    "col_refuel7 = sns.color_palette([\"#c72321\",\"#861719\",\"#f0c320\",\"#af8f19\",\"#6e9b9e\",\"#0d8085\",\"#19484c\"])\n",
    "col_refuel3 = sns.color_palette([\"#c72321\", \"#0d8085\", \"#efc220\"])\n",
    "col_refuel5 = sns.color_palette([\"#c62220\", \"#fbd7a8\", \"#7a6952\", \"#0d8085\", \"#f0c220\"])\n",
    "col_refuel10 = sns.color_palette([\"#c72321\",\"#861719\",\"#fbd7a9\",\"#ba9f7c\",\"#7a6952\",\"#6e9b9e\",\"#0d8085\",\"#19484c\",\"#f0c320\",\"#af8f19\"])\n"
   ]
  },
  {
   "cell_type": "code",
   "execution_count": 4,
   "metadata": {},
   "outputs": [],
   "source": [
    "rea_path = \"C:/Users/KatharinaG/Data/MERRA/ZAF\"\n",
    "\n",
    "chk = {\n",
    "    \"time\" : 36\n",
    "}\n",
    "data = xr.open_mfdataset(rea_path+\"/*.nc\",chunks=chk)"
   ]
  },
  {
   "cell_type": "markdown",
   "metadata": {},
   "source": [
    "load locations of wind power plants"
   ]
  },
  {
   "cell_type": "code",
   "execution_count": 5,
   "metadata": {},
   "outputs": [],
   "source": [
    "windparks = pd.read_csv(south_africa_path+\"/windparks_southafrica.csv\",delimiter=';') "
   ]
  },
  {
   "cell_type": "markdown",
   "metadata": {},
   "source": [
    "extract years, months and days of commissioning dates, if month not given set to 6, if day not given set to 15"
   ]
  },
  {
   "cell_type": "code",
   "execution_count": 6,
   "metadata": {},
   "outputs": [],
   "source": [
    "y = np.array([x[:4] for x in windparks.commissioning])"
   ]
  },
  {
   "cell_type": "code",
   "execution_count": 7,
   "metadata": {},
   "outputs": [],
   "source": [
    "m = np.array([x[5:7] for x in windparks.commissioning])\n",
    "m[m==''] = '06'"
   ]
  },
  {
   "cell_type": "code",
   "execution_count": 8,
   "metadata": {},
   "outputs": [],
   "source": [
    "d = np.array([x[8:10] for x in windparks.commissioning])\n",
    "d[d==''] = '15'"
   ]
  },
  {
   "cell_type": "markdown",
   "metadata": {},
   "source": [
    "join years, months and days to datetime format"
   ]
  },
  {
   "cell_type": "code",
   "execution_count": 9,
   "metadata": {},
   "outputs": [],
   "source": [
    "t = [np.datetime64(y[i]+'-'+m[i]+'-'+d[i]+\"T00:00:00\") for i in np.arange(len(y))]"
   ]
  },
  {
   "cell_type": "markdown",
   "metadata": {},
   "source": [
    "extract longitudes and latitudes of locations of wind parks"
   ]
  },
  {
   "cell_type": "code",
   "execution_count": 10,
   "metadata": {},
   "outputs": [],
   "source": [
    "lons = windparks.Longitude\n",
    "lats = windparks.Latitude"
   ]
  },
  {
   "cell_type": "markdown",
   "metadata": {},
   "source": [
    "interpolate wind speeds to locations of wind parks, store in list and concatenate to xarray dataset"
   ]
  },
  {
   "cell_type": "code",
   "execution_count": 11,
   "metadata": {},
   "outputs": [],
   "source": [
    "wind_windparks = data.interp(coords={\"lon\":xr.DataArray(lons,dims='location'),\n",
    "                                     \"lat\":xr.DataArray(lats,dims='location')},method=\"nearest\")"
   ]
  },
  {
   "cell_type": "markdown",
   "metadata": {},
   "source": [
    "# Inter- and extrapolation of wind speeds to hub height (108 m)"
   ]
  },
  {
   "cell_type": "markdown",
   "metadata": {},
   "source": [
    "calculate wind at 10 and 50m height with pythagoras form u and v wind speed component"
   ]
  },
  {
   "cell_type": "markdown",
   "metadata": {},
   "source": [
    "\\begin{equation*}\n",
    "v_{eff} = \\sqrt{u^2+v^2}\n",
    "\\end{equation*}"
   ]
  },
  {
   "cell_type": "code",
   "execution_count": 12,
   "metadata": {},
   "outputs": [
    {
     "name": "stderr",
     "output_type": "stream",
     "text": [
      "C:\\Users\\KatharinaG\\AppData\\Local\\Continuum\\anaconda3\\envs\\py37\\lib\\site-packages\\scipy\\interpolate\\interpolate.py:2514: FutureWarning: Using a non-tuple sequence for multidimensional indexing is deprecated; use `arr[tuple(seq)]` instead of `arr[seq]`. In the future this will be interpreted as an array index, `arr[np.array(seq)]`, which will result either in an error or a different result.\n",
      "  return self.values[idx_res]\n"
     ]
    }
   ],
   "source": [
    "# wind in 10m above disposition height calculated from u and v component\n",
    "windh10d = np.sqrt(wind_windparks.V10M.values**2 + wind_windparks.U10M.values**2)\n",
    "# wind in 100m height calculated from u and v component\n",
    "windh50 = np.sqrt(wind_windparks.V50M.values**2 + wind_windparks.U50M.values**2)"
   ]
  },
  {
   "cell_type": "markdown",
   "metadata": {},
   "source": [
    "calculate alpha friction coefficient"
   ]
  },
  {
   "cell_type": "markdown",
   "metadata": {},
   "source": [
    "\\begin{equation*}\n",
    "\\alpha = \\frac{(ln(v_2/v_1)}{(ln(h_2/h_1))}\n",
    "\\end{equation*}"
   ]
  },
  {
   "cell_type": "code",
   "execution_count": 13,
   "metadata": {},
   "outputs": [
    {
     "name": "stderr",
     "output_type": "stream",
     "text": [
      "C:\\Users\\KatharinaG\\AppData\\Local\\Continuum\\anaconda3\\envs\\py37\\lib\\site-packages\\scipy\\interpolate\\interpolate.py:2514: FutureWarning: Using a non-tuple sequence for multidimensional indexing is deprecated; use `arr[tuple(seq)]` instead of `arr[seq]`. In the future this will be interpreted as an array index, `arr[np.array(seq)]`, which will result either in an error or a different result.\n",
      "  return self.values[idx_res]\n"
     ]
    }
   ],
   "source": [
    "# disposition height + 10m (height of windspeeds windh10d)\n",
    "h1 = 10 + wind_windparks.DISPH.values"
   ]
  },
  {
   "cell_type": "code",
   "execution_count": 14,
   "metadata": {},
   "outputs": [],
   "source": [
    "alpha = (np.log(windh50/windh10d))/(np.log(50/h1))\n"
   ]
  },
  {
   "cell_type": "code",
   "execution_count": null,
   "metadata": {},
   "outputs": [],
   "source": []
  },
  {
   "cell_type": "markdown",
   "metadata": {},
   "source": [
    "then calculate wind speed at height 108m (height of Enercon E-82)"
   ]
  },
  {
   "cell_type": "markdown",
   "metadata": {},
   "source": [
    "\\begin{equation*}\n",
    "v_2 = v_1 * \\Bigl(\\frac{h_2}{h_1}\\Bigr)^\\alpha\n",
    "\\end{equation*}"
   ]
  },
  {
   "cell_type": "code",
   "execution_count": 15,
   "metadata": {},
   "outputs": [],
   "source": [
    "turbine_height = 108\n",
    "windh108 = windh10d * (turbine_height/h1)**alpha"
   ]
  },
  {
   "cell_type": "markdown",
   "metadata": {},
   "source": [
    "# calculate wind power generation from wind speeds"
   ]
  },
  {
   "cell_type": "markdown",
   "metadata": {},
   "source": [
    "Enercon E-82 power curve (https://www.enercon.de/fileadmin/Redakteur/Medien-Portal/broschueren/pdf/en/ENERCON_Produkt_en_06_2015.pdf)"
   ]
  },
  {
   "cell_type": "code",
   "execution_count": 16,
   "metadata": {},
   "outputs": [
    {
     "data": {
      "text/plain": [
       "[<matplotlib.lines.Line2D at 0x2f8bde69d68>]"
      ]
     },
     "execution_count": 16,
     "metadata": {},
     "output_type": "execute_result"
    },
    {
     "data": {
      "image/png": "[encoded data removed]",
      "text/plain": [
       "<Figure size 432x288 with 1 Axes>"
      ]
     },
     "metadata": {
      "needs_background": "light"
     },
     "output_type": "display_data"
    }
   ],
   "source": [
    "wind_speeds = (np.arange(0, 26, step=1.0))\n",
    "generation_kw = [0.0, 0.000000000001, 3.0, 25.0, 82.0, 175.0, 321.0, 532.0, 815.0, 1180.0, 1580.0, 1810.0, 1980.0] + 13 * [2050.0]\n",
    "plt.plot(wind_speeds,generation_kw)"
   ]
  },
  {
   "cell_type": "code",
   "execution_count": 17,
   "metadata": {},
   "outputs": [
    {
     "data": {
      "text/plain": [
       "0.0010268346111719606"
      ]
     },
     "execution_count": 17,
     "metadata": {},
     "output_type": "execute_result"
    }
   ],
   "source": [
    "# which share of wind speeds is higher than 25 m/s?\n",
    "len(windh108[windh108>25])/(len(windh108))"
   ]
  },
  {
   "cell_type": "code",
   "execution_count": 18,
   "metadata": {},
   "outputs": [],
   "source": [
    "# set those values to 25\n",
    "windh108[windh108>25] = 25"
   ]
  },
  {
   "cell_type": "markdown",
   "metadata": {},
   "source": [
    "create power curve function, which linearly interpolates between power curve points"
   ]
  },
  {
   "cell_type": "code",
   "execution_count": 19,
   "metadata": {},
   "outputs": [],
   "source": [
    "power_curve = interp1d(wind_speeds, generation_kw)"
   ]
  },
  {
   "cell_type": "markdown",
   "metadata": {},
   "source": [
    "calculate wind power generation"
   ]
  },
  {
   "cell_type": "code",
   "execution_count": 20,
   "metadata": {},
   "outputs": [],
   "source": [
    "wp1 = xr.apply_ufunc(power_curve, windh108,\n",
    "                     dask='parallelized',\n",
    "                     output_dtypes=[np.float64])\n",
    "# fetch installed capacity and divide by 2000 to make factor for capacity of Enercon E-82\n",
    "cap = list(windparks.Capacity/2000.0)\n",
    "# multiply with installed capacity\n",
    "wp2 = cap*wp1\n"
   ]
  },
  {
   "cell_type": "code",
   "execution_count": null,
   "metadata": {},
   "outputs": [],
   "source": []
  },
  {
   "cell_type": "code",
   "execution_count": 21,
   "metadata": {},
   "outputs": [],
   "source": [
    "# function which \"commissions\" wind park : before commissioning production is set to 0\n",
    "# parameters:\n",
    "# - date1: commissioning date, dtype datetime64\n",
    "# - timeseries: time series of period, dtype datetime64\n",
    "# - windpower: wind power scaled by installed capacity, length same as timeseries\n",
    "def commission(date1,timeseries,windpower):\n",
    "    bin_sel = np.zeros(len(timeseries))\n",
    "    bin_sel[timeseries >= date1] = 1\n",
    "    out = windpower * bin_sel\n",
    "    return out"
   ]
  },
  {
   "cell_type": "code",
   "execution_count": 22,
   "metadata": {},
   "outputs": [],
   "source": [
    "# prepare array for commissioned wind power\n",
    "wp3 = np.zeros(wp2.shape)\n",
    "# make wind power generation start at commissioning date\n",
    "for i in np.arange(len(t)):\n",
    "    wp3[:,i] = commission(t[i],wind_windparks.time.values,wp2[:,i])"
   ]
  },
  {
   "cell_type": "markdown",
   "metadata": {},
   "source": [
    "make into xarray dataset"
   ]
  },
  {
   "cell_type": "code",
   "execution_count": 23,
   "metadata": {},
   "outputs": [],
   "source": [
    "idx = pd.MultiIndex.from_arrays([lons,\n",
    "                                 lats],\n",
    "                                 names=['lon', 'lat'])\n",
    "\n",
    "windpower_windparks = xr.DataArray(wp3,coords={'time':wind_windparks.time.values,'location':idx},dims=('time','location')).to_dataset(name='wind_power')"
   ]
  },
  {
   "cell_type": "code",
   "execution_count": 24,
   "metadata": {},
   "outputs": [],
   "source": [
    "# save data\n",
    "windpower_windparks_newind = windpower_windparks.copy(deep=True)\n",
    "windpower_windparks_newind = windpower_windparks_newind.reset_index('location')\n",
    "windpower_windparks_newind.to_netcdf(south_africa_path+\"/results/windpower_ZAF_MERRA.nc\")"
   ]
  },
  {
   "cell_type": "code",
   "execution_count": null,
   "metadata": {},
   "outputs": [],
   "source": []
  },
  {
   "cell_type": "markdown",
   "metadata": {},
   "source": [
    "# Get Global Wind Atlas data"
   ]
  },
  {
   "cell_type": "markdown",
   "metadata": {},
   "source": [
    "use rasterio, it's the easiest way and directly makes it into an xarray for easy interpolation"
   ]
  },
  {
   "cell_type": "code",
   "execution_count": 25,
   "metadata": {},
   "outputs": [],
   "source": [
    "GWA = xr.open_rasterio(south_africa_path+'/GWA_ZAF_50m.tif')"
   ]
  },
  {
   "cell_type": "markdown",
   "metadata": {},
   "source": [
    "interpolate to locations of wind turbines"
   ]
  },
  {
   "cell_type": "code",
   "execution_count": 26,
   "metadata": {},
   "outputs": [
    {
     "name": "stderr",
     "output_type": "stream",
     "text": [
      "C:\\Users\\KatharinaG\\AppData\\Local\\Continuum\\anaconda3\\envs\\py37\\lib\\site-packages\\scipy\\interpolate\\interpolate.py:2514: FutureWarning: Using a non-tuple sequence for multidimensional indexing is deprecated; use `arr[tuple(seq)]` instead of `arr[seq]`. In the future this will be interpreted as an array index, `arr[np.array(seq)]`, which will result either in an error or a different result.\n",
      "  return self.values[idx_res]\n"
     ]
    }
   ],
   "source": [
    "GWA_locations = GWA.interp(coords={\"x\":xr.DataArray(lons,dims='location'),\n",
    "                                   \"y\":xr.DataArray(lats,dims='location')},method=\"nearest\")"
   ]
  },
  {
   "cell_type": "markdown",
   "metadata": {},
   "source": [
    "calculate correction factor wind speeds by division"
   ]
  },
  {
   "cell_type": "code",
   "execution_count": 27,
   "metadata": {},
   "outputs": [],
   "source": [
    "corr_fac_GWA = GWA_locations.values/windh50.mean(axis=0)\n"
   ]
  },
  {
   "cell_type": "markdown",
   "metadata": {},
   "source": [
    "apply correction factor"
   ]
  },
  {
   "cell_type": "code",
   "execution_count": 28,
   "metadata": {},
   "outputs": [],
   "source": [
    "windh108_GWA = windh108 * corr_fac_GWA"
   ]
  },
  {
   "cell_type": "markdown",
   "metadata": {},
   "source": [
    "calculate wind power generation like before"
   ]
  },
  {
   "cell_type": "code",
   "execution_count": 29,
   "metadata": {},
   "outputs": [
    {
     "data": {
      "text/plain": [
       "0.0004791894852135816"
      ]
     },
     "execution_count": 29,
     "metadata": {},
     "output_type": "execute_result"
    }
   ],
   "source": [
    "# which share of wind is above 25 m/s?\n",
    "len(windh108_GWA[windh108_GWA>25])/len(windh108_GWA)"
   ]
  },
  {
   "cell_type": "code",
   "execution_count": 30,
   "metadata": {},
   "outputs": [],
   "source": [
    "# set these  to 25 m/s\n",
    "windh108_GWA[windh108_GWA>25] = 25"
   ]
  },
  {
   "cell_type": "code",
   "execution_count": 31,
   "metadata": {},
   "outputs": [],
   "source": [
    "wp1_GWA = xr.apply_ufunc(power_curve, windh108_GWA,\n",
    "                     dask='parallelized',\n",
    "                     output_dtypes=[np.float64])\n",
    "# fetch installed capacity and divide by 2000 to make factor for capacity of Enercon E-82\n",
    "cap = list(windparks.Capacity/2000.0)\n",
    "# multiply with installed capacity\n",
    "wp2_GWA = cap*wp1_GWA\n",
    "wp3_GWA = np.zeros(wp2_GWA.shape)\n",
    "# make wind power generation start at commissioning date\n",
    "for i in np.arange(len(t)):\n",
    "    wp3_GWA[:,i] = commission(t[i],wind_windparks.time.values,wp2_GWA[:,i])\n",
    "windpower_windparks_GWA = xr.DataArray(wp3_GWA,coords={'time':wind_windparks.time.values,'location':idx},dims=('time','location')).to_dataset(name='wind_power')\n"
   ]
  },
  {
   "cell_type": "markdown",
   "metadata": {},
   "source": [
    "# Sum up capes"
   ]
  },
  {
   "cell_type": "markdown",
   "metadata": {},
   "source": [
    "extract the indices of locations from different areas"
   ]
  },
  {
   "cell_type": "code",
   "execution_count": 32,
   "metadata": {},
   "outputs": [],
   "source": [
    "ind_nc = np.where(windparks.Area=='Northern Cape')\n",
    "ind_ec = np.where(windparks.Area=='Eastern Cape')\n",
    "ind_wc = np.where(windparks.Area=='Western Cape')"
   ]
  },
  {
   "cell_type": "markdown",
   "metadata": {},
   "source": [
    "sum the wind power generation for these regions"
   ]
  },
  {
   "cell_type": "code",
   "execution_count": 33,
   "metadata": {},
   "outputs": [],
   "source": [
    "windpower_kW_area = pd.DataFrame({'Northern_Cape':np.sum(windpower_windparks.isel(location=ind_nc[0].tolist()).wind_power.values,axis = 1),\n",
    "                                  'Eastern_Cape':np.sum(windpower_windparks.isel(location=ind_ec[0].tolist()).wind_power.values,axis = 1),\n",
    "                                  'Western_Cape':np.sum(windpower_windparks.isel(location=ind_wc[0].tolist()).wind_power.values,axis = 1)},\n",
    "                                   index = windpower_windparks.time.values)\n"
   ]
  },
  {
   "cell_type": "code",
   "execution_count": 34,
   "metadata": {},
   "outputs": [],
   "source": [
    "windpower_kW_area_GWA = pd.DataFrame({'Northern_Cape':np.sum(windpower_windparks_GWA.isel(location=ind_nc[0].tolist()).wind_power.values,axis = 1),\n",
    "                                      'Eastern_Cape':np.sum(windpower_windparks_GWA.isel(location=ind_ec[0].tolist()).wind_power.values,axis = 1),\n",
    "                                      'Western_Cape':np.sum(windpower_windparks_GWA.isel(location=ind_wc[0].tolist()).wind_power.values,axis = 1)},\n",
    "                                      index = windpower_windparks_GWA.time.values)\n"
   ]
  },
  {
   "cell_type": "markdown",
   "metadata": {},
   "source": [
    "# Load production data"
   ]
  },
  {
   "cell_type": "code",
   "execution_count": 35,
   "metadata": {},
   "outputs": [],
   "source": [
    "# Load data Eastern Cape\n",
    "data_ec = []\n",
    "for year in range(2014,2019):\n",
    "    datay = pd.read_csv(south_africa_path+\"/production/EasternCape/Hourly_Electricity_production_[Load_Factor_[[%]]_data\"+str(year)+\".csv\",delimiter=';') \n",
    "    if(len(data_ec)):\n",
    "        data_ec = pd.concat([data_ec,datay])\n",
    "    else:\n",
    "        data_ec = datay\n",
    "\n",
    "# Load data Western Cape\n",
    "data_wc = []\n",
    "for year in range(2015,2019):\n",
    "    datay = pd.read_csv(south_africa_path+\"/production/WesternCape/Hourly_Electricity_production_[Load_Factor_[[%]]_data\"+str(year)+\".csv\",delimiter=';') \n",
    "    if(len(data_wc)):\n",
    "        data_wc = pd.concat([data_wc,datay])\n",
    "    else:\n",
    "        data_wc = datay\n",
    "        \n",
    "# Load data Northern Cape\n",
    "data_nc = []\n",
    "for year in range(2017,2019):\n",
    "    datay = pd.read_csv(south_africa_path+\"/production/NorthernCape/Hourly_Electricity_production_[Load_Factor_[[%]]_data\"+str(year)+\".csv\",delimiter=';') \n",
    "    if(len(data_nc)):\n",
    "        data_nc = pd.concat([data_nc,datay])\n",
    "    else:\n",
    "        data_nc = datay"
   ]
  },
  {
   "cell_type": "code",
   "execution_count": null,
   "metadata": {},
   "outputs": [],
   "source": []
  },
  {
   "cell_type": "markdown",
   "metadata": {},
   "source": [
    "create pandas dataframes for each of the locations"
   ]
  },
  {
   "cell_type": "code",
   "execution_count": 36,
   "metadata": {},
   "outputs": [],
   "source": [
    "# Eastern Cape\n",
    "y = np.array([data_ec['Settlement DateTime'].iloc[x][6:10] for x in range(data_ec.shape[0])])\n",
    "m = np.array([data_ec['Settlement DateTime'].iloc[x][3:5] for x in range(data_ec.shape[0])])\n",
    "d = np.array([data_ec['Settlement DateTime'].iloc[x][:2] for x in range(data_ec.shape[0])])\n",
    "h = np.array([data_ec['Settlement DateTime'].iloc[x][11:13] for x in range(data_ec.shape[0])])\n",
    "t1 = [np.datetime64(y[i]+'-'+m[i]+'-'+d[i]+\"T\"+h[i]+\":00:00\") for i in np.arange(len(y))]\n",
    "# create dataframe with datetime index and simulated data and create column to fill in historical data\n",
    "production_MW_ec = pd.DataFrame({'wp_MWh':data_ec['Production MWh'].tolist(),\n",
    "                                 'sim_wp_MWh':np.nan,\n",
    "                                 'sim_wp_MWh_GWA':np.nan},index=t1)\n",
    "\n",
    "# Western Cape\n",
    "y = np.array([data_wc['Settlement DateTime'].iloc[x][6:10] for x in range(data_wc.shape[0])])\n",
    "m = np.array([data_wc['Settlement DateTime'].iloc[x][3:5] for x in range(data_wc.shape[0])])\n",
    "d = np.array([data_wc['Settlement DateTime'].iloc[x][:2] for x in range(data_wc.shape[0])])\n",
    "h = np.array([data_wc['Settlement DateTime'].iloc[x][11:13] for x in range(data_wc.shape[0])])\n",
    "t1 = [np.datetime64(y[i]+'-'+m[i]+'-'+d[i]+\"T\"+h[i]+\":00:00\") for i in np.arange(len(y))]\n",
    "# create dataframe with datetime index and simulated data and create column to fill in historical data\n",
    "production_MW_wc = pd.DataFrame({'wp_MWh':data_wc['Production MWh'].tolist(),\n",
    "                                 'sim_wp_MWh':np.nan,\n",
    "                                 'sim_wp_MWh_GWA':np.nan},index=t1)\n",
    "\n",
    "# Northern Cape\n",
    "y = np.array([data_nc['Settlement DateTime'].iloc[x][6:10] for x in range(data_nc.shape[0])])\n",
    "m = np.array([data_nc['Settlement DateTime'].iloc[x][3:5] for x in range(data_nc.shape[0])])\n",
    "d = np.array([data_nc['Settlement DateTime'].iloc[x][:2] for x in range(data_nc.shape[0])])\n",
    "h = np.array([data_nc['Settlement DateTime'].iloc[x][11:13] for x in range(data_nc.shape[0])])\n",
    "t1 = [np.datetime64(y[i]+'-'+m[i]+'-'+d[i]+\"T\"+h[i]+\":00:00\") for i in np.arange(len(y))]\n",
    "# create dataframe with datetime index and simulated data and create column to fill in historical data\n",
    "production_MW_nc = pd.DataFrame({'wp_MWh':data_nc['Production MWh'].tolist(),\n",
    "                                 'sim_wp_MWh':np.nan,\n",
    "                                 'sim_wp_MWh_GWA':np.nan},index=t1)"
   ]
  },
  {
   "cell_type": "markdown",
   "metadata": {},
   "source": [
    "# Fill in simulated data and sort"
   ]
  },
  {
   "cell_type": "code",
   "execution_count": 37,
   "metadata": {},
   "outputs": [],
   "source": [
    "# fill in simulated data - cannot be added simply as other column, as in historical data some time steps are missing\n",
    "# therefore match simulated data to time steps\n",
    "production_MW_ec.sim_wp_MWh = production_MW_ec.index.map(windpower_kW_area.Eastern_Cape)\n",
    "production_MW_wc.sim_wp_MWh = production_MW_wc.index.map(windpower_kW_area.Western_Cape)\n",
    "production_MW_nc.sim_wp_MWh = production_MW_nc.index.map(windpower_kW_area.Northern_Cape)"
   ]
  },
  {
   "cell_type": "code",
   "execution_count": 38,
   "metadata": {},
   "outputs": [],
   "source": [
    "# fill in GWA simulation\n",
    "production_MW_ec.sim_wp_MWh_GWA = production_MW_ec.index.map(windpower_kW_area_GWA.Eastern_Cape)\n",
    "production_MW_wc.sim_wp_MWh_GWA = production_MW_wc.index.map(windpower_kW_area_GWA.Western_Cape)\n",
    "production_MW_nc.sim_wp_MWh_GWA = production_MW_nc.index.map(windpower_kW_area_GWA.Northern_Cape)\n"
   ]
  },
  {
   "cell_type": "code",
   "execution_count": 39,
   "metadata": {},
   "outputs": [],
   "source": [
    "# sort by datetime index\n",
    "production_MW_ec = production_MW_ec.sort_index()\n",
    "production_MW_wc = production_MW_wc.sort_index()\n",
    "production_MW_nc = production_MW_nc.sort_index()"
   ]
  },
  {
   "cell_type": "markdown",
   "metadata": {},
   "source": [
    "### Available data - incomplete historical generation"
   ]
  },
  {
   "cell_type": "code",
   "execution_count": 40,
   "metadata": {},
   "outputs": [],
   "source": [
    "available_data = pd.DataFrame({'EC':0,'NC':0,'WC':0,'ZAF':0},index=windpower_windparks.time.values)"
   ]
  },
  {
   "cell_type": "code",
   "execution_count": 41,
   "metadata": {},
   "outputs": [],
   "source": [
    "# fill in generation data\n",
    "available_data.EC = np.invert([np.isnan(i) for i in available_data.index.map(production_MW_ec.sim_wp_MWh)]).astype(int)\n",
    "available_data.NC = np.invert([np.isnan(i) for i in available_data.index.map(production_MW_nc.sim_wp_MWh)]).astype(int)\n",
    "available_data.WC = np.invert([np.isnan(i) for i in available_data.index.map(production_MW_wc.sim_wp_MWh)]).astype(int)"
   ]
  },
  {
   "cell_type": "code",
   "execution_count": 42,
   "metadata": {},
   "outputs": [],
   "source": [
    "# for data availability in ZAF, we need to know in how many regions there was production at each time\n",
    "producing_regions = pd.DataFrame({'EC':1,'NC':1,'WC':1,'ZAF':0},index=windpower_windparks.time.values)"
   ]
  },
  {
   "cell_type": "code",
   "execution_count": 43,
   "metadata": {},
   "outputs": [],
   "source": [
    "# set production 0 before recorded production\n",
    "producing_regions.EC[producing_regions.index<production_MW_ec.index.min()] = 0\n",
    "producing_regions.NC[producing_regions.index<production_MW_nc.index.min()] = 0\n",
    "producing_regions.WC[producing_regions.index<production_MW_wc.index.min()] = 0\n",
    "\n",
    "# producing regions in ZAF are sum of production in three regions\n",
    "producing_regions.ZAF = producing_regions.EC + producing_regions.NC + producing_regions.WC\n",
    "# set where no producing regions to -1\n",
    "producing_regions.ZAF[producing_regions.ZAF==0] = -1"
   ]
  },
  {
   "cell_type": "code",
   "execution_count": 44,
   "metadata": {},
   "outputs": [],
   "source": [
    "available_data.ZAF = np.array([int(i==0) for i in (available_data.EC + available_data.NC + available_data.WC - producing_regions.ZAF)])"
   ]
  },
  {
   "cell_type": "code",
   "execution_count": null,
   "metadata": {},
   "outputs": [],
   "source": []
  },
  {
   "cell_type": "markdown",
   "metadata": {},
   "source": [
    "# Data selection - only use timespans where all data are available"
   ]
  },
  {
   "cell_type": "code",
   "execution_count": 45,
   "metadata": {},
   "outputs": [],
   "source": [
    "# only do for timespans where data are available for ALL regions (ZAF data available = 1)\n",
    "production_MW_ec_ts = production_MW_ec[production_MW_ec.index.map(available_data.ZAF)==1]\n",
    "production_MW_nc_ts = production_MW_nc[production_MW_nc.index.map(available_data.ZAF)==1]\n",
    "production_MW_wc_ts = production_MW_wc[production_MW_wc.index.map(available_data.ZAF)==1]"
   ]
  },
  {
   "cell_type": "code",
   "execution_count": 46,
   "metadata": {},
   "outputs": [],
   "source": [
    "# prepare dataframe for summing up\n",
    "production_MW_all = pd.DataFrame({'wp_MWh_EC':0, 'sim_wp_MWh_EC':0, 'sim_wp_MWh_EC_GWA':0,\n",
    "                                  'wp_MWh_NC':0, 'sim_wp_MWh_NC':0, 'sim_wp_MWh_NC_GWA':0,\n",
    "                                  'wp_MWh_WC':0, 'sim_wp_MWh_WC':0, 'sim_wp_MWh_WC_GWA':0},\n",
    "                                  index = windpower_windparks.time.values[available_data.ZAF==1])\n",
    "production_MW_all.wp_MWh_EC = production_MW_all.index.map(production_MW_ec_ts.wp_MWh)\n",
    "production_MW_all.sim_wp_MWh_EC = production_MW_all.index.map(production_MW_ec_ts.sim_wp_MWh)\n",
    "production_MW_all.sim_wp_MWh_EC_GWA = production_MW_all.index.map(production_MW_ec_ts.sim_wp_MWh_GWA)\n",
    "\n",
    "production_MW_all.wp_MWh_NC = production_MW_all.index.map(production_MW_nc_ts.wp_MWh)\n",
    "production_MW_all.sim_wp_MWh_NC = production_MW_all.index.map(production_MW_nc_ts.sim_wp_MWh)\n",
    "production_MW_all.sim_wp_MWh_NC_GWA = production_MW_all.index.map(production_MW_nc_ts.sim_wp_MWh_GWA)\n",
    "\n",
    "production_MW_all.wp_MWh_WC = production_MW_all.index.map(production_MW_wc_ts.wp_MWh)\n",
    "production_MW_all.sim_wp_MWh_WC = production_MW_all.index.map(production_MW_wc_ts.sim_wp_MWh)\n",
    "production_MW_all.sim_wp_MWh_WC_GWA = production_MW_all.index.map(production_MW_wc_ts.sim_wp_MWh_GWA)"
   ]
  },
  {
   "cell_type": "code",
   "execution_count": 47,
   "metadata": {},
   "outputs": [],
   "source": [
    "# fill nans with 0\n",
    "production_MW_all = production_MW_all.fillna(0)"
   ]
  },
  {
   "cell_type": "code",
   "execution_count": null,
   "metadata": {},
   "outputs": [],
   "source": []
  },
  {
   "cell_type": "code",
   "execution_count": 48,
   "metadata": {},
   "outputs": [],
   "source": [
    "# sum up for ZAF\n",
    "production_MW_zaf_ts = pd.DataFrame({'wp_MWh':production_MW_all.wp_MWh_EC + production_MW_all.wp_MWh_NC + production_MW_all.wp_MWh_WC,\n",
    "                                     'sim_wp_MWh':production_MW_all.sim_wp_MWh_EC + production_MW_all.sim_wp_MWh_NC + production_MW_all.sim_wp_MWh_WC,\n",
    "                                     'sim_wp_MWh_GWA':production_MW_all.sim_wp_MWh_EC_GWA + production_MW_all.sim_wp_MWh_NC_GWA + production_MW_all.sim_wp_MWh_WC_GWA},\n",
    "                                     index=production_MW_all.index)"
   ]
  },
  {
   "cell_type": "markdown",
   "metadata": {},
   "source": [
    "# statistical analysis hourly"
   ]
  },
  {
   "cell_type": "code",
   "execution_count": 52,
   "metadata": {},
   "outputs": [],
   "source": [
    "# prepare dataframe for hourly statistical analysis\n",
    "stats_h = pd.DataFrame({'cor':np.nan,\n",
    "                        'rmse':np.nan,\n",
    "                        'mbe':np.nan,\n",
    "                        'avg':np.nan},\n",
    "                        index = ['EC','EC_GWA','EC_obs',\n",
    "                                 'NC','NC_GWA','NC_obs',\n",
    "                                 'WC','WC_GWA','WC_obs',\n",
    "                                 'ZAF','ZAF_GWA','ZAF_obs'])"
   ]
  },
  {
   "cell_type": "markdown",
   "metadata": {},
   "source": [
    "Calculate correlations"
   ]
  },
  {
   "cell_type": "code",
   "execution_count": 53,
   "metadata": {},
   "outputs": [],
   "source": [
    "stats_h.cor = [np.corrcoef(production_MW_ec_ts.wp_MWh,production_MW_ec_ts.sim_wp_MWh)[0,1],\n",
    "               np.corrcoef(production_MW_ec_ts.wp_MWh,production_MW_ec_ts.sim_wp_MWh_GWA)[0,1],\n",
    "               np.nan,\n",
    "               np.corrcoef(production_MW_wc_ts.wp_MWh,production_MW_wc_ts.sim_wp_MWh)[0,1],\n",
    "               np.corrcoef(production_MW_wc_ts.wp_MWh,production_MW_wc_ts.sim_wp_MWh_GWA)[0,1],\n",
    "               np.nan,\n",
    "               np.corrcoef(production_MW_nc_ts.wp_MWh,production_MW_nc_ts.sim_wp_MWh)[0,1],\n",
    "               np.corrcoef(production_MW_nc_ts.wp_MWh,production_MW_nc_ts.sim_wp_MWh_GWA)[0,1],\n",
    "               np.nan,\n",
    "               np.corrcoef(production_MW_zaf_ts.wp_MWh,production_MW_zaf_ts.sim_wp_MWh)[0,1],\n",
    "               np.corrcoef(production_MW_zaf_ts.wp_MWh,production_MW_zaf_ts.sim_wp_MWh_GWA)[0,1],\n",
    "               np.nan]\n"
   ]
  },
  {
   "cell_type": "markdown",
   "metadata": {},
   "source": [
    "Calculate RMSEs"
   ]
  },
  {
   "cell_type": "code",
   "execution_count": 54,
   "metadata": {},
   "outputs": [],
   "source": [
    "stats_h.rmse = [np.sqrt(np.mean((np.array(production_MW_ec_ts.wp_MWh)-np.array(production_MW_ec_ts.sim_wp_MWh))**2)),\n",
    "                 np.sqrt(np.mean((np.array(production_MW_ec_ts.wp_MWh)-np.array(production_MW_ec_ts.sim_wp_MWh_GWA))**2)),\n",
    "                 np.nan,\n",
    "                 np.sqrt(np.mean((np.array(production_MW_nc_ts.wp_MWh)-np.array(production_MW_nc_ts.sim_wp_MWh))**2)),\n",
    "                 np.sqrt(np.mean((np.array(production_MW_nc_ts.wp_MWh)-np.array(production_MW_nc_ts.sim_wp_MWh_GWA))**2)),\n",
    "                 np.nan,\n",
    "                 np.sqrt(np.mean((np.array(production_MW_wc_ts.wp_MWh)-np.array(production_MW_wc_ts.sim_wp_MWh))**2)),\n",
    "                 np.sqrt(np.mean((np.array(production_MW_wc_ts.wp_MWh)-np.array(production_MW_wc_ts.sim_wp_MWh_GWA))**2)),\n",
    "                 np.nan,\n",
    "                 np.sqrt(np.mean((np.array(production_MW_zaf_ts.wp_MWh)-np.array(production_MW_zaf_ts.sim_wp_MWh))**2)),\n",
    "                 np.sqrt(np.mean((np.array(production_MW_zaf_ts.wp_MWh)-np.array(production_MW_zaf_ts.sim_wp_MWh_GWA))**2)),\n",
    "                 np.nan]\n"
   ]
  },
  {
   "cell_type": "markdown",
   "metadata": {},
   "source": [
    "Calculate MBEs"
   ]
  },
  {
   "cell_type": "code",
   "execution_count": 55,
   "metadata": {},
   "outputs": [],
   "source": [
    "stats_h.mbe = [(np.array(production_MW_ec_ts.sim_wp_MWh)-np.array(production_MW_ec_ts.wp_MWh)).mean(),\n",
    "               (np.array(production_MW_ec_ts.sim_wp_MWh_GWA)-np.array(production_MW_ec_ts.wp_MWh)).mean(),\n",
    "               np.nan,\n",
    "               (np.array(production_MW_nc_ts.sim_wp_MWh)-np.array(production_MW_nc_ts.wp_MWh)).mean(),\n",
    "               (np.array(production_MW_nc_ts.sim_wp_MWh_GWA)-np.array(production_MW_nc_ts.wp_MWh)).mean(),\n",
    "               np.nan,\n",
    "               (np.array(production_MW_wc_ts.sim_wp_MWh)-np.array(production_MW_wc_ts.wp_MWh)).mean(),\n",
    "               (np.array(production_MW_wc_ts.sim_wp_MWh_GWA)-np.array(production_MW_wc_ts.wp_MWh)).mean(),\n",
    "               np.nan,\n",
    "               (np.array(production_MW_zaf_ts.sim_wp_MWh)-np.array(production_MW_zaf_ts.wp_MWh)).mean(),\n",
    "               (np.array(production_MW_zaf_ts.sim_wp_MWh_GWA)-np.array(production_MW_zaf_ts.wp_MWh)).mean(),\n",
    "               np.nan]\n"
   ]
  },
  {
   "cell_type": "markdown",
   "metadata": {},
   "source": [
    "Calculate means"
   ]
  },
  {
   "cell_type": "code",
   "execution_count": 56,
   "metadata": {},
   "outputs": [],
   "source": [
    "stats_h.avg = [production_MW_ec_ts.sim_wp_MWh.mean(),production_MW_ec_ts.sim_wp_MWh_GWA.mean(),production_MW_ec_ts.wp_MWh.mean(),\n",
    "               production_MW_nc_ts.sim_wp_MWh.mean(),production_MW_nc_ts.sim_wp_MWh_GWA.mean(),production_MW_nc_ts.wp_MWh.mean(),\n",
    "               production_MW_wc_ts.sim_wp_MWh.mean(),production_MW_wc_ts.sim_wp_MWh_GWA.mean(),production_MW_wc_ts.wp_MWh.mean(),\n",
    "               production_MW_zaf_ts.sim_wp_MWh.mean(),production_MW_zaf_ts.sim_wp_MWh_GWA.mean(),production_MW_zaf_ts.wp_MWh.mean()]\n"
   ]
  },
  {
   "cell_type": "markdown",
   "metadata": {},
   "source": [
    "save dataframe with hourly results"
   ]
  },
  {
   "cell_type": "code",
   "execution_count": 57,
   "metadata": {},
   "outputs": [],
   "source": [
    "# hourly and absolute statistics\n",
    "stats_ha = stats_h.transpose().set_index(pd.Index(['Correlation','RMSE_MWh','MBE_MWh','Mean_MWh']),'parameter')"
   ]
  },
  {
   "cell_type": "code",
   "execution_count": 58,
   "metadata": {},
   "outputs": [
    {
     "data": {
      "text/html": [
       "<div>\n",
       "<style scoped>\n",
       "    .dataframe tbody tr th:only-of-type {\n",
       "        vertical-align: middle;\n",
       "    }\n",
       "\n",
       "    .dataframe tbody tr th {\n",
       "        vertical-align: top;\n",
       "    }\n",
       "\n",
       "    .dataframe thead th {\n",
       "        text-align: right;\n",
       "    }\n",
       "</style>\n",
       "<table border=\"1\" class=\"dataframe\">\n",
       "  <thead>\n",
       "    <tr style=\"text-align: right;\">\n",
       "      <th></th>\n",
       "      <th>EC</th>\n",
       "      <th>EC_GWA</th>\n",
       "      <th>EC_obs</th>\n",
       "      <th>NC</th>\n",
       "      <th>NC_GWA</th>\n",
       "      <th>NC_obs</th>\n",
       "      <th>WC</th>\n",
       "      <th>WC_GWA</th>\n",
       "      <th>WC_obs</th>\n",
       "      <th>ZAF</th>\n",
       "      <th>ZAF_GWA</th>\n",
       "      <th>ZAF_obs</th>\n",
       "    </tr>\n",
       "  </thead>\n",
       "  <tbody>\n",
       "    <tr>\n",
       "      <th>Correlation</th>\n",
       "      <td>0.78</td>\n",
       "      <td>0.77</td>\n",
       "      <td>NaN</td>\n",
       "      <td>0.76</td>\n",
       "      <td>0.76</td>\n",
       "      <td>NaN</td>\n",
       "      <td>0.72</td>\n",
       "      <td>0.70</td>\n",
       "      <td>NaN</td>\n",
       "      <td>0.86</td>\n",
       "      <td>0.85</td>\n",
       "      <td>NaN</td>\n",
       "    </tr>\n",
       "    <tr>\n",
       "      <th>RMSE_MWh</th>\n",
       "      <td>175.29</td>\n",
       "      <td>154.34</td>\n",
       "      <td>NaN</td>\n",
       "      <td>130.42</td>\n",
       "      <td>129.11</td>\n",
       "      <td>NaN</td>\n",
       "      <td>81.16</td>\n",
       "      <td>67.64</td>\n",
       "      <td>NaN</td>\n",
       "      <td>226.58</td>\n",
       "      <td>194.05</td>\n",
       "      <td>NaN</td>\n",
       "    </tr>\n",
       "    <tr>\n",
       "      <th>MBE_MWh</th>\n",
       "      <td>41.01</td>\n",
       "      <td>-18.08</td>\n",
       "      <td>NaN</td>\n",
       "      <td>18.73</td>\n",
       "      <td>-46.54</td>\n",
       "      <td>NaN</td>\n",
       "      <td>20.66</td>\n",
       "      <td>-11.14</td>\n",
       "      <td>NaN</td>\n",
       "      <td>63.56</td>\n",
       "      <td>-39.70</td>\n",
       "      <td>NaN</td>\n",
       "    </tr>\n",
       "    <tr>\n",
       "      <th>Mean_MWh</th>\n",
       "      <td>300.04</td>\n",
       "      <td>240.94</td>\n",
       "      <td>259.03</td>\n",
       "      <td>264.33</td>\n",
       "      <td>199.05</td>\n",
       "      <td>245.59</td>\n",
       "      <td>152.71</td>\n",
       "      <td>120.91</td>\n",
       "      <td>132.05</td>\n",
       "      <td>499.37</td>\n",
       "      <td>396.11</td>\n",
       "      <td>435.81</td>\n",
       "    </tr>\n",
       "  </tbody>\n",
       "</table>\n",
       "</div>"
      ],
      "text/plain": [
       "                 EC  EC_GWA  EC_obs      NC  NC_GWA  NC_obs      WC  WC_GWA  \\\n",
       "Correlation    0.78    0.77     NaN    0.76    0.76     NaN    0.72    0.70   \n",
       "RMSE_MWh     175.29  154.34     NaN  130.42  129.11     NaN   81.16   67.64   \n",
       "MBE_MWh       41.01  -18.08     NaN   18.73  -46.54     NaN   20.66  -11.14   \n",
       "Mean_MWh     300.04  240.94  259.03  264.33  199.05  245.59  152.71  120.91   \n",
       "\n",
       "             WC_obs     ZAF  ZAF_GWA  ZAF_obs  \n",
       "Correlation     NaN    0.86     0.85      NaN  \n",
       "RMSE_MWh        NaN  226.58   194.05      NaN  \n",
       "MBE_MWh         NaN   63.56   -39.70      NaN  \n",
       "Mean_MWh     132.05  499.37   396.11   435.81  "
      ]
     },
     "execution_count": 58,
     "metadata": {},
     "output_type": "execute_result"
    }
   ],
   "source": [
    "stats_ha.round(2)"
   ]
  },
  {
   "cell_type": "code",
   "execution_count": 60,
   "metadata": {},
   "outputs": [],
   "source": [
    "stats_ha.round(2).to_csv(south_africa_path+'/results/stats_h_abs_MERRA.csv',sep=';')"
   ]
  },
  {
   "cell_type": "code",
   "execution_count": 196,
   "metadata": {},
   "outputs": [
    {
     "data": {
      "image/png": "[encoded data removed]",
      "text/plain": [
       "<Figure size 864x576 with 1 Axes>"
      ]
     },
     "metadata": {},
     "output_type": "display_data"
    }
   ],
   "source": [
    "# plot ZAF\n",
    "prod_ZAFh = production_MW_zaf_ts.melt(var_name='type',value_name='hourly_MWh')\n",
    "sns.set(style='darkgrid',context='talk')\n",
    "plt.figure(figsize=(12,8))\n",
    "ax = sns.boxplot(x='type',y='hourly_MWh',data=prod_ZAFh,palette=col_refuel3,linewidth=3)\n",
    "#plt.ylim(0,1)\n",
    "fig = ax.get_figure()\n",
    "fig.savefig(south_africa_path+'/results/plots/absolute/ZAF_MERRA_hourly.png')"
   ]
  },
  {
   "cell_type": "code",
   "execution_count": 62,
   "metadata": {},
   "outputs": [],
   "source": [
    "# boxplots with seaborn for capes\n",
    "\n",
    "# melt data for each region and add a region column\n",
    "prod_ECh = production_MW_ec_ts.melt(var_name='type',value_name='hourly_MWh')\n",
    "prod_ECh['region'] = 'EC'\n",
    "prod_NCh = production_MW_nc_ts.melt(var_name='type',value_name='hourly_MWh')\n",
    "prod_NCh['region'] = 'NC'\n",
    "prod_WCh = production_MW_wc_ts.melt(var_name='type',value_name='hourly_MWh')\n",
    "prod_WCh['region'] = 'WC'\n",
    "\n",
    "# merge regions to one data frame\n",
    "prod_Ch = pd.concat([prod_ECh,prod_NCh,prod_WCh])"
   ]
  },
  {
   "cell_type": "code",
   "execution_count": 63,
   "metadata": {},
   "outputs": [],
   "source": [
    "prod_Ch_tidy = prod_Ch.melt(id_vars=['region','type'],value_name='hourly_MWh').drop(columns={'variable'})"
   ]
  },
  {
   "cell_type": "code",
   "execution_count": 197,
   "metadata": {},
   "outputs": [
    {
     "data": {
      "image/png": "[encoded data removed]",
      "text/plain": [
       "<Figure size 864x576 with 1 Axes>"
      ]
     },
     "metadata": {},
     "output_type": "display_data"
    }
   ],
   "source": [
    "CF_ZAFh = CF_ZAF_h.melt(var_name='type',value_name='hourly_CF')\n",
    "sns.set(style='darkgrid',context='talk')\n",
    "plt.figure(figsize=(12,8))\n",
    "ax = sns.boxplot(x='region',y='hourly_MWh',hue='type',data=prod_Ch_tidy,palette=col_refuel3,linewidth=3)\n",
    "#plt.ylim(0,1)\n",
    "fig = ax.get_figure()\n",
    "fig.savefig(south_africa_path+'/results/plots/absolute/regions_MERRA_hourly.png')"
   ]
  },
  {
   "cell_type": "code",
   "execution_count": null,
   "metadata": {},
   "outputs": [],
   "source": []
  },
  {
   "cell_type": "markdown",
   "metadata": {},
   "source": [
    "# statistical analysis daily"
   ]
  },
  {
   "cell_type": "markdown",
   "metadata": {},
   "source": [
    "Whole country: need to remove days which are not complete, then aggregate daily"
   ]
  },
  {
   "cell_type": "code",
   "execution_count": 76,
   "metadata": {},
   "outputs": [],
   "source": [
    "# function which creates series of 0 and 1 when hours shall be kept (1, complete days with 24 hours)\n",
    "# or hours shall be dropped (0, days where less than 24 hours are available)\n",
    "def drop_less_one_day(datetimeindex):\n",
    "    dt = np.array(datetimeindex.year*10000+datetimeindex.month*100+datetimeindex.day)\n",
    "    length = np.unique(dt,return_counts=True)[1]\n",
    "    \n",
    "    filt = np.array([0]*len(length))\n",
    "    filt[np.equal(length,24)] = 1\n",
    "    code = np.repeat(filt,length)\n",
    "    \n",
    "    return code"
   ]
  },
  {
   "cell_type": "code",
   "execution_count": 66,
   "metadata": {},
   "outputs": [
    {
     "name": "stdout",
     "output_type": "stream",
     "text": [
      "Shares of data kept\n",
      "EC keep %:  69.5\n",
      "WC keep %:  72.1\n",
      "NC keep %:  74.4\n",
      "ZAF keep %:  69.5\n"
     ]
    }
   ],
   "source": [
    "print('Shares of data kept')\n",
    "d = drop_less_one_day(production_MW_ec_ts.index)\n",
    "print(\"EC keep %: \", round(sum(np.equal(d,1))/len(production_MW_ec_ts.index)*100,1))\n",
    "\n",
    "d = drop_less_one_day(production_MW_wc_ts.index)\n",
    "print(\"WC keep %: \", round(sum(np.equal(d,1))/len(production_MW_wc_ts.index)*100,1))\n",
    "\n",
    "d = drop_less_one_day(production_MW_nc_ts.index)\n",
    "print(\"NC keep %: \", round(sum(np.equal(d,1))/len(production_MW_nc_ts.index)*100,1))\n",
    "\n",
    "d = drop_less_one_day(production_MW_zaf_ts.index)\n",
    "print(\"ZAF keep %: \", round(sum(np.equal(d,1))/len(production_MW_zaf_ts.index)*100,1))\n"
   ]
  },
  {
   "cell_type": "code",
   "execution_count": 74,
   "metadata": {},
   "outputs": [],
   "source": [
    "# first copy all the data, in order to avoid warning message\n",
    "production_MW_ec_ts = production_MW_ec_ts.copy()\n",
    "production_MW_nc_ts = production_MW_nc_ts.copy()\n",
    "production_MW_wc_ts = production_MW_wc_ts.copy()\n",
    "production_MW_zaf_ts = production_MW_zaf_ts.copy()"
   ]
  },
  {
   "cell_type": "code",
   "execution_count": 77,
   "metadata": {},
   "outputs": [],
   "source": [
    "# mark the data to keep\n",
    "production_MW_ec_ts['keep'] = drop_less_one_day(production_MW_ec_ts.index)\n",
    "production_MW_wc_ts['keep'] = drop_less_one_day(production_MW_wc_ts.index)\n",
    "production_MW_nc_ts['keep'] = drop_less_one_day(production_MW_nc_ts.index)\n",
    "production_MW_zaf_ts['keep'] = drop_less_one_day(production_MW_zaf_ts.index)"
   ]
  },
  {
   "cell_type": "code",
   "execution_count": 78,
   "metadata": {},
   "outputs": [],
   "source": [
    "# filter out only whole days\n",
    "production_ec_filtered = production_MW_ec_ts[production_MW_ec_ts.keep==1]\n",
    "production_wc_filtered = production_MW_wc_ts[production_MW_wc_ts.keep==1]\n",
    "production_nc_filtered = production_MW_nc_ts[production_MW_nc_ts.keep==1]\n",
    "production_zaf_filtered = production_MW_zaf_ts[production_MW_zaf_ts.keep==1]"
   ]
  },
  {
   "cell_type": "markdown",
   "metadata": {},
   "source": [
    "### aggregate daily"
   ]
  },
  {
   "cell_type": "code",
   "execution_count": 70,
   "metadata": {},
   "outputs": [],
   "source": [
    "date_ec = production_ec_filtered.index.year*10000+production_ec_filtered.index.month*100 + production_ec_filtered.index.day\n",
    "production_GW_EC_daily = production_ec_filtered.groupby(date_ec).sum()/1000\n",
    "date_nc = production_nc_filtered.index.year*10000+production_nc_filtered.index.month*100 + production_nc_filtered.index.day\n",
    "production_GW_NC_daily = production_nc_filtered.groupby(date_nc).sum()/1000\n",
    "date_wc = production_wc_filtered.index.year*10000+production_wc_filtered.index.month*100 + production_wc_filtered.index.day\n",
    "production_GW_WC_daily = production_wc_filtered.groupby(date_wc).sum()/1000\n",
    "date_zaf = production_zaf_filtered.index.year*10000+production_zaf_filtered.index.month*100 + production_zaf_filtered.index.day\n",
    "production_GW_ZAF_daily = production_zaf_filtered.groupby(date_zaf).sum()/1000"
   ]
  },
  {
   "cell_type": "code",
   "execution_count": 71,
   "metadata": {},
   "outputs": [],
   "source": [
    "production_GW_EC_daily = production_GW_EC_daily.drop('keep',axis=1).rename(columns={'wp_MWh':'obs','sim_wp_MWh':'sim','sim_wp_MWh_GWA':'sim_GWA'})\n",
    "production_GW_NC_daily = production_GW_NC_daily.drop('keep',axis=1).rename(columns={'wp_MWh':'obs','sim_wp_MWh':'sim','sim_wp_MWh_GWA':'sim_GWA'})\n",
    "production_GW_WC_daily = production_GW_WC_daily.drop('keep',axis=1).rename(columns={'wp_MWh':'obs','sim_wp_MWh':'sim','sim_wp_MWh_GWA':'sim_GWA'})\n",
    "production_GW_ZAF_daily = production_GW_ZAF_daily.drop('keep',axis=1).rename(columns={'wp_MWh':'obs','sim_wp_MWh':'sim','sim_wp_MWh_GWA':'sim_GWA'})"
   ]
  },
  {
   "cell_type": "markdown",
   "metadata": {},
   "source": [
    "### calculate statistical parameters\n",
    "prepare dataframe for statistical parameters"
   ]
  },
  {
   "cell_type": "code",
   "execution_count": 72,
   "metadata": {},
   "outputs": [],
   "source": [
    "stats_d = pd.DataFrame({'cor':np.nan,\n",
    "                        'rmse':np.nan,\n",
    "                        'mbe':np.nan,\n",
    "                        'avg':np.nan},\n",
    "                        index = ['EC','EC_GWA','EC_obs',\n",
    "                                 'NC','NC_GWA','NC_obs',\n",
    "                                 'WC','WC_GWA','WC_obs',\n",
    "                                 'ZAF','ZAF_GWA','ZAF_obs'])"
   ]
  },
  {
   "cell_type": "markdown",
   "metadata": {},
   "source": [
    "Calculate correlations"
   ]
  },
  {
   "cell_type": "code",
   "execution_count": 73,
   "metadata": {},
   "outputs": [],
   "source": [
    "stats_d.cor = [np.corrcoef(production_GW_EC_daily.obs,production_GW_EC_daily.sim)[0,1],\n",
    "               np.corrcoef(production_GW_EC_daily.obs,production_GW_EC_daily.sim_GWA)[0,1],\n",
    "               np.nan,\n",
    "               np.corrcoef(production_GW_WC_daily.obs,production_GW_WC_daily.sim)[0,1],\n",
    "               np.corrcoef(production_GW_WC_daily.obs,production_GW_WC_daily.sim_GWA)[0,1],\n",
    "               np.nan,\n",
    "               np.corrcoef(production_GW_NC_daily.obs,production_GW_NC_daily.sim)[0,1],\n",
    "               np.corrcoef(production_GW_NC_daily.obs,production_GW_NC_daily.sim_GWA)[0,1],\n",
    "               np.nan,\n",
    "               np.corrcoef(production_GW_ZAF_daily.obs,production_GW_ZAF_daily.sim)[0,1],\n",
    "               np.corrcoef(production_GW_ZAF_daily.obs,production_GW_ZAF_daily.sim_GWA)[0,1],\n",
    "               np.nan]\n"
   ]
  },
  {
   "cell_type": "markdown",
   "metadata": {},
   "source": [
    "Calculate RMSEs"
   ]
  },
  {
   "cell_type": "code",
   "execution_count": 74,
   "metadata": {},
   "outputs": [],
   "source": [
    "stats_d.rmse = [np.sqrt(np.mean((np.array(production_GW_EC_daily.obs)-np.array(production_GW_EC_daily.sim))**2)),\n",
    "                 np.sqrt(np.mean((np.array(production_GW_EC_daily.obs)-np.array(production_GW_EC_daily.sim_GWA))**2)),\n",
    "                 np.nan,\n",
    "                 np.sqrt(np.mean((np.array(production_GW_NC_daily.obs)-np.array(production_GW_NC_daily.sim))**2)),\n",
    "                 np.sqrt(np.mean((np.array(production_GW_NC_daily.obs)-np.array(production_GW_NC_daily.sim_GWA))**2)),\n",
    "                 np.nan,\n",
    "                 np.sqrt(np.mean((np.array(production_GW_WC_daily.obs)-np.array(production_GW_WC_daily.sim))**2)),\n",
    "                 np.sqrt(np.mean((np.array(production_GW_WC_daily.obs)-np.array(production_GW_WC_daily.sim_GWA))**2)),\n",
    "                 np.nan,\n",
    "                 np.sqrt(np.mean((np.array(production_GW_ZAF_daily.obs)-np.array(production_GW_ZAF_daily.sim))**2)),\n",
    "                 np.sqrt(np.mean((np.array(production_GW_ZAF_daily.obs)-np.array(production_GW_ZAF_daily.sim_GWA))**2)),\n",
    "                 np.nan]\n"
   ]
  },
  {
   "cell_type": "markdown",
   "metadata": {},
   "source": [
    "Calculate MBEs"
   ]
  },
  {
   "cell_type": "code",
   "execution_count": 75,
   "metadata": {},
   "outputs": [],
   "source": [
    "stats_d.mbe = [(np.array(production_GW_EC_daily.sim)-np.array(production_GW_EC_daily.obs)).mean(),\n",
    "               (np.array(production_GW_EC_daily.sim_GWA)-np.array(production_GW_EC_daily.obs)).mean(),\n",
    "               np.nan,\n",
    "               (np.array(production_GW_NC_daily.sim)-np.array(production_GW_NC_daily.obs)).mean(),\n",
    "               (np.array(production_GW_NC_daily.sim_GWA)-np.array(production_GW_NC_daily.obs)).mean(),\n",
    "               np.nan,\n",
    "               (np.array(production_GW_WC_daily.sim)-np.array(production_GW_WC_daily.obs)).mean(),\n",
    "               (np.array(production_GW_WC_daily.sim_GWA)-np.array(production_GW_WC_daily.obs)).mean(),\n",
    "               np.nan,\n",
    "               (np.array(production_GW_ZAF_daily.sim)-np.array(production_GW_ZAF_daily.obs)).mean(),\n",
    "               (np.array(production_GW_ZAF_daily.sim_GWA)-np.array(production_GW_ZAF_daily.obs)).mean(),\n",
    "               np.nan]\n"
   ]
  },
  {
   "cell_type": "markdown",
   "metadata": {},
   "source": [
    "Calculate means"
   ]
  },
  {
   "cell_type": "code",
   "execution_count": 76,
   "metadata": {},
   "outputs": [],
   "source": [
    "stats_d.avg = [production_GW_EC_daily.sim.mean(),production_GW_EC_daily.sim_GWA.mean(),production_GW_EC_daily.obs.mean(),\n",
    "               production_GW_NC_daily.sim.mean(),production_GW_NC_daily.sim_GWA.mean(),production_GW_NC_daily.obs.mean(),\n",
    "               production_GW_WC_daily.sim.mean(),production_GW_WC_daily.sim_GWA.mean(),production_GW_WC_daily.obs.mean(),\n",
    "               production_GW_ZAF_daily.sim.mean(),production_GW_ZAF_daily.sim_GWA.mean(),production_GW_ZAF_daily.obs.mean()]\n"
   ]
  },
  {
   "cell_type": "code",
   "execution_count": null,
   "metadata": {},
   "outputs": [],
   "source": []
  },
  {
   "cell_type": "markdown",
   "metadata": {},
   "source": [
    "save dataframe with daily results"
   ]
  },
  {
   "cell_type": "code",
   "execution_count": 77,
   "metadata": {},
   "outputs": [],
   "source": [
    "# hourly and absolute statistics\n",
    "stats_da = stats_d.transpose().set_index(pd.Index(['Correlation','RMSE_MWh','MBE_MWh','Mean_MWh']),'parameter')"
   ]
  },
  {
   "cell_type": "code",
   "execution_count": 78,
   "metadata": {},
   "outputs": [],
   "source": [
    "stats_da.round(2).to_csv(south_africa_path+'/results/stats_d_abs_MERRA.csv',sep=';')"
   ]
  },
  {
   "cell_type": "code",
   "execution_count": 79,
   "metadata": {},
   "outputs": [
    {
     "data": {
      "text/html": [
       "<div>\n",
       "<style scoped>\n",
       "    .dataframe tbody tr th:only-of-type {\n",
       "        vertical-align: middle;\n",
       "    }\n",
       "\n",
       "    .dataframe tbody tr th {\n",
       "        vertical-align: top;\n",
       "    }\n",
       "\n",
       "    .dataframe thead th {\n",
       "        text-align: right;\n",
       "    }\n",
       "</style>\n",
       "<table border=\"1\" class=\"dataframe\">\n",
       "  <thead>\n",
       "    <tr style=\"text-align: right;\">\n",
       "      <th></th>\n",
       "      <th>EC</th>\n",
       "      <th>EC_GWA</th>\n",
       "      <th>EC_obs</th>\n",
       "      <th>NC</th>\n",
       "      <th>NC_GWA</th>\n",
       "      <th>NC_obs</th>\n",
       "      <th>WC</th>\n",
       "      <th>WC_GWA</th>\n",
       "      <th>WC_obs</th>\n",
       "      <th>ZAF</th>\n",
       "      <th>ZAF_GWA</th>\n",
       "      <th>ZAF_obs</th>\n",
       "    </tr>\n",
       "  </thead>\n",
       "  <tbody>\n",
       "    <tr>\n",
       "      <th>Correlation</th>\n",
       "      <td>0.88</td>\n",
       "      <td>0.87</td>\n",
       "      <td>NaN</td>\n",
       "      <td>0.80</td>\n",
       "      <td>0.80</td>\n",
       "      <td>NaN</td>\n",
       "      <td>0.78</td>\n",
       "      <td>0.76</td>\n",
       "      <td>NaN</td>\n",
       "      <td>0.93</td>\n",
       "      <td>0.91</td>\n",
       "      <td>NaN</td>\n",
       "    </tr>\n",
       "    <tr>\n",
       "      <th>RMSE_MWh</th>\n",
       "      <td>2.77</td>\n",
       "      <td>2.34</td>\n",
       "      <td>NaN</td>\n",
       "      <td>1.96</td>\n",
       "      <td>2.26</td>\n",
       "      <td>NaN</td>\n",
       "      <td>1.38</td>\n",
       "      <td>1.12</td>\n",
       "      <td>NaN</td>\n",
       "      <td>3.85</td>\n",
       "      <td>3.21</td>\n",
       "      <td>NaN</td>\n",
       "    </tr>\n",
       "    <tr>\n",
       "      <th>MBE_MWh</th>\n",
       "      <td>1.00</td>\n",
       "      <td>-0.49</td>\n",
       "      <td>NaN</td>\n",
       "      <td>0.29</td>\n",
       "      <td>-1.32</td>\n",
       "      <td>NaN</td>\n",
       "      <td>0.54</td>\n",
       "      <td>-0.34</td>\n",
       "      <td>NaN</td>\n",
       "      <td>1.56</td>\n",
       "      <td>-1.16</td>\n",
       "      <td>NaN</td>\n",
       "    </tr>\n",
       "    <tr>\n",
       "      <th>Mean_MWh</th>\n",
       "      <td>7.66</td>\n",
       "      <td>6.17</td>\n",
       "      <td>6.66</td>\n",
       "      <td>6.61</td>\n",
       "      <td>5.01</td>\n",
       "      <td>6.33</td>\n",
       "      <td>4.20</td>\n",
       "      <td>3.32</td>\n",
       "      <td>3.66</td>\n",
       "      <td>13.23</td>\n",
       "      <td>10.51</td>\n",
       "      <td>11.67</td>\n",
       "    </tr>\n",
       "  </tbody>\n",
       "</table>\n",
       "</div>"
      ],
      "text/plain": [
       "               EC  EC_GWA  EC_obs    NC  NC_GWA  NC_obs    WC  WC_GWA  WC_obs  \\\n",
       "Correlation  0.88    0.87     NaN  0.80    0.80     NaN  0.78    0.76     NaN   \n",
       "RMSE_MWh     2.77    2.34     NaN  1.96    2.26     NaN  1.38    1.12     NaN   \n",
       "MBE_MWh      1.00   -0.49     NaN  0.29   -1.32     NaN  0.54   -0.34     NaN   \n",
       "Mean_MWh     7.66    6.17    6.66  6.61    5.01    6.33  4.20    3.32    3.66   \n",
       "\n",
       "               ZAF  ZAF_GWA  ZAF_obs  \n",
       "Correlation   0.93     0.91      NaN  \n",
       "RMSE_MWh      3.85     3.21      NaN  \n",
       "MBE_MWh       1.56    -1.16      NaN  \n",
       "Mean_MWh     13.23    10.51    11.67  "
      ]
     },
     "execution_count": 79,
     "metadata": {},
     "output_type": "execute_result"
    }
   ],
   "source": [
    "stats_da.round(2)"
   ]
  },
  {
   "cell_type": "markdown",
   "metadata": {},
   "source": [
    "boxplot for South Africa"
   ]
  },
  {
   "cell_type": "code",
   "execution_count": 207,
   "metadata": {},
   "outputs": [
    {
     "data": {
      "image/png": "[encoded data removed]",
      "text/plain": [
       "<Figure size 864x576 with 1 Axes>"
      ]
     },
     "metadata": {},
     "output_type": "display_data"
    }
   ],
   "source": [
    "# plot South Africa\n",
    "prod_ZAFd = production_GW_ZAF_daily.melt(var_name='type',value_name='daily_GWh')\n",
    "sns.set(style='darkgrid',context='talk')\n",
    "plt.figure(figsize=(12,8))\n",
    "ax = sns.boxplot(x='type',y='daily_GWh',data=prod_ZAFd,palette=col_refuel3,linewidth=3)\n",
    "fig = ax.get_figure()\n",
    "fig.savefig(south_africa_path+'/results/plots/absolute/ZAF_MERRA_daily.png')"
   ]
  },
  {
   "cell_type": "code",
   "execution_count": 81,
   "metadata": {},
   "outputs": [],
   "source": [
    "# boxplots for capes\n",
    "\n",
    "# melt data for each region and add a region column\n",
    "prod_ECd = production_GW_EC_daily.melt(var_name='type',value_name='daily_GWh')\n",
    "prod_ECd['region'] = 'EC'\n",
    "prod_NCd = production_GW_NC_daily.melt(var_name='type',value_name='daily_GWh')\n",
    "prod_NCd['region'] = 'NC'\n",
    "prod_WCd = production_GW_WC_daily.melt(var_name='type',value_name='daily_GWh')\n",
    "prod_WCd['region'] = 'WC'\n",
    "\n",
    "# merge regions to one data frame\n",
    "prod_Cd = pd.concat([prod_ECd,prod_NCd,prod_WCd])"
   ]
  },
  {
   "cell_type": "code",
   "execution_count": 82,
   "metadata": {},
   "outputs": [
    {
     "name": "stdout",
     "output_type": "stream",
     "text": [
      "EC: 3207\n",
      "NC: 891\n",
      "WC: 2850\n",
      "ZAF: 3207\n"
     ]
    }
   ],
   "source": [
    "# lengths of time series\n",
    "print('EC: '+str(prod_ECd.shape[0]))\n",
    "print('NC: '+str(prod_NCd.shape[0]))\n",
    "print('WC: '+str(prod_WCd.shape[0]))\n",
    "print('ZAF: '+str(prod_ZAFd.shape[0]))"
   ]
  },
  {
   "cell_type": "code",
   "execution_count": 83,
   "metadata": {},
   "outputs": [],
   "source": [
    "prod_Cd_tidy = prod_Cd.melt(id_vars=['region','type'],value_name='daily_GWh').drop(columns={'variable'})"
   ]
  },
  {
   "cell_type": "code",
   "execution_count": 208,
   "metadata": {},
   "outputs": [
    {
     "data": {
      "image/png": "[encoded data removed]",
      "text/plain": [
       "<Figure size 864x576 with 1 Axes>"
      ]
     },
     "metadata": {},
     "output_type": "display_data"
    }
   ],
   "source": [
    "# plot Capes\n",
    "sns.set(style='darkgrid',context='talk')\n",
    "plt.figure(figsize=(12,8))\n",
    "ax = sns.boxplot(x='region',y='daily_GWh',hue='type',data=prod_Cd_tidy,palette=col_refuel3,linewidth=3)\n",
    "#ax.legend(loc='center right', bbox_to_anchor=(1.25, 0.5))\n",
    "fig = ax.get_figure()\n",
    "fig.savefig(south_africa_path+'/results/plots/absolute/regions_MERRA_daily.png')"
   ]
  },
  {
   "cell_type": "markdown",
   "metadata": {},
   "source": [
    "# Conclusion absolute analysis"
   ]
  },
  {
   "cell_type": "markdown",
   "metadata": {},
   "source": [
    "except for EC always better with GWA (except correlations, those are better without GWA)"
   ]
  },
  {
   "cell_type": "code",
   "execution_count": 85,
   "metadata": {},
   "outputs": [
    {
     "data": {
      "text/plain": [
       "[<matplotlib.lines.Line2D at 0x1a725f64358>,\n",
       " <matplotlib.lines.Line2D at 0x1a725f644e0>,\n",
       " <matplotlib.lines.Line2D at 0x1a725f64668>]"
      ]
     },
     "execution_count": 85,
     "metadata": {},
     "output_type": "execute_result"
    },
    {
     "data": {
      "image/png": "[encoded data removed]",
      "text/plain": [
       "<Figure size 432x288 with 1 Axes>"
      ]
     },
     "metadata": {},
     "output_type": "display_data"
    }
   ],
   "source": [
    "plt.plot(production_GW_ZAF_daily.iloc[:,:3].values)"
   ]
  },
  {
   "cell_type": "markdown",
   "metadata": {},
   "source": [
    "  \n",
    "  \n",
    "  \n",
    "  \n",
    "  \n",
    "  \n",
    "  \n",
    "  "
   ]
  },
  {
   "cell_type": "markdown",
   "metadata": {},
   "source": [
    "# Installed Capacities"
   ]
  },
  {
   "cell_type": "markdown",
   "metadata": {},
   "source": [
    "### make time series and get mean capacities"
   ]
  },
  {
   "cell_type": "markdown",
   "metadata": {},
   "source": [
    "create time series of installed capacities"
   ]
  },
  {
   "cell_type": "code",
   "execution_count": 79,
   "metadata": {},
   "outputs": [],
   "source": [
    "# sort installed capacities by commissioning date\n",
    "cap = pd.DataFrame({'capacity': list(windparks.Capacity),'region':list(windparks.Area)},index=t)\n",
    "cap = cap.sort_index()"
   ]
  },
  {
   "cell_type": "code",
   "execution_count": 80,
   "metadata": {},
   "outputs": [],
   "source": [
    "# cumulative capacity EC\n",
    "cap_ec = cap[cap.region=='Eastern Cape']\n",
    "cap_ec = cap_ec.drop(columns={'region'}).groupby(cap_ec.index).sum()\n",
    "cap_ec['capsum'] = cap_ec.capacity.cumsum()"
   ]
  },
  {
   "cell_type": "code",
   "execution_count": 81,
   "metadata": {},
   "outputs": [],
   "source": [
    "# cumulative capacity NC\n",
    "cap_nc = cap[cap.region=='Northern Cape']\n",
    "cap_nc = cap_nc.drop(columns={'region'}).groupby(cap_nc.index).sum()\n",
    "cap_nc['capsum'] = cap_nc.capacity.cumsum()"
   ]
  },
  {
   "cell_type": "code",
   "execution_count": 82,
   "metadata": {},
   "outputs": [],
   "source": [
    "# cumulative capacity WC\n",
    "cap_wc = cap[cap.region=='Western Cape']\n",
    "cap_wc = cap_wc.drop(columns={'region'}).groupby(cap_wc.index).sum()\n",
    "cap_wc['capsum'] = cap_wc.capacity.cumsum()"
   ]
  },
  {
   "cell_type": "code",
   "execution_count": 83,
   "metadata": {},
   "outputs": [
    {
     "data": {
      "text/plain": [
       "<matplotlib.legend.Legend at 0x2f88859fb38>"
      ]
     },
     "execution_count": 83,
     "metadata": {},
     "output_type": "execute_result"
    },
    {
     "data": {
      "image/png": "[encoded data removed]",
      "text/plain": [
       "<Figure size 432x288 with 1 Axes>"
      ]
     },
     "metadata": {
      "needs_background": "light"
     },
     "output_type": "display_data"
    }
   ],
   "source": [
    "plt.plot(cap_ec.capsum)\n",
    "plt.plot(cap_nc.capsum)\n",
    "plt.plot(cap_wc.capsum)\n",
    "plt.legend(['EC','NC','WC'])"
   ]
  },
  {
   "cell_type": "markdown",
   "metadata": {},
   "source": [
    "get first capacity in period of interest"
   ]
  },
  {
   "cell_type": "code",
   "execution_count": 84,
   "metadata": {},
   "outputs": [],
   "source": [
    "firstcap_ec = cap_ec[cap_ec.index<production_ec_filtered.index[0]].capsum[-1]\n",
    "firstcap_nc = cap_nc[cap_nc.index<production_nc_filtered.index[0]].capsum[-1]\n",
    "firstcap_wc = cap_wc[cap_wc.index<production_wc_filtered.index[0]].capsum[-1]"
   ]
  },
  {
   "cell_type": "markdown",
   "metadata": {},
   "source": [
    "cut capacities after starting date of production"
   ]
  },
  {
   "cell_type": "code",
   "execution_count": 85,
   "metadata": {},
   "outputs": [],
   "source": [
    "capc_ec = cap_ec[(cap_ec.index>=production_ec_filtered.index[0])&(cap_ec.index<=production_ec_filtered.index[-1])]\n",
    "capc_nc = cap_nc[(cap_nc.index>=production_nc_filtered.index[0])&(cap_nc.index<=production_nc_filtered.index[-1])]\n",
    "capc_wc = cap_wc[(cap_wc.index>=production_wc_filtered.index[0])&(cap_wc.index<=production_wc_filtered.index[-1])]\n"
   ]
  },
  {
   "cell_type": "markdown",
   "metadata": {},
   "source": [
    "Make dataframe with dates where all data are available as index to fill in capacities and then sum for ZAF"
   ]
  },
  {
   "cell_type": "code",
   "execution_count": 86,
   "metadata": {},
   "outputs": [],
   "source": [
    "cap_all_h = pd.DataFrame({'EC':0,'NC':0,'WC':0,'ZAF':0},index=available_data.index)"
   ]
  },
  {
   "cell_type": "code",
   "execution_count": 87,
   "metadata": {},
   "outputs": [],
   "source": [
    "# fill in cumulative capacities\n",
    "cap_all_h.EC = cap_all_h.index.map(capc_ec.capsum)\n",
    "cap_all_h.NC = cap_all_h.index.map(capc_nc.capsum)\n",
    "cap_all_h.WC = cap_all_h.index.map(capc_wc.capsum)"
   ]
  },
  {
   "cell_type": "code",
   "execution_count": 88,
   "metadata": {},
   "outputs": [],
   "source": [
    "# fill in starting capacities at date of first observed generation\n",
    "cap_all_h.at[production_MW_ec_ts.index[0],'EC'] = firstcap_ec\n",
    "cap_all_h.at[production_MW_nc_ts.index[0],'NC'] = firstcap_nc\n",
    "cap_all_h.at[production_MW_wc_ts.index[0],'WC'] = firstcap_wc"
   ]
  },
  {
   "cell_type": "code",
   "execution_count": 89,
   "metadata": {},
   "outputs": [],
   "source": [
    "# fill Nas with last capacity\n",
    "cap_all_h = cap_all_h.fillna(method = 'ffill')"
   ]
  },
  {
   "cell_type": "code",
   "execution_count": 90,
   "metadata": {},
   "outputs": [],
   "source": [
    "# fill remaining Nas as beginning with 0\n",
    "cap_all_h = cap_all_h.fillna(0)"
   ]
  },
  {
   "cell_type": "code",
   "execution_count": 91,
   "metadata": {},
   "outputs": [],
   "source": [
    "# sum up capacities for ZAF\n",
    "cap_all_h.ZAF = cap_all_h[['EC','NC','WC']].sum(axis=1)"
   ]
  },
  {
   "cell_type": "code",
   "execution_count": 92,
   "metadata": {},
   "outputs": [
    {
     "data": {
      "text/plain": [
       "<matplotlib.legend.Legend at 0x2f888568630>"
      ]
     },
     "execution_count": 92,
     "metadata": {},
     "output_type": "execute_result"
    },
    {
     "data": {
      "image/png": "[encoded data removed]",
      "text/plain": [
       "<Figure size 432x288 with 1 Axes>"
      ]
     },
     "metadata": {
      "needs_background": "light"
     },
     "output_type": "display_data"
    }
   ],
   "source": [
    "plt.plot(cap_all_h)\n",
    "plt.legend(cap_all_h.columns)"
   ]
  },
  {
   "cell_type": "code",
   "execution_count": 93,
   "metadata": {},
   "outputs": [],
   "source": [
    "# remove hours where not all data are available\n",
    "cap_all_h = cap_all_h[available_data.ZAF==1]"
   ]
  },
  {
   "cell_type": "code",
   "execution_count": 94,
   "metadata": {},
   "outputs": [],
   "source": [
    "# mean capacities\n",
    "mcap_zaf = cap_all_h.ZAF.mean()\n",
    "mcap_ec = cap_all_h.EC[cap_all_h.EC>0].mean()\n",
    "mcap_nc = cap_all_h.NC[cap_all_h.NC>0].mean()\n",
    "mcap_wc = cap_all_h.WC[cap_all_h.WC>0].mean()"
   ]
  },
  {
   "cell_type": "markdown",
   "metadata": {},
   "source": [
    "### Daily capacities"
   ]
  },
  {
   "cell_type": "code",
   "execution_count": 102,
   "metadata": {},
   "outputs": [],
   "source": [
    "# mark the data to keep\n",
    "cap_all_h['keep'] = drop_less_one_day(cap_all_h.index)"
   ]
  },
  {
   "cell_type": "code",
   "execution_count": 103,
   "metadata": {},
   "outputs": [],
   "source": [
    "# filter out only whole days\n",
    "cap_all_h_filtered = cap_all_h[cap_all_h.keep==1]"
   ]
  },
  {
   "cell_type": "markdown",
   "metadata": {},
   "source": [
    "get daily time series"
   ]
  },
  {
   "cell_type": "code",
   "execution_count": 104,
   "metadata": {},
   "outputs": [],
   "source": [
    "date = cap_all_h_filtered.index.year*10000+cap_all_h_filtered.index.month*100 + cap_all_h_filtered.index.day\n",
    "cap_all_d = cap_all_h_filtered.groupby(date).mean()"
   ]
  },
  {
   "cell_type": "code",
   "execution_count": 105,
   "metadata": {},
   "outputs": [],
   "source": [
    "cap_all_d = cap_all_d.drop('keep',axis=1)"
   ]
  },
  {
   "cell_type": "code",
   "execution_count": 106,
   "metadata": {},
   "outputs": [],
   "source": [
    "# mean capacities\n",
    "mcap_zaf_d = cap_all_d.ZAF.mean()\n",
    "mcap_ec_d = cap_all_d.EC[cap_all_d.EC>0].mean()\n",
    "mcap_nc_d = cap_all_d.NC[cap_all_d.NC>0].mean()\n",
    "mcap_wc_d = cap_all_d.WC[cap_all_d.WC>0].mean()"
   ]
  },
  {
   "cell_type": "code",
   "execution_count": 107,
   "metadata": {},
   "outputs": [
    {
     "data": {
      "text/plain": [
       "<matplotlib.legend.Legend at 0x1a725f888d0>"
      ]
     },
     "execution_count": 107,
     "metadata": {},
     "output_type": "execute_result"
    },
    {
     "data": {
      "image/png": "[encoded data removed]",
      "text/plain": [
       "<Figure size 432x288 with 1 Axes>"
      ]
     },
     "metadata": {},
     "output_type": "display_data"
    }
   ],
   "source": [
    "plt.plot(production_MW_wc[production_MW_wc.index<=max(cap_all_h.index)])\n",
    "plt.plot(cap_all_h.WC[cap_all_h.WC>0])\n",
    "plt.legend(['obs','sim','sim_GWA','cap'])"
   ]
  },
  {
   "cell_type": "code",
   "execution_count": 108,
   "metadata": {},
   "outputs": [
    {
     "data": {
      "text/plain": [
       "<matplotlib.legend.Legend at 0x1a7270c9048>"
      ]
     },
     "execution_count": 108,
     "metadata": {},
     "output_type": "execute_result"
    },
    {
     "data": {
      "image/png": "[encoded data removed]",
      "text/plain": [
       "<Figure size 432x288 with 1 Axes>"
      ]
     },
     "metadata": {},
     "output_type": "display_data"
    }
   ],
   "source": [
    "plt.plot(production_MW_nc[production_MW_nc.index<=max(cap_all_h.index)])\n",
    "plt.plot(cap_all_h.NC[cap_all_h.NC>0])\n",
    "plt.legend(['obs','sim','sim_GWA','cap'])"
   ]
  },
  {
   "cell_type": "code",
   "execution_count": 109,
   "metadata": {},
   "outputs": [
    {
     "data": {
      "text/plain": [
       "<matplotlib.legend.Legend at 0x1a727092f98>"
      ]
     },
     "execution_count": 109,
     "metadata": {},
     "output_type": "execute_result"
    },
    {
     "data": {
      "image/png": "[encoded data removed]",
      "text/plain": [
       "<Figure size 432x288 with 1 Axes>"
      ]
     },
     "metadata": {},
     "output_type": "display_data"
    }
   ],
   "source": [
    "plt.plot(production_MW_ec[production_MW_ec.index<=max(cap_all_h.index)])\n",
    "plt.plot(cap_all_h.EC[cap_all_h.EC>0])\n",
    "plt.legend(['obs','sim','sim_GWA','cap'])"
   ]
  },
  {
   "cell_type": "markdown",
   "metadata": {},
   "source": [
    "# Relative results"
   ]
  },
  {
   "cell_type": "markdown",
   "metadata": {},
   "source": [
    "### hourly"
   ]
  },
  {
   "cell_type": "code",
   "execution_count": 110,
   "metadata": {},
   "outputs": [],
   "source": [
    "stats_hr = stats_ha[['EC','EC_GWA','NC','NC_GWA','WC','WC_GWA','ZAF','ZAF_GWA']][:3].copy()"
   ]
  },
  {
   "cell_type": "code",
   "execution_count": 111,
   "metadata": {},
   "outputs": [],
   "source": [
    "stats_hr.iloc[1:,:2] = stats_ha.iloc[1:3,:2]/(mcap_ec)\n",
    "\n",
    "stats_hr.iloc[1:,2:4] = stats_ha.iloc[1:3,3:5]/(mcap_nc)\n",
    "\n",
    "stats_hr.iloc[1:,4:6] = stats_ha.iloc[1:3,6:8]/(mcap_wc)\n",
    "\n",
    "stats_hr.iloc[1:,6:8] = stats_ha.iloc[1:3,9:11]/(mcap_zaf)"
   ]
  },
  {
   "cell_type": "code",
   "execution_count": 112,
   "metadata": {},
   "outputs": [
    {
     "data": {
      "text/html": [
       "<div>\n",
       "<style scoped>\n",
       "    .dataframe tbody tr th:only-of-type {\n",
       "        vertical-align: middle;\n",
       "    }\n",
       "\n",
       "    .dataframe tbody tr th {\n",
       "        vertical-align: top;\n",
       "    }\n",
       "\n",
       "    .dataframe thead th {\n",
       "        text-align: right;\n",
       "    }\n",
       "</style>\n",
       "<table border=\"1\" class=\"dataframe\">\n",
       "  <thead>\n",
       "    <tr style=\"text-align: right;\">\n",
       "      <th></th>\n",
       "      <th>EC</th>\n",
       "      <th>EC_GWA</th>\n",
       "      <th>NC</th>\n",
       "      <th>NC_GWA</th>\n",
       "      <th>WC</th>\n",
       "      <th>WC_GWA</th>\n",
       "      <th>ZAF</th>\n",
       "      <th>ZAF_GWA</th>\n",
       "    </tr>\n",
       "  </thead>\n",
       "  <tbody>\n",
       "    <tr>\n",
       "      <th>Correlation</th>\n",
       "      <td>0.78</td>\n",
       "      <td>0.77</td>\n",
       "      <td>0.76</td>\n",
       "      <td>0.76</td>\n",
       "      <td>0.72</td>\n",
       "      <td>0.70</td>\n",
       "      <td>0.86</td>\n",
       "      <td>0.85</td>\n",
       "    </tr>\n",
       "    <tr>\n",
       "      <th>RMSE_MWh</th>\n",
       "      <td>0.21</td>\n",
       "      <td>0.18</td>\n",
       "      <td>0.22</td>\n",
       "      <td>0.22</td>\n",
       "      <td>0.20</td>\n",
       "      <td>0.17</td>\n",
       "      <td>0.17</td>\n",
       "      <td>0.14</td>\n",
       "    </tr>\n",
       "    <tr>\n",
       "      <th>MBE_MWh</th>\n",
       "      <td>0.05</td>\n",
       "      <td>-0.02</td>\n",
       "      <td>0.03</td>\n",
       "      <td>-0.08</td>\n",
       "      <td>0.05</td>\n",
       "      <td>-0.03</td>\n",
       "      <td>0.05</td>\n",
       "      <td>-0.03</td>\n",
       "    </tr>\n",
       "  </tbody>\n",
       "</table>\n",
       "</div>"
      ],
      "text/plain": [
       "               EC  EC_GWA    NC  NC_GWA    WC  WC_GWA   ZAF  ZAF_GWA\n",
       "Correlation  0.78    0.77  0.76    0.76  0.72    0.70  0.86     0.85\n",
       "RMSE_MWh     0.21    0.18  0.22    0.22  0.20    0.17  0.17     0.14\n",
       "MBE_MWh      0.05   -0.02  0.03   -0.08  0.05   -0.03  0.05    -0.03"
      ]
     },
     "execution_count": 112,
     "metadata": {},
     "output_type": "execute_result"
    }
   ],
   "source": [
    "stats_hr.round(2)"
   ]
  },
  {
   "cell_type": "code",
   "execution_count": 113,
   "metadata": {},
   "outputs": [],
   "source": [
    "# save relative results\n",
    "stats_hr.round(2).to_csv(south_africa_path+\"/results/stats_h_rel_MERRA.csv\")"
   ]
  },
  {
   "cell_type": "markdown",
   "metadata": {},
   "source": [
    "### daily"
   ]
  },
  {
   "cell_type": "code",
   "execution_count": 114,
   "metadata": {},
   "outputs": [],
   "source": [
    "stats_dr = stats_da[['EC','EC_GWA','NC','NC_GWA','WC','WC_GWA','ZAF','ZAF_GWA']][:3].copy()"
   ]
  },
  {
   "cell_type": "code",
   "execution_count": 115,
   "metadata": {},
   "outputs": [],
   "source": [
    "stats_dr.iloc[1:,:2] = stats_da.iloc[1:3,:2]/(mcap_ec_d*24/1000)\n",
    "\n",
    "stats_dr.iloc[1:,2:4] = stats_da.iloc[1:3,3:5]/(mcap_nc_d*24/1000)\n",
    "\n",
    "stats_dr.iloc[1:,4:6] = stats_da.iloc[1:3,6:8]/(mcap_wc_d*24/1000)\n",
    "\n",
    "stats_dr.iloc[1:,6:8] = stats_da.iloc[1:3,9:11]/(mcap_zaf_d*24/1000)"
   ]
  },
  {
   "cell_type": "code",
   "execution_count": 116,
   "metadata": {},
   "outputs": [
    {
     "data": {
      "text/html": [
       "<div>\n",
       "<style scoped>\n",
       "    .dataframe tbody tr th:only-of-type {\n",
       "        vertical-align: middle;\n",
       "    }\n",
       "\n",
       "    .dataframe tbody tr th {\n",
       "        vertical-align: top;\n",
       "    }\n",
       "\n",
       "    .dataframe thead th {\n",
       "        text-align: right;\n",
       "    }\n",
       "</style>\n",
       "<table border=\"1\" class=\"dataframe\">\n",
       "  <thead>\n",
       "    <tr style=\"text-align: right;\">\n",
       "      <th></th>\n",
       "      <th>EC</th>\n",
       "      <th>EC_GWA</th>\n",
       "      <th>NC</th>\n",
       "      <th>NC_GWA</th>\n",
       "      <th>WC</th>\n",
       "      <th>WC_GWA</th>\n",
       "      <th>ZAF</th>\n",
       "      <th>ZAF_GWA</th>\n",
       "    </tr>\n",
       "  </thead>\n",
       "  <tbody>\n",
       "    <tr>\n",
       "      <th>Correlation</th>\n",
       "      <td>0.88</td>\n",
       "      <td>0.87</td>\n",
       "      <td>0.80</td>\n",
       "      <td>0.80</td>\n",
       "      <td>0.78</td>\n",
       "      <td>0.76</td>\n",
       "      <td>0.93</td>\n",
       "      <td>0.91</td>\n",
       "    </tr>\n",
       "    <tr>\n",
       "      <th>RMSE_MWh</th>\n",
       "      <td>0.13</td>\n",
       "      <td>0.11</td>\n",
       "      <td>0.14</td>\n",
       "      <td>0.16</td>\n",
       "      <td>0.14</td>\n",
       "      <td>0.11</td>\n",
       "      <td>0.11</td>\n",
       "      <td>0.09</td>\n",
       "    </tr>\n",
       "    <tr>\n",
       "      <th>MBE_MWh</th>\n",
       "      <td>0.05</td>\n",
       "      <td>-0.02</td>\n",
       "      <td>0.02</td>\n",
       "      <td>-0.09</td>\n",
       "      <td>0.05</td>\n",
       "      <td>-0.03</td>\n",
       "      <td>0.05</td>\n",
       "      <td>-0.03</td>\n",
       "    </tr>\n",
       "  </tbody>\n",
       "</table>\n",
       "</div>"
      ],
      "text/plain": [
       "               EC  EC_GWA    NC  NC_GWA    WC  WC_GWA   ZAF  ZAF_GWA\n",
       "Correlation  0.88    0.87  0.80    0.80  0.78    0.76  0.93     0.91\n",
       "RMSE_MWh     0.13    0.11  0.14    0.16  0.14    0.11  0.11     0.09\n",
       "MBE_MWh      0.05   -0.02  0.02   -0.09  0.05   -0.03  0.05    -0.03"
      ]
     },
     "execution_count": 116,
     "metadata": {},
     "output_type": "execute_result"
    }
   ],
   "source": [
    "stats_dr.round(2)"
   ]
  },
  {
   "cell_type": "code",
   "execution_count": 117,
   "metadata": {},
   "outputs": [],
   "source": [
    "# save relative results\n",
    "stats_dr.round(2).to_csv(south_africa_path+\"/results/stats_d_rel_MERRA.csv\")"
   ]
  },
  {
   "cell_type": "code",
   "execution_count": null,
   "metadata": {},
   "outputs": [],
   "source": []
  },
  {
   "cell_type": "code",
   "execution_count": null,
   "metadata": {},
   "outputs": [],
   "source": []
  },
  {
   "cell_type": "markdown",
   "metadata": {},
   "source": [
    "# Capacity factors"
   ]
  },
  {
   "cell_type": "markdown",
   "metadata": {},
   "source": [
    "let's also calculate daily and hourly capacity factors"
   ]
  },
  {
   "cell_type": "markdown",
   "metadata": {},
   "source": [
    "### hourly"
   ]
  },
  {
   "cell_type": "code",
   "execution_count": 118,
   "metadata": {},
   "outputs": [],
   "source": [
    "CF_EC_h = production_MW_ec_ts.drop('keep',axis=1).div(cap_all_h.EC[cap_all_h.EC>0].values,axis=0)\n",
    "CF_NC_h = production_MW_nc_ts.drop('keep',axis=1).div(cap_all_h.NC[cap_all_h.NC>0].values,axis=0)\n",
    "CF_WC_h = production_MW_wc_ts.drop('keep',axis=1).div(cap_all_h.WC[cap_all_h.WC>0].values,axis=0)\n",
    "CF_ZAF_h = production_MW_zaf_ts.drop('keep',axis=1).div(cap_all_h.ZAF[cap_all_h.ZAF>0].values,axis=0)"
   ]
  },
  {
   "cell_type": "code",
   "execution_count": 119,
   "metadata": {},
   "outputs": [
    {
     "data": {
      "text/plain": [
       "[<matplotlib.lines.Line2D at 0x1a72877fcf8>,\n",
       " <matplotlib.lines.Line2D at 0x1a72a25d898>,\n",
       " <matplotlib.lines.Line2D at 0x1a72a25dac8>]"
      ]
     },
     "execution_count": 119,
     "metadata": {},
     "output_type": "execute_result"
    },
    {
     "data": {
      "image/png": "[encoded data removed]",
      "text/plain": [
       "<Figure size 432x288 with 1 Axes>"
      ]
     },
     "metadata": {},
     "output_type": "display_data"
    }
   ],
   "source": [
    "plt.plot(CF_EC_h)"
   ]
  },
  {
   "cell_type": "code",
   "execution_count": 120,
   "metadata": {},
   "outputs": [
    {
     "data": {
      "text/plain": [
       "[<matplotlib.lines.Line2D at 0x1a72a28f198>,\n",
       " <matplotlib.lines.Line2D at 0x1a72a2c0da0>,\n",
       " <matplotlib.lines.Line2D at 0x1a72a2c0fd0>]"
      ]
     },
     "execution_count": 120,
     "metadata": {},
     "output_type": "execute_result"
    },
    {
     "data": {
      "image/png": "[encoded data removed]",
      "text/plain": [
       "<Figure size 432x288 with 1 Axes>"
      ]
     },
     "metadata": {},
     "output_type": "display_data"
    }
   ],
   "source": [
    "plt.plot(CF_NC_h)"
   ]
  },
  {
   "cell_type": "code",
   "execution_count": 121,
   "metadata": {},
   "outputs": [
    {
     "data": {
      "text/plain": [
       "[<matplotlib.lines.Line2D at 0x1a72a2fadd8>,\n",
       " <matplotlib.lines.Line2D at 0x1a72a321898>,\n",
       " <matplotlib.lines.Line2D at 0x1a72a321ac8>]"
      ]
     },
     "execution_count": 121,
     "metadata": {},
     "output_type": "execute_result"
    },
    {
     "data": {
      "image/png": "[encoded data removed]",
      "text/plain": [
       "<Figure size 432x288 with 1 Axes>"
      ]
     },
     "metadata": {},
     "output_type": "display_data"
    }
   ],
   "source": [
    "plt.plot(CF_WC_h)"
   ]
  },
  {
   "cell_type": "code",
   "execution_count": 122,
   "metadata": {},
   "outputs": [
    {
     "data": {
      "text/plain": [
       "[<matplotlib.lines.Line2D at 0x1a72a321c50>,\n",
       " <matplotlib.lines.Line2D at 0x1a72a4f4390>,\n",
       " <matplotlib.lines.Line2D at 0x1a72a4f44a8>]"
      ]
     },
     "execution_count": 122,
     "metadata": {},
     "output_type": "execute_result"
    },
    {
     "data": {
      "image/png": "[encoded data removed]",
      "text/plain": [
       "<Figure size 432x288 with 1 Axes>"
      ]
     },
     "metadata": {},
     "output_type": "display_data"
    }
   ],
   "source": [
    "plt.plot(CF_ZAF_h)"
   ]
  },
  {
   "cell_type": "markdown",
   "metadata": {},
   "source": [
    "### daily"
   ]
  },
  {
   "cell_type": "code",
   "execution_count": 123,
   "metadata": {},
   "outputs": [],
   "source": [
    "CF_EC_d = production_GW_EC_daily.div(cap_all_d.EC[cap_all_d.EC>0].values*24/1000,axis=0)\n",
    "CF_NC_d = production_GW_NC_daily.div(cap_all_d.NC[cap_all_d.NC>0].values*24/1000,axis=0)\n",
    "CF_WC_d = production_GW_WC_daily.div(cap_all_d.WC[cap_all_d.WC>0].values*24/1000,axis=0)\n",
    "CF_ZAF_d = production_GW_ZAF_daily.div(cap_all_d.ZAF[cap_all_d.ZAF>0].values*24/1000,axis=0)"
   ]
  },
  {
   "cell_type": "code",
   "execution_count": 124,
   "metadata": {},
   "outputs": [],
   "source": [
    "CF_EC_d.index = [np.datetime64(str(d)[:4]+'-'+str(d)[4:6]+'-'+str(d)[6:]) for d in CF_EC_d.index]\n",
    "CF_NC_d.index = [np.datetime64(str(d)[:4]+'-'+str(d)[4:6]+'-'+str(d)[6:]) for d in CF_NC_d.index]\n",
    "CF_WC_d.index = [np.datetime64(str(d)[:4]+'-'+str(d)[4:6]+'-'+str(d)[6:]) for d in CF_WC_d.index]\n",
    "CF_ZAF_d.index = [np.datetime64(str(d)[:4]+'-'+str(d)[4:6]+'-'+str(d)[6:]) for d in CF_ZAF_d.index]"
   ]
  },
  {
   "cell_type": "code",
   "execution_count": 125,
   "metadata": {},
   "outputs": [
    {
     "data": {
      "text/plain": [
       "[<matplotlib.lines.Line2D at 0x1a72a530da0>,\n",
       " <matplotlib.lines.Line2D at 0x1a72a5568d0>,\n",
       " <matplotlib.lines.Line2D at 0x1a72a556b00>]"
      ]
     },
     "execution_count": 125,
     "metadata": {},
     "output_type": "execute_result"
    },
    {
     "data": {
      "image/png": "[encoded data removed]",
      "text/plain": [
       "<Figure size 432x288 with 1 Axes>"
      ]
     },
     "metadata": {},
     "output_type": "display_data"
    }
   ],
   "source": [
    "plt.plot(CF_EC_d)"
   ]
  },
  {
   "cell_type": "code",
   "execution_count": 126,
   "metadata": {},
   "outputs": [
    {
     "data": {
      "text/plain": [
       "[<matplotlib.lines.Line2D at 0x1a72a594668>,\n",
       " <matplotlib.lines.Line2D at 0x1a72a5b92b0>,\n",
       " <matplotlib.lines.Line2D at 0x1a72a5b94e0>]"
      ]
     },
     "execution_count": 126,
     "metadata": {},
     "output_type": "execute_result"
    },
    {
     "data": {
      "image/png": "[encoded data removed]",
      "text/plain": [
       "<Figure size 432x288 with 1 Axes>"
      ]
     },
     "metadata": {},
     "output_type": "display_data"
    }
   ],
   "source": [
    "plt.plot(CF_NC_d)"
   ]
  },
  {
   "cell_type": "code",
   "execution_count": 127,
   "metadata": {},
   "outputs": [
    {
     "data": {
      "text/plain": [
       "[<matplotlib.lines.Line2D at 0x1a72a5f1b38>,\n",
       " <matplotlib.lines.Line2D at 0x1a72a611b38>,\n",
       " <matplotlib.lines.Line2D at 0x1a72a611d68>]"
      ]
     },
     "execution_count": 127,
     "metadata": {},
     "output_type": "execute_result"
    },
    {
     "data": {
      "image/png": "[encoded data removed]",
      "text/plain": [
       "<Figure size 432x288 with 1 Axes>"
      ]
     },
     "metadata": {},
     "output_type": "display_data"
    }
   ],
   "source": [
    "plt.plot(CF_WC_d)"
   ]
  },
  {
   "cell_type": "code",
   "execution_count": 128,
   "metadata": {},
   "outputs": [
    {
     "data": {
      "text/plain": [
       "[<matplotlib.lines.Line2D at 0x1a72b6435c0>,\n",
       " <matplotlib.lines.Line2D at 0x1a72b665048>,\n",
       " <matplotlib.lines.Line2D at 0x1a72b665208>]"
      ]
     },
     "execution_count": 128,
     "metadata": {},
     "output_type": "execute_result"
    },
    {
     "data": {
      "image/png": "[encoded data removed]",
      "text/plain": [
       "<Figure size 432x288 with 1 Axes>"
      ]
     },
     "metadata": {},
     "output_type": "display_data"
    }
   ],
   "source": [
    "plt.plot(CF_ZAF_d)"
   ]
  },
  {
   "cell_type": "markdown",
   "metadata": {},
   "source": [
    "# Analysis Capacity Factors"
   ]
  },
  {
   "cell_type": "markdown",
   "metadata": {},
   "source": [
    "### hourly"
   ]
  },
  {
   "cell_type": "code",
   "execution_count": 129,
   "metadata": {},
   "outputs": [],
   "source": [
    "statsCF_h = pd.DataFrame({'cor':np.nan,\n",
    "                          'rmse':np.nan,\n",
    "                          'mbe':np.nan,\n",
    "                          'avg':np.nan},\n",
    "                          index = ['EC','EC_GWA','EC_obs',\n",
    "                                   'NC','NC_GWA','NC_obs',\n",
    "                                   'WC','WC_GWA','WC_obs',\n",
    "                                   'ZAF','ZAF_GWA','ZAF_obs'])"
   ]
  },
  {
   "cell_type": "code",
   "execution_count": 130,
   "metadata": {},
   "outputs": [],
   "source": [
    "CF_EC_h.columns =['obs','sim','sim_GWA']\n",
    "CF_NC_h.columns =['obs','sim','sim_GWA']\n",
    "CF_WC_h.columns =['obs','sim','sim_GWA']\n",
    "CF_ZAF_h.columns =['obs','sim','sim_GWA']"
   ]
  },
  {
   "cell_type": "code",
   "execution_count": 131,
   "metadata": {},
   "outputs": [],
   "source": [
    "statsCF_h.cor = [np.corrcoef(CF_EC_h.obs,CF_EC_h.sim)[0,1],\n",
    "                 np.corrcoef(CF_EC_h.obs,CF_EC_h.sim_GWA)[0,1],\n",
    "                 np.nan,\n",
    "                 np.corrcoef(CF_NC_h.obs,CF_NC_h.sim)[0,1],\n",
    "                 np.corrcoef(CF_NC_h.obs,CF_NC_h.sim_GWA)[0,1],\n",
    "                 np.nan,\n",
    "                 np.corrcoef(CF_WC_h.obs,CF_WC_h.sim)[0,1],\n",
    "                 np.corrcoef(CF_WC_h.obs,CF_WC_h.sim_GWA)[0,1],\n",
    "                 np.nan,\n",
    "                 np.corrcoef(CF_ZAF_h.obs,CF_ZAF_h.sim)[0,1],\n",
    "                 np.corrcoef(CF_ZAF_h.obs,CF_ZAF_h.sim_GWA)[0,1],\n",
    "                 np.nan]\n"
   ]
  },
  {
   "cell_type": "code",
   "execution_count": 132,
   "metadata": {},
   "outputs": [],
   "source": [
    "statsCF_h.rmse = [np.sqrt(np.mean((np.array(CF_EC_h.obs)-np.array(CF_EC_h.sim))**2)),\n",
    "                  np.sqrt(np.mean((np.array(CF_EC_h.obs)-np.array(CF_EC_h.sim_GWA))**2)),\n",
    "                  np.nan,\n",
    "                  np.sqrt(np.mean((np.array(CF_NC_h.obs)-np.array(CF_NC_h.sim))**2)),\n",
    "                  np.sqrt(np.mean((np.array(CF_NC_h.obs)-np.array(CF_NC_h.sim_GWA))**2)),\n",
    "                  np.nan,\n",
    "                  np.sqrt(np.mean((np.array(CF_WC_h.obs)-np.array(CF_WC_h.sim))**2)),\n",
    "                  np.sqrt(np.mean((np.array(CF_WC_h.obs)-np.array(CF_WC_h.sim_GWA))**2)),\n",
    "                  np.nan,\n",
    "                  np.sqrt(np.mean((np.array(CF_ZAF_h.obs)-np.array(CF_ZAF_h.sim))**2)),\n",
    "                  np.sqrt(np.mean((np.array(CF_ZAF_h.obs)-np.array(CF_ZAF_h.sim_GWA))**2)),\n",
    "                  np.nan]"
   ]
  },
  {
   "cell_type": "code",
   "execution_count": 133,
   "metadata": {},
   "outputs": [],
   "source": [
    "statsCF_h.mbe = [(np.array(CF_EC_h.obs)-np.array(CF_EC_h.sim)).mean(),\n",
    "                 (np.array(CF_EC_h.obs)-np.array(CF_EC_h.sim_GWA)).mean(),\n",
    "                 np.nan,\n",
    "                 (np.array(CF_NC_h.obs)-np.array(CF_NC_h.sim)).mean(),\n",
    "                 (np.array(CF_NC_h.obs)-np.array(CF_NC_h.sim_GWA)).mean(),\n",
    "                 np.nan,\n",
    "                 (np.array(CF_WC_h.obs)-np.array(CF_WC_h.sim)).mean(),\n",
    "                 (np.array(CF_WC_h.obs)-np.array(CF_WC_h.sim_GWA)).mean(),\n",
    "                 np.nan,\n",
    "                 (np.array(CF_ZAF_h.obs)-np.array(CF_ZAF_h.sim)).mean(),\n",
    "                 (np.array(CF_ZAF_h.obs)-np.array(CF_ZAF_h.sim_GWA)).mean(),\n",
    "                 np.nan]\n"
   ]
  },
  {
   "cell_type": "code",
   "execution_count": 134,
   "metadata": {},
   "outputs": [],
   "source": [
    "statsCF_h.avg = [CF_EC_h.sim.mean(),CF_EC_h.sim_GWA.mean(),CF_EC_h.obs.mean(),\n",
    "                 CF_NC_h.sim.mean(),CF_NC_h.sim_GWA.mean(),CF_NC_h.obs.mean(),\n",
    "                 CF_WC_h.sim.mean(),CF_WC_h.sim_GWA.mean(),CF_WC_h.obs.mean(),\n",
    "                 CF_ZAF_h.sim.mean(),CF_ZAF_h.sim_GWA.mean(),CF_ZAF_h.obs.mean()]\n"
   ]
  },
  {
   "cell_type": "markdown",
   "metadata": {},
   "source": [
    "save dataframe with hourly results"
   ]
  },
  {
   "cell_type": "code",
   "execution_count": 135,
   "metadata": {},
   "outputs": [],
   "source": [
    "# hourly and absolute statistics\n",
    "statsCF_h = statsCF_h.transpose().set_index(pd.Index(['Correlation','RMSE_MWh','MBE_MWh','Mean_MWh']),'parameter')"
   ]
  },
  {
   "cell_type": "code",
   "execution_count": 136,
   "metadata": {},
   "outputs": [],
   "source": [
    "statsCF_h.round(2).to_csv(south_africa_path+'/results/statsCF_h_MERRA.csv',sep=';')"
   ]
  },
  {
   "cell_type": "code",
   "execution_count": 137,
   "metadata": {},
   "outputs": [
    {
     "data": {
      "text/html": [
       "<div>\n",
       "<style scoped>\n",
       "    .dataframe tbody tr th:only-of-type {\n",
       "        vertical-align: middle;\n",
       "    }\n",
       "\n",
       "    .dataframe tbody tr th {\n",
       "        vertical-align: top;\n",
       "    }\n",
       "\n",
       "    .dataframe thead th {\n",
       "        text-align: right;\n",
       "    }\n",
       "</style>\n",
       "<table border=\"1\" class=\"dataframe\">\n",
       "  <thead>\n",
       "    <tr style=\"text-align: right;\">\n",
       "      <th></th>\n",
       "      <th>EC</th>\n",
       "      <th>EC_GWA</th>\n",
       "      <th>EC_obs</th>\n",
       "      <th>NC</th>\n",
       "      <th>NC_GWA</th>\n",
       "      <th>NC_obs</th>\n",
       "      <th>WC</th>\n",
       "      <th>WC_GWA</th>\n",
       "      <th>WC_obs</th>\n",
       "      <th>ZAF</th>\n",
       "      <th>ZAF_GWA</th>\n",
       "      <th>ZAF_obs</th>\n",
       "    </tr>\n",
       "  </thead>\n",
       "  <tbody>\n",
       "    <tr>\n",
       "      <th>Correlation</th>\n",
       "      <td>0.65</td>\n",
       "      <td>0.60</td>\n",
       "      <td>NaN</td>\n",
       "      <td>0.69</td>\n",
       "      <td>0.67</td>\n",
       "      <td>NaN</td>\n",
       "      <td>0.74</td>\n",
       "      <td>0.73</td>\n",
       "      <td>NaN</td>\n",
       "      <td>0.65</td>\n",
       "      <td>0.60</td>\n",
       "      <td>NaN</td>\n",
       "    </tr>\n",
       "    <tr>\n",
       "      <th>RMSE_MWh</th>\n",
       "      <td>0.22</td>\n",
       "      <td>0.21</td>\n",
       "      <td>NaN</td>\n",
       "      <td>0.23</td>\n",
       "      <td>0.23</td>\n",
       "      <td>NaN</td>\n",
       "      <td>0.20</td>\n",
       "      <td>0.17</td>\n",
       "      <td>NaN</td>\n",
       "      <td>0.19</td>\n",
       "      <td>0.18</td>\n",
       "      <td>NaN</td>\n",
       "    </tr>\n",
       "    <tr>\n",
       "      <th>MBE_MWh</th>\n",
       "      <td>-0.04</td>\n",
       "      <td>0.04</td>\n",
       "      <td>NaN</td>\n",
       "      <td>-0.03</td>\n",
       "      <td>0.09</td>\n",
       "      <td>NaN</td>\n",
       "      <td>-0.05</td>\n",
       "      <td>0.03</td>\n",
       "      <td>NaN</td>\n",
       "      <td>-0.04</td>\n",
       "      <td>0.05</td>\n",
       "      <td>NaN</td>\n",
       "    </tr>\n",
       "    <tr>\n",
       "      <th>Mean_MWh</th>\n",
       "      <td>0.36</td>\n",
       "      <td>0.28</td>\n",
       "      <td>0.32</td>\n",
       "      <td>0.45</td>\n",
       "      <td>0.34</td>\n",
       "      <td>0.42</td>\n",
       "      <td>0.38</td>\n",
       "      <td>0.30</td>\n",
       "      <td>0.34</td>\n",
       "      <td>0.37</td>\n",
       "      <td>0.29</td>\n",
       "      <td>0.33</td>\n",
       "    </tr>\n",
       "  </tbody>\n",
       "</table>\n",
       "</div>"
      ],
      "text/plain": [
       "               EC  EC_GWA  EC_obs    NC  NC_GWA  NC_obs    WC  WC_GWA  WC_obs  \\\n",
       "Correlation  0.65    0.60     NaN  0.69    0.67     NaN  0.74    0.73     NaN   \n",
       "RMSE_MWh     0.22    0.21     NaN  0.23    0.23     NaN  0.20    0.17     NaN   \n",
       "MBE_MWh     -0.04    0.04     NaN -0.03    0.09     NaN -0.05    0.03     NaN   \n",
       "Mean_MWh     0.36    0.28    0.32  0.45    0.34    0.42  0.38    0.30    0.34   \n",
       "\n",
       "              ZAF  ZAF_GWA  ZAF_obs  \n",
       "Correlation  0.65     0.60      NaN  \n",
       "RMSE_MWh     0.19     0.18      NaN  \n",
       "MBE_MWh     -0.04     0.05      NaN  \n",
       "Mean_MWh     0.37     0.29     0.33  "
      ]
     },
     "execution_count": 137,
     "metadata": {},
     "output_type": "execute_result"
    }
   ],
   "source": [
    "statsCF_h.round(2)"
   ]
  },
  {
   "cell_type": "markdown",
   "metadata": {},
   "source": [
    "boxplot for South Africa"
   ]
  },
  {
   "cell_type": "code",
   "execution_count": 182,
   "metadata": {},
   "outputs": [
    {
     "data": {
      "image/png": "[encoded data removed]",
      "text/plain": [
       "<Figure size 864x576 with 1 Axes>"
      ]
     },
     "metadata": {},
     "output_type": "display_data"
    }
   ],
   "source": [
    "# plot South Africa\n",
    "CF_ZAFh = CF_ZAF_h.melt(var_name='type',value_name='hourly_CF')\n",
    "sns.set(style='darkgrid',context='talk')\n",
    "plt.figure(figsize=(12,8))\n",
    "ax = sns.boxplot(x='type',y='hourly_CF',data=CF_ZAFh,palette=col_refuel3,linewidth=3)\n",
    "plt.ylim(0,1)\n",
    "fig = ax.get_figure()\n",
    "fig.savefig(south_africa_path+'/results/plots/CFs/ZAF_MERRA_hourly.png')"
   ]
  },
  {
   "cell_type": "code",
   "execution_count": 139,
   "metadata": {},
   "outputs": [],
   "source": [
    "# boxplots for capes\n",
    "\n",
    "# melt data for each region and add a region column\n",
    "CF_ECh = CF_EC_h.melt(var_name='type',value_name='hourly_CF')\n",
    "CF_ECh['region'] = 'EC'\n",
    "CF_NCh = CF_NC_h.melt(var_name='type',value_name='hourly_CF')\n",
    "CF_NCh['region'] = 'NC'\n",
    "CF_WCh = CF_WC_h.melt(var_name='type',value_name='hourly_CF')\n",
    "CF_WCh['region'] = 'WC'\n",
    "\n",
    "# merge regions to one data frame\n",
    "CF_Ch = pd.concat([CF_ECh,CF_NCh,CF_WCh])"
   ]
  },
  {
   "cell_type": "code",
   "execution_count": 140,
   "metadata": {},
   "outputs": [
    {
     "name": "stdout",
     "output_type": "stream",
     "text": [
      "EC: 110799\n",
      "NC: 28758\n",
      "WC: 94851\n",
      "ZAF: 110799\n"
     ]
    }
   ],
   "source": [
    "# lengths of time series\n",
    "print('EC: '+str(CF_ECh.shape[0]))\n",
    "print('NC: '+str(CF_NCh.shape[0]))\n",
    "print('WC: '+str(CF_WCh.shape[0]))\n",
    "print('ZAF: '+str(CF_ZAFh.shape[0]))"
   ]
  },
  {
   "cell_type": "code",
   "execution_count": 141,
   "metadata": {},
   "outputs": [],
   "source": [
    "CF_Ch_tidy = CF_Ch.melt(id_vars=['region','type'],value_name='hourly_CF').drop(columns={'variable'})"
   ]
  },
  {
   "cell_type": "code",
   "execution_count": 204,
   "metadata": {},
   "outputs": [
    {
     "data": {
      "image/png": "[encoded data removed]",
      "text/plain": [
       "<Figure size 864x576 with 1 Axes>"
      ]
     },
     "metadata": {},
     "output_type": "display_data"
    }
   ],
   "source": [
    "sns.set(style='darkgrid',context='talk')\n",
    "plt.figure(figsize=(12,8))\n",
    "ax = sns.boxplot(x='region',y='hourly_CF',hue='type',data=CF_Ch_tidy,palette=col_refuel3,linewidth=3)\n",
    "ax.legend(loc='center right', bbox_to_anchor=(1.25, 0.5))\n",
    "plt.ylim(0,1)\n",
    "fig = ax.get_figure()\n",
    "fig.savefig(south_africa_path+'/results/plots/CFs/regions_MERRA_hourly.png')"
   ]
  },
  {
   "cell_type": "markdown",
   "metadata": {},
   "source": [
    "### daily"
   ]
  },
  {
   "cell_type": "code",
   "execution_count": 143,
   "metadata": {},
   "outputs": [],
   "source": [
    "statsCF_d = pd.DataFrame({'cor':np.nan,\n",
    "                          'rmse':np.nan,\n",
    "                          'mbe':np.nan,\n",
    "                          'avg':np.nan},\n",
    "                          index = ['EC','EC_GWA','EC_obs',\n",
    "                                   'NC','NC_GWA','NC_obs',\n",
    "                                   'WC','WC_GWA','WC_obs',\n",
    "                                   'ZAF','ZAF_GWA','ZAF_obs'])"
   ]
  },
  {
   "cell_type": "code",
   "execution_count": 144,
   "metadata": {},
   "outputs": [],
   "source": [
    "statsCF_d.cor = [np.corrcoef(CF_EC_d.obs,CF_EC_d.sim)[0,1],\n",
    "                 np.corrcoef(CF_EC_d.obs,CF_EC_d.sim_GWA)[0,1],\n",
    "                 np.nan,\n",
    "                 np.corrcoef(CF_NC_d.obs,CF_NC_d.sim)[0,1],\n",
    "                 np.corrcoef(CF_NC_d.obs,CF_NC_d.sim_GWA)[0,1],\n",
    "                 np.nan,\n",
    "                 np.corrcoef(CF_WC_d.obs,CF_WC_d.sim)[0,1],\n",
    "                 np.corrcoef(CF_WC_d.obs,CF_WC_d.sim_GWA)[0,1],\n",
    "                 np.nan,\n",
    "                 np.corrcoef(CF_ZAF_d.obs,CF_ZAF_d.sim)[0,1],\n",
    "                 np.corrcoef(CF_ZAF_d.obs,CF_ZAF_d.sim_GWA)[0,1],\n",
    "                 np.nan]\n"
   ]
  },
  {
   "cell_type": "code",
   "execution_count": 145,
   "metadata": {},
   "outputs": [],
   "source": [
    "statsCF_d.rmse = [np.sqrt(np.mean((np.array(CF_EC_d.obs)-np.array(CF_EC_d.sim))**2)),\n",
    "                  np.sqrt(np.mean((np.array(CF_EC_d.obs)-np.array(CF_EC_d.sim_GWA))**2)),\n",
    "                  np.nan,\n",
    "                  np.sqrt(np.mean((np.array(CF_NC_d.obs)-np.array(CF_NC_d.sim))**2)),\n",
    "                  np.sqrt(np.mean((np.array(CF_NC_d.obs)-np.array(CF_NC_d.sim_GWA))**2)),\n",
    "                  np.nan,\n",
    "                  np.sqrt(np.mean((np.array(CF_WC_d.obs)-np.array(CF_WC_d.sim))**2)),\n",
    "                  np.sqrt(np.mean((np.array(CF_WC_d.obs)-np.array(CF_WC_d.sim_GWA))**2)),\n",
    "                  np.nan,\n",
    "                  np.sqrt(np.mean((np.array(CF_ZAF_d.obs)-np.array(CF_ZAF_d.sim))**2)),\n",
    "                  np.sqrt(np.mean((np.array(CF_ZAF_d.obs)-np.array(CF_ZAF_d.sim_GWA))**2)),\n",
    "                  np.nan]"
   ]
  },
  {
   "cell_type": "code",
   "execution_count": 146,
   "metadata": {},
   "outputs": [],
   "source": [
    "statsCF_d.mbe = [(np.array(CF_EC_d.obs)-np.array(CF_EC_d.sim)).mean(),\n",
    "                 (np.array(CF_EC_d.obs)-np.array(CF_EC_d.sim_GWA)).mean(),\n",
    "                 np.nan,\n",
    "                 (np.array(CF_NC_d.obs)-np.array(CF_NC_d.sim)).mean(),\n",
    "                 (np.array(CF_NC_d.obs)-np.array(CF_NC_d.sim_GWA)).mean(),\n",
    "                 np.nan,\n",
    "                 (np.array(CF_WC_d.obs)-np.array(CF_WC_d.sim)).mean(),\n",
    "                 (np.array(CF_WC_d.obs)-np.array(CF_WC_d.sim_GWA)).mean(),\n",
    "                 np.nan,\n",
    "                 (np.array(CF_ZAF_d.obs)-np.array(CF_ZAF_d.sim)).mean(),\n",
    "                 (np.array(CF_ZAF_d.obs)-np.array(CF_ZAF_d.sim_GWA)).mean(),\n",
    "                 np.nan]\n"
   ]
  },
  {
   "cell_type": "code",
   "execution_count": 147,
   "metadata": {},
   "outputs": [],
   "source": [
    "statsCF_d.avg = [CF_EC_d.sim.mean(),CF_EC_d.sim_GWA.mean(),CF_EC_d.obs.mean(),\n",
    "                 CF_NC_d.sim.mean(),CF_NC_d.sim_GWA.mean(),CF_NC_d.obs.mean(),\n",
    "                 CF_WC_d.sim.mean(),CF_WC_d.sim_GWA.mean(),CF_WC_d.obs.mean(),\n",
    "                 CF_ZAF_d.sim.mean(),CF_ZAF_d.sim_GWA.mean(),CF_ZAF_d.obs.mean()]\n"
   ]
  },
  {
   "cell_type": "markdown",
   "metadata": {},
   "source": [
    "save dataframe with daily results"
   ]
  },
  {
   "cell_type": "code",
   "execution_count": 148,
   "metadata": {},
   "outputs": [],
   "source": [
    "# hourly and absolute statistics\n",
    "statsCF_d = statsCF_d.transpose().set_index(pd.Index(['Correlation','RMSE_MWh','MBE_MWh','Mean_MWh']),'parameter')"
   ]
  },
  {
   "cell_type": "code",
   "execution_count": 149,
   "metadata": {},
   "outputs": [],
   "source": [
    "statsCF_d.round(2).to_csv(south_africa_path+'/results/statsCF_d_MERRA.csv',sep=';')"
   ]
  },
  {
   "cell_type": "code",
   "execution_count": 150,
   "metadata": {},
   "outputs": [
    {
     "data": {
      "text/html": [
       "<div>\n",
       "<style scoped>\n",
       "    .dataframe tbody tr th:only-of-type {\n",
       "        vertical-align: middle;\n",
       "    }\n",
       "\n",
       "    .dataframe tbody tr th {\n",
       "        vertical-align: top;\n",
       "    }\n",
       "\n",
       "    .dataframe thead th {\n",
       "        text-align: right;\n",
       "    }\n",
       "</style>\n",
       "<table border=\"1\" class=\"dataframe\">\n",
       "  <thead>\n",
       "    <tr style=\"text-align: right;\">\n",
       "      <th></th>\n",
       "      <th>EC</th>\n",
       "      <th>EC_GWA</th>\n",
       "      <th>EC_obs</th>\n",
       "      <th>NC</th>\n",
       "      <th>NC_GWA</th>\n",
       "      <th>NC_obs</th>\n",
       "      <th>WC</th>\n",
       "      <th>WC_GWA</th>\n",
       "      <th>WC_obs</th>\n",
       "      <th>ZAF</th>\n",
       "      <th>ZAF_GWA</th>\n",
       "      <th>ZAF_obs</th>\n",
       "    </tr>\n",
       "  </thead>\n",
       "  <tbody>\n",
       "    <tr>\n",
       "      <th>Correlation</th>\n",
       "      <td>0.74</td>\n",
       "      <td>0.68</td>\n",
       "      <td>NaN</td>\n",
       "      <td>0.71</td>\n",
       "      <td>0.68</td>\n",
       "      <td>NaN</td>\n",
       "      <td>0.77</td>\n",
       "      <td>0.78</td>\n",
       "      <td>NaN</td>\n",
       "      <td>0.71</td>\n",
       "      <td>0.64</td>\n",
       "      <td>NaN</td>\n",
       "    </tr>\n",
       "    <tr>\n",
       "      <th>RMSE_MWh</th>\n",
       "      <td>0.15</td>\n",
       "      <td>0.14</td>\n",
       "      <td>NaN</td>\n",
       "      <td>0.14</td>\n",
       "      <td>0.17</td>\n",
       "      <td>NaN</td>\n",
       "      <td>0.14</td>\n",
       "      <td>0.12</td>\n",
       "      <td>NaN</td>\n",
       "      <td>0.13</td>\n",
       "      <td>0.13</td>\n",
       "      <td>NaN</td>\n",
       "    </tr>\n",
       "    <tr>\n",
       "      <th>MBE_MWh</th>\n",
       "      <td>-0.04</td>\n",
       "      <td>0.04</td>\n",
       "      <td>NaN</td>\n",
       "      <td>-0.01</td>\n",
       "      <td>0.10</td>\n",
       "      <td>NaN</td>\n",
       "      <td>-0.05</td>\n",
       "      <td>0.04</td>\n",
       "      <td>NaN</td>\n",
       "      <td>-0.04</td>\n",
       "      <td>0.05</td>\n",
       "      <td>NaN</td>\n",
       "    </tr>\n",
       "    <tr>\n",
       "      <th>Mean_MWh</th>\n",
       "      <td>0.37</td>\n",
       "      <td>0.29</td>\n",
       "      <td>0.33</td>\n",
       "      <td>0.47</td>\n",
       "      <td>0.35</td>\n",
       "      <td>0.45</td>\n",
       "      <td>0.43</td>\n",
       "      <td>0.34</td>\n",
       "      <td>0.38</td>\n",
       "      <td>0.39</td>\n",
       "      <td>0.31</td>\n",
       "      <td>0.35</td>\n",
       "    </tr>\n",
       "  </tbody>\n",
       "</table>\n",
       "</div>"
      ],
      "text/plain": [
       "               EC  EC_GWA  EC_obs    NC  NC_GWA  NC_obs    WC  WC_GWA  WC_obs  \\\n",
       "Correlation  0.74    0.68     NaN  0.71    0.68     NaN  0.77    0.78     NaN   \n",
       "RMSE_MWh     0.15    0.14     NaN  0.14    0.17     NaN  0.14    0.12     NaN   \n",
       "MBE_MWh     -0.04    0.04     NaN -0.01    0.10     NaN -0.05    0.04     NaN   \n",
       "Mean_MWh     0.37    0.29    0.33  0.47    0.35    0.45  0.43    0.34    0.38   \n",
       "\n",
       "              ZAF  ZAF_GWA  ZAF_obs  \n",
       "Correlation  0.71     0.64      NaN  \n",
       "RMSE_MWh     0.13     0.13      NaN  \n",
       "MBE_MWh     -0.04     0.05      NaN  \n",
       "Mean_MWh     0.39     0.31     0.35  "
      ]
     },
     "execution_count": 150,
     "metadata": {},
     "output_type": "execute_result"
    }
   ],
   "source": [
    "statsCF_d.round(2)"
   ]
  },
  {
   "cell_type": "markdown",
   "metadata": {},
   "source": [
    "boxplot for South Africa"
   ]
  },
  {
   "cell_type": "code",
   "execution_count": 203,
   "metadata": {},
   "outputs": [
    {
     "data": {
      "image/png": "[encoded data removed]",
      "text/plain": [
       "<Figure size 864x576 with 1 Axes>"
      ]
     },
     "metadata": {},
     "output_type": "display_data"
    }
   ],
   "source": [
    "# plot South Africa\n",
    "CF_ZAFd = CF_ZAF_d.melt(var_name='type',value_name='daily_CF')\n",
    "sns.set(style='darkgrid',context='talk')\n",
    "plt.figure(figsize=(12,8))\n",
    "ax = sns.boxplot(x='type',y='daily_CF',data=CF_ZAFd,palette=col_refuel3,linewidth=3)\n",
    "plt.ylim(0,1)\n",
    "fig = ax.get_figure()\n",
    "fig.savefig(south_africa_path+'/results/plots/CFs/ZAF_MERRA_daily.png')"
   ]
  },
  {
   "cell_type": "code",
   "execution_count": 152,
   "metadata": {},
   "outputs": [],
   "source": [
    "# boxplots for capes\n",
    "\n",
    "# melt data for each region and add a region column\n",
    "CF_ECd = CF_EC_d.melt(var_name='type',value_name='daily_CF')\n",
    "CF_ECd['region'] = 'EC'\n",
    "CF_NCd = CF_NC_d.melt(var_name='type',value_name='daily_CF')\n",
    "CF_NCd['region'] = 'NC'\n",
    "CF_WCd = CF_WC_d.melt(var_name='type',value_name='daily_CF')\n",
    "CF_WCd['region'] = 'WC'\n",
    "\n",
    "# merge regions to one data frame\n",
    "CF_Cd = pd.concat([CF_ECd,CF_NCd,CF_WCd])"
   ]
  },
  {
   "cell_type": "code",
   "execution_count": 153,
   "metadata": {},
   "outputs": [
    {
     "name": "stdout",
     "output_type": "stream",
     "text": [
      "EC: 3207\n",
      "NC: 891\n",
      "WC: 2850\n",
      "ZAF: 3207\n"
     ]
    }
   ],
   "source": [
    "# lengths of time series\n",
    "print('EC: '+str(CF_ECd.shape[0]))\n",
    "print('NC: '+str(CF_NCd.shape[0]))\n",
    "print('WC: '+str(CF_WCd.shape[0]))\n",
    "print('ZAF: '+str(CF_ZAFd.shape[0]))"
   ]
  },
  {
   "cell_type": "code",
   "execution_count": 154,
   "metadata": {},
   "outputs": [],
   "source": [
    "CF_Cd_tidy = CF_Cd.melt(id_vars=['region','type'],value_name='daily_CF').drop(columns={'variable'})"
   ]
  },
  {
   "cell_type": "code",
   "execution_count": 201,
   "metadata": {},
   "outputs": [
    {
     "data": {
      "image/png": "[encoded data removed]",
      "text/plain": [
       "<Figure size 864x576 with 1 Axes>"
      ]
     },
     "metadata": {},
     "output_type": "display_data"
    }
   ],
   "source": [
    "plt.figure(figsize=(12,8))\n",
    "ax = sns.boxplot(x='region',y='daily_CF',hue='type',data=CF_Cd_tidy,palette=col_refuel3,linewidth=3)\n",
    "plt.ylim(0,1)\n",
    "ax.legend(loc='center right', bbox_to_anchor=(1.25, 0.5))\n",
    "fig = ax.get_figure()\n",
    "fig.savefig(south_africa_path+'/results/plots/CFs/regions_MERRA_daily.png')"
   ]
  },
  {
   "cell_type": "code",
   "execution_count": null,
   "metadata": {},
   "outputs": [],
   "source": []
  },
  {
   "cell_type": "code",
   "execution_count": null,
   "metadata": {},
   "outputs": [],
   "source": []
  },
  {
   "cell_type": "code",
   "execution_count": null,
   "metadata": {},
   "outputs": [],
   "source": []
  },
  {
   "cell_type": "code",
   "execution_count": null,
   "metadata": {},
   "outputs": [],
   "source": []
  },
  {
   "cell_type": "code",
   "execution_count": null,
   "metadata": {},
   "outputs": [],
   "source": []
  },
  {
   "cell_type": "markdown",
   "metadata": {},
   "source": [
    "# monthly analysis ZAF - use all days also incomplete ones"
   ]
  },
  {
   "cell_type": "code",
   "execution_count": 50,
   "metadata": {},
   "outputs": [],
   "source": [
    "ind = production_MW_zaf_ts.index.values.astype('datetime64[M]')\n",
    "ZAF_comp = production_MW_zaf_ts.groupby(ind).sum()/10**3\n",
    "ZAF_comp.columns = ['sim_GWh','sim_GWh_GWA','obs']"
   ]
  },
  {
   "cell_type": "code",
   "execution_count": 51,
   "metadata": {},
   "outputs": [],
   "source": [
    "# share of available data - calculate to \"upscale\" monthly generation\n",
    "share_avail = pd.DataFrame(ind).groupby(ind).count()/24/30\n",
    "share_avail.columns = ['share']\n",
    "ZAF_comp_30d = ZAF_comp.div(share_avail.share,axis=0)"
   ]
  },
  {
   "cell_type": "code",
   "execution_count": 53,
   "metadata": {},
   "outputs": [],
   "source": [
    "mcap_zafm = 1101.4524719718224*24*30/1000 # taken from era calculation"
   ]
  },
  {
   "cell_type": "code",
   "execution_count": 60,
   "metadata": {},
   "outputs": [],
   "source": [
    "RMSE = [np.sqrt(((ZAF_comp_30d.sim_GWh- ZAF_comp_30d.obs)**2).mean()),\n",
    "        np.sqrt(((ZAF_comp_30d.sim_GWh_GWA- ZAF_comp_30d.obs)**2).mean())]"
   ]
  },
  {
   "cell_type": "code",
   "execution_count": 61,
   "metadata": {},
   "outputs": [],
   "source": [
    "MBE = [(ZAF_comp_30d.sim_GWh - ZAF_comp_30d.obs).mean(),\n",
    "       (ZAF_comp_30d.sim_GWh_GWA - ZAF_comp_30d.obs).mean()]"
   ]
  },
  {
   "cell_type": "code",
   "execution_count": 62,
   "metadata": {},
   "outputs": [],
   "source": [
    "stat_zafm = pd.DataFrame({'RMSE':RMSE,\n",
    "                          'MBE':MBE}, index=['noGWA','GWA'])"
   ]
  },
  {
   "cell_type": "code",
   "execution_count": 63,
   "metadata": {},
   "outputs": [
    {
     "data": {
      "text/html": [
       "<div>\n",
       "<style scoped>\n",
       "    .dataframe tbody tr th:only-of-type {\n",
       "        vertical-align: middle;\n",
       "    }\n",
       "\n",
       "    .dataframe tbody tr th {\n",
       "        vertical-align: top;\n",
       "    }\n",
       "\n",
       "    .dataframe thead th {\n",
       "        text-align: right;\n",
       "    }\n",
       "</style>\n",
       "<table border=\"1\" class=\"dataframe\">\n",
       "  <thead>\n",
       "    <tr style=\"text-align: right;\">\n",
       "      <th></th>\n",
       "      <th>RMSE</th>\n",
       "      <th>MBE</th>\n",
       "    </tr>\n",
       "  </thead>\n",
       "  <tbody>\n",
       "    <tr>\n",
       "      <th>noGWA</th>\n",
       "      <td>59.760579</td>\n",
       "      <td>27.749160</td>\n",
       "    </tr>\n",
       "    <tr>\n",
       "      <th>GWA</th>\n",
       "      <td>80.571689</td>\n",
       "      <td>73.414816</td>\n",
       "    </tr>\n",
       "  </tbody>\n",
       "</table>\n",
       "</div>"
      ],
      "text/plain": [
       "            RMSE        MBE\n",
       "noGWA  59.760579  27.749160\n",
       "GWA    80.571689  73.414816"
      ]
     },
     "execution_count": 63,
     "metadata": {},
     "output_type": "execute_result"
    }
   ],
   "source": [
    "stat_zafm"
   ]
  },
  {
   "cell_type": "code",
   "execution_count": 64,
   "metadata": {},
   "outputs": [],
   "source": [
    "stat_zafm_rel = ((stat_zafm/mcap_zafm)*100).round(1)"
   ]
  },
  {
   "cell_type": "code",
   "execution_count": 65,
   "metadata": {},
   "outputs": [
    {
     "data": {
      "text/html": [
       "<div>\n",
       "<style scoped>\n",
       "    .dataframe tbody tr th:only-of-type {\n",
       "        vertical-align: middle;\n",
       "    }\n",
       "\n",
       "    .dataframe tbody tr th {\n",
       "        vertical-align: top;\n",
       "    }\n",
       "\n",
       "    .dataframe thead th {\n",
       "        text-align: right;\n",
       "    }\n",
       "</style>\n",
       "<table border=\"1\" class=\"dataframe\">\n",
       "  <thead>\n",
       "    <tr style=\"text-align: right;\">\n",
       "      <th></th>\n",
       "      <th>RMSE</th>\n",
       "      <th>MBE</th>\n",
       "    </tr>\n",
       "  </thead>\n",
       "  <tbody>\n",
       "    <tr>\n",
       "      <th>noGWA</th>\n",
       "      <td>7.5</td>\n",
       "      <td>3.5</td>\n",
       "    </tr>\n",
       "    <tr>\n",
       "      <th>GWA</th>\n",
       "      <td>10.2</td>\n",
       "      <td>9.3</td>\n",
       "    </tr>\n",
       "  </tbody>\n",
       "</table>\n",
       "</div>"
      ],
      "text/plain": [
       "       RMSE  MBE\n",
       "noGWA   7.5  3.5\n",
       "GWA    10.2  9.3"
      ]
     },
     "execution_count": 65,
     "metadata": {},
     "output_type": "execute_result"
    }
   ],
   "source": [
    "stat_zafm_rel"
   ]
  },
  {
   "cell_type": "code",
   "execution_count": 66,
   "metadata": {},
   "outputs": [],
   "source": [
    "stat_zafm.to_csv(south_africa_path+'/results/stats_ZAFm_rel_MERRA2.csv',sep=';')\n",
    "stat_zafm_rel.to_csv(south_africa_path+'/results/stats_ZAFm_rel_MERRA2.csv',sep=';')"
   ]
  },
  {
   "cell_type": "code",
   "execution_count": null,
   "metadata": {},
   "outputs": [],
   "source": []
  },
  {
   "cell_type": "code",
   "execution_count": null,
   "metadata": {},
   "outputs": [],
   "source": []
  },
  {
   "cell_type": "markdown",
   "metadata": {},
   "source": [
    "# monthly analysis capes - use all days also incomplete ones"
   ]
  },
  {
   "cell_type": "code",
   "execution_count": 70,
   "metadata": {},
   "outputs": [],
   "source": [
    "indEC = production_MW_ec_ts.index.values.astype('datetime64[M]')\n",
    "EC_comp = production_MW_ec_ts.groupby(indEC).sum()/10**3\n",
    "EC_comp.columns = ['sim_GWh','sim_GWh_GWA','obs']\n",
    "\n",
    "indNC = production_MW_nc_ts.index.values.astype('datetime64[M]')\n",
    "NC_comp = production_MW_nc_ts.groupby(indNC).sum()/10**3\n",
    "NC_comp.columns = ['sim_GWh','sim_GWh_GWA','obs']\n",
    "\n",
    "indWC = production_MW_wc_ts.index.values.astype('datetime64[M]')\n",
    "WC_comp = production_MW_wc_ts.groupby(indWC).sum()/10**3\n",
    "WC_comp.columns = ['sim_GWh','sim_GWh_GWA','obs']"
   ]
  },
  {
   "cell_type": "code",
   "execution_count": 71,
   "metadata": {},
   "outputs": [],
   "source": [
    "# share of available data - calculate to \"upscale\" monthly generation\n",
    "share_availEC = pd.DataFrame(indEC).groupby(indEC).count()/24/30\n",
    "share_availEC.columns = ['share']\n",
    "EC_comp_30d = EC_comp.div(share_availEC.share,axis=0)\n",
    "\n",
    "share_availNC = pd.DataFrame(indNC).groupby(indNC).count()/24/30\n",
    "share_availNC.columns = ['share']\n",
    "NC_comp_30d = NC_comp.div(share_availNC.share,axis=0)\n",
    "\n",
    "share_availWC = pd.DataFrame(indWC).groupby(indWC).count()/24/30\n",
    "share_availWC.columns = ['share']\n",
    "WC_comp_30d = WC_comp.div(share_availWC.share,axis=0)"
   ]
  },
  {
   "cell_type": "code",
   "execution_count": 95,
   "metadata": {},
   "outputs": [],
   "source": [
    "mcap_ecm = mcap_ec*24*30/1000\n",
    "mcap_ncm = mcap_nc*24*30/1000\n",
    "mcap_wcm = mcap_wc*24*30/1000"
   ]
  },
  {
   "cell_type": "code",
   "execution_count": 96,
   "metadata": {},
   "outputs": [],
   "source": [
    "RMSEec = [np.sqrt(((EC_comp_30d.sim_GWh- EC_comp_30d.obs)**2).mean()),\n",
    "          np.sqrt(((EC_comp_30d.sim_GWh_GWA- EC_comp_30d.obs)**2).mean())]\n",
    "\n",
    "RMSEnc = [np.sqrt(((NC_comp_30d.sim_GWh- NC_comp_30d.obs)**2).mean()),\n",
    "          np.sqrt(((NC_comp_30d.sim_GWh_GWA- NC_comp_30d.obs)**2).mean())]\n",
    "\n",
    "RMSEwc = [np.sqrt(((WC_comp_30d.sim_GWh- WC_comp_30d.obs)**2).mean()),\n",
    "          np.sqrt(((WC_comp_30d.sim_GWh_GWA- WC_comp_30d.obs)**2).mean())]"
   ]
  },
  {
   "cell_type": "code",
   "execution_count": 98,
   "metadata": {},
   "outputs": [],
   "source": [
    "MBEec = [(EC_comp_30d.sim_GWh - EC_comp_30d.obs).mean(),\n",
    "         (EC_comp_30d.sim_GWh_GWA - EC_comp_30d.obs).mean()]\n",
    "\n",
    "MBEnc = [(NC_comp_30d.sim_GWh - NC_comp_30d.obs).mean(),\n",
    "         (NC_comp_30d.sim_GWh_GWA - NC_comp_30d.obs).mean()]\n",
    "\n",
    "MBEwc = [(WC_comp_30d.sim_GWh - WC_comp_30d.obs).mean(),\n",
    "         (WC_comp_30d.sim_GWh_GWA - WC_comp_30d.obs).mean()]"
   ]
  },
  {
   "cell_type": "code",
   "execution_count": 99,
   "metadata": {},
   "outputs": [],
   "source": [
    "stat_capem = pd.DataFrame({'RMSE':RMSEec+RMSEnc+RMSEwc,\n",
    "                           'MBE':MBEec+MBEnc+MBEwc},\n",
    "                          index=['EC','ECgwa','NC','NCgwa','WC','WCgwa'])"
   ]
  },
  {
   "cell_type": "code",
   "execution_count": 100,
   "metadata": {},
   "outputs": [
    {
     "data": {
      "text/html": [
       "<div>\n",
       "<style scoped>\n",
       "    .dataframe tbody tr th:only-of-type {\n",
       "        vertical-align: middle;\n",
       "    }\n",
       "\n",
       "    .dataframe tbody tr th {\n",
       "        vertical-align: top;\n",
       "    }\n",
       "\n",
       "    .dataframe thead th {\n",
       "        text-align: right;\n",
       "    }\n",
       "</style>\n",
       "<table border=\"1\" class=\"dataframe\">\n",
       "  <thead>\n",
       "    <tr style=\"text-align: right;\">\n",
       "      <th></th>\n",
       "      <th>RMSE</th>\n",
       "      <th>MBE</th>\n",
       "    </tr>\n",
       "  </thead>\n",
       "  <tbody>\n",
       "    <tr>\n",
       "      <th>EC</th>\n",
       "      <td>41.607409</td>\n",
       "      <td>12.584526</td>\n",
       "    </tr>\n",
       "    <tr>\n",
       "      <th>ECgwa</th>\n",
       "      <td>43.425456</td>\n",
       "      <td>42.334819</td>\n",
       "    </tr>\n",
       "    <tr>\n",
       "      <th>NC</th>\n",
       "      <td>53.083708</td>\n",
       "      <td>31.417367</td>\n",
       "    </tr>\n",
       "    <tr>\n",
       "      <th>NCgwa</th>\n",
       "      <td>47.279979</td>\n",
       "      <td>47.137405</td>\n",
       "    </tr>\n",
       "    <tr>\n",
       "      <th>WC</th>\n",
       "      <td>15.289391</td>\n",
       "      <td>8.166058</td>\n",
       "    </tr>\n",
       "    <tr>\n",
       "      <th>WCgwa</th>\n",
       "      <td>23.714444</td>\n",
       "      <td>22.682004</td>\n",
       "    </tr>\n",
       "  </tbody>\n",
       "</table>\n",
       "</div>"
      ],
      "text/plain": [
       "            RMSE        MBE\n",
       "EC     41.607409  12.584526\n",
       "ECgwa  43.425456  42.334819\n",
       "NC     53.083708  31.417367\n",
       "NCgwa  47.279979  47.137405\n",
       "WC     15.289391   8.166058\n",
       "WCgwa  23.714444  22.682004"
      ]
     },
     "execution_count": 100,
     "metadata": {},
     "output_type": "execute_result"
    }
   ],
   "source": [
    "stat_capem"
   ]
  },
  {
   "cell_type": "code",
   "execution_count": 101,
   "metadata": {},
   "outputs": [],
   "source": [
    "stat_capem_rel = stat_capem\n",
    "stat_capem_rel.iloc[0:2,:] = (stat_capem.iloc[0:2,:]/mcap_ecm*100).round(1)\n",
    "stat_capem_rel.iloc[2:4,:] = (stat_capem.iloc[2:4,:]/mcap_ncm*100).round(1)\n",
    "stat_capem_rel.iloc[4:6,:] = (stat_capem.iloc[4:6,:]/mcap_wcm*100).round(1)"
   ]
  },
  {
   "cell_type": "code",
   "execution_count": 102,
   "metadata": {},
   "outputs": [
    {
     "data": {
      "text/html": [
       "<div>\n",
       "<style scoped>\n",
       "    .dataframe tbody tr th:only-of-type {\n",
       "        vertical-align: middle;\n",
       "    }\n",
       "\n",
       "    .dataframe tbody tr th {\n",
       "        vertical-align: top;\n",
       "    }\n",
       "\n",
       "    .dataframe thead th {\n",
       "        text-align: right;\n",
       "    }\n",
       "</style>\n",
       "<table border=\"1\" class=\"dataframe\">\n",
       "  <thead>\n",
       "    <tr style=\"text-align: right;\">\n",
       "      <th></th>\n",
       "      <th>RMSE</th>\n",
       "      <th>MBE</th>\n",
       "    </tr>\n",
       "  </thead>\n",
       "  <tbody>\n",
       "    <tr>\n",
       "      <th>EC</th>\n",
       "      <td>6.8</td>\n",
       "      <td>2.1</td>\n",
       "    </tr>\n",
       "    <tr>\n",
       "      <th>ECgwa</th>\n",
       "      <td>7.1</td>\n",
       "      <td>7.0</td>\n",
       "    </tr>\n",
       "    <tr>\n",
       "      <th>NC</th>\n",
       "      <td>12.6</td>\n",
       "      <td>7.5</td>\n",
       "    </tr>\n",
       "    <tr>\n",
       "      <th>NCgwa</th>\n",
       "      <td>11.2</td>\n",
       "      <td>11.2</td>\n",
       "    </tr>\n",
       "    <tr>\n",
       "      <th>WC</th>\n",
       "      <td>5.3</td>\n",
       "      <td>2.8</td>\n",
       "    </tr>\n",
       "    <tr>\n",
       "      <th>WCgwa</th>\n",
       "      <td>8.2</td>\n",
       "      <td>7.8</td>\n",
       "    </tr>\n",
       "  </tbody>\n",
       "</table>\n",
       "</div>"
      ],
      "text/plain": [
       "       RMSE   MBE\n",
       "EC      6.8   2.1\n",
       "ECgwa   7.1   7.0\n",
       "NC     12.6   7.5\n",
       "NCgwa  11.2  11.2\n",
       "WC      5.3   2.8\n",
       "WCgwa   8.2   7.8"
      ]
     },
     "execution_count": 102,
     "metadata": {},
     "output_type": "execute_result"
    }
   ],
   "source": [
    "stat_capem_rel"
   ]
  },
  {
   "cell_type": "code",
   "execution_count": 103,
   "metadata": {},
   "outputs": [],
   "source": [
    "stat_capem.to_csv(south_africa_path+'/results/stats_CAPESm_rel_MERRA2.csv',sep=';')\n",
    "stat_capem_rel.to_csv(south_africa_path+'/results/stats_CAPESm_rel_MERRA2.csv',sep=';')"
   ]
  }
 ],
 "metadata": {
  "kernelspec": {
   "display_name": "Python 3",
   "language": "python",
   "name": "python3"
  },
  "language_info": {
   "codemirror_mode": {
    "name": "ipython",
    "version": 3
   },
   "file_extension": ".py",
   "mimetype": "text/x-python",
   "name": "python",
   "nbconvert_exporter": "python",
   "pygments_lexer": "ipython3",
   "version": "3.7.0"
  }
 },
 "nbformat": 4,
 "nbformat_minor": 2
}
