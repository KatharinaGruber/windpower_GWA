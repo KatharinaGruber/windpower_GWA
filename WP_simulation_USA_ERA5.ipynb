{
 "cells": [
  {
   "cell_type": "code",
   "execution_count": 1,
   "metadata": {},
   "outputs": [],
   "source": [
    "import os\n",
    "import pandas as pd\n",
    "import xarray as xr\n",
    "import numpy as np\n",
    "from matplotlib import pyplot as plt\n",
    "import datetime\n",
    "from scipy.interpolate import interp1d\n",
    "import seaborn as sns\n",
    "\n",
    "from utils import windpower_simulation_era5"
   ]
  },
  {
   "cell_type": "code",
   "execution_count": 2,
   "metadata": {},
   "outputs": [],
   "source": [
    "from dask.diagnostics import ProgressBar\n",
    "ProgressBar().register()"
   ]
  },
  {
   "cell_type": "code",
   "execution_count": 3,
   "metadata": {},
   "outputs": [],
   "source": [
    "usa_path = \"C:/Users/KatharinaG/Documents/USA\""
   ]
  },
  {
   "cell_type": "code",
   "execution_count": 4,
   "metadata": {},
   "outputs": [],
   "source": [
    "col_refuel7 = sns.color_palette([\"#c72321\",\"#861719\",\"#f0c320\",\"#af8f19\",\"#6e9b9e\",\"#0d8085\",\"#19484c\"])\n",
    "col_refuel3 = sns.color_palette([\"#c72321\", \"#0d8085\", \"#efc220\"])\n",
    "col_refuel5 = sns.color_palette([\"#c62220\", \"#fbd7a8\", \"#7a6952\", \"#0d8085\", \"#f0c220\"])\n",
    "col_refuel10 = sns.color_palette([\"#c72321\",\"#861719\",\"#fbd7a9\",\"#ba9f7c\",\"#7a6952\",\"#6e9b9e\",\"#0d8085\",\"#19484c\",\"#f0c320\",\"#af8f19\"])\n"
   ]
  },
  {
   "cell_type": "code",
   "execution_count": null,
   "metadata": {},
   "outputs": [],
   "source": [
    "rea_path = \"C:/Users/KatharinaG/Data/era5/USA\"\n",
    "\n",
    "chk = {\n",
    "    \"time\" : 38\n",
    "}\n",
    "data = xr.open_mfdataset(rea_path+\"/*.nc\",chunks=chk)"
   ]
  },
  {
   "cell_type": "markdown",
   "metadata": {},
   "source": [
    "load locations of wind power plants"
   ]
  },
  {
   "cell_type": "code",
   "execution_count": 6,
   "metadata": {},
   "outputs": [],
   "source": [
    "windturbines = pd.read_csv(usa_path+\"/windturbines_usa.csv\",delimiter=';') "
   ]
  },
  {
   "cell_type": "markdown",
   "metadata": {},
   "source": [
    "### Inspect windpark data"
   ]
  },
  {
   "cell_type": "markdown",
   "metadata": {},
   "source": [
    "#### Capacities"
   ]
  },
  {
   "cell_type": "code",
   "execution_count": 7,
   "metadata": {},
   "outputs": [
    {
     "data": {
      "text/plain": [
       "0.05820890491759075"
      ]
     },
     "execution_count": 7,
     "metadata": {},
     "output_type": "execute_result"
    }
   ],
   "source": [
    "# share of missing capacities\n",
    "np.isnan(windturbines.t_cap).sum()/len(windturbines.t_cap)"
   ]
  },
  {
   "cell_type": "markdown",
   "metadata": {},
   "source": [
    "5.8 % of capacities missing - how is the distribution of capacities?"
   ]
  },
  {
   "cell_type": "code",
   "execution_count": 8,
   "metadata": {},
   "outputs": [
    {
     "data": {
      "text/plain": [
       "<matplotlib.axes._subplots.AxesSubplot at 0x1a4213f1c50>"
      ]
     },
     "execution_count": 8,
     "metadata": {},
     "output_type": "execute_result"
    },
    {
     "data": {
      "image/png": "[encoded data removed]",
      "text/plain": [
       "<Figure size 432x288 with 1 Axes>"
      ]
     },
     "metadata": {
      "needs_background": "light"
     },
     "output_type": "display_data"
    }
   ],
   "source": [
    "sns.boxplot(windturbines.t_cap)"
   ]
  },
  {
   "cell_type": "code",
   "execution_count": 9,
   "metadata": {},
   "outputs": [
    {
     "name": "stderr",
     "output_type": "stream",
     "text": [
      "C:\\Users\\KatharinaG\\AppData\\Local\\Continuum\\anaconda3\\envs\\py37\\lib\\site-packages\\scipy\\stats\\stats.py:1713: FutureWarning: Using a non-tuple sequence for multidimensional indexing is deprecated; use `arr[tuple(seq)]` instead of `arr[seq]`. In the future this will be interpreted as an array index, `arr[np.array(seq)]`, which will result either in an error or a different result.\n",
      "  return np.add.reduce(sorted[indexer] * weights, axis=axis) / sumval\n"
     ]
    },
    {
     "data": {
      "text/plain": [
       "<matplotlib.axes._subplots.AxesSubplot at 0x1a4217138d0>"
      ]
     },
     "execution_count": 9,
     "metadata": {},
     "output_type": "execute_result"
    },
    {
     "data": {
      "image/png": "[encoded data removed]",
      "text/plain": [
       "<Figure size 432x288 with 1 Axes>"
      ]
     },
     "metadata": {
      "needs_background": "light"
     },
     "output_type": "display_data"
    }
   ],
   "source": [
    "sns.distplot(windturbines.t_cap[~np.isnan(windturbines.t_cap)])"
   ]
  },
  {
   "cell_type": "markdown",
   "metadata": {},
   "source": [
    "There are peaks at 1500 and 2000 kW"
   ]
  },
  {
   "cell_type": "code",
   "execution_count": 10,
   "metadata": {},
   "outputs": [
    {
     "data": {
      "text/plain": [
       "1718.1867081812325"
      ]
     },
     "execution_count": 10,
     "metadata": {},
     "output_type": "execute_result"
    }
   ],
   "source": [
    "windturbines.t_cap.mean()"
   ]
  },
  {
   "cell_type": "markdown",
   "metadata": {},
   "source": [
    "Mean capacity is 1718 - set to 1700 for missing values"
   ]
  },
  {
   "cell_type": "markdown",
   "metadata": {},
   "source": [
    "#### Commissioning year"
   ]
  },
  {
   "cell_type": "code",
   "execution_count": 11,
   "metadata": {},
   "outputs": [
    {
     "data": {
      "text/plain": [
       "0.001061714247194041"
      ]
     },
     "execution_count": 11,
     "metadata": {},
     "output_type": "execute_result"
    }
   ],
   "source": [
    "# share of missing commissioning years\n",
    "np.isnan(windturbines.p_year).sum()/len(windturbines.p_year)"
   ]
  },
  {
   "cell_type": "code",
   "execution_count": 12,
   "metadata": {},
   "outputs": [
    {
     "data": {
      "text/plain": [
       "0.0010952886824703739"
      ]
     },
     "execution_count": 12,
     "metadata": {},
     "output_type": "execute_result"
    }
   ],
   "source": [
    "# share of capacity impacted\n",
    "sum(windturbines.t_cap.fillna(1700)[np.isnan(windturbines.p_year.values)])/sum(windturbines.t_cap.fillna(1700))"
   ]
  },
  {
   "cell_type": "markdown",
   "metadata": {},
   "source": [
    "0.1% of commissioning dates missing and also capacity impacted"
   ]
  },
  {
   "cell_type": "markdown",
   "metadata": {},
   "source": [
    "#### Locations"
   ]
  },
  {
   "cell_type": "code",
   "execution_count": 13,
   "metadata": {},
   "outputs": [
    {
     "data": {
      "text/plain": [
       "0.0"
      ]
     },
     "execution_count": 13,
     "metadata": {},
     "output_type": "execute_result"
    }
   ],
   "source": [
    "# share of missing longitudes\n",
    "np.isnan(windturbines.xlong).sum()/len(windturbines.xlong)"
   ]
  },
  {
   "cell_type": "code",
   "execution_count": 14,
   "metadata": {},
   "outputs": [
    {
     "data": {
      "text/plain": [
       "0.0"
      ]
     },
     "execution_count": 14,
     "metadata": {},
     "output_type": "execute_result"
    }
   ],
   "source": [
    "# share of missing latitudes\n",
    "np.isnan(windturbines.ylat).sum()/len(windturbines.ylat)"
   ]
  },
  {
   "cell_type": "markdown",
   "metadata": {},
   "source": [
    "No locations missing"
   ]
  },
  {
   "cell_type": "markdown",
   "metadata": {},
   "source": [
    "#### Turbine heights"
   ]
  },
  {
   "cell_type": "code",
   "execution_count": 15,
   "metadata": {},
   "outputs": [
    {
     "data": {
      "text/plain": [
       "0.09373420068084533"
      ]
     },
     "execution_count": 15,
     "metadata": {},
     "output_type": "execute_result"
    }
   ],
   "source": [
    "# share of missing turbine heights\n",
    "np.isnan(windturbines.t_hh).sum()/len(windturbines.t_hh)"
   ]
  },
  {
   "cell_type": "markdown",
   "metadata": {},
   "source": [
    "9.4% missing"
   ]
  },
  {
   "cell_type": "code",
   "execution_count": 16,
   "metadata": {},
   "outputs": [
    {
     "name": "stderr",
     "output_type": "stream",
     "text": [
      "C:\\Users\\KatharinaG\\AppData\\Local\\Continuum\\anaconda3\\envs\\py37\\lib\\site-packages\\scipy\\stats\\stats.py:1713: FutureWarning: Using a non-tuple sequence for multidimensional indexing is deprecated; use `arr[tuple(seq)]` instead of `arr[seq]`. In the future this will be interpreted as an array index, `arr[np.array(seq)]`, which will result either in an error or a different result.\n",
      "  return np.add.reduce(sorted[indexer] * weights, axis=axis) / sumval\n"
     ]
    },
    {
     "data": {
      "text/plain": [
       "<matplotlib.axes._subplots.AxesSubplot at 0x1a421888f60>"
      ]
     },
     "execution_count": 16,
     "metadata": {},
     "output_type": "execute_result"
    },
    {
     "data": {
      "image/png": "[encoded data removed]",
      "text/plain": [
       "<Figure size 432x288 with 1 Axes>"
      ]
     },
     "metadata": {
      "needs_background": "light"
     },
     "output_type": "display_data"
    }
   ],
   "source": [
    "sns.distplot(windturbines.t_hh[~np.isnan(windturbines.t_hh)])"
   ]
  },
  {
   "cell_type": "code",
   "execution_count": 17,
   "metadata": {},
   "outputs": [
    {
     "data": {
      "text/plain": [
       "78.08781984528295"
      ]
     },
     "execution_count": 17,
     "metadata": {},
     "output_type": "execute_result"
    }
   ],
   "source": [
    "windturbines.t_hh.mean()"
   ]
  },
  {
   "cell_type": "markdown",
   "metadata": {},
   "source": [
    "80m is most frequent and is close to mean"
   ]
  },
  {
   "cell_type": "markdown",
   "metadata": {},
   "source": [
    "#### states"
   ]
  },
  {
   "cell_type": "code",
   "execution_count": 18,
   "metadata": {},
   "outputs": [
    {
     "data": {
      "text/plain": [
       "0.0"
      ]
     },
     "execution_count": 18,
     "metadata": {},
     "output_type": "execute_result"
    }
   ],
   "source": [
    "# share of missing states\n",
    "pd.isnull(windturbines.t_state).sum()/len(windturbines.t_state)"
   ]
  },
  {
   "cell_type": "markdown",
   "metadata": {},
   "source": [
    "### Fill in missing data"
   ]
  },
  {
   "cell_type": "code",
   "execution_count": 19,
   "metadata": {},
   "outputs": [],
   "source": [
    "# 0.1% of years are missing, so set them mean of commissioning years\n",
    "y = windturbines.p_year.fillna(windturbines.p_year.mean())"
   ]
  },
  {
   "cell_type": "code",
   "execution_count": 20,
   "metadata": {},
   "outputs": [],
   "source": [
    "# capacities\n",
    "cap = windturbines.t_cap.fillna(1700)"
   ]
  },
  {
   "cell_type": "code",
   "execution_count": 21,
   "metadata": {},
   "outputs": [],
   "source": [
    "# hub heights\n",
    "hh = windturbines.t_hh.fillna(80)"
   ]
  },
  {
   "cell_type": "markdown",
   "metadata": {},
   "source": [
    "make commissioning dates - only years given so use middle of year"
   ]
  },
  {
   "cell_type": "code",
   "execution_count": 22,
   "metadata": {},
   "outputs": [],
   "source": [
    "t = [np.datetime64(str(int(year))+\"-06-01T00:00:00\") for year in y]"
   ]
  },
  {
   "cell_type": "code",
   "execution_count": 23,
   "metadata": {},
   "outputs": [],
   "source": [
    "# join data making a multiindex with time and state\n",
    "time_state = tuples = tuple(zip(list(windturbines.t_state),t))\n",
    "mi = pd.MultiIndex.from_tuples(time_state, names=['state', 'time'])\n",
    "turbine_data = pd.DataFrame({'capacity':cap.values,\n",
    "                             'height':hh.values,\n",
    "                             'lon':windturbines.xlong.values,\n",
    "                             'lat':windturbines.ylat.values,\n",
    "                             'ind':range(len(cap))},index = mi)"
   ]
  },
  {
   "cell_type": "code",
   "execution_count": 24,
   "metadata": {},
   "outputs": [
    {
     "data": {
      "text/html": [
       "<div>\n",
       "<style scoped>\n",
       "    .dataframe tbody tr th:only-of-type {\n",
       "        vertical-align: middle;\n",
       "    }\n",
       "\n",
       "    .dataframe tbody tr th {\n",
       "        vertical-align: top;\n",
       "    }\n",
       "\n",
       "    .dataframe thead th {\n",
       "        text-align: right;\n",
       "    }\n",
       "</style>\n",
       "<table border=\"1\" class=\"dataframe\">\n",
       "  <thead>\n",
       "    <tr style=\"text-align: right;\">\n",
       "      <th></th>\n",
       "      <th></th>\n",
       "      <th>capacity</th>\n",
       "      <th>height</th>\n",
       "      <th>lon</th>\n",
       "      <th>lat</th>\n",
       "      <th>ind</th>\n",
       "    </tr>\n",
       "    <tr>\n",
       "      <th>state</th>\n",
       "      <th>time</th>\n",
       "      <th></th>\n",
       "      <th></th>\n",
       "      <th></th>\n",
       "      <th></th>\n",
       "      <th></th>\n",
       "    </tr>\n",
       "  </thead>\n",
       "  <tbody>\n",
       "    <tr>\n",
       "      <th rowspan=\"5\" valign=\"top\">CA</th>\n",
       "      <th>1987-06-01</th>\n",
       "      <td>95.0</td>\n",
       "      <td>80.0</td>\n",
       "      <td>-118.358871</td>\n",
       "      <td>35.084488</td>\n",
       "      <td>0</td>\n",
       "    </tr>\n",
       "    <tr>\n",
       "      <th>1987-06-01</th>\n",
       "      <td>95.0</td>\n",
       "      <td>80.0</td>\n",
       "      <td>-118.365677</td>\n",
       "      <td>35.078026</td>\n",
       "      <td>1</td>\n",
       "    </tr>\n",
       "    <tr>\n",
       "      <th>1987-06-01</th>\n",
       "      <td>95.0</td>\n",
       "      <td>80.0</td>\n",
       "      <td>-118.352242</td>\n",
       "      <td>35.088539</td>\n",
       "      <td>2</td>\n",
       "    </tr>\n",
       "    <tr>\n",
       "      <th>1987-06-01</th>\n",
       "      <td>95.0</td>\n",
       "      <td>80.0</td>\n",
       "      <td>-118.365860</td>\n",
       "      <td>35.077789</td>\n",
       "      <td>3</td>\n",
       "    </tr>\n",
       "    <tr>\n",
       "      <th>1987-06-01</th>\n",
       "      <td>95.0</td>\n",
       "      <td>80.0</td>\n",
       "      <td>-118.352470</td>\n",
       "      <td>35.088196</td>\n",
       "      <td>4</td>\n",
       "    </tr>\n",
       "  </tbody>\n",
       "</table>\n",
       "</div>"
      ],
      "text/plain": [
       "                  capacity  height         lon        lat  ind\n",
       "state time                                                    \n",
       "CA    1987-06-01      95.0    80.0 -118.358871  35.084488    0\n",
       "      1987-06-01      95.0    80.0 -118.365677  35.078026    1\n",
       "      1987-06-01      95.0    80.0 -118.352242  35.088539    2\n",
       "      1987-06-01      95.0    80.0 -118.365860  35.077789    3\n",
       "      1987-06-01      95.0    80.0 -118.352470  35.088196    4"
      ]
     },
     "execution_count": 24,
     "metadata": {},
     "output_type": "execute_result"
    }
   ],
   "source": [
    "turbine_data.head()"
   ]
  },
  {
   "cell_type": "code",
   "execution_count": 25,
   "metadata": {},
   "outputs": [
    {
     "data": {
      "text/plain": [
       "[<matplotlib.lines.Line2D at 0x1a422c1e240>]"
      ]
     },
     "execution_count": 25,
     "metadata": {},
     "output_type": "execute_result"
    },
    {
     "data": {
      "image/png": "[encoded data removed]",
      "text/plain": [
       "<Figure size 432x288 with 1 Axes>"
      ]
     },
     "metadata": {
      "needs_background": "light"
     },
     "output_type": "display_data"
    }
   ],
   "source": [
    "plt.plot(windturbines.groupby(windturbines.p_year).sum().p_cap.cumsum())"
   ]
  },
  {
   "cell_type": "markdown",
   "metadata": {},
   "source": [
    "# Simulate wind power per state"
   ]
  },
  {
   "cell_type": "code",
   "execution_count": null,
   "metadata": {},
   "outputs": [],
   "source": [
    "for state in turbine_data.index.levels[0].values:\n",
    "    print(state)\n",
    "    ind = turbine_data.xs(state).ind.values\n",
    "    wps = windpower_simulation_era5(data,\n",
    "                                    turbine_data.height[ind].values,\n",
    "                                    turbine_data.capacity[ind].values,\n",
    "                                    turbine_data.lon[ind].values,\n",
    "                                    turbine_data.lat[ind].values,\n",
    "                                    turbine_data.iloc[ind].index.get_level_values(level=1).values)\n",
    "    # save as netcdf\n",
    "    wps.to_dataset(name='wp').to_netcdf(usa_path+\"/results/windpower_\"+state+\"_ERA5.nc\")"
   ]
  },
  {
   "cell_type": "markdown",
   "metadata": {},
   "source": [
    "# Simulate wind power per state with GWA"
   ]
  },
  {
   "cell_type": "code",
   "execution_count": null,
   "metadata": {},
   "outputs": [],
   "source": [
    "GWA = xr.open_rasterio(usa_path+'/GWA/GWA_USA100m.tif')"
   ]
  },
  {
   "cell_type": "code",
   "execution_count": null,
   "metadata": {},
   "outputs": [],
   "source": [
    "for state in turbine_data.index.levels[0].values:\n",
    "    print(state)\n",
    "    ind = turbine_data.xs(state).ind.values\n",
    "    wps = windpower_simulation_era5(data,\n",
    "                                    turbine_data.height[ind].values,\n",
    "                                    turbine_data.capacity[ind].values,\n",
    "                                    turbine_data.lon[ind].values,\n",
    "                                    turbine_data.lat[ind].values,\n",
    "                                    turbine_data.iloc[ind].index.get_level_values(level=1).values,\n",
    "                                    GWA)\n",
    "    # save as netcdf\n",
    "    wps.to_dataset(name='wp').to_netcdf(usa_path+\"/results/windpower_\"+state+\"_ERA5_GWA.nc\")"
   ]
  },
  {
   "cell_type": "markdown",
   "metadata": {},
   "source": [
    "# Sum up regions"
   ]
  },
  {
   "cell_type": "markdown",
   "metadata": {},
   "source": [
    "## States"
   ]
  },
  {
   "cell_type": "code",
   "execution_count": null,
   "metadata": {},
   "outputs": [],
   "source": [
    "for STATE in turbine_data.index.levels[0].values:\n",
    "    wp_loc = xr.open_dataset(usa_path+\"/results/windpower_\"+STATE+\"_ERA5.nc\")\n",
    "    wp_state = wp_loc.sum('location')\n",
    "    if 'wp' in locals():\n",
    "        wp = xr.concat([wp,wp_state.expand_dims(state=[STATE])],dim='state')\n",
    "    else:\n",
    "        wp = wp_state.expand_dims(state=[STATE])\n",
    "    \n",
    "# save as netcdf\n",
    "wp.to_netcdf(usa_path+\"/results/windpower_states_ERA5.nc\")\n",
    "del(wp)"
   ]
  },
  {
   "cell_type": "code",
   "execution_count": null,
   "metadata": {},
   "outputs": [],
   "source": [
    "for STATE in turbine_data.index.levels[0].values:\n",
    "    wp_loc = xr.open_dataset(usa_path+\"/results/windpower_\"+STATE+\"_ERA5_GWA.nc\")\n",
    "    wp_state = wp_loc.sum('location')\n",
    "    if 'wp' in locals():\n",
    "        wp = xr.concat([wp,wp_state.expand_dims(state=[STATE])],dim='state')\n",
    "    else:\n",
    "        wp = wp_state.expand_dims(state=[STATE])\n",
    "    \n",
    "# save as netcdf\n",
    "wp.to_netcdf(usa_path+\"/results/windpower_states_ERA5_GWA.nc\")\n",
    "del(wp)"
   ]
  },
  {
   "cell_type": "markdown",
   "metadata": {},
   "source": [
    "## BPA"
   ]
  },
  {
   "cell_type": "code",
   "execution_count": null,
   "metadata": {},
   "outputs": [],
   "source": [
    "# load BPA wind parks\n",
    "BPA_parks = pd.read_csv(usa_path+\"/BPA_windparks.csv\")\n",
    "# add wind park names to turbine data\n",
    "turbine_data['name'] = windturbines.p_name.values\n",
    "for state in BPA_parks.state.unique():\n",
    "    # load data of BPA states\n",
    "    wp_loc = xr.open_dataset(usa_path+\"/results/windpower_\"+state+\"_ERA5.nc\")\n",
    "    # get indices of BPA parks\n",
    "    ind = [park in BPA_parks.name[BPA_parks.state==state].values for park in turbine_data.xs(state).name.values]\n",
    "    # select BPA parks and sum up\n",
    "    wp_state = wp_loc.isel(location=ind).sum('location')\n",
    "    if 'wp' in locals():\n",
    "        wp = xr.concat([wp,wp_state.expand_dims(state=[state])],dim='state')\n",
    "    else:\n",
    "        wp = wp_state.expand_dims(state=[state])\n",
    "# sum over states\n",
    "wpBPA = wp.sum('state')\n",
    "# save as netcdf\n",
    "wpBPA.to_netcdf(usa_path+\"/results/windpower_BPA_ERA5.nc\")\n",
    "del(wp)"
   ]
  },
  {
   "cell_type": "code",
   "execution_count": null,
   "metadata": {},
   "outputs": [],
   "source": [
    "# load BPA wind parks\n",
    "BPA_parks = pd.read_csv(usa_path+\"/BPA_windparks.csv\")\n",
    "# add wind park names to turbine data\n",
    "turbine_data['name'] = windturbines.p_name.values\n",
    "for state in BPA_parks.state.unique():\n",
    "    # load data of BPA states\n",
    "    wp_loc = xr.open_dataset(usa_path+\"/results/windpower_\"+state+\"_ERA5_GWA.nc\")\n",
    "    # get indices of BPA parks\n",
    "    ind = [park in BPA_parks.name[BPA_parks.state==state].values for park in turbine_data.xs(state).name.values]\n",
    "    # select BPA parks and sum up\n",
    "    wp_state = wp_loc.isel(location=ind).sum('location')\n",
    "    if 'wp' in locals():\n",
    "        wp = xr.concat([wp,wp_state.expand_dims(state=[state])],dim='state')\n",
    "    else:\n",
    "        wp = wp_state.expand_dims(state=[state])\n",
    "# sum over states\n",
    "wpBPA = wp.sum('state')\n",
    "# save as netcdf\n",
    "wpBPA.to_netcdf(usa_path+\"/results/windpower_BPA_ERA5_GWA.nc\")"
   ]
  },
  {
   "cell_type": "markdown",
   "metadata": {},
   "source": [
    "## New England\n",
    "New England is a part of the USA consisting of the states Connecticut, New Hampshire, Maine, Massachusetts, Rhode Island and Vermont (CT, NH, ME, MA, RI, VT)"
   ]
  },
  {
   "cell_type": "code",
   "execution_count": 32,
   "metadata": {},
   "outputs": [],
   "source": [
    "NE_states = ['CT','NH','ME','MA','RI','VT']\n",
    "# without GWA\n",
    "wp_state = xr.open_dataset(usa_path+\"/results/windpower_states_ERA5.nc\")\n",
    "wpNE = wp_state.sel(state=NE_states).sum('state')\n",
    "wpNE.to_netcdf(usa_path+\"/results/windpower_NewEngland_ERA5.nc\")\n",
    "# with GWA\n",
    "wp_state = xr.open_dataset(usa_path+\"/results/windpower_states_ERA5_GWA.nc\")\n",
    "wpNE = wp_state.sel(state=NE_states).sum('state')\n",
    "wpNE.to_netcdf(usa_path+\"/results/windpower_NewEngland_ERA5_GWA.nc\")"
   ]
  },
  {
   "cell_type": "markdown",
   "metadata": {},
   "source": [
    "## USA"
   ]
  },
  {
   "cell_type": "code",
   "execution_count": 4,
   "metadata": {},
   "outputs": [],
   "source": [
    "# without GWA\n",
    "wp_state = xr.open_dataset(usa_path+\"/results/windpower_states_ERA5.nc\")\n",
    "wpUSA = wp_state.sum('state')\n",
    "wpUSA.to_netcdf(usa_path+\"/results/windpower_USA_ERA5.nc\")\n",
    "# with GWA\n",
    "wp_state = xr.open_dataset(usa_path+\"/results/windpower_states_ERA5_GWA.nc\")\n",
    "wpUSA = wp_state.sum('state')\n",
    "wpUSA.to_netcdf(usa_path+\"/results/windpower_USA_ERA5_GWA.nc\")"
   ]
  },
  {
   "cell_type": "code",
   "execution_count": null,
   "metadata": {},
   "outputs": [],
   "source": []
  },
  {
   "cell_type": "markdown",
   "metadata": {},
   "source": [
    "# Analysis"
   ]
  },
  {
   "cell_type": "markdown",
   "metadata": {},
   "source": [
    "## USA"
   ]
  },
  {
   "cell_type": "markdown",
   "metadata": {},
   "source": [
    "### Load production data\n",
    "Source: https://www.eia.gov/electricity/data/browser/#/topic/0?agg=1,0,2&fuel=008&geo=vvvvvvvvvvvvo&sec=o3g&linechart=ELEC.GEN.WND-US-99.M~ELEC.GEN.WND-IA-99.M~ELEC.GEN.WND-TX-99.M&columnchart=ELEC.GEN.WND-US-99.M~ELEC.GEN.WND-IA-99.M~ELEC.GEN.WND-TX-99.M&map=ELEC.GEN.WND-US-99.M&freq=M&start=200101&end=201809&ctype=linechart&ltype=pin&rtype=s&maptype=0&rse=0&pin="
   ]
  },
  {
   "cell_type": "code",
   "execution_count": 31,
   "metadata": {},
   "outputs": [],
   "source": [
    "prod_USAm = pd.read_csv(usa_path+\"/generation_data/USA_monthly/Net_generation_wind_all_sectors_monthly.csv\",header=4)"
   ]
  },
  {
   "cell_type": "markdown",
   "metadata": {},
   "source": [
    "rename columns"
   ]
  },
  {
   "cell_type": "code",
   "execution_count": 39,
   "metadata": {},
   "outputs": [],
   "source": [
    "prod_USAm.columns = ['time','wp_obs']"
   ]
  },
  {
   "cell_type": "markdown",
   "metadata": {},
   "source": [
    "sort indices"
   ]
  },
  {
   "cell_type": "code",
   "execution_count": 47,
   "metadata": {},
   "outputs": [],
   "source": [
    "prod_USAm = prod_USAm[~np.isnan(prod_USAm.wp_obs)].sort_index(axis=0 ,ascending=False)"
   ]
  },
  {
   "cell_type": "markdown",
   "metadata": {},
   "source": [
    "create datetime index"
   ]
  },
  {
   "cell_type": "code",
   "execution_count": 60,
   "metadata": {},
   "outputs": [],
   "source": [
    "months = pd.DataFrame({'month':range(1,13)},\n",
    "                       index = ['Jan','Feb','Mar','Apr','May','Jun','Jul','Aug','Sep','Oct','Nov','Dec'])\n",
    "\n",
    "prod_USAm['month'] = pd.Series([t[:3] for t in prod_USAm.time]).map(months.month).values\n",
    "prod_USAm['year'] = [t[-4:] for t in prod_USAm.time]\n",
    "\n",
    "prod_USAm = prod_USAm.set_index(pd.Index([np.datetime64(str(int(prod_USAm.year.values[i]))+\"-\"+f\"{prod_USAm.month.values[i]:02d}\"+\"-01T00:00:00\") for i in range(len(prod_USAm))])).drop(['time','month','year'],axis=1)"
   ]
  },
  {
   "cell_type": "code",
   "execution_count": 117,
   "metadata": {},
   "outputs": [],
   "source": [
    "wp_USA = xr.open_dataset(usa_path+\"/results/windpower_USA_ERA5.nc\")"
   ]
  },
  {
   "cell_type": "code",
   "execution_count": 121,
   "metadata": {},
   "outputs": [
    {
     "data": {
      "text/plain": [
       "array([], dtype=float64)"
      ]
     },
     "execution_count": 121,
     "metadata": {},
     "output_type": "execute_result"
    }
   ],
   "source": [
    "wp_USA.wp.groupby(wp_USA.time)"
   ]
  },
  {
   "cell_type": "code",
   "execution_count": 127,
   "metadata": {},
   "outputs": [
    {
     "data": {
      "text/plain": [
       "array(['2000-12-01T00:00:00.000000000', '2000-12-01T01:00:00.000000000',\n",
       "       '2000-12-01T02:00:00.000000000', '2000-12-01T03:00:00.000000000',\n",
       "       '2000-12-01T04:00:00.000000000', '2000-12-01T05:00:00.000000000',\n",
       "       '2000-12-01T06:00:00.000000000', '2000-12-01T07:00:00.000000000',\n",
       "       '2000-12-01T08:00:00.000000000', '2000-12-01T09:00:00.000000000'],\n",
       "      dtype='datetime64[ns]')"
      ]
     },
     "execution_count": 127,
     "metadata": {},
     "output_type": "execute_result"
    }
   ],
   "source": [
    "wp_USA.time[:10].values"
   ]
  },
  {
   "cell_type": "code",
   "execution_count": null,
   "metadata": {},
   "outputs": [],
   "source": []
  },
  {
   "cell_type": "code",
   "execution_count": null,
   "metadata": {},
   "outputs": [],
   "source": []
  },
  {
   "cell_type": "code",
   "execution_count": null,
   "metadata": {},
   "outputs": [],
   "source": []
  },
  {
   "cell_type": "markdown",
   "metadata": {},
   "source": [
    "# Load production data"
   ]
  },
  {
   "cell_type": "code",
   "execution_count": null,
   "metadata": {},
   "outputs": [],
   "source": [
    "# Load data Eastern Cape\n",
    "data_ec = []\n",
    "for year in range(2014,2019):\n",
    "    datay = pd.read_csv(south_africa_path+\"/production/EasternCape/Hourly_Electricity_production_[Load_Factor_[[%]]_data\"+str(year)+\".csv\",delimiter=';') \n",
    "    if(len(data_ec)):\n",
    "        data_ec = pd.concat([data_ec,datay])\n",
    "    else:\n",
    "        data_ec = datay\n",
    "\n",
    "# Load data Western Cape\n",
    "data_wc = []\n",
    "for year in range(2015,2019):\n",
    "    datay = pd.read_csv(south_africa_path+\"/production/WesternCape/Hourly_Electricity_production_[Load_Factor_[[%]]_data\"+str(year)+\".csv\",delimiter=';') \n",
    "    if(len(data_wc)):\n",
    "        data_wc = pd.concat([data_wc,datay])\n",
    "    else:\n",
    "        data_wc = datay\n",
    "        \n",
    "# Load data Northern Cape\n",
    "data_nc = []\n",
    "for year in range(2017,2019):\n",
    "    datay = pd.read_csv(south_africa_path+\"/production/NorthernCape/Hourly_Electricity_production_[Load_Factor_[[%]]_data\"+str(year)+\".csv\",delimiter=';') \n",
    "    if(len(data_nc)):\n",
    "        data_nc = pd.concat([data_nc,datay])\n",
    "    else:\n",
    "        data_nc = datay"
   ]
  },
  {
   "cell_type": "code",
   "execution_count": null,
   "metadata": {},
   "outputs": [],
   "source": []
  },
  {
   "cell_type": "markdown",
   "metadata": {},
   "source": [
    "create pandas dataframes for each of the locations"
   ]
  },
  {
   "cell_type": "code",
   "execution_count": null,
   "metadata": {},
   "outputs": [],
   "source": [
    "# Eastern Cape\n",
    "y = np.array([data_ec['Settlement DateTime'].iloc[x][6:10] for x in range(data_ec.shape[0])])\n",
    "m = np.array([data_ec['Settlement DateTime'].iloc[x][3:5] for x in range(data_ec.shape[0])])\n",
    "d = np.array([data_ec['Settlement DateTime'].iloc[x][:2] for x in range(data_ec.shape[0])])\n",
    "h = np.array([data_ec['Settlement DateTime'].iloc[x][11:13] for x in range(data_ec.shape[0])])\n",
    "t1 = [np.datetime64(y[i]+'-'+m[i]+'-'+d[i]+\"T\"+h[i]+\":00:00\") for i in np.arange(len(y))]\n",
    "# create dataframe with datetime index and simulated data and create column to fill in historical data\n",
    "production_MW_ec = pd.DataFrame({'wp_MWh':data_ec['Production MWh'].tolist(),\n",
    "                                 'sim_wp_MWh':np.nan,\n",
    "                                 'sim_wp_MWh_GWA':np.nan},index=t1)\n",
    "\n",
    "# Western Cape\n",
    "y = np.array([data_wc['Settlement DateTime'].iloc[x][6:10] for x in range(data_wc.shape[0])])\n",
    "m = np.array([data_wc['Settlement DateTime'].iloc[x][3:5] for x in range(data_wc.shape[0])])\n",
    "d = np.array([data_wc['Settlement DateTime'].iloc[x][:2] for x in range(data_wc.shape[0])])\n",
    "h = np.array([data_wc['Settlement DateTime'].iloc[x][11:13] for x in range(data_wc.shape[0])])\n",
    "t1 = [np.datetime64(y[i]+'-'+m[i]+'-'+d[i]+\"T\"+h[i]+\":00:00\") for i in np.arange(len(y))]\n",
    "# create dataframe with datetime index and simulated data and create column to fill in historical data\n",
    "production_MW_wc = pd.DataFrame({'wp_MWh':data_wc['Production MWh'].tolist(),\n",
    "                                 'sim_wp_MWh':np.nan,\n",
    "                                 'sim_wp_MWh_GWA':np.nan},index=t1)\n",
    "\n",
    "# Northern Cape\n",
    "y = np.array([data_nc['Settlement DateTime'].iloc[x][6:10] for x in range(data_nc.shape[0])])\n",
    "m = np.array([data_nc['Settlement DateTime'].iloc[x][3:5] for x in range(data_nc.shape[0])])\n",
    "d = np.array([data_nc['Settlement DateTime'].iloc[x][:2] for x in range(data_nc.shape[0])])\n",
    "h = np.array([data_nc['Settlement DateTime'].iloc[x][11:13] for x in range(data_nc.shape[0])])\n",
    "t1 = [np.datetime64(y[i]+'-'+m[i]+'-'+d[i]+\"T\"+h[i]+\":00:00\") for i in np.arange(len(y))]\n",
    "# create dataframe with datetime index and simulated data and create column to fill in historical data\n",
    "production_MW_nc = pd.DataFrame({'wp_MWh':data_nc['Production MWh'].tolist(),\n",
    "                                 'sim_wp_MWh':np.nan,\n",
    "                                 'sim_wp_MWh_GWA':np.nan},index=t1)"
   ]
  },
  {
   "cell_type": "markdown",
   "metadata": {},
   "source": [
    "# Fill in simulated data and sort"
   ]
  },
  {
   "cell_type": "code",
   "execution_count": null,
   "metadata": {},
   "outputs": [],
   "source": [
    "# fill in simulated data - cannot be added simply as other column, as in historical data some time steps are missing\n",
    "# therefore match simulated data to time steps\n",
    "production_MW_ec.sim_wp_MWh = production_MW_ec.index.map(windpower_kW_area.Eastern_Cape)\n",
    "production_MW_wc.sim_wp_MWh = production_MW_wc.index.map(windpower_kW_area.Western_Cape)\n",
    "production_MW_nc.sim_wp_MWh = production_MW_nc.index.map(windpower_kW_area.Northern_Cape)"
   ]
  },
  {
   "cell_type": "code",
   "execution_count": null,
   "metadata": {},
   "outputs": [],
   "source": [
    "# fill in GWA simulation\n",
    "production_MW_ec.sim_wp_MWh_GWA = production_MW_ec.index.map(windpower_kW_area_GWA.Eastern_Cape)\n",
    "production_MW_wc.sim_wp_MWh_GWA = production_MW_wc.index.map(windpower_kW_area_GWA.Western_Cape)\n",
    "production_MW_nc.sim_wp_MWh_GWA = production_MW_nc.index.map(windpower_kW_area_GWA.Northern_Cape)\n"
   ]
  },
  {
   "cell_type": "code",
   "execution_count": null,
   "metadata": {},
   "outputs": [],
   "source": [
    "# sort by datetime index\n",
    "production_MW_ec = production_MW_ec.sort_index()\n",
    "production_MW_wc = production_MW_wc.sort_index()\n",
    "production_MW_nc = production_MW_nc.sort_index()"
   ]
  },
  {
   "cell_type": "markdown",
   "metadata": {},
   "source": [
    "### Available data - incomplete historical generation"
   ]
  },
  {
   "cell_type": "code",
   "execution_count": null,
   "metadata": {},
   "outputs": [],
   "source": [
    "available_data = pd.DataFrame({'EC':0,'NC':0,'WC':0,'ZAF':0},index=windpower_windparks.time.values)"
   ]
  },
  {
   "cell_type": "code",
   "execution_count": null,
   "metadata": {},
   "outputs": [],
   "source": [
    "# fill in generation data\n",
    "available_data.EC = np.invert([np.isnan(i) for i in available_data.index.map(production_MW_ec.sim_wp_MWh)]).astype(int)\n",
    "available_data.NC = np.invert([np.isnan(i) for i in available_data.index.map(production_MW_nc.sim_wp_MWh)]).astype(int)\n",
    "available_data.WC = np.invert([np.isnan(i) for i in available_data.index.map(production_MW_wc.sim_wp_MWh)]).astype(int)"
   ]
  },
  {
   "cell_type": "code",
   "execution_count": null,
   "metadata": {},
   "outputs": [],
   "source": [
    "# for data availability in ZAF, we need to know in how many regions there was production at each time\n",
    "producing_regions = pd.DataFrame({'EC':1,'NC':1,'WC':1,'ZAF':0},index=windpower_windparks.time.values)"
   ]
  },
  {
   "cell_type": "code",
   "execution_count": null,
   "metadata": {},
   "outputs": [],
   "source": [
    "# set production 0 before recorded production\n",
    "producing_regions.EC[producing_regions.index<production_MW_ec.index.min()] = 0\n",
    "producing_regions.NC[producing_regions.index<production_MW_nc.index.min()] = 0\n",
    "producing_regions.WC[producing_regions.index<production_MW_wc.index.min()] = 0\n",
    "\n",
    "# producing regions in ZAF are sum of production in three regions\n",
    "producing_regions.ZAF = producing_regions.EC + producing_regions.NC + producing_regions.WC\n",
    "# set where no producing regions to -1\n",
    "producing_regions.ZAF[producing_regions.ZAF==0] = -1"
   ]
  },
  {
   "cell_type": "code",
   "execution_count": null,
   "metadata": {},
   "outputs": [],
   "source": [
    "available_data.ZAF = np.array([int(i==0) for i in (available_data.EC + available_data.NC + available_data.WC - producing_regions.ZAF)])"
   ]
  },
  {
   "cell_type": "code",
   "execution_count": null,
   "metadata": {},
   "outputs": [],
   "source": []
  },
  {
   "cell_type": "markdown",
   "metadata": {},
   "source": [
    "# Data selection - only use timespans where all data are available"
   ]
  },
  {
   "cell_type": "code",
   "execution_count": null,
   "metadata": {},
   "outputs": [],
   "source": [
    "# only do for timespans where data are available for ALL regions (ZAF data available = 1)\n",
    "production_MW_ec_ts = production_MW_ec[production_MW_ec.index.map(available_data.ZAF)==1]\n",
    "production_MW_nc_ts = production_MW_nc[production_MW_nc.index.map(available_data.ZAF)==1]\n",
    "production_MW_wc_ts = production_MW_wc[production_MW_wc.index.map(available_data.ZAF)==1]"
   ]
  },
  {
   "cell_type": "code",
   "execution_count": null,
   "metadata": {},
   "outputs": [],
   "source": [
    "# prepare dataframe for summing up\n",
    "production_MW_all = pd.DataFrame({'wp_MWh_EC':0, 'sim_wp_MWh_EC':0, 'sim_wp_MWh_EC_GWA':0,\n",
    "                                  'wp_MWh_NC':0, 'sim_wp_MWh_NC':0, 'sim_wp_MWh_NC_GWA':0,\n",
    "                                  'wp_MWh_WC':0, 'sim_wp_MWh_WC':0, 'sim_wp_MWh_WC_GWA':0},\n",
    "                                  index = windpower_windparks.time.values[available_data.ZAF==1])\n",
    "production_MW_all.wp_MWh_EC = production_MW_all.index.map(production_MW_ec_ts.wp_MWh)\n",
    "production_MW_all.sim_wp_MWh_EC = production_MW_all.index.map(production_MW_ec_ts.sim_wp_MWh)\n",
    "production_MW_all.sim_wp_MWh_EC_GWA = production_MW_all.index.map(production_MW_ec_ts.sim_wp_MWh_GWA)\n",
    "\n",
    "production_MW_all.wp_MWh_NC = production_MW_all.index.map(production_MW_nc_ts.wp_MWh)\n",
    "production_MW_all.sim_wp_MWh_NC = production_MW_all.index.map(production_MW_nc_ts.sim_wp_MWh)\n",
    "production_MW_all.sim_wp_MWh_NC_GWA = production_MW_all.index.map(production_MW_nc_ts.sim_wp_MWh_GWA)\n",
    "\n",
    "production_MW_all.wp_MWh_WC = production_MW_all.index.map(production_MW_wc_ts.wp_MWh)\n",
    "production_MW_all.sim_wp_MWh_WC = production_MW_all.index.map(production_MW_wc_ts.sim_wp_MWh)\n",
    "production_MW_all.sim_wp_MWh_WC_GWA = production_MW_all.index.map(production_MW_wc_ts.sim_wp_MWh_GWA)"
   ]
  },
  {
   "cell_type": "code",
   "execution_count": null,
   "metadata": {},
   "outputs": [],
   "source": [
    "# fill nans with 0\n",
    "production_MW_all = production_MW_all.fillna(0)"
   ]
  },
  {
   "cell_type": "code",
   "execution_count": null,
   "metadata": {},
   "outputs": [],
   "source": []
  },
  {
   "cell_type": "code",
   "execution_count": null,
   "metadata": {},
   "outputs": [],
   "source": [
    "# sum up for ZAF\n",
    "production_MW_zaf_ts = pd.DataFrame({'wp_MWh':production_MW_all.wp_MWh_EC + production_MW_all.wp_MWh_NC + production_MW_all.wp_MWh_WC,\n",
    "                                     'sim_wp_MWh':production_MW_all.sim_wp_MWh_EC + production_MW_all.sim_wp_MWh_NC + production_MW_all.sim_wp_MWh_WC,\n",
    "                                     'sim_wp_MWh_GWA':production_MW_all.sim_wp_MWh_EC_GWA + production_MW_all.sim_wp_MWh_NC_GWA + production_MW_all.sim_wp_MWh_WC_GWA},\n",
    "                                     index=production_MW_all.index)"
   ]
  },
  {
   "cell_type": "markdown",
   "metadata": {},
   "source": [
    "# statistical analysis hourly"
   ]
  },
  {
   "cell_type": "code",
   "execution_count": null,
   "metadata": {},
   "outputs": [],
   "source": [
    "# prepare dataframe for hourly statistical analysis\n",
    "stats_h = pd.DataFrame({'cor':np.nan,\n",
    "                        'rmse':np.nan,\n",
    "                        'mbe':np.nan,\n",
    "                        'avg':np.nan},\n",
    "                        index = ['EC','EC_GWA','EC_obs',\n",
    "                                 'NC','NC_GWA','NC_obs',\n",
    "                                 'WC','WC_GWA','WC_obs',\n",
    "                                 'ZAF','ZAF_GWA','ZAF_obs'])"
   ]
  },
  {
   "cell_type": "markdown",
   "metadata": {},
   "source": [
    "Calculate correlations"
   ]
  },
  {
   "cell_type": "code",
   "execution_count": null,
   "metadata": {},
   "outputs": [],
   "source": [
    "stats_h.cor = [np.corrcoef(production_MW_ec_ts.wp_MWh,production_MW_ec_ts.sim_wp_MWh)[0,1],\n",
    "               np.corrcoef(production_MW_ec_ts.wp_MWh,production_MW_ec_ts.sim_wp_MWh_GWA)[0,1],\n",
    "               np.nan,\n",
    "               np.corrcoef(production_MW_wc_ts.wp_MWh,production_MW_wc_ts.sim_wp_MWh)[0,1],\n",
    "               np.corrcoef(production_MW_wc_ts.wp_MWh,production_MW_wc_ts.sim_wp_MWh_GWA)[0,1],\n",
    "               np.nan,\n",
    "               np.corrcoef(production_MW_nc_ts.wp_MWh,production_MW_nc_ts.sim_wp_MWh)[0,1],\n",
    "               np.corrcoef(production_MW_nc_ts.wp_MWh,production_MW_nc_ts.sim_wp_MWh_GWA)[0,1],\n",
    "               np.nan,\n",
    "               np.corrcoef(production_MW_zaf_ts.wp_MWh,production_MW_zaf_ts.sim_wp_MWh)[0,1],\n",
    "               np.corrcoef(production_MW_zaf_ts.wp_MWh,production_MW_zaf_ts.sim_wp_MWh_GWA)[0,1],\n",
    "               np.nan]\n"
   ]
  },
  {
   "cell_type": "markdown",
   "metadata": {},
   "source": [
    "Calculate RMSEs"
   ]
  },
  {
   "cell_type": "code",
   "execution_count": null,
   "metadata": {},
   "outputs": [],
   "source": [
    "stats_h.rmse = [np.sqrt(np.mean((np.array(production_MW_ec_ts.wp_MWh)-np.array(production_MW_ec_ts.sim_wp_MWh))**2)),\n",
    "                 np.sqrt(np.mean((np.array(production_MW_ec_ts.wp_MWh)-np.array(production_MW_ec_ts.sim_wp_MWh_GWA))**2)),\n",
    "                 np.nan,\n",
    "                 np.sqrt(np.mean((np.array(production_MW_nc_ts.wp_MWh)-np.array(production_MW_nc_ts.sim_wp_MWh))**2)),\n",
    "                 np.sqrt(np.mean((np.array(production_MW_nc_ts.wp_MWh)-np.array(production_MW_nc_ts.sim_wp_MWh_GWA))**2)),\n",
    "                 np.nan,\n",
    "                 np.sqrt(np.mean((np.array(production_MW_wc_ts.wp_MWh)-np.array(production_MW_wc_ts.sim_wp_MWh))**2)),\n",
    "                 np.sqrt(np.mean((np.array(production_MW_wc_ts.wp_MWh)-np.array(production_MW_wc_ts.sim_wp_MWh_GWA))**2)),\n",
    "                 np.nan,\n",
    "                 np.sqrt(np.mean((np.array(production_MW_zaf_ts.wp_MWh)-np.array(production_MW_zaf_ts.sim_wp_MWh))**2)),\n",
    "                 np.sqrt(np.mean((np.array(production_MW_zaf_ts.wp_MWh)-np.array(production_MW_zaf_ts.sim_wp_MWh_GWA))**2)),\n",
    "                 np.nan]\n"
   ]
  },
  {
   "cell_type": "markdown",
   "metadata": {},
   "source": [
    "Calculate MBEs"
   ]
  },
  {
   "cell_type": "code",
   "execution_count": null,
   "metadata": {},
   "outputs": [],
   "source": [
    "stats_h.mbe = [(np.array(production_MW_ec_ts.sim_wp_MWh)-np.array(production_MW_ec_ts.wp_MWh)).mean(),\n",
    "               (np.array(production_MW_ec_ts.sim_wp_MWh_GWA)-np.array(production_MW_ec_ts.wp_MWh)).mean(),\n",
    "               np.nan,\n",
    "               (np.array(production_MW_nc_ts.sim_wp_MWh)-np.array(production_MW_nc_ts.wp_MWh)).mean(),\n",
    "               (np.array(production_MW_nc_ts.sim_wp_MWh_GWA)-np.array(production_MW_nc_ts.wp_MWh)).mean(),\n",
    "               np.nan,\n",
    "               (np.array(production_MW_wc_ts.sim_wp_MWh)-np.array(production_MW_wc_ts.wp_MWh)).mean(),\n",
    "               (np.array(production_MW_wc_ts.sim_wp_MWh_GWA)-np.array(production_MW_wc_ts.wp_MWh)).mean(),\n",
    "               np.nan,\n",
    "               (np.array(production_MW_zaf_ts.sim_wp_MWh)-np.array(production_MW_zaf_ts.wp_MWh)).mean(),\n",
    "               (np.array(production_MW_zaf_ts.sim_wp_MWh_GWA)-np.array(production_MW_zaf_ts.wp_MWh)).mean(),\n",
    "               np.nan]\n"
   ]
  },
  {
   "cell_type": "markdown",
   "metadata": {},
   "source": [
    "Calculate means"
   ]
  },
  {
   "cell_type": "code",
   "execution_count": null,
   "metadata": {},
   "outputs": [],
   "source": [
    "stats_h.avg = [production_MW_ec_ts.sim_wp_MWh.mean(),production_MW_ec_ts.sim_wp_MWh_GWA.mean(),production_MW_ec_ts.wp_MWh.mean(),\n",
    "               production_MW_nc_ts.sim_wp_MWh.mean(),production_MW_nc_ts.sim_wp_MWh_GWA.mean(),production_MW_nc_ts.wp_MWh.mean(),\n",
    "               production_MW_wc_ts.sim_wp_MWh.mean(),production_MW_wc_ts.sim_wp_MWh_GWA.mean(),production_MW_wc_ts.wp_MWh.mean(),\n",
    "               production_MW_zaf_ts.sim_wp_MWh.mean(),production_MW_zaf_ts.sim_wp_MWh_GWA.mean(),production_MW_zaf_ts.wp_MWh.mean()]\n"
   ]
  },
  {
   "cell_type": "markdown",
   "metadata": {},
   "source": [
    "save dataframe with hourly results"
   ]
  },
  {
   "cell_type": "code",
   "execution_count": null,
   "metadata": {},
   "outputs": [],
   "source": [
    "# hourly and absolute statistics\n",
    "stats_ha = stats_h.transpose().set_index(pd.Index(['Correlation','RMSE_MWh','MBE_MWh','Mean_MWh']),'parameter')"
   ]
  },
  {
   "cell_type": "code",
   "execution_count": null,
   "metadata": {},
   "outputs": [],
   "source": [
    "stats_ha.round(2)"
   ]
  },
  {
   "cell_type": "code",
   "execution_count": null,
   "metadata": {},
   "outputs": [],
   "source": [
    "stats_ha.round(2).to_csv(south_africa_path+'/results/stats_h_abs_ERA5.csv',sep=';')"
   ]
  },
  {
   "cell_type": "code",
   "execution_count": null,
   "metadata": {},
   "outputs": [],
   "source": []
  },
  {
   "cell_type": "code",
   "execution_count": null,
   "metadata": {},
   "outputs": [],
   "source": [
    "# plot ZAF\n",
    "prod_ZAFh = production_MW_zaf_ts.melt(var_name='type',value_name='hourly_MWh')\n",
    "sns.set(style='darkgrid',context='talk')\n",
    "plt.figure(figsize=(12,8))\n",
    "ax = sns.boxplot(x='type',y='hourly_MWh',data=prod_ZAFh,palette=col_refuel3,linewidth=3)\n",
    "#plt.ylim(0,1)\n",
    "fig = ax.get_figure()\n",
    "fig.savefig(south_africa_path+'/results/plots/absolute/ZAF_ERA5_hourly.png')"
   ]
  },
  {
   "cell_type": "code",
   "execution_count": null,
   "metadata": {},
   "outputs": [],
   "source": [
    "# boxplots with seaborn for capes\n",
    "\n",
    "# melt data for each region and add a region column\n",
    "prod_ECh = production_MW_ec_ts.melt(var_name='type',value_name='hourly_MWh')\n",
    "prod_ECh['region'] = 'EC'\n",
    "prod_NCh = production_MW_nc_ts.melt(var_name='type',value_name='hourly_MWh')\n",
    "prod_NCh['region'] = 'NC'\n",
    "prod_WCh = production_MW_wc_ts.melt(var_name='type',value_name='hourly_MWh')\n",
    "prod_WCh['region'] = 'WC'\n",
    "\n",
    "# merge regions to one data frame\n",
    "prod_Ch = pd.concat([prod_ECh,prod_NCh,prod_WCh])"
   ]
  },
  {
   "cell_type": "code",
   "execution_count": null,
   "metadata": {},
   "outputs": [],
   "source": [
    "prod_Ch_tidy = prod_Ch.melt(id_vars=['region','type'],value_name='hourly_MWh').drop(columns={'variable'})"
   ]
  },
  {
   "cell_type": "code",
   "execution_count": null,
   "metadata": {},
   "outputs": [],
   "source": [
    "CF_ZAFh = CF_ZAF_h.melt(var_name='type',value_name='hourly_CF')\n",
    "sns.set(style='darkgrid',context='talk')\n",
    "plt.figure(figsize=(12,8))\n",
    "ax = sns.boxplot(x='region',y='hourly_MWh',hue='type',data=prod_Ch_tidy,palette=col_refuel3,linewidth=3)\n",
    "#plt.ylim(0,1)\n",
    "fig = ax.get_figure()\n",
    "fig.savefig(south_africa_path+'/results/plots/absolute/regions_ERA5_hourly.png')"
   ]
  },
  {
   "cell_type": "code",
   "execution_count": null,
   "metadata": {},
   "outputs": [],
   "source": []
  },
  {
   "cell_type": "markdown",
   "metadata": {},
   "source": [
    "# statistical analysis daily"
   ]
  },
  {
   "cell_type": "markdown",
   "metadata": {},
   "source": [
    "Whole country: need to remove days which are not complete, then aggregate daily"
   ]
  },
  {
   "cell_type": "code",
   "execution_count": null,
   "metadata": {},
   "outputs": [],
   "source": [
    "# function which creates series of 0 and 1 when hours shall be kept (1, complete days with 24 hours)\n",
    "# or hours shall be dropped (0, days where less than 24 hours are available)\n",
    "def drop_less_one_day(datetimeindex):\n",
    "    dt = np.array(datetimeindex.year*10000+datetimeindex.month*100+datetimeindex.day)\n",
    "    length = np.unique(dt,return_counts=True)[1]\n",
    "    \n",
    "    filt = np.array([0]*len(length))\n",
    "    filt[np.equal(length,24)] = 1\n",
    "    code = np.repeat(filt,length)\n",
    "    \n",
    "    return code"
   ]
  },
  {
   "cell_type": "code",
   "execution_count": null,
   "metadata": {},
   "outputs": [],
   "source": [
    "print('Shares of data kept')\n",
    "d = drop_less_one_day(production_MW_ec_ts.index)\n",
    "print(\"EC keep %: \", round(sum(np.equal(d,1))/len(production_MW_ec_ts.index)*100,1))\n",
    "\n",
    "d = drop_less_one_day(production_MW_wc_ts.index)\n",
    "print(\"WC keep %: \", round(sum(np.equal(d,1))/len(production_MW_wc_ts.index)*100,1))\n",
    "\n",
    "d = drop_less_one_day(production_MW_nc_ts.index)\n",
    "print(\"NC keep %: \", round(sum(np.equal(d,1))/len(production_MW_nc_ts.index)*100,1))\n",
    "\n",
    "d = drop_less_one_day(production_MW_zaf_ts.index)\n",
    "print(\"ZAF keep %: \", round(sum(np.equal(d,1))/len(production_MW_zaf_ts.index)*100,1))\n"
   ]
  },
  {
   "cell_type": "code",
   "execution_count": null,
   "metadata": {},
   "outputs": [],
   "source": [
    "# first copy all the data, in order to avoid warning message\n",
    "production_MW_ec_ts = production_MW_ec_ts.copy()\n",
    "production_MW_nc_ts = production_MW_nc_ts.copy()\n",
    "production_MW_wc_ts = production_MW_wc_ts.copy()\n",
    "production_MW_zaf_ts = production_MW_zaf_ts.copy()"
   ]
  },
  {
   "cell_type": "code",
   "execution_count": null,
   "metadata": {},
   "outputs": [],
   "source": [
    "# mark the data to keep\n",
    "production_MW_ec_ts['keep'] = drop_less_one_day(production_MW_ec_ts.index)\n",
    "production_MW_wc_ts['keep'] = drop_less_one_day(production_MW_wc_ts.index)\n",
    "production_MW_nc_ts['keep'] = drop_less_one_day(production_MW_nc_ts.index)\n",
    "production_MW_zaf_ts['keep'] = drop_less_one_day(production_MW_zaf_ts.index)"
   ]
  },
  {
   "cell_type": "code",
   "execution_count": null,
   "metadata": {},
   "outputs": [],
   "source": [
    "# filter out only whole days\n",
    "production_ec_filtered = production_MW_ec_ts[production_MW_ec_ts.keep==1]\n",
    "production_wc_filtered = production_MW_wc_ts[production_MW_wc_ts.keep==1]\n",
    "production_nc_filtered = production_MW_nc_ts[production_MW_nc_ts.keep==1]\n",
    "production_zaf_filtered = production_MW_zaf_ts[production_MW_zaf_ts.keep==1]"
   ]
  },
  {
   "cell_type": "markdown",
   "metadata": {},
   "source": [
    "### aggregate daily"
   ]
  },
  {
   "cell_type": "code",
   "execution_count": null,
   "metadata": {},
   "outputs": [],
   "source": [
    "date_ec = production_ec_filtered.index.year*10000+production_ec_filtered.index.month*100 + production_ec_filtered.index.day\n",
    "production_GW_EC_daily = production_ec_filtered.groupby(date_ec).sum()/1000\n",
    "date_nc = production_nc_filtered.index.year*10000+production_nc_filtered.index.month*100 + production_nc_filtered.index.day\n",
    "production_GW_NC_daily = production_nc_filtered.groupby(date_nc).sum()/1000\n",
    "date_wc = production_wc_filtered.index.year*10000+production_wc_filtered.index.month*100 + production_wc_filtered.index.day\n",
    "production_GW_WC_daily = production_wc_filtered.groupby(date_wc).sum()/1000\n",
    "date_zaf = production_zaf_filtered.index.year*10000+production_zaf_filtered.index.month*100 + production_zaf_filtered.index.day\n",
    "production_GW_ZAF_daily = production_zaf_filtered.groupby(date_zaf).sum()/1000"
   ]
  },
  {
   "cell_type": "code",
   "execution_count": null,
   "metadata": {},
   "outputs": [],
   "source": [
    "production_GW_EC_daily = production_GW_EC_daily.drop('keep',axis=1).rename(columns={'wp_MWh':'obs','sim_wp_MWh':'sim','sim_wp_MWh_GWA':'sim_GWA'})\n",
    "production_GW_NC_daily = production_GW_NC_daily.drop('keep',axis=1).rename(columns={'wp_MWh':'obs','sim_wp_MWh':'sim','sim_wp_MWh_GWA':'sim_GWA'})\n",
    "production_GW_WC_daily = production_GW_WC_daily.drop('keep',axis=1).rename(columns={'wp_MWh':'obs','sim_wp_MWh':'sim','sim_wp_MWh_GWA':'sim_GWA'})\n",
    "production_GW_ZAF_daily = production_GW_ZAF_daily.drop('keep',axis=1).rename(columns={'wp_MWh':'obs','sim_wp_MWh':'sim','sim_wp_MWh_GWA':'sim_GWA'})"
   ]
  },
  {
   "cell_type": "markdown",
   "metadata": {},
   "source": [
    "### calculate statistical parameters\n",
    "prepare dataframe for statistical parameters"
   ]
  },
  {
   "cell_type": "code",
   "execution_count": null,
   "metadata": {},
   "outputs": [],
   "source": [
    "stats_d = pd.DataFrame({'cor':np.nan,\n",
    "                        'rmse':np.nan,\n",
    "                        'mbe':np.nan,\n",
    "                        'avg':np.nan},\n",
    "                        index = ['EC','EC_GWA','EC_obs',\n",
    "                                 'NC','NC_GWA','NC_obs',\n",
    "                                 'WC','WC_GWA','WC_obs',\n",
    "                                 'ZAF','ZAF_GWA','ZAF_obs'])"
   ]
  },
  {
   "cell_type": "markdown",
   "metadata": {},
   "source": [
    "Calculate correlations"
   ]
  },
  {
   "cell_type": "code",
   "execution_count": null,
   "metadata": {},
   "outputs": [],
   "source": [
    "stats_d.cor = [np.corrcoef(production_GW_EC_daily.obs,production_GW_EC_daily.sim)[0,1],\n",
    "               np.corrcoef(production_GW_EC_daily.obs,production_GW_EC_daily.sim_GWA)[0,1],\n",
    "               np.nan,\n",
    "               np.corrcoef(production_GW_WC_daily.obs,production_GW_WC_daily.sim)[0,1],\n",
    "               np.corrcoef(production_GW_WC_daily.obs,production_GW_WC_daily.sim_GWA)[0,1],\n",
    "               np.nan,\n",
    "               np.corrcoef(production_GW_NC_daily.obs,production_GW_NC_daily.sim)[0,1],\n",
    "               np.corrcoef(production_GW_NC_daily.obs,production_GW_NC_daily.sim_GWA)[0,1],\n",
    "               np.nan,\n",
    "               np.corrcoef(production_GW_ZAF_daily.obs,production_GW_ZAF_daily.sim)[0,1],\n",
    "               np.corrcoef(production_GW_ZAF_daily.obs,production_GW_ZAF_daily.sim_GWA)[0,1],\n",
    "               np.nan]\n"
   ]
  },
  {
   "cell_type": "markdown",
   "metadata": {},
   "source": [
    "Calculate RMSEs"
   ]
  },
  {
   "cell_type": "code",
   "execution_count": null,
   "metadata": {},
   "outputs": [],
   "source": [
    "stats_d.rmse = [np.sqrt(np.mean((np.array(production_GW_EC_daily.obs)-np.array(production_GW_EC_daily.sim))**2)),\n",
    "                 np.sqrt(np.mean((np.array(production_GW_EC_daily.obs)-np.array(production_GW_EC_daily.sim_GWA))**2)),\n",
    "                 np.nan,\n",
    "                 np.sqrt(np.mean((np.array(production_GW_NC_daily.obs)-np.array(production_GW_NC_daily.sim))**2)),\n",
    "                 np.sqrt(np.mean((np.array(production_GW_NC_daily.obs)-np.array(production_GW_NC_daily.sim_GWA))**2)),\n",
    "                 np.nan,\n",
    "                 np.sqrt(np.mean((np.array(production_GW_WC_daily.obs)-np.array(production_GW_WC_daily.sim))**2)),\n",
    "                 np.sqrt(np.mean((np.array(production_GW_WC_daily.obs)-np.array(production_GW_WC_daily.sim_GWA))**2)),\n",
    "                 np.nan,\n",
    "                 np.sqrt(np.mean((np.array(production_GW_ZAF_daily.obs)-np.array(production_GW_ZAF_daily.sim))**2)),\n",
    "                 np.sqrt(np.mean((np.array(production_GW_ZAF_daily.obs)-np.array(production_GW_ZAF_daily.sim_GWA))**2)),\n",
    "                 np.nan]\n"
   ]
  },
  {
   "cell_type": "markdown",
   "metadata": {},
   "source": [
    "Calculate MBEs"
   ]
  },
  {
   "cell_type": "code",
   "execution_count": null,
   "metadata": {},
   "outputs": [],
   "source": [
    "stats_d.mbe = [(np.array(production_GW_EC_daily.sim)-np.array(production_GW_EC_daily.obs)).mean(),\n",
    "               (np.array(production_GW_EC_daily.sim_GWA)-np.array(production_GW_EC_daily.obs)).mean(),\n",
    "               np.nan,\n",
    "               (np.array(production_GW_NC_daily.sim)-np.array(production_GW_NC_daily.obs)).mean(),\n",
    "               (np.array(production_GW_NC_daily.sim_GWA)-np.array(production_GW_NC_daily.obs)).mean(),\n",
    "               np.nan,\n",
    "               (np.array(production_GW_WC_daily.sim)-np.array(production_GW_WC_daily.obs)).mean(),\n",
    "               (np.array(production_GW_WC_daily.sim_GWA)-np.array(production_GW_WC_daily.obs)).mean(),\n",
    "               np.nan,\n",
    "               (np.array(production_GW_ZAF_daily.sim)-np.array(production_GW_ZAF_daily.obs)).mean(),\n",
    "               (np.array(production_GW_ZAF_daily.sim_GWA)-np.array(production_GW_ZAF_daily.obs)).mean(),\n",
    "               np.nan]\n"
   ]
  },
  {
   "cell_type": "markdown",
   "metadata": {},
   "source": [
    "Calculate means"
   ]
  },
  {
   "cell_type": "code",
   "execution_count": null,
   "metadata": {},
   "outputs": [],
   "source": [
    "stats_d.avg = [production_GW_EC_daily.sim.mean(),production_GW_EC_daily.sim_GWA.mean(),production_GW_EC_daily.obs.mean(),\n",
    "               production_GW_NC_daily.sim.mean(),production_GW_NC_daily.sim_GWA.mean(),production_GW_NC_daily.obs.mean(),\n",
    "               production_GW_WC_daily.sim.mean(),production_GW_WC_daily.sim_GWA.mean(),production_GW_WC_daily.obs.mean(),\n",
    "               production_GW_ZAF_daily.sim.mean(),production_GW_ZAF_daily.sim_GWA.mean(),production_GW_ZAF_daily.obs.mean()]\n"
   ]
  },
  {
   "cell_type": "code",
   "execution_count": null,
   "metadata": {},
   "outputs": [],
   "source": []
  },
  {
   "cell_type": "markdown",
   "metadata": {},
   "source": [
    "save dataframe with daily results"
   ]
  },
  {
   "cell_type": "code",
   "execution_count": null,
   "metadata": {},
   "outputs": [],
   "source": [
    "# hourly and absolute statistics\n",
    "stats_da = stats_d.transpose().set_index(pd.Index(['Correlation','RMSE_MWh','MBE_MWh','Mean_MWh']),'parameter')"
   ]
  },
  {
   "cell_type": "code",
   "execution_count": null,
   "metadata": {},
   "outputs": [],
   "source": [
    "stats_da.round(2).to_csv(south_africa_path+'/results/stats_d_abs_ERA5.csv',sep=';')"
   ]
  },
  {
   "cell_type": "code",
   "execution_count": null,
   "metadata": {},
   "outputs": [],
   "source": [
    "stats_da.round(2)"
   ]
  },
  {
   "cell_type": "markdown",
   "metadata": {},
   "source": [
    "boxplot for South Africa"
   ]
  },
  {
   "cell_type": "code",
   "execution_count": null,
   "metadata": {},
   "outputs": [],
   "source": [
    "# plot South Africa\n",
    "prod_ZAFd = production_GW_ZAF_daily.melt(var_name='type',value_name='daily_GWh')\n",
    "sns.set(style='darkgrid',context='talk')\n",
    "plt.figure(figsize=(12,8))\n",
    "ax = sns.boxplot(x='type',y='daily_GWh',data=prod_ZAFd,palette=col_refuel3,linewidth=3)\n",
    "fig = ax.get_figure()\n",
    "fig.savefig(south_africa_path+'/results/plots/absolute/ZAF_ERA5_daily.png')"
   ]
  },
  {
   "cell_type": "code",
   "execution_count": null,
   "metadata": {},
   "outputs": [],
   "source": [
    "# boxplots for capes\n",
    "\n",
    "# melt data for each region and add a region column\n",
    "prod_ECd = production_GW_EC_daily.melt(var_name='type',value_name='daily_GWh')\n",
    "prod_ECd['region'] = 'EC'\n",
    "prod_NCd = production_GW_NC_daily.melt(var_name='type',value_name='daily_GWh')\n",
    "prod_NCd['region'] = 'NC'\n",
    "prod_WCd = production_GW_WC_daily.melt(var_name='type',value_name='daily_GWh')\n",
    "prod_WCd['region'] = 'WC'\n",
    "\n",
    "# merge regions to one data frame\n",
    "prod_Cd = pd.concat([prod_ECd,prod_NCd,prod_WCd])"
   ]
  },
  {
   "cell_type": "code",
   "execution_count": null,
   "metadata": {},
   "outputs": [],
   "source": [
    "# lengths of time series\n",
    "print('EC: '+str(prod_ECd.shape[0]))\n",
    "print('NC: '+str(prod_NCd.shape[0]))\n",
    "print('WC: '+str(prod_WCd.shape[0]))\n",
    "print('ZAF: '+str(prod_ZAFd.shape[0]))"
   ]
  },
  {
   "cell_type": "code",
   "execution_count": null,
   "metadata": {},
   "outputs": [],
   "source": [
    "prod_Cd_tidy = prod_Cd.melt(id_vars=['region','type'],value_name='daily_GWh').drop(columns={'variable'})"
   ]
  },
  {
   "cell_type": "code",
   "execution_count": null,
   "metadata": {},
   "outputs": [],
   "source": [
    "# plot Capes\n",
    "sns.set(style='darkgrid',context='talk')\n",
    "plt.figure(figsize=(12,8))\n",
    "ax = sns.boxplot(x='region',y='daily_GWh',hue='type',data=prod_Cd_tidy,palette=col_refuel3,linewidth=3)\n",
    "fig = ax.get_figure()\n",
    "fig.savefig(south_africa_path+'/results/plots/absolute/regions_ERA5_daily.png')"
   ]
  },
  {
   "cell_type": "markdown",
   "metadata": {},
   "source": [
    "# Conclusion absolute analysis"
   ]
  },
  {
   "cell_type": "markdown",
   "metadata": {},
   "source": [
    "always better with GWA, with GWA only slightly underestimated, without GWA more underestimation"
   ]
  },
  {
   "cell_type": "code",
   "execution_count": null,
   "metadata": {},
   "outputs": [],
   "source": [
    "plt.plot(production_GW_ZAF_daily.iloc[:,:3].values)"
   ]
  },
  {
   "cell_type": "markdown",
   "metadata": {},
   "source": [
    "  \n",
    "  \n",
    "  \n",
    "  \n",
    "  \n",
    "  \n",
    "  \n",
    "  "
   ]
  },
  {
   "cell_type": "markdown",
   "metadata": {},
   "source": [
    "# Installed Capacities"
   ]
  },
  {
   "cell_type": "markdown",
   "metadata": {},
   "source": [
    "### make time series and get mean capacities"
   ]
  },
  {
   "cell_type": "markdown",
   "metadata": {},
   "source": [
    "create time series of installed capacities"
   ]
  },
  {
   "cell_type": "code",
   "execution_count": null,
   "metadata": {},
   "outputs": [],
   "source": [
    "# sort installed capacities by commissioning date\n",
    "cap = pd.DataFrame({'capacity': list(windparks.Capacity),'region':list(windparks.Area)},index=t)\n",
    "cap = cap.sort_index()"
   ]
  },
  {
   "cell_type": "code",
   "execution_count": null,
   "metadata": {},
   "outputs": [],
   "source": [
    "# cumulative capacity EC\n",
    "cap_ec = cap[cap.region=='Eastern Cape']\n",
    "cap_ec = cap_ec.drop(columns={'region'}).groupby(cap_ec.index).sum()\n",
    "cap_ec['capsum'] = cap_ec.capacity.cumsum()"
   ]
  },
  {
   "cell_type": "code",
   "execution_count": null,
   "metadata": {},
   "outputs": [],
   "source": [
    "# cumulative capacity NC\n",
    "cap_nc = cap[cap.region=='Northern Cape']\n",
    "cap_nc = cap_nc.drop(columns={'region'}).groupby(cap_nc.index).sum()\n",
    "cap_nc['capsum'] = cap_nc.capacity.cumsum()"
   ]
  },
  {
   "cell_type": "code",
   "execution_count": null,
   "metadata": {},
   "outputs": [],
   "source": [
    "# cumulative capacity WC\n",
    "cap_wc = cap[cap.region=='Western Cape']\n",
    "cap_wc = cap_wc.drop(columns={'region'}).groupby(cap_wc.index).sum()\n",
    "cap_wc['capsum'] = cap_wc.capacity.cumsum()"
   ]
  },
  {
   "cell_type": "code",
   "execution_count": null,
   "metadata": {},
   "outputs": [],
   "source": [
    "plt.plot(cap_ec.capsum)\n",
    "plt.plot(cap_nc.capsum)\n",
    "plt.plot(cap_wc.capsum)\n",
    "plt.legend(['EC','NC','WC'])"
   ]
  },
  {
   "cell_type": "markdown",
   "metadata": {},
   "source": [
    "get first capacity in period of interest"
   ]
  },
  {
   "cell_type": "code",
   "execution_count": null,
   "metadata": {},
   "outputs": [],
   "source": [
    "firstcap_ec = cap_ec[cap_ec.index<production_ec_filtered.index[0]].capsum[-1]\n",
    "firstcap_nc = cap_nc[cap_nc.index<production_nc_filtered.index[0]].capsum[-1]\n",
    "firstcap_wc = cap_wc[cap_wc.index<production_wc_filtered.index[0]].capsum[-1]"
   ]
  },
  {
   "cell_type": "markdown",
   "metadata": {},
   "source": [
    "cut capacities after starting date of production"
   ]
  },
  {
   "cell_type": "code",
   "execution_count": null,
   "metadata": {},
   "outputs": [],
   "source": [
    "capc_ec = cap_ec[(cap_ec.index>=production_ec_filtered.index[0])&(cap_ec.index<=production_ec_filtered.index[-1])]\n",
    "capc_nc = cap_nc[(cap_nc.index>=production_nc_filtered.index[0])&(cap_nc.index<=production_nc_filtered.index[-1])]\n",
    "capc_wc = cap_wc[(cap_wc.index>=production_wc_filtered.index[0])&(cap_wc.index<=production_wc_filtered.index[-1])]\n"
   ]
  },
  {
   "cell_type": "markdown",
   "metadata": {},
   "source": [
    "Make dataframe with dates where all data are available as index to fill in capacities and then sum for ZAF"
   ]
  },
  {
   "cell_type": "code",
   "execution_count": null,
   "metadata": {},
   "outputs": [],
   "source": [
    "cap_all_h = pd.DataFrame({'EC':0,'NC':0,'WC':0,'ZAF':0},index=available_data.index)"
   ]
  },
  {
   "cell_type": "code",
   "execution_count": null,
   "metadata": {},
   "outputs": [],
   "source": [
    "# fill in cumulative capacities\n",
    "cap_all_h.EC = cap_all_h.index.map(capc_ec.capsum)\n",
    "cap_all_h.NC = cap_all_h.index.map(capc_nc.capsum)\n",
    "cap_all_h.WC = cap_all_h.index.map(capc_wc.capsum)"
   ]
  },
  {
   "cell_type": "code",
   "execution_count": null,
   "metadata": {},
   "outputs": [],
   "source": [
    "# fill in starting capacities at date of first observed generation\n",
    "cap_all_h.at[production_MW_ec_ts.index[0],'EC'] = firstcap_ec\n",
    "cap_all_h.at[production_MW_nc_ts.index[0],'NC'] = firstcap_nc\n",
    "cap_all_h.at[production_MW_wc_ts.index[0],'WC'] = firstcap_wc"
   ]
  },
  {
   "cell_type": "code",
   "execution_count": null,
   "metadata": {},
   "outputs": [],
   "source": [
    "# fill Nas with last capacity\n",
    "cap_all_h = cap_all_h.fillna(method = 'ffill')"
   ]
  },
  {
   "cell_type": "code",
   "execution_count": null,
   "metadata": {},
   "outputs": [],
   "source": [
    "# fill remaining Nas as beginning with 0\n",
    "cap_all_h = cap_all_h.fillna(0)"
   ]
  },
  {
   "cell_type": "code",
   "execution_count": null,
   "metadata": {},
   "outputs": [],
   "source": [
    "# sum up capacities for ZAF\n",
    "cap_all_h.ZAF = cap_all_h[['EC','NC','WC']].sum(axis=1)"
   ]
  },
  {
   "cell_type": "code",
   "execution_count": null,
   "metadata": {},
   "outputs": [],
   "source": [
    "plt.plot(cap_all_h)\n",
    "plt.legend(cap_all_h.columns)"
   ]
  },
  {
   "cell_type": "code",
   "execution_count": null,
   "metadata": {},
   "outputs": [],
   "source": [
    "# remove hours where not all data are available\n",
    "cap_all_h = cap_all_h[available_data.ZAF==1]"
   ]
  },
  {
   "cell_type": "code",
   "execution_count": null,
   "metadata": {},
   "outputs": [],
   "source": [
    "# mean capacities\n",
    "mcap_zaf = cap_all_h.ZAF.mean()\n",
    "mcap_ec = cap_all_h.EC[cap_all_h.EC>0].mean()\n",
    "mcap_nc = cap_all_h.NC[cap_all_h.NC>0].mean()\n",
    "mcap_wc = cap_all_h.WC[cap_all_h.WC>0].mean()"
   ]
  },
  {
   "cell_type": "markdown",
   "metadata": {},
   "source": [
    "### Daily capacities"
   ]
  },
  {
   "cell_type": "code",
   "execution_count": null,
   "metadata": {},
   "outputs": [],
   "source": [
    "# mark the data to keep\n",
    "cap_all_h['keep'] = drop_less_one_day(cap_all_h.index)"
   ]
  },
  {
   "cell_type": "code",
   "execution_count": null,
   "metadata": {},
   "outputs": [],
   "source": [
    "# filter out only whole days\n",
    "cap_all_h_filtered = cap_all_h[cap_all_h.keep==1]"
   ]
  },
  {
   "cell_type": "markdown",
   "metadata": {},
   "source": [
    "get daily time series"
   ]
  },
  {
   "cell_type": "code",
   "execution_count": null,
   "metadata": {},
   "outputs": [],
   "source": [
    "date = cap_all_h_filtered.index.year*10000+cap_all_h_filtered.index.month*100 + cap_all_h_filtered.index.day\n",
    "cap_all_d = cap_all_h_filtered.groupby(date).mean()"
   ]
  },
  {
   "cell_type": "code",
   "execution_count": null,
   "metadata": {},
   "outputs": [],
   "source": [
    "cap_all_d = cap_all_d.drop('keep',axis=1)"
   ]
  },
  {
   "cell_type": "code",
   "execution_count": null,
   "metadata": {},
   "outputs": [],
   "source": [
    "# mean capacities\n",
    "mcap_zaf_d = cap_all_d.ZAF.mean()\n",
    "mcap_ec_d = cap_all_d.EC[cap_all_d.EC>0].mean()\n",
    "mcap_nc_d = cap_all_d.NC[cap_all_d.NC>0].mean()\n",
    "mcap_wc_d = cap_all_d.WC[cap_all_d.WC>0].mean()"
   ]
  },
  {
   "cell_type": "code",
   "execution_count": null,
   "metadata": {},
   "outputs": [],
   "source": [
    "plt.plot(production_MW_wc[production_MW_wc.index<=max(cap_all_h.index)])\n",
    "plt.plot(cap_all_h.WC[cap_all_h.WC>0])\n",
    "plt.legend(['obs','sim','sim_GWA','cap'])"
   ]
  },
  {
   "cell_type": "code",
   "execution_count": null,
   "metadata": {},
   "outputs": [],
   "source": [
    "plt.plot(production_MW_nc[production_MW_nc.index<=max(cap_all_h.index)])\n",
    "plt.plot(cap_all_h.NC[cap_all_h.NC>0])\n",
    "plt.legend(['obs','sim','sim_GWA','cap'])"
   ]
  },
  {
   "cell_type": "code",
   "execution_count": null,
   "metadata": {},
   "outputs": [],
   "source": [
    "plt.plot(production_MW_ec[production_MW_ec.index<=max(cap_all_h.index)])\n",
    "plt.plot(cap_all_h.EC[cap_all_h.EC>0])\n",
    "plt.legend(['obs','sim','sim_GWA','cap'])"
   ]
  },
  {
   "cell_type": "markdown",
   "metadata": {},
   "source": [
    "# Relative results"
   ]
  },
  {
   "cell_type": "markdown",
   "metadata": {},
   "source": [
    "### hourly"
   ]
  },
  {
   "cell_type": "code",
   "execution_count": null,
   "metadata": {},
   "outputs": [],
   "source": [
    "stats_hr = stats_ha[['EC','EC_GWA','NC','NC_GWA','WC','WC_GWA','ZAF','ZAF_GWA']][:3].copy()"
   ]
  },
  {
   "cell_type": "code",
   "execution_count": null,
   "metadata": {},
   "outputs": [],
   "source": [
    "stats_hr.iloc[1:,:2] = stats_ha.iloc[1:3,:2]/(mcap_ec)\n",
    "\n",
    "stats_hr.iloc[1:,2:4] = stats_ha.iloc[1:3,3:5]/(mcap_nc)\n",
    "\n",
    "stats_hr.iloc[1:,4:6] = stats_ha.iloc[1:3,6:8]/(mcap_wc)\n",
    "\n",
    "stats_hr.iloc[1:,6:8] = stats_ha.iloc[1:3,9:11]/(mcap_zaf)"
   ]
  },
  {
   "cell_type": "code",
   "execution_count": null,
   "metadata": {},
   "outputs": [],
   "source": [
    "stats_hr.round(2)"
   ]
  },
  {
   "cell_type": "code",
   "execution_count": null,
   "metadata": {},
   "outputs": [],
   "source": [
    "# save relative results\n",
    "stats_hr.round(2).to_csv(south_africa_path+\"/results/stats_h_rel_ERA5.csv\")"
   ]
  },
  {
   "cell_type": "markdown",
   "metadata": {},
   "source": [
    "### daily"
   ]
  },
  {
   "cell_type": "code",
   "execution_count": null,
   "metadata": {},
   "outputs": [],
   "source": [
    "stats_dr = stats_da[['EC','EC_GWA','NC','NC_GWA','WC','WC_GWA','ZAF','ZAF_GWA']][:3].copy()"
   ]
  },
  {
   "cell_type": "code",
   "execution_count": null,
   "metadata": {},
   "outputs": [],
   "source": [
    "stats_dr.iloc[1:,:2] = stats_da.iloc[1:3,:2]/(mcap_ec_d*24/1000)\n",
    "\n",
    "stats_dr.iloc[1:,2:4] = stats_da.iloc[1:3,3:5]/(mcap_nc_d*24/1000)\n",
    "\n",
    "stats_dr.iloc[1:,4:6] = stats_da.iloc[1:3,6:8]/(mcap_wc_d*24/1000)\n",
    "\n",
    "stats_dr.iloc[1:,6:8] = stats_da.iloc[1:3,9:11]/(mcap_zaf_d*24/1000)"
   ]
  },
  {
   "cell_type": "code",
   "execution_count": null,
   "metadata": {},
   "outputs": [],
   "source": [
    "stats_dr.round(2)"
   ]
  },
  {
   "cell_type": "code",
   "execution_count": null,
   "metadata": {},
   "outputs": [],
   "source": [
    "# save relative results\n",
    "stats_dr.round(2).to_csv(south_africa_path+\"/results/stats_d_rel_ERA5.csv\")"
   ]
  },
  {
   "cell_type": "code",
   "execution_count": null,
   "metadata": {},
   "outputs": [],
   "source": []
  },
  {
   "cell_type": "markdown",
   "metadata": {},
   "source": [
    "# Capacity factors"
   ]
  },
  {
   "cell_type": "markdown",
   "metadata": {},
   "source": [
    "let's also calculate daily and hourly capacity factors"
   ]
  },
  {
   "cell_type": "markdown",
   "metadata": {},
   "source": [
    "### hourly"
   ]
  },
  {
   "cell_type": "code",
   "execution_count": null,
   "metadata": {},
   "outputs": [],
   "source": [
    "CF_EC_h = production_MW_ec_ts.drop('keep',axis=1).div(cap_all_h.EC[cap_all_h.EC>0].values,axis=0)\n",
    "CF_NC_h = production_MW_nc_ts.drop('keep',axis=1).div(cap_all_h.NC[cap_all_h.NC>0].values,axis=0)\n",
    "CF_WC_h = production_MW_wc_ts.drop('keep',axis=1).div(cap_all_h.WC[cap_all_h.WC>0].values,axis=0)\n",
    "CF_ZAF_h = production_MW_zaf_ts.drop('keep',axis=1).div(cap_all_h.ZAF[cap_all_h.ZAF>0].values,axis=0)"
   ]
  },
  {
   "cell_type": "code",
   "execution_count": null,
   "metadata": {},
   "outputs": [],
   "source": [
    "plt.plot(CF_EC_h)"
   ]
  },
  {
   "cell_type": "code",
   "execution_count": null,
   "metadata": {},
   "outputs": [],
   "source": [
    "plt.plot(CF_NC_h)"
   ]
  },
  {
   "cell_type": "code",
   "execution_count": null,
   "metadata": {},
   "outputs": [],
   "source": [
    "plt.plot(CF_WC_h)"
   ]
  },
  {
   "cell_type": "code",
   "execution_count": null,
   "metadata": {},
   "outputs": [],
   "source": [
    "plt.plot(CF_ZAF_h)"
   ]
  },
  {
   "cell_type": "markdown",
   "metadata": {},
   "source": [
    "### daily"
   ]
  },
  {
   "cell_type": "code",
   "execution_count": null,
   "metadata": {},
   "outputs": [],
   "source": [
    "CF_EC_d = production_GW_EC_daily.div(cap_all_d.EC[cap_all_d.EC>0].values*24/1000,axis=0)\n",
    "CF_NC_d = production_GW_NC_daily.div(cap_all_d.NC[cap_all_d.NC>0].values*24/1000,axis=0)\n",
    "CF_WC_d = production_GW_WC_daily.div(cap_all_d.WC[cap_all_d.WC>0].values*24/1000,axis=0)\n",
    "CF_ZAF_d = production_GW_ZAF_daily.div(cap_all_d.ZAF[cap_all_d.ZAF>0].values*24/1000,axis=0)"
   ]
  },
  {
   "cell_type": "code",
   "execution_count": null,
   "metadata": {},
   "outputs": [],
   "source": [
    "CF_EC_d.index = [np.datetime64(str(d)[:4]+'-'+str(d)[4:6]+'-'+str(d)[6:]) for d in CF_EC_d.index]\n",
    "CF_NC_d.index = [np.datetime64(str(d)[:4]+'-'+str(d)[4:6]+'-'+str(d)[6:]) for d in CF_NC_d.index]\n",
    "CF_WC_d.index = [np.datetime64(str(d)[:4]+'-'+str(d)[4:6]+'-'+str(d)[6:]) for d in CF_WC_d.index]\n",
    "CF_ZAF_d.index = [np.datetime64(str(d)[:4]+'-'+str(d)[4:6]+'-'+str(d)[6:]) for d in CF_ZAF_d.index]"
   ]
  },
  {
   "cell_type": "code",
   "execution_count": null,
   "metadata": {},
   "outputs": [],
   "source": [
    "plt.plot(CF_EC_d)"
   ]
  },
  {
   "cell_type": "code",
   "execution_count": null,
   "metadata": {},
   "outputs": [],
   "source": [
    "plt.plot(CF_NC_d)"
   ]
  },
  {
   "cell_type": "code",
   "execution_count": null,
   "metadata": {},
   "outputs": [],
   "source": [
    "plt.plot(CF_WC_d)"
   ]
  },
  {
   "cell_type": "code",
   "execution_count": null,
   "metadata": {},
   "outputs": [],
   "source": [
    "plt.plot(CF_ZAF_d)"
   ]
  },
  {
   "cell_type": "markdown",
   "metadata": {},
   "source": [
    "# Analysis Capacity Factors"
   ]
  },
  {
   "cell_type": "markdown",
   "metadata": {},
   "source": [
    "### hourly"
   ]
  },
  {
   "cell_type": "code",
   "execution_count": null,
   "metadata": {},
   "outputs": [],
   "source": [
    "statsCF_h = pd.DataFrame({'cor':np.nan,\n",
    "                          'rmse':np.nan,\n",
    "                          'mbe':np.nan,\n",
    "                          'avg':np.nan},\n",
    "                          index = ['EC','EC_GWA','EC_obs',\n",
    "                                   'NC','NC_GWA','NC_obs',\n",
    "                                   'WC','WC_GWA','WC_obs',\n",
    "                                   'ZAF','ZAF_GWA','ZAF_obs'])"
   ]
  },
  {
   "cell_type": "code",
   "execution_count": null,
   "metadata": {},
   "outputs": [],
   "source": [
    "CF_EC_h.columns =['obs','sim','sim_GWA']\n",
    "CF_NC_h.columns =['obs','sim','sim_GWA']\n",
    "CF_WC_h.columns =['obs','sim','sim_GWA']\n",
    "CF_ZAF_h.columns =['obs','sim','sim_GWA']"
   ]
  },
  {
   "cell_type": "code",
   "execution_count": null,
   "metadata": {},
   "outputs": [],
   "source": [
    "statsCF_h.cor = [np.corrcoef(CF_EC_h.obs,CF_EC_h.sim)[0,1],\n",
    "                 np.corrcoef(CF_EC_h.obs,CF_EC_h.sim_GWA)[0,1],\n",
    "                 np.nan,\n",
    "                 np.corrcoef(CF_NC_h.obs,CF_NC_h.sim)[0,1],\n",
    "                 np.corrcoef(CF_NC_h.obs,CF_NC_h.sim_GWA)[0,1],\n",
    "                 np.nan,\n",
    "                 np.corrcoef(CF_WC_h.obs,CF_WC_h.sim)[0,1],\n",
    "                 np.corrcoef(CF_WC_h.obs,CF_WC_h.sim_GWA)[0,1],\n",
    "                 np.nan,\n",
    "                 np.corrcoef(CF_ZAF_h.obs,CF_ZAF_h.sim)[0,1],\n",
    "                 np.corrcoef(CF_ZAF_h.obs,CF_ZAF_h.sim_GWA)[0,1],\n",
    "                 np.nan]\n"
   ]
  },
  {
   "cell_type": "code",
   "execution_count": null,
   "metadata": {},
   "outputs": [],
   "source": [
    "statsCF_h.rmse = [np.sqrt(np.mean((np.array(CF_EC_h.obs)-np.array(CF_EC_h.sim))**2)),\n",
    "                  np.sqrt(np.mean((np.array(CF_EC_h.obs)-np.array(CF_EC_h.sim_GWA))**2)),\n",
    "                  np.nan,\n",
    "                  np.sqrt(np.mean((np.array(CF_NC_h.obs)-np.array(CF_NC_h.sim))**2)),\n",
    "                  np.sqrt(np.mean((np.array(CF_NC_h.obs)-np.array(CF_NC_h.sim_GWA))**2)),\n",
    "                  np.nan,\n",
    "                  np.sqrt(np.mean((np.array(CF_WC_h.obs)-np.array(CF_WC_h.sim))**2)),\n",
    "                  np.sqrt(np.mean((np.array(CF_WC_h.obs)-np.array(CF_WC_h.sim_GWA))**2)),\n",
    "                  np.nan,\n",
    "                  np.sqrt(np.mean((np.array(CF_ZAF_h.obs)-np.array(CF_ZAF_h.sim))**2)),\n",
    "                  np.sqrt(np.mean((np.array(CF_ZAF_h.obs)-np.array(CF_ZAF_h.sim_GWA))**2)),\n",
    "                  np.nan]"
   ]
  },
  {
   "cell_type": "code",
   "execution_count": null,
   "metadata": {},
   "outputs": [],
   "source": [
    "statsCF_h.mbe = [(np.array(CF_EC_h.obs)-np.array(CF_EC_h.sim)).mean(),\n",
    "                 (np.array(CF_EC_h.obs)-np.array(CF_EC_h.sim_GWA)).mean(),\n",
    "                 np.nan,\n",
    "                 (np.array(CF_NC_h.obs)-np.array(CF_NC_h.sim)).mean(),\n",
    "                 (np.array(CF_NC_h.obs)-np.array(CF_NC_h.sim_GWA)).mean(),\n",
    "                 np.nan,\n",
    "                 (np.array(CF_WC_h.obs)-np.array(CF_WC_h.sim)).mean(),\n",
    "                 (np.array(CF_WC_h.obs)-np.array(CF_WC_h.sim_GWA)).mean(),\n",
    "                 np.nan,\n",
    "                 (np.array(CF_ZAF_h.obs)-np.array(CF_ZAF_h.sim)).mean(),\n",
    "                 (np.array(CF_ZAF_h.obs)-np.array(CF_ZAF_h.sim_GWA)).mean(),\n",
    "                 np.nan]\n"
   ]
  },
  {
   "cell_type": "code",
   "execution_count": null,
   "metadata": {},
   "outputs": [],
   "source": [
    "statsCF_h.avg = [CF_EC_h.sim.mean(),CF_EC_h.sim_GWA.mean(),CF_EC_h.obs.mean(),\n",
    "                 CF_NC_h.sim.mean(),CF_NC_h.sim_GWA.mean(),CF_NC_h.obs.mean(),\n",
    "                 CF_WC_h.sim.mean(),CF_WC_h.sim_GWA.mean(),CF_WC_h.obs.mean(),\n",
    "                 CF_ZAF_h.sim.mean(),CF_ZAF_h.sim_GWA.mean(),CF_ZAF_h.obs.mean()]\n"
   ]
  },
  {
   "cell_type": "markdown",
   "metadata": {},
   "source": [
    "save dataframe with hourly results"
   ]
  },
  {
   "cell_type": "code",
   "execution_count": null,
   "metadata": {},
   "outputs": [],
   "source": [
    "# hourly and absolute statistics\n",
    "statsCF_h = statsCF_h.transpose().set_index(pd.Index(['Correlation','RMSE_MWh','MBE_MWh','Mean_MWh']),'parameter')"
   ]
  },
  {
   "cell_type": "code",
   "execution_count": null,
   "metadata": {},
   "outputs": [],
   "source": [
    "statsCF_h.round(2).to_csv(south_africa_path+'/results/statsCF_h_ERA5.csv',sep=';')"
   ]
  },
  {
   "cell_type": "code",
   "execution_count": null,
   "metadata": {},
   "outputs": [],
   "source": [
    "statsCF_h.round(2)"
   ]
  },
  {
   "cell_type": "markdown",
   "metadata": {},
   "source": [
    "boxplot for South Africa"
   ]
  },
  {
   "cell_type": "code",
   "execution_count": null,
   "metadata": {},
   "outputs": [],
   "source": [
    "# plot South Africa\n",
    "CF_ZAFh = CF_ZAF_h.melt(var_name='type',value_name='hourly_CF')\n",
    "sns.set(style='darkgrid',context='talk')\n",
    "plt.figure(figsize=(12,8))\n",
    "ax = sns.boxplot(x='type',y='hourly_CF',data=CF_ZAFh,palette=col_refuel3,linewidth=3)\n",
    "plt.ylim(0,1)\n",
    "fig = ax.get_figure()\n",
    "fig.savefig(south_africa_path+'/results/plots/CFs/ZAF_ERA5_hourly.png')"
   ]
  },
  {
   "cell_type": "code",
   "execution_count": null,
   "metadata": {},
   "outputs": [],
   "source": [
    "# boxplots for capes\n",
    "\n",
    "# melt data for each region and add a region column\n",
    "CF_ECh = CF_EC_h.melt(var_name='type',value_name='hourly_CF')\n",
    "CF_ECh['region'] = 'EC'\n",
    "CF_NCh = CF_NC_h.melt(var_name='type',value_name='hourly_CF')\n",
    "CF_NCh['region'] = 'NC'\n",
    "CF_WCh = CF_WC_h.melt(var_name='type',value_name='hourly_CF')\n",
    "CF_WCh['region'] = 'WC'\n",
    "\n",
    "# merge regions to one data frame\n",
    "CF_Ch = pd.concat([CF_ECh,CF_NCh,CF_WCh])"
   ]
  },
  {
   "cell_type": "code",
   "execution_count": null,
   "metadata": {},
   "outputs": [],
   "source": [
    "# lengths of time series\n",
    "print('EC: '+str(CF_ECh.shape[0]))\n",
    "print('NC: '+str(CF_NCh.shape[0]))\n",
    "print('WC: '+str(CF_WCh.shape[0]))\n",
    "print('ZAF: '+str(CF_ZAFh.shape[0]))"
   ]
  },
  {
   "cell_type": "code",
   "execution_count": null,
   "metadata": {},
   "outputs": [],
   "source": [
    "CF_Ch_tidy = CF_Ch.melt(id_vars=['region','type'],value_name='hourly_CF').drop(columns={'variable'})"
   ]
  },
  {
   "cell_type": "code",
   "execution_count": null,
   "metadata": {},
   "outputs": [],
   "source": [
    "sns.set(style='darkgrid',context='talk')\n",
    "plt.figure(figsize=(12,8))\n",
    "ax = sns.boxplot(x='region',y='hourly_CF',hue='type',data=CF_Ch_tidy,palette=col_refuel3,linewidth=3)\n",
    "ax.legend(loc='center right', bbox_to_anchor=(1.25, 0.5))\n",
    "plt.ylim(0,1)\n",
    "fig = ax.get_figure()\n",
    "fig.savefig(south_africa_path+'/results/plots/CFs/regions_ERA5_hourly.png')"
   ]
  },
  {
   "cell_type": "markdown",
   "metadata": {},
   "source": [
    "### daily"
   ]
  },
  {
   "cell_type": "code",
   "execution_count": null,
   "metadata": {},
   "outputs": [],
   "source": [
    "statsCF_d = pd.DataFrame({'cor':np.nan,\n",
    "                          'rmse':np.nan,\n",
    "                          'mbe':np.nan,\n",
    "                          'avg':np.nan},\n",
    "                          index = ['EC','EC_GWA','EC_obs',\n",
    "                                   'NC','NC_GWA','NC_obs',\n",
    "                                   'WC','WC_GWA','WC_obs',\n",
    "                                   'ZAF','ZAF_GWA','ZAF_obs'])"
   ]
  },
  {
   "cell_type": "code",
   "execution_count": null,
   "metadata": {},
   "outputs": [],
   "source": [
    "statsCF_d.cor = [np.corrcoef(CF_EC_d.obs,CF_EC_d.sim)[0,1],\n",
    "                 np.corrcoef(CF_EC_d.obs,CF_EC_d.sim_GWA)[0,1],\n",
    "                 np.nan,\n",
    "                 np.corrcoef(CF_NC_d.obs,CF_NC_d.sim)[0,1],\n",
    "                 np.corrcoef(CF_NC_d.obs,CF_NC_d.sim_GWA)[0,1],\n",
    "                 np.nan,\n",
    "                 np.corrcoef(CF_WC_d.obs,CF_WC_d.sim)[0,1],\n",
    "                 np.corrcoef(CF_WC_d.obs,CF_WC_d.sim_GWA)[0,1],\n",
    "                 np.nan,\n",
    "                 np.corrcoef(CF_ZAF_d.obs,CF_ZAF_d.sim)[0,1],\n",
    "                 np.corrcoef(CF_ZAF_d.obs,CF_ZAF_d.sim_GWA)[0,1],\n",
    "                 np.nan]\n"
   ]
  },
  {
   "cell_type": "code",
   "execution_count": null,
   "metadata": {},
   "outputs": [],
   "source": [
    "statsCF_d.rmse = [np.sqrt(np.mean((np.array(CF_EC_d.obs)-np.array(CF_EC_d.sim))**2)),\n",
    "                  np.sqrt(np.mean((np.array(CF_EC_d.obs)-np.array(CF_EC_d.sim_GWA))**2)),\n",
    "                  np.nan,\n",
    "                  np.sqrt(np.mean((np.array(CF_NC_d.obs)-np.array(CF_NC_d.sim))**2)),\n",
    "                  np.sqrt(np.mean((np.array(CF_NC_d.obs)-np.array(CF_NC_d.sim_GWA))**2)),\n",
    "                  np.nan,\n",
    "                  np.sqrt(np.mean((np.array(CF_WC_d.obs)-np.array(CF_WC_d.sim))**2)),\n",
    "                  np.sqrt(np.mean((np.array(CF_WC_d.obs)-np.array(CF_WC_d.sim_GWA))**2)),\n",
    "                  np.nan,\n",
    "                  np.sqrt(np.mean((np.array(CF_ZAF_d.obs)-np.array(CF_ZAF_d.sim))**2)),\n",
    "                  np.sqrt(np.mean((np.array(CF_ZAF_d.obs)-np.array(CF_ZAF_d.sim_GWA))**2)),\n",
    "                  np.nan]"
   ]
  },
  {
   "cell_type": "code",
   "execution_count": null,
   "metadata": {},
   "outputs": [],
   "source": [
    "statsCF_d.mbe = [(np.array(CF_EC_d.obs)-np.array(CF_EC_d.sim)).mean(),\n",
    "                 (np.array(CF_EC_d.obs)-np.array(CF_EC_d.sim_GWA)).mean(),\n",
    "                 np.nan,\n",
    "                 (np.array(CF_NC_d.obs)-np.array(CF_NC_d.sim)).mean(),\n",
    "                 (np.array(CF_NC_d.obs)-np.array(CF_NC_d.sim_GWA)).mean(),\n",
    "                 np.nan,\n",
    "                 (np.array(CF_WC_d.obs)-np.array(CF_WC_d.sim)).mean(),\n",
    "                 (np.array(CF_WC_d.obs)-np.array(CF_WC_d.sim_GWA)).mean(),\n",
    "                 np.nan,\n",
    "                 (np.array(CF_ZAF_d.obs)-np.array(CF_ZAF_d.sim)).mean(),\n",
    "                 (np.array(CF_ZAF_d.obs)-np.array(CF_ZAF_d.sim_GWA)).mean(),\n",
    "                 np.nan]\n"
   ]
  },
  {
   "cell_type": "code",
   "execution_count": null,
   "metadata": {},
   "outputs": [],
   "source": [
    "statsCF_d.avg = [CF_EC_d.sim.mean(),CF_EC_d.sim_GWA.mean(),CF_EC_d.obs.mean(),\n",
    "                 CF_NC_d.sim.mean(),CF_NC_d.sim_GWA.mean(),CF_NC_d.obs.mean(),\n",
    "                 CF_WC_d.sim.mean(),CF_WC_d.sim_GWA.mean(),CF_WC_d.obs.mean(),\n",
    "                 CF_ZAF_d.sim.mean(),CF_ZAF_d.sim_GWA.mean(),CF_ZAF_d.obs.mean()]\n"
   ]
  },
  {
   "cell_type": "markdown",
   "metadata": {},
   "source": [
    "save dataframe with daily results"
   ]
  },
  {
   "cell_type": "code",
   "execution_count": null,
   "metadata": {},
   "outputs": [],
   "source": [
    "# hourly and absolute statistics\n",
    "statsCF_d = statsCF_d.transpose().set_index(pd.Index(['Correlation','RMSE_MWh','MBE_MWh','Mean_MWh']),'parameter')"
   ]
  },
  {
   "cell_type": "code",
   "execution_count": null,
   "metadata": {},
   "outputs": [],
   "source": [
    "statsCF_d.round(2).to_csv(south_africa_path+'/results/statsCF_d_ERA5.csv',sep=';')"
   ]
  },
  {
   "cell_type": "code",
   "execution_count": null,
   "metadata": {},
   "outputs": [],
   "source": [
    "statsCF_d.round(2)"
   ]
  },
  {
   "cell_type": "markdown",
   "metadata": {},
   "source": [
    "boxplot for South Africa"
   ]
  },
  {
   "cell_type": "code",
   "execution_count": null,
   "metadata": {},
   "outputs": [],
   "source": [
    "# plot South Africa\n",
    "CF_ZAFd = CF_ZAF_d.melt(var_name='type',value_name='daily_CF')\n",
    "sns.set(style='darkgrid',context='talk')\n",
    "plt.figure(figsize=(12,8))\n",
    "ax = sns.boxplot(x='type',y='daily_CF',data=CF_ZAFd,palette=col_refuel3,linewidth=3)\n",
    "plt.ylim(0,1)\n",
    "fig = ax.get_figure()\n",
    "fig.savefig(south_africa_path+'/results/plots/CFs/ZAF_ERA5_daily.png')"
   ]
  },
  {
   "cell_type": "code",
   "execution_count": null,
   "metadata": {},
   "outputs": [],
   "source": [
    "# boxplots for capes\n",
    "\n",
    "# melt data for each region and add a region column\n",
    "CF_ECd = CF_EC_d.melt(var_name='type',value_name='daily_CF')\n",
    "CF_ECd['region'] = 'EC'\n",
    "CF_NCd = CF_NC_d.melt(var_name='type',value_name='daily_CF')\n",
    "CF_NCd['region'] = 'NC'\n",
    "CF_WCd = CF_WC_d.melt(var_name='type',value_name='daily_CF')\n",
    "CF_WCd['region'] = 'WC'\n",
    "\n",
    "# merge regions to one data frame\n",
    "CF_Cd = pd.concat([CF_ECd,CF_NCd,CF_WCd])"
   ]
  },
  {
   "cell_type": "code",
   "execution_count": null,
   "metadata": {},
   "outputs": [],
   "source": [
    "# lengths of time series\n",
    "print('EC: '+str(CF_ECd.shape[0]))\n",
    "print('NC: '+str(CF_NCd.shape[0]))\n",
    "print('WC: '+str(CF_WCd.shape[0]))\n",
    "print('ZAF: '+str(CF_ZAFd.shape[0]))"
   ]
  },
  {
   "cell_type": "code",
   "execution_count": null,
   "metadata": {},
   "outputs": [],
   "source": [
    "CF_Cd_tidy = CF_Cd.melt(id_vars=['region','type'],value_name='daily_CF').drop(columns={'variable'})"
   ]
  },
  {
   "cell_type": "code",
   "execution_count": null,
   "metadata": {},
   "outputs": [],
   "source": [
    "plt.figure(figsize=(12,8))\n",
    "ax = sns.boxplot(x='region',y='daily_CF',hue='type',data=CF_Cd_tidy,palette=col_refuel3,linewidth=3)\n",
    "ax.legend(loc='center right', bbox_to_anchor=(1.25, 0.5))\n",
    "plt.ylim(0,1)\n",
    "fig = ax.get_figure()\n",
    "fig.savefig(south_africa_path+'/results/plots/CFs/regions_ERA5_daily.png')"
   ]
  },
  {
   "cell_type": "code",
   "execution_count": null,
   "metadata": {},
   "outputs": [],
   "source": []
  },
  {
   "cell_type": "code",
   "execution_count": null,
   "metadata": {},
   "outputs": [],
   "source": []
  },
  {
   "cell_type": "code",
   "execution_count": null,
   "metadata": {},
   "outputs": [],
   "source": []
  },
  {
   "cell_type": "code",
   "execution_count": null,
   "metadata": {},
   "outputs": [],
   "source": []
  },
  {
   "cell_type": "code",
   "execution_count": null,
   "metadata": {},
   "outputs": [],
   "source": []
  },
  {
   "cell_type": "code",
   "execution_count": null,
   "metadata": {},
   "outputs": [],
   "source": []
  }
 ],
 "metadata": {
  "kernelspec": {
   "display_name": "Python 3",
   "language": "python",
   "name": "python3"
  },
  "language_info": {
   "codemirror_mode": {
    "name": "ipython",
    "version": 3
   },
   "file_extension": ".py",
   "mimetype": "text/x-python",
   "name": "python",
   "nbconvert_exporter": "python",
   "pygments_lexer": "ipython3",
   "version": "3.7.0"
  }
 },
 "nbformat": 4,
 "nbformat_minor": 2
}
