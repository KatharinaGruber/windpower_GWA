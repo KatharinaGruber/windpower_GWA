{
 "cells": [
  {
   "cell_type": "code",
   "execution_count": 1,
   "metadata": {},
   "outputs": [],
   "source": [
    "import pandas as pd\n",
    "import numpy as np\n",
    "import scipy.stats as st"
   ]
  },
  {
   "cell_type": "code",
   "execution_count": 2,
   "metadata": {},
   "outputs": [],
   "source": [
    "from paths import *"
   ]
  },
  {
   "cell_type": "code",
   "execution_count": 3,
   "metadata": {},
   "outputs": [],
   "source": [
    "res = pd.read_pickle(results_path + '/results_merged.pkl')"
   ]
  },
  {
   "cell_type": "markdown",
   "metadata": {},
   "source": [
    "# Correlation\n",
    "ERA5: all significantly different; noGWA lower than GWA2 and GWA3; GWA3 lower than GWA2 -> **GWA2 best**\n",
    "\n",
    "per country: no GWA often lower than with GWA, only in NZ GWA3 higher than GWA2\n",
    "\n",
    "MERRA2: no GWA significantly higher than GWA2, noGWA sig. higher than GWA3 (no sig. diff. betewen GWA2 and GWA3) -> **noGWA best**\n",
    "\n",
    "per country: USA and ZAF no sig. differences, BRA and NZ no GWA better than GWA, NZ GWA2 better than GWA3"
   ]
  },
  {
   "cell_type": "markdown",
   "metadata": {},
   "source": [
    "## ERA5"
   ]
  },
  {
   "cell_type": "code",
   "execution_count": 4,
   "metadata": {},
   "outputs": [],
   "source": [
    "noGWA = res[(res.dataset=='ERA5')&(res.param=='cor')&(res.GWA=='none')]\n",
    "GWA2 = res[(res.dataset=='ERA5')&(res.param=='cor')&(res.GWA=='GWA2')]\n",
    "GWA3 = res[(res.dataset=='ERA5')&(res.param=='cor')&(res.GWA=='GWA3')]"
   ]
  },
  {
   "cell_type": "code",
   "execution_count": 5,
   "metadata": {},
   "outputs": [
    {
     "data": {
      "text/plain": [
       "Ttest_relResult(statistic=-5.046543815498847, pvalue=9.505609580800712e-07)"
      ]
     },
     "execution_count": 5,
     "metadata": {},
     "output_type": "execute_result"
    }
   ],
   "source": [
    "st.ttest_rel(noGWA.value,GWA2.value)"
   ]
  },
  {
   "cell_type": "markdown",
   "metadata": {},
   "source": [
    "GWA2 correlation significantly higher than no GWA correlation"
   ]
  },
  {
   "cell_type": "code",
   "execution_count": 7,
   "metadata": {},
   "outputs": [
    {
     "data": {
      "text/plain": [
       "Ttest_relResult(statistic=-3.1729461313376706, pvalue=0.0017276848379550664)"
      ]
     },
     "execution_count": 7,
     "metadata": {},
     "output_type": "execute_result"
    }
   ],
   "source": [
    "st.ttest_rel(noGWA.value,GWA3.value)"
   ]
  },
  {
   "cell_type": "markdown",
   "metadata": {},
   "source": [
    "GWA3 correlation significantly higher than no GWA correlation"
   ]
  },
  {
   "cell_type": "code",
   "execution_count": 6,
   "metadata": {},
   "outputs": [
    {
     "data": {
      "text/plain": [
       "Ttest_relResult(statistic=-2.6161953898877, pvalue=0.009516221080131976)"
      ]
     },
     "execution_count": 6,
     "metadata": {},
     "output_type": "execute_result"
    }
   ],
   "source": [
    "st.ttest_rel(GWA3.value,GWA2.value)"
   ]
  },
  {
   "cell_type": "markdown",
   "metadata": {},
   "source": [
    "GWA2 correlation significantly higher than GWA3 correlation"
   ]
  },
  {
   "cell_type": "code",
   "execution_count": 10,
   "metadata": {},
   "outputs": [
    {
     "data": {
      "text/plain": [
       "<matplotlib.axes._subplots.AxesSubplot at 0x7f16a49b6320>"
      ]
     },
     "execution_count": 10,
     "metadata": {},
     "output_type": "execute_result"
    },
    {
     "data": {
      "image/png": "[encoded data removed]",
      "text/plain": [
       "<Figure size 432x288 with 1 Axes>"
      ]
     },
     "metadata": {
      "needs_background": "light"
     },
     "output_type": "display_data"
    }
   ],
   "source": [
    "pd.DataFrame({'noGWA':noGWA.value,\n",
    "              'GWA2':GWA2.value,\n",
    "              'GWA3':GWA3.value}).boxplot()"
   ]
  },
  {
   "cell_type": "markdown",
   "metadata": {
    "heading_collapsed": true
   },
   "source": [
    "### per country"
   ]
  },
  {
   "cell_type": "markdown",
   "metadata": {
    "hidden": true
   },
   "source": [
    "#### Brazil"
   ]
  },
  {
   "cell_type": "code",
   "execution_count": 13,
   "metadata": {
    "hidden": true
   },
   "outputs": [
    {
     "data": {
      "text/plain": [
       "Ttest_relResult(statistic=-2.0614721430814757, pvalue=0.04110800015635795)"
      ]
     },
     "execution_count": 13,
     "metadata": {},
     "output_type": "execute_result"
    }
   ],
   "source": [
    "st.ttest_rel(noGWA[noGWA.country=='BRA'].value,GWA2[GWA2.country=='BRA'].value)"
   ]
  },
  {
   "cell_type": "code",
   "execution_count": 14,
   "metadata": {
    "hidden": true
   },
   "outputs": [
    {
     "data": {
      "text/plain": [
       "Ttest_relResult(statistic=-1.91645857153292, pvalue=0.057344580366955986)"
      ]
     },
     "execution_count": 14,
     "metadata": {},
     "output_type": "execute_result"
    }
   ],
   "source": [
    "st.ttest_rel(noGWA[noGWA.country=='BRA'].value,GWA3[GWA3.country=='BRA'].value)"
   ]
  },
  {
   "cell_type": "code",
   "execution_count": 16,
   "metadata": {
    "hidden": true
   },
   "outputs": [
    {
     "data": {
      "text/plain": [
       "Ttest_relResult(statistic=-0.25314838119179517, pvalue=0.8005248980636767)"
      ]
     },
     "execution_count": 16,
     "metadata": {},
     "output_type": "execute_result"
    }
   ],
   "source": [
    "st.ttest_rel(GWA3[GWA3.country=='BRA'].value,GWA2[GWA2.country=='BRA'].value)"
   ]
  },
  {
   "cell_type": "markdown",
   "metadata": {
    "hidden": true
   },
   "source": [
    "in Brazil only GWA2 significantly higher than no GWA, rest not significant\n",
    "\n",
    "**GWA2 > noGWA**"
   ]
  },
  {
   "cell_type": "markdown",
   "metadata": {
    "hidden": true
   },
   "source": [
    "#### New Zealand"
   ]
  },
  {
   "cell_type": "code",
   "execution_count": 17,
   "metadata": {
    "hidden": true
   },
   "outputs": [
    {
     "data": {
      "text/plain": [
       "Ttest_relResult(statistic=-5.299395661065028, pvalue=1.5275277787311917e-05)"
      ]
     },
     "execution_count": 17,
     "metadata": {},
     "output_type": "execute_result"
    }
   ],
   "source": [
    "st.ttest_rel(noGWA[noGWA.country=='NZ'].value,GWA2[GWA2.country=='NZ'].value)"
   ]
  },
  {
   "cell_type": "code",
   "execution_count": 18,
   "metadata": {
    "hidden": true
   },
   "outputs": [
    {
     "data": {
      "text/plain": [
       "Ttest_relResult(statistic=-0.5939183129093394, pvalue=0.5576993527725649)"
      ]
     },
     "execution_count": 18,
     "metadata": {},
     "output_type": "execute_result"
    }
   ],
   "source": [
    "st.ttest_rel(noGWA[noGWA.country=='NZ'].value,GWA3[GWA3.country=='NZ'].value)"
   ]
  },
  {
   "cell_type": "code",
   "execution_count": 19,
   "metadata": {
    "hidden": true
   },
   "outputs": [
    {
     "data": {
      "text/plain": [
       "Ttest_relResult(statistic=-7.630865536298493, pvalue=4.239639309497164e-08)"
      ]
     },
     "execution_count": 19,
     "metadata": {},
     "output_type": "execute_result"
    }
   ],
   "source": [
    "st.ttest_rel(GWA3[GWA3.country=='NZ'].value,GWA2[GWA2.country=='NZ'].value)"
   ]
  },
  {
   "cell_type": "markdown",
   "metadata": {
    "hidden": true
   },
   "source": [
    "in New Zealand GWA2 significantly higher than no GWA and GWA3 significantly higher than GWA3, but GWA3 not significantly different from no GWA\n",
    "\n",
    "**GWA2 > noGWA**\n",
    "\n",
    "**GWA3 > GWA2**"
   ]
  },
  {
   "cell_type": "markdown",
   "metadata": {
    "hidden": true
   },
   "source": [
    "#### USA"
   ]
  },
  {
   "cell_type": "code",
   "execution_count": 20,
   "metadata": {
    "hidden": true
   },
   "outputs": [
    {
     "data": {
      "text/plain": [
       "Ttest_relResult(statistic=-2.242138558371476, pvalue=0.0310324456142372)"
      ]
     },
     "execution_count": 20,
     "metadata": {},
     "output_type": "execute_result"
    }
   ],
   "source": [
    "st.ttest_rel(noGWA[noGWA.country=='USA'].value,GWA2[GWA2.country=='USA'].value)"
   ]
  },
  {
   "cell_type": "code",
   "execution_count": 21,
   "metadata": {
    "hidden": true
   },
   "outputs": [
    {
     "data": {
      "text/plain": [
       "Ttest_relResult(statistic=-2.4594601145413124, pvalue=0.018711327428374582)"
      ]
     },
     "execution_count": 21,
     "metadata": {},
     "output_type": "execute_result"
    }
   ],
   "source": [
    "st.ttest_rel(noGWA[noGWA.country=='USA'].value,GWA3[GWA3.country=='USA'].value)"
   ]
  },
  {
   "cell_type": "code",
   "execution_count": 22,
   "metadata": {
    "hidden": true
   },
   "outputs": [
    {
     "data": {
      "text/plain": [
       "Ttest_relResult(statistic=1.6982791239839046, pvalue=0.09785110085270422)"
      ]
     },
     "execution_count": 22,
     "metadata": {},
     "output_type": "execute_result"
    }
   ],
   "source": [
    "st.ttest_rel(GWA3[GWA3.country=='USA'].value,GWA2[GWA2.country=='USA'].value)"
   ]
  },
  {
   "cell_type": "markdown",
   "metadata": {
    "hidden": true
   },
   "source": [
    "in USA GWA2 and GWA3 significantly higher than no GWA\n",
    "\n",
    "**GWA2 > noGWA**\n",
    "\n",
    "**GWA3 > noGWA**"
   ]
  },
  {
   "cell_type": "markdown",
   "metadata": {
    "hidden": true
   },
   "source": [
    "#### South Africa"
   ]
  },
  {
   "cell_type": "code",
   "execution_count": 23,
   "metadata": {
    "hidden": true
   },
   "outputs": [
    {
     "data": {
      "text/plain": [
       "Ttest_relResult(statistic=-1.3993667330902397, pvalue=0.18926528086148875)"
      ]
     },
     "execution_count": 23,
     "metadata": {},
     "output_type": "execute_result"
    }
   ],
   "source": [
    "st.ttest_rel(noGWA[noGWA.country=='ZAF'].value,GWA2[GWA2.country=='ZAF'].value)"
   ]
  },
  {
   "cell_type": "code",
   "execution_count": 24,
   "metadata": {
    "hidden": true
   },
   "outputs": [
    {
     "data": {
      "text/plain": [
       "Ttest_relResult(statistic=-1.813619228555631, pvalue=0.09708207620645826)"
      ]
     },
     "execution_count": 24,
     "metadata": {},
     "output_type": "execute_result"
    }
   ],
   "source": [
    "st.ttest_rel(noGWA[noGWA.country=='ZAF'].value,GWA3[GWA3.country=='ZAF'].value)"
   ]
  },
  {
   "cell_type": "code",
   "execution_count": 25,
   "metadata": {
    "hidden": true
   },
   "outputs": [
    {
     "data": {
      "text/plain": [
       "Ttest_relResult(statistic=-0.7100889679622936, pvalue=0.4924283407517661)"
      ]
     },
     "execution_count": 25,
     "metadata": {},
     "output_type": "execute_result"
    }
   ],
   "source": [
    "st.ttest_rel(GWA3[GWA3.country=='ZAF'].value,GWA2[GWA2.country=='ZAF'].value)"
   ]
  },
  {
   "cell_type": "markdown",
   "metadata": {
    "hidden": true
   },
   "source": [
    "no significant differences in South Africa"
   ]
  },
  {
   "cell_type": "code",
   "execution_count": null,
   "metadata": {
    "hidden": true
   },
   "outputs": [],
   "source": []
  },
  {
   "cell_type": "code",
   "execution_count": null,
   "metadata": {
    "hidden": true
   },
   "outputs": [],
   "source": []
  },
  {
   "cell_type": "code",
   "execution_count": null,
   "metadata": {
    "hidden": true
   },
   "outputs": [],
   "source": []
  },
  {
   "cell_type": "raw",
   "metadata": {
    "hidden": true
   },
   "source": []
  },
  {
   "cell_type": "markdown",
   "metadata": {},
   "source": [
    "## MERRA2"
   ]
  },
  {
   "cell_type": "code",
   "execution_count": 36,
   "metadata": {},
   "outputs": [],
   "source": [
    "noGWA = res[(res.dataset=='MERRA2')&(res.param=='cor')&(res.GWA=='none')]\n",
    "GWA2 = res[(res.dataset=='MERRA2')&(res.param=='cor')&(res.GWA=='GWA2')]\n",
    "GWA3 = res[(res.dataset=='MERRA2')&(res.param=='cor')&(res.GWA=='GWA3')]"
   ]
  },
  {
   "cell_type": "code",
   "execution_count": 37,
   "metadata": {},
   "outputs": [
    {
     "data": {
      "text/plain": [
       "Ttest_relResult(statistic=3.7747877930091294, pvalue=0.00020670520467805332)"
      ]
     },
     "execution_count": 37,
     "metadata": {},
     "output_type": "execute_result"
    }
   ],
   "source": [
    "st.ttest_rel(noGWA.value,GWA2.value)"
   ]
  },
  {
   "cell_type": "markdown",
   "metadata": {},
   "source": [
    "GWA2 significantly lower than no GWA"
   ]
  },
  {
   "cell_type": "code",
   "execution_count": 38,
   "metadata": {},
   "outputs": [
    {
     "data": {
      "text/plain": [
       "Ttest_relResult(statistic=3.4629560625948996, pvalue=0.0006435159661427761)"
      ]
     },
     "execution_count": 38,
     "metadata": {},
     "output_type": "execute_result"
    }
   ],
   "source": [
    "st.ttest_rel(noGWA.value,GWA3.value)"
   ]
  },
  {
   "cell_type": "markdown",
   "metadata": {},
   "source": [
    "GWA3 significantly lower than no GWA"
   ]
  },
  {
   "cell_type": "code",
   "execution_count": 39,
   "metadata": {},
   "outputs": [
    {
     "data": {
      "text/plain": [
       "Ttest_relResult(statistic=-0.8533155894859956, pvalue=0.3944252337036359)"
      ]
     },
     "execution_count": 39,
     "metadata": {},
     "output_type": "execute_result"
    }
   ],
   "source": [
    "st.ttest_rel(GWA3.value,GWA2.value)"
   ]
  },
  {
   "cell_type": "markdown",
   "metadata": {},
   "source": [
    "no significance"
   ]
  },
  {
   "cell_type": "code",
   "execution_count": 40,
   "metadata": {},
   "outputs": [
    {
     "data": {
      "text/plain": [
       "<matplotlib.axes._subplots.AxesSubplot at 0x7f16a3a08278>"
      ]
     },
     "execution_count": 40,
     "metadata": {},
     "output_type": "execute_result"
    },
    {
     "data": {
      "image/png": "[encoded data removed]",
      "text/plain": [
       "<Figure size 432x288 with 1 Axes>"
      ]
     },
     "metadata": {
      "needs_background": "light"
     },
     "output_type": "display_data"
    }
   ],
   "source": [
    "pd.DataFrame({'noGWA':noGWA.value,\n",
    "              'GWA2':GWA2.value,\n",
    "              'GWA3':GWA3.value}).boxplot()"
   ]
  },
  {
   "cell_type": "markdown",
   "metadata": {
    "heading_collapsed": true
   },
   "source": [
    "### per country"
   ]
  },
  {
   "cell_type": "markdown",
   "metadata": {
    "hidden": true
   },
   "source": [
    "#### Brazil"
   ]
  },
  {
   "cell_type": "code",
   "execution_count": 42,
   "metadata": {
    "hidden": true
   },
   "outputs": [
    {
     "data": {
      "text/plain": [
       "Ttest_relResult(statistic=7.320060358778513, pvalue=1.7683769312388185e-11)"
      ]
     },
     "execution_count": 42,
     "metadata": {},
     "output_type": "execute_result"
    }
   ],
   "source": [
    "st.ttest_rel(noGWA[noGWA.country=='BRA'].value,GWA2[GWA2.country=='BRA'].value)"
   ]
  },
  {
   "cell_type": "code",
   "execution_count": 43,
   "metadata": {
    "hidden": true
   },
   "outputs": [
    {
     "data": {
      "text/plain": [
       "Ttest_relResult(statistic=7.001082887783208, pvalue=9.706012697394463e-11)"
      ]
     },
     "execution_count": 43,
     "metadata": {},
     "output_type": "execute_result"
    }
   ],
   "source": [
    "st.ttest_rel(noGWA[noGWA.country=='BRA'].value,GWA3[GWA3.country=='BRA'].value)"
   ]
  },
  {
   "cell_type": "code",
   "execution_count": 44,
   "metadata": {
    "hidden": true
   },
   "outputs": [
    {
     "data": {
      "text/plain": [
       "Ttest_relResult(statistic=0.08631161263128534, pvalue=0.9313420274108566)"
      ]
     },
     "execution_count": 44,
     "metadata": {},
     "output_type": "execute_result"
    }
   ],
   "source": [
    "st.ttest_rel(GWA3[GWA3.country=='BRA'].value,GWA2[GWA2.country=='BRA'].value)"
   ]
  },
  {
   "cell_type": "markdown",
   "metadata": {
    "hidden": true
   },
   "source": [
    "in Brazil only no GWA significantly higher than GWA2 and GWA3\n",
    "\n",
    "**no GWA > GWA2, GWA3**"
   ]
  },
  {
   "cell_type": "markdown",
   "metadata": {
    "hidden": true
   },
   "source": [
    "#### New Zealand"
   ]
  },
  {
   "cell_type": "code",
   "execution_count": 45,
   "metadata": {
    "hidden": true
   },
   "outputs": [
    {
     "data": {
      "text/plain": [
       "Ttest_relResult(statistic=-2.550302950121981, pvalue=0.01699876354524132)"
      ]
     },
     "execution_count": 45,
     "metadata": {},
     "output_type": "execute_result"
    }
   ],
   "source": [
    "st.ttest_rel(noGWA[noGWA.country=='NZ'].value,GWA2[GWA2.country=='NZ'].value)"
   ]
  },
  {
   "cell_type": "code",
   "execution_count": 46,
   "metadata": {
    "hidden": true
   },
   "outputs": [
    {
     "data": {
      "text/plain": [
       "Ttest_relResult(statistic=6.20551896684007, pvalue=1.4521152433643753e-06)"
      ]
     },
     "execution_count": 46,
     "metadata": {},
     "output_type": "execute_result"
    }
   ],
   "source": [
    "st.ttest_rel(noGWA[noGWA.country=='NZ'].value,GWA3[GWA3.country=='NZ'].value)"
   ]
  },
  {
   "cell_type": "code",
   "execution_count": 47,
   "metadata": {
    "hidden": true
   },
   "outputs": [
    {
     "data": {
      "text/plain": [
       "Ttest_relResult(statistic=-6.868357455744683, pvalue=2.725233402910324e-07)"
      ]
     },
     "execution_count": 47,
     "metadata": {},
     "output_type": "execute_result"
    }
   ],
   "source": [
    "st.ttest_rel(GWA3[GWA3.country=='NZ'].value,GWA2[GWA2.country=='NZ'].value)"
   ]
  },
  {
   "cell_type": "markdown",
   "metadata": {
    "hidden": true
   },
   "source": [
    "in New Zealand noGWA significantly higher than GWA2 and GWA3, GWA3 significantly lower than GWA2\n",
    "\n",
    "**noGWA > GWA2, GWA3**\n",
    "\n",
    "**GWA2 > GWA3**\n",
    "-> noGWA > GWA2 > GWA3"
   ]
  },
  {
   "cell_type": "markdown",
   "metadata": {
    "hidden": true
   },
   "source": [
    "#### USA"
   ]
  },
  {
   "cell_type": "code",
   "execution_count": 48,
   "metadata": {
    "hidden": true
   },
   "outputs": [
    {
     "data": {
      "text/plain": [
       "Ttest_relResult(statistic=-0.20307453728955052, pvalue=0.840189446348716)"
      ]
     },
     "execution_count": 48,
     "metadata": {},
     "output_type": "execute_result"
    }
   ],
   "source": [
    "st.ttest_rel(noGWA[noGWA.country=='USA'].value,GWA2[GWA2.country=='USA'].value)"
   ]
  },
  {
   "cell_type": "code",
   "execution_count": 49,
   "metadata": {
    "hidden": true
   },
   "outputs": [
    {
     "data": {
      "text/plain": [
       "Ttest_relResult(statistic=-1.8018191534290149, pvalue=0.0797265569076065)"
      ]
     },
     "execution_count": 49,
     "metadata": {},
     "output_type": "execute_result"
    }
   ],
   "source": [
    "st.ttest_rel(noGWA[noGWA.country=='USA'].value,GWA3[GWA3.country=='USA'].value)"
   ]
  },
  {
   "cell_type": "code",
   "execution_count": 50,
   "metadata": {
    "hidden": true
   },
   "outputs": [
    {
     "data": {
      "text/plain": [
       "Ttest_relResult(statistic=1.8323943325899728, pvalue=0.07495056141055778)"
      ]
     },
     "execution_count": 50,
     "metadata": {},
     "output_type": "execute_result"
    }
   ],
   "source": [
    "st.ttest_rel(GWA3[GWA3.country=='USA'].value,GWA2[GWA2.country=='USA'].value)"
   ]
  },
  {
   "cell_type": "markdown",
   "metadata": {
    "hidden": true
   },
   "source": [
    "no significant differences in USA"
   ]
  },
  {
   "cell_type": "markdown",
   "metadata": {
    "hidden": true
   },
   "source": [
    "#### South Africa"
   ]
  },
  {
   "cell_type": "code",
   "execution_count": 51,
   "metadata": {
    "hidden": true
   },
   "outputs": [
    {
     "data": {
      "text/plain": [
       "Ttest_relResult(statistic=0.03514223040320899, pvalue=0.9725959334769045)"
      ]
     },
     "execution_count": 51,
     "metadata": {},
     "output_type": "execute_result"
    }
   ],
   "source": [
    "st.ttest_rel(noGWA[noGWA.country=='ZAF'].value,GWA2[GWA2.country=='ZAF'].value)"
   ]
  },
  {
   "cell_type": "code",
   "execution_count": 52,
   "metadata": {
    "hidden": true
   },
   "outputs": [
    {
     "data": {
      "text/plain": [
       "Ttest_relResult(statistic=-0.7832946516314364, pvalue=0.4499901334585298)"
      ]
     },
     "execution_count": 52,
     "metadata": {},
     "output_type": "execute_result"
    }
   ],
   "source": [
    "st.ttest_rel(noGWA[noGWA.country=='ZAF'].value,GWA3[GWA3.country=='ZAF'].value)"
   ]
  },
  {
   "cell_type": "code",
   "execution_count": 53,
   "metadata": {
    "hidden": true
   },
   "outputs": [
    {
     "data": {
      "text/plain": [
       "Ttest_relResult(statistic=1.038361949992083, pvalue=0.32138818196580493)"
      ]
     },
     "execution_count": 53,
     "metadata": {},
     "output_type": "execute_result"
    }
   ],
   "source": [
    "st.ttest_rel(GWA3[GWA3.country=='ZAF'].value,GWA2[GWA2.country=='ZAF'].value)"
   ]
  },
  {
   "cell_type": "markdown",
   "metadata": {
    "hidden": true
   },
   "source": [
    "no significant differences in South Africa"
   ]
  },
  {
   "cell_type": "markdown",
   "metadata": {},
   "source": [
    "# RMSE\n",
    "(in the context of RMSE > means better, not higher)\n",
    "\n",
    "ERA5: GWA2 lowest RMSE, then GWA2, then GWA3 **GWA2 > noGWA > GWA3**\n",
    "\n",
    "countries:\n",
    "\n",
    "MERRA2: \n",
    "\n",
    "countries:"
   ]
  },
  {
   "cell_type": "markdown",
   "metadata": {},
   "source": [
    "## ERA5"
   ]
  },
  {
   "cell_type": "code",
   "execution_count": 54,
   "metadata": {},
   "outputs": [],
   "source": [
    "noGWA = res[(res.dataset=='ERA5')&(res.param=='rmse')&(res.GWA=='none')]\n",
    "GWA2 = res[(res.dataset=='ERA5')&(res.param=='rmse')&(res.GWA=='GWA2')]\n",
    "GWA3 = res[(res.dataset=='ERA5')&(res.param=='rmse')&(res.GWA=='GWA3')]"
   ]
  },
  {
   "cell_type": "code",
   "execution_count": 55,
   "metadata": {},
   "outputs": [
    {
     "data": {
      "text/plain": [
       "Ttest_relResult(statistic=3.8856098383045703, pvalue=0.00013558681760364403)"
      ]
     },
     "execution_count": 55,
     "metadata": {},
     "output_type": "execute_result"
    }
   ],
   "source": [
    "st.ttest_rel(noGWA.value,GWA2.value)"
   ]
  },
  {
   "cell_type": "markdown",
   "metadata": {},
   "source": [
    "no GWA significantly higher than GWA2"
   ]
  },
  {
   "cell_type": "code",
   "execution_count": 56,
   "metadata": {},
   "outputs": [
    {
     "data": {
      "text/plain": [
       "Ttest_relResult(statistic=-3.933437705906049, pvalue=0.00011270054071833383)"
      ]
     },
     "execution_count": 56,
     "metadata": {},
     "output_type": "execute_result"
    }
   ],
   "source": [
    "st.ttest_rel(noGWA.value,GWA3.value)"
   ]
  },
  {
   "cell_type": "markdown",
   "metadata": {},
   "source": [
    "no GWA significantly lower than GWA3"
   ]
  },
  {
   "cell_type": "code",
   "execution_count": 57,
   "metadata": {},
   "outputs": [
    {
     "data": {
      "text/plain": [
       "Ttest_relResult(statistic=8.547488908863171, pvalue=2.253881508641861e-15)"
      ]
     },
     "execution_count": 57,
     "metadata": {},
     "output_type": "execute_result"
    }
   ],
   "source": [
    "st.ttest_rel(GWA3.value,GWA2.value)"
   ]
  },
  {
   "cell_type": "markdown",
   "metadata": {},
   "source": [
    "GWA3 significantly higher than GWA2"
   ]
  },
  {
   "cell_type": "code",
   "execution_count": 58,
   "metadata": {},
   "outputs": [
    {
     "data": {
      "text/plain": [
       "<matplotlib.axes._subplots.AxesSubplot at 0x7f16a37490f0>"
      ]
     },
     "execution_count": 58,
     "metadata": {},
     "output_type": "execute_result"
    },
    {
     "data": {
      "image/png": "[encoded data removed]",
      "text/plain": [
       "<Figure size 432x288 with 1 Axes>"
      ]
     },
     "metadata": {
      "needs_background": "light"
     },
     "output_type": "display_data"
    }
   ],
   "source": [
    "pd.DataFrame({'noGWA':noGWA.value,\n",
    "              'GWA2':GWA2.value,\n",
    "              'GWA3':GWA3.value}).boxplot()"
   ]
  },
  {
   "cell_type": "markdown",
   "metadata": {},
   "source": [
    "### per country"
   ]
  },
  {
   "cell_type": "markdown",
   "metadata": {},
   "source": [
    "#### Brazil"
   ]
  },
  {
   "cell_type": "code",
   "execution_count": 60,
   "metadata": {},
   "outputs": [
    {
     "data": {
      "text/plain": [
       "Ttest_relResult(statistic=2.42919374299123, pvalue=0.016399997034778478)"
      ]
     },
     "execution_count": 60,
     "metadata": {},
     "output_type": "execute_result"
    }
   ],
   "source": [
    "st.ttest_rel(noGWA[noGWA.country=='BRA'].value,GWA2[GWA2.country=='BRA'].value)"
   ]
  },
  {
   "cell_type": "code",
   "execution_count": 61,
   "metadata": {},
   "outputs": [
    {
     "data": {
      "text/plain": [
       "Ttest_relResult(statistic=-0.2604193014972227, pvalue=0.7949229908882635)"
      ]
     },
     "execution_count": 61,
     "metadata": {},
     "output_type": "execute_result"
    }
   ],
   "source": [
    "st.ttest_rel(noGWA[noGWA.country=='BRA'].value,GWA3[GWA3.country=='BRA'].value)"
   ]
  },
  {
   "cell_type": "code",
   "execution_count": 62,
   "metadata": {},
   "outputs": [
    {
     "data": {
      "text/plain": [
       "Ttest_relResult(statistic=3.1061155787143244, pvalue=0.0022953408949558103)"
      ]
     },
     "execution_count": 62,
     "metadata": {},
     "output_type": "execute_result"
    }
   ],
   "source": [
    "st.ttest_rel(GWA3[GWA3.country=='BRA'].value,GWA2[GWA2.country=='BRA'].value)"
   ]
  },
  {
   "cell_type": "markdown",
   "metadata": {},
   "source": [
    "in Brazil no GWA and GWA3 significantly higher RMSE than GWA2\n",
    "\n",
    "**GWA2 > no GWA, GWA3**"
   ]
  },
  {
   "cell_type": "markdown",
   "metadata": {},
   "source": [
    "#### New Zealand"
   ]
  },
  {
   "cell_type": "code",
   "execution_count": 63,
   "metadata": {},
   "outputs": [
    {
     "data": {
      "text/plain": [
       "Ttest_relResult(statistic=3.7817430043918714, pvalue=0.0008238905081136698)"
      ]
     },
     "execution_count": 63,
     "metadata": {},
     "output_type": "execute_result"
    }
   ],
   "source": [
    "st.ttest_rel(noGWA[noGWA.country=='NZ'].value,GWA2[GWA2.country=='NZ'].value)"
   ]
  },
  {
   "cell_type": "code",
   "execution_count": 64,
   "metadata": {},
   "outputs": [
    {
     "data": {
      "text/plain": [
       "Ttest_relResult(statistic=-2.738589688205626, pvalue=0.010991050815131156)"
      ]
     },
     "execution_count": 64,
     "metadata": {},
     "output_type": "execute_result"
    }
   ],
   "source": [
    "st.ttest_rel(noGWA[noGWA.country=='NZ'].value,GWA3[GWA3.country=='NZ'].value)"
   ]
  },
  {
   "cell_type": "code",
   "execution_count": 65,
   "metadata": {},
   "outputs": [
    {
     "data": {
      "text/plain": [
       "Ttest_relResult(statistic=18.295136457985972, pvalue=2.274529043481028e-16)"
      ]
     },
     "execution_count": 65,
     "metadata": {},
     "output_type": "execute_result"
    }
   ],
   "source": [
    "st.ttest_rel(GWA3[GWA3.country=='NZ'].value,GWA2[GWA2.country=='NZ'].value)"
   ]
  },
  {
   "cell_type": "markdown",
   "metadata": {},
   "source": [
    "in New Zealand noGWA significantly higher RMSE than GWA2, GWA3 significantly higher RMSE than GWA2 and noGWA\n",
    "\n",
    "**GWA2 > no GWA > GWA3**"
   ]
  },
  {
   "cell_type": "markdown",
   "metadata": {},
   "source": [
    "#### USA"
   ]
  },
  {
   "cell_type": "code",
   "execution_count": 48,
   "metadata": {},
   "outputs": [
    {
     "data": {
      "text/plain": [
       "Ttest_relResult(statistic=-0.20307453728955052, pvalue=0.840189446348716)"
      ]
     },
     "execution_count": 48,
     "metadata": {},
     "output_type": "execute_result"
    }
   ],
   "source": [
    "st.ttest_rel(noGWA[noGWA.country=='USA'].value,GWA2[GWA2.country=='USA'].value)"
   ]
  },
  {
   "cell_type": "code",
   "execution_count": 49,
   "metadata": {},
   "outputs": [
    {
     "data": {
      "text/plain": [
       "Ttest_relResult(statistic=-1.8018191534290149, pvalue=0.0797265569076065)"
      ]
     },
     "execution_count": 49,
     "metadata": {},
     "output_type": "execute_result"
    }
   ],
   "source": [
    "st.ttest_rel(noGWA[noGWA.country=='USA'].value,GWA3[GWA3.country=='USA'].value)"
   ]
  },
  {
   "cell_type": "code",
   "execution_count": 50,
   "metadata": {},
   "outputs": [
    {
     "data": {
      "text/plain": [
       "Ttest_relResult(statistic=1.8323943325899728, pvalue=0.07495056141055778)"
      ]
     },
     "execution_count": 50,
     "metadata": {},
     "output_type": "execute_result"
    }
   ],
   "source": [
    "st.ttest_rel(GWA3[GWA3.country=='USA'].value,GWA2[GWA2.country=='USA'].value)"
   ]
  },
  {
   "cell_type": "markdown",
   "metadata": {},
   "source": [
    "no significant differences in USA"
   ]
  },
  {
   "cell_type": "markdown",
   "metadata": {},
   "source": [
    "#### South Africa"
   ]
  },
  {
   "cell_type": "code",
   "execution_count": 51,
   "metadata": {},
   "outputs": [
    {
     "data": {
      "text/plain": [
       "Ttest_relResult(statistic=0.03514223040320899, pvalue=0.9725959334769045)"
      ]
     },
     "execution_count": 51,
     "metadata": {},
     "output_type": "execute_result"
    }
   ],
   "source": [
    "st.ttest_rel(noGWA[noGWA.country=='ZAF'].value,GWA2[GWA2.country=='ZAF'].value)"
   ]
  },
  {
   "cell_type": "code",
   "execution_count": 52,
   "metadata": {},
   "outputs": [
    {
     "data": {
      "text/plain": [
       "Ttest_relResult(statistic=-0.7832946516314364, pvalue=0.4499901334585298)"
      ]
     },
     "execution_count": 52,
     "metadata": {},
     "output_type": "execute_result"
    }
   ],
   "source": [
    "st.ttest_rel(noGWA[noGWA.country=='ZAF'].value,GWA3[GWA3.country=='ZAF'].value)"
   ]
  },
  {
   "cell_type": "code",
   "execution_count": 53,
   "metadata": {},
   "outputs": [
    {
     "data": {
      "text/plain": [
       "Ttest_relResult(statistic=1.038361949992083, pvalue=0.32138818196580493)"
      ]
     },
     "execution_count": 53,
     "metadata": {},
     "output_type": "execute_result"
    }
   ],
   "source": [
    "st.ttest_rel(GWA3[GWA3.country=='ZAF'].value,GWA2[GWA2.country=='ZAF'].value)"
   ]
  },
  {
   "cell_type": "markdown",
   "metadata": {},
   "source": [
    "no significant differences in South Africa"
   ]
  },
  {
   "cell_type": "markdown",
   "metadata": {},
   "source": [
    "## MERRA2"
   ]
  },
  {
   "cell_type": "code",
   "execution_count": 19,
   "metadata": {},
   "outputs": [],
   "source": [
    "noGWA = res[(res.dataset=='MERRA2')&(res.param=='rmse')&(res.GWA=='none')]\n",
    "GWA2 = res[(res.dataset=='MERRA2')&(res.param=='rmse')&(res.GWA=='GWA2')]\n",
    "GWA3 = res[(res.dataset=='MERRA2')&(res.param=='rmse')&(res.GWA=='GWA3')]"
   ]
  },
  {
   "cell_type": "code",
   "execution_count": 20,
   "metadata": {},
   "outputs": [
    {
     "data": {
      "text/plain": [
       "Ttest_relResult(statistic=1.5571757610543047, pvalue=0.12088597597216942)"
      ]
     },
     "execution_count": 20,
     "metadata": {},
     "output_type": "execute_result"
    }
   ],
   "source": [
    "st.ttest_rel(noGWA.value,GWA2.value)"
   ]
  },
  {
   "cell_type": "code",
   "execution_count": 21,
   "metadata": {},
   "outputs": [
    {
     "data": {
      "text/plain": [
       "Ttest_relResult(statistic=-1.374921175947233, pvalue=0.17057384075629148)"
      ]
     },
     "execution_count": 21,
     "metadata": {},
     "output_type": "execute_result"
    }
   ],
   "source": [
    "st.ttest_rel(noGWA.value,GWA3.value)"
   ]
  },
  {
   "cell_type": "code",
   "execution_count": 22,
   "metadata": {},
   "outputs": [
    {
     "data": {
      "text/plain": [
       "Ttest_relResult(statistic=4.145833637670044, pvalue=4.856439266859988e-05)"
      ]
     },
     "execution_count": 22,
     "metadata": {},
     "output_type": "execute_result"
    }
   ],
   "source": [
    "st.ttest_rel(GWA3.value,GWA2.value)"
   ]
  },
  {
   "cell_type": "code",
   "execution_count": 23,
   "metadata": {},
   "outputs": [
    {
     "data": {
      "text/plain": [
       "<matplotlib.axes._subplots.AxesSubplot at 0x7f36dfe38400>"
      ]
     },
     "execution_count": 23,
     "metadata": {},
     "output_type": "execute_result"
    },
    {
     "data": {
      "image/png": "[encoded data removed]",
      "text/plain": [
       "<Figure size 432x288 with 1 Axes>"
      ]
     },
     "metadata": {
      "needs_background": "light"
     },
     "output_type": "display_data"
    }
   ],
   "source": [
    "pd.DataFrame({'noGWA':noGWA.value,\n",
    "              'GWA2':GWA2.value,\n",
    "              'GWA3':GWA3.value}).boxplot()"
   ]
  },
  {
   "cell_type": "markdown",
   "metadata": {},
   "source": [
    "### per country"
   ]
  },
  {
   "cell_type": "markdown",
   "metadata": {},
   "source": [
    "#### Brazil"
   ]
  },
  {
   "cell_type": "code",
   "execution_count": 42,
   "metadata": {},
   "outputs": [
    {
     "data": {
      "text/plain": [
       "Ttest_relResult(statistic=7.320060358778513, pvalue=1.7683769312388185e-11)"
      ]
     },
     "execution_count": 42,
     "metadata": {},
     "output_type": "execute_result"
    }
   ],
   "source": [
    "st.ttest_rel(noGWA[noGWA.country=='BRA'].value,GWA2[GWA2.country=='BRA'].value)"
   ]
  },
  {
   "cell_type": "code",
   "execution_count": 43,
   "metadata": {},
   "outputs": [
    {
     "data": {
      "text/plain": [
       "Ttest_relResult(statistic=7.001082887783208, pvalue=9.706012697394463e-11)"
      ]
     },
     "execution_count": 43,
     "metadata": {},
     "output_type": "execute_result"
    }
   ],
   "source": [
    "st.ttest_rel(noGWA[noGWA.country=='BRA'].value,GWA3[GWA3.country=='BRA'].value)"
   ]
  },
  {
   "cell_type": "code",
   "execution_count": 44,
   "metadata": {},
   "outputs": [
    {
     "data": {
      "text/plain": [
       "Ttest_relResult(statistic=0.08631161263128534, pvalue=0.9313420274108566)"
      ]
     },
     "execution_count": 44,
     "metadata": {},
     "output_type": "execute_result"
    }
   ],
   "source": [
    "st.ttest_rel(GWA3[GWA3.country=='BRA'].value,GWA2[GWA2.country=='BRA'].value)"
   ]
  },
  {
   "cell_type": "markdown",
   "metadata": {},
   "source": [
    "in Brazil only no GWA significantly higher RMSE than GWA2 and GWA3\n",
    "\n",
    "**GWA2, GWA3 > noGWA**"
   ]
  },
  {
   "cell_type": "markdown",
   "metadata": {},
   "source": [
    "#### New Zealand"
   ]
  },
  {
   "cell_type": "code",
   "execution_count": 45,
   "metadata": {},
   "outputs": [
    {
     "data": {
      "text/plain": [
       "Ttest_relResult(statistic=-2.550302950121981, pvalue=0.01699876354524132)"
      ]
     },
     "execution_count": 45,
     "metadata": {},
     "output_type": "execute_result"
    }
   ],
   "source": [
    "st.ttest_rel(noGWA[noGWA.country=='NZ'].value,GWA2[GWA2.country=='NZ'].value)"
   ]
  },
  {
   "cell_type": "code",
   "execution_count": 46,
   "metadata": {},
   "outputs": [
    {
     "data": {
      "text/plain": [
       "Ttest_relResult(statistic=6.20551896684007, pvalue=1.4521152433643753e-06)"
      ]
     },
     "execution_count": 46,
     "metadata": {},
     "output_type": "execute_result"
    }
   ],
   "source": [
    "st.ttest_rel(noGWA[noGWA.country=='NZ'].value,GWA3[GWA3.country=='NZ'].value)"
   ]
  },
  {
   "cell_type": "code",
   "execution_count": 47,
   "metadata": {},
   "outputs": [
    {
     "data": {
      "text/plain": [
       "Ttest_relResult(statistic=-6.868357455744683, pvalue=2.725233402910324e-07)"
      ]
     },
     "execution_count": 47,
     "metadata": {},
     "output_type": "execute_result"
    }
   ],
   "source": [
    "st.ttest_rel(GWA3[GWA3.country=='NZ'].value,GWA2[GWA2.country=='NZ'].value)"
   ]
  },
  {
   "cell_type": "markdown",
   "metadata": {},
   "source": [
    "in New Zealand noGWA significantly higher than GWA2 and GWA3, GWA3 significantly lower than GWA2\n",
    "\n",
    "**noGWA > GWA2, GWA3**\n",
    "\n",
    "**GWA2 > GWA3**\n",
    "-> noGWA > GWA2 > GWA3"
   ]
  },
  {
   "cell_type": "markdown",
   "metadata": {},
   "source": [
    "#### USA"
   ]
  },
  {
   "cell_type": "code",
   "execution_count": 48,
   "metadata": {},
   "outputs": [
    {
     "data": {
      "text/plain": [
       "Ttest_relResult(statistic=-0.20307453728955052, pvalue=0.840189446348716)"
      ]
     },
     "execution_count": 48,
     "metadata": {},
     "output_type": "execute_result"
    }
   ],
   "source": [
    "st.ttest_rel(noGWA[noGWA.country=='USA'].value,GWA2[GWA2.country=='USA'].value)"
   ]
  },
  {
   "cell_type": "code",
   "execution_count": 49,
   "metadata": {},
   "outputs": [
    {
     "data": {
      "text/plain": [
       "Ttest_relResult(statistic=-1.8018191534290149, pvalue=0.0797265569076065)"
      ]
     },
     "execution_count": 49,
     "metadata": {},
     "output_type": "execute_result"
    }
   ],
   "source": [
    "st.ttest_rel(noGWA[noGWA.country=='USA'].value,GWA3[GWA3.country=='USA'].value)"
   ]
  },
  {
   "cell_type": "code",
   "execution_count": 50,
   "metadata": {},
   "outputs": [
    {
     "data": {
      "text/plain": [
       "Ttest_relResult(statistic=1.8323943325899728, pvalue=0.07495056141055778)"
      ]
     },
     "execution_count": 50,
     "metadata": {},
     "output_type": "execute_result"
    }
   ],
   "source": [
    "st.ttest_rel(GWA3[GWA3.country=='USA'].value,GWA2[GWA2.country=='USA'].value)"
   ]
  },
  {
   "cell_type": "markdown",
   "metadata": {},
   "source": [
    "no significant differences in USA"
   ]
  },
  {
   "cell_type": "markdown",
   "metadata": {},
   "source": [
    "#### South Africa"
   ]
  },
  {
   "cell_type": "code",
   "execution_count": 51,
   "metadata": {},
   "outputs": [
    {
     "data": {
      "text/plain": [
       "Ttest_relResult(statistic=0.03514223040320899, pvalue=0.9725959334769045)"
      ]
     },
     "execution_count": 51,
     "metadata": {},
     "output_type": "execute_result"
    }
   ],
   "source": [
    "st.ttest_rel(noGWA[noGWA.country=='ZAF'].value,GWA2[GWA2.country=='ZAF'].value)"
   ]
  },
  {
   "cell_type": "code",
   "execution_count": 52,
   "metadata": {},
   "outputs": [
    {
     "data": {
      "text/plain": [
       "Ttest_relResult(statistic=-0.7832946516314364, pvalue=0.4499901334585298)"
      ]
     },
     "execution_count": 52,
     "metadata": {},
     "output_type": "execute_result"
    }
   ],
   "source": [
    "st.ttest_rel(noGWA[noGWA.country=='ZAF'].value,GWA3[GWA3.country=='ZAF'].value)"
   ]
  },
  {
   "cell_type": "code",
   "execution_count": 53,
   "metadata": {},
   "outputs": [
    {
     "data": {
      "text/plain": [
       "Ttest_relResult(statistic=1.038361949992083, pvalue=0.32138818196580493)"
      ]
     },
     "execution_count": 53,
     "metadata": {},
     "output_type": "execute_result"
    }
   ],
   "source": [
    "st.ttest_rel(GWA3[GWA3.country=='ZAF'].value,GWA2[GWA2.country=='ZAF'].value)"
   ]
  },
  {
   "cell_type": "markdown",
   "metadata": {},
   "source": [
    "no significant differences in South Africa"
   ]
  },
  {
   "cell_type": "markdown",
   "metadata": {
    "heading_collapsed": true
   },
   "source": [
    "# MBE"
   ]
  },
  {
   "cell_type": "markdown",
   "metadata": {
    "heading_collapsed": true,
    "hidden": true
   },
   "source": [
    "## ERA5"
   ]
  },
  {
   "cell_type": "code",
   "execution_count": 24,
   "metadata": {
    "hidden": true
   },
   "outputs": [],
   "source": [
    "noGWA = res[(res.dataset=='ERA5')&(res.param=='mbe')&(res.GWA=='none')]\n",
    "GWA2 = res[(res.dataset=='ERA5')&(res.param=='mbe')&(res.GWA=='GWA2')]\n",
    "GWA3 = res[(res.dataset=='ERA5')&(res.param=='mbe')&(res.GWA=='GWA3')]"
   ]
  },
  {
   "cell_type": "code",
   "execution_count": 25,
   "metadata": {
    "hidden": true
   },
   "outputs": [
    {
     "data": {
      "text/plain": [
       "Ttest_relResult(statistic=-0.9534032995628747, pvalue=0.3414465648898466)"
      ]
     },
     "execution_count": 25,
     "metadata": {},
     "output_type": "execute_result"
    }
   ],
   "source": [
    "st.ttest_rel(noGWA.value,GWA2.value)"
   ]
  },
  {
   "cell_type": "code",
   "execution_count": 26,
   "metadata": {
    "hidden": true
   },
   "outputs": [
    {
     "data": {
      "text/plain": [
       "Ttest_relResult(statistic=-10.808445070821678, pvalue=4.592352105129053e-22)"
      ]
     },
     "execution_count": 26,
     "metadata": {},
     "output_type": "execute_result"
    }
   ],
   "source": [
    "st.ttest_rel(noGWA.value,GWA3.value)"
   ]
  },
  {
   "cell_type": "code",
   "execution_count": 27,
   "metadata": {
    "hidden": true
   },
   "outputs": [
    {
     "data": {
      "text/plain": [
       "Ttest_relResult(statistic=42.25353557266068, pvalue=1.1127667000104472e-106)"
      ]
     },
     "execution_count": 27,
     "metadata": {},
     "output_type": "execute_result"
    }
   ],
   "source": [
    "st.ttest_rel(GWA3.value,GWA2.value)"
   ]
  },
  {
   "cell_type": "code",
   "execution_count": 28,
   "metadata": {
    "hidden": true
   },
   "outputs": [
    {
     "data": {
      "text/plain": [
       "<matplotlib.axes._subplots.AxesSubplot at 0x7f36dfd7e128>"
      ]
     },
     "execution_count": 28,
     "metadata": {},
     "output_type": "execute_result"
    },
    {
     "data": {
      "image/png": "[encoded data removed]",
      "text/plain": [
       "<Figure size 432x288 with 1 Axes>"
      ]
     },
     "metadata": {
      "needs_background": "light"
     },
     "output_type": "display_data"
    }
   ],
   "source": [
    "pd.DataFrame({'noGWA':noGWA.value,\n",
    "              'GWA2':GWA2.value,\n",
    "              'GWA3':GWA3.value}).boxplot()"
   ]
  },
  {
   "cell_type": "markdown",
   "metadata": {
    "heading_collapsed": true,
    "hidden": true
   },
   "source": [
    "## MERRA2"
   ]
  },
  {
   "cell_type": "code",
   "execution_count": 29,
   "metadata": {
    "hidden": true
   },
   "outputs": [],
   "source": [
    "noGWA = res[(res.dataset=='MERRA2')&(res.param=='mbe')&(res.GWA=='none')]\n",
    "GWA2 = res[(res.dataset=='MERRA2')&(res.param=='mbe')&(res.GWA=='GWA2')]\n",
    "GWA3 = res[(res.dataset=='MERRA2')&(res.param=='mbe')&(res.GWA=='GWA3')]"
   ]
  },
  {
   "cell_type": "code",
   "execution_count": 30,
   "metadata": {
    "hidden": true
   },
   "outputs": [
    {
     "data": {
      "text/plain": [
       "Ttest_relResult(statistic=8.543144537373227, pvalue=2.3182165161472754e-15)"
      ]
     },
     "execution_count": 30,
     "metadata": {},
     "output_type": "execute_result"
    }
   ],
   "source": [
    "st.ttest_rel(noGWA.value,GWA2.value)"
   ]
  },
  {
   "cell_type": "code",
   "execution_count": 31,
   "metadata": {
    "hidden": true
   },
   "outputs": [
    {
     "data": {
      "text/plain": [
       "Ttest_relResult(statistic=1.362163179869011, pvalue=0.17455864462576196)"
      ]
     },
     "execution_count": 31,
     "metadata": {},
     "output_type": "execute_result"
    }
   ],
   "source": [
    "st.ttest_rel(noGWA.value,GWA3.value)"
   ]
  },
  {
   "cell_type": "code",
   "execution_count": 32,
   "metadata": {
    "hidden": true
   },
   "outputs": [
    {
     "data": {
      "text/plain": [
       "Ttest_relResult(statistic=29.455352645210795, pvalue=9.110571302971413e-78)"
      ]
     },
     "execution_count": 32,
     "metadata": {},
     "output_type": "execute_result"
    }
   ],
   "source": [
    "st.ttest_rel(GWA3.value,GWA2.value)"
   ]
  },
  {
   "cell_type": "code",
   "execution_count": 33,
   "metadata": {
    "hidden": true
   },
   "outputs": [
    {
     "data": {
      "text/plain": [
       "<matplotlib.axes._subplots.AxesSubplot at 0x7f36dfc93358>"
      ]
     },
     "execution_count": 33,
     "metadata": {},
     "output_type": "execute_result"
    },
    {
     "data": {
      "image/png": "[encoded data removed]",
      "text/plain": [
       "<Figure size 432x288 with 1 Axes>"
      ]
     },
     "metadata": {
      "needs_background": "light"
     },
     "output_type": "display_data"
    }
   ],
   "source": [
    "pd.DataFrame({'noGWA':noGWA.value,\n",
    "              'GWA2':GWA2.value,\n",
    "              'GWA3':GWA3.value}).boxplot()"
   ]
  },
  {
   "cell_type": "code",
   "execution_count": null,
   "metadata": {
    "hidden": true
   },
   "outputs": [],
   "source": []
  },
  {
   "cell_type": "markdown",
   "metadata": {},
   "source": [
    "# per country"
   ]
  },
  {
   "cell_type": "code",
   "execution_count": 93,
   "metadata": {},
   "outputs": [],
   "source": [
    "# use absolute values for MBE\n",
    "resa = res.copy(deep=True)\n",
    "resa.value = resa.value.abs()"
   ]
  },
  {
   "cell_type": "code",
   "execution_count": 111,
   "metadata": {},
   "outputs": [],
   "source": [
    "t_GWA = pd.DataFrame({'dataset':[],'param':[],'country':[],'GWA':[],'t_statistic':[],'p_value':[]})\n",
    "for param in ['cor','rmse','mbe']:\n",
    "    for dataset in ['ERA5','MERRA2']:\n",
    "        for country in ['USA', 'BRA', 'NZ', 'ZAF']:\n",
    "            noGWA = resa[(resa.dataset==dataset)&(res.param==param)&(resa.GWA=='none')&(resa.country==country)]\n",
    "            GWA2 = resa[(resa.dataset==dataset)&(resa.param==param)&(resa.GWA=='GWA2')&(resa.country==country)]\n",
    "            GWA3 = resa[(resa.dataset==dataset)&(resa.param==param)&(resa.GWA=='GWA3')&(resa.country==country)]\n",
    "            ts2 = st.ttest_rel(noGWA.value,GWA2.value)\n",
    "            ts3 = st.ttest_rel(noGWA.value,GWA3.value)\n",
    "            ts23 = st.ttest_rel(GWA2.value,GWA3.value)\n",
    "            t = pd.DataFrame({'dataset':dataset,'param':param,'country':country+' ','GWA':['GWA2','GWA3','GWA2+3'],\n",
    "                              't_statistic':[ts2.statistic,ts3.statistic,ts23.statistic],\n",
    "                              'p_value':[ts2.pvalue,ts3.pvalue,ts23.pvalue]})\n",
    "            t_GWA = pd.concat([t_GWA,t],axis=0)"
   ]
  },
  {
   "cell_type": "code",
   "execution_count": 112,
   "metadata": {},
   "outputs": [
    {
     "data": {
      "text/plain": [
       "dataset  param  GWA   \n",
       "ERA5     cor    GWA2      1\n",
       "                GWA2+3    3\n",
       "                GWA3      3\n",
       "         mbe    GWA2      2\n",
       "                GWA2+3    1\n",
       "                GWA3      3\n",
       "         rmse   GWA2      1\n",
       "                GWA3      2\n",
       "MERRA2   cor    GWA2      2\n",
       "                GWA2+3    3\n",
       "                GWA3      2\n",
       "         mbe    GWA2      3\n",
       "                GWA2+3    1\n",
       "         rmse   GWA2      3\n",
       "                GWA2+3    1\n",
       "Name: p_value, dtype: int64"
      ]
     },
     "execution_count": 112,
     "metadata": {},
     "output_type": "execute_result"
    }
   ],
   "source": [
    "t_GWA[t_GWA.p_value>0.05].groupby(['dataset','param','GWA']).count().p_value"
   ]
  },
  {
   "cell_type": "code",
   "execution_count": 113,
   "metadata": {},
   "outputs": [
    {
     "data": {
      "text/plain": [
       "dataset  param  GWA   \n",
       "ERA5     cor    GWA2      3\n",
       "                GWA2+3    1\n",
       "                GWA3      1\n",
       "         mbe    GWA2      2\n",
       "                GWA2+3    3\n",
       "                GWA3      1\n",
       "         rmse   GWA2      3\n",
       "                GWA2+3    4\n",
       "                GWA3      2\n",
       "MERRA2   cor    GWA2      2\n",
       "                GWA2+3    1\n",
       "                GWA3      2\n",
       "         mbe    GWA2      1\n",
       "                GWA2+3    3\n",
       "                GWA3      4\n",
       "         rmse   GWA2      1\n",
       "                GWA2+3    3\n",
       "                GWA3      4\n",
       "Name: p_value, dtype: int64"
      ]
     },
     "execution_count": 113,
     "metadata": {},
     "output_type": "execute_result"
    }
   ],
   "source": [
    "t_GWA[t_GWA.p_value<=0.05].groupby(['dataset','param','GWA']).count().p_value"
   ]
  },
  {
   "cell_type": "markdown",
   "metadata": {},
   "source": [
    "#### significantly better with GWA"
   ]
  },
  {
   "cell_type": "code",
   "execution_count": 114,
   "metadata": {},
   "outputs": [],
   "source": [
    "import seaborn as sns"
   ]
  },
  {
   "cell_type": "code",
   "execution_count": 115,
   "metadata": {},
   "outputs": [
    {
     "data": {
      "text/plain": [
       "<matplotlib.axes._subplots.AxesSubplot at 0x7f36deaded30>"
      ]
     },
     "execution_count": 115,
     "metadata": {},
     "output_type": "execute_result"
    },
    {
     "data": {
      "image/png": "[encoded data removed]",
      "text/plain": [
       "<Figure size 432x288 with 1 Axes>"
      ]
     },
     "metadata": {
      "needs_background": "light"
     },
     "output_type": "display_data"
    }
   ],
   "source": [
    "sns.boxplot(data=res[(res.param=='cor')&(res.country=='NZ')&(res.dataset=='ERA5')],\n",
    "            x = 'GWA',y='value')"
   ]
  },
  {
   "cell_type": "code",
   "execution_count": 116,
   "metadata": {},
   "outputs": [
    {
     "name": "stdout",
     "output_type": "stream",
     "text": [
      "cor better with GWA\n"
     ]
    },
    {
     "data": {
      "text/plain": [
       "dataset  GWA \n",
       "ERA5     GWA2    USA BRA NZ \n",
       "         GWA3           USA \n",
       "MERRA2   GWA2            NZ \n",
       "Name: country, dtype: object"
      ]
     },
     "execution_count": 116,
     "metadata": {},
     "output_type": "execute_result"
    }
   ],
   "source": [
    "print('cor better with GWA')\n",
    "t_GWA[(t_GWA.p_value<=0.05)&(t_GWA.t_statistic<0)&(t_GWA.param=='cor')].groupby(['dataset','GWA']).country.sum()"
   ]
  },
  {
   "cell_type": "code",
   "execution_count": 117,
   "metadata": {},
   "outputs": [
    {
     "name": "stdout",
     "output_type": "stream",
     "text": [
      "RMSE better with GWA\n"
     ]
    },
    {
     "data": {
      "text/plain": [
       "dataset  GWA   \n",
       "ERA5     GWA2      BRA NZ ZAF \n",
       "MERRA2   GWA2+3           BRA \n",
       "         GWA3             BRA \n",
       "Name: country, dtype: object"
      ]
     },
     "execution_count": 117,
     "metadata": {},
     "output_type": "execute_result"
    }
   ],
   "source": [
    "print('RMSE better with GWA')\n",
    "t_GWA[(t_GWA.p_value<=0.05)&(t_GWA.t_statistic>0)&(t_GWA.param=='rmse')].groupby(['dataset','GWA']).country.sum()"
   ]
  },
  {
   "cell_type": "code",
   "execution_count": 118,
   "metadata": {},
   "outputs": [
    {
     "name": "stdout",
     "output_type": "stream",
     "text": [
      "MBE lower (but not necessarily better) with GWA\n"
     ]
    },
    {
     "data": {
      "text/plain": [
       "dataset  GWA   \n",
       "ERA5     GWA2      NZ ZAF \n",
       "MERRA2   GWA2+3       BRA \n",
       "         GWA3         BRA \n",
       "Name: country, dtype: object"
      ]
     },
     "execution_count": 118,
     "metadata": {},
     "output_type": "execute_result"
    }
   ],
   "source": [
    "print('MBE lower with GWA')\n",
    "t_GWA[(t_GWA.p_value<=0.05)&(t_GWA.t_statistic>0)&(t_GWA.param=='mbe')].groupby(['dataset','GWA']).country.sum()"
   ]
  },
  {
   "cell_type": "markdown",
   "metadata": {},
   "source": [
    "#### significantly worse with GWA"
   ]
  },
  {
   "cell_type": "code",
   "execution_count": 119,
   "metadata": {},
   "outputs": [
    {
     "name": "stdout",
     "output_type": "stream",
     "text": [
      "cor worse with GWA\n"
     ]
    },
    {
     "data": {
      "text/plain": [
       "dataset  GWA   \n",
       "ERA5     GWA2+3        NZ \n",
       "MERRA2   GWA2         BRA \n",
       "         GWA2+3        NZ \n",
       "         GWA3      BRA NZ \n",
       "Name: country, dtype: object"
      ]
     },
     "execution_count": 119,
     "metadata": {},
     "output_type": "execute_result"
    }
   ],
   "source": [
    "print('cor worse with GWA')\n",
    "t_GWA[(t_GWA.p_value<=0.05)&(t_GWA.t_statistic>0)&(t_GWA.param=='cor')].groupby(['dataset','GWA']).country.sum()"
   ]
  },
  {
   "cell_type": "code",
   "execution_count": 120,
   "metadata": {},
   "outputs": [
    {
     "name": "stdout",
     "output_type": "stream",
     "text": [
      "RMSE worse with GWA\n"
     ]
    },
    {
     "data": {
      "text/plain": [
       "dataset  GWA   \n",
       "ERA5     GWA2+3    USA BRA NZ ZAF \n",
       "         GWA3              USA NZ \n",
       "MERRA2   GWA2                  NZ \n",
       "         GWA2+3            USA NZ \n",
       "         GWA3          USA NZ ZAF \n",
       "Name: country, dtype: object"
      ]
     },
     "execution_count": 120,
     "metadata": {},
     "output_type": "execute_result"
    }
   ],
   "source": [
    "print('RMSE worse with GWA')\n",
    "t_GWA[(t_GWA.p_value<=0.05)&(t_GWA.t_statistic<0)&(t_GWA.param=='rmse')].groupby(['dataset','GWA']).country.sum()"
   ]
  },
  {
   "cell_type": "code",
   "execution_count": 121,
   "metadata": {},
   "outputs": [
    {
     "name": "stdout",
     "output_type": "stream",
     "text": [
      "MBE higher (but not necessarily worse) with GWA\n"
     ]
    },
    {
     "data": {
      "text/plain": [
       "dataset  GWA   \n",
       "ERA5     GWA2+3    USA NZ ZAF \n",
       "         GWA3             USA \n",
       "MERRA2   GWA2              NZ \n",
       "         GWA2+3        USA NZ \n",
       "         GWA3      USA NZ ZAF \n",
       "Name: country, dtype: object"
      ]
     },
     "execution_count": 121,
     "metadata": {},
     "output_type": "execute_result"
    }
   ],
   "source": [
    "print('MBE higher with GWA')\n",
    "t_GWA[(t_GWA.p_value<=0.05)&(t_GWA.t_statistic<0)&(t_GWA.param=='mbe')].groupby(['dataset','GWA']).country.sum()"
   ]
  },
  {
   "cell_type": "code",
   "execution_count": null,
   "metadata": {},
   "outputs": [],
   "source": []
  },
  {
   "cell_type": "code",
   "execution_count": null,
   "metadata": {},
   "outputs": [],
   "source": []
  },
  {
   "cell_type": "code",
   "execution_count": null,
   "metadata": {},
   "outputs": [],
   "source": []
  }
 ],
 "metadata": {
  "kernelspec": {
   "display_name": "Python [conda env:.conda-py37]",
   "language": "python",
   "name": "conda-env-.conda-py37-py"
  },
  "language_info": {
   "codemirror_mode": {
    "name": "ipython",
    "version": 3
   },
   "file_extension": ".py",
   "mimetype": "text/x-python",
   "name": "python",
   "nbconvert_exporter": "python",
   "pygments_lexer": "ipython3",
   "version": "3.7.3"
  }
 },
 "nbformat": 4,
 "nbformat_minor": 2
}
