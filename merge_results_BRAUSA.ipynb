{
 "cells": [
  {
   "cell_type": "code",
   "execution_count": 2,
   "metadata": {},
   "outputs": [],
   "source": [
    "import numpy as np\n",
    "import pandas as pd\n",
    "import matplotlib.pyplot as plt\n",
    "import seaborn as sns\n",
    "import xarray as xr\n",
    "#sns.set(style=\"darkgrid\")\n",
    "import sys\n",
    "sys.path.append('./..')\n",
    "from refuelplot import *\n",
    "setup()\n",
    "\n",
    "import statsmodels.api as sm"
   ]
  },
  {
   "cell_type": "code",
   "execution_count": 3,
   "metadata": {},
   "outputs": [],
   "source": [
    "rp_usa = '/data/users/kgruber/results/USA'\n",
    "rp_usa2 = '/data/users/kgruber/results/USA/results_GWA2'\n",
    "rp_bra = '/data/users/kgruber/results/BRA'\n",
    "rp_bra2 = '/data/users/kgruber/results/BRA/results_GWA2'"
   ]
  },
  {
   "cell_type": "markdown",
   "metadata": {},
   "source": [
    "# prepare USA"
   ]
  },
  {
   "cell_type": "markdown",
   "metadata": {},
   "source": [
    "load results USA GWA3"
   ]
  },
  {
   "cell_type": "code",
   "execution_count": 4,
   "metadata": {},
   "outputs": [],
   "source": [
    "results_USA_m = pd.read_csv(rp_usa + '/stats_USAm2010.csv',index_col=0)\n",
    "results_BPA_m = pd.read_csv(rp_usa + '/stats_BPAm2010.csv',index_col=0)\n",
    "results_BPA_d = pd.read_csv(rp_usa + '/stats_BPAd2010.csv',index_col=0)\n",
    "results_BPA_h = pd.read_csv(rp_usa + '/stats_BPAh2010.csv',index_col=0)\n",
    "results_NE_m = pd.read_csv(rp_usa + '/stats_NEm2010.csv',index_col=0)\n",
    "results_TX_d = pd.read_csv(rp_usa + '/stats_TXd2010.csv',index_col=0)\n",
    "results_TX_h = pd.read_csv(rp_usa + '/stats_TXh2010.csv',index_col=0)\n",
    "results_states_m = pd.read_csv(rp_usa + '/stats_statesm2010.csv',index_col=[0,1])\n",
    "results_regions_m = pd.read_csv(rp_usa + '/stats_regionsm2010.csv',index_col=[0,1])"
   ]
  },
  {
   "cell_type": "markdown",
   "metadata": {},
   "source": [
    "load results USA GWA2"
   ]
  },
  {
   "cell_type": "code",
   "execution_count": 5,
   "metadata": {},
   "outputs": [],
   "source": [
    "results_USA_m2 = pd.read_csv(rp_usa2 + '/stats_USAm2010.csv',index_col=0)\n",
    "results_BPA_m2 = pd.read_csv(rp_usa2 + '/stats_BPAm2010.csv',index_col=0)\n",
    "results_BPA_d2 = pd.read_csv(rp_usa2 + '/stats_BPAd2010.csv',index_col=0)\n",
    "results_BPA_h2 = pd.read_csv(rp_usa2 + '/stats_BPAh2010.csv',index_col=0)\n",
    "results_NE_m2 = pd.read_csv(rp_usa2 + '/stats_NEm2010.csv',index_col=0)\n",
    "results_TX_d2 = pd.read_csv(rp_usa2 + '/stats_TXd2010.csv',index_col=0)\n",
    "results_TX_h2 = pd.read_csv(rp_usa2 + '/stats_TXh2010.csv',index_col=0)\n",
    "results_states_m2 = pd.read_csv(rp_usa2 + '/stats_statesm2010.csv',index_col=[0,1])\n",
    "results_regions_m2 = pd.read_csv(rp_usa2 + '/stats_regionsm2010.csv',index_col=[0,1])"
   ]
  },
  {
   "cell_type": "markdown",
   "metadata": {},
   "source": [
    "load correlations of regions USA"
   ]
  },
  {
   "cell_type": "code",
   "execution_count": 5,
   "metadata": {},
   "outputs": [],
   "source": [
    "cors_usa = pd.read_csv(rp_usa + '/correlations_wind_19y.csv',index_col=0).drop([2,59]) # drop 2,59 - what is it? new england?"
   ]
  },
  {
   "cell_type": "markdown",
   "metadata": {},
   "source": [
    "merge results and tidy"
   ]
  },
  {
   "cell_type": "code",
   "execution_count": 6,
   "metadata": {},
   "outputs": [],
   "source": [
    "def prep_USAres(rdf,region):\n",
    "    r = rdf.reset_index().melt(id_vars=['index']).dropna()\n",
    "    r.columns = ['param','dataset',region]\n",
    "    r = r.set_index(['param','dataset']).transpose()\n",
    "    return(r)"
   ]
  },
  {
   "cell_type": "code",
   "execution_count": 7,
   "metadata": {},
   "outputs": [],
   "source": [
    "def prep_USAstares(region):\n",
    "    rdf = results_states_m.loc[region]\n",
    "    rdf.index.name = 'index'\n",
    "    return(prep_USAres(rdf,region))\n",
    "\n",
    "def prep_USAregres(region):\n",
    "    rdf = results_regions_m.loc[region]\n",
    "    rdf.index.name = 'index'\n",
    "    return(prep_USAres(rdf,region))\n",
    "\n",
    "def prep_USAstares2(region):\n",
    "    rdf = results_states_m2.loc[region]\n",
    "    rdf.index.name = 'index'\n",
    "    return(prep_USAres(rdf,region))\n",
    "\n",
    "def prep_USAregres2(region):\n",
    "    rdf = results_regions_m2.loc[region]\n",
    "    rdf.index.name = 'index'\n",
    "    return(prep_USAres(rdf,region))"
   ]
  },
  {
   "cell_type": "code",
   "execution_count": 8,
   "metadata": {},
   "outputs": [],
   "source": [
    "rUSAm = prep_USAres(results_USA_m,'USA')\n",
    "rUSAm2 = prep_USAres(results_USA_m2,'USA')\n",
    "rBPAm = prep_USAres(results_BPA_m,'BPA')\n",
    "rBPAm2 = prep_USAres(results_BPA_m2,'BPA')\n",
    "rBPAd = prep_USAres(results_BPA_d,'BPA')\n",
    "rBPAd2 = prep_USAres(results_BPA_d2,'BPA')\n",
    "rBPAh = prep_USAres(results_BPA_h,'BPA')\n",
    "rBPAh2 = prep_USAres(results_BPA_h2,'BPA')\n",
    "rNEm = prep_USAres(results_NE_m,'NE')\n",
    "rNEm2 = prep_USAres(results_NE_m2,'NE')\n",
    "rTXd = prep_USAres(results_TX_d,'TX')\n",
    "rTXd2 = prep_USAres(results_TX_d2,'TX')\n",
    "rTXh = prep_USAres(results_TX_h,'TX')\n",
    "rTXh2 = prep_USAres(results_TX_h2,'TX')\n",
    "rSTAm = pd.concat(pd.Series(results_states_m.index.get_level_values(0).unique()).apply(prep_USAstares).tolist(),axis=0)\n",
    "rSTAm2 = pd.concat(pd.Series(results_states_m2.index.get_level_values(0).unique()).apply(prep_USAstares2).tolist(),axis=0)\n",
    "rREGm = pd.concat(pd.Series(results_regions_m.index.get_level_values(0).unique()).apply(prep_USAregres).tolist(),axis=0)\n",
    "rREGm2 = pd.concat(pd.Series(results_regions_m2.index.get_level_values(0).unique()).apply(prep_USAregres2).tolist(),axis=0)"
   ]
  },
  {
   "cell_type": "code",
   "execution_count": 9,
   "metadata": {},
   "outputs": [],
   "source": [
    "results_USA = pd.concat([rUSAm,rUSAm2,rBPAm,rBPAm2,rBPAd,rBPAd2,rBPAh,rBPAh2,rTXd,rTXd2,rTXh,rTXh2,rSTAm,rSTAm2,rREGm,rREGm2],axis=0)"
   ]
  },
  {
   "cell_type": "code",
   "execution_count": 10,
   "metadata": {},
   "outputs": [],
   "source": [
    "results_USA.index = pd.MultiIndex.from_frame(pd.DataFrame({'country':'USA',\n",
    "              'scale':['country']*2+['subsystem']*6+['state']*(len(rSTAm)+2)*2+['subsystem']*2*len(rREGm),\n",
    "              'temp':['m','m','m','m','d','d','h','h','d','d','h','h']+['m']*2*(len(rSTAm)+len(rREGm)),\n",
    "              'region':results_USA.index.values,\n",
    "              'GWA':['GWA3','GWA2']*6+np.repeat(['GWA3','GWA2'],len(rSTAm)).tolist()+\n",
    "                      np.repeat(['GWA3','GWA2'],len(rREGm)).tolist()}))"
   ]
  },
  {
   "cell_type": "code",
   "execution_count": 11,
   "metadata": {},
   "outputs": [],
   "source": [
    "results_USA_tidy = results_USA.reset_index().melt(id_vars=['country','scale','region','temp','GWA'])"
   ]
  },
  {
   "cell_type": "code",
   "execution_count": 12,
   "metadata": {},
   "outputs": [],
   "source": [
    "results_USA.to_pickle(rp_usa + '/results_USA_summary.pkl')\n",
    "results_USA_tidy.to_pickle(rp_usa + '/results_USA_tidy_summary.pkl')"
   ]
  },
  {
   "cell_type": "markdown",
   "metadata": {},
   "source": [
    "# prepare BRA"
   ]
  },
  {
   "cell_type": "markdown",
   "metadata": {},
   "source": [
    "load results BRA GWA3"
   ]
  },
  {
   "cell_type": "code",
   "execution_count": 13,
   "metadata": {},
   "outputs": [],
   "source": [
    "rBRAm = pd.read_csv(rp_bra + '/stats_BRAm.csv',index_col=0,header=[0,1])\n",
    "rBRAd = pd.read_csv(rp_bra + '/stats_BRAd.csv',index_col=0,header=[0,1])\n",
    "rBRAh = pd.read_csv(rp_bra + '/stats_BRAh.csv',index_col=0,header=[0,1])\n",
    "rSUBm = pd.read_csv(rp_bra + '/stats_SUBm.csv',index_col=[0,1]).transpose()\n",
    "rSUBd = pd.read_csv(rp_bra + '/stats_SUBd.csv',index_col=0,header=[0,1])\n",
    "rSUBh = pd.read_csv(rp_bra + '/stats_SUBh.csv',index_col=0,header=[0,1])\n",
    "rESTm = pd.read_csv(rp_bra + '/stats_ESTm.csv',index_col=[0,1]).transpose()\n",
    "rESTd = pd.read_csv(rp_bra + '/stats_ESTd.csv',index_col=[0,1]).transpose()\n",
    "rESTh = pd.read_csv(rp_bra + '/stats_ESTh.csv',index_col=[0,1]).transpose()\n",
    "rUSIm = pd.read_csv(rp_bra + '/stats_USIm.csv',index_col=[0,1]).transpose()\n",
    "rUSId = pd.read_csv(rp_bra + '/stats_USId.csv',index_col=[0,1]).transpose()\n",
    "rUSIh = pd.read_csv(rp_bra + '/stats_USIh.csv',index_col=[0,1]).transpose()"
   ]
  },
  {
   "cell_type": "markdown",
   "metadata": {},
   "source": [
    "load results BRA GWA2"
   ]
  },
  {
   "cell_type": "code",
   "execution_count": 14,
   "metadata": {},
   "outputs": [],
   "source": [
    "rBRAm2 = pd.read_csv(rp_bra2 + '/stats_BRAm.csv',index_col=0,header=[0,1])\n",
    "rBRAd2 = pd.read_csv(rp_bra2 + '/stats_BRAd.csv',index_col=0,header=[0,1])\n",
    "rBRAh2 = pd.read_csv(rp_bra2 + '/stats_BRAh.csv',index_col=0,header=[0,1])\n",
    "rSUBm2 = pd.read_csv(rp_bra2 + '/stats_SUBm.csv',index_col=[0,1]).transpose()\n",
    "rSUBd2 = pd.read_csv(rp_bra2 + '/stats_SUBd.csv',index_col=0,header=[0,1])\n",
    "rSUBh2 = pd.read_csv(rp_bra2 + '/stats_SUBh.csv',index_col=0,header=[0,1])\n",
    "rESTm2 = pd.read_csv(rp_bra2 + '/stats_ESTm.csv',index_col=[0,1]).transpose()\n",
    "rESTd2 = pd.read_csv(rp_bra2 + '/stats_ESTd.csv',index_col=[0,1]).transpose()\n",
    "rESTh2 = pd.read_csv(rp_bra2 + '/stats_ESTh.csv',index_col=[0,1]).transpose()\n",
    "rUSIm2 = pd.read_csv(rp_bra2 + '/stats_USIm.csv',index_col=[0,1]).transpose()\n",
    "rUSId2 = pd.read_csv(rp_bra2 + '/stats_USId.csv',index_col=[0,1]).transpose()\n",
    "rUSIh2 = pd.read_csv(rp_bra2 + '/stats_USIh.csv',index_col=[0,1]).transpose()"
   ]
  },
  {
   "cell_type": "markdown",
   "metadata": {},
   "source": [
    "load correlations regions BRA"
   ]
  },
  {
   "cell_type": "code",
   "execution_count": 36,
   "metadata": {},
   "outputs": [],
   "source": [
    "cors_bra = pd.read_csv(rp_bra + '/correlations_wind.csv',index_col=0)"
   ]
  },
  {
   "cell_type": "code",
   "execution_count": 16,
   "metadata": {},
   "outputs": [],
   "source": [
    "results_BRA = pd.concat([rBRAm,rBRAm2,rBRAd,rBRAd2,rBRAh,rBRAh2,\n",
    "                         rSUBm,rSUBm2,rSUBd,rSUBd2,rSUBh,rSUBh2,\n",
    "                         rESTm,rESTm2,rESTd,rESTd2,rESTh,rESTh2,\n",
    "                         rUSIm,rUSIm2,rUSId,rUSId2,rUSIh,rUSIh2],axis=0)"
   ]
  },
  {
   "cell_type": "code",
   "execution_count": 17,
   "metadata": {},
   "outputs": [],
   "source": [
    "results_BRA.index = pd.MultiIndex.from_frame(pd.DataFrame({'country':'BRA',\n",
    "              'scale':['country']*6+['subsystem']*8+['state']*(len(rESTm)+len(rESTh)*2)*2+['park']*2*(len(rUSIm)+2*len(rUSIh)),\n",
    "              'temp':np.repeat(['m','d','h'],2).tolist()+['m']*4+np.repeat(['d','h'],2).tolist()+['m']*2*len(rESTm)+\n",
    "                       np.repeat(['d','h'],len(rESTh)*2).tolist()+['m']*2*len(rUSIm)+np.repeat(['d','h'],2*len(rUSIh)).tolist(),\n",
    "              'region':results_BRA.index.values,\n",
    "              'GWA':['GWA3','GWA2']*3+['GWA3']*2+['GWA2']*2+['GWA3','GWA2']*2+np.repeat(['GWA3','GWA2'],len(rESTm)).tolist()+\n",
    "                       np.repeat(['GWA3','GWA2'],len(rESTh)).tolist()*2+np.repeat(['GWA3','GWA2'],len(rUSIm)).tolist()+\n",
    "                       np.repeat(['GWA3','GWA2'],len(rUSIh)).tolist()*2}))"
   ]
  },
  {
   "cell_type": "code",
   "execution_count": 18,
   "metadata": {},
   "outputs": [],
   "source": [
    "results_BRA_tidy = results_BRA.reset_index().melt(id_vars=['country','scale','region','temp','GWA'])"
   ]
  },
  {
   "cell_type": "code",
   "execution_count": 19,
   "metadata": {},
   "outputs": [],
   "source": [
    "results_BRA.to_pickle(rp_bra + '/results_BRA_summary.pkl')\n",
    "results_BRA_tidy.to_pickle(rp_bra + '/results_BRA_tidy_summary.pkl')"
   ]
  },
  {
   "cell_type": "code",
   "execution_count": null,
   "metadata": {},
   "outputs": [],
   "source": []
  },
  {
   "cell_type": "markdown",
   "metadata": {},
   "source": [
    "# prepare results and correlations for analysis"
   ]
  },
  {
   "cell_type": "markdown",
   "metadata": {},
   "source": [
    "### merge results"
   ]
  },
  {
   "cell_type": "code",
   "execution_count": 20,
   "metadata": {},
   "outputs": [],
   "source": [
    "results = pd.concat([results_BRA,results_USA],axis=0)"
   ]
  },
  {
   "cell_type": "markdown",
   "metadata": {},
   "source": [
    "### prepare correlations"
   ]
  },
  {
   "cell_type": "code",
   "execution_count": 39,
   "metadata": {},
   "outputs": [],
   "source": [
    "cors_usa['scale'] = cors_usa.region.map(pd.Series(results_USA.index.get_level_values(1)).groupby(results_USA.index.get_level_values(3)).first()).values\n",
    "cors_usa['scale'] = cors_usa.scale.fillna('state')\n",
    "cors_usa['country'] = 'USA'\n",
    "cors_bra['country'] = 'BRA'\n",
    "#cors_bra['scale'] = cors_bra['scale'].map(pd.Series(['country','subsystem','state','park'],\n",
    "#                                index=['BRA','SUB','EST','USI']))"
   ]
  },
  {
   "cell_type": "markdown",
   "metadata": {},
   "source": [
    "### merge correlations"
   ]
  },
  {
   "cell_type": "code",
   "execution_count": 22,
   "metadata": {},
   "outputs": [],
   "source": [
    "#cors = pd.concat([cors_bra,cors_usa],axis=0)"
   ]
  },
  {
   "cell_type": "code",
   "execution_count": null,
   "metadata": {},
   "outputs": [],
   "source": []
  },
  {
   "cell_type": "markdown",
   "metadata": {},
   "source": [
    "# plot results"
   ]
  },
  {
   "cell_type": "markdown",
   "metadata": {},
   "source": [
    "add correlations to results"
   ]
  },
  {
   "cell_type": "code",
   "execution_count": 40,
   "metadata": {},
   "outputs": [],
   "source": [
    "results_BRA_tidy2 = results_BRA_tidy.copy(deep=True)\n",
    "results_BRA_tidy2['ds'] = results_BRA_tidy2.dataset.copy()\n",
    "results_BRA_tidy2['dataset'] = results_BRA_tidy2.ds.map(pd.Series(['ERA5','ERA5','MERRA2','MERRA2'],\n",
    "                                                                  index=['ERA5','ERA5_GWA','MERRA2','MERRA2_GWA']))"
   ]
  },
  {
   "cell_type": "code",
   "execution_count": 41,
   "metadata": {},
   "outputs": [],
   "source": [
    "results_BRA_tidy2['corsize'] = (results_BRA_tidy2.set_index(['country','scale','region','temp','dataset']).index.map(cors_bra.set_index(['country','scale','region','temp','dataset']).cor))"
   ]
  },
  {
   "cell_type": "code",
   "execution_count": 42,
   "metadata": {},
   "outputs": [],
   "source": [
    "results_USA_tidy2 = results_USA_tidy.copy(deep=True)\n",
    "results_USA_tidy2['ds'] = results_USA_tidy2.dataset.copy()\n",
    "results_USA_tidy2['dataset'] = results_USA_tidy2.ds.map(pd.Series(['ERA5','ERA5','MERRA2','MERRA2'],\n",
    "                                                                  index=['ERA5','ERA5_GWA','MERRA2','MERRA2_GWA']))"
   ]
  },
  {
   "cell_type": "code",
   "execution_count": 43,
   "metadata": {},
   "outputs": [],
   "source": [
    "results_USA_tidy2['corsize'] = results_USA_tidy2.set_index(['country','scale','region','dataset']).index.map(cors_usa.set_index(['country','scale','region','dataset']).cor)"
   ]
  },
  {
   "cell_type": "code",
   "execution_count": 44,
   "metadata": {},
   "outputs": [],
   "source": [
    "results = pd.concat([results_USA_tidy2,results_BRA_tidy2])"
   ]
  },
  {
   "cell_type": "code",
   "execution_count": 45,
   "metadata": {},
   "outputs": [],
   "source": [
    "results['system_size'] = 1-results.corsize"
   ]
  },
  {
   "cell_type": "code",
   "execution_count": 46,
   "metadata": {},
   "outputs": [],
   "source": [
    "results.to_pickle('/data/users/kgruber/results/results_USABRA.pkl')"
   ]
  },
  {
   "cell_type": "code",
   "execution_count": null,
   "metadata": {},
   "outputs": [],
   "source": []
  },
  {
   "cell_type": "markdown",
   "metadata": {},
   "source": [
    "# correlations"
   ]
  },
  {
   "cell_type": "code",
   "execution_count": 48,
   "metadata": {},
   "outputs": [
    {
     "data": {
      "text/plain": [
       "<matplotlib.collections.PathCollection at 0x7fbcaefcb6d8>"
      ]
     },
     "execution_count": 48,
     "metadata": {},
     "output_type": "execute_result"
    },
    {
     "data": {
      "image/png": "[encoded data removed]",
      "text/plain": [
       "<Figure size 432x288 with 1 Axes>"
      ]
     },
     "metadata": {
      "needs_background": "light"
     },
     "output_type": "display_data"
    }
   ],
   "source": [
    "ds = results[results.param=='cor'].dropna(axis=0)\n",
    "plt.scatter(ds.system_size,ds.value)"
   ]
  },
  {
   "cell_type": "code",
   "execution_count": 50,
   "metadata": {},
   "outputs": [
    {
     "data": {
      "text/plain": [
       "<matplotlib.collections.PathCollection at 0x7fbcaf207be0>"
      ]
     },
     "execution_count": 50,
     "metadata": {},
     "output_type": "execute_result"
    },
    {
     "data": {
      "image/png": "[encoded data removed]",
      "text/plain": [
       "<Figure size 432x288 with 1 Axes>"
      ]
     },
     "metadata": {
      "needs_background": "light"
     },
     "output_type": "display_data"
    }
   ],
   "source": [
    "ds = results[(results.param=='cor')&(results.temp=='m')].dropna(axis=0)\n",
    "plt.scatter(ds.system_size,ds.value)"
   ]
  },
  {
   "cell_type": "code",
   "execution_count": 51,
   "metadata": {},
   "outputs": [
    {
     "data": {
      "text/plain": [
       "<matplotlib.collections.PathCollection at 0x7fbcaf1ebe80>"
      ]
     },
     "execution_count": 51,
     "metadata": {},
     "output_type": "execute_result"
    },
    {
     "data": {
      "image/png": "[encoded data removed]",
      "text/plain": [
       "<Figure size 432x288 with 1 Axes>"
      ]
     },
     "metadata": {
      "needs_background": "light"
     },
     "output_type": "display_data"
    }
   ],
   "source": [
    "ds = results[(results.param=='cor')&(results.temp=='h')&(results.scale!='park')].dropna(axis=0)\n",
    "plt.scatter(ds.system_size,ds.value)"
   ]
  },
  {
   "cell_type": "code",
   "execution_count": 52,
   "metadata": {},
   "outputs": [
    {
     "data": {
      "text/plain": [
       "<matplotlib.collections.PathCollection at 0x7fbcaf14ea20>"
      ]
     },
     "execution_count": 52,
     "metadata": {},
     "output_type": "execute_result"
    },
    {
     "data": {
      "image/png": "[encoded data removed]",
      "text/plain": [
       "<Figure size 432x288 with 1 Axes>"
      ]
     },
     "metadata": {
      "needs_background": "light"
     },
     "output_type": "display_data"
    }
   ],
   "source": [
    "ds = results[(results.param=='cor')&(results.temp=='d')].dropna(axis=0)\n",
    "plt.scatter(ds.system_size,ds.value)"
   ]
  },
  {
   "cell_type": "code",
   "execution_count": 53,
   "metadata": {},
   "outputs": [
    {
     "data": {
      "text/plain": [
       "array([[<matplotlib.axes._subplots.AxesSubplot object at 0x7fbcaf105c50>,\n",
       "        <matplotlib.axes._subplots.AxesSubplot object at 0x7fbcaf0c0438>],\n",
       "       [<matplotlib.axes._subplots.AxesSubplot object at 0x7fbcaf0f16d8>,\n",
       "        <matplotlib.axes._subplots.AxesSubplot object at 0x7fbcaeef8978>]],\n",
       "      dtype=object)"
      ]
     },
     "execution_count": 53,
     "metadata": {},
     "output_type": "execute_result"
    },
    {
     "data": {
      "image/png": "[encoded data removed]",
      "text/plain": [
       "<Figure size 720x576 with 4 Axes>"
      ]
     },
     "metadata": {
      "needs_background": "light"
     },
     "output_type": "display_data"
    }
   ],
   "source": [
    "# boxplot GWA3 vs GWA2\n",
    "ds = results[(results.param=='cor')&(results.temp=='m')&(results.scale!='park')].dropna(axis=0)\n",
    "ds = ds[ds.value<2]\n",
    "ds.drop(['temp','param','dataset',\n",
    "         'corsize','system_size'],axis=1).groupby(['GWA','country',\n",
    "                                                   'scale','region',\n",
    "                                                   'ds'])['value'].aggregate('mean').unstack().boxplot(by='GWA',\n",
    "                                                                                                        figsize=(10,8))"
   ]
  },
  {
   "cell_type": "code",
   "execution_count": null,
   "metadata": {},
   "outputs": [],
   "source": []
  },
  {
   "cell_type": "markdown",
   "metadata": {},
   "source": [
    "# RMSES"
   ]
  },
  {
   "cell_type": "code",
   "execution_count": 54,
   "metadata": {},
   "outputs": [
    {
     "data": {
      "text/plain": [
       "<matplotlib.collections.PathCollection at 0x7fbcaaa3f550>"
      ]
     },
     "execution_count": 54,
     "metadata": {},
     "output_type": "execute_result"
    },
    {
     "data": {
      "image/png": "[encoded data removed]",
      "text/plain": [
       "<Figure size 432x288 with 1 Axes>"
      ]
     },
     "metadata": {
      "needs_background": "light"
     },
     "output_type": "display_data"
    }
   ],
   "source": [
    "ds = results[results.param=='rmse'].dropna(axis=0)\n",
    "plt.scatter(ds.system_size,ds.value)"
   ]
  },
  {
   "cell_type": "code",
   "execution_count": 55,
   "metadata": {},
   "outputs": [
    {
     "data": {
      "text/plain": [
       "<matplotlib.collections.PathCollection at 0x7fbcaa994828>"
      ]
     },
     "execution_count": 55,
     "metadata": {},
     "output_type": "execute_result"
    },
    {
     "data": {
      "image/png": "[encoded data removed]",
      "text/plain": [
       "<Figure size 432x288 with 1 Axes>"
      ]
     },
     "metadata": {
      "needs_background": "light"
     },
     "output_type": "display_data"
    }
   ],
   "source": [
    "ds = results[(results.param=='rmse')&(results.temp=='m')&(results.scale!='park')].dropna(axis=0)\n",
    "plt.scatter(ds.system_size,ds.value)"
   ]
  },
  {
   "cell_type": "code",
   "execution_count": 391,
   "metadata": {},
   "outputs": [],
   "source": []
  },
  {
   "cell_type": "code",
   "execution_count": 56,
   "metadata": {},
   "outputs": [
    {
     "data": {
      "text/plain": [
       "<matplotlib.axes._subplots.AxesSubplot at 0x7fbcaa9ad7b8>"
      ]
     },
     "execution_count": 56,
     "metadata": {},
     "output_type": "execute_result"
    },
    {
     "data": {
      "image/png": "[encoded data removed]",
      "text/plain": [
       "<Figure size 432x288 with 1 Axes>"
      ]
     },
     "metadata": {
      "needs_background": "light"
     },
     "output_type": "display_data"
    }
   ],
   "source": [
    "# boxplot GWA2\n",
    "ds = results[(results.param=='rmse')&(results.temp=='m')&(results.scale!='park')].dropna(axis=0)\n",
    "ds = ds[ds.value<2]\n",
    "ds.drop(['temp','param','dataset',\n",
    "         'corsize','system_size'],axis=1).groupby(['GWA','country',\n",
    "                                                   'scale','region',\n",
    "                                                   'ds'])['value'].aggregate('mean').unstack().loc['GWA2'].boxplot()"
   ]
  },
  {
   "cell_type": "code",
   "execution_count": 57,
   "metadata": {},
   "outputs": [
    {
     "data": {
      "text/plain": [
       "<matplotlib.axes._subplots.AxesSubplot at 0x7fbcaa8c3128>"
      ]
     },
     "execution_count": 57,
     "metadata": {},
     "output_type": "execute_result"
    },
    {
     "data": {
      "image/png": "[encoded data removed]",
      "text/plain": [
       "<Figure size 432x288 with 1 Axes>"
      ]
     },
     "metadata": {
      "needs_background": "light"
     },
     "output_type": "display_data"
    }
   ],
   "source": [
    "# boxplot GWA3 monthly data\n",
    "ds = results[(results.param=='rmse')&(results.temp=='m')&(results.scale!='park')].dropna(axis=0)\n",
    "ds = ds[ds.value<2]\n",
    "ds.drop(['temp','param','dataset',\n",
    "         'corsize','system_size'],axis=1).groupby(['GWA','country',\n",
    "                                                   'scale','region',\n",
    "                                                   'ds'])['value'].aggregate('mean').unstack().loc['GWA3'].boxplot()"
   ]
  },
  {
   "cell_type": "code",
   "execution_count": 58,
   "metadata": {},
   "outputs": [
    {
     "data": {
      "text/plain": [
       "<matplotlib.axes._subplots.AxesSubplot at 0x7fbcaa7e3940>"
      ]
     },
     "execution_count": 58,
     "metadata": {},
     "output_type": "execute_result"
    },
    {
     "data": {
      "image/png": "[encoded data removed]",
      "text/plain": [
       "<Figure size 432x288 with 1 Axes>"
      ]
     },
     "metadata": {
      "needs_background": "light"
     },
     "output_type": "display_data"
    }
   ],
   "source": [
    "# boxplot GWA3\n",
    "ds = results[(results.param=='rmse')&(results.scale!='park')].dropna(axis=0)\n",
    "ds = ds[ds.value<2]\n",
    "ds.drop(['temp','param','dataset',\n",
    "         'corsize','system_size'],axis=1).groupby(['GWA','country',\n",
    "                                                   'scale','region',\n",
    "                                                   'ds'])['value'].aggregate('mean').unstack().loc['GWA3'].boxplot()"
   ]
  },
  {
   "cell_type": "code",
   "execution_count": null,
   "metadata": {},
   "outputs": [],
   "source": []
  },
  {
   "cell_type": "code",
   "execution_count": 59,
   "metadata": {},
   "outputs": [
    {
     "data": {
      "text/plain": [
       "array([<matplotlib.axes._subplots.AxesSubplot object at 0x7fbcaa7bd7b8>,\n",
       "       <matplotlib.axes._subplots.AxesSubplot object at 0x7fbcaa769c50>],\n",
       "      dtype=object)"
      ]
     },
     "execution_count": 59,
     "metadata": {},
     "output_type": "execute_result"
    },
    {
     "data": {
      "image/png": "[encoded data removed]",
      "text/plain": [
       "<Figure size 720x360 with 2 Axes>"
      ]
     },
     "metadata": {
      "needs_background": "light"
     },
     "output_type": "display_data"
    }
   ],
   "source": [
    "# boxplot GWA3 vs GWA2\n",
    "ds = results[(results.param=='rmse')&(results.scale!='park')&((results.ds=='ERA5_GWA')|(results.ds=='MERRA2_GWA'))].dropna(axis=0)\n",
    "ds = ds[ds.value<2]\n",
    "ds.drop(['temp','param','dataset',\n",
    "         'corsize','system_size'],axis=1).groupby(['GWA','country',\n",
    "                                                   'scale','region',\n",
    "                                                   'ds'])['value'].aggregate('mean').unstack().boxplot(by='GWA',\n",
    "                                                                                                        figsize=(10,5))"
   ]
  },
  {
   "cell_type": "code",
   "execution_count": 60,
   "metadata": {},
   "outputs": [
    {
     "data": {
      "text/plain": [
       "array([<matplotlib.axes._subplots.AxesSubplot object at 0x7fbcaa6aaef0>,\n",
       "       <matplotlib.axes._subplots.AxesSubplot object at 0x7fbcaa660668>],\n",
       "      dtype=object)"
      ]
     },
     "execution_count": 60,
     "metadata": {},
     "output_type": "execute_result"
    },
    {
     "data": {
      "image/png": "[encoded data removed]",
      "text/plain": [
       "<Figure size 720x360 with 2 Axes>"
      ]
     },
     "metadata": {
      "needs_background": "light"
     },
     "output_type": "display_data"
    }
   ],
   "source": [
    "# boxplot GWA3 vs GWA2 monthly data\n",
    "ds = results[(results.param=='rmse')&(results.temp=='m')&(results.scale!='park')&((results.ds=='ERA5_GWA')|(results.ds=='MERRA2_GWA'))].dropna(axis=0)\n",
    "ds = ds[ds.value<2]\n",
    "ds.drop(['temp','param','dataset',\n",
    "         'corsize','system_size'],axis=1).groupby(['GWA','country',\n",
    "                                                   'scale','region',\n",
    "                                                   'ds'])['value'].aggregate('mean').unstack().boxplot(by='GWA',\n",
    "                                                                                                        figsize=(10,5))"
   ]
  },
  {
   "cell_type": "code",
   "execution_count": null,
   "metadata": {},
   "outputs": [],
   "source": []
  },
  {
   "cell_type": "code",
   "execution_count": null,
   "metadata": {},
   "outputs": [],
   "source": []
  },
  {
   "cell_type": "code",
   "execution_count": null,
   "metadata": {},
   "outputs": [],
   "source": []
  },
  {
   "cell_type": "code",
   "execution_count": 8,
   "metadata": {},
   "outputs": [],
   "source": [
    "results = pd.read_pickle('/data/users/kgruber/results/results_USABRA.pkl')"
   ]
  },
  {
   "cell_type": "code",
   "execution_count": 11,
   "metadata": {},
   "outputs": [
    {
     "data": {
      "text/plain": [
       "<matplotlib.legend.Legend at 0x7feda9552c88>"
      ]
     },
     "execution_count": 11,
     "metadata": {},
     "output_type": "execute_result"
    },
    {
     "data": {
      "image/png": "[encoded data removed]",
      "text/plain": [
       "<Figure size 432x288 with 1 Axes>"
      ]
     },
     "metadata": {
      "needs_background": "light"
     },
     "output_type": "display_data"
    }
   ],
   "source": [
    "ds1 = results[(results.param=='rmse')&(results.temp=='m')&(results.scale!='park')].dropna(axis=0)\n",
    "ds2 = results[(results.param=='rmse')&(results.temp=='d')&(results.scale!='park')].dropna(axis=0)\n",
    "ds3 = results[(results.param=='rmse')&(results.temp=='h')&(results.scale!='park')].dropna(axis=0)\n",
    "plt.scatter(ds1.system_size,ds1.value,label='monthly')\n",
    "plt.scatter(ds2.system_size,ds2.value,label='daily')\n",
    "plt.scatter(ds3.system_size,ds3.value,label='hourly')\n",
    "plt.xlabel('system size')\n",
    "plt.ylabel('RMSE')\n",
    "plt.legend()"
   ]
  },
  {
   "cell_type": "code",
   "execution_count": null,
   "metadata": {},
   "outputs": [],
   "source": []
  },
  {
   "cell_type": "code",
   "execution_count": null,
   "metadata": {},
   "outputs": [],
   "source": []
  },
  {
   "cell_type": "code",
   "execution_count": null,
   "metadata": {},
   "outputs": [],
   "source": []
  },
  {
   "cell_type": "code",
   "execution_count": null,
   "metadata": {},
   "outputs": [],
   "source": []
  },
  {
   "cell_type": "code",
   "execution_count": null,
   "metadata": {},
   "outputs": [],
   "source": []
  }
 ],
 "metadata": {
  "kernelspec": {
   "display_name": "Python [conda env:.conda-py37]",
   "language": "python",
   "name": "conda-env-.conda-py37-py"
  },
  "language_info": {
   "codemirror_mode": {
    "name": "ipython",
    "version": 3
   },
   "file_extension": ".py",
   "mimetype": "text/x-python",
   "name": "python",
   "nbconvert_exporter": "python",
   "pygments_lexer": "ipython3",
   "version": "3.7.3"
  }
 },
 "nbformat": 4,
 "nbformat_minor": 2
}
